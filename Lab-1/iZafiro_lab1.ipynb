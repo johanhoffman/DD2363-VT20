{
 "cells": [
  {
   "cell_type": "markdown",
   "metadata": {
    "colab_type": "text",
    "id": "6RgtXlfYO_i7"
   },
   "source": [
    "# **Lab 1: Matrix algorithm**\n",
    "**Fabián Levicán**"
   ]
  },
  {
   "cell_type": "markdown",
   "metadata": {
    "colab_type": "text",
    "id": "9x_J5FVuPzbm"
   },
   "source": [
    "# **Abstract**"
   ]
  },
  {
   "cell_type": "markdown",
   "metadata": {
    "colab_type": "text",
    "id": "6UFTSzW7P8kL"
   },
   "source": [
    "This lab is about using Jupyter to implement five basic matrix algorithms. Three of its objectives are becoming familiar with NumPy in Jupyter, GitHub, and basic computational linear algebra. The functions implemented are scalarProduct, matrixVectorProduct, matrixMatrixProduct, EuclidianNorm and EuclidianDistance. The functions are then used on random arrays and vectors, and the results compare favorably to those obtained by using native numPy routines."
   ]
  },
  {
   "cell_type": "markdown",
   "metadata": {
    "colab_type": "text",
    "id": "OkT8J7uOWpT3"
   },
   "source": [
    "#**About the code**"
   ]
  },
  {
   "cell_type": "code",
   "execution_count": 1,
   "metadata": {
    "colab": {
     "base_uri": "https://localhost:8080/",
     "height": 34
    },
    "colab_type": "code",
    "id": "Pdll1Xc9WP0e",
    "outputId": "f74fa781-413b-41e7-a2ec-1bba2288ad4f"
   },
   "outputs": [
    {
     "data": {
      "text/plain": [
       "'KTH Royal Institute of Technology, Stockholm, Sweden.'"
      ]
     },
     "execution_count": 1,
     "metadata": {},
     "output_type": "execute_result"
    }
   ],
   "source": [
    "\"\"\"DD2363 Methods in Scientific Computing, \"\"\"\n",
    "\"\"\"KTH Royal Institute of Technology, Stockholm, Sweden.\"\"\"\n",
    "\n",
    "# Copyright (C) 2019 Fabián Levicán (fils2@kth.se)\n",
    "\n",
    "# This file is part of the course DD2363 Methods in Scientific Computing\n",
    "# KTH Royal Institute of Technology, Stockholm, Sweden\n",
    "#\n",
    "# This is free software: you can redistribute it and/or modify\n",
    "# it under the terms of the GNU Lesser General Public License as published by\n",
    "# the Free Software Foundation, either version 3 of the License, or\n",
    "# (at your option) any later version."
   ]
  },
  {
   "cell_type": "markdown",
   "metadata": {
    "colab_type": "text",
    "id": "28xLGz8JX3Hh"
   },
   "source": [
    "# **Set up environment**"
   ]
  },
  {
   "cell_type": "code",
   "execution_count": 3,
   "metadata": {
    "colab": {},
    "colab_type": "code",
    "id": "Xw7VlErAX7NS"
   },
   "outputs": [],
   "source": [
    "# Load neccessary modules.\n",
    "from google.colab import files\n",
    "\n",
    "import time\n",
    "import numpy as np"
   ]
  },
  {
   "cell_type": "markdown",
   "metadata": {
    "colab_type": "text",
    "id": "gnO3lhAigLev"
   },
   "source": [
    "# **Introduction**"
   ]
  },
  {
   "cell_type": "markdown",
   "metadata": {
    "colab_type": "text",
    "id": "l5zMzgPlRAF6"
   },
   "source": [
    "The following are implementations of the mathematical operators mentioned in the abstract. The author decided to use scalarProduct in the implementation of matrixVectorProduct, matrixVectorProduct in the implementation of matrixMatrixProduct, and EuclidianNorm in the implementation of EuclidianDistance, as the author believes this is mathematically sound."
   ]
  },
  {
   "cell_type": "markdown",
   "metadata": {
    "colab_type": "text",
    "id": "WeFO9QMeUOAu"
   },
   "source": [
    "# **Methods**"
   ]
  },
  {
   "cell_type": "markdown",
   "metadata": {
    "colab_type": "text",
    "id": "zF4iBj5VURZx"
   },
   "source": [
    "scalarProduct checks that both vectors exist in the same vector space, and then obtains their usual scalar product (dot product).\n",
    "\n",
    "matrixVectorProduct checks that the number of columns of the matrix coincides with the number of rows (coordinates) of the vector, and then obtains the usual matrix-vector product. As mentioned before, it uses the scalarProduct function.\n",
    "\n",
    "matrixMatrixProduct checks that the number of columns of the first matrix coincides with the number of rows of the second matrix, and then obtains the usual matrix-matrix product. As mentioned before, it uses the matrixVectorProduct function on the first matrix and the transpose of the second matrix.\n",
    "\n",
    "EuclidianNorm obtains the usual Euclidian ($l_2$) norm. The author is aware that he could have used the scalarProduct function here also.\n",
    "\n",
    "EuclidianDistance checks that both vectors exist in the same vector space, and then obtains the norm of their difference. As mentioned before, it uses the EuclidianNorm function."
   ]
  },
  {
   "cell_type": "code",
   "execution_count": 5,
   "metadata": {},
   "outputs": [],
   "source": [
    "def scalarProduct(x1, x2):\n",
    "    if(x1.shape[0] != x2.shape[0]):\n",
    "        print(\"The vectors don't exist in the same vector space, so their scalar product can't be calculated\")\n",
    "        return\n",
    "    n = x1.shape[0]\n",
    "    sum = 0\n",
    "    for i in range(x1.shape[0]):\n",
    "        sum += x1[i]*x2[i]\n",
    "    return sum\n",
    "\n",
    "def matrixVectorProduct(A, x):\n",
    "    if(A.shape[1] != x.shape[0]):\n",
    "        print(\"The vector is not in the domain of the linear map, so the matrix-vector product can't be calculated\")\n",
    "        return\n",
    "    result = np.empty(A.shape[0])\n",
    "    for i in range(A.shape[0]):\n",
    "        sum = 0\n",
    "        sum += scalarProduct(A[i], x)\n",
    "        result[i] = sum\n",
    "    return result\n",
    "            \n",
    "\n",
    "def matrixMatrixProduct(A, B):\n",
    "    if(A.shape[1] != B.shape[0]):\n",
    "        print(\"The codomain of the second linear map is not the domain of the first linear map, so the matrix-matrix product can't be calculated\")\n",
    "        return\n",
    "    result = np.empty((B.shape[1], A.shape[0]))\n",
    "    Bt = np.transpose(B)\n",
    "    for i in range(B.shape[1]):\n",
    "        result[i] = matrixVectorProduct(A, Bt[i])\n",
    "    result = np.transpose(result)\n",
    "    return result\n",
    "        \n",
    "def EuclidianNorm(x):\n",
    "    sum = 0\n",
    "    for i in range(x.shape[0]):\n",
    "        sum += x[i]**2\n",
    "    result = sum**.5\n",
    "    return result\n",
    "\n",
    "def EuclidianDistance(x1, x2):\n",
    "    if(x1.shape[0] != x2.shape[0]):\n",
    "        print(\"The vectors don't exist in the same vector space, so the Euclidian distance between them can't be calculated\")\n",
    "        return\n",
    "    diff = x1 - x2\n",
    "    result = EuclidianNorm(diff)\n",
    "    return result"
   ]
  },
  {
   "cell_type": "markdown",
   "metadata": {
    "colab_type": "text",
    "id": "SsQLT38gVbn_"
   },
   "source": [
    "# **Results**"
   ]
  },
  {
   "cell_type": "markdown",
   "metadata": {
    "colab_type": "text",
    "id": "RLwlnOzuV-Cd"
   },
   "source": [
    "First $3$ matrices and $6$ vectors are defined. $M_1$ is of $2 \\times 3$, $M_2$ is of $3 \\times 4$, $M_3$ is of $4 \\times 2$. $v_1$ and $v_4$ are in $\\mathbb{R}^3$, $v_2$ and $v_5$ are in $\\mathbb{R}^4$, and $v_3$ and $v_6$ are in $\\mathbb{R}^2$. Suitable combinations are chosen to test every function, and the results are compared entry-to-entry to the results of the @ numPy operator. In the cases of EuclidianNorm and EuclidianDistance, the results are compared to the results of suitable methods in np.linalg. Finally, for every function an erroneous input is tested."
   ]
  },
  {
   "cell_type": "code",
   "execution_count": 6,
   "metadata": {},
   "outputs": [
    {
     "name": "stdout",
     "output_type": "stream",
     "text": [
      "True\n",
      "True\n",
      "True\n",
      "The vectors don't exist in the same vector space, so their scalar product can't be calculated\n",
      "[ True  True]\n",
      "[ True  True  True]\n",
      "[ True  True  True  True]\n",
      "[ True  True]\n",
      "[ True  True  True]\n",
      "[ True  True  True  True]\n",
      "The vector is not in the domain of the linear map, so the matrix-vector product can't be calculated\n",
      "[[ True  True  True  True]\n",
      " [ True  True  True  True]]\n",
      "[[ True  True]\n",
      " [ True  True]\n",
      " [ True  True]]\n",
      "[[ True  True  True]\n",
      " [ True  True  True]\n",
      " [ True  True  True]\n",
      " [ True  True  True]]\n",
      "The codomain of the second linear map is not the domain of the first linear map, so the matrix-matrix product can't be calculated\n",
      "True\n",
      "True\n",
      "True\n",
      "True\n",
      "True\n",
      "True\n",
      "True\n",
      "True\n",
      "True\n",
      "The vectors don't exist in the same vector space, so the Euclidian distance between them can't be calculated\n"
     ]
    }
   ],
   "source": [
    "M_1 = np.array([[3, 2, 1], [30, 20, 10]])\n",
    "M_2 = np.array([[2, 5, 7, 11], [13, 17, 19, 22], [29, 31, 37, 41]])\n",
    "M_3 = np.array([[1, 2], [3, 4], [5, 6], [7, 8]])\n",
    "v_1 = np.array([22, 55, 77])\n",
    "v_2 = np.array([111, 133, 177, 199])\n",
    "v_3 = np.array([233, 299])\n",
    "v_4 = np.array([-1, -5, -10])\n",
    "v_5 = np.array([-5, 41, 41, -5])\n",
    "v_6 = np.array([42, 42])\n",
    "\n",
    "print(scalarProduct(v_1, v_4) == v_1 @ v_4)\n",
    "print(scalarProduct(v_2, v_5) == v_2 @ v_5)\n",
    "print(scalarProduct(v_3, v_6) == v_3 @ v_6)\n",
    "scalarProduct(v_1, v_2)\n",
    "\n",
    "print(matrixVectorProduct(M_1, v_1) == M_1 @ v_1)\n",
    "print(matrixVectorProduct(M_2, v_2) == M_2 @ v_2)\n",
    "print(matrixVectorProduct(M_3, v_3) == M_3 @ v_3)\n",
    "print(matrixVectorProduct(M_1, v_4) == M_1 @ v_4)\n",
    "print(matrixVectorProduct(M_2, v_5) == M_2 @ v_5)\n",
    "print(matrixVectorProduct(M_3, v_6) == M_3 @ v_6)\n",
    "matrixVectorProduct(M_1, v_2)\n",
    "\n",
    "print(matrixMatrixProduct(M_1, M_2) == M_1 @ M_2)\n",
    "print(matrixMatrixProduct(M_2, M_3) == M_2 @ M_3)\n",
    "print(matrixMatrixProduct(M_3, M_1) == M_3 @ M_1)\n",
    "matrixMatrixProduct(M_1, M_3)\n",
    "\n",
    "print(EuclidianNorm(v_1) == np.linalg.norm(v_1))\n",
    "print(EuclidianNorm(v_2) == np.linalg.norm(v_2))\n",
    "print(EuclidianNorm(v_3) == np.linalg.norm(v_3))\n",
    "print(EuclidianNorm(v_4) == np.linalg.norm(v_4))\n",
    "print(EuclidianNorm(v_5) == np.linalg.norm(v_5))\n",
    "print(EuclidianNorm(v_6) == np.linalg.norm(v_6))\n",
    "\n",
    "print(EuclidianDistance(v_1, v_4) == np.linalg.norm(v_1 - v_4))\n",
    "print(EuclidianDistance(v_2, v_5) == np.linalg.norm(v_2 - v_5))\n",
    "print(EuclidianDistance(v_3, v_6) == np.linalg.norm(v_3 - v_6))\n",
    "EuclidianDistance(v_1, v_2)"
   ]
  },
  {
   "cell_type": "markdown",
   "metadata": {
    "colab_type": "text",
    "id": "_4GLBv0zWr7m"
   },
   "source": [
    "# **Discussion**"
   ]
  },
  {
   "cell_type": "markdown",
   "metadata": {
    "colab_type": "text",
    "id": "6bcsDSoRXHZe"
   },
   "source": [
    "All of the results compare favorably to the correct ones. The functions were easy to implement. To think the problem through, the author collaborated with Felipe Vicencio and Pablo Aravena."
   ]
  }
 ],
 "metadata": {
  "colab": {
   "name": "template-report-lab-X.ipynb",
   "provenance": []
  },
  "kernelspec": {
   "display_name": "Python 3",
   "language": "python",
   "name": "python3"
  },
  "language_info": {
   "codemirror_mode": {
    "name": "ipython",
    "version": 3
   },
   "file_extension": ".py",
   "mimetype": "text/x-python",
   "name": "python",
   "nbconvert_exporter": "python",
   "pygments_lexer": "ipython3",
   "version": "3.6.7"
  }
 },
 "nbformat": 4,
 "nbformat_minor": 1
}
