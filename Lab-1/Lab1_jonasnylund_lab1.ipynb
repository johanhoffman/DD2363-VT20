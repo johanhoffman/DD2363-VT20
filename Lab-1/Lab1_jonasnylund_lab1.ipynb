{
  "nbformat": 4,
  "nbformat_minor": 0,
  "metadata": {
    "colab": {
      "name": "Lab1/jonasnylund_lab1",
      "provenance": [],
      "collapsed_sections": [],
      "authorship_tag": "ABX9TyOAm8nrovRemgsrqkHXMiPk",
      "include_colab_link": true
    },
    "kernelspec": {
      "name": "python3",
      "display_name": "Python 3"
    }
  },
  "cells": [
    {
      "cell_type": "markdown",
      "metadata": {
        "id": "view-in-github",
        "colab_type": "text"
      },
      "source": [
        "<a href=\"https://colab.research.google.com/github/johanhoffman/DD2363-VT20/blob/JonasNylund/Lab1_jonasnylund_lab1.ipynb\" target=\"_parent\"><img src=\"https://colab.research.google.com/assets/colab-badge.svg\" alt=\"Open In Colab\"/></a>"
      ]
    },
    {
      "cell_type": "markdown",
      "metadata": {
        "id": "zMMy_cpyaE7M",
        "colab_type": "text"
      },
      "source": [
        "# Abstract\n",
        "In this lab, we construct a few algorithms for basic matrix operations, and compare their results with numpy for correctness.\n"
      ]
    },
    {
      "cell_type": "code",
      "metadata": {
        "id": "qr-KsbO9Z7uM",
        "colab_type": "code",
        "colab": {}
      },
      "source": [
        "\"\"\"This program is a lab report in the course\"\"\"\n",
        "\"\"\"DD2363 Methods in Scientific Computing, \"\"\"\n",
        "\"\"\"KTH Royal Institute of Technology, Stockholm, Sweden.\"\"\"\n",
        "\n",
        "# Copyright (C) 2019 Jonas Nylund (jonasnyl@kth.se)\n",
        "\n",
        "# This file is part of the course DD2363 Methods in Scientific Computing\n",
        "# KTH Royal Institute of Technology, Stockholm, Sweden\n",
        "#\n",
        "# This is free software: you can redistribute it and/or modify\n",
        "# it under the terms of the GNU Lesser General Public License as published by\n",
        "# the Free Software Foundation, either version 3 of the License, or\n",
        "# (at your option) any later version."
      ],
      "execution_count": 0,
      "outputs": []
    },
    {
      "cell_type": "markdown",
      "metadata": {
        "id": "cKKuZP1eOawn",
        "colab_type": "text"
      },
      "source": [
        "\n",
        "# Introduction\n",
        "Systems of equations can be seen as matrix equations. Solving these systems of equations are analogous to solving a matrix equation. Linear algebra is the core of many numerical methods in computer science, as any real world function can be approximated as linear in small enough intervalls. Therefore it is valuable to know and be albe to solve linear algebra equations. This is why we in this lab implement a few matrix and vector functions.\n",
        "\n",
        "\n",
        "# Methods\n",
        "\n",
        "We define a class for matrices, with a add and multiply function. The matrix can be any size.\n",
        "\n",
        "We then define a subclass, Vector, that is a special case of matrices where one dimension is 1. A vector still has a 'direction', a 1xn vector is a row vector, and a nx1 vector is a column vector. One can be transposed into the other.\n",
        "\n",
        "For vectors, we define a function scalarMultiply, that computed the dot product of two vectors. For this to be defined, they need to have the same size.\n",
        "\n",
        "In matrix multiplication, each cell in the result matrix is computed as the dot product of the corresponding row- and column-vectors in the input matrices. We therefore use the vector class to compute each cell value in the output matrix.\n",
        "\n",
        "We also calculate the euclidian norm of a vector, which is the length of the vector. Having the functionanlty, we can also calculate the distance between two vectors, by subtracting one from the other and taking the norm. "
      ]
    },
    {
      "cell_type": "code",
      "metadata": {
        "id": "VD8dwRu2enDb",
        "colab_type": "code",
        "colab": {}
      },
      "source": [
        "import numpy as np\n",
        "\n",
        "\n",
        "class Matrix:\n",
        "\n",
        "  def __init__(self, data: np.ndarray):\n",
        "    if(type(data) != np.ndarray):\n",
        "      raise TypeError(\"Illegal argument type, should be np.Array\");\n",
        "\n",
        "    self.data = data;\n",
        "    self.size = data.shape;\n",
        "\n",
        "\n",
        "  def __str__(self):\n",
        "    return str(self.data);\n",
        "\n",
        "\n",
        "  def __eq__(self, other):\n",
        "    if(type(other) != Matrix):\n",
        "      return False;\n",
        "    return np.array_equal(self.data, other.data);\n",
        "\n",
        "\n",
        "  def __ne__(self, other):\n",
        "    return not self.__eq__(other);\n",
        "\n",
        "\n",
        "  def negate(self):\n",
        "    result = np.zeros(self.data.shape);\n",
        "    for i in range(self.data.shape[0]):\n",
        "      for j in range(self.data.shape[1]):\n",
        "        result[i][j] = -self.data[i][j];\n",
        "    return Matrix(result);\n",
        "\n",
        "\n",
        "  def add(self, matrix: 'Matrix'):\n",
        "    if(self.data.shape != matrix.data.shape):\n",
        "      raise ValueError(\"Shape error, matrices must share dimension\");\n",
        "\n",
        "    result = np.zeros(self.data.shape);\n",
        "    for i in range(self.data.shape[0]):\n",
        "      for j in range(self.data.shape[1]):\n",
        "        result[i][j] = self.data[i][j] + matrix.data[i][j];\n",
        "    return Matrix(result);\n",
        "\n",
        "\n",
        "  def subtract(self, matrix: 'Matrix'):\n",
        "    temp = matrix.negate();\n",
        "    return self.add(temp);\n",
        "\n",
        "\n",
        "  def multiply(self, matrix: 'Matrix'):\n",
        "    if(self.data.shape[1] != matrix.data.shape[0]):\n",
        "      raise ValueError(\"Shape error, matrices must share dimension\");\n",
        "\n",
        "    result = np.zeros((self.data.shape[0], matrix.data.shape[1]));\n",
        "    for row in range(self.data.shape[0]):\n",
        "      for col in range(matrix.data.shape[1]):\n",
        "        result[row][col] = self.getRow(row).scalarMultiply(matrix.getCol(col).transpose());\n",
        "\n",
        "    return Matrix(result);\n",
        "\n",
        "\n",
        "  def getRow(self, index: int):\n",
        "    if(index >= self.data.shape[0]):\n",
        "      raise IndexError(\"Index out of bounds\");\n",
        "\n",
        "    return Vector(self.data[index,:]);\n",
        "\n",
        "\n",
        "  def getCol(self, index: int):\n",
        "    if(index >= self.data.shape[1]):\n",
        "      raise IndexError(\"Index out of bounds\");\n",
        "\n",
        "    return Vector(self.data[:,index]).transpose();\n",
        "\n",
        "\n",
        "  def transpose(self):\n",
        "    return Vector(self.data.transpose());\n",
        "\n",
        "\n",
        "  def print(self):\n",
        "    print(self.data);\n",
        "\n",
        "\n",
        "\n",
        "\n",
        "class Vector(Matrix):\n",
        "\n",
        "  def __init__(self,data: np.ndarray):\n",
        "    if(type(data) != np.ndarray):\n",
        "      raise TypeError(\"Illegal argument type, should be np.Array\");\n",
        "    if(data.ndim > 1 and not (data.shape[0] == 1 or data.shape[1] == 1)):\n",
        "      raise TypeError(\"Input is not a vector\");\n",
        "\n",
        "    if(data.ndim == 1):\n",
        "      data = np.array([data]);\n",
        "\n",
        "    super(Vector, self).__init__(data);\n",
        "\n",
        "\n",
        "  def scalarMultiply(self, array: 'Vector'):\n",
        "    if(self.data.shape != array.data.shape):\n",
        "      raise ValueError(\"Illegal argument. Arrays must be of the same size and shape\");\n",
        "\n",
        "    result = 0;\n",
        "    for i in range(len(self.data)):\n",
        "      for j in range(len(self.data[i])):\n",
        "        result += self.data[i][j]*array.data[i][j];\n",
        "    return result;\n",
        "\n",
        "  def add(self, other):\n",
        "    return Vector(super(Vector, self).add(other).data);\n",
        "\n",
        "  def norm(self):\n",
        "    val = 0;\n",
        "    for i in range(self.data.shape[0]):\n",
        "      for j in range(self.data.shape[1]):\n",
        "        val += self.data[i][j]**2;\n",
        "\n",
        "    return np.sqrt(val);\n",
        "\n",
        "\n",
        "  def dist(self, other: 'Vector'):\n",
        "    return self.subtract(other).norm();\n",
        "\n",
        "\n"
      ],
      "execution_count": 0,
      "outputs": []
    },
    {
      "cell_type": "markdown",
      "metadata": {
        "id": "xqDXeVliRBUp",
        "colab_type": "text"
      },
      "source": [
        "#Result\n",
        "Testing that the result is correct is done by comparing the output of the function to the output from numpy matrix multiplyer. We test each of the functions with 100 random matrixes and vectors. The tests are performed as unit tests."
      ]
    },
    {
      "cell_type": "code",
      "metadata": {
        "id": "mr7KG7p3qAG4",
        "colab_type": "code",
        "colab": {}
      },
      "source": [
        "def randomVector(len):\n",
        "  a = np.zeros(len);\n",
        "  for i in range(len):\n",
        "    a[i] = random.random()*200-100;\n",
        "\n",
        "  return a;\n",
        "\n",
        "\n",
        "def randomMatrix(n, m):\n",
        "  mat = np.zeros((n,m));\n",
        "\n",
        "  for i in range(n):\n",
        "    for j in range(m):\n",
        "      mat[i][j] = random.random()*200-100;\n",
        "\n",
        "  return mat;\n",
        "\n"
      ],
      "execution_count": 0,
      "outputs": []
    },
    {
      "cell_type": "code",
      "metadata": {
        "id": "lEM-gwainqhv",
        "colab_type": "code",
        "outputId": "e9546177-ce78-4f3b-872e-18e65353c4de",
        "colab": {
          "base_uri": "https://localhost:8080/",
          "height": 237
        }
      },
      "source": [
        "import unittest, random\n",
        "\n",
        "class TestMatrixMethods(unittest.TestCase):\n",
        "  \n",
        "\n",
        "  def test_scalarProduct(self):\n",
        "    for i in range(100):\n",
        "      l = random.randint(2,10);\n",
        "      v1 = randomVector(l);\n",
        "      v2 = randomVector(l);\n",
        "      self.assertEqual(np.dot(v1,v2), Vector(v1).scalarMultiply(Vector(v2)));\n",
        "\n",
        "    with self.assertRaises(ValueError):\n",
        "      v1 = randomVector(4);\n",
        "      v2 = randomVector(5);\n",
        "      Vector(v1).scalarMultiply(Vector(v2));\n",
        "\n",
        "    with self.assertRaises(TypeError):\n",
        "      Vector(np.array([[1,2,3,4],[1,12,34,56]]));\n",
        "\n",
        "\n",
        "  def test_matrixVectorMultiplication(self):\n",
        "    for i in range(100):\n",
        "      l = random.randint(2,10);\n",
        "      n = random.randint(2,10);\n",
        "      x = Vector(randomVector(l)).transpose();\n",
        "      A = Matrix(randomMatrix(n,l));\n",
        "      \n",
        "      self.assertTrue(np.allclose(np.matmul(A.data,x.data), A.multiply(x).data));\n",
        "\n",
        "    for i in range(100):\n",
        "      l = random.randint(2,10);\n",
        "      n = random.randint(2,10);\n",
        "      x = Vector(randomVector(l));\n",
        "      A = Matrix(randomMatrix(l, n));\n",
        "      \n",
        "      self.assertTrue(np.allclose(np.matmul(x.data,A.data), x.multiply(A).data));\n",
        "\n",
        "\n",
        "  def test_matrixMatrixMultiplication(self):\n",
        "    for i in range(100):\n",
        "      l = random.randint(2,10);\n",
        "      m = random.randint(2,10);\n",
        "      n = random.randint(2,10);\n",
        "      A = Matrix(randomMatrix(l,n));\n",
        "      B = Matrix(randomMatrix(n,m));\n",
        "\n",
        "      self.assertTrue(np.allclose(np.matmul(A.data,B.data), A.multiply(B).data));\n",
        "\n",
        "  def test_norm(self):\n",
        "    for i in range(100):\n",
        "      l = random.randint(2,10);\n",
        "      v1 = Vector(randomVector(l));\n",
        "      self.assertTrue(np.isclose(v1.norm(), np.linalg.norm(v1.data)));\n",
        "\n",
        "\n",
        "  def test_dist(self):\n",
        "    for i in range(100):\n",
        "      l = random.randint(2,10);\n",
        "      v1 = Vector(randomVector(l));\n",
        "      v2 = Vector(randomVector(l));\n",
        "      self.assertTrue(np.isclose(v1.dist(v2), np.linalg.norm(v1.data-v2.data)));\n",
        "  \n",
        "  \n",
        "  def test_dimensionsErrorCheck(self):\n",
        "    A = Matrix(randomMatrix(5,4));\n",
        "    B = Matrix(randomMatrix(5,4));\n",
        "    x = Vector(randomVector(3));\n",
        "\n",
        "    with self.assertRaises(ValueError):\n",
        "      A.multiply(B);\n",
        "\n",
        "    with self.assertRaises(ValueError):\n",
        "      A.multiply(x);\n",
        "      \n",
        "    with self.assertRaises(ValueError):\n",
        "      x.multiply(B);\n",
        "\n",
        "\n",
        "unittest.main(argv=[''], verbosity=2, exit=False)\n"
      ],
      "execution_count": 6,
      "outputs": [
        {
          "output_type": "stream",
          "text": [
            "test_dimensionsErrorCheck (__main__.TestMatrixMethods) ... ok\n",
            "test_dist (__main__.TestMatrixMethods) ... ok\n",
            "test_matrixMatrixMultiplication (__main__.TestMatrixMethods) ... ok\n",
            "test_matrixVectorMultiplication (__main__.TestMatrixMethods) ... ok\n",
            "test_norm (__main__.TestMatrixMethods) ... ok\n",
            "test_scalarProduct (__main__.TestMatrixMethods) ... ok\n",
            "\n",
            "----------------------------------------------------------------------\n",
            "Ran 6 tests in 0.155s\n",
            "\n",
            "OK\n"
          ],
          "name": "stderr"
        },
        {
          "output_type": "execute_result",
          "data": {
            "text/plain": [
              "<unittest.main.TestProgram at 0x7f3a20b5b438>"
            ]
          },
          "metadata": {
            "tags": []
          },
          "execution_count": 6
        }
      ]
    },
    {
      "cell_type": "markdown",
      "metadata": {
        "id": "YbuGhp-NViV4",
        "colab_type": "text"
      },
      "source": [
        "All of the tests succed, so we assume the functions are correct.\n",
        "# Discussion\n",
        "These functions use the naive method of multiplication, they might not be very efficient with very large matrices.\n",
        "\n",
        "Overall, the code seems to work as intended"
      ]
    }
  ]
}
