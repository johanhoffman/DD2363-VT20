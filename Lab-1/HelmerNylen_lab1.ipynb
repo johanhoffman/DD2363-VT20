{
  "nbformat": 4,
  "nbformat_minor": 0,
  "metadata": {
    "colab": {
      "name": "Lab 1.ipynb",
      "provenance": [],
      "collapsed_sections": []
    },
    "kernelspec": {
      "name": "python3",
      "display_name": "Python 3"
    }
  },
  "cells": [
    {
      "cell_type": "markdown",
      "metadata": {
        "id": "6RgtXlfYO_i7",
        "colab_type": "text"
      },
      "source": [
        "# **Lab 1: Matrix algorithms**\n",
        "**Helmer Nylén**"
      ]
    },
    {
      "cell_type": "markdown",
      "metadata": {
        "id": "9x_J5FVuPzbm",
        "colab_type": "text"
      },
      "source": [
        "# **Abstract**"
      ]
    },
    {
      "cell_type": "markdown",
      "metadata": {
        "id": "6UFTSzW7P8kL",
        "colab_type": "text"
      },
      "source": [
        "In this lab we implement scalar, matrix-vector and matrix-matrix products as well as Euclidean norm and distance. We verify our implementation against `numpy` equivalents and conclude that the implementation is correct."
      ]
    },
    {
      "cell_type": "markdown",
      "metadata": {
        "id": "OkT8J7uOWpT3",
        "colab_type": "text"
      },
      "source": [
        "#**About the code**"
      ]
    },
    {
      "cell_type": "code",
      "metadata": {
        "id": "Pdll1Xc9WP0e",
        "colab_type": "code",
        "outputId": "d541418b-63a8-4332-f5c6-35756a8d9a17",
        "colab": {
          "base_uri": "https://localhost:8080/",
          "height": 35
        }
      },
      "source": [
        "\"\"\"This program is a lab report in the course\"\"\"\n",
        "\"\"\"DD2363 Methods in Scientific Computing, \"\"\"\n",
        "\"\"\"KTH Royal Institute of Technology, Stockholm, Sweden.\"\"\"\n",
        "\n",
        "# Copyright (C) 2019 Helmer Nylén (helmern@kth.se)\n",
        "\n",
        "# This file is part of the course DD2363 Methods in Scientific Computing\n",
        "# KTH Royal Institute of Technology, Stockholm, Sweden\n",
        "#\n",
        "# This is free software: you can redistribute it and/or modify\n",
        "# it under the terms of the GNU Lesser General Public License as published by\n",
        "# the Free Software Foundation, either version 3 of the License, or\n",
        "# (at your option) any later version."
      ],
      "execution_count": 1,
      "outputs": [
        {
          "output_type": "execute_result",
          "data": {
            "text/plain": [
              "'KTH Royal Institute of Technology, Stockholm, Sweden.'"
            ]
          },
          "metadata": {
            "tags": []
          },
          "execution_count": 1
        }
      ]
    },
    {
      "cell_type": "markdown",
      "metadata": {
        "id": "28xLGz8JX3Hh",
        "colab_type": "text"
      },
      "source": [
        "# **Set up environment**"
      ]
    },
    {
      "cell_type": "code",
      "metadata": {
        "id": "Xw7VlErAX7NS",
        "colab_type": "code",
        "colab": {}
      },
      "source": [
        "# Load neccessary modules.\n",
        "from google.colab import files\n",
        "\n",
        "import time\n",
        "import numpy as np\n",
        "\n",
        "from matplotlib import pyplot as plt\n",
        "from matplotlib import tri\n",
        "from matplotlib import axes\n",
        "from mpl_toolkits.mplot3d import Axes3D"
      ],
      "execution_count": 0,
      "outputs": []
    },
    {
      "cell_type": "markdown",
      "metadata": {
        "id": "gnO3lhAigLev",
        "colab_type": "text"
      },
      "source": [
        "# **Introduction**"
      ]
    },
    {
      "cell_type": "markdown",
      "metadata": {
        "id": "l5zMzgPlRAF6",
        "colab_type": "text"
      },
      "source": [
        "In this report we aim to implement a number of elementary vector and matrix operations, using our own data structures rather than those provided by `numpy`. These are: the scalar product $c = (x, y)$, the matrix-vector product $y = Ax$, the matrix-matrix product $C = AB$, the Euclidean norm $c = ||x||$ and the Euclidean distance $c = ||x - y||$.\n",
        "\n",
        "\n",
        "\n",
        "\n",
        "<!-- Give a short description of the problem investigated in the report, and provide some background information so that the reader can understand the context. \n",
        "\n",
        "Briefly describe what method you have chosen to solve the problem, and justify why you selected that method. \n",
        "\n",
        "Here you can express mathematics through Latex syntax, and use hyperlinks for references.\n",
        "\n",
        "[Hyperlink to DD2363 course website.](https://kth.instructure.com/courses/7500)\n",
        "\n",
        "$\n",
        "{\\displaystyle \\frac{\\partial u}{\\partial t}} + u\\cdot \\nabla u +\\nabla p = f, \\quad \\nabla \\cdot u=0$ -->\n",
        "\n"
      ]
    },
    {
      "cell_type": "markdown",
      "metadata": {
        "id": "WeFO9QMeUOAu",
        "colab_type": "text"
      },
      "source": [
        "# **Methods**"
      ]
    },
    {
      "cell_type": "markdown",
      "metadata": {
        "id": "zF4iBj5VURZx",
        "colab_type": "text"
      },
      "source": [
        "We implement the scalar product and Euclidean norm as in example 1.6 in chapter 1.4 of the lecture notes. For vectors $x, y \\in \\mathbb{R}^n$:\n",
        "$$(x, y) = x \\cdot y = x_1 y_1 + \\ldots + x_n y_n,$$\n",
        "$$||x|| = ||x||_2 = (x, x)^\\frac{1}{2}.$$\n",
        "It follows that the Euclidean distance can be implemented as\n",
        "$$d(x, y) = ||x-y|| = (x-y, x-y)^\\frac{1}{2}.$$\n",
        "\n",
        "The matrix-vector product is implemented as in the beginning of chapter 2.2. Let $A$ be an $m \\times n$ matrix, $x$ an $n$-length vector and $y = Ax$. Then\n",
        "$$y_i = \\sum_{j=1}^n a_{ij} x_j, \\qquad i = 1, \\ldots, m.$$\n",
        "Likewise, the matrix-matrix product is implemented as in eq. 2.2 chapter 2.3. Let $A \\in \\mathbb{R}^{m \\times l}, C \\in \\mathbb{R}^{l \\times n}$. Then $B = AC \\in \\mathbb{R}^{m \\times n}$ is defined by\n",
        "$$b_{ij} = \\sum_{k=1}^{l} a_{ik}c_{kj}.$$\n",
        "\n",
        "In the code  the vectors and matrices will be zero-indexed to make implementation easier."
      ]
    },
    {
      "cell_type": "markdown",
      "metadata": {
        "id": "20r2h6Ss9IWX",
        "colab_type": "text"
      },
      "source": [
        "### Code for the `Vector` class"
      ]
    },
    {
      "cell_type": "code",
      "metadata": {
        "id": "3vwK272b2R78",
        "colab_type": "code",
        "colab": {}
      },
      "source": [
        "class Vector:\n",
        "    def __init__(self, *elems, row = False):\n",
        "        self.elems = tuple(elems)\n",
        "        self.row = row\n",
        "\n",
        "    def __getitem__(self, indices):\n",
        "        return self.elems[indices]\n",
        "    \n",
        "    def __len__(self):\n",
        "        return len(self.elems)\n",
        "    \n",
        "    def __str__(self):\n",
        "        if self.row:\n",
        "            return str(self.elems)\n",
        "        else:\n",
        "            return str(self.elems) + \"^T\"\n",
        "    \n",
        "    def __add__(self, other):\n",
        "        assert len(self) == len(other) and self.row == other.row\n",
        "        return Vector(*(self[i] + other[i] for i in range(len(self))), row=self.row)\n",
        "    \n",
        "    def __sub__(self, other):\n",
        "        assert len(self) == len(other) and self.row == other.row\n",
        "        return Vector(*(self[i] - other[i] for i in range(len(self))), row=self.row)\n",
        "    \n",
        "    def __mul__(self, other):\n",
        "        # Scalar product\n",
        "        if type(other) is Vector:\n",
        "            assert len(self) == len(other) and self.row == other.row\n",
        "            return sum(self[i] * other[i] for i in range(len(self)))\n",
        "\n",
        "        elif type(other) is Matrix:\n",
        "            raise TypeError(\"Please use matrix multiplication\")\n",
        "\n",
        "        else:\n",
        "            return Vector(*(i * other for i in self.elems), row = self.row)\n",
        "    \n",
        "    def __matmul__(self, other):\n",
        "        return self.to_matrix() @ other\n",
        "    \n",
        "    def __iter__(self):\n",
        "        for i in self.elems:\n",
        "            yield i\n",
        "\n",
        "    def __eq__(self, other):\n",
        "        if type(other) is not Vector or len(self) != len(other):\n",
        "            return False\n",
        "        for i in range(len(self)):\n",
        "            if self[i] != other[i]:\n",
        "                return False\n",
        "        return True\n",
        "\n",
        "    def __abs__(self):\n",
        "        # Euclidean norm\n",
        "        return (self * self) ** (1/2)\n",
        "    \n",
        "    def distance(self, other):\n",
        "        # Euclidean distance\n",
        "        return abs(self - other)\n",
        "\n",
        "    def to_matrix(self):\n",
        "        if self.row:\n",
        "            return Matrix(self,)\n",
        "        else:\n",
        "            return Matrix(*((x,) for x in self))\n",
        "    \n",
        "    def T(self):\n",
        "        return Vector(*self.elems, row = not self.row)"
      ],
      "execution_count": 0,
      "outputs": []
    },
    {
      "cell_type": "markdown",
      "metadata": {
        "id": "NAe0HeGf9V9E",
        "colab_type": "text"
      },
      "source": [
        "### Code for the `Matrix` class"
      ]
    },
    {
      "cell_type": "code",
      "metadata": {
        "id": "K6nRwnyR2fRV",
        "colab_type": "code",
        "colab": {}
      },
      "source": [
        "class Matrix:\n",
        "    def __init__(self, *rows):\n",
        "        if len(rows) > 0:\n",
        "            width = len(rows[0])\n",
        "            for row in rows:\n",
        "                assert len(row) == width\n",
        "            self.size = (len(rows), len(rows[0]))\n",
        "        else:\n",
        "            self.size = (0, 0)\n",
        "        self.elems = tuple(tuple(row) for row in rows)\n",
        "    \n",
        "    def __len__(self):\n",
        "        return len(self.elems)\n",
        "    \n",
        "    def __getitem__(self, indices):\n",
        "        return self.elems[indices[0]][indices[1]]\n",
        "\n",
        "    def __matmul__(self, other):\n",
        "        # Matrix-matrix product\n",
        "        if type(other) is Matrix:\n",
        "            assert self.size[1] == other.size[0]\n",
        "            res = [[0] * other.size[1] for x in range(self.size[0])]\n",
        "            for i in range(self.size[0]):\n",
        "                for j in range(other.size[1]):\n",
        "                    res[i][j] = sum(self[i, k] * other[k, j] for k in range(self.size[1]))\n",
        "            return Matrix(*res)\n",
        "            \n",
        "        # Matrix-vector product\n",
        "        elif type(other) is Vector:\n",
        "            assert self.size[1] == len(other) and other.row == False\n",
        "            res = [0] * self.size[0]\n",
        "            for i in range(self.size[0]):\n",
        "                res[i] = sum(self[i, j] * other[j] for j in range(self.size[1]))\n",
        "\n",
        "            return Vector(*res)\n",
        "\n",
        "    def __str__(self):\n",
        "        if self.size == (0, 0):\n",
        "            return \"(())\"\n",
        "        return \"(\" + \",\\n\".join(str(row) for row in self.elems) + \")\"\n",
        "    \n",
        "    def __eq__(self, other):\n",
        "        if type(other) is not Matrix or self.size != other.size:\n",
        "            return False\n",
        "        for i in range(self.size[0]):\n",
        "            for j in range(self.size[1]):\n",
        "                if self[i, j] != other[i, j]:\n",
        "                    return False\n",
        "        return True"
      ],
      "execution_count": 0,
      "outputs": []
    },
    {
      "cell_type": "markdown",
      "metadata": {
        "id": "gXjLSfyBrlJP",
        "colab_type": "text"
      },
      "source": [
        "### Tests\n",
        "\n",
        "To verify the correctness of our implementation we assume that the `numpy` equivalents are correct and compare our results to those. We also perform a number of sanity checks making sure that undefined behaviour (such as calculating the scalar product of vectors of different lengths) is disallowed.\n",
        "\n",
        "We perform the tests on random integer or float data to demonstrate that the implementation works not only for hard-coded data but in general."
      ]
    },
    {
      "cell_type": "code",
      "metadata": {
        "id": "1ZSO9k3C2yjG",
        "colab_type": "code",
        "colab": {}
      },
      "source": [
        "from random import randint, uniform\n",
        "class Tests:\n",
        "    @staticmethod\n",
        "    def randvec(n, randfunc = randint):\n",
        "        return Vector(*(randfunc(-10, 10) for x in range(n)))\n",
        "    @staticmethod\n",
        "    def randmat(n, m, randfunc = randint):\n",
        "        return Matrix(*[[randfunc(-10, 10) for x in range(m)] for y in range(n)])\n",
        "    @staticmethod\n",
        "    def vecmul(randfunc = randint, verbose = False):\n",
        "        n = randint(1, 5)\n",
        "        a = Tests.randvec(n, randfunc)\n",
        "        b = Tests.randvec(n, randfunc)\n",
        "        c = a * b\n",
        "        if verbose:\n",
        "          print(\"a:\", a)\n",
        "          print(\"b:\", b)\n",
        "          print(\"a * b:\", c)\n",
        "        assert a.T() * b.T() == c\n",
        "        assert np.isclose(c, np.array(a.elems).dot(np.array(b.elems)))\n",
        "\n",
        "        try:\n",
        "            b *= Tests.randvec(n + 1, randfunc)\n",
        "        except AssertionError:\n",
        "            if verbose:\n",
        "              print(\"As expected, cannot multiply vectors of different lengths\")\n",
        "        else:\n",
        "            assert False\n",
        "\n",
        "    @staticmethod\n",
        "    def matvecmul(randfunc = randint, verbose = False):\n",
        "        n, m, p = randint(1, 10), randint(1, 10), randint(1, 10)\n",
        "        x = Tests.randvec(m, randfunc)\n",
        "        A = Tests.randmat(n, m, randfunc)\n",
        "        y = A @ x\n",
        "        B = Tests.randmat(p, n, randfunc)\n",
        "        z = B @ y\n",
        "        if verbose:\n",
        "          print(\"x:\", x)\n",
        "          print(\"A:\", A)\n",
        "          print(\"A @ x:\", y)\n",
        "          print(\"B:\", B)\n",
        "          print(\"B @ A @ x:\", z)\n",
        "        \n",
        "        try:\n",
        "            q = A @ Tests.randvec(m + 1, randfunc)\n",
        "        except AssertionError:\n",
        "            if verbose:\n",
        "              print(\"As expected, cannot multiply an (n x m)-matrix with an (m+1)-vector\")\n",
        "        else:\n",
        "            assert False\n",
        "        \n",
        "        assert np.allclose(np.array(z), np.array(B.elems) @ np.array(A.elems) @ np.array(x.elems))\n",
        "\n",
        "        a = Tests.randvec(m, randfunc)\n",
        "        b = Tests.randvec(m, randfunc)\n",
        "        assert a * b == (a.T().to_matrix() @ b)[0]\n",
        "    \n",
        "    @staticmethod\n",
        "    def matmul(randfunc = randint, verbose = False):\n",
        "        n, m, p = randint(1, 10), randint(1, 10), randint(1, 10)\n",
        "        x = Tests.randvec(m, randfunc)\n",
        "        A = Tests.randmat(n, m, randfunc)\n",
        "        B = Tests.randmat(p, n, randfunc)\n",
        "        try:\n",
        "            C = B @ Tests.randmat(n + 1, m, randfunc)\n",
        "        except AssertionError:\n",
        "            if verbose:\n",
        "                print(\"As expected, matrix dimensions must agree\")\n",
        "        else:\n",
        "            assert False\n",
        "        C = B @ A\n",
        "        z = C @ x\n",
        "        if verbose:\n",
        "          print(\"B @ A:\", C)\n",
        "        assert z == B @ (A @ x)\n",
        "        assert np.allclose(np.array(C.elems), np.array(B.elems) @ np.array(A.elems))\n",
        "\n",
        "    @staticmethod\n",
        "    def norm(randfunc = randint, verbose = False):\n",
        "        a = Tests.randvec(randint(1, 10), randfunc)\n",
        "        if verbose:\n",
        "          print(\"a:\", a, \"norm:\", abs(a))\n",
        "        assert np.isclose(abs(a), np.linalg.norm(np.array(a.elems)))\n",
        "\n",
        "    @staticmethod\n",
        "    def dist(randfunc = randint, verbose = False):\n",
        "        n = randint(1, 10)\n",
        "        a = Tests.randvec(n, randfunc)\n",
        "        b = Tests.randvec(n, randfunc)\n",
        "        if verbose:\n",
        "          print(\"a:\", a)\n",
        "          print(\"b:\", b)\n",
        "          print(\"Distance:\", a.distance(b))\n",
        "        assert a.distance(b) == b.distance(a)\n",
        "        assert a.distance(a) == 0\n",
        "        assert np.isclose(a.distance(b), np.linalg.norm(np.array(a.elems) - np.array(b.elems)))"
      ],
      "execution_count": 0,
      "outputs": []
    },
    {
      "cell_type": "markdown",
      "metadata": {
        "id": "SsQLT38gVbn_",
        "colab_type": "text"
      },
      "source": [
        "# **Results**"
      ]
    },
    {
      "cell_type": "code",
      "metadata": {
        "id": "hwf9GaAc3rGK",
        "colab_type": "code",
        "colab": {
          "base_uri": "https://localhost:8080/",
          "height": 35
        },
        "outputId": "c6d70961-a284-4dfb-a454-5f7be9a54e05"
      },
      "source": [
        "for randfunc in [randint, uniform]:\n",
        "  for i in range(1000):\n",
        "    Tests.vecmul(randfunc = randfunc)\n",
        "    Tests.matvecmul(randfunc = randfunc)\n",
        "    Tests.matmul()\n",
        "    Tests.norm()\n",
        "    Tests.dist()\n",
        "\n",
        "print(\"All tests passed\")"
      ],
      "execution_count": 6,
      "outputs": [
        {
          "output_type": "stream",
          "text": [
            "All tests passed\n"
          ],
          "name": "stdout"
        }
      ]
    },
    {
      "cell_type": "markdown",
      "metadata": {
        "id": "RLwlnOzuV-Cd",
        "colab_type": "text"
      },
      "source": [
        "All the tests passed using both integer and float data."
      ]
    },
    {
      "cell_type": "markdown",
      "metadata": {
        "id": "_4GLBv0zWr7m",
        "colab_type": "text"
      },
      "source": [
        "# **Discussion**"
      ]
    },
    {
      "cell_type": "markdown",
      "metadata": {
        "id": "6bcsDSoRXHZe",
        "colab_type": "text"
      },
      "source": [
        "As expected the tests all passed, leading us to believe that the implementation is correct."
      ]
    }
  ]
}