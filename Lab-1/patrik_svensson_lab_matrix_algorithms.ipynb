{
  "nbformat": 4,
  "nbformat_minor": 0,
  "metadata": {
    "colab": {
      "name": "patrik-svensson_lab_matrix_algorithms.ipynb",
      "provenance": [],
      "collapsed_sections": []
    },
    "kernelspec": {
      "name": "python3",
      "display_name": "Python 3"
    }
  },
  "cells": [
    {
      "cell_type": "markdown",
      "metadata": {
        "id": "6RgtXlfYO_i7",
        "colab_type": "text"
      },
      "source": [
        "# **Lab X: Matrix Algorithms**\n",
        "**Patrik Svensson**"
      ]
    },
    {
      "cell_type": "markdown",
      "metadata": {
        "id": "9x_J5FVuPzbm",
        "colab_type": "text"
      },
      "source": [
        "# **Abstract**"
      ]
    },
    {
      "cell_type": "markdown",
      "metadata": {
        "id": "ixOh5-9HXB0N",
        "colab_type": "text"
      },
      "source": [
        "This lab report has aimed to implement five different mathmatical functions in Python. These mathmatical functions are common operations within linear algebra which would be suitable for library functions. To reach this goal the lab was conducted in three steps, firstly a literature research, followed by implementation of the functions, and lastly by testing the functions with unit tests. The result of the lab was that all the tests passed. "
      ]
    },
    {
      "cell_type": "markdown",
      "metadata": {
        "id": "28xLGz8JX3Hh",
        "colab_type": "text"
      },
      "source": [
        "# **Set up environment**"
      ]
    },
    {
      "cell_type": "markdown",
      "metadata": {
        "id": "D2PYNusD08Wa",
        "colab_type": "text"
      },
      "source": [
        "To set up the environment, run the two following lines of code."
      ]
    },
    {
      "cell_type": "code",
      "metadata": {
        "id": "Xw7VlErAX7NS",
        "colab_type": "code",
        "colab": {}
      },
      "source": [
        "import math\n",
        "import numpy as np\n",
        "import unittest"
      ],
      "execution_count": 0,
      "outputs": []
    },
    {
      "cell_type": "markdown",
      "metadata": {
        "id": "gnO3lhAigLev",
        "colab_type": "text"
      },
      "source": [
        "# **Introduction**"
      ]
    },
    {
      "cell_type": "markdown",
      "metadata": {
        "id": "l5zMzgPlRAF6",
        "colab_type": "text"
      },
      "source": [
        "Linear algebra is very common subset of mathmatics that have many appliances in the real world. In this lab we are going to create a library with some of the most common linear algebra operations. In this report there is five different tasks that will be approached. The tasks are completed by implementing code for each function. The lab will implement the following functions.\n",
        "\n",
        "*   Scalar product\n",
        "*   Matrix-vector product\n",
        "*   Matrix-matrix product\n",
        "*   Euclidian norm\n",
        "*   Euclidian distance\n",
        "\n",
        "\n"
      ]
    },
    {
      "cell_type": "markdown",
      "metadata": {
        "id": "WeFO9QMeUOAu",
        "colab_type": "text"
      },
      "source": [
        "# **Methods**"
      ]
    },
    {
      "cell_type": "markdown",
      "metadata": {
        "id": "T4GJrJ97KWC3",
        "colab_type": "text"
      },
      "source": [
        "The method that was used to reach the goal of implmenting the functions consisted of a literature research, implementation, and testing to a assure the correctness of the implementations. It was conducted in the following process.\n",
        "\n",
        "1.   Literature research\n",
        "2.   Implementation\n",
        "3.   Testing\n",
        "\n",
        "Below are the mathmatical formulas that was found from the literature research. Futhermore, the code that implements the mathmatical formulas are provided.\n",
        "\n",
        "## Scalar product\n",
        "To implement the scalar product the following formula has been used. This formula is from the [*Game Physics Cookbook*](https://subscription.packtpub.com/book/game_development/9781787123663/1/ch01lvl1sec12/dot-product).\n",
        "\n",
        "$(x,y) = x*y = x_1y_1 + ... + x_ny_n$ for $x,y \\in R^{n}$\n",
        "\n",
        "The formular has been implemented below in code together with some test code to check the accuracy."
      ]
    },
    {
      "cell_type": "code",
      "metadata": {
        "id": "ajOvCPG_KX8Z",
        "colab_type": "code",
        "colab": {}
      },
      "source": [
        "def scalar_product(x, y):\n",
        "  if x.shape[0] != y.shape[0] or x.ndim != 1 or y.ndim != 1:\n",
        "    raise ValueError(\"Illegal input\")\n",
        "\n",
        "  rows = x.shape[0]\n",
        "  sum = 0\n",
        "  for i in range(0, rows):\n",
        "    sum = (x[i] * y[i]) + sum\n",
        "  \n",
        "  return sum\n"
      ],
      "execution_count": 0,
      "outputs": []
    },
    {
      "cell_type": "markdown",
      "metadata": {
        "id": "BSTTVV0yi5T1",
        "colab_type": "text"
      },
      "source": [
        "The code below is the code to verify the correctness of the scalar product function. "
      ]
    },
    {
      "cell_type": "code",
      "metadata": {
        "id": "7ICdUsetNfhf",
        "colab_type": "code",
        "colab": {}
      },
      "source": [
        "class TestScalarProduct(unittest.TestCase):\n",
        "\n",
        "  def test_wrongdimensions_throwexception(self):\n",
        "    # Arrange\n",
        "    x = np.array([1,2,3])\n",
        "    y = np.array([1,2])\n",
        "\n",
        "    # Act, Assert\n",
        "    self.assertRaises(ValueError, scalar_product, x, y)\n",
        "\n",
        "  def test_matrixasargument_throwexception(self):\n",
        "    # Arrange\n",
        "    x = np.array([[1,2],\n",
        "              [1,2]])\n",
        "    y = np.array([1,2])\n",
        "    self.assertRaises(ValueError, scalar_product, x, y)\n",
        "\n",
        "  def test_validarguments_correctreturnedvalue(self):\n",
        "    # Arrange\n",
        "    expected_value = 14\n",
        "    x = np.array([1,2,3])\n",
        "    y = np.array([1,2,3])\n",
        "\n",
        "    # Act\n",
        "    returned_value =scalar_product(x,y)\n",
        "\n",
        "    # Assert\n",
        "    self.assertEqual(returned_value, expected_value)\n",
        "\n",
        "\n",
        "if __name__ == '__main__':\n",
        "    # Help from user Pierre S. in the stack overflow thread to give the main arguments: \n",
        "    # https://stackoverflow.com/questions/49952317/python3-for-unit-test-attributeerror-module-main-has-no-attribute-kerne \n",
        "    unittest.main(argv=['first-arg-is-ignored'], exit=False)"
      ],
      "execution_count": 0,
      "outputs": []
    },
    {
      "cell_type": "markdown",
      "metadata": {
        "id": "5ioK9qkRPY_8",
        "colab_type": "text"
      },
      "source": [
        "## Matrix-vector product\n",
        "We want to compute $y = Ax$ where $A$ is a mxn matrix and $x$ is a vector. $y$ vector can be calculated by the following formula. \n",
        "$y_i = \\sum_{j=1}^{n} a_{ij}x_j, i = 1,2,3,...,m$. The formula is the generalized version of formula (2.1) that is using a transformation matrix in section 2.3 in *Part I Mathmatics Foundation*."
      ]
    },
    {
      "cell_type": "code",
      "metadata": {
        "id": "fBOqNrdMPiGN",
        "colab_type": "code",
        "colab": {}
      },
      "source": [
        "def matrix_vector_product(A, x):\n",
        "  if A.shape[1] != x.shape[0] or x.ndim != 1 or A.ndim != 2:\n",
        "    raise ValueError(\"Illegal input\")\n",
        "\n",
        "  m = A.shape[0]\n",
        "  n = A.shape[1]\n",
        "\n",
        "  y = np.zeros(m)\n",
        "  for i in range(0, m):\n",
        "    sum = 0.0\n",
        "    for j in range(0, n):\n",
        "      sum = sum + (x[j] * A[i][j])\n",
        "    y[i] = sum \n",
        "  \n",
        "  return y\n"
      ],
      "execution_count": 0,
      "outputs": []
    },
    {
      "cell_type": "markdown",
      "metadata": {
        "id": "Wf3hDefqiw4L",
        "colab_type": "text"
      },
      "source": [
        "The code below is the code to verify the correctness of the matrix-vector function. "
      ]
    },
    {
      "cell_type": "code",
      "metadata": {
        "id": "eaU8NWt2Xr5H",
        "colab_type": "code",
        "colab": {}
      },
      "source": [
        "class TestMatrixVectorProduct(unittest.TestCase):\n",
        "\n",
        "  def test_wrongdimensions_throwexception(self):\n",
        "    # Arrange\n",
        "    A = np.array([[1,2],[1,2]])\n",
        "    x = np.array([1,2,3])\n",
        "\n",
        "    # Act, Assert\n",
        "    self.assertRaises(ValueError, matrix_vector_product, A, x)\n",
        "\n",
        "  def test_twomatriceasargument_throwexception(self):\n",
        "    # Arrange\n",
        "    A = np.array([[1,2],[1,2]])\n",
        "    x = np.array([[1,2],\n",
        "                  [1,2]])\n",
        "    # Act, Assert   \n",
        "    self.assertRaises(ValueError, matrix_vector_product, A, x)\n",
        "\n",
        "  def test_validarguments_correctreturnedvalue(self):\n",
        "    # Arrange\n",
        "    expected_value = np.array([11.0, 10.0])\n",
        "    A = np.array([[1,2,3],\n",
        "              [1,2,2]])\n",
        "    x = np.array([2,3,1])\n",
        "\n",
        "    # Act\n",
        "    returned_value = matrix_vector_product(A, x)\n",
        "\n",
        "    # Assert\n",
        "    np.testing.assert_array_equal(returned_value, expected_value)\n",
        "\n",
        "\n",
        "if __name__ == '__main__':\n",
        "    # Help from user Pierre S. in the stack overflow thread to give the main arguments: \n",
        "    # https://stackoverflow.com/questions/49952317/python3-for-unit-test-attributeerror-module-main-has-no-attribute-kerne \n",
        "    unittest.main(argv=['first-arg-is-ignored'], exit=False)"
      ],
      "execution_count": 0,
      "outputs": []
    },
    {
      "cell_type": "markdown",
      "metadata": {
        "id": "xgZZAYVqLLeR",
        "colab_type": "text"
      },
      "source": [
        "## Matrix-matrix product\n",
        "We want to compute $B = AC$ where $B$ is a mxn matrix, $A$ is a mxl, and $C$ is a lxn matrix. $y$ vector can be calculated by the following formula. The formular is formula (2.2) from section 2.3 in *Part I Mathmatics Foundation*.\n",
        "\n",
        "$b_{ij} = \\sum_{k=1}^{l} a_{ik}c_{kj}$ "
      ]
    },
    {
      "cell_type": "code",
      "metadata": {
        "id": "6NWBUAVULQfD",
        "colab_type": "code",
        "colab": {}
      },
      "source": [
        "def matrix_matrix_product(A, C):\n",
        "  if A.shape[1] != C.shape[0] or A.ndim != 2 or C.ndim != 2:\n",
        "    raise ValueError(\"Illegal input\")\n",
        "\n",
        "  m = A.shape[0]\n",
        "  l = A.shape[1]\n",
        "  n = C.shape[1]\n",
        "\n",
        "  y = np.zeros((m, n))\n",
        "  for i in range(0, m):\n",
        "    for j in range(0, n):\n",
        "      sum = 0.0\n",
        "      for k in range(0, l):\n",
        "        sum = sum + (A[i][k] * C[k][j])\n",
        "      y[i][j] = sum \n",
        "  \n",
        "  return y"
      ],
      "execution_count": 0,
      "outputs": []
    },
    {
      "cell_type": "markdown",
      "metadata": {
        "id": "ZWI25JfAiqrj",
        "colab_type": "text"
      },
      "source": [
        "The code below is the code to verify the correctness of the matrix-matrix product function. "
      ]
    },
    {
      "cell_type": "code",
      "metadata": {
        "id": "bXBt0v14c9c2",
        "colab_type": "code",
        "colab": {}
      },
      "source": [
        "class TestMatrixMatrixProduct(unittest.TestCase):\n",
        "\n",
        "  def test_wrongdimensions_throwexception(self):\n",
        "    # Arrange\n",
        "    A = np.array([[1,2],\n",
        "                  [3,4]])\n",
        "    C = np.array([[1,2],\n",
        "                  [1,2],\n",
        "                  [1,2]])\n",
        "    # Act, Assert\n",
        "    self.assertRaises(ValueError, matrix_matrix_product, A, C)\n",
        "\n",
        "  def test_validarguments_correctreturnedvalue(self):\n",
        "    # Arrange\n",
        "    expected_value = np.array([[5,5],\n",
        "                               [11,11]])\n",
        "    A = np.array([[1,2],\n",
        "                  [3,4]])\n",
        "    C = np.array([[1,1],\n",
        "                  [2,2]])\n",
        "\n",
        "    # Act\n",
        "    returned_value = matrix_matrix_product(A, C)\n",
        "\n",
        "    # Assert\n",
        "    np.testing.assert_array_equal(returned_value, expected_value)\n",
        "\n",
        "\n",
        "if __name__ == '__main__':\n",
        "    # Help from user Pierre S. in the stack overflow thread to give the main arguments: \n",
        "    # https://stackoverflow.com/questions/49952317/python3-for-unit-test-attributeerror-module-main-has-no-attribute-kerne \n",
        "    unittest.main(argv=['first-arg-is-ignored'], exit=False)"
      ],
      "execution_count": 0,
      "outputs": []
    },
    {
      "cell_type": "markdown",
      "metadata": {
        "id": "s1bCTSTfR8nU",
        "colab_type": "text"
      },
      "source": [
        "## Euclidian norm\n",
        "We want to computer the following formula. This formula is the formula (3) from [Wolfram MathWorld](http://mathworld.wolfram.com/Norm.html). $x$ is a vector with the size of $n$.\n",
        "\n",
        "$\\mid x \\mid = \\sqrt{x_{1}^{2}+...+x_{n}^{2}}$"
      ]
    },
    {
      "cell_type": "code",
      "metadata": {
        "id": "5Q2bJNuPihCI",
        "colab_type": "code",
        "colab": {}
      },
      "source": [
        "def euclidian_norm(x):\n",
        "  if x.ndim != 1:\n",
        "    raise ValueError(\"Illegal input\")\n",
        "  sum = 0.0\n",
        "  for i in range(0, x.shape[0]):\n",
        "    sum = sum + math.pow(x[i], 2)\n",
        "  return math.sqrt(sum)\n"
      ],
      "execution_count": 0,
      "outputs": []
    },
    {
      "cell_type": "markdown",
      "metadata": {
        "id": "bPa1HWPOinGE",
        "colab_type": "text"
      },
      "source": [
        "The code below is the code to verify the correctness of the euclidian norm function. "
      ]
    },
    {
      "cell_type": "code",
      "metadata": {
        "id": "Ug5slZt9e5LM",
        "colab_type": "code",
        "colab": {}
      },
      "source": [
        "class TestEuclidianNorm(unittest.TestCase):\n",
        "\n",
        "  def test_matrixasargument_throwexception(self):\n",
        "    # Arrange\n",
        "    x = np.array([[1,2],[1,2]])\n",
        "\n",
        "    # Act, Assert\n",
        "    self.assertRaises(ValueError, euclidian_norm, x)\n",
        "\n",
        "  def test_validarguments_correctreturnedvalue(self):\n",
        "    # Arrange\n",
        "    expected_value = 5\n",
        "    x = np.array([3,4])\n",
        "\n",
        "    # Act\n",
        "    returned_value = euclidian_norm(x)\n",
        "\n",
        "    # Assert\n",
        "    self.assertEqual(returned_value, expected_value)\n",
        "\n",
        "\n",
        "if __name__ == '__main__':\n",
        "    # Help from user Pierre S. in the stack overflow thread to give the main arguments: \n",
        "    # https://stackoverflow.com/questions/49952317/python3-for-unit-test-attributeerror-module-main-has-no-attribute-kerne \n",
        "    unittest.main(argv=['first-arg-is-ignored'], exit=False)"
      ],
      "execution_count": 0,
      "outputs": []
    },
    {
      "cell_type": "markdown",
      "metadata": {
        "id": "zF4iBj5VURZx",
        "colab_type": "text"
      },
      "source": [
        "## Euclidian distance\n",
        "We want to computer the following formula. This formula is the formula (3) from [Wolfram MathWorld](http://mathworld.wolfram.com/Distance.html). $x$ and $y$ is vector with the size of $n$.\n",
        "\n",
        "$d(x,y) = \\sqrt{(x_1-y_1)^2 + ... + (x_n - y_n)^2}$\n"
      ]
    },
    {
      "cell_type": "code",
      "metadata": {
        "id": "TcX6Q6wvxFOj",
        "colab_type": "code",
        "colab": {}
      },
      "source": [
        "def euclidian_distance(x,y):\n",
        "  if x.shape[0] != y.shape[0] or x.ndim != 1 or y.ndim != 1:\n",
        "    raise ValueError(\"Illegal input\")\n",
        "  sum = 0.0\n",
        "  for i in range(0, x.shape[0]):\n",
        "    sum = sum + math.pow(x[i] - y[i], 2)\n",
        "\n",
        "  return math.sqrt(sum)\n"
      ],
      "execution_count": 0,
      "outputs": []
    },
    {
      "cell_type": "markdown",
      "metadata": {
        "id": "jm6XcrkbiYp0",
        "colab_type": "text"
      },
      "source": [
        "The code below is the code to verify the correctness of the euclidian distance function. "
      ]
    },
    {
      "cell_type": "code",
      "metadata": {
        "id": "KdZ6zfXjgG5x",
        "colab_type": "code",
        "colab": {}
      },
      "source": [
        "class TestEuclidianDistance(unittest.TestCase):\n",
        "\n",
        "  def test_wrongvectorsize_throwexception(self):\n",
        "    # Arrange\n",
        "    x = np.array([4,2,3])\n",
        "    y = np.array([3,2,1,1])\n",
        "\n",
        "    # Act, Assert\n",
        "    self.assertRaises(ValueError, euclidian_distance, x, y)\n",
        "\n",
        "  def test_matrixasargument_throwexception(self):\n",
        "    # Arrange\n",
        "    x = np.array([4,2,3])\n",
        "    y = np.array([[3,2,1],[3,4,5]])\n",
        "\n",
        "    # Act, Assert\n",
        "    self.assertRaises(ValueError, euclidian_distance, x, y)\n",
        "\n",
        "  def test_validarguments_correctreturnedvalue(self):\n",
        "    # Arrange\n",
        "    expected_value = math.sqrt(2)\n",
        "    x = np.array([1,0])\n",
        "    y = np.array([0,1])\n",
        "\n",
        "\n",
        "    returned_value = euclidian_distance(x,y)\n",
        "\n",
        "    # Assert\n",
        "    self.assertEqual(returned_value, expected_value)\n",
        "\n",
        "\n",
        "if __name__ == '__main__':\n",
        "    # Help from user Pierre S. in the stack overflow thread to give the main arguments: \n",
        "    # https://stackoverflow.com/questions/49952317/python3-for-unit-test-attributeerror-module-main-has-no-attribute-kerne \n",
        "    unittest.main(argv=['first-arg-is-ignored'], exit=False)"
      ],
      "execution_count": 0,
      "outputs": []
    },
    {
      "cell_type": "markdown",
      "metadata": {
        "id": "SsQLT38gVbn_",
        "colab_type": "text"
      },
      "source": [
        "# **Results**\n",
        "This is the results from running the tests decribed in the method section. The last part of the section provides a result that all the written test are accepted. \n",
        "\n",
        "## Scalar product\n",
        "First test result: Exception thrown\n",
        "\n",
        "Second test result: Exception thrown\n",
        "\n",
        "Third test result: 14\n",
        "## Matrix-vector product\n",
        "First test result: Exception thrown\n",
        "\n",
        "Second test result: Exception thrown\n",
        "\n",
        "Third test result: [11, 10]\n",
        "\n",
        "## Matrix-matrix product\n",
        "First test result: Exception\n",
        "\n",
        "Second test result: [[ 5.,  5.],\n",
        "                   [11., 11.]]\n",
        "\n",
        "## Euclidian norm\n",
        "First test result: Exception thrown\n",
        "\n",
        "Second test result: 5\n",
        "\n",
        "## Euclidian distance\n",
        "First test result: Exception thrown\n",
        "\n",
        "Second test result: Exception thrown\n",
        "\n",
        "Third test result: $\\sqrt{2}$"
      ]
    },
    {
      "cell_type": "code",
      "metadata": {
        "id": "ZnGrfesBpWBX",
        "colab_type": "code",
        "colab": {
          "base_uri": "https://localhost:8080/",
          "height": 104
        },
        "outputId": "802fcffb-860f-431e-dcd6-fa9ab87bdec6"
      },
      "source": [
        "if __name__ == '__main__':\n",
        "    # Help from user Pierre S. in the stack overflow thread to give the main arguments: \n",
        "    # https://stackoverflow.com/questions/49952317/python3-for-unit-test-attributeerror-module-main-has-no-attribute-kerne \n",
        "    unittest.main(argv=['first-arg-is-ignored'], exit=False)"
      ],
      "execution_count": 43,
      "outputs": [
        {
          "output_type": "stream",
          "text": [
            "................\n",
            "----------------------------------------------------------------------\n",
            "Ran 16 tests in 0.028s\n",
            "\n",
            "OK\n"
          ],
          "name": "stderr"
        }
      ]
    },
    {
      "cell_type": "markdown",
      "metadata": {
        "id": "_4GLBv0zWr7m",
        "colab_type": "text"
      },
      "source": [
        "# **Discussion**"
      ]
    },
    {
      "cell_type": "markdown",
      "metadata": {
        "id": "6bcsDSoRXHZe",
        "colab_type": "text"
      },
      "source": [
        "The result points towards that the implemented functions are correct since all the tests gave the expected outcome. The test has indicated that the implementation give the right returned values from the functions, and also that the functions uses some guards for improper input. Since there are already numerous implementations of the alorithms in libraries, the result does not provide much value to the world of research. "
      ]
    }
  ]
}