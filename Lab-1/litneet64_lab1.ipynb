{
  "nbformat": 4,
  "nbformat_minor": 0,
  "metadata": {
    "colab": {
      "name": "pjan2_lab1.ipynb",
      "provenance": [],
      "collapsed_sections": []
    },
    "kernelspec": {
      "display_name": "Python 3",
      "language": "python",
      "name": "python3"
    },
    "language_info": {
      "codemirror_mode": {
        "name": "ipython",
        "version": 3
      },
      "file_extension": ".py",
      "mimetype": "text/x-python",
      "name": "python",
      "nbconvert_exporter": "python",
      "pygments_lexer": "ipython3",
      "version": "3.7.5"
    }
  },
  "cells": [
    {
      "cell_type": "markdown",
      "metadata": {
        "colab_type": "text",
        "id": "6RgtXlfYO_i7"
      },
      "source": [
        "# **Lab 1: Matrix Algorithms**\n",
        "**Pablo Aravena**"
      ]
    },
    {
      "cell_type": "markdown",
      "metadata": {
        "colab_type": "text",
        "id": "9x_J5FVuPzbm"
      },
      "source": [
        "# **Abstract**"
      ]
    },
    {
      "cell_type": "markdown",
      "metadata": {
        "colab_type": "text",
        "id": "6UFTSzW7P8kL"
      },
      "source": [
        " We are faced with the task of programming Python implementations for common linear algebra operations. For the code, the author took an approach of transparency line-by-line (with comments for almost each of them) while still trying to condense most functionality in Python one-liners.\n",
        " \n",
        " Afterwards, the functions are tested against single cases (for easier visualization) and finally with a bulk of randomized test cases (dimension-wise and element-wise), in which we only show the rate of successful cases against the total of them. Verifying those test cases was easy as numpy already implements those very same functions."
      ]
    },
    {
      "cell_type": "markdown",
      "metadata": {
        "colab_type": "text",
        "id": "OkT8J7uOWpT3"
      },
      "source": [
        "# **About the code**"
      ]
    },
    {
      "cell_type": "code",
      "metadata": {
        "colab_type": "code",
        "id": "Pdll1Xc9WP0e",
        "outputId": "9dc997f2-bb48-4e20-b484-aac638339104",
        "colab": {
          "base_uri": "https://localhost:8080/",
          "height": 34
        }
      },
      "source": [
        "\"\"\"DD2363 Methods in Scientific Computing, \"\"\"\n",
        "\"\"\"KTH Royal Institute of Technology, Stockholm, Sweden.\"\"\"\n",
        "\n",
        "# Copyright (C) 2019 Pablo Aravena (pjan2@kth.se)\n",
        "\n",
        "# Based on the template by Johan Hoffman (jhoffman@kth.se)\n",
        "# This file is part of the course DD2363 Methods in Scientific Computing\n",
        "# KTH Royal Institute of Technology, Stockholm, Sweden\n",
        "#\n",
        "# This is free software: you can redistribute it and/or modify\n",
        "# it under the terms of the GNU Lesser General Public License as published by\n",
        "# the Free Software Foundation, either version 3 of the License, or\n",
        "# (at your option) any later version."
      ],
      "execution_count": 3,
      "outputs": [
        {
          "output_type": "execute_result",
          "data": {
            "text/plain": [
              "'KTH Royal Institute of Technology, Stockholm, Sweden.'"
            ]
          },
          "metadata": {
            "tags": []
          },
          "execution_count": 3
        }
      ]
    },
    {
      "cell_type": "markdown",
      "metadata": {
        "colab_type": "text",
        "id": "28xLGz8JX3Hh"
      },
      "source": [
        "# **Set up environment**"
      ]
    },
    {
      "cell_type": "code",
      "metadata": {
        "colab_type": "code",
        "id": "Xw7VlErAX7NS",
        "colab": {}
      },
      "source": [
        "# Load neccessary modules.\n",
        "from google.colab import files\n",
        "\n",
        "import numpy as np\n",
        "from math import sqrt"
      ],
      "execution_count": 0,
      "outputs": []
    },
    {
      "cell_type": "markdown",
      "metadata": {
        "colab_type": "text",
        "id": "gnO3lhAigLev"
      },
      "source": [
        "# **Introduction**"
      ]
    },
    {
      "cell_type": "markdown",
      "metadata": {
        "id": "fC7sWjPE2X9C",
        "colab_type": "text"
      },
      "source": [
        "We implement 5 different functions for basic linear algebra concepts, the first one being the dot product (or scalar product) between vectors, a matrix - vector product, matrix - matrix product and the extras of euclidean norm and distance for vectors. The author included extra code for special cases or problems related with the space the objects reside in that could appear later in the randomized rows/cols test cases."
      ]
    },
    {
      "cell_type": "markdown",
      "metadata": {
        "colab_type": "text",
        "id": "WeFO9QMeUOAu"
      },
      "source": [
        "# **Methods**"
      ]
    },
    {
      "cell_type": "markdown",
      "metadata": {
        "id": "K8yzio7v2X9G",
        "colab_type": "text"
      },
      "source": [
        "#### Vector - Vector  Scalar Product\n",
        "\n",
        "\n",
        "$ d  = x \\cdot y = \\sum_{1 \\leq i \\leq n} x_i \\cdot y_i $, where $x, y \\in \\mathbb{R}^n$ and $d \\in \\mathbb{R}$\n",
        "\n",
        "All numpy vectors (arrays) should have $1$ row and $n$ columns."
      ]
    },
    {
      "cell_type": "code",
      "metadata": {
        "id": "wpmGIpV52khU",
        "colab_type": "code",
        "colab": {}
      },
      "source": [
        "# dot product\n",
        "def scalarProduct(x, y):\n",
        "    # check if both vectors aren't on different vector spaces\n",
        "    valid = True if x.shape == y.shape else False\n",
        "    \n",
        "    # if correct number of rows and cols\n",
        "    if valid:\n",
        "        sum = 0\n",
        "        # multiply all col values\n",
        "        for i in range(x.shape[1]):\n",
        "            sum += x[0][i] * y[0][i]\n",
        "        \n",
        "        # return scalar product\n",
        "        return sum\n",
        "        \n",
        "    # invalid rows and cols, no output\n",
        "    return\n"
      ],
      "execution_count": 0,
      "outputs": []
    },
    {
      "cell_type": "markdown",
      "metadata": {
        "id": "qGBVXNRa2X9L",
        "colab_type": "text"
      },
      "source": [
        "#### Matrix - Vector Product\n",
        "\n",
        "We reused code from the previous implementation, as to not write similar pieces twice and build up from simple constructs. The main idea is to multiply every row with the same $x$ vector, using the scalar product with every row vector from the matrix.\n",
        "\n",
        "$ A \\cdot x = $ $ \n",
        "   \\begin{bmatrix} \n",
        "        A_1 \\\\\n",
        "        A_2 \\\\\n",
        "        \\vdots \\\\\n",
        "        A_m\n",
        "   \\end{bmatrix}\n",
        "$\n",
        "$\n",
        "   \\cdot x = \\begin{bmatrix}\n",
        "      A_1 \\cdot x \\\\\n",
        "      A_2 \\cdot x \\\\\n",
        "      \\vdots \\\\\n",
        "      A_m \\cdot x \\\\\n",
        "   \\end{bmatrix}\n",
        "$, where $ x \\in \\mathbb{R}^{n x 1}, A \\in \\mathbb{R}^{m x n}$ and $ A_i \\in \\mathbb{R}^{1 x n}$, $ i \\in \\{1,2,\\dots,m\\}$"
      ]
    },
    {
      "cell_type": "code",
      "metadata": {
        "id": "KB8MP7WX2X9N",
        "colab_type": "code",
        "colab": {}
      },
      "source": [
        "# matrix vector product\n",
        "def matrixVectorProduct(x, A):\n",
        "    # check validity of rows and columns for vector and matrix multiplication\n",
        "    valid = True if A.shape[1] == x.shape[0] else False\n",
        "    \n",
        "    # b vector ends up in R^nx1 (n x k * k x 1 = n x 1)\n",
        "    b = np.zeros((A.shape[0], x.shape[1]))\n",
        "    \n",
        "    # multiply only if they posess correct rows and columns\n",
        "    if valid:\n",
        "        # current column\n",
        "        col = 0\n",
        "        \n",
        "        # go through matrix rows\n",
        "        for row in range(A.shape[0]):\n",
        "            # re use scalar product function\n",
        "            b[col, x.shape[1] - 1] = scalarProduct(np.array([x[:, 0]]), np.array([A[row]]))\n",
        "            col += 1\n",
        "            \n",
        "        # return b vector if scalar is not None\n",
        "        if None not in b:\n",
        "            return b\n",
        "    \n",
        "    # empty result\n",
        "    return\n"
      ],
      "execution_count": 0,
      "outputs": []
    },
    {
      "cell_type": "markdown",
      "metadata": {
        "id": "VJQ6ut_22X9R",
        "colab_type": "text"
      },
      "source": [
        "#### Matrix - Matrix Product\n",
        "\n",
        "The author reused again the previous function as to take advantage of it, multiplying every row of the first matrix ($A$) with the columns of the second one ($B$) and then replacing them as columns on the new generated matrix.\n",
        "\n",
        "\\begin{equation*}\n",
        "A \\cdot B = \n",
        "\\begin{bmatrix}\n",
        "    A_1 \\\\\n",
        "    A_2 \\\\\n",
        "    \\vdots \\\\\n",
        "    A_m\n",
        "\\end{bmatrix}\n",
        "\\begin{bmatrix}\n",
        "    B_1 &\n",
        "    B_2 &\n",
        "    \\dots &\n",
        "    B_j\n",
        "\\end{bmatrix}=\n",
        "\\begin{bmatrix}\n",
        "    \\begin{pmatrix}\n",
        "       A_1 \\cdot B_1 \\\\\n",
        "       A_2 \\cdot B_1 \\\\\n",
        "       \\vdots \\\\\n",
        "       A_m \\cdot B_1\n",
        "    \\end{pmatrix} &\n",
        "    \\begin{pmatrix}\n",
        "       A_1 \\cdot B_2 \\\\\n",
        "       A_2 \\cdot B_2 \\\\\n",
        "       \\vdots \\\\\n",
        "       A_m \\cdot B_2\n",
        "    \\end{pmatrix} &\n",
        "    \\dots &\n",
        "    \\begin{pmatrix}\n",
        "       A_1 \\cdot B_j \\\\\n",
        "       A_2 \\cdot B_j \\\\\n",
        "       \\vdots \\\\\n",
        "       A_m \\cdot B_j\n",
        "    \\end{pmatrix}\n",
        "\\end{bmatrix}\n",
        "\\end{equation*}\n",
        "\n",
        "where $A \\in \\mathbb{R}^{mxn}$, $B \\in \\mathbb{R}^{nxj}$, $A_i \\in \\mathbb{R}^{1xn}$ and $B_k \\in \\mathbb{R}^{nx1}$, with\n",
        "$i \\in \\{1,\\dots, m\\}$ and $k \\in \\{1,\\dots, j\\}$"
      ]
    },
    {
      "cell_type": "code",
      "metadata": {
        "id": "SL0qNweV2X9T",
        "colab_type": "code",
        "colab": {}
      },
      "source": [
        "# matrix to matrix product\n",
        "def matrixMatrixProduct(A, B):\n",
        "    # check validity of rows and cols for both matrices\n",
        "    valid = True if A.shape[1] == B.shape[0] else False\n",
        "    \n",
        "    # multiply only if valid rows and cols\n",
        "    if valid:\n",
        "        # matrix with results\n",
        "        new_matrix = np.zeros((A.shape[0], B.shape[1]))\n",
        "        \n",
        "        # run through first matrix rows\n",
        "        for col in range(new_matrix.shape[1]):\n",
        "            # get column vector as row vector and shift it to column\n",
        "            temp_B = B[:, col].reshape((B.shape[0], 1))\n",
        "            \n",
        "            # reuse Matrix-Vector product function\n",
        "            new_col = matrixVectorProduct(temp_B, A)\n",
        "            \n",
        "            # check first if there wasn't an error on any calculation and replace column with vector\n",
        "            if None not in new_col:\n",
        "                new_matrix[:, col] = new_col[:, 0]\n",
        "            # otherwise immediately return None\n",
        "            else:\n",
        "                return\n",
        "            \n",
        "        # return product matrix\n",
        "        return new_matrix\n",
        "    \n",
        "    # return None as failure\n",
        "    return\n",
        "    "
      ],
      "execution_count": 0,
      "outputs": []
    },
    {
      "cell_type": "markdown",
      "metadata": {
        "id": "QbD8TFMW2X9Z",
        "colab_type": "text"
      },
      "source": [
        "#### Euclidean Norm\n",
        "\n",
        "We implemented the next operation:\n",
        "\n",
        "$||x|| = \\sqrt{x_1^2 + x_2^2 + \\dots + x_n^2}$, where $x \\in \\mathbb{R}^n$ and $||x|| \\in \\mathbb{R}$\n",
        "\n",
        "It expects a numpy array of $1$ row and $n$ columns."
      ]
    },
    {
      "cell_type": "code",
      "metadata": {
        "id": "R8kNAUdq2X9b",
        "colab_type": "code",
        "colab": {}
      },
      "source": [
        "# euclidean norm\n",
        "def euclideanNorm(x):\n",
        "    sum = 0\n",
        "    \n",
        "    # go through every element in vector\n",
        "    for col in range(x.shape[1]):\n",
        "        # sum = x0^2 + x1^2 + ... + xn^2\n",
        "        sum += x[0, col]**2\n",
        "        \n",
        "    # return square root\n",
        "    return sqrt(sum)\n",
        "    "
      ],
      "execution_count": 0,
      "outputs": []
    },
    {
      "cell_type": "markdown",
      "metadata": {
        "id": "BXRikrwa2X9g",
        "colab_type": "text"
      },
      "source": [
        "#### Euclidean Distance\n",
        "\n",
        "The author reused the same euclidean norm function used before to calculate the distance, as:\n",
        "\n",
        "\\begin{align*}\n",
        "|x - y| = |(x_1, x_2, \\dots, x_n) - (y_1, y_2, \\dots, y_n)| =\\\\\n",
        "|(x_1-y_1, x_2-y_2,\\dots, x_n-y_n)| = \\\\\n",
        "\\sqrt{(x_1 - y_1)^2 + (x_2 - y_2)^2 + \\dots + (x_n - y_n)^2}\n",
        "\\end{align*}\n",
        "\n",
        "Here both $x$ and $y$ should be numpy arrays of $1$ row and $n$ columns."
      ]
    },
    {
      "cell_type": "code",
      "metadata": {
        "id": "7Kl2d0TN2X9i",
        "colab_type": "code",
        "colab": {}
      },
      "source": [
        "# euclidean distance\n",
        "def euclideanDistance(x, y):\n",
        "    valid = True if x.shape[1] == y.shape[1] else False\n",
        "    \n",
        "    # if both vectors share the same vector space\n",
        "    if valid:\n",
        "        # return euclidean norm of vector substraction \n",
        "        return euclideanNorm(x - y)\n",
        "            \n",
        "    # return None if they mismatch number of cols\n",
        "    return\n"
      ],
      "execution_count": 0,
      "outputs": []
    },
    {
      "cell_type": "markdown",
      "metadata": {
        "id": "jtUv3B0u2X9n",
        "colab_type": "text"
      },
      "source": [
        "#### Traversal and Main Tester Functions\n",
        "\n",
        "The author made a traversal function for general testing, in which we only need the function id and whether the parameters to be used are vectors or not. After that, a main testing function leverages the previous one inside some loops to create 1000 test cases for every function with randomized dimensions and elements on the vectors/matrices, and verifies the results with correct ones provided by numpy implementations of the same ones.\n",
        "At the end we present the rate of successful test cases against the known correct ones."
      ]
    },
    {
      "cell_type": "code",
      "metadata": {
        "id": "E6ehOLuC2X9q",
        "colab_type": "code",
        "colab": {}
      },
      "source": [
        "# generic tester function (helper for main tester)\n",
        "def testHelper(func_id, is_p1_vector, is_p2_vector):\n",
        "    # random generated rows and columns accordingly to matrix/vector (m x n -- k x j)\n",
        "    # vector -- vector\n",
        "    #    1 x n -- 1 x j\n",
        "    # matrix -- vector\n",
        "    #    m x n -- n x 1\n",
        "    # matrix -- matrix\n",
        "    #    m x n -- n x j\n",
        "    m = 1 if is_p1_vector else np.random.randint(1, 10)\n",
        "    n = np.random.randint(1, 10)\n",
        "    k = 1 if (is_p1_vector and is_p2_vector) else n\n",
        "    j = 1 if is_p2_vector else np.random.randint(1, 10)\n",
        "\n",
        "    \n",
        "    # generate vector or matrix for test cases\n",
        "    x = np.random.rand(m, n)\n",
        "    y = np.random.rand(k, j)\n",
        "    \n",
        "    # vector -- vector (scalar) product \n",
        "    if func_id == 0:\n",
        "        test_val = scalarProduct(x, y)\n",
        "        try:\n",
        "            real_val = np.inner(x, y)[0][0]\n",
        "        except:\n",
        "            real_val = None\n",
        "        \n",
        "    # matrix -- vector product\n",
        "    elif func_id == 1:\n",
        "        test_val = matrixVectorProduct(y, x)\n",
        "        real_val = x @ y\n",
        "        \n",
        "    # matrix -- matrix product\n",
        "    elif func_id == 2:\n",
        "        test_val = matrixMatrixProduct(x, y)\n",
        "        real_val = x @ y\n",
        "        \n",
        "    # vector euclidean norm\n",
        "    elif func_id == 3:\n",
        "        test_val = euclideanNorm(x)\n",
        "        real_val = np.linalg.norm(x)\n",
        "        \n",
        "    # vector -- vector euclidean distance\n",
        "    else:\n",
        "        test_val = euclideanDistance(x, y)\n",
        "        real_val = np.linalg.norm(x - y) if x.shape[1] == y.shape[1] else None\n",
        "    \n",
        "    # if results are scalars\n",
        "    if func_id in [0, 3, 4]:\n",
        "        return test_val == real_val\n",
        "    \n",
        "    # otherwise compare matrices (with default relative and absolute tolerance)\n",
        "    return np.allclose(test_val, real_val)\n",
        "\n",
        "\n",
        "\n",
        "# main tester function\n",
        "def testCases():\n",
        "    # truth values dictionary for different functions\n",
        "    # where 1 implies positional parameter is a vector\n",
        "    # and 0 implies is a matrix\n",
        "    mat_or_vec = {\n",
        "                '0': [1, 1],\n",
        "                '1': [0, 1],\n",
        "                '2': [0, 0],\n",
        "                '3': [1, 1],\n",
        "                '4': [1, 1]\n",
        "                }\n",
        "\n",
        "    # dictionary with id's mapped to function names\n",
        "    functions = {'0': 'scalarProduct',\n",
        "                 '1': 'matrixVectorProduct',\n",
        "                 '2': 'matrixMatrixProduct',\n",
        "                 '3': 'euclideanNorm',\n",
        "                 '4': 'euclideanDistance'\n",
        "                }\n",
        "    \n",
        "    # total of test cases for every function\n",
        "    total = 1000\n",
        "\n",
        "    # create test cases for each function\n",
        "    for f_id in range(5):\n",
        "        success = 0\n",
        "        # run total of test cases for every one of them\n",
        "        for test_case in range(total):\n",
        "            # call traveler test helper function\n",
        "            res = testHelper(f_id, mat_or_vec[str(f_id)][0], mat_or_vec[str(f_id)][1])\n",
        "        \n",
        "            # if test case and real value are the same\n",
        "            if res:\n",
        "                # add up to the success counter\n",
        "                success += 1\n",
        "        \n",
        "        # rate of successful test cases\n",
        "        success_rate = 100.0 * success / total\n",
        "        print(f\"[+] Success rate for \\'{functions[str(f_id)]}\\': {success_rate}%\")\n",
        "        "
      ],
      "execution_count": 0,
      "outputs": []
    },
    {
      "cell_type": "markdown",
      "metadata": {
        "colab_type": "text",
        "id": "SsQLT38gVbn_"
      },
      "source": [
        "# **Results**"
      ]
    },
    {
      "cell_type": "markdown",
      "metadata": {
        "colab_type": "text",
        "id": "RLwlnOzuV-Cd"
      },
      "source": [
        "The next segment of code shows very simple test cases for each function and then bulk tests for each one. It works as intended for every one of them."
      ]
    },
    {
      "cell_type": "code",
      "metadata": {
        "id": "HuKlZ64Y2X9y",
        "colab_type": "code",
        "colab": {
          "base_uri": "https://localhost:8080/",
          "height": 764
        },
        "outputId": "de549b4f-1898-4420-a043-815f872464ab"
      },
      "source": [
        "print(\"\\t Singular Test Cases\")\n",
        "\n",
        "# basic vector -- vector (scalar) product test case\n",
        "x, y = np.array([[1,1,1,1]]), np.array([[1,1,1,1]])\n",
        "print(\"-\"*50)\n",
        "print(f\"[+] Scalar product: {scalarProduct(x, y)}\")\n",
        "print(f\"[-] Real scalar product: {np.inner(x ,y)[0][0]}\")\n",
        "print(\"-\"*50)\n",
        "\n",
        "\n",
        "# basic matrix -- vector product test case\n",
        "x = np.array([[1], [2], [3], [4]])\n",
        "A = np.ones((4,4))\n",
        "\n",
        "print(\"-\"*50)\n",
        "print(f\"[+] Matrix-Vector Product: \\n{matrixVectorProduct(x, A)}\")\n",
        "print(f\"[-] Real Matrix-Vector product is: \\n{A @ x}\")\n",
        "print(\"-\"*50)\n",
        "\n",
        "\n",
        "# basic matrix -- matrix product test case\n",
        "A = np.array([[1,1,1], [1,1,1], [1,1,1]])\n",
        "B = np.array([[1,1,1,1,2], [1,1,1,1,2], [1,1,1,1,2]])\n",
        "\n",
        "print(\"-\"*50)\n",
        "print(f\"[+] Matrix to Matrix product: \\n{matrixMatrixProduct(A, B)}\")\n",
        "print(f\"[-] Real Matrix-Matrix product is: \\n{A @ B}\")\n",
        "print(\"-\"*50)\n",
        "\n",
        "\n",
        "# basic euclidean norm test case\n",
        "x = np.array([[1,4,5,8]])\n",
        "print(\"-\"*50)\n",
        "print(f\"[+] Norm is: {euclideanNorm(x)}\")\n",
        "print(f\"[-] Real euclidean norm is: {np.linalg.norm(x)}\")\n",
        "print(\"-\"*50)\n",
        "\n",
        "\n",
        "# basic euclidean distance test case\n",
        "x = np.array([[1, 2, 3 ,4]])\n",
        "y = np.array([[1, 1, 1, 1]])\n",
        "\n",
        "print(\"-\"*50)\n",
        "print(f\"[+] Euclidean distance between x and y is: {euclideanDistance(x,y)}\")\n",
        "print(f\"[-] Real euclidean distance is: {np.linalg.norm(x - y)}\")\n",
        "print(\"-\"*50)\n",
        "\n",
        "# make generic tests\n",
        "print(\"\\t Bulk Test Cases' Stats (1000 per Function)\\n\")\n",
        "testCases()\n",
        "print(\"-\"*50)"
      ],
      "execution_count": 9,
      "outputs": [
        {
          "output_type": "stream",
          "text": [
            "\t Singular Test Cases\n",
            "--------------------------------------------------\n",
            "[+] Scalar product: 4\n",
            "[-] Real scalar product: 4\n",
            "--------------------------------------------------\n",
            "--------------------------------------------------\n",
            "[+] Matrix-Vector Product: \n",
            "[[10.]\n",
            " [10.]\n",
            " [10.]\n",
            " [10.]]\n",
            "[-] Real Matrix-Vector product is: \n",
            "[[10.]\n",
            " [10.]\n",
            " [10.]\n",
            " [10.]]\n",
            "--------------------------------------------------\n",
            "--------------------------------------------------\n",
            "[+] Matrix to Matrix product: \n",
            "[[3. 3. 3. 3. 6.]\n",
            " [3. 3. 3. 3. 6.]\n",
            " [3. 3. 3. 3. 6.]]\n",
            "[-] Real Matrix-Matrix product is: \n",
            "[[3 3 3 3 6]\n",
            " [3 3 3 3 6]\n",
            " [3 3 3 3 6]]\n",
            "--------------------------------------------------\n",
            "--------------------------------------------------\n",
            "[+] Norm is: 10.295630140987\n",
            "[-] Real euclidean norm is: 10.295630140987\n",
            "--------------------------------------------------\n",
            "--------------------------------------------------\n",
            "[+] Euclidean distance between x and y is: 3.7416573867739413\n",
            "[-] Real euclidean distance is: 3.7416573867739413\n",
            "--------------------------------------------------\n",
            "\t Bulk Test Cases' Stats (1000 per Function)\n",
            "\n",
            "[+] Success rate for 'scalarProduct': 100.0%\n",
            "[+] Success rate for 'matrixVectorProduct': 100.0%\n",
            "[+] Success rate for 'matrixMatrixProduct': 100.0%\n",
            "[+] Success rate for 'euclideanNorm': 100.0%\n",
            "[+] Success rate for 'euclideanDistance': 100.0%\n",
            "--------------------------------------------------\n"
          ],
          "name": "stdout"
        }
      ]
    },
    {
      "cell_type": "markdown",
      "metadata": {
        "colab_type": "text",
        "id": "_4GLBv0zWr7m"
      },
      "source": [
        "# **Discussion**"
      ]
    },
    {
      "cell_type": "markdown",
      "metadata": {
        "colab_type": "text",
        "id": "6bcsDSoRXHZe"
      },
      "source": [
        "The success rate for every function shows that they work as intended. A collaboration with Fabián Levicán and Felipe Vicencio was made for sharing some interesting ideas in the making of the tests and other subjects related to the reuse of code."
      ]
    }
  ]
}