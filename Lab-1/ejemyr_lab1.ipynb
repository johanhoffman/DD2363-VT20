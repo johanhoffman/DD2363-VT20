{
 "cells": [
  {
   "cell_type": "markdown",
   "metadata": {
    "colab_type": "text",
    "id": "view-in-github"
   },
   "source": [
    "<a href=\"https://colab.research.google.com/github/johanhoffman/DD2363-VT20/blob/ejemyr/Lab-1/ejemyr_lab1.ipynb\" target=\"_parent\"><img src=\"https://colab.research.google.com/assets/colab-badge.svg\" alt=\"Open In Colab\"/></a>"
   ]
  },
  {
   "cell_type": "markdown",
   "metadata": {
    "colab_type": "text",
    "id": "6RgtXlfYO_i7"
   },
   "source": [
    "# **Lab 1: Matrix algorithms**\n",
    "**Christoffer Ejemyr**"
   ]
  },
  {
   "cell_type": "markdown",
   "metadata": {
    "colab_type": "text",
    "id": "9x_J5FVuPzbm"
   },
   "source": [
    "# **Abstract**\n",
    "\n",
    "In this report we implement the most fundamental vector and matrix algorithms. They are compared to the solutions of the highly regarded package numpy. All algorithms passed down to the seventh decimal."
   ]
  },
  {
   "cell_type": "markdown",
   "metadata": {
    "colab_type": "text",
    "id": "OkT8J7uOWpT3"
   },
   "source": [
    "# **About the code**"
   ]
  },
  {
   "cell_type": "code",
   "execution_count": 1,
   "metadata": {
    "colab": {
     "base_uri": "https://localhost:8080/",
     "height": 34
    },
    "colab_type": "code",
    "id": "Pdll1Xc9WP0e",
    "outputId": "ce1a945e-2dae-4530-cb4d-1236274284c0"
   },
   "outputs": [
    {
     "data": {
      "text/plain": [
       "'KTH Royal Institute of Technology, Stockholm, Sweden.'"
      ]
     },
     "execution_count": 1,
     "metadata": {},
     "output_type": "execute_result"
    }
   ],
   "source": [
    "\"\"\"This program is a template for lab reports in the course\"\"\"\n",
    "\"\"\"DD2363 Methods in Scientific Computing, \"\"\"\n",
    "\"\"\"KTH Royal Institute of Technology, Stockholm, Sweden.\"\"\"\n",
    "\n",
    "# Copyright (C) 2019 Christoffer Ejemyr (ejemyr@kth.se)\n",
    "\n",
    "# This file is part of the course DD2363 Methods in Scientific Computing\n",
    "# KTH Royal Institute of Technology, Stockholm, Sweden\n",
    "#\n",
    "# This is free software: you can redistribute it and/or modify\n",
    "# it under the terms of the GNU Lesser General Public License as published by\n",
    "# the Free Software Foundation, either version 3 of the License, or\n",
    "# (at your option) any later version."
   ]
  },
  {
   "cell_type": "markdown",
   "metadata": {
    "colab_type": "text",
    "id": "28xLGz8JX3Hh"
   },
   "source": [
    "# **Set up environment**"
   ]
  },
  {
   "cell_type": "code",
   "execution_count": 2,
   "metadata": {
    "colab": {},
    "colab_type": "code",
    "id": "Xw7VlErAX7NS"
   },
   "outputs": [],
   "source": [
    "# Load neccessary modules.\n",
    "# from google.colab import files\n",
    "\n",
    "import time\n",
    "import numpy as np\n",
    "import unittest\n",
    "\n",
    "from matplotlib import pyplot as plt\n",
    "from matplotlib import tri\n",
    "from matplotlib import axes\n",
    "from mpl_toolkits.mplot3d import Axes3D\n",
    "\n",
    "class Tests(unittest.TestCase):\n",
    "    @staticmethod\n",
    "    def check_accuracy(est, true, decimal = 7):\n",
    "        np.testing.assert_almost_equal(est, true, decimal=decimal)\n",
    "\n",
    "    @staticmethod\n",
    "    def check_accuracy_multiple_random(num_of_tests, generating_func, decimal = 7):\n",
    "        for i in range(num_of_tests):\n",
    "            est, true = generating_func()\n",
    "            Tests.check_accuracy(est, true, decimal)\n"
   ]
  },
  {
   "cell_type": "markdown",
   "metadata": {
    "colab_type": "text",
    "id": "gnO3lhAigLev"
   },
   "source": [
    "# **Introduction**\n",
    "\n",
    "In this lab we will define multiplication of the most fundamental parts of linear algebra; vectors and matrices. They will ble implemented acording to the algorithms described in the course's literature."
   ]
  },
  {
   "cell_type": "markdown",
   "metadata": {
    "colab_type": "text",
    "id": "WeFO9QMeUOAu"
   },
   "source": [
    "# **Methods**"
   ]
  },
  {
   "cell_type": "markdown",
   "metadata": {
    "colab_type": "text",
    "id": "uwVrMhGQ4viZ"
   },
   "source": [
    "### Scalar product"
   ]
  },
  {
   "cell_type": "code",
   "execution_count": 3,
   "metadata": {
    "colab": {},
    "colab_type": "code",
    "id": "jqrNhl6Np2Ze"
   },
   "outputs": [],
   "source": [
    "def scalar_product(x, y):\n",
    "    if type(x) != np.ndarray:\n",
    "        try:\n",
    "            x = np.array(x)\n",
    "        except:\n",
    "            raise Exception(\"Vector format error.\\n\" + \"x: \" + str(x) + \"\\ny: \" + str(y))\n",
    "    if type(y) != np.ndarray:\n",
    "        try:\n",
    "            y = np.array(y)\n",
    "        except:\n",
    "            raise Exception(\"Vector format error.\\n\" + \"x: \" + str(x) + \"\\ny: \" + str(y))\n",
    "\n",
    "    if x.ndim != 1 or y.ndim != 1:\n",
    "        raise Exception(\"Vector dimentions error.\\n\" + \"x: \" + str(x) + \"\\ny: \" + str(y))\n",
    "    if x.size != y.size:\n",
    "        raise Exception(\"Vector formats don't agree.\\n\" + \"x: \" + str(x) + \"\\ny: \" + str(y))\n",
    "    \n",
    "    sum = 0\n",
    "    for i in range(len(x)):\n",
    "        sum += x[i] * y[i]\n",
    "\n",
    "    return sum"
   ]
  },
  {
   "cell_type": "code",
   "execution_count": 4,
   "metadata": {
    "colab": {},
    "colab_type": "code",
    "id": "CDxXDYtrrQ-a"
   },
   "outputs": [],
   "source": [
    "class Tests(Tests):\n",
    "    def test_scalar_product(self):\n",
    "        with self.assertRaises(Exception):\n",
    "            scalar_product([1,2], [1,2,3])\n",
    "        with self.assertRaises(Exception):\n",
    "            scalar_product([[0,0],[0,0]], [[0,0],[0,0]])\n",
    "        with self.assertRaises(Exception):\n",
    "            scalar_product([\"s\",2], [1,3])\n",
    "        with self.assertRaises(Exception):\n",
    "            scalar_product(\"Hej\", [1,2,3])\n",
    "\n",
    "        min_length = 1\n",
    "        max_length = 100\n",
    "        def genetator():\n",
    "            n = np.random.randint(min_length, max_length)\n",
    "            a = np.random.rand(n)\n",
    "            b = np.random.rand(n)\n",
    "            return scalar_product(a, b), a.dot(b)\n",
    "\n",
    "        Tests.check_accuracy_multiple_random(1000, genetator)"
   ]
  },
  {
   "cell_type": "markdown",
   "metadata": {
    "colab_type": "text",
    "id": "FNWnhrnD4jmh"
   },
   "source": [
    "### Matrix-vector product"
   ]
  },
  {
   "cell_type": "code",
   "execution_count": 5,
   "metadata": {
    "colab": {},
    "colab_type": "code",
    "id": "j7rPWYYP4iUV"
   },
   "outputs": [],
   "source": [
    "def matrix_vector_product(M, x):\n",
    "    if type(M) != np.ndarray:\n",
    "        try:\n",
    "            M = np.array(M)\n",
    "        except:\n",
    "            raise Exception(\"Matrix format error.\\n\" + \"M: \" + str(M))\n",
    "    if type(x) != np.ndarray:\n",
    "        try:\n",
    "            x = np.array(x)\n",
    "        except:\n",
    "            raise Exception(\"Vector format error.\\n\" + \"x: \" + str(x))\n",
    "\n",
    "    if x.ndim != 1 or M.ndim != 2:\n",
    "        raise Exception(\"Matrix or vector dimentions error.\\n\" + \"M: \" + str(M) + \"\\nx: \" + str(x))\n",
    "    if M.shape[1] != x.size:\n",
    "        raise Exception(\"Matrix and vector formats don't agree.\\n\" + \"M: \" + str(M) + \"\\nx: \" + str(x))\n",
    "\n",
    "    b = np.zeros(M.shape[0])\n",
    "    for i in range(M.shape[0]):\n",
    "        for j in range(M.shape[1]):\n",
    "            b[i] += M[i, j] * x[j]\n",
    "\n",
    "    return b"
   ]
  },
  {
   "cell_type": "code",
   "execution_count": 6,
   "metadata": {
    "colab": {},
    "colab_type": "code",
    "id": "53zAuKI06Ona"
   },
   "outputs": [],
   "source": [
    "class Tests(Tests):\n",
    "    def test_matrix_vector_product(self):\n",
    "        with self.assertRaises(Exception):\n",
    "            scalar_product([[0,0],[0,0]], [1,2,3])\n",
    "        with self.assertRaises(Exception):\n",
    "            scalar_product([[0,0],[0,0]], [\"Hej\", \"Hå\"])\n",
    "\n",
    "        min_length = 1\n",
    "        max_length = 100\n",
    "        def genetator():\n",
    "            n = np.random.randint(min_length, max_length)\n",
    "            m = np.random.randint(min_length, max_length)\n",
    "            x = np.random.rand(n)\n",
    "            M = np.random.rand(m, n)\n",
    "            return matrix_vector_product(M, x), M.dot(x)\n",
    "\n",
    "        Tests.check_accuracy_multiple_random(1000, genetator)"
   ]
  },
  {
   "cell_type": "markdown",
   "metadata": {
    "colab_type": "text",
    "id": "mEWh21BX8mzG"
   },
   "source": [
    "### Matrix-Matrix product"
   ]
  },
  {
   "cell_type": "code",
   "execution_count": 7,
   "metadata": {
    "colab": {},
    "colab_type": "code",
    "id": "2UAZ0QxV8mLb"
   },
   "outputs": [],
   "source": [
    "def matrix_matrix_product(A, B):\n",
    "    def format_test(M, name):\n",
    "        if type(M) != np.ndarray:\n",
    "            try:\n",
    "                M = np.array(M)\n",
    "            except:\n",
    "                raise Exception(\"Matrix format error.\\n\" + name + \": \" + str(M))\n",
    "\n",
    "        if M.ndim != 2:\n",
    "            raise Exception(\"Matrix dimentions error.\\n\" + name + \": \" + str(M))\n",
    "    format_test(A, \"A\")\n",
    "    format_test(B, \"B\")\n",
    "    \n",
    "    if A.shape[1] != B.shape[0]:\n",
    "        raise Exception(\"Matrix formats don't agree.\\n\" + \"A: \" + str(A) + \"\\nB: \" + str(B))\n",
    "    \n",
    "    \n",
    "    C = np.zeros((A.shape[0], B.shape[1]))\n",
    "    for i in range(A.shape[0]):\n",
    "        for j in range(B.shape[1]):\n",
    "            for k in range(A.shape[1]):\n",
    "                C[i, j] += A[i, k] * B[k, j]\n",
    "\n",
    "    return C"
   ]
  },
  {
   "cell_type": "code",
   "execution_count": 8,
   "metadata": {
    "colab": {},
    "colab_type": "code",
    "id": "bI2zuBOP9lIx"
   },
   "outputs": [],
   "source": [
    "class Tests(Tests):\n",
    "    def test_matrix_matrix_product(self):\n",
    "        with self.assertRaises(Exception):\n",
    "            scalar_product([[0,0,0],[0,0,0]], [[0,0],[0,0]])\n",
    "        with self.assertRaises(Exception):\n",
    "            scalar_product([[0,0],[0,0]], [[\"Hej\"], [\"Hå\"]])\n",
    "\n",
    "        min_length = 1\n",
    "        max_length = 100\n",
    "        def genetator():\n",
    "            i = np.random.randint(min_length, max_length)\n",
    "            j = np.random.randint(min_length, max_length)\n",
    "            k = np.random.randint(min_length, max_length)\n",
    "            A = np.random.rand(i, j)\n",
    "            B = np.random.rand(j, k)\n",
    "            return matrix_matrix_product(A, B), A.dot(B)\n",
    "\n",
    "        Tests.check_accuracy_multiple_random(100, genetator)"
   ]
  },
  {
   "cell_type": "markdown",
   "metadata": {
    "colab_type": "text",
    "id": "SsQLT38gVbn_"
   },
   "source": [
    "# **Results**"
   ]
  },
  {
   "cell_type": "markdown",
   "metadata": {},
   "source": [
    "To test the methods and to receive a result we test both the error handling and the accuracy of the methods. Sice we don't have any known solution to the expresions tested we compare with a solution known to be exact enough. It is difficult to know where the limit of an \"accurate\" result lie. In this lab i've chosen to check that all result lie within a 7 decimal margin.\n",
    "\n",
    "The test first checks that exceptions are raised when entering incompatible inputs, and then somwhere between 100 and 1000 random vectors or matricies are tested for accuracy according to the method described above."
   ]
  },
  {
   "cell_type": "code",
   "execution_count": 9,
   "metadata": {
    "colab": {
     "base_uri": "https://localhost:8080/",
     "height": 102
    },
    "colab_type": "code",
    "id": "G1hVxfti4Ib-",
    "outputId": "159525fa-e6f3-4acb-c401-f8b9d8ab9928"
   },
   "outputs": [
    {
     "name": "stderr",
     "output_type": "stream",
     "text": [
      "...\n",
      "----------------------------------------------------------------------\n",
      "Ran 3 tests in 20.209s\n",
      "\n",
      "OK\n"
     ]
    }
   ],
   "source": [
    "suite = unittest.TestSuite()\n",
    "suite.addTest(Tests('test_scalar_product'))\n",
    "suite.addTest(Tests('test_matrix_vector_product'))\n",
    "suite.addTest(Tests('test_matrix_matrix_product'))\n",
    "\n",
    "if __name__ == '__main__':\n",
    "    runner = unittest.TextTestRunner()\n",
    "    runner.run(suite)"
   ]
  },
  {
   "cell_type": "markdown",
   "metadata": {},
   "source": [
    "All the test passes, meaning that the potential floating-point-errors is within an acceptable level."
   ]
  },
  {
   "cell_type": "markdown",
   "metadata": {
    "colab_type": "text",
    "id": "_4GLBv0zWr7m"
   },
   "source": [
    "# **Discussion**"
   ]
  },
  {
   "cell_type": "markdown",
   "metadata": {},
   "source": [
    "Rather non-supricing all methods passed the tests. Since all implemented algorithms have a unique and mathematically explicit way of calculationg the result there ain't much room for error."
   ]
  }
 ],
 "metadata": {
  "colab": {
   "collapsed_sections": [],
   "include_colab_link": true,
   "name": "ejemyr_lab1.ipynb",
   "provenance": [],
   "toc_visible": true
  },
  "kernelspec": {
   "display_name": "Python 3",
   "language": "python",
   "name": "python3"
  },
  "language_info": {
   "codemirror_mode": {
    "name": "ipython",
    "version": 3
   },
   "file_extension": ".py",
   "mimetype": "text/x-python",
   "name": "python",
   "nbconvert_exporter": "python",
   "pygments_lexer": "ipython3",
   "version": "3.8.1"
  }
 },
 "nbformat": 4,
 "nbformat_minor": 1
}
