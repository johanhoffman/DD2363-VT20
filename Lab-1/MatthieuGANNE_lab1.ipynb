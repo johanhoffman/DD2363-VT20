{
  "nbformat": 4,
  "nbformat_minor": 0,
  "metadata": {
    "colab": {
      "name": "Copy of template-report-lab-X.ipynb",
      "provenance": []
    },
    "kernelspec": {
      "name": "python3",
      "display_name": "Python 3"
    }
  },
  "cells": [
    {
      "cell_type": "markdown",
      "metadata": {
        "id": "6RgtXlfYO_i7",
        "colab_type": "text"
      },
      "source": [
        "# **Lab 1: Matrix algorithms**\n",
        "**Matthieu GANNE**"
      ]
    },
    {
      "cell_type": "markdown",
      "metadata": {
        "id": "9x_J5FVuPzbm",
        "colab_type": "text"
      },
      "source": [
        "# **Abstract**"
      ]
    },
    {
      "cell_type": "markdown",
      "metadata": {
        "id": "6UFTSzW7P8kL",
        "colab_type": "text"
      },
      "source": [
        "\n",
        "This lab is a summary of the basic function when someone wants to work on vector and matrix.This contains the implementation of the scalar product, the matrix-vector product, the matrix-matrix product and the computation of the euclidian norm and distance.\n",
        "\n",
        "We implemeted also the Strassen algorithm for the matrix-matrix product."
      ]
    },
    {
      "cell_type": "markdown",
      "metadata": {
        "id": "OkT8J7uOWpT3",
        "colab_type": "text"
      },
      "source": [
        "#**About the code**"
      ]
    },
    {
      "cell_type": "code",
      "metadata": {
        "id": "Pdll1Xc9WP0e",
        "colab_type": "code",
        "outputId": "f74fa781-413b-41e7-a2ec-1bba2288ad4f",
        "colab": {
          "base_uri": "https://localhost:8080/",
          "height": 34
        }
      },
      "source": [
        "\"\"\"DD2363 Methods in Scientific Computing, \"\"\"\n",
        "\"\"\"KTH Royal Institute of Technology, Stockholm, Sweden.\"\"\"\n",
        "\n",
        "# Copyright (C) 2019 Matthieu GANNE (jhoffman@kth.se)\n",
        "\n",
        "# This file is part of the course DD2363 Methods in Scientific Computing\n",
        "# KTH Royal Institute of Technology, Stockholm, Sweden\n",
        "#\n",
        "# This is free software: you can redistribute it and/or modify\n",
        "# it under the terms of the GNU Lesser General Public License as published by\n",
        "# the Free Software Foundation, either version 3 of the License, or\n",
        "# (at your option) any later version."
      ],
      "execution_count": 0,
      "outputs": [
        {
          "output_type": "execute_result",
          "data": {
            "text/plain": [
              "'KTH Royal Institute of Technology, Stockholm, Sweden.'"
            ]
          },
          "metadata": {
            "tags": []
          },
          "execution_count": 1
        }
      ]
    },
    {
      "cell_type": "markdown",
      "metadata": {
        "id": "28xLGz8JX3Hh",
        "colab_type": "text"
      },
      "source": [
        "# **Set up environment**"
      ]
    },
    {
      "cell_type": "markdown",
      "metadata": {
        "id": "D2PYNusD08Wa",
        "colab_type": "text"
      },
      "source": [
        "To have access to the neccessary modules you have to run this cell. If you need additional modules, this is where you add them. "
      ]
    },
    {
      "cell_type": "code",
      "metadata": {
        "id": "Xw7VlErAX7NS",
        "colab_type": "code",
        "colab": {}
      },
      "source": [
        "# Load neccessary modules.\n",
        "from google.colab import files\n",
        "\n",
        "import time\n",
        "import numpy as np\n",
        "\n",
        "from matplotlib import pyplot as plt\n",
        "from matplotlib import tri\n",
        "from matplotlib import axes\n",
        "from mpl_toolkits.mplot3d import Axes3D"
      ],
      "execution_count": 0,
      "outputs": []
    },
    {
      "cell_type": "markdown",
      "metadata": {
        "id": "gnO3lhAigLev",
        "colab_type": "text"
      },
      "source": [
        "# **Introduction**"
      ]
    },
    {
      "cell_type": "markdown",
      "metadata": {
        "id": "l5zMzgPlRAF6",
        "colab_type": "text"
      },
      "source": [
        "\n",
        "We will show you the implementation of classic mathematical functions that are used to manipulate scalars and matrix.\n",
        "\n",
        "\n",
        "There is also the [Strassen algorithm](https://en.wikipedia.org/wiki/Strassen_algorithm ) for the Matrix-Matrix product.\n",
        "\n"
      ]
    },
    {
      "cell_type": "markdown",
      "metadata": {
        "id": "WeFO9QMeUOAu",
        "colab_type": "text"
      },
      "source": [
        "# **Methods**"
      ]
    },
    {
      "cell_type": "markdown",
      "metadata": {
        "id": "zF4iBj5VURZx",
        "colab_type": "text"
      },
      "source": [
        "All the method start by checking the input then compute.We do not optimize the cache here. "
      ]
    },
    {
      "cell_type": "markdown",
      "metadata": {
        "id": "tCXoHwXia6IE",
        "colab_type": "text"
      },
      "source": [
        "## ***Scalar Product***\n"
      ]
    },
    {
      "cell_type": "markdown",
      "metadata": {
        "id": "b1UnpuIdbGUQ",
        "colab_type": "text"
      },
      "source": [
        "$x * y = \\sum_{i=1}^n x_i y_i, x,y \\in \\mathbb{R}^n$"
      ]
    },
    {
      "cell_type": "markdown",
      "metadata": {
        "id": "LhKoVaWebzKO",
        "colab_type": "text"
      },
      "source": [
        "### Function\n"
      ]
    },
    {
      "cell_type": "code",
      "metadata": {
        "id": "Mob4iWiabpZD",
        "colab_type": "code",
        "colab": {}
      },
      "source": [
        "def scalar_product(x,y):\n",
        "    if(x.ndim != 1):\n",
        "        return \"x is not a vector with 1 dim\"\n",
        "    if(y.ndim != 1):\n",
        "        return \"y is not a vector with 1 dim\"\n",
        "    dim = x.shape[0]\n",
        "    if dim != y.shape[0]:\n",
        "        return \"y and x do not have the same size\"\n",
        "\n",
        "    result = 0\n",
        "    for i in range(dim):\n",
        "        result += x[i]*y[i]\n",
        "\n",
        "    return result\n"
      ],
      "execution_count": 0,
      "outputs": []
    },
    {
      "cell_type": "markdown",
      "metadata": {
        "id": "FWaQDhyKb7BP",
        "colab_type": "text"
      },
      "source": [
        "### Test\n"
      ]
    },
    {
      "cell_type": "code",
      "metadata": {
        "id": "LuL-MILXb-e2",
        "colab_type": "code",
        "colab": {}
      },
      "source": [
        "def test_scalar():\n",
        "     for i in range(20):\n",
        "        T1 = np.random.randint(10,size=250)\n",
        "        T2 = np.random.randint(10,size=250)\n",
        "        result = scalar_product(T1,T2)\n",
        "        soluce = np.dot(T1,T2)\n",
        "        assert np.array_equal(result,soluce) == True, \"error Scalar\"\n"
      ],
      "execution_count": 0,
      "outputs": []
    },
    {
      "cell_type": "markdown",
      "metadata": {
        "id": "RGhksm9CcC8d",
        "colab_type": "text"
      },
      "source": [
        "## ***Matrix-Vector Product***"
      ]
    },
    {
      "cell_type": "markdown",
      "metadata": {
        "id": "Hv3_XYnTcUVt",
        "colab_type": "text"
      },
      "source": [
        "$Ax = b, A\\in \\mathbb{R}^{m \\times n}, x \\in \\mathbb{R}^n$\n",
        "\n",
        "$b_{ij} =\\sum_{j=1}^n a_{ij} x_j$"
      ]
    },
    {
      "cell_type": "markdown",
      "metadata": {
        "id": "RXyWVOvichWv",
        "colab_type": "text"
      },
      "source": [
        "### Function\n"
      ]
    },
    {
      "cell_type": "code",
      "metadata": {
        "id": "9a3q9KNBckeK",
        "colab_type": "code",
        "colab": {}
      },
      "source": [
        "def matrix_vector_product(A,x):\n",
        "    if(x.ndim != 1):\n",
        "        return \"x is not a vector with 1 dim\"\n",
        "    dimX = x.shape[0]\n",
        "    if(A.shape[1] != dimX):\n",
        "        return \"size does not match for a product\"\n",
        "\n",
        "    dimA = A.shape[0]\n",
        "    result = np.zeros(dimA)\n",
        "    for i in range(dimA):\n",
        "        for j in range(dimX):\n",
        "            result[i] += A[i,j]*x[j]\n",
        "    return result"
      ],
      "execution_count": 0,
      "outputs": []
    },
    {
      "cell_type": "markdown",
      "metadata": {
        "id": "gu3XVGB2cpIw",
        "colab_type": "text"
      },
      "source": [
        "### Test"
      ]
    },
    {
      "cell_type": "code",
      "metadata": {
        "id": "LAWbhB08cuyP",
        "colab_type": "code",
        "colab": {}
      },
      "source": [
        "def test_matrix_scalar():\n",
        "    for i in range(20):\n",
        "        x = np.random.randint(10,size=250)\n",
        "        A = np.random.randint(10,size=(250,250))\n",
        "        result = matrix_vector_product(A,x)\n",
        "        soluce = np.dot(A,x)\n",
        "        assert np.array_equal(result,soluce) == True, \"error Scalar Matrix\"\n"
      ],
      "execution_count": 0,
      "outputs": []
    },
    {
      "cell_type": "markdown",
      "metadata": {
        "id": "7ZdHstEVczYT",
        "colab_type": "text"
      },
      "source": [
        "## **Matrix-Matrix Product**\n"
      ]
    },
    {
      "cell_type": "markdown",
      "metadata": {
        "id": "_uSgs4x9c91R",
        "colab_type": "text"
      },
      "source": [
        "$AB = C, A\\in \\mathbb{R}^{m\\times l} B\\in \\mathbb{R}^{l\\times n}$\n",
        "\n",
        "$c_{ij} = \\sum_{k=1}^l a_{ik}b_{kj}$"
      ]
    },
    {
      "cell_type": "markdown",
      "metadata": {
        "id": "w_5Xa-7idEnA",
        "colab_type": "text"
      },
      "source": [
        "### Classic Function\n"
      ]
    },
    {
      "cell_type": "code",
      "metadata": {
        "id": "WasTWNeDdIdS",
        "colab_type": "code",
        "colab": {}
      },
      "source": [
        "def matrix_matrix_product(A,B):\n",
        "    dimA0 = A.shape[0]\n",
        "    dimA1 = A.shape[1]\n",
        "    dimB1 = B.shape[1]\n",
        "    \n",
        "    if(dimA1 != B.shape[0]):\n",
        "        return \"size does not match for a product\"\n",
        "    result = np.zeros((dimA0,dimB1))\n",
        "    for i in range(dimA0):\n",
        "        for j in range(dimB1):\n",
        "            for k in range(dimA1):\n",
        "                result[i,j]+=A[i,k]*B[k,j]\n",
        "    return result"
      ],
      "execution_count": 0,
      "outputs": []
    },
    {
      "cell_type": "markdown",
      "metadata": {
        "id": "KdOYMcJSdMNJ",
        "colab_type": "text"
      },
      "source": [
        "### Test"
      ]
    },
    {
      "cell_type": "code",
      "metadata": {
        "id": "tNvt18ZAdSKA",
        "colab_type": "code",
        "colab": {}
      },
      "source": [
        "def test_Matrix_Matrix():\n",
        "  for i in range(20):\n",
        "        T1 = np.random.randint(10,size=(7,125))\n",
        "        T2 =  np.random.randint(10,size=(125,256))\n",
        "        result = matrix_matrix_product(T1,T2)\n",
        "        soluce = np.dot(T1,T2)\n",
        "        assert np.array_equal(result,soluce) == True, \"error Matrix_Matrix\""
      ],
      "execution_count": 0,
      "outputs": []
    },
    {
      "cell_type": "markdown",
      "metadata": {
        "id": "whXJ_pLLdXtH",
        "colab_type": "text"
      },
      "source": [
        "### Strassen\n"
      ]
    },
    {
      "cell_type": "markdown",
      "metadata": {
        "id": "IcgEOm5Jdilb",
        "colab_type": "text"
      },
      "source": [
        "This is a bit complicated because we need to be careful about the padding since the size of the input matrix are not in the right format."
      ]
    },
    {
      "cell_type": "code",
      "metadata": {
        "id": "xLVCBbWUda6R",
        "colab_type": "code",
        "colab": {}
      },
      "source": [
        "def strassen_product(A,B):\n",
        "    dimA0 = A.shape[0]\n",
        "    dimA1 = A.shape[1]\n",
        "    dimB1 = B.shape[1]\n",
        "\n",
        "   \n",
        "    if(dimA1 != B.shape[0]):\n",
        "        return \"size does not match for a product\"\n",
        "\n",
        "    if(dimA0 == 1 or dimB1 == 1 or dimA1 == 1):\n",
        "        return matrix_matrix_product(A,B)\n",
        "\n",
        "    dimt0 =dimA0\n",
        "    if dimA0%2 == 1:\n",
        "        dimt0 = dimA0+1\n",
        "    dimt1 =dimA1\n",
        "    if dimA1%2 == 1:\n",
        "        dimt1 = dimA1+1\n",
        "    dimtB0 =dimA1\n",
        "    if dimA1%2 == 1:\n",
        "        dimtB0 = dimA1+1\n",
        "    dimtB1 =dimB1\n",
        "    if dimB1%2 == 1:\n",
        "        dimtB1 = dimB1+1\n",
        "        \n",
        "    tempA = np.zeros((dimt0,dimt1))\n",
        "    tempA[:dimA0,:dimA1] = A\n",
        "\n",
        "    tempB = np.zeros((dimtB0,dimtB1))\n",
        "    tempB[:dimA1,:dimB1] = B\n",
        "    \n",
        "    C = np.zeros((dimt0,dimtB1))\n",
        "    k = int(dimt0/2)\n",
        "    k1 = int(dimt1/2)\n",
        "    k2 =  int(dimtB1/2)\n",
        "    A11,A21,A12,A22 = tempA[:k,:k1], tempA[k:, :k1], tempA[:k, k1:], tempA[k:, k1:]\n",
        "    B11,B21,B12,B22 = tempB[:k1,:k2], tempB[k1:, :k2], tempB[:k1, k2:], tempB[k1:, k2:]\n",
        "\n",
        "    S1 = B12 - B22\n",
        "    S2 = A11 + A12\n",
        "    S3 = A21 + A22\n",
        "    S4 = B21 - B11\n",
        "    S5 = A11 + A22\n",
        "    S6 = B11 + B22\n",
        "    S7 = A12 - A22\n",
        "    S8 = B21 + B22\n",
        "    S9 = A11 - A21\n",
        "    S10= B11 + B12\n",
        "\n",
        "    P1 =  matrix_matrix_product(A11, S1)\n",
        "    P2 =  matrix_matrix_product(S2, B22)\n",
        "    P3 =  matrix_matrix_product(S3, B11)\n",
        "    P4 =  matrix_matrix_product(A22, S4)\n",
        "    P5 =  matrix_matrix_product(S5, S6)\n",
        "    P6 =  matrix_matrix_product(S7, S8)\n",
        "    P7 =  matrix_matrix_product(S9, S10)\n",
        "    C[:k,:k2] = P5 + P4 - P2 + P6\n",
        "    C[k:, :k2] = P3 + P4\n",
        "    C[:k, k2:] = P1 + P2\n",
        "    C[k:, k2:] = P5 + P1 - P3 - P7\n",
        "\n",
        "    return C[:dimA0,:dimB1]"
      ],
      "execution_count": 0,
      "outputs": []
    },
    {
      "cell_type": "markdown",
      "metadata": {
        "id": "Tm7nrh1Ud-kU",
        "colab_type": "text"
      },
      "source": [
        "### Test"
      ]
    },
    {
      "cell_type": "code",
      "metadata": {
        "id": "Mb1D4A8jd-Cb",
        "colab_type": "code",
        "colab": {}
      },
      "source": [
        "def test_Strassen():\n",
        "    for i in range(20):\n",
        "        T1 = np.random.randint(10,size=(7,125))\n",
        "        T2 =  np.random.randint(10,size=(125,256))\n",
        "        result = strassen_product(T1,T2)\n",
        "        soluce = np.dot(T1,T2)\n",
        "        assert np.array_equal(result,soluce) == True, \"error Strassen\""
      ],
      "execution_count": 0,
      "outputs": []
    },
    {
      "cell_type": "markdown",
      "metadata": {
        "id": "h9fupMpGeRAW",
        "colab_type": "text"
      },
      "source": [
        "### ***Euclidian norm***\n"
      ]
    },
    {
      "cell_type": "markdown",
      "metadata": {
        "id": "7KL4tkp4e--l",
        "colab_type": "text"
      },
      "source": [
        "$||x||_2 = ({x_1}^2 +...+{x_n}^2)^{1/2}$"
      ]
    },
    {
      "cell_type": "markdown",
      "metadata": {
        "id": "_iPwhV5BeWAm",
        "colab_type": "text"
      },
      "source": [
        "## Function\n",
        "\n",
        "\n"
      ]
    },
    {
      "cell_type": "code",
      "metadata": {
        "id": "Jx76u1kxeb-p",
        "colab_type": "code",
        "colab": {}
      },
      "source": [
        "def euclidian_norm(x):\n",
        "    if(x.ndim != 1):\n",
        "        return \"x is not a vector with 1 dim\"\n",
        "\n",
        "    result = 0\n",
        "    for v in x:\n",
        "        result += v*v\n",
        "    result = math.sqrt(result)\n",
        "    return result"
      ],
      "execution_count": 0,
      "outputs": []
    },
    {
      "cell_type": "markdown",
      "metadata": {
        "id": "BdOIcx2ceZ7r",
        "colab_type": "text"
      },
      "source": [
        "## Test"
      ]
    },
    {
      "cell_type": "code",
      "metadata": {
        "id": "WII6YyEaefpN",
        "colab_type": "code",
        "colab": {}
      },
      "source": [
        "def test_Euclidian():\n",
        "    for i in range(20):\n",
        "        x = np.random.randint(10,size=250)\n",
        "        result = euclidian_norm(x)\n",
        "        soluce = np.linalg.norm(x)\n",
        "        assert np.array_equal(result,soluce) == True, \"error Euclidian Norm\""
      ],
      "execution_count": 0,
      "outputs": []
    },
    {
      "cell_type": "markdown",
      "metadata": {
        "id": "410HfqYAekKU",
        "colab_type": "text"
      },
      "source": [
        "## Euclidian distance"
      ]
    },
    {
      "cell_type": "markdown",
      "metadata": {
        "id": "ACeA0FgOfC1W",
        "colab_type": "text"
      },
      "source": [
        "$d(x,y) = ||x-y||_2$"
      ]
    },
    {
      "cell_type": "markdown",
      "metadata": {
        "id": "ZxZzIwd9exSC",
        "colab_type": "text"
      },
      "source": [
        "### Function"
      ]
    },
    {
      "cell_type": "markdown",
      "metadata": {
        "id": "w-f2uG1cfJxf",
        "colab_type": "text"
      },
      "source": [
        "We can see that we need to be careful here and do a copy of x. Because if we do not, we would modify x."
      ]
    },
    {
      "cell_type": "code",
      "metadata": {
        "id": "Xg-GxFeAesNJ",
        "colab_type": "code",
        "colab": {}
      },
      "source": [
        "def euclidian_distance(x,y):\n",
        "    if(x.ndim != 1):\n",
        "        return \"x is not a vector with 1 dim\"\n",
        "    if(y.ndim != 1):\n",
        "        return \"y is not a vector with 1 dim\"\n",
        "    dim = x.shape[0]\n",
        "    if dim != y.shape[0]:\n",
        "        return \"y and x do not have the same size\"\n",
        "\n",
        "    result = np.copy(x)\n",
        "    for i in range(dim):\n",
        "        result[i] -= y[i];\n",
        "    result = euclidian_norm(result)\n",
        "    return result"
      ],
      "execution_count": 0,
      "outputs": []
    },
    {
      "cell_type": "markdown",
      "metadata": {
        "id": "FZWAsl69e0Ze",
        "colab_type": "text"
      },
      "source": [
        "### Test"
      ]
    },
    {
      "cell_type": "code",
      "metadata": {
        "id": "K0MDCzONe3Jm",
        "colab_type": "code",
        "colab": {}
      },
      "source": [
        "def test_Euclidian_dist():\n",
        "     for i in range(20):   \n",
        "        x = np.random.randint(10,size=100)\n",
        "        y = np.random.randint(10,size=100)\n",
        "        result = euclidian_distance(x,y)\n",
        "        soluce = np.linalg.norm(x-y)\n",
        "        assert np.array_equal(result,soluce) == True, \"error Euclidian dist\""
      ],
      "execution_count": 0,
      "outputs": []
    },
    {
      "cell_type": "markdown",
      "metadata": {
        "id": "SsQLT38gVbn_",
        "colab_type": "text"
      },
      "source": [
        "# **Results**"
      ]
    },
    {
      "cell_type": "markdown",
      "metadata": {
        "id": "RLwlnOzuV-Cd",
        "colab_type": "text"
      },
      "source": [
        "We run the tests as we have shown before.\n"
      ]
    },
    {
      "cell_type": "code",
      "metadata": {
        "id": "9txmuf75fggE",
        "colab_type": "code",
        "colab": {}
      },
      "source": [
        "if __name__== \"__main__\":\n",
        "    test_scalar()\n",
        "    test_matrix_scalar()\n",
        "    test_Matrix_Matrix()\n",
        "    test_Strassen()\n",
        "    test_Euclidian()\n",
        "    test_Euclidian_dist()\n",
        "    print \"Test Succeed\""
      ],
      "execution_count": 0,
      "outputs": []
    },
    {
      "cell_type": "markdown",
      "metadata": {
        "id": "82_kq2xqfrWe",
        "colab_type": "text"
      },
      "source": [
        "We could have added the tests that deal with borderline cases that are not in the right format.\n",
        "We note in all cases that these implementations are not efficient."
      ]
    }
  ]
}