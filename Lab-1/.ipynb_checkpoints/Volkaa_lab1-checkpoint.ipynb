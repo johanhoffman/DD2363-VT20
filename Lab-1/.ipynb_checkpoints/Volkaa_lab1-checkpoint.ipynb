{
 "cells": [
  {
   "cell_type": "markdown",
   "metadata": {
    "colab_type": "text",
    "id": "3VcEEWJEIVKz",
    "toc": true
   },
   "source": [
    "<h1>Table of Contents<span class=\"tocSkip\"></span></h1>\n",
    "<div class=\"toc\"><ul class=\"toc-item\"><li><span><a href=\"#Lab-1:-Matrix-algorithms\" data-toc-modified-id=\"Lab-1:-Matrix-algorithms-1\"><span class=\"toc-item-num\">1&nbsp;&nbsp;</span><strong>Lab 1: Matrix algorithms</strong></a></span></li><li><span><a href=\"#Abstract\" data-toc-modified-id=\"Abstract-2\"><span class=\"toc-item-num\">2&nbsp;&nbsp;</span><strong>Abstract</strong></a></span></li><li><span><a href=\"#Set-up-environment\" data-toc-modified-id=\"Set-up-environment-3\"><span class=\"toc-item-num\">3&nbsp;&nbsp;</span><strong>Set up environment</strong></a></span></li><li><span><a href=\"#Introduction\" data-toc-modified-id=\"Introduction-4\"><span class=\"toc-item-num\">4&nbsp;&nbsp;</span><strong>Introduction</strong></a></span><ul class=\"toc-item\"><li><span><a href=\"#The-Scalar-product\" data-toc-modified-id=\"The-Scalar-product-4.1\"><span class=\"toc-item-num\">4.1&nbsp;&nbsp;</span>The Scalar product</a></span></li><li><span><a href=\"#The-matrix-vector-product\" data-toc-modified-id=\"The-matrix-vector-product-4.2\"><span class=\"toc-item-num\">4.2&nbsp;&nbsp;</span>The matrix-vector product</a></span></li><li><span><a href=\"#The-matrix-matrix-vector\" data-toc-modified-id=\"The-matrix-matrix-vector-4.3\"><span class=\"toc-item-num\">4.3&nbsp;&nbsp;</span>The matrix-matrix vector</a></span></li><li><span><a href=\"#The-euclidian-norm\" data-toc-modified-id=\"The-euclidian-norm-4.4\"><span class=\"toc-item-num\">4.4&nbsp;&nbsp;</span>The euclidian norm</a></span></li><li><span><a href=\"#The-euclidian-distance\" data-toc-modified-id=\"The-euclidian-distance-4.5\"><span class=\"toc-item-num\">4.5&nbsp;&nbsp;</span>The euclidian distance</a></span></li></ul></li><li><span><a href=\"#Methods\" data-toc-modified-id=\"Methods-5\"><span class=\"toc-item-num\">5&nbsp;&nbsp;</span><strong>Methods</strong></a></span><ul class=\"toc-item\"><li><span><a href=\"#The-Scalar-product\" data-toc-modified-id=\"The-Scalar-product-5.1\"><span class=\"toc-item-num\">5.1&nbsp;&nbsp;</span>The Scalar product</a></span></li><li><span><a href=\"#The-matrix-vector-product\" data-toc-modified-id=\"The-matrix-vector-product-5.2\"><span class=\"toc-item-num\">5.2&nbsp;&nbsp;</span>The matrix-vector product</a></span></li><li><span><a href=\"#The-matrix-matrix-vector\" data-toc-modified-id=\"The-matrix-matrix-vector-5.3\"><span class=\"toc-item-num\">5.3&nbsp;&nbsp;</span>The matrix-matrix vector</a></span></li><li><span><a href=\"#The-euclidian-norm\" data-toc-modified-id=\"The-euclidian-norm-5.4\"><span class=\"toc-item-num\">5.4&nbsp;&nbsp;</span>The euclidian norm</a></span></li><li><span><a href=\"#The-euclidian-distance\" data-toc-modified-id=\"The-euclidian-distance-5.5\"><span class=\"toc-item-num\">5.5&nbsp;&nbsp;</span>The euclidian distance</a></span></li></ul></li><li><span><a href=\"#Results\" data-toc-modified-id=\"Results-6\"><span class=\"toc-item-num\">6&nbsp;&nbsp;</span><strong>Results</strong></a></span><ul class=\"toc-item\"><li><span><a href=\"#The-Scalar-product\" data-toc-modified-id=\"The-Scalar-product-6.1\"><span class=\"toc-item-num\">6.1&nbsp;&nbsp;</span>The Scalar product</a></span></li><li><span><a href=\"#The-matrix-vector-product\" data-toc-modified-id=\"The-matrix-vector-product-6.2\"><span class=\"toc-item-num\">6.2&nbsp;&nbsp;</span>The matrix-vector product</a></span></li><li><span><a href=\"#The-matrix-matrix-vector\" data-toc-modified-id=\"The-matrix-matrix-vector-6.3\"><span class=\"toc-item-num\">6.3&nbsp;&nbsp;</span>The matrix-matrix vector</a></span></li><li><span><a href=\"#The-euclidian-norm\" data-toc-modified-id=\"The-euclidian-norm-6.4\"><span class=\"toc-item-num\">6.4&nbsp;&nbsp;</span>The euclidian norm</a></span></li><li><span><a href=\"#The-euclidian-distance\" data-toc-modified-id=\"The-euclidian-distance-6.5\"><span class=\"toc-item-num\">6.5&nbsp;&nbsp;</span>The euclidian distance</a></span></li></ul></li><li><span><a href=\"#Discussion\" data-toc-modified-id=\"Discussion-7\"><span class=\"toc-item-num\">7&nbsp;&nbsp;</span><strong>Discussion</strong></a></span></li></ul></div>"
   ]
  },
  {
   "cell_type": "markdown",
   "metadata": {
    "colab_type": "text",
    "id": "view-in-github"
   },
   "source": [
    "<a href=\"https://colab.research.google.com/github/johanhoffman/DD2363-VT20/blob/Volkaa/Lab-1/Volkaa_lab1.ipynb\" target=\"_parent\"><img src=\"https://colab.research.google.com/assets/colab-badge.svg\" alt=\"Open In Colab\"/></a>"
   ]
  },
  {
   "cell_type": "markdown",
   "metadata": {
    "colab_type": "text",
    "id": "6RgtXlfYO_i7"
   },
   "source": [
    "# **Lab 1: Matrix algorithms**\n",
    "**Matthis Manthe**"
   ]
  },
  {
   "cell_type": "markdown",
   "metadata": {
    "colab_type": "text",
    "id": "9x_J5FVuPzbm"
   },
   "source": [
    "# **Abstract**"
   ]
  },
  {
   "cell_type": "markdown",
   "metadata": {
    "colab_type": "text",
    "id": "6UFTSzW7P8kL"
   },
   "source": [
    "In this report, different simple and fundamental operations in the domain of linear spaces, like matrices and vectors multiplications, are implemented and tested against the corresponding Numpy functions. This first lab serves as an introduction to the different technologies, such as Jupyter or Google Colab, that we will use in the course."
   ]
  },
  {
   "cell_type": "markdown",
   "metadata": {
    "colab_type": "text",
    "id": "HmB2noTr1Oyo"
   },
   "source": [
    "A short statement on who is the author of the file, and if the code is distributed under a certain license. "
   ]
  },
  {
   "cell_type": "code",
   "execution_count": 0,
   "metadata": {
    "colab": {
     "base_uri": "https://localhost:8080/",
     "height": 34
    },
    "colab_type": "code",
    "id": "Pdll1Xc9WP0e",
    "outputId": "f74fa781-413b-41e7-a2ec-1bba2288ad4f"
   },
   "outputs": [
    {
     "data": {
      "text/plain": [
       "'KTH Royal Institute of Technology, Stockholm, Sweden.'"
      ]
     },
     "execution_count": 94,
     "metadata": {
      "tags": []
     },
     "output_type": "execute_result"
    }
   ],
   "source": [
    "\"\"\"This program uses a template for lab reports in the course\"\"\"\n",
    "\"\"\"DD2363 Methods in Scientific Computing, \"\"\"\n",
    "\"\"\"KTH Royal Institute of Technology, Stockholm, Sweden.\"\"\"\n",
    "\n",
    "# Copyright (C) 2019 Johan Hoffman (jhoffman@kth.se)\n",
    "\n",
    "# This file is part of the course DD2363 Methods in Scientific Computing\n",
    "# KTH Royal Institute of Technology, Stockholm, Sweden\n",
    "#\n",
    "# This is free software: you can redistribute it and/or modify\n",
    "# it under the terms of the GNU Lesser General Public License as published by\n",
    "# the Free Software Foundation, either version 3 of the License, or\n",
    "# (at your option) any later version.\n",
    "\n",
    "# This template is maintained by Johan Hoffman\n",
    "# Please report problems to jhoffman@kth.se"
   ]
  },
  {
   "cell_type": "markdown",
   "metadata": {
    "colab_type": "text",
    "id": "28xLGz8JX3Hh"
   },
   "source": [
    "# **Set up environment**"
   ]
  },
  {
   "cell_type": "markdown",
   "metadata": {
    "colab_type": "text",
    "id": "D2PYNusD08Wa"
   },
   "source": [
    "To have access to the neccessary modules you have to run this cell. If you need additional modules, this is where you add them. "
   ]
  },
  {
   "cell_type": "code",
   "execution_count": 0,
   "metadata": {
    "colab": {},
    "colab_type": "code",
    "id": "Xw7VlErAX7NS"
   },
   "outputs": [],
   "source": [
    "# Load neccessary modules.\n",
    "from google.colab import files\n",
    "\n",
    "import time\n",
    "import numpy as np\n",
    "\n",
    "from matplotlib import pyplot as plt\n",
    "from matplotlib import tri\n",
    "from matplotlib import axes\n",
    "from mpl_toolkits.mplot3d import Axes3D"
   ]
  },
  {
   "cell_type": "markdown",
   "metadata": {
    "colab_type": "text",
    "id": "gnO3lhAigLev"
   },
   "source": [
    "# **Introduction**"
   ]
  },
  {
   "cell_type": "markdown",
   "metadata": {
    "colab_type": "text",
    "id": "l5zMzgPlRAF6"
   },
   "source": [
    "We implement in this notebook 5 of the most basic operations on real vectors and matrices, using their corresponding definition. All the following definitions are taken from the first part of the course : [DD2363 course content.](https://kth.instructure.com/courses/17068/files/2484974?module_item_id=189855)"
   ]
  },
  {
   "cell_type": "markdown",
   "metadata": {
    "colab_type": "text",
    "id": "sV6Fms9DIVLU"
   },
   "source": [
    "## The Scalar product"
   ]
  },
  {
   "cell_type": "markdown",
   "metadata": {
    "colab_type": "text",
    "id": "8RXruuApIVLV"
   },
   "source": [
    "Given two real vectors $x,y\\in \\mathbb{R}^n$, we define the scalar product as $<x,y>=\\sum_{i=1}^nx_iy_i$\n",
    "\n",
    "\n"
   ]
  },
  {
   "cell_type": "markdown",
   "metadata": {
    "colab_type": "text",
    "id": "PwVdFWvMIVLX"
   },
   "source": [
    "## The matrix-vector product"
   ]
  },
  {
   "cell_type": "markdown",
   "metadata": {
    "colab_type": "text",
    "id": "i1JIxXoRIVLX"
   },
   "source": [
    "Given a real matrix $A\\in \\mathbb{R}^{m*n}$ and a real vector $x\\in \\mathbb{R}^n$, we define the product $Ax=y$, with $y\\in \\mathbb{R}^n$ and $\\forall i\\in \\mathbb{N}, i\\leq n, y_i=\\sum_{j=1}^ma_{ij}x_i$"
   ]
  },
  {
   "cell_type": "markdown",
   "metadata": {
    "colab_type": "text",
    "id": "rKYxrdffIVLY"
   },
   "source": [
    "## The matrix-matrix vector"
   ]
  },
  {
   "cell_type": "markdown",
   "metadata": {
    "colab_type": "text",
    "id": "0pVLdiDtIVLb"
   },
   "source": [
    "Given two real matrices $A\\in \\mathbb{R}^{n*l}$ and $B\\in \\mathbb{R}^{l*m}$, we define the product $AB=C$ with $C\\in \\mathbb{R}^{n*m}$ and $\\forall i,j\\in \\mathbb{N}, i\\leq n, j\\leq m, c_{ij}=\\sum_{k=1}^la_{ik}b_{kj}$, $A=(a_{ik}), B=(b_{kj}), C=(c_{ij})$"
   ]
  },
  {
   "cell_type": "markdown",
   "metadata": {
    "colab_type": "text",
    "id": "W5e4wwF9IVLc"
   },
   "source": [
    "## The euclidian norm"
   ]
  },
  {
   "cell_type": "markdown",
   "metadata": {
    "colab_type": "text",
    "id": "G8uI3IDQIVLe"
   },
   "source": [
    "Given a real vector $x\\in \\mathbb{R}^n$, we define the euclidian norm of x as $||x||_2=<x,x>^{\\frac{1}{2}}$, using the previously defined scalar product."
   ]
  },
  {
   "cell_type": "markdown",
   "metadata": {
    "colab_type": "text",
    "id": "rkb9IaHzIVLf"
   },
   "source": [
    "## The euclidian distance"
   ]
  },
  {
   "cell_type": "markdown",
   "metadata": {
    "colab_type": "text",
    "id": "dUANmux0IVLg"
   },
   "source": [
    "Given two real vectors $x,y\\in \\mathbb{R}^n$, we define the euclidian distance as $d(x,y)=||x-y||_2$, using the previously defined euclidian norm."
   ]
  },
  {
   "cell_type": "markdown",
   "metadata": {
    "colab_type": "text",
    "id": "WeFO9QMeUOAu"
   },
   "source": [
    "# **Methods**"
   ]
  },
  {
   "cell_type": "markdown",
   "metadata": {
    "colab_type": "text",
    "id": "NTyF2SJ4IVLk"
   },
   "source": [
    "For all of the 5 implementations of these functions, we directly use the mathematical definitions developed in the introduction."
   ]
  },
  {
   "cell_type": "markdown",
   "metadata": {
    "colab_type": "text",
    "id": "_6OPIcfmIVLk"
   },
   "source": [
    "## The Scalar product"
   ]
  },
  {
   "cell_type": "markdown",
   "metadata": {
    "colab_type": "text",
    "id": "6nhPmeFKIVLm"
   },
   "source": [
    "The inputs x and y can be lists or numpy arrays of real numbers. The function returns np.nan if they don't have the same size."
   ]
  },
  {
   "cell_type": "code",
   "execution_count": 0,
   "metadata": {
    "colab": {},
    "colab_type": "code",
    "id": "_UlRV_udIVLn"
   },
   "outputs": [],
   "source": [
    "def scalar_product(x,y):\n",
    "    if(len(list(x))!=len(list(y))): return np.nan\n",
    "    return np.sum([x[i]*y[i] for i in range(len(x))])"
   ]
  },
  {
   "cell_type": "markdown",
   "metadata": {
    "colab_type": "text",
    "id": "E0lZv0XcIVLr"
   },
   "source": [
    "## The matrix-vector product"
   ]
  },
  {
   "cell_type": "markdown",
   "metadata": {
    "colab_type": "text",
    "id": "LFElGMERIVLt"
   },
   "source": [
    "In the input, A must be a matrix (a 2 dimensional numpy array or list) of real numbers, and x a list or numpy array of real numbers. If the size of the second dimension of A does not match the size of the vector x, the function returns np.nan."
   ]
  },
  {
   "cell_type": "code",
   "execution_count": 0,
   "metadata": {
    "colab": {},
    "colab_type": "code",
    "id": "1MkZnTU9IVLu"
   },
   "outputs": [],
   "source": [
    "def matrix_vector_product(A,x):\n",
    "    if (A.shape[1]!=len(x)): return np.nan\n",
    "    return np.array([np.sum([A[i,j]*x[j] for j in range(len(x))]) for i in range(A.shape[0])])"
   ]
  },
  {
   "cell_type": "markdown",
   "metadata": {
    "colab_type": "text",
    "id": "xeD1BQgDIVLx"
   },
   "source": [
    "## The matrix-matrix vector"
   ]
  },
  {
   "cell_type": "markdown",
   "metadata": {
    "colab_type": "text",
    "id": "wxgiLX5lIVLy"
   },
   "source": [
    "In the input, A and B must be a matrix (a 2 dimensional numpy array or list) of real numbers. If the size of the second dimension of A does not match the size of the first dimension of B, the function returns np.nan."
   ]
  },
  {
   "cell_type": "code",
   "execution_count": 0,
   "metadata": {
    "colab": {},
    "colab_type": "code",
    "id": "gtCuz_X8IVLz"
   },
   "outputs": [],
   "source": [
    "def matrix_matrix_product(A,B):\n",
    "    if (A.shape[1]!=B.shape[0]): return np.nan\n",
    "    return np.array([[np.sum([A[i,k]*B[k,j] for k in range(A.shape[1])]) for j in range(B.shape[1])] for i in range(A.shape[0])])"
   ]
  },
  {
   "cell_type": "markdown",
   "metadata": {
    "colab_type": "text",
    "id": "eGeU5g5yIVL2"
   },
   "source": [
    "## The euclidian norm"
   ]
  },
  {
   "cell_type": "markdown",
   "metadata": {
    "colab_type": "text",
    "id": "kDyE5vmZIVL3"
   },
   "source": [
    "In the input, x can be a list or numpy array of real numbers."
   ]
  },
  {
   "cell_type": "code",
   "execution_count": 0,
   "metadata": {
    "colab": {},
    "colab_type": "code",
    "id": "0jEceh5fIVL4"
   },
   "outputs": [],
   "source": [
    "def euclidian_norm(x):\n",
    "    return np.sqrt(scalar_product(x,x))"
   ]
  },
  {
   "cell_type": "markdown",
   "metadata": {
    "colab_type": "text",
    "id": "X5-qdSX6IVL9"
   },
   "source": [
    "## The euclidian distance"
   ]
  },
  {
   "cell_type": "markdown",
   "metadata": {
    "colab_type": "text",
    "id": "CNSy0KjWIVMA"
   },
   "source": [
    "In the input, x and y can be a list or numpy array of real numbers. If the size x and y are different, the funtion returns np.nan."
   ]
  },
  {
   "cell_type": "code",
   "execution_count": 0,
   "metadata": {
    "colab": {},
    "colab_type": "code",
    "id": "mwWg5PfRIVMB"
   },
   "outputs": [],
   "source": [
    "def euclidian_distance(x,y):\n",
    "    if(len(list(x))!=len(list(y))): return np.nan\n",
    "    return euclidian_norm(x-y)"
   ]
  },
  {
   "cell_type": "markdown",
   "metadata": {
    "colab_type": "text",
    "id": "SsQLT38gVbn_"
   },
   "source": [
    "# **Results**"
   ]
  },
  {
   "cell_type": "markdown",
   "metadata": {
    "colab_type": "text",
    "id": "RLwlnOzuV-Cd"
   },
   "source": [
    "We test the different implemented functions through some simple test cases. For each of the function others than the euclidian norm (for which there are no special cases), 2 normal test cases and 1 where the sizes of the input are not valid are tested. The result of the following code tests the validity of the implementation."
   ]
  },
  {
   "cell_type": "markdown",
   "metadata": {
    "colab_type": "text",
    "id": "B9V0ClyHIVMF"
   },
   "source": [
    "## The Scalar product"
   ]
  },
  {
   "cell_type": "code",
   "execution_count": 0,
   "metadata": {
    "colab": {
     "base_uri": "https://localhost:8080/",
     "height": 278
    },
    "colab_type": "code",
    "executionInfo": {
     "elapsed": 633,
     "status": "ok",
     "timestamp": 1579459654940,
     "user": {
      "displayName": "Matthis Manthe",
      "photoUrl": "",
      "userId": "09885897726489190349"
     },
     "user_tz": -60
    },
    "id": "lA1bMjzwIVMG",
    "outputId": "ef10f8a5-23c0-49bf-f3f2-043860ba8a7d"
   },
   "outputs": [
    {
     "name": "stdout",
     "output_type": "stream",
     "text": [
      "Scalar product tests : \n",
      "x =   [1 2 3 4]\n",
      "y =  [1 1 1 1]\n",
      "Function result :  10\n",
      "Numpy function result :  10\n",
      "----------------\n",
      "x =   [ 2.3  2.3 -3.7  4.2]\n",
      "y =  [-1.4    1.567 10.67  16.   ]\n",
      "Function result :  28.1051\n",
      "Numpy function result :  28.1051\n",
      "----------------\n",
      "x =   [1 2]\n",
      "y =  [2 3 4]\n",
      "Function result :  nan\n",
      "----------------\n"
     ]
    }
   ],
   "source": [
    "def test_scalar_product():\n",
    "    x = np.array([1,2,3,4])\n",
    "    y = np.array([1,1,1,1])\n",
    "    print(\"x =  \",x)\n",
    "    print(\"y = \", y)\n",
    "    print(\"Function result : \", scalar_product(x,y))\n",
    "    print(\"Numpy function result : \", np.dot(x,y))\n",
    "    print(\"----------------\")\n",
    "    x = np.array([2.3,2.3,-3.7,4.2])\n",
    "    y = np.array([-1.4,1.567,10.67,16])\n",
    "    print(\"x =  \",x)\n",
    "    print(\"y = \", y)\n",
    "    print(\"Function result : \", scalar_product(x,y))\n",
    "    print(\"Numpy function result : \", np.dot(x,y))\n",
    "    print(\"----------------\")\n",
    "    x = np.array([1,2])\n",
    "    y = np.array([2,3,4])\n",
    "    print(\"x =  \",x)\n",
    "    print(\"y = \", y)\n",
    "    print(\"Function result : \", scalar_product(x,y))\n",
    "    print(\"----------------\")\n",
    "    \n",
    "print(\"Scalar product tests : \")\n",
    "test_scalar_product()"
   ]
  },
  {
   "cell_type": "markdown",
   "metadata": {
    "colab_type": "text",
    "id": "aSCNN7_jIVMK"
   },
   "source": [
    "## The matrix-vector product"
   ]
  },
  {
   "cell_type": "code",
   "execution_count": 0,
   "metadata": {
    "colab": {
     "base_uri": "https://localhost:8080/",
     "height": 364
    },
    "colab_type": "code",
    "executionInfo": {
     "elapsed": 607,
     "status": "ok",
     "timestamp": 1579459655207,
     "user": {
      "displayName": "Matthis Manthe",
      "photoUrl": "",
      "userId": "09885897726489190349"
     },
     "user_tz": -60
    },
    "id": "d2LdfhH7IVML",
    "outputId": "d480fe1f-4bb9-400d-8a6a-370555c66b83"
   },
   "outputs": [
    {
     "name": "stdout",
     "output_type": "stream",
     "text": [
      "Matrix-vector product tests : \n",
      "A =  [[2 4 6]\n",
      " [3 6 9]\n",
      " [1 2 1]]\n",
      "x =  [1 2 3]\n",
      "Function result :  [28 42  8]\n",
      "Numpy function result :  [28 42  8]\n",
      "----------------\n",
      "A =  [[ 2.5   4.4  -6.67]\n",
      " [ 3.67  6.4   9.2 ]\n",
      " [-1.89  2.9   1.78]]\n",
      "x =  [-1.4    1.567 10.67 ]\n",
      "Function result :  [-67.7741 103.0548  26.1829]\n",
      "Numpy function result :  [-67.7741 103.0548  26.1829]\n",
      "----------------\n",
      "A =  [[2 4]\n",
      " [3 6]]\n",
      "x =  [1 2 3]\n",
      "Function result :  nan\n",
      "----------------\n"
     ]
    }
   ],
   "source": [
    "def test_matrix_vector_product():\n",
    "    A = np.array([[2,4,6], [3,6,9], [1,2,1]])\n",
    "    x = np.array([1,2,3])\n",
    "    print(\"A = \", A)\n",
    "    print(\"x = \", x)\n",
    "    print(\"Function result : \", matrix_vector_product(A,x))\n",
    "    print(\"Numpy function result : \", np.matmul(A,x))\n",
    "    print(\"----------------\")\n",
    "    A = np.array([[2.5,4.4,-6.67], [3.67,6.4,9.2], [-1.89,2.9,1.78]])\n",
    "    x = np.array([-1.4,1.567,10.67])\n",
    "    print(\"A = \", A)\n",
    "    print(\"x = \", x)\n",
    "    print(\"Function result : \", matrix_vector_product(A,x))\n",
    "    print(\"Numpy function result : \", np.matmul(A,x))\n",
    "    print(\"----------------\")\n",
    "    A = np.array([[2,4], [3,6]])\n",
    "    x = np.array([1,2,3])\n",
    "    print(\"A = \", A)\n",
    "    print(\"x = \", x)\n",
    "    print(\"Function result : \", matrix_vector_product(A,x))\n",
    "    print(\"----------------\")\n",
    "    \n",
    "print(\"Matrix-vector product tests : \")\n",
    "test_matrix_vector_product()"
   ]
  },
  {
   "cell_type": "markdown",
   "metadata": {
    "colab_type": "text",
    "id": "JLO-FFBYIVMP"
   },
   "source": [
    "## The matrix-matrix vector"
   ]
  },
  {
   "cell_type": "code",
   "execution_count": 0,
   "metadata": {
    "colab": {
     "base_uri": "https://localhost:8080/",
     "height": 555
    },
    "colab_type": "code",
    "executionInfo": {
     "elapsed": 638,
     "status": "ok",
     "timestamp": 1579459656562,
     "user": {
      "displayName": "Matthis Manthe",
      "photoUrl": "",
      "userId": "09885897726489190349"
     },
     "user_tz": -60
    },
    "id": "1pW483mvIVMP",
    "outputId": "8fd82aa3-e054-4d63-b3f4-d234d4f1db67"
   },
   "outputs": [
    {
     "name": "stdout",
     "output_type": "stream",
     "text": [
      "Matrix-matrix product tests : \n",
      "A =  [[2 4 6]\n",
      " [3 6 9]]\n",
      "B =  [[1 2 3]\n",
      " [4 5 6]\n",
      " [7 8 9]]\n",
      "Function result :  [[ 60  72  84]\n",
      " [ 90 108 126]]\n",
      "Numpy function result :  [[ 60  72  84]\n",
      " [ 90 108 126]]\n",
      "----------------\n",
      "A =  [[ 2.4   4.6   6.67]\n",
      " [ 3.8  -6.7  -9.8 ]\n",
      " [ 1.8   2.7   1.4 ]]\n",
      "B =  [[ 1.7   2.45 -3.67]\n",
      " [17.    2.78  3.34]\n",
      " [ 1.78 -2.45  3.8 ]]\n",
      "Function result :  [[  94.1526    2.3265   31.902 ]\n",
      " [-124.884    14.694   -73.564 ]\n",
      " [  51.452     8.486     7.732 ]]\n",
      "Numpy function result :  [[  94.1526    2.3265   31.902 ]\n",
      " [-124.884    14.694   -73.564 ]\n",
      " [  51.452     8.486     7.732 ]]\n",
      "----------------\n",
      "A =  [[2 4]\n",
      " [3 6]]\n",
      "B =  [[1 2 3]\n",
      " [2 3 4]\n",
      " [4 5 6]]\n",
      "Function result :  nan\n",
      "----------------\n"
     ]
    }
   ],
   "source": [
    "def test_matrix_matrix_product():\n",
    "    A = np.array([[2,4,6], [3,6,9]])\n",
    "    B = np.array([[1,2,3], [4,5,6], [7,8,9]])\n",
    "    print(\"A = \", A)\n",
    "    print(\"B = \", B)\n",
    "    print(\"Function result : \", matrix_matrix_product(A,B))\n",
    "    print(\"Numpy function result : \", np.matmul(A,B))\n",
    "    print(\"----------------\")\n",
    "    A = np.array([[2.4,4.6,6.67], [3.8,-6.7,-9.8], [1.8,2.7,1.4]])\n",
    "    B = np.array([[1.7,2.45,-3.67], [17,2.78,3.34], [1.78,-2.45,3.8]])\n",
    "    print(\"A = \", A)\n",
    "    print(\"B = \", B)\n",
    "    print(\"Function result : \", matrix_matrix_product(A,B))\n",
    "    print(\"Numpy function result : \", np.matmul(A,B))\n",
    "    print(\"----------------\")\n",
    "    A = np.array([[2,4], [3,6]])\n",
    "    B = np.array([[1,2,3],[2,3,4],[4,5,6]])\n",
    "    print(\"A = \", A)\n",
    "    print(\"B = \", B)\n",
    "    print(\"Function result : \", matrix_matrix_product(A,B))\n",
    "    print(\"----------------\")\n",
    "    \n",
    "print(\"Matrix-matrix product tests : \")\n",
    "test_matrix_matrix_product()"
   ]
  },
  {
   "cell_type": "markdown",
   "metadata": {
    "colab_type": "text",
    "id": "ev-XE5nzIVMS"
   },
   "source": [
    "## The euclidian norm"
   ]
  },
  {
   "cell_type": "code",
   "execution_count": 0,
   "metadata": {
    "colab": {
     "base_uri": "https://localhost:8080/",
     "height": 243
    },
    "colab_type": "code",
    "executionInfo": {
     "elapsed": 513,
     "status": "ok",
     "timestamp": 1579459657041,
     "user": {
      "displayName": "Matthis Manthe",
      "photoUrl": "",
      "userId": "09885897726489190349"
     },
     "user_tz": -60
    },
    "id": "6IOfaq8aIVMT",
    "outputId": "cb6fab9e-543c-4407-e44e-84b223056f11"
   },
   "outputs": [
    {
     "name": "stdout",
     "output_type": "stream",
     "text": [
      "Euclidian norm tests : \n",
      "x =  [0 0]\n",
      "Function result ;  0.0\n",
      "Numpy function result :  0.0\n",
      "----------------\n",
      "x =  [1 2 3 4]\n",
      "Function result ;  5.477225575051661\n",
      "Numpy function result :  5.477225575051661\n",
      "----------------\n",
      "x =  [ 2.3  2.3 -3.7  4.2]\n",
      "Function result ;  6.473793323855805\n",
      "Numpy function result :  6.473793323855805\n",
      "----------------\n"
     ]
    }
   ],
   "source": [
    "def test_euclidian_norm():\n",
    "    x = np.array([0,0])\n",
    "    print(\"x = \", x)\n",
    "    print(\"Function result ; \", euclidian_norm(x))\n",
    "    print(\"Numpy function result : \", np.linalg.norm(x))\n",
    "    print(\"----------------\")\n",
    "    x = np.array([1,2,3,4])\n",
    "    print(\"x = \", x)\n",
    "    print(\"Function result ; \", euclidian_norm(x))\n",
    "    print(\"Numpy function result : \", np.linalg.norm(x))\n",
    "    print(\"----------------\")\n",
    "    x = np.array([2.3,2.3,-3.7,4.2])\n",
    "    print(\"x = \", x)\n",
    "    print(\"Function result ; \", euclidian_norm(x))\n",
    "    print(\"Numpy function result : \", np.linalg.norm(x))\n",
    "    print(\"----------------\")\n",
    "    \n",
    "print(\"Euclidian norm tests : \")\n",
    "test_euclidian_norm()"
   ]
  },
  {
   "cell_type": "markdown",
   "metadata": {
    "colab_type": "text",
    "id": "VMYP9USuIVMX"
   },
   "source": [
    "## The euclidian distance"
   ]
  },
  {
   "cell_type": "code",
   "execution_count": 0,
   "metadata": {
    "colab": {
     "base_uri": "https://localhost:8080/",
     "height": 278
    },
    "colab_type": "code",
    "executionInfo": {
     "elapsed": 701,
     "status": "ok",
     "timestamp": 1579459657840,
     "user": {
      "displayName": "Matthis Manthe",
      "photoUrl": "",
      "userId": "09885897726489190349"
     },
     "user_tz": -60
    },
    "id": "iOlLYCUgIVMX",
    "outputId": "01822076-f935-4756-bab9-3ba1fc8b4f2b"
   },
   "outputs": [
    {
     "name": "stdout",
     "output_type": "stream",
     "text": [
      "Euclidian distance tests : \n",
      "x =  [1 2 3 4]\n",
      "y =  [1 1 1 1]\n",
      "Function result :  3.7416573867739413\n",
      "Numpy function result :  3.7416573867739413\n",
      "----------------\n",
      "x =  [ 2.3  2.3 -3.7  4.2]\n",
      "y =  [-1.4    1.567 10.67  16.   ]\n",
      "Function result :  18.972722234829668\n",
      "Numpy function result :  18.972722234829668\n",
      "----------------\n",
      "x =  [1 2]\n",
      "y =  [2 3 4]\n",
      "Function result :  nan\n",
      "----------------\n"
     ]
    }
   ],
   "source": [
    "def test_euclidian_distance():\n",
    "    x = np.array([1,2,3,4])\n",
    "    y = np.array([1,1,1,1])\n",
    "    print(\"x = \", x)\n",
    "    print(\"y = \", y)\n",
    "    print(\"Function result : \", euclidian_distance(x,y))\n",
    "    print(\"Numpy function result : \", np.linalg.norm(x-y))\n",
    "    print(\"----------------\")\n",
    "    x = np.array([2.3,2.3,-3.7,4.2])\n",
    "    y = np.array([-1.4,1.567,10.67,16])\n",
    "    print(\"x = \", x)\n",
    "    print(\"y = \", y)\n",
    "    print(\"Function result : \", euclidian_distance(x,y))\n",
    "    print(\"Numpy function result : \", np.linalg.norm(x-y))\n",
    "    print(\"----------------\")\n",
    "    x = np.array([1,2])\n",
    "    y = np.array([2,3,4])\n",
    "    print(\"x = \", x)\n",
    "    print(\"y = \", y)\n",
    "    print(\"Function result : \", euclidian_distance(x,y))\n",
    "    print(\"----------------\")\n",
    "    \n",
    "print(\"Euclidian distance tests : \")\n",
    "test_euclidian_distance()"
   ]
  },
  {
   "cell_type": "markdown",
   "metadata": {
    "colab_type": "text",
    "id": "_4GLBv0zWr7m"
   },
   "source": [
    "# **Discussion**"
   ]
  },
  {
   "cell_type": "markdown",
   "metadata": {
    "colab_type": "text",
    "id": "6bcsDSoRXHZe"
   },
   "source": [
    "These implementations match the results of the numpy associated functions. We could have handled more special cases, but the current state is enough in the context of this first lab."
   ]
  }
 ],
 "metadata": {
  "colab": {
   "collapsed_sections": [],
   "name": "Volkaa_lab1.ipynb",
   "provenance": []
  },
  "kernelspec": {
   "display_name": "Python 3",
   "language": "python",
   "name": "python3"
  },
  "language_info": {
   "codemirror_mode": {
    "name": "ipython",
    "version": 3
   },
   "file_extension": ".py",
   "mimetype": "text/x-python",
   "name": "python",
   "nbconvert_exporter": "python",
   "pygments_lexer": "ipython3",
   "version": "3.6.8"
  },
  "toc": {
   "base_numbering": 1,
   "nav_menu": {},
   "number_sections": true,
   "sideBar": true,
   "skip_h1_title": false,
   "title_cell": "Table of Contents",
   "title_sidebar": "Contents",
   "toc_cell": true,
   "toc_position": {},
   "toc_section_display": true,
   "toc_window_display": false
  }
 },
 "nbformat": 4,
 "nbformat_minor": 1
}
