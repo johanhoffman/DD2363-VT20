{
  "nbformat": 4,
  "nbformat_minor": 0,
  "metadata": {
    "colab": {
      "name": "timaslj_lab-1.ipynb",
      "provenance": [],
      "collapsed_sections": []
    },
    "kernelspec": {
      "name": "python3",
      "display_name": "Python 3"
    }
  },
  "cells": [
    {
      "cell_type": "markdown",
      "metadata": {
        "id": "6RgtXlfYO_i7",
        "colab_type": "text"
      },
      "source": [
        "# **Lab 1: Matrix Algorithms**\n",
        "**Timas Ljungdahl**"
      ]
    },
    {
      "cell_type": "markdown",
      "metadata": {
        "id": "9x_J5FVuPzbm",
        "colab_type": "text"
      },
      "source": [
        "# **Abstract**"
      ]
    },
    {
      "cell_type": "markdown",
      "metadata": {
        "id": "6UFTSzW7P8kL",
        "colab_type": "text"
      },
      "source": [
        "In this report, 5 matrix algorithms are implemented using numpy in python. The algorithms are scalar product, matrix-vector product, matrix-matrix product, eucludian norm and euclidian distance. "
      ]
    },
    {
      "cell_type": "markdown",
      "metadata": {
        "id": "OkT8J7uOWpT3",
        "colab_type": "text"
      },
      "source": [
        "#**About the code**"
      ]
    },
    {
      "cell_type": "markdown",
      "metadata": {
        "id": "HmB2noTr1Oyo",
        "colab_type": "text"
      },
      "source": [
        "A short statement on who is the author of the file, and if the code is distributed under a certain license. "
      ]
    },
    {
      "cell_type": "code",
      "metadata": {
        "id": "Pdll1Xc9WP0e",
        "colab_type": "code",
        "outputId": "d6cf848f-e742-4d95-a431-000d9feaec08",
        "colab": {
          "base_uri": "https://localhost:8080/",
          "height": 35
        }
      },
      "source": [
        "\"\"\"DD2363 Methods in Scientific Computing, \"\"\"\n",
        "\"\"\"KTH Royal Institute of Technology, Stockholm, Sweden.\"\"\"\n",
        "\n",
        "# Copyright (C) 2019 Johan Hoffman (jhoffman@kth.se)\n",
        "\n",
        "# This file is part of the course DD2363 Methods in Scientific Computing\n",
        "# KTH Royal Institute of Technology, Stockholm, Sweden\n",
        "#\n",
        "# This is free software: you can redistribute it and/or modify\n",
        "# it under the terms of the GNU Lesser General Public License as published by\n",
        "# the Free Software Foundation, either version 3 of the License, or\n",
        "# (at your option) any later version.\n",
        "\n",
        "# This template is maintained by Johan Hoffman\n",
        "# Please report problems to jhoffman@kth.se"
      ],
      "execution_count": 0,
      "outputs": [
        {
          "output_type": "execute_result",
          "data": {
            "text/plain": [
              "'KTH Royal Institute of Technology, Stockholm, Sweden.'"
            ]
          },
          "metadata": {
            "tags": []
          },
          "execution_count": 91
        }
      ]
    },
    {
      "cell_type": "markdown",
      "metadata": {
        "id": "28xLGz8JX3Hh",
        "colab_type": "text"
      },
      "source": [
        "# **Set up environment**"
      ]
    },
    {
      "cell_type": "code",
      "metadata": {
        "id": "Xw7VlErAX7NS",
        "colab_type": "code",
        "colab": {}
      },
      "source": [
        "# Load neccessary modules.\n",
        "from google.colab import files\n",
        "\n",
        "import time\n",
        "import numpy as np\n",
        "import math\n",
        "import unittest\n",
        "\n",
        "from matplotlib import pyplot as plt\n",
        "from matplotlib import tri\n",
        "from matplotlib import axes\n",
        "from mpl_toolkits.mplot3d import Axes3D"
      ],
      "execution_count": 0,
      "outputs": []
    },
    {
      "cell_type": "markdown",
      "metadata": {
        "id": "gnO3lhAigLev",
        "colab_type": "text"
      },
      "source": [
        "# **Introduction**"
      ]
    },
    {
      "cell_type": "markdown",
      "metadata": {
        "id": "l5zMzgPlRAF6",
        "colab_type": "text"
      },
      "source": [
        "Five matrix algorithms were implemented in this lab, namely scalar product,  matrix-vector product, matrix-matrix product, eucludian norm and euclidian distance\n",
        "\n",
        "[Lab: Matrix Algorithms](https://kth.instructure.com/courses/17068/assignments/104599)\n"
      ]
    },
    {
      "cell_type": "markdown",
      "metadata": {
        "id": "WeFO9QMeUOAu",
        "colab_type": "text"
      },
      "source": [
        "# **Methods**"
      ]
    },
    {
      "cell_type": "markdown",
      "metadata": {
        "id": "zF4iBj5VURZx",
        "colab_type": "text"
      },
      "source": [
        "In order to implement the algorithms, the mathematical definitions were followed. These definitions are listed in the following section.\n",
        "\n",
        "***Scalar product*** of two vectors a and b: \n",
        "\n",
        "$\n",
        "x \\cdot b = \\sum_{i=1}^{n} a_ib_i\n",
        "$\n",
        "\n",
        "The scalar product is only defined if both vectors have the same dimensions. \n",
        "\n",
        "***Matrix vector product*** of vector x and matrix A: $\n",
        "    \\begin{align*}\n",
        "    A{x}=\n",
        "    \\left[\n",
        "      \\begin{array}{cccc}\n",
        "        a_{11} & a_{12} & \\ldots & a_{1n}\\\\\n",
        "        a_{21} & a_{22} & \\ldots & a_{2n}\\\\\n",
        "        \\vdots & \\vdots & \\ddots & \\vdots\\\\\n",
        "        a_{m1} & a_{m2} & \\ldots & a_{mn}\n",
        "      \\end{array}\n",
        "    \\right]\n",
        "    \\left[\n",
        "      \\begin{array}{c}\n",
        "        x_1\\\\\n",
        "        x_2\\\\\n",
        "        \\vdots\\\\\n",
        "        x_n\n",
        "      \\end{array}\n",
        "    \\right]\n",
        "    =\n",
        "    \\left[\n",
        "      \\begin{array}{c}\n",
        "        a_{11}x_1+a_{12}x_2 + \\cdots + a_{1n} x_n\\\\\n",
        "        a_{21}x_1+a_{22}x_2 + \\cdots + a_{2n} x_n\\\\\n",
        "        \\vdots\\\\\n",
        "        a_{m1}x_1+a_{m2}x_2 + \\cdots + a_{mn} x_n\\\\\n",
        "      \\end{array}\n",
        "    \\right].\n",
        "  \\end{align*}\n",
        "$\n",
        "\n",
        "Matrix vector product is only defined if A has the same number of columns as x has rows.\n",
        "\n",
        "***Matrix matrix product*** of matrix x and matrix y is defined exactly as the matrix vector product and is only defined if x has equally many columns as y has rows. \n",
        "\n",
        "***Euclidian norm*** of vector $x=(x_1, ..., x_n)$:\n",
        "\n",
        "$\n",
        "||x|| = \\sqrt{x_1^2 + ... + x_n^2} \n",
        "$\n",
        "\n",
        "***Euclidian distance*** between vectors $x=(x_1, ..., x_n)$ and $y=(y_1, ..., y_n)$: \n",
        "\n",
        "$\n",
        "d(x,y) = \\sqrt{(x_1-y_1)^2 + ... + (x_n-y_n)^2} \n",
        "$\n",
        "\n",
        "The euclidian distance is only defined for vectors of the same dimensions.\n",
        "\n"
      ]
    },
    {
      "cell_type": "markdown",
      "metadata": {
        "id": "SsQLT38gVbn_",
        "colab_type": "text"
      },
      "source": [
        "# **Results**"
      ]
    },
    {
      "cell_type": "code",
      "metadata": {
        "id": "sf_H964V1zN8",
        "colab_type": "code",
        "colab": {}
      },
      "source": [
        "def scalar_product(x,y):  \n",
        "  assert x.ndim == 1 and y.ndim == 1 and x.shape == y.shape, \"not a valid operation\"\n",
        "\n",
        "  result = 0\n",
        "  for i in range(x.size):\n",
        "    result += x[i]*y[i]\n",
        "  \n",
        "  return result"
      ],
      "execution_count": 0,
      "outputs": []
    },
    {
      "cell_type": "code",
      "metadata": {
        "id": "Xy9zxO7Y4v4s",
        "colab_type": "code",
        "colab": {}
      },
      "source": [
        "def matrix_vector_product(x,y):\n",
        "  assert x.ndim == 1 and x.shape[0] == y.shape[1], \"not a valid operation\"\n",
        "\n",
        "  result = np.zeros((y.shape[0], 1))\n",
        "\n",
        "  for r in range(y.shape[0]):\n",
        "    res = 0\n",
        "    for c in range(y.shape[1]):\n",
        "      res += y[r][c] * x[c]\n",
        "    result[r] = res\n",
        "\n",
        "  return result"
      ],
      "execution_count": 0,
      "outputs": []
    },
    {
      "cell_type": "code",
      "metadata": {
        "id": "e3LIeDZyZHCC",
        "colab_type": "code",
        "colab": {}
      },
      "source": [
        "def matrix_matrix_product(x,y):\n",
        "  assert x.shape[1] == y.shape[0], \"not a valid operation\"\n",
        "\n",
        "  result = np.zeros((x.shape[0], y.shape[1]))\n",
        "\n",
        "  for rx in range(x.shape[0]):\n",
        "    for c in range(y.shape[1]):\n",
        "      res = 0\n",
        "      for ry in range(y.shape[0]):\n",
        "        res += x[rx][ry]*y[ry][c]\n",
        "      result[rx][c] = res\n",
        "  return result"
      ],
      "execution_count": 0,
      "outputs": []
    },
    {
      "cell_type": "code",
      "metadata": {
        "id": "6nlCdnbB4WY2",
        "colab_type": "code",
        "colab": {}
      },
      "source": [
        "def euclidian_norm(x):\n",
        "  assert x.ndim == 1, \"x is not a vector\"\n",
        "\n",
        "  result = 0\n",
        "  for i in x:\n",
        "    result += i*i\n",
        "  return math.sqrt(result)"
      ],
      "execution_count": 0,
      "outputs": []
    },
    {
      "cell_type": "code",
      "metadata": {
        "id": "KXUswkQH_ZYn",
        "colab_type": "code",
        "colab": {}
      },
      "source": [
        "def euclidian_distance(x,y):\n",
        "  assert x.shape == y.shape and x.ndim == 1 and y.ndim == 1, \"not a valid operation\"\n",
        "\n",
        "  res = 0\n",
        "  for i in range(x.shape[0]):\n",
        "    res += (x[i]-y[i])*(x[i]-y[i])\n",
        "  return math.sqrt(res)"
      ],
      "execution_count": 0,
      "outputs": []
    },
    {
      "cell_type": "code",
      "metadata": {
        "id": "wBDfFwjzaw6L",
        "colab_type": "code",
        "colab": {}
      },
      "source": [
        "def runTests():\n",
        "  x = np.array([2,1,0])\n",
        "  y = np.array([1,2,0])\n",
        "  a = np.array([[1,-1,2],[0,-3,1]])\n",
        "  b = np.array([[0,4,-2],[-4,-3,0]])\n",
        "  c = np.array([[0,1],[1,-1],[2,3]])\n",
        "  z = np.array([2, 4, 4])\n",
        "\n",
        "  assert scalar_product(x,y) == 4, \"The scalar product is wrong\"\n",
        "\n",
        "  assert (matrix_vector_product(x,a) == np.array([[1],[-3]])).all(), \"The matrix vector product is wrong\"\n",
        "\n",
        "  assert (matrix_matrix_product(b,c) == np.array([[0,-10],[-3,-1]])).all(), \"The matrix matrix product is wrong\"\n",
        "\n",
        "  assert euclidian_norm(z) == 6, \"The euclidian norm is wrong\"\n",
        "\n",
        "  assert euclidian_distance(z,x) == 5, \"The euclidian distance is wrong\"\n",
        "\n",
        "runTests()\n"
      ],
      "execution_count": 0,
      "outputs": []
    },
    {
      "cell_type": "markdown",
      "metadata": {
        "id": "_4GLBv0zWr7m",
        "colab_type": "text"
      },
      "source": [
        "# **Discussion**"
      ]
    },
    {
      "cell_type": "markdown",
      "metadata": {
        "id": "6bcsDSoRXHZe",
        "colab_type": "text"
      },
      "source": [
        "The results were tested against several tests to conclude their robustness, however, the algorithms should have been tested against undefined input, such as vectors and matrix of different dimensions. The algorithms were not too hard to implement when given the mathematical definitions."
      ]
    }
  ]
}
