{
  "nbformat": 4,
  "nbformat_minor": 0,
  "metadata": {
    "colab": {
      "name": "leoenge_matrix_multiplication.ipynb",
      "provenance": [],
      "include_colab_link": true
    },
    "kernelspec": {
      "name": "python3",
      "display_name": "Python 3"
    }
  },
  "cells": [
    {
      "cell_type": "markdown",
      "metadata": {
        "id": "view-in-github",
        "colab_type": "text"
      },
      "source": [
        "<a href=\"https://colab.research.google.com/github/johanhoffman/DD2363-VT20/blob/leoenge/Lab-1/leoenge_matrix_multiplication.ipynb\" target=\"_parent\"><img src=\"https://colab.research.google.com/assets/colab-badge.svg\" alt=\"Open In Colab\"/></a>"
      ]
    },
    {
      "cell_type": "markdown",
      "metadata": {
        "id": "6RgtXlfYO_i7",
        "colab_type": "text"
      },
      "source": [
        "# **Lab: Matrix multiplication**\n",
        "**Leo Enge**"
      ]
    },
    {
      "cell_type": "markdown",
      "metadata": {
        "id": "9x_J5FVuPzbm",
        "colab_type": "text"
      },
      "source": [
        "# **Abstract**"
      ]
    },
    {
      "cell_type": "markdown",
      "metadata": {
        "id": "OkT8J7uOWpT3",
        "colab_type": "text"
      },
      "source": [
        "In this lab, functions for calculating some of the standard vector and matrix operations were defined. It was done by first defining a very general function for calculating the matrix product upon which all the other calculations were defined. The accuracy of the functions were tested against the corresponding numpy functions and in all cases equaled to at least seven decimal places."
      ]
    },
    {
      "cell_type": "markdown",
      "metadata": {
        "id": "HmB2noTr1Oyo",
        "colab_type": "text"
      },
      "source": [
        "A short statement on who is the author of the file, and if the code is distributed under a certain license. "
      ]
    },
    {
      "cell_type": "code",
      "metadata": {
        "id": "Pdll1Xc9WP0e",
        "colab_type": "code",
        "outputId": "8778a66c-6aa7-43bc-ee85-6a102be00966",
        "colab": {
          "base_uri": "https://localhost:8080/",
          "height": 35
        }
      },
      "source": [
        "\"\"\"This program is a template for lab reports in the course\"\"\"\n",
        "\"\"\"DD2363 Methods in Scientific Computing, \"\"\"\n",
        "\"\"\"KTH Royal Institute of Technology, Stockholm, Sweden.\"\"\"\n",
        "\n",
        "# Copyright (C) 2019 Leo Enge (leoe@kth.se)\n",
        "\n",
        "# This file is part of the course DD2363 Methods in Scientific Computing\n",
        "# KTH Royal Institute of Technology, Stockholm, Sweden\n",
        "#\n",
        "# This is free software: you can redistribute it and/or modify\n",
        "# it under the terms of the GNU Lesser General Public License as published by\n",
        "# the Free Software Foundation, either version 3 of the License, or\n",
        "# (at your option) any later version."
      ],
      "execution_count": 0,
      "outputs": [
        {
          "output_type": "execute_result",
          "data": {
            "text/plain": [
              "'KTH Royal Institute of Technology, Stockholm, Sweden.'"
            ]
          },
          "metadata": {
            "tags": []
          },
          "execution_count": 1
        }
      ]
    },
    {
      "cell_type": "markdown",
      "metadata": {
        "id": "28xLGz8JX3Hh",
        "colab_type": "text"
      },
      "source": [
        "# **Set up environment**"
      ]
    },
    {
      "cell_type": "code",
      "metadata": {
        "id": "Xw7VlErAX7NS",
        "colab_type": "code",
        "colab": {}
      },
      "source": [
        "# Load neccessary modules.\n",
        "from google.colab import files\n",
        "\n",
        "import time\n",
        "import numpy as np\n",
        "\n",
        "from matplotlib import pyplot as plt\n",
        "from matplotlib import tri\n",
        "from matplotlib import axes\n",
        "from mpl_toolkits.mplot3d import Axes3D\n",
        "\n",
        "import unittest"
      ],
      "execution_count": 0,
      "outputs": []
    },
    {
      "cell_type": "markdown",
      "metadata": {
        "id": "gnO3lhAigLev",
        "colab_type": "text"
      },
      "source": [
        "# **Introduction**"
      ]
    },
    {
      "cell_type": "markdown",
      "metadata": {
        "id": "l5zMzgPlRAF6",
        "colab_type": "text"
      },
      "source": [
        "In this lab, functions for calculating a set of standard vector and matrix operations are defined. The approach taken in this report is to define a very general function to calculate the matrix multiplication, upon which all the other calculations can then be defined, directly or indirectly. \n",
        "\n"
      ]
    },
    {
      "cell_type": "markdown",
      "metadata": {
        "id": "WeFO9QMeUOAu",
        "colab_type": "text"
      },
      "source": [
        "# **Methods**"
      ]
    },
    {
      "cell_type": "markdown",
      "metadata": {
        "id": "QjtNUdhb5Fst",
        "colab_type": "text"
      },
      "source": [
        "## Matrix multiplication\n",
        "We define a function which returns the matrix multiplication $(c_{i,j})$ of two matrices $(a_{i,j})$ and $(b_{i,j})$, by iterativley doing the computation\n",
        "\\begin{equation}\n",
        "c_{i,j} = \\sum_k a_{i,k}b_{k,j}\n",
        "\\end{equation}\n",
        "\n",
        "The two matrices can be of any shapes as long as the number of columns of the first one equals the number of rows of the second one. That this is satisfied is checked before any computation is done.\n"
      ]
    },
    {
      "cell_type": "code",
      "metadata": {
        "colab_type": "code",
        "id": "Es-zvnEZ2iom",
        "colab": {}
      },
      "source": [
        "def matrix_product(M1, M2):\n",
        "  if not (M1.ndim == 2 and M2.ndim == 2):\n",
        "    raise TypeError('Matrices must be two-dimensional.')\n",
        "  if not (M1.shape[1] == M2.shape[0]):\n",
        "    raise TypeError('The dimensions of the matrices are not compatible for multiplication.')\n",
        "  result_matrix = np.zeros((M1.shape[0], M2.shape[1]))\n",
        "  for i in range(0, result_matrix.shape[0]):\n",
        "    for j in range(0, result_matrix.shape[1]):\n",
        "      sum = 0\n",
        "      for k in range(0, M1.shape[1]):\n",
        "        sum += M1[i,k]*M2[k,j]\n",
        "      result_matrix[i,j] = sum\n",
        "  return result_matrix"
      ],
      "execution_count": 0,
      "outputs": []
    },
    {
      "cell_type": "markdown",
      "metadata": {
        "id": "1KE4PInt2pN9",
        "colab_type": "text"
      },
      "source": [
        "### Testing the matrix multiplication\n",
        "We first test that the expected errors are raised we run the function with a couple of different matrix dimensions and sizes that should not be admitted.\n",
        "\n",
        "Then we test the accuracy of the matrix multiplication. Assuming the numpy function as the correct answer of the matrix multiplication (this is not completely right, but probably sufficiently so) we test wheter our matrix multiplication fails to be correct within some different decimal points for a set of random matrices with random shapes. We do so by using the numpy testing funtion *assert_almost_equal*.\n",
        "\n"
      ]
    },
    {
      "cell_type": "code",
      "metadata": {
        "id": "q3mrkXtk2n8a",
        "colab_type": "code",
        "outputId": "7415d8f1-210b-4b20-a4ea-99aea988ec64",
        "colab": {
          "base_uri": "https://localhost:8080/",
          "height": 109
        }
      },
      "source": [
        "class Test(unittest.TestCase):\n",
        "  \n",
        "  def test_dimension_and_size(self):\n",
        "    M1 = np.array([1,1,1])\n",
        "    M2 = np.array([2,2,2])\n",
        "    M3 = np.array([[3,3,3],[3,3,3],[3,3,3]])\n",
        "    M4 = np.array([[2,2],[2,2]])\n",
        "    with self.assertRaises(TypeError):\n",
        "      matrix_product(M1,M2)\n",
        "    with self.assertRaises(TypeError):\n",
        "      matrix_product(M1, M3)\n",
        "    with self.assertRaises(TypeError):\n",
        "      matrix_product(M3, M4)\n",
        "  \n",
        "  def test_accuray(self):\n",
        "    for _ in range(0,100):\n",
        "      dim = np.random.randint(1,10)\n",
        "      M1 = np.random.rand(np.random.randint(1,10), dim)\n",
        "      M2 = np.random.rand(dim, np.random.randint(1,10))\n",
        "      for i in range(3,7):\n",
        "        np.testing.assert_almost_equal(matrix_product(M1, M2), np.matmul(M1, M2), decimal=i)\n",
        "\n",
        "if __name__ == '__main__':\n",
        "  unittest.main(argv=['first-arg-is-ignored'], exit=False)"
      ],
      "execution_count": 0,
      "outputs": [
        {
          "output_type": "stream",
          "text": [
            "..\n",
            "----------------------------------------------------------------------\n",
            "Ran 2 tests in 0.100s\n",
            "\n",
            "OK\n"
          ],
          "name": "stderr"
        }
      ]
    },
    {
      "cell_type": "markdown",
      "metadata": {
        "id": "rpoMVJ1v8tWN",
        "colab_type": "text"
      },
      "source": [
        "## Matrix-vector multiplication\n",
        "A vector is a matrix with only one row or one column. Hence the vector matrix multiplication can be done using the already defined method for matrix multiplication if the vector is expressed as a matrix of the right shape.\n",
        "\n",
        "Before this is done, the function checks that the dimensions and sizes are compatible for this multiplication.**bold text**"
      ]
    },
    {
      "cell_type": "code",
      "metadata": {
        "id": "oFymwckpflbx",
        "colab_type": "code",
        "colab": {}
      },
      "source": [
        "def matrix_vector_product(matrix, vector):\n",
        "  if not vector.ndim == 1:\n",
        "    raise TypeError('Vector must be one-dimensional')\n",
        "  if not vector.size == matrix.shape[1]:\n",
        "    raise TypeError('The size of the vector and the dimension of the matrix are not compatible for muliplication.')\n",
        "  return np.squeeze(matrix_product(matrix, np.array([vector]).transpose()))"
      ],
      "execution_count": 0,
      "outputs": []
    },
    {
      "cell_type": "markdown",
      "metadata": {
        "id": "j0xNyQ4M_39V",
        "colab_type": "text"
      },
      "source": [
        "### Testing the matrix-vector multiplication\n",
        "Just as before we can test that the function raises *TypeError* when the dimensions and sizes are wrong, but here we only test the accuracy of the muliplication against the corresponding numpy function."
      ]
    },
    {
      "cell_type": "code",
      "metadata": {
        "id": "9HaQ1Buw9T1K",
        "colab_type": "code",
        "outputId": "a8fcdd7c-ef94-4dae-fc94-140c55fb7aaa",
        "colab": {
          "base_uri": "https://localhost:8080/",
          "height": 109
        }
      },
      "source": [
        "class Test(unittest.TestCase):\n",
        "  \n",
        "  def test_accuracy(self):\n",
        "    for _ in range(0,100):\n",
        "      dim = np.random.randint(1,10)\n",
        "      M = np.random.rand(np.random.randint(1,10), dim)\n",
        "      v = np.random.rand(dim)\n",
        "      for i in range(3,7):\n",
        "        np.testing.assert_almost_equal(matrix_vector_product(M, v), M.dot(v), decimal=i)\n",
        "\n",
        "\n",
        "if __name__ == '__main__':\n",
        "  unittest.main(argv=['first-arg-is-ignored'], exit=False)"
      ],
      "execution_count": 0,
      "outputs": [
        {
          "output_type": "stream",
          "text": [
            ".\n",
            "----------------------------------------------------------------------\n",
            "Ran 1 test in 0.059s\n",
            "\n",
            "OK\n"
          ],
          "name": "stderr"
        }
      ]
    },
    {
      "cell_type": "markdown",
      "metadata": {
        "id": "jkwhbTV3Ap5r",
        "colab_type": "text"
      },
      "source": [
        "## Scalar multiplication\n",
        "The scalar product can be calculated by\n",
        "\\begin{equation}\n",
        "\\langle v, u \\rangle = v^T u\n",
        "\\end{equation}\n",
        "so we calculate the scalar product using this identiy and the previously defined function for matrix multiplication."
      ]
    },
    {
      "cell_type": "code",
      "metadata": {
        "id": "rgQ9EsFyiSXJ",
        "colab_type": "code",
        "colab": {}
      },
      "source": [
        "def scalar_product(v1, v2):\n",
        "  if not (v1.ndim == 1 and v2.ndim == 1):\n",
        "    raise TypeError('Vectors must be one-dimensional.')\n",
        "  if not v1.size == v2.size:\n",
        "    raise TypeError('Vectors must be of the same length.')\n",
        "  return matrix_product(np.array([v1]), np.array([v2]).transpose())[0]"
      ],
      "execution_count": 0,
      "outputs": []
    },
    {
      "cell_type": "markdown",
      "metadata": {
        "id": "-tWFa4VBB8Ki",
        "colab_type": "text"
      },
      "source": [
        "### Testing the scalar product\n",
        "We test the accuray of the scalar product against the corresponding numpy function for a set of random vectors of random sizes."
      ]
    },
    {
      "cell_type": "code",
      "metadata": {
        "id": "4jE61ltAByWo",
        "colab_type": "code",
        "outputId": "4a28dc3d-6d14-4248-c2fa-e0038ad4a8b2",
        "colab": {
          "base_uri": "https://localhost:8080/",
          "height": 109
        }
      },
      "source": [
        "class Test(unittest.TestCase):\n",
        "  \n",
        "  def test_accuracy(self):\n",
        "    for _ in range(0,100):\n",
        "      dim = np.random.randint(1,10)\n",
        "      v1 = np.random.rand(dim)\n",
        "      v2 = np.random.rand(dim)\n",
        "      for i in range(3,7):\n",
        "        np.testing.assert_almost_equal(scalar_product(v1, v2), v1.dot(v2), decimal=i)\n",
        "\n",
        "\n",
        "if __name__ == '__main__':\n",
        "  unittest.main(argv=['first-arg-is-ignored'], exit=False)"
      ],
      "execution_count": 0,
      "outputs": [
        {
          "output_type": "stream",
          "text": [
            ".\n",
            "----------------------------------------------------------------------\n",
            "Ran 1 test in 0.053s\n",
            "\n",
            "OK\n"
          ],
          "name": "stderr"
        }
      ]
    },
    {
      "cell_type": "markdown",
      "metadata": {
        "id": "VzS6s2eDCRNs",
        "colab_type": "text"
      },
      "source": [
        "## Norm and distance\n",
        "The Euclidean norm $\\|v\\|$ can be defined as \n",
        "\\begin{equation}\n",
        "\\|v\\|^2 = \\langle v, v \\rangle \n",
        "\\end{equation}\n",
        "so we calculate the norm using the function for the scalar product previously defined. The Euclidean disctance $\\|u-v\\|$ can now be calculated using this function for the Euclidean norm.\n",
        "\n",
        "The accuracy of these two functions is then tested against the corresponding numpy function in the same manner as before for a set of random vectors of random sizes. Since the accuracy of the distance only depends on the accuracy of the norm, this is not tested explicitly.\n"
      ]
    },
    {
      "cell_type": "code",
      "metadata": {
        "id": "vFLJpdcmkBZY",
        "colab_type": "code",
        "colab": {}
      },
      "source": [
        "def norm(v):\n",
        "  if not v.ndim == 1:\n",
        "    raise TypeError('Vector must be one-dimensional.')\n",
        "  return np.sqrt(scalar_product(v,v))"
      ],
      "execution_count": 0,
      "outputs": []
    },
    {
      "cell_type": "code",
      "metadata": {
        "id": "vc3QjT-tlg7e",
        "colab_type": "code",
        "colab": {}
      },
      "source": [
        "def distance(x,y):\n",
        "  if not (x.ndim == 1 and y.ndim == 1):\n",
        "    raise TypeError('Vectors must be one-dimensional.')\n",
        "  if not x.size == y.size:\n",
        "    raise TypeError('Vectors must be of the same length.')\n",
        "  return(norm(x-y))"
      ],
      "execution_count": 0,
      "outputs": []
    },
    {
      "cell_type": "code",
      "metadata": {
        "id": "Rs_lL-V2E-OW",
        "colab_type": "code",
        "outputId": "1503c1d0-2981-4e5e-9d3a-fbbd28922ccc",
        "colab": {
          "base_uri": "https://localhost:8080/",
          "height": 109
        }
      },
      "source": [
        "class Test(unittest.TestCase):\n",
        "  \n",
        "  def test_norm_accuracy(self):\n",
        "    for _ in range(0,100):\n",
        "      dim = np.random.randint(1,10)\n",
        "      v = np.random.rand(dim)\n",
        "      for i in range(3,7):\n",
        "        np.testing.assert_almost_equal(norm(v), np.linalg.norm(v), decimal=i)\n",
        "\n",
        "if __name__ == '__main__':\n",
        "  unittest.main(argv=['first-arg-is-ignored'], exit=False)\n"
      ],
      "execution_count": 0,
      "outputs": [
        {
          "output_type": "stream",
          "text": [
            ".\n",
            "----------------------------------------------------------------------\n",
            "Ran 1 test in 0.061s\n",
            "\n",
            "OK\n"
          ],
          "name": "stderr"
        }
      ]
    },
    {
      "cell_type": "markdown",
      "metadata": {
        "id": "SsQLT38gVbn_",
        "colab_type": "text"
      },
      "source": [
        "# **Results**"
      ]
    },
    {
      "cell_type": "markdown",
      "metadata": {
        "id": "RLwlnOzuV-Cd",
        "colab_type": "text"
      },
      "source": [
        "All the functions defined were tested with a set of 100 ranom matrices or vectors of size 10 or smaller. And the result of all the function were equal to their corresponding numpy function to at least 7 decimal places."
      ]
    },
    {
      "cell_type": "markdown",
      "metadata": {
        "id": "_4GLBv0zWr7m",
        "colab_type": "text"
      },
      "source": [
        "# **Discussion**"
      ]
    },
    {
      "cell_type": "markdown",
      "metadata": {
        "id": "6bcsDSoRXHZe",
        "colab_type": "text"
      },
      "source": [
        "Assuming that numpy's functions for calculating the operations in this lab are very close to the true value, which is reasonably to assume since it is a a well-known, widley used a well tested library for numeric calculations, we got the result that the very simple functions defined in this lab are correct to at least seven decimal points. This is not however not unexpected since the operations themselves are quite simple and do not lend themselves to much ambiguity in what computations should be made.\n",
        "\n",
        "Instead of using the approach of defining a very general function for matrix multiplication upon which the rest of the calculations are based, as was done in this report, one can instead begin by defining the scalar multiplication, then build the matrix-vector and matrix-matrix multiplication upon this one. That approach could be favourable since reading the code might give a more easy-to-understand and intutive idea of what the multiplications accutually consist of. Whereas the method used now feels more like a algorithmic manipulation of indicies. In terms of what computations are acctually done, and when, it makes no difference though."
      ]
    }
  ]
}