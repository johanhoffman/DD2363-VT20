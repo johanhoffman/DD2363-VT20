{
  "nbformat": 4,
  "nbformat_minor": 0,
  "metadata": {
    "colab": {
      "name": "edvinvp_lab_1.ipynb",
      "provenance": [],
      "collapsed_sections": []
    },
    "kernelspec": {
      "name": "python3",
      "display_name": "Python 3"
    }
  },
  "cells": [
    {
      "cell_type": "markdown",
      "metadata": {
        "id": "6RgtXlfYO_i7",
        "colab_type": "text"
      },
      "source": [
        "# **Lab 1: Matrix Algorithms**\n",
        "**Edvin von Platen**"
      ]
    },
    {
      "cell_type": "markdown",
      "metadata": {
        "id": "9x_J5FVuPzbm",
        "colab_type": "text"
      },
      "source": [
        "# **Abstract**"
      ]
    },
    {
      "cell_type": "markdown",
      "metadata": {
        "id": "6UFTSzW7P8kL",
        "colab_type": "text"
      },
      "source": [
        "\n",
        "In this lab we implement the following matrix and vector algorithms: scalar product, matrix-vector product, matrix-matrix product, and the Euclidian norm."
      ]
    },
    {
      "cell_type": "markdown",
      "metadata": {
        "id": "28xLGz8JX3Hh",
        "colab_type": "text"
      },
      "source": [
        "# **Set up environment**"
      ]
    },
    {
      "cell_type": "code",
      "metadata": {
        "id": "Xw7VlErAX7NS",
        "colab_type": "code",
        "colab": {}
      },
      "source": [
        "# Load neccessary modules.\n",
        "from google.colab import files\n",
        "\n",
        "import time\n",
        "import numpy as np\n",
        "\n",
        "from matplotlib import pyplot as plt\n",
        "from matplotlib import tri\n",
        "from matplotlib import axes\n",
        "from mpl_toolkits.mplot3d import Axes3D"
      ],
      "execution_count": 0,
      "outputs": []
    },
    {
      "cell_type": "markdown",
      "metadata": {
        "id": "gnO3lhAigLev",
        "colab_type": "text"
      },
      "source": [
        "# **Introduction**"
      ]
    },
    {
      "cell_type": "markdown",
      "metadata": {
        "id": "l5zMzgPlRAF6",
        "colab_type": "text"
      },
      "source": [
        "\n",
        "Matrix algorithms are commonly used for numerical computation, in this lab we implement some of the most common algorithms. All definitions can be found in the course lecture notes.\n",
        "\n",
        "We will use the index notation from the lecture notes where $A=(a_{ij})$ denotes a matrix and $x=(x_i)$ is a column vector. "
      ]
    },
    {
      "cell_type": "markdown",
      "metadata": {
        "id": "WeFO9QMeUOAu",
        "colab_type": "text"
      },
      "source": [
        "# **Methods**"
      ]
    },
    {
      "cell_type": "markdown",
      "metadata": {
        "id": "zF4iBj5VURZx",
        "colab_type": "text"
      },
      "source": [
        "In this section we give the mathematical formula for each algorithm and the corresponding implementation."
      ]
    },
    {
      "cell_type": "markdown",
      "metadata": {
        "id": "nxYsiGqQUMiF",
        "colab_type": "text"
      },
      "source": [
        "### **Scalar Product**"
      ]
    },
    {
      "cell_type": "markdown",
      "metadata": {
        "id": "mf5KAlkLUhGi",
        "colab_type": "text"
      },
      "source": [
        "The scalar product $(\\cdot,\\cdot)$ for two vectors $x,y\\in R^n$ is defined as,\n",
        "$$\n",
        "(x,y) = \\sum_{i=1}^n x_iy_i\n",
        "$$"
      ]
    },
    {
      "cell_type": "code",
      "metadata": {
        "id": "jA2V4HEkUJwX",
        "colab_type": "code",
        "colab": {}
      },
      "source": [
        "def scalar_product(x,y):\n",
        "  res = 0\n",
        "  for i in range(x.size):\n",
        "    res += x[i]*y[i]\n",
        "  return res"
      ],
      "execution_count": 0,
      "outputs": []
    },
    {
      "cell_type": "markdown",
      "metadata": {
        "id": "uTm-6RNKW0EW",
        "colab_type": "text"
      },
      "source": [
        "### **Matrix-Vector Product**"
      ]
    },
    {
      "cell_type": "markdown",
      "metadata": {
        "id": "dr_ZIwAXW5iL",
        "colab_type": "text"
      },
      "source": [
        "The matrix-vector product for a matrix $A\\in R^{m\\times n}$ and vector $x\\in R^n$ is defined as,\n",
        "$$\n",
        "Ax = b, \\ b \\in R^m \\text{  where } b_i = \\sum_{j=1}^n a_{ij}x_j\n",
        "$$"
      ]
    },
    {
      "cell_type": "code",
      "metadata": {
        "id": "K_xbu9B5Yg3T",
        "colab_type": "code",
        "colab": {}
      },
      "source": [
        "def matrix_vector_product(A,x):\n",
        "  m, n = A.shape\n",
        "  b = np.zeros(m)\n",
        "  for i in range(m):\n",
        "    for j in range(n):\n",
        "      b[i] += A[i,j]*x[j]\n",
        "  return b"
      ],
      "execution_count": 0,
      "outputs": []
    },
    {
      "cell_type": "markdown",
      "metadata": {
        "id": "38JoOaXdaeRp",
        "colab_type": "text"
      },
      "source": [
        "### **Matrix-Matrix Product**"
      ]
    },
    {
      "cell_type": "markdown",
      "metadata": {
        "id": "5Q8ZpXRdajl0",
        "colab_type": "text"
      },
      "source": [
        "The matrix-matrix product $AB = C$ for the two matrices $A \\in R^{m\\times p} \\text{ and } B\\in R^{p\\times n}$ is a matrix $C\\in R^{m\\times n}$ defined as,\n",
        "$$\n",
        "c_{ij} = \\sum_{k = 1}^p a_{ik}b_{kj}\n",
        "$$"
      ]
    },
    {
      "cell_type": "code",
      "metadata": {
        "id": "wuvHNED3dTOF",
        "colab_type": "code",
        "colab": {}
      },
      "source": [
        "def matrix_matrix_product(A,B):\n",
        "  m, p_a = A.shape\n",
        "  p_b, n = B.shape\n",
        "  p = p_a \n",
        "  C = np.zeros((m,n))\n",
        "  for i in range(m):\n",
        "    for j in range(n):\n",
        "      for k in range(p):\n",
        "        C[i,j] += A[i,k]*B[k,j]\n",
        "  return C "
      ],
      "execution_count": 0,
      "outputs": []
    },
    {
      "cell_type": "markdown",
      "metadata": {
        "id": "3JxjXWpOfazq",
        "colab_type": "text"
      },
      "source": [
        "### **Euclidian Norm**"
      ]
    },
    {
      "cell_type": "markdown",
      "metadata": {
        "id": "gvEw_xCDfggx",
        "colab_type": "text"
      },
      "source": [
        "The Euclidian norm, or $l^2$ norm, is induced by the Euclidian inner product in the inner product space $R^n$. The Euclidian inner product is also known as the *scalar product* which we implemented above. This means that for a vector $x\\in R^n$ the Euclidian norm $\\Vert \\cdot \\Vert_2$ is defined as,\n",
        "$$\n",
        "\\Vert x \\Vert_2 = \\sqrt{(x,x)},\n",
        "$$\n",
        "where $(\\cdot,\\cdot)$ is the Euclidian inner product."
      ]
    },
    {
      "cell_type": "code",
      "metadata": {
        "id": "qy4tFtAcg0GG",
        "colab_type": "code",
        "colab": {}
      },
      "source": [
        "def euclidian_norm(x):\n",
        "  return np.sqrt(scalar_product(x,x))"
      ],
      "execution_count": 0,
      "outputs": []
    },
    {
      "cell_type": "markdown",
      "metadata": {
        "id": "SsQLT38gVbn_",
        "colab_type": "text"
      },
      "source": [
        "# **Results**"
      ]
    },
    {
      "cell_type": "markdown",
      "metadata": {
        "id": "RLwlnOzuV-Cd",
        "colab_type": "text"
      },
      "source": [
        "In this section we test the implementations above. "
      ]
    },
    {
      "cell_type": "code",
      "metadata": {
        "id": "DKFez08BaW_5",
        "colab_type": "code",
        "colab": {
          "base_uri": "https://localhost:8080/",
          "height": 1000
        },
        "outputId": "dd70d2c4-a804-4d10-d20b-49f8b40969cf"
      },
      "source": [
        "print(\"########## SCALAR PRODUCT TESTS #############\")\n",
        "zero_vec = np.array([0,0,0])\n",
        "ones_vec = np.array([1,1,1])\n",
        "x = np.array([-10, 0, 2])\n",
        "y = np.array([-1,-1,-1])\n",
        "print(\"(\" + str(zero_vec) + \",\" + str(ones_vec) + \") = \" + str(scalar_product(zero_vec, ones_vec)))\n",
        "print(\"(\" + str(ones_vec) + \",\" + str(zero_vec) + \") = \" + str(scalar_product(ones_vec, zero_vec)))\n",
        "print(\"(\" + str(ones_vec) + \",\" + str(ones_vec) + \") = \" + str(scalar_product(ones_vec, ones_vec)))\n",
        "print(\"(\" + str(ones_vec) + \",\" + str(y) + \") = \" + str(scalar_product(ones_vec, y)))\n",
        "print(\"(\" + str(x) + \",\" + str(y) + \") = \" + str(scalar_product(x,y)))\n",
        "print(\"(\" + str(y) + \",\" + str(x) + \") = \" + str(scalar_product(y,x)))\n",
        "print(\"(\" + str(x) + \",\" + str(x) + \") = \" + str(scalar_product(x,x)))\n",
        "\n",
        "\n",
        "print(\"\\n########## MATRIX VECTOR PRODUCT TESTS  #############\")\n",
        "\n",
        "I = np.array([[1,0,0],[0,1,0],[0,0,1]])\n",
        "A = np.array([[-1,1,-2], [1,1,1], [-1,-2,-1]])\n",
        "print(str(I) + \"\" + str(zero_vec) + \"^T = \" + str(matrix_vector_product(I,zero_vec))+\"^T\")\n",
        "print(str(I) + \"\" + str(ones_vec) + \"^T = \" + str(matrix_vector_product(I,ones_vec))+\"^T\")\n",
        "print(str(A) + \"\" + str(ones_vec) + \"^T = \" + str(matrix_vector_product(A,ones_vec))+\"^T\")\n",
        "print(str(A) + \"\" + str(y) + \"^T = \" + str(matrix_vector_product(A,y)) + \"^T\")\n",
        "\n",
        "\n",
        "print(\"\\n########## MATRIX MATRIX PRODUCT TESTS  #############\")\n",
        "\n",
        "A = np.array([[1,-1],[-1,1]])\n",
        "B = np.array([[0,1,1,1,1],[1,0,1,1,1]])\n",
        "C = np.array([[1,2,3],[4,5,6],[-1,-1,-1]])\n",
        "print(str(I) + \" * \\n\" + str(I) + \" = \\n \" + str(matrix_matrix_product(I,I)))\n",
        "print(\"\")\n",
        "print(str(A) + \" * \\n\" + str(B) + \" = \\n \" + str(matrix_matrix_product(A,B)))\n",
        "print(\"\")\n",
        "print(str(C) + \" * \\n\" + str(I) + \" = \\n \" + str(matrix_matrix_product(C,I)))\n",
        "print(\"\")\n",
        "print(str(I) + \" * \\n\" + str(C) + \" = \\n \" + str(matrix_matrix_product(I,C)))\n",
        "print(\"\")\n",
        "print(str(C) + \" * \\n\" + str(C) + \" = \\n \" + str(matrix_matrix_product(C,C)))\n",
        "print(\"\")\n",
        "\n",
        "\n",
        "print(\"\\n########## EUCLIDIAN NORM TESTS  #############\")\n",
        "\n",
        "x1 = np.array([1,0,0,0,0])\n",
        "x2 = np.array([1/np.sqrt(2), 1/np.sqrt(2)])\n",
        "x3 = np.array([-1/np.sqrt(2), -1/np.sqrt(2)])\n",
        "x4 = np.array([0])\n",
        "x5 = np.array([-1,0,-1,0,-1])\n",
        "print(\"||\" + str(x1) + \"|| = \" + str(euclidian_norm(x1)))\n",
        "print(\"||\" + str(x2) + \"|| = \" + str(euclidian_norm(x2)))\n",
        "print(\"||\" + str(x3) + \"|| = \" + str(euclidian_norm(x3)))\n",
        "print(\"||\" + str(x4) + \"|| = \" + str(euclidian_norm(x4)))\n",
        "print(\"||\" + str(x5) + \"|| = \" + str(euclidian_norm(x5)))"
      ],
      "execution_count": 22,
      "outputs": [
        {
          "output_type": "stream",
          "text": [
            "########## SCALAR PRODUCT TESTS #############\n",
            "([0 0 0],[1 1 1]) = 0\n",
            "([1 1 1],[0 0 0]) = 0\n",
            "([1 1 1],[1 1 1]) = 3\n",
            "([1 1 1],[-1 -1 -1]) = -3\n",
            "([-10   0   2],[-1 -1 -1]) = 8\n",
            "([-1 -1 -1],[-10   0   2]) = 8\n",
            "([-10   0   2],[-10   0   2]) = 104\n",
            "\n",
            "########## MATRIX VECTOR PRODUCT TESTS  #############\n",
            "[[1 0 0]\n",
            " [0 1 0]\n",
            " [0 0 1]][0 0 0]^T = [0. 0. 0.]^T\n",
            "[[1 0 0]\n",
            " [0 1 0]\n",
            " [0 0 1]][1 1 1]^T = [1. 1. 1.]^T\n",
            "[[-1  1 -2]\n",
            " [ 1  1  1]\n",
            " [-1 -2 -1]][1 1 1]^T = [-2.  3. -4.]^T\n",
            "[[-1  1 -2]\n",
            " [ 1  1  1]\n",
            " [-1 -2 -1]][-1 -1 -1]^T = [ 2. -3.  4.]^T\n",
            "\n",
            "########## MATRIX MATRIX PRODUCT TESTS  #############\n",
            "[[1 0 0]\n",
            " [0 1 0]\n",
            " [0 0 1]] * \n",
            "[[1 0 0]\n",
            " [0 1 0]\n",
            " [0 0 1]] = \n",
            " [[1. 0. 0.]\n",
            " [0. 1. 0.]\n",
            " [0. 0. 1.]]\n",
            "\n",
            "[[ 1 -1]\n",
            " [-1  1]] * \n",
            "[[0 1 1 1 1]\n",
            " [1 0 1 1 1]] = \n",
            " [[-1.  1.  0.  0.  0.]\n",
            " [ 1. -1.  0.  0.  0.]]\n",
            "\n",
            "[[ 1  2  3]\n",
            " [ 4  5  6]\n",
            " [-1 -1 -1]] * \n",
            "[[1 0 0]\n",
            " [0 1 0]\n",
            " [0 0 1]] = \n",
            " [[ 1.  2.  3.]\n",
            " [ 4.  5.  6.]\n",
            " [-1. -1. -1.]]\n",
            "\n",
            "[[1 0 0]\n",
            " [0 1 0]\n",
            " [0 0 1]] * \n",
            "[[ 1  2  3]\n",
            " [ 4  5  6]\n",
            " [-1 -1 -1]] = \n",
            " [[ 1.  2.  3.]\n",
            " [ 4.  5.  6.]\n",
            " [-1. -1. -1.]]\n",
            "\n",
            "[[ 1  2  3]\n",
            " [ 4  5  6]\n",
            " [-1 -1 -1]] * \n",
            "[[ 1  2  3]\n",
            " [ 4  5  6]\n",
            " [-1 -1 -1]] = \n",
            " [[ 6.  9. 12.]\n",
            " [18. 27. 36.]\n",
            " [-4. -6. -8.]]\n",
            "\n",
            "\n",
            "########## EUCLIDIAN NORM TESTS  #############\n",
            "||[1 0 0 0 0]|| = 1.0\n",
            "||[0.70710678 0.70710678]|| = 0.9999999999999999\n",
            "||[-0.70710678 -0.70710678]|| = 0.9999999999999999\n",
            "||[0]|| = 0.0\n",
            "||[-1  0 -1  0 -1]|| = 1.7320508075688772\n"
          ],
          "name": "stdout"
        }
      ]
    },
    {
      "cell_type": "markdown",
      "metadata": {
        "id": "_4GLBv0zWr7m",
        "colab_type": "text"
      },
      "source": [
        "# **Discussion**"
      ]
    },
    {
      "cell_type": "markdown",
      "metadata": {
        "id": "6bcsDSoRXHZe",
        "colab_type": "text"
      },
      "source": [
        "All implemented algorithms appear to be working as intended. This was not too suprising as the algorithms are quite simple. However, it is still important to test the implementation to catch any potential mistakes.\n"
      ]
    }
  ]
}