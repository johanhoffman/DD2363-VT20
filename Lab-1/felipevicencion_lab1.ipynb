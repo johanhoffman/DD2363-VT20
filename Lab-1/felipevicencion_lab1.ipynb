{
  "nbformat": 4,
  "nbformat_minor": 0,
  "metadata": {
    "colab": {
      "name": "felipevicencion-report-lab-1.ipynb",
      "provenance": []
    },
    "kernelspec": {
      "name": "python3",
      "display_name": "Python 3"
    }
  },
  "cells": [
    {
      "cell_type": "markdown",
      "metadata": {
        "id": "Ne205wrhj1m3",
        "colab_type": "text"
      },
      "source": [
        "# **Lab 1: Matrix Algorithms**\n",
        "**Felipe Vicencio**"
      ]
    },
    {
      "cell_type": "markdown",
      "metadata": {
        "id": "HOAn9nlrkAQ3",
        "colab_type": "text"
      },
      "source": [
        "# **Abstract**\n",
        "This report contains functions to calculate vector and matrix operations."
      ]
    },
    {
      "cell_type": "markdown",
      "metadata": {
        "id": "hMkbEm2RkhEL",
        "colab_type": "text"
      },
      "source": [
        "# **About the code**"
      ]
    },
    {
      "cell_type": "code",
      "metadata": {
        "id": "RmtaQ4qwkwI2",
        "colab_type": "code",
        "colab": {
          "base_uri": "https://localhost:8080/",
          "height": 35
        },
        "outputId": "95546148-c27e-4845-942d-b68867f9e5b3"
      },
      "source": [
        "\"\"\"DD2363 Methods in Scientific Computing, \"\"\"\n",
        "\"\"\"KTH Royal Institute of Technology, Stockholm, Sweden.\"\"\"\n",
        "\n",
        "# Author: Felipe Vicencio Neumann\n",
        "# Date: 19-1-2020\n",
        "\n",
        "# Based on a template by Johan Hoffman:\n",
        "# Copyright (C) 2019 Johan Hoffman (jhoffman@kth.se)\n",
        "\n",
        "# This file is part of the course DD2363 Methods in Scientific Computing\n",
        "# KTH Royal Institute of Technology, Stockholm, Sweden\n",
        "#\n",
        "# This is free software: you can redistribute it and/or modify\n",
        "# it under the terms of the GNU Lesser General Public License as published by\n",
        "# the Free Software Foundation, either version 3 of the License, or\n",
        "# (at your option) any later version."
      ],
      "execution_count": 26,
      "outputs": [
        {
          "output_type": "execute_result",
          "data": {
            "text/plain": [
              "'KTH Royal Institute of Technology, Stockholm, Sweden.'"
            ]
          },
          "metadata": {
            "tags": []
          },
          "execution_count": 26
        }
      ]
    },
    {
      "cell_type": "markdown",
      "metadata": {
        "id": "gbnjTZlUlTUZ",
        "colab_type": "text"
      },
      "source": [
        "# **Set up environment**"
      ]
    },
    {
      "cell_type": "code",
      "metadata": {
        "id": "xG5BzSUnlaqT",
        "colab_type": "code",
        "colab": {}
      },
      "source": [
        "from google.colab import files\n",
        "import numpy as np\n",
        "import random as r"
      ],
      "execution_count": 0,
      "outputs": []
    },
    {
      "cell_type": "markdown",
      "metadata": {
        "id": "mmD2p7WAmEVx",
        "colab_type": "text"
      },
      "source": [
        "# **Introduction**\n",
        "\n",
        "In this lab 5 functions were implemented: scalar product, matrix-vector multiplication, matrix-matrix multiplication, euclidian norm, and euclidean distance."
      ]
    },
    {
      "cell_type": "markdown",
      "metadata": {
        "id": "1eGnlxHonPdm",
        "colab_type": "text"
      },
      "source": [
        "# **Methods**\n",
        "Each function checks if it's given the correct input first, and then proceeds to get the result using it's correspondent mathematical function."
      ]
    },
    {
      "cell_type": "markdown",
      "metadata": {
        "id": "cRX_yuzBoKfY",
        "colab_type": "text"
      },
      "source": [
        "## Scalar Product:\n",
        "\n",
        "$(a_1, a_2, ... , a_n) \\bullet (b_1, b_2, ..., b_n) = a_1b_1 + a_2b_2 + ... + a_nb_n$"
      ]
    },
    {
      "cell_type": "code",
      "metadata": {
        "id": "DHpBdJgGntrJ",
        "colab_type": "code",
        "colab": {}
      },
      "source": [
        "def scalar_product(v1,v2):\n",
        "\t#Check input\n",
        "\tif (v1.ndim, v2.ndim) != (1, 1):\n",
        "\t\treturn \"input has to be two vectors\"\n",
        "\tif v1.shape != v2.shape:\n",
        "\t\treturn \"input two vectors of the same size\"\n",
        "\n",
        "\t#Get product\t\t\n",
        "\tresult = 0\n",
        "\tfor i in range(v1.shape[0]):\n",
        "\t\tresult += v1[i]*v2[i]\n",
        "\treturn result\n"
      ],
      "execution_count": 0,
      "outputs": []
    },
    {
      "cell_type": "markdown",
      "metadata": {
        "id": "lvx9O5CUo8v4",
        "colab_type": "text"
      },
      "source": [
        "## Matrix-Vector Product:\n",
        "\\begin{equation}\n",
        "A*b =\n",
        "\\begin{bmatrix}\n",
        "a_{1,1} & a_{1,2} & \\cdots & a_{1,n} \\\\\n",
        "a_{2,1} & a_{2,2} & \\cdots & a_{2,n} \\\\\n",
        "\\vdots  & \\vdots  & \\ddots & \\vdots  \\\\\n",
        "a_{m,1} & a_{m,2} & \\cdots & a_{m,n} \n",
        "\\end{bmatrix}\n",
        "\\begin{bmatrix}\n",
        "  b_{1}  \\\\\n",
        "  b_{2}  \\\\\n",
        "  \\vdots \\\\\n",
        "  b_{n}\n",
        "\\end{bmatrix}\n",
        " = \\begin{bmatrix}\n",
        "  (a_{1,1}, a_{1,2},... ,a_{1,n})\\bullet b  \\\\\n",
        "  (a_{2,1}, a_{2,2},... ,a_{2,n})\\bullet b  \\\\\n",
        "  \\vdots \\\\\n",
        "  (a_{m,1}, a_{m,2},... ,a_{m,n})\\bullet b\n",
        "\\end{bmatrix}\n",
        "\\end{equation}\n"
      ]
    },
    {
      "cell_type": "code",
      "metadata": {
        "id": "emIDLoJ1tClr",
        "colab_type": "code",
        "colab": {}
      },
      "source": [
        "def matrix_vector_product(m, v):\n",
        "\t#Check input\n",
        "\tif (m.ndim, v.ndim) != (2, 1):\n",
        "\t\treturn \"input has to be a matrix and a vector\"\n",
        "\trows = m.shape[0]\n",
        "\tcols = m.shape[1]\n",
        "\tif v.size != cols:\n",
        "\t\treturn \"vector has to be the same size as the number of columns in the matrix\"\n",
        "\n",
        "\t#Get product\n",
        "\tresult = np.zeros((rows))\n",
        "\tfor i in range(rows):\n",
        "\t\tresult[i] = scalar_product(v, m[i])\n",
        "\treturn result"
      ],
      "execution_count": 0,
      "outputs": []
    },
    {
      "cell_type": "markdown",
      "metadata": {
        "id": "LfmLD9LYtj1I",
        "colab_type": "text"
      },
      "source": [
        "## Matrix-Matrix Product\n",
        "## Matrix-Vector Product:\n",
        "\\begin{equation}\n",
        "A*B =\n",
        "\\begin{bmatrix}\n",
        "a_{1,1} & a_{1,2} & \\cdots & a_{1,m} \\\\\n",
        "a_{2,1} & a_{2,2} & \\cdots & a_{2,m} \\\\\n",
        "\\vdots  & \\vdots  & \\ddots & \\vdots  \\\\\n",
        "a_{l,1} & a_{l,2} & \\cdots & a_{l,m} \n",
        "\\end{bmatrix}\n",
        "\\begin{bmatrix}\n",
        "b_{1,1} & b_{1,2} & \\cdots & b_{1,n} \\\\\n",
        "b_{2,1} & b_{2,2} & \\cdots & b_{2,n} \\\\\n",
        "\\vdots  & \\vdots  & \\ddots & \\vdots  \\\\\n",
        "b_{m,1} & b_{m,2} & \\cdots & b_{m,n} \n",
        "\\end{bmatrix}\n",
        " = \\begin{bmatrix}\n",
        "  A * \\begin{pmatrix}\n",
        "  b_{1,1}  \\\\\n",
        "  b_{2,1}  \\\\\n",
        "  \\vdots \\\\\n",
        "  b_{m,1}\n",
        "  \\end{pmatrix}&\n",
        "  A * \\begin{pmatrix}\n",
        "  b_{1,2}  \\\\\n",
        "  b_{2,2}  \\\\\n",
        "  \\vdots \\\\\n",
        "  b_{m,2}\n",
        "  \\end{pmatrix}& \n",
        "  \\cdots &\n",
        "  A * \\begin{pmatrix}\n",
        "  b_{1,n}  \\\\\n",
        "  b_{2,n}  \\\\\n",
        "  \\vdots \\\\\n",
        "  b_{m,n}\n",
        "  \\end{pmatrix}\n",
        "\\end{bmatrix}\n",
        "\\end{equation}"
      ]
    },
    {
      "cell_type": "code",
      "metadata": {
        "id": "a-2JE3r-xDFL",
        "colab_type": "code",
        "colab": {}
      },
      "source": [
        "def matrix_matrix_product(m1, m2):\n",
        "\t#Check input\n",
        "\tif (m1.ndim, m2.ndim) != (2, 2):\n",
        "\t\treturn \"input should be two matrices\"\n",
        "\n",
        "\tm1Rows = m1.shape[0]\n",
        "\tm1Cols = m1.shape[1] \n",
        "\tm2Rows = m2.shape[0]\n",
        "\tm2Cols = m2.shape[1]\n",
        "\tif m1Cols != m2Rows:\n",
        "\t\treturn \"number of columns on first matrix has to be the same as the number of rows in the second matrix\"\n",
        "\n",
        "\t#Get product\n",
        "\tresult = np.zeros((m2Cols, m1Rows))\n",
        "\tm2t = np.transpose(m2)\n",
        "\tfor i in range(m2Cols):\n",
        "\t\tresult[i] = matrix_vector_product(m1, m2t[i])\n",
        "\treturn np.transpose(result)"
      ],
      "execution_count": 0,
      "outputs": []
    },
    {
      "cell_type": "markdown",
      "metadata": {
        "id": "GafXU3nPxFvD",
        "colab_type": "text"
      },
      "source": [
        "## Euclidean Norm\n",
        "\n",
        "$||(a_1, a_2, ..., a_n)|| = \\sqrt{(a_1^2 + a_2^2 + ... + a_n^2)}$"
      ]
    },
    {
      "cell_type": "code",
      "metadata": {
        "id": "fIrKUB_tx4zW",
        "colab_type": "code",
        "colab": {}
      },
      "source": [
        "def euclidian_norm(v):\n",
        "\t#Check input\n",
        "\tif v.ndim != 1:\n",
        "\t\treturn \"input has to be a vector\"\n",
        "\n",
        "\t#Get norm\n",
        "\tresult = 0\n",
        "\tfor i in range(v.size):\n",
        "\t\tresult += v[i]**2\n",
        "\treturn result**(1/2)"
      ],
      "execution_count": 0,
      "outputs": []
    },
    {
      "cell_type": "markdown",
      "metadata": {
        "id": "NDlSb43wx7N5",
        "colab_type": "text"
      },
      "source": [
        "## Euclidean Distance\n",
        "$||(a_1, a_2, ..., a_n) - (b_1, b_2, ..., b_n)|| =  \\sqrt{((a_1-b_1)^2 + (a_2-b_2)^2 + ... + (a_n-b_n)^2)}$"
      ]
    },
    {
      "cell_type": "code",
      "metadata": {
        "id": "bKwIc5e3ygFN",
        "colab_type": "code",
        "colab": {}
      },
      "source": [
        "def euclidian_distance(v1,v2):\n",
        "\t#Check input\n",
        "\tif (v1.ndim, v2.ndim) != (1, 1):\n",
        "\t\treturn \"input has to be two vectors\"\n",
        "\tif v1.shape != v2.shape:\n",
        "\t\treturn \"input two vectors of the same size\"\n",
        "\n",
        "\t#Get norm\n",
        "\tv = np.zeros((v1.size))\n",
        "\tfor i in range(v1.size):\n",
        "\t\tv[i] = v1[i] - v2[i]\n",
        "\treturn euclidian_norm(v)"
      ],
      "execution_count": 0,
      "outputs": []
    },
    {
      "cell_type": "markdown",
      "metadata": {
        "id": "fErb3m4cyrSh",
        "colab_type": "text"
      },
      "source": [
        "# **Results**\n",
        "All the functions were compared to the function that numpy uses to calculate:\n",
        " ##### -  __np.dot(a,b)__ for scalar product\n",
        " ##### - __a@b__ for matrix-vector and matrix-matrix multiplication \n",
        " ##### - __np.linalg.norm(v)__ for euclidean norm and distance\n",
        "Every function was tested for 5000 randomly generated valid inputs."
      ]
    },
    {
      "cell_type": "code",
      "metadata": {
        "id": "vK2NUO7s0TS9",
        "colab_type": "code",
        "colab": {
          "base_uri": "https://localhost:8080/",
          "height": 35
        },
        "outputId": "35d4bfe5-6c93-4170-84d2-93a83b523769"
      },
      "source": [
        "for i in range(5000):\n",
        "  errors = 0\n",
        "  #Randomize sizes\n",
        "  l, m, n = r.randint(2,10), r.randint(2,10), r.randint(2,15)\t\n",
        "\n",
        "  #Get random vectors and matrices\n",
        "  v1, v2 = np.random.rand(n), np.random.rand(n)\n",
        "  m1, m2 = np.random.rand(l,m), np.random.rand(m,n)\n",
        "\n",
        "  #Test scalar product\n",
        "  if not np.allclose(np.dot(v1,v2), scalar_product(v1, v2)):\n",
        "    print(\"Vector \", i, \" is wrong\")\n",
        "    errors += 1\n",
        "\n",
        "  #Test matrix-vector multiplication\n",
        "  if not np.allclose(m2@v1, matrix_vector_product(m2, v1)):\n",
        "    print(\"Matrix-vector product \", i, \" is wrong\")\n",
        "    errors += 1\n",
        "\n",
        "  #Test matrix-matrix multiplication\n",
        "  if not np.allclose(m1@m2, matrix_matrix_product(m1, m2)):  \n",
        "    print(\"Matrix \", i, \" is wrong\")\n",
        "    errors += 1\n",
        "\n",
        "  #Test euclidean norm\n",
        "  if not np.allclose(np.linalg.norm(v1), euclidian_norm(v1)):\n",
        "    print(\"Norm \", i, \" is wrong\")\n",
        "    errors += 1\n",
        "\n",
        "  #Test euclidean distance\n",
        "  if not np.allclose(np.linalg.norm(v1 - v2), euclidian_distance(v1, v2)):\n",
        "    print(\"Distance\", i ,\" is wrong\")\n",
        "    errors += 1\n",
        "\n",
        "print(\"Test finished, \", errors, \"errors\")"
      ],
      "execution_count": 33,
      "outputs": [
        {
          "output_type": "stream",
          "text": [
            "Test finished,  0 errors\n"
          ],
          "name": "stdout"
        }
      ]
    },
    {
      "cell_type": "markdown",
      "metadata": {
        "id": "nof5gy0n2Hk_",
        "colab_type": "text"
      },
      "source": [
        "# Discussion\n",
        "\n",
        "As expected, the implemented functions give the same results as the ones numpy uses. \\\\\n",
        "It's worth noting that there are many different ways to implement each functiones, but the ones chosen attempt to reuse as much code as posible. \\\\\n",
        "Some parts of this report were made in collaboration with Fabián Levican and Pablo Aravena."
      ]
    }
  ]
}