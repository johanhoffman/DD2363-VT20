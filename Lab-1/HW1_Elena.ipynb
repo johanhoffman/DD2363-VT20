{
 "cells": [
  {
   "cell_type": "markdown",
   "metadata": {},
   "source": [
    "# Lab1 \n",
    "## Elena Farahbakhsh Touli"
   ]
  },
  {
   "cell_type": "markdown",
   "metadata": {},
   "source": [
    "## Q1\n",
    "In this question the problem is finding the scalar product or dot product of two vectors x and y. Here the formula is as follows: \n",
    "\n",
    "$$x.y = \\sum_{i\\in N}x[i]*y[i]$$\n",
    "\n",
    "The code is given which we used the following packages: \n"
   ]
  },
  {
   "cell_type": "code",
   "execution_count": 1,
   "metadata": {},
   "outputs": [],
   "source": [
    "import numpy as np\n",
    "import math\n",
    "import unittest"
   ]
  },
  {
   "cell_type": "markdown",
   "metadata": {},
   "source": [
    "numpy for arrays and math for finding the sqrt or the root of a number and unittest for the testing. The code for the first question is as follows:"
   ]
  },
  {
   "cell_type": "code",
   "execution_count": 2,
   "metadata": {},
   "outputs": [],
   "source": [
    "def scalarprod(x,y):\n",
    "    sum = 0\n",
    "    if len(x)==len(y):\n",
    "        for i in range(len(x)):\n",
    "            sum = sum + (x[i]*y[i])\n",
    "        return sum\n",
    "    else:\n",
    "        print(\"we cannot find the dotproduct\")\n"
   ]
  },
  {
   "cell_type": "markdown",
   "metadata": {},
   "source": [
    "   Here, we first check whether we can multiply two vectors x and y which we checked whether they both are from a same vector space or not and then we find the scalar product of them. I used this example to test the code.\n",
    "$x = (0,1,2)$ and \n",
    "$y = (9,1,0)$\n",
    "the dot product of them is found as follows: \n",
    "\n",
    "$$x.y = 0*9 + 1*1 +2*0 = 1$$ \n",
    "which the program gives me the correct answer."
   ]
  },
  {
   "cell_type": "code",
   "execution_count": 3,
   "metadata": {},
   "outputs": [
    {
     "name": "stderr",
     "output_type": "stream",
     "text": [
      "..\n",
      "----------------------------------------------------------------------\n",
      "Ran 2 tests in 0.004s\n",
      "\n",
      "OK\n"
     ]
    }
   ],
   "source": [
    "class Testscalarprod(unittest.TestCase):\n",
    "\n",
    "    def test_scalarprod(self):\n",
    "        x = np.array([0, 1, 2])\n",
    "        y = np.array([9, 1, 0])\n",
    "        self.assertEqual(int(scalarprod(x,y)), 1, \"Should be 1\")\n",
    "\n",
    "    def test_length(self):\n",
    "        x = np.array([0, 1, 2])\n",
    "        y = np.array([9, 1, 0])\n",
    "        self.assertEqual(len(x), len(y), \"Should be equal to len(y)\")\n",
    "\n",
    "if __name__ == '__main__':\n",
    "    unittest.main(argv=['first-arg-is-ignored'], exit=False)"
   ]
  },
  {
   "cell_type": "markdown",
   "metadata": {},
   "source": [
    "## Q2\n",
    "\n",
    "In this question the problem is to find the multiplication of a matrix and a vecotor. To do so, I used the function scalarprod that I wrote for question 1. The code is as follows: "
   ]
  },
  {
   "cell_type": "code",
   "execution_count": 4,
   "metadata": {},
   "outputs": [],
   "source": [
    "def matrixvector_prod(A,x):\n",
    "    result = np.empty(len(A))\n",
    "    if len(A[0])==len(x):\n",
    "        for i in range(len(A[0])-1):\n",
    "            result[i] = scalarprod(A[i],x)\n",
    "        return result\n",
    "    else:\n",
    "        print(\"we cannot multiply them\")"
   ]
  },
  {
   "cell_type": "markdown",
   "metadata": {},
   "source": [
    "Here, first I check whether we can multiply the given matrix and the given vector or not. If Yes, we use the function that we wrote for question 1. "
   ]
  },
  {
   "cell_type": "markdown",
   "metadata": {},
   "source": [
    "For the test, the unittest is as follows: "
   ]
  },
  {
   "cell_type": "code",
   "execution_count": 5,
   "metadata": {},
   "outputs": [
    {
     "name": "stderr",
     "output_type": "stream",
     "text": [
      "....\n",
      "----------------------------------------------------------------------\n",
      "Ran 4 tests in 0.014s\n",
      "\n",
      "OK\n"
     ]
    }
   ],
   "source": [
    "class matrixvector_prod_test(unittest.TestCase):\n",
    "    def test_matrixvector_prod(self):\n",
    "        x = np.array([0, 1, 2])\n",
    "        A = np.array([[9,1,0],[0,0,0]])\n",
    "        expected_list = np.array([1, 0])\n",
    "        output_list = np.array(matrixvector_prod(A, x))\n",
    "        for i in range(len(expected_list)):\n",
    "            self.assertEqual(expected_list[i], int(output_list[i]), \"the answer is not correct\")\n",
    "\n",
    "    def test_length(self):\n",
    "        x = np.array([0, 1, 2])\n",
    "        A = np.array([[9, 1, 0], [0, 0, 0]])\n",
    "        self.assertEqual(len(x), len(A[0]), \"len(x) should be equal to len(A[0])\")\n",
    "\n",
    "if __name__ == '__main__':\n",
    "    unittest.main(argv=['first-arg-is-ignored'], exit=False)"
   ]
  },
  {
   "cell_type": "markdown",
   "metadata": {},
   "source": [
    "Here, $x = (0,1,2)$ and $A = ((9,1,0),(0,0,0))$ and the result of $A.x$ is the vector (1,0) that \n",
    "$$0*9 + 1*1 + 0*0 = 1$$ and $$0*0+1*0+2*0=0.$$"
   ]
  },
  {
   "cell_type": "markdown",
   "metadata": {},
   "source": [
    "## Q3\n",
    "The problem of this question is to find the multiplication of two matrices $A$ and $B$. First we need to check whether we can multiply A and B or not. Therefore, first we check whether length of A and length of B(0) (the first row in B) are equal or not. Then we use the function that we wrote for question 2 and find the answer. The code is as follows: \n",
    "\n"
   ]
  },
  {
   "cell_type": "code",
   "execution_count": 6,
   "metadata": {},
   "outputs": [],
   "source": [
    "\n",
    "def matrixmatrix_prod(A,B):\n",
    "    l1=len(A[0])\n",
    "    l2 = len(B)\n",
    "    result = np.empty((len(A), len(B[0])))\n",
    "    if l1==l2:\n",
    "        for i in range(len(A)):\n",
    "            for j in range(len(B[0])):\n",
    "                result[i,j] = scalarprod(A[i],B[:,j])\n",
    "        return result"
   ]
  },
  {
   "cell_type": "markdown",
   "metadata": {},
   "source": [
    "For testing I use the following class:"
   ]
  },
  {
   "cell_type": "code",
   "execution_count": 8,
   "metadata": {},
   "outputs": [
    {
     "name": "stderr",
     "output_type": "stream",
     "text": [
      "......\n",
      "----------------------------------------------------------------------\n",
      "Ran 6 tests in 0.023s\n",
      "\n",
      "OK\n"
     ]
    }
   ],
   "source": [
    "class matrixmatrix_prod_test(unittest.TestCase):\n",
    "    def test_matrixmatrix_prod(self):\n",
    "        B = np.array([[9,1],[0,1],[1,2]])\n",
    "        A = np.array([[9,1,0],[0,0,0]])\n",
    "        expected_list = np.array([[81, 10],[0,0]])\n",
    "        output_list = matrixmatrix_prod(A,B)\n",
    "        for i in range(len(expected_list)):\n",
    "            for j in range(len(expected_list[0])):\n",
    "                self.assertEqual(expected_list[i,j], int(output_list[i,j]), \"test is not correct\")\n",
    "\n",
    "    def test_length(self):\n",
    "        B = np.array([[9,1],[0,1],[1,2]])\n",
    "        A = np.array([[9, 1, 0], [0, 0, 0]])\n",
    "        self.assertEqual(len(B[0]), len(A), \"len(B[0])Should be equal to len(A)\")\n",
    "\n",
    "if __name__ == '__main__':\n",
    "    unittest.main(argv=['first-arg-is-ignored'], exit=False)"
   ]
  },
  {
   "cell_type": "markdown",
   "metadata": {},
   "source": [
    "## Q4\n",
    "This question we need to find the Euclidean norm for a given vector x. The formula for finding the norm is as follows: \n",
    "\n",
    "$$\\|x\\|=\\sqrt{x_1^2+ ... + x_N^2}$$\n",
    "\n",
    "The code is as follows: \n"
   ]
  },
  {
   "cell_type": "code",
   "execution_count": 9,
   "metadata": {},
   "outputs": [],
   "source": [
    "import math\n",
    "\n",
    "def EuclidianNorm(x):\n",
    "    sum = 0\n",
    "    for i in range(len(x)):\n",
    "        sum = sum + x[i]**2\n",
    "    return math.sqrt(sum)"
   ]
  },
  {
   "cell_type": "markdown",
   "metadata": {},
   "source": [
    "For the test we use the vecotor $x=(0,3,4)$ and we know that the norm of $x$ is 5. Which is correct based on the code. "
   ]
  },
  {
   "cell_type": "code",
   "execution_count": 10,
   "metadata": {},
   "outputs": [
    {
     "name": "stderr",
     "output_type": "stream",
     "text": [
      ".......\n",
      "----------------------------------------------------------------------\n",
      "Ran 7 tests in 0.021s\n",
      "\n",
      "OK\n"
     ]
    }
   ],
   "source": [
    "class EuclidianNorm_test(unittest.TestCase):\n",
    "    def test_EuclidianNorm(self):\n",
    "        x = np.array([0,3,4]) \n",
    "        self.assertEqual(int(EuclidianNorm(x)), 5, \"Should be 5\")\n",
    "\n",
    "if __name__ == '__main__':\n",
    "    unittest.main(argv=['first-arg-is-ignored'], exit=False)"
   ]
  },
  {
   "cell_type": "markdown",
   "metadata": {},
   "source": [
    "## Q5\n",
    "Last question is about finding the distance of 2 vectors in Euclidean space. The input is 2 vectors $x$ and $y$. And the output is the distance between them in the Euclidian space. For this question we use the function Norm that we wrote for question 4.\n",
    "\n",
    "The code is as follows: "
   ]
  },
  {
   "cell_type": "code",
   "execution_count": 11,
   "metadata": {},
   "outputs": [],
   "source": [
    "def distance(x,y):\n",
    "    if len(x)==len(y):\n",
    "        z = x-y\n",
    "        return EuclidianNorm(z)\n",
    "    else:\n",
    "        print(\"they are not in the same vs\")\n"
   ]
  },
  {
   "cell_type": "markdown",
   "metadata": {},
   "source": [
    "For the test we consider two vectors $x = (0,1,2)$ and also $y = (0,2,2)$. We know that the distance between them is $1$ in $R^3$."
   ]
  },
  {
   "cell_type": "code",
   "execution_count": 12,
   "metadata": {},
   "outputs": [
    {
     "name": "stderr",
     "output_type": "stream",
     "text": [
      ".......\n",
      "----------------------------------------------------------------------\n",
      "Ran 7 tests in 0.013s\n",
      "\n",
      "OK\n"
     ]
    }
   ],
   "source": [
    "class EuclidianNorm_test(unittest.TestCase):\n",
    "    def test_EuclidianNorm(self):\n",
    "        x = np.array([0,1,2])\n",
    "        y = np.array([0,2,2])\n",
    "        self.assertEqual(int(distance(x,y)), 1, \"Should be 1\")\n",
    "\n",
    "if __name__ == '__main__':\n",
    "    unittest.main(argv=['first-arg-is-ignored'], exit=False)"
   ]
  },
  {
   "cell_type": "code",
   "execution_count": null,
   "metadata": {},
   "outputs": [],
   "source": []
  }
 ],
 "metadata": {
  "kernelspec": {
   "display_name": "Python 3",
   "language": "python",
   "name": "python3"
  },
  "language_info": {
   "codemirror_mode": {
    "name": "ipython",
    "version": 3
   },
   "file_extension": ".py",
   "mimetype": "text/x-python",
   "name": "python",
   "nbconvert_exporter": "python",
   "pygments_lexer": "ipython3",
   "version": "3.7.3"
  }
 },
 "nbformat": 4,
 "nbformat_minor": 2
}
