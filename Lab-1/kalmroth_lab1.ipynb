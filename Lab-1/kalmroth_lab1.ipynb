{
  "nbformat": 4,
  "nbformat_minor": 0,
  "metadata": {
    "colab": {
      "name": "Copy of template-report-lab-X.ipynb",
      "provenance": [],
      "collapsed_sections": []
    },
    "kernelspec": {
      "name": "python3",
      "display_name": "Python 3"
    }
  },
  "cells": [
    {
      "cell_type": "markdown",
      "metadata": {
        "id": "6RgtXlfYO_i7",
        "colab_type": "text"
      },
      "source": [
        "# **Lab 1: Matrix algorithms**\n",
        "**Kristoffer Almroth**"
      ]
    },
    {
      "cell_type": "markdown",
      "metadata": {
        "id": "9x_J5FVuPzbm",
        "colab_type": "text"
      },
      "source": [
        "# **Abstract**"
      ]
    },
    {
      "cell_type": "markdown",
      "metadata": {
        "id": "6UFTSzW7P8kL",
        "colab_type": "text"
      },
      "source": [
        "First lab in the course DD2363 Methods in Scientific Computing. This lab is about basic matrix operations."
      ]
    },
    {
      "cell_type": "markdown",
      "metadata": {
        "id": "28xLGz8JX3Hh",
        "colab_type": "text"
      },
      "source": [
        "# **Set up environment**"
      ]
    },
    {
      "cell_type": "markdown",
      "metadata": {
        "id": "D2PYNusD08Wa",
        "colab_type": "text"
      },
      "source": [
        "Dependencies needed for running the code."
      ]
    },
    {
      "cell_type": "code",
      "metadata": {
        "id": "Xw7VlErAX7NS",
        "colab_type": "code",
        "colab": {}
      },
      "source": [
        "# Load neccessary modules.\n",
        "from google.colab import files\n",
        "\n",
        "import time\n",
        "import numpy as np\n",
        "\n",
        "from matplotlib import pyplot as plt\n",
        "from matplotlib import tri\n",
        "from matplotlib import axes\n",
        "from mpl_toolkits.mplot3d import Axes3D\n",
        "from random import randrange\n",
        "\n",
        "import unittest"
      ],
      "execution_count": 0,
      "outputs": []
    },
    {
      "cell_type": "markdown",
      "metadata": {
        "id": "gnO3lhAigLev",
        "colab_type": "text"
      },
      "source": [
        "# **Introduction**"
      ]
    },
    {
      "cell_type": "markdown",
      "metadata": {
        "id": "l5zMzgPlRAF6",
        "colab_type": "text"
      },
      "source": [
        "The aim with this lab is to get familiar with the basic matrix operations and the library numpy in python. The following operations were implemented: dot product, scalar-matrix multiplication, matrix-matrix multiplication, euclidian norm and euclidian distance.\n",
        "\n"
      ]
    },
    {
      "cell_type": "markdown",
      "metadata": {
        "id": "WeFO9QMeUOAu",
        "colab_type": "text"
      },
      "source": [
        "# **Methods**"
      ]
    },
    {
      "cell_type": "markdown",
      "metadata": {
        "id": "zF4iBj5VURZx",
        "colab_type": "text"
      },
      "source": [
        "This section is based on the theory from the first two lectures. All code is tested using various different test cases, including a test case with a large number of randomly generated matrices and vectors. The result from the random test cases is then compared with the corresponding functions in the library numpy, which has been rigorously tested and can be seen as accurate. Since floating point precision were used in the tests, there could be rounding errors. np.testing.assert_allclose is used to compare matrices up to a specific precision, here 1e-5. All functions also include a dimension check to verify that the input is valid. \n",
        "\n",
        "Scalar product, also called dot product, can be seen as the sum of elementwise multiplication of two vectors."
      ]
    },
    {
      "cell_type": "code",
      "metadata": {
        "colab_type": "code",
        "id": "jgpUUhqTcmnj",
        "outputId": "110b5a03-f8f1-49d7-f678-4e9062205d8d",
        "colab": {
          "base_uri": "https://localhost:8080/",
          "height": 121
        }
      },
      "source": [
        "def scalarProduct(v1, v2):\n",
        "\n",
        "  # Check dimensions\n",
        "  assert v1.shape == v2.shape\n",
        "\n",
        "  res = 0\n",
        "  for i in range(0, v1.size):\n",
        "    res += v1[i]*v2[i]\n",
        "  return res\n",
        "\n",
        "class Test(unittest.TestCase):\n",
        "\n",
        "  def testWrongDimensions(self):\n",
        "    v1 = np.array([1,2,3,4])\n",
        "    v2 = np.array([1,2,3,4,5])\n",
        "    with self.assertRaises(AssertionError):\n",
        "      scalarProduct(v1, v2)\n",
        "\n",
        "  def testZeroVector(self):\n",
        "    v1 = np.array([1,2,3,4])\n",
        "    v2 = np.array([0,0,0,0])\n",
        "    self.assertEquals(scalarProduct(v1, v2), 0)\n",
        "\n",
        "  def testRandom(self):\n",
        "    for i in range(0,1000):\n",
        "      size = randrange(100) + 1\n",
        "      v1 = np.random.rand(size)\n",
        "      v2 = np.random.rand(size)\n",
        "      np.testing.assert_allclose(scalarProduct(v1, v2), np.dot(v1,v2), rtol=1e-5, atol=0)\n",
        "\n",
        "if __name__ == '__main__':\n",
        "    unittest.main(argv=['first-arg-is-ignored'], exit=False)\n"
      ],
      "execution_count": 0,
      "outputs": [
        {
          "output_type": "stream",
          "text": [
            "../usr/local/lib/python3.6/dist-packages/ipykernel_launcher.py:22: DeprecationWarning: Please use assertEqual instead.\n",
            ".\n",
            "----------------------------------------------------------------------\n",
            "Ran 3 tests in 0.144s\n",
            "\n",
            "OK\n"
          ],
          "name": "stderr"
        }
      ]
    },
    {
      "cell_type": "markdown",
      "metadata": {
        "colab_type": "text",
        "id": "bZiDf6IGjagD"
      },
      "source": [
        "Multiplicating a matrix with a vector follows the normal rules of matrix multiplication. In numpy, multiplying a matrix with a vector using normal matrix multiplication when both are of the datatype np.array will create a (n\\*n) matrix and not a (n\\*1) as expected, so matrix.dot(vector) is used instead. Could also be solved by specifying the type of the matrix to be np.matrix."
      ]
    },
    {
      "cell_type": "code",
      "metadata": {
        "colab_type": "code",
        "outputId": "ae5485a8-7d76-4bb8-e1e6-435c71f6931d",
        "id": "aAsmTy8SjxOM",
        "colab": {
          "base_uri": "https://localhost:8080/",
          "height": 104
        }
      },
      "source": [
        "def matrixVectorProduct(v, m):\n",
        "\n",
        "  mCols = m.shape[1]\n",
        "  mRows = m.shape[0]\n",
        "\n",
        "  # Check dimensions\n",
        "  assert v.size == mCols\n",
        "\n",
        "  res = np.zeros((mRows))\n",
        "  for i in range(0, mRows):\n",
        "    for j in range(0, mCols):\n",
        "      res[i] += m[i,j]*v[j]\n",
        "  return res\n",
        "\n",
        "class Test(unittest.TestCase):\n",
        "\n",
        "  def testWrongDimensions(self):\n",
        "    v = np.array([1,2,3])\n",
        "    m = np.array([[2,4,6,1], [3,6,9,0], [1,2,1,3]])\n",
        "    with self.assertRaises(AssertionError):\n",
        "      matrixVectorProduct(v, m)\n",
        "\n",
        "  def testZeroVector(self):\n",
        "    v = np.array([0,0,0,0])\n",
        "    m = np.array([[2,4,6,1], [3,6,9,0], [1,2,1,3]])\n",
        "    res = np.array([0,0,0])\n",
        "    self.assertTrue(np.array_equal(matrixVectorProduct(v, m), res))\n",
        "\n",
        "  def testRandom(self):\n",
        "    for i in range(0,1000):\n",
        "      row = randrange(100) + 1\n",
        "      col = randrange(100) + 1\n",
        "      m = np.random.rand(row,col)\n",
        "      v = np.random.rand(col)\n",
        "      np.testing.assert_allclose(matrixVectorProduct(v, m), m.dot(v), rtol=1e-5, atol=0)\n",
        "\n",
        "if __name__ == '__main__':\n",
        "    unittest.main(argv=['first-arg-is-ignored'], exit=False)\n"
      ],
      "execution_count": 0,
      "outputs": [
        {
          "output_type": "stream",
          "text": [
            "...\n",
            "----------------------------------------------------------------------\n",
            "Ran 3 tests in 2.188s\n",
            "\n",
            "OK\n"
          ],
          "name": "stderr"
        }
      ]
    },
    {
      "cell_type": "markdown",
      "metadata": {
        "colab_type": "text",
        "id": "8MDHKJpCkq5Z"
      },
      "source": [
        "In matrix multiplication the shape of the two matrices must be in the form (n\\*l) and (l\\*m) for it to work. The simple algorithm from the first lecture is used. "
      ]
    },
    {
      "cell_type": "code",
      "metadata": {
        "colab_type": "code",
        "outputId": "d50dbaf5-5957-499f-a096-0e33734aca52",
        "id": "q3mc0TbmtFlW",
        "colab": {
          "base_uri": "https://localhost:8080/",
          "height": 104
        }
      },
      "source": [
        "def matrixMatrixProduct(m1, m2):\n",
        "\n",
        "  m1Cols = m1.shape[1]\n",
        "  m1Rows = m1.shape[0]\n",
        "  m2Cols = m2.shape[1]\n",
        "  m2Rows = m2.shape[0]\n",
        "\n",
        "  # Check dimensions\n",
        "  assert m1Cols == m2Rows\n",
        "\n",
        "  res = np.zeros(shape=(m1Rows,m2Cols))\n",
        "  for i in range(0, m1Rows):\n",
        "    for j in range(0, m2Cols):\n",
        "      value = 0\n",
        "      for k in range(0, m1Cols):\n",
        "        value += m1[i, k] * m2[k, j]\n",
        "      res[i, j] = value\n",
        "  return res\n",
        "\n",
        "class Test(unittest.TestCase):\n",
        "\n",
        "  def testWrongDimensions(self):\n",
        "    m = np.array([[2,4,6,1],[3,6,9,0],[1,2,1,3]])\n",
        "    with self.assertRaises(AssertionError):\n",
        "      matrixMatrixProduct(m, m)\n",
        "\n",
        "  def testZeroVector(self):\n",
        "    m1 = np.array([[2,4,6,1],[3,6,9,0],[1,2,1,3]])\n",
        "    m2 = np.array([[0,0,0],[0,0,0],[0,0,0],[0,0,0]])\n",
        "    m0 = np.array([[0,0,0],[0,0,0],[0,0,0]])\n",
        "    self.assertTrue(np.array_equal(matrixMatrixProduct(m1, m2), m0))\n",
        "\n",
        "  def testRandom(self):\n",
        "    for i in range(0,100):\n",
        "      row = randrange(100) + 1\n",
        "      col = randrange(100) + 1\n",
        "      col2 = randrange(100) + 1\n",
        "      m1 = np.random.rand(row,col)\n",
        "      m2 = np.random.rand(col,col2)\n",
        "      np.testing.assert_allclose(matrixMatrixProduct(m1, m2), np.matmul(m1,m2), rtol=1e-5, atol=0)\n",
        "\n",
        "if __name__ == '__main__':\n",
        "    unittest.main(argv=['first-arg-is-ignored'], exit=False)\n"
      ],
      "execution_count": 0,
      "outputs": [
        {
          "output_type": "stream",
          "text": [
            "...\n",
            "----------------------------------------------------------------------\n",
            "Ran 3 tests in 7.850s\n",
            "\n",
            "OK\n"
          ],
          "name": "stderr"
        }
      ]
    },
    {
      "cell_type": "markdown",
      "metadata": {
        "colab_type": "text",
        "id": "E4FmnuVdlbOy"
      },
      "source": [
        "The norm is calculated by taking the square root of the sum of elementwise multiplication of two vectors. This can be simplified by taking the square root of the dot product of a vector with itself, as shown in the first lecture. "
      ]
    },
    {
      "cell_type": "code",
      "metadata": {
        "colab_type": "code",
        "outputId": "90d2e12f-9e8f-4131-909c-ec5ea6896170",
        "id": "6SfqSTlL4jD7",
        "colab": {
          "base_uri": "https://localhost:8080/",
          "height": 139
        }
      },
      "source": [
        "def euclidianNorm(v):\n",
        "  return np.sqrt(scalarProduct(v,v))\n",
        "\n",
        "class Test(unittest.TestCase):\n",
        "\n",
        "  def testZeroVector(self):\n",
        "    v = np.array([0,0,0,0])\n",
        "    self.assertEquals(euclidianNorm(v), 0)\n",
        "\n",
        "  def testRandom(self):\n",
        "    for i in range(0,10000):\n",
        "      row = randrange(100) + 1\n",
        "      v = np.random.rand(row)\n",
        "      np.testing.assert_allclose(euclidianNorm(v), np.linalg.norm(v), rtol=1e-5, atol=0)\n",
        "\n",
        "if __name__ == '__main__':\n",
        "    unittest.main(argv=['first-arg-is-ignored'], exit=False)\n"
      ],
      "execution_count": 0,
      "outputs": [
        {
          "output_type": "stream",
          "text": [
            "./usr/local/lib/python3.6/dist-packages/ipykernel_launcher.py:8: DeprecationWarning: Please use assertEqual instead.\n",
            "  \n",
            ".\n",
            "----------------------------------------------------------------------\n",
            "Ran 2 tests in 1.292s\n",
            "\n",
            "OK\n"
          ],
          "name": "stderr"
        }
      ]
    },
    {
      "cell_type": "markdown",
      "metadata": {
        "colab_type": "text",
        "id": "lYM7Hxnpmdh8"
      },
      "source": [
        "Calculating the euclidean distance between two points is the same as taking the norm of the first vector subtracted with the second one. This means that two functions needed to be created, one for calculating the subtraction between two vectors and one for the euclidean distance. Both of these functions are tested."
      ]
    },
    {
      "cell_type": "code",
      "metadata": {
        "colab_type": "code",
        "outputId": "ea53e13f-11ba-402f-e1ad-5e20a6589a87",
        "id": "eVNd4FyJ60qr",
        "colab": {
          "base_uri": "https://localhost:8080/",
          "height": 104
        }
      },
      "source": [
        "def vectorSubtraction(v1, v2):\n",
        "\n",
        "  # Check dimensions\n",
        "  assert v1.shape == v2.shape\n",
        "\n",
        "  res = np.zeros((v1.size))\n",
        "  for i in range(0, v1.size):\n",
        "    res[i] = v1[i]-v2[i]\n",
        "  return res\n",
        "\n",
        "def metric(v1, v2):\n",
        "  return euclidianNorm(vectorSubtraction(v1,v2))\n",
        "\n",
        "class Test(unittest.TestCase):\n",
        "\n",
        "  def testVectorSubtractionWrongDimensions(self):\n",
        "    v1 = np.array([1,2,3,4])\n",
        "    v2 = np.array([1,2,3,4,5])\n",
        "    with self.assertRaises(AssertionError):\n",
        "      vectorSubtraction(v1, v2)\n",
        "\n",
        "  def testMetricWrongDimensions(self):\n",
        "    v1 = np.array([1,2,3,4])\n",
        "    v2 = np.array([1,2,3,4,5])\n",
        "    with self.assertRaises(AssertionError):\n",
        "      metric(v1, v2)\n",
        "\n",
        "  def testVectorSubtractionZeroVector(self):\n",
        "    v1 = np.array([1,2,3,4])\n",
        "    v2 = np.array([0,0,0,0])\n",
        "    self.assertTrue(np.array_equal(vectorSubtraction(v1,v2), v1))\n",
        "\n",
        "  def testMetricZeroVector(self):\n",
        "    v1 = np.array([1,2,3,4])\n",
        "    v2 = np.array([0,0,0,0])\n",
        "    self.assertTrue(np.array_equal(metric(v1,v2), euclidianNorm(v1)))\n",
        "\n",
        "  def testRandomVectorSubtraction(self):\n",
        "    for i in range(0,1000):\n",
        "      row = randrange(100) + 1\n",
        "      v1 = np.random.rand(row)\n",
        "      v2 = np.random.rand(row)\n",
        "      np.testing.assert_allclose(vectorSubtraction(v1, v2), np.subtract(v1,v2), rtol=1e-5, atol=0)\n",
        "\n",
        "  def testRandomMetric(self):\n",
        "    for i in range(0,1000):\n",
        "      row = randrange(100) + 1\n",
        "      v1 = np.random.rand(row)\n",
        "      v2 = np.random.rand(row)\n",
        "      np.testing.assert_allclose(metric(v1, v2), np.linalg.norm(v1-v2), rtol=1e-5, atol=0)\n",
        "\n",
        "if __name__ == '__main__':\n",
        "    unittest.main(argv=['first-arg-is-ignored'], exit=False)\n"
      ],
      "execution_count": 0,
      "outputs": [
        {
          "output_type": "stream",
          "text": [
            "......\n",
            "----------------------------------------------------------------------\n",
            "Ran 6 tests in 0.319s\n",
            "\n",
            "OK\n"
          ],
          "name": "stderr"
        }
      ]
    },
    {
      "cell_type": "markdown",
      "metadata": {
        "id": "SsQLT38gVbn_",
        "colab_type": "text"
      },
      "source": [
        "# **Results**"
      ]
    },
    {
      "cell_type": "markdown",
      "metadata": {
        "id": "RLwlnOzuV-Cd",
        "colab_type": "text"
      },
      "source": [
        "The lab was about creating functions for some simple matrix and vector operations. Below is all functions created, without the test code. For more information about the functions, see Methods. "
      ]
    },
    {
      "cell_type": "code",
      "metadata": {
        "colab_type": "code",
        "id": "wYbYbjk1n2c6",
        "colab": {}
      },
      "source": [
        "def scalarProduct(v1, v2):\n",
        "\n",
        "  # Check dimensions\n",
        "  assert v1.shape == v2.shape\n",
        "\n",
        "  res = 0\n",
        "  for i in range(0, v1.size):\n",
        "    res += v1[i]*v2[i]\n",
        "  return res\n",
        "\n",
        "def matrixVectorProduct(v, m):\n",
        "\n",
        "  mCols = m.shape[1]\n",
        "  mRows = m.shape[0]\n",
        "\n",
        "  # Check dimensions\n",
        "  assert v.size == mCols\n",
        "\n",
        "  res = np.zeros((mRows))\n",
        "  for i in range(0, mRows):\n",
        "    for j in range(0, mCols):\n",
        "      res[i] += m[i,j]*v[j]\n",
        "  return res\n",
        "\n",
        "def matrixMatrixProduct(m1, m2):\n",
        "\n",
        "  m1Cols = m1.shape[1]\n",
        "  m1Rows = m1.shape[0]\n",
        "  m2Cols = m2.shape[1]\n",
        "  m2Rows = m2.shape[0]\n",
        "\n",
        "  # Check dimensions\n",
        "  assert m1Cols == m2Rows\n",
        "\n",
        "  res = np.zeros(shape=(m1Rows,m2Cols))\n",
        "  for i in range(0, m1Rows):\n",
        "    for j in range(0, m2Cols):\n",
        "      value = 0\n",
        "      for k in range(0, m1Cols):\n",
        "        value += m1[i, k] * m2[k, j]\n",
        "      res[i, j] = value\n",
        "  return res\n",
        "\n",
        "def euclidianNorm(v):\n",
        "  return np.sqrt(scalarProduct(v,v))\n",
        "\n",
        "def vectorSubtraction(v1, v2):\n",
        "\n",
        "  # Check dimensions\n",
        "  assert v1.shape == v2.shape\n",
        "\n",
        "  res = np.zeros((v1.size))\n",
        "  for i in range(0, v1.size):\n",
        "    res[i] = v1[i]-v2[i]\n",
        "  return res\n",
        "\n",
        "def metric(v1, v2):\n",
        "  return euclidianNorm(vectorSubtraction(v1,v2))"
      ],
      "execution_count": 0,
      "outputs": []
    },
    {
      "cell_type": "markdown",
      "metadata": {
        "id": "_4GLBv0zWr7m",
        "colab_type": "text"
      },
      "source": [
        "# **Discussion**"
      ]
    },
    {
      "cell_type": "markdown",
      "metadata": {
        "id": "6bcsDSoRXHZe",
        "colab_type": "text"
      },
      "source": [
        "Simple matrix functions is something that I have already done in previous courses, for example DD1388 Programsystemkonstruktion med C++. Thus there were no real challenge in implementing these functions except for the labs being done in python, which I am not that familiar with. Python is not that hard to learn so it should not take that much time before I am comfortable with its syntax. "
      ]
    }
  ]
}