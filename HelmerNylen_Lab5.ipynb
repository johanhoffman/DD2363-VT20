{
  "nbformat": 4,
  "nbformat_minor": 0,
  "metadata": {
    "colab": {
      "name": "DD2363 Lab 5.ipynb",
      "provenance": [],
      "collapsed_sections": [],
      "include_colab_link": true
    },
    "kernelspec": {
      "name": "python3",
      "display_name": "Python 3"
    }
  },
  "cells": [
    {
      "cell_type": "markdown",
      "metadata": {
        "id": "view-in-github",
        "colab_type": "text"
      },
      "source": [
        "<a href=\"https://colab.research.google.com/github/johanhoffman/DD2363-VT20/blob/HelmerNylen/HelmerNylen_Lab5.ipynb\" target=\"_parent\"><img src=\"https://colab.research.google.com/assets/colab-badge.svg\" alt=\"Open In Colab\"/></a>"
      ]
    },
    {
      "cell_type": "markdown",
      "metadata": {
        "id": "6RgtXlfYO_i7",
        "colab_type": "text"
      },
      "source": [
        "# **Lab 5: Quadrature**\n",
        "**Helmer Nylén**"
      ]
    },
    {
      "cell_type": "markdown",
      "metadata": {
        "id": "9x_J5FVuPzbm",
        "colab_type": "text"
      },
      "source": [
        "# **Abstract**"
      ]
    },
    {
      "cell_type": "markdown",
      "metadata": {
        "id": "yJipbXtnjrJZ",
        "colab_type": "text"
      },
      "source": [
        "In this lab we implement 2-point Gauss quadrature and Monte Carlo quadrature over the unit interval, and 3-point edge midpoint quadrature and Monte Carlo quadrature over the reference triangle. All four methods are tested: the Monte Carlo methods for convergence speed and the other two for accuracy. All implementations were found to be correct."
      ]
    },
    {
      "cell_type": "markdown",
      "metadata": {
        "id": "OkT8J7uOWpT3",
        "colab_type": "text"
      },
      "source": [
        "#**About the code**"
      ]
    },
    {
      "cell_type": "code",
      "metadata": {
        "id": "Pdll1Xc9WP0e",
        "colab_type": "code",
        "outputId": "07d5fe53-93fe-4478-9181-34e089bd20e5",
        "colab": {
          "base_uri": "https://localhost:8080/",
          "height": 35
        }
      },
      "source": [
        "\"\"\"This program is a lab report in the course\"\"\"\n",
        "\"\"\"DD2363 Methods in Scientific Computing, \"\"\"\n",
        "\"\"\"KTH Royal Institute of Technology, Stockholm, Sweden.\"\"\"\n",
        "\n",
        "# Copyright (C) 2019 Helmer Nylén (helmern@kth.se)\n",
        "# Parts of the relevant theory was discussed with Jonas Nylund\n",
        "\n",
        "# This file is part of the course DD2363 Methods in Scientific Computing\n",
        "# KTH Royal Institute of Technology, Stockholm, Sweden\n",
        "#\n",
        "# This is free software: you can redistribute it and/or modify\n",
        "# it under the terms of the GNU Lesser General Public License as published by\n",
        "# the Free Software Foundation, either version 3 of the License, or\n",
        "# (at your option) any later version."
      ],
      "execution_count": 1,
      "outputs": [
        {
          "output_type": "execute_result",
          "data": {
            "text/plain": [
              "'KTH Royal Institute of Technology, Stockholm, Sweden.'"
            ]
          },
          "metadata": {
            "tags": []
          },
          "execution_count": 1
        }
      ]
    },
    {
      "cell_type": "markdown",
      "metadata": {
        "id": "28xLGz8JX3Hh",
        "colab_type": "text"
      },
      "source": [
        "# **Set up environment**"
      ]
    },
    {
      "cell_type": "code",
      "metadata": {
        "id": "Xw7VlErAX7NS",
        "colab_type": "code",
        "colab": {}
      },
      "source": [
        "# Load neccessary modules.\n",
        "import numpy as np\n",
        "fac = np.math.factorial\n",
        "from random import randint\n",
        "from scipy.optimize import root\n",
        "import numpy.polynomial.polynomial as P\n",
        "\n",
        "from matplotlib import pyplot as plt"
      ],
      "execution_count": 0,
      "outputs": []
    },
    {
      "cell_type": "markdown",
      "metadata": {
        "id": "gnO3lhAigLev",
        "colab_type": "text"
      },
      "source": [
        "# **Introduction**"
      ]
    },
    {
      "cell_type": "markdown",
      "metadata": {
        "id": "l5zMzgPlRAF6",
        "colab_type": "text"
      },
      "source": [
        "In this lab we aim to implement 2-point Gauss quadrature and Monte Carlo quadrature over the unit interval, and 3-point edge midpoint quadrature and Monte Carlo quadrature over the reference triangle. The reference triangle is here taken to refer to the 2D triangle with vertices in $(0,0)$, $(1,0)$ and $(0,1)$ - other works may use other definitions."
      ]
    },
    {
      "cell_type": "markdown",
      "metadata": {
        "id": "WeFO9QMeUOAu",
        "colab_type": "text"
      },
      "source": [
        "# **Methods**"
      ]
    },
    {
      "cell_type": "markdown",
      "metadata": {
        "id": "zF4iBj5VURZx",
        "colab_type": "text"
      },
      "source": [
        "## 2-point Gauss quadrature on [0, 1]\n"
      ]
    },
    {
      "cell_type": "markdown",
      "metadata": {
        "id": "3ZyD3RxuxQIc",
        "colab_type": "text"
      },
      "source": [
        "For 2-point Gauss quadrature in 1D all cubic polynomials $p \\in \\mathcal{P}^3([0,1])$ should be exact. Analogously to example 11.3, chapter 11.3 in the lecture notes we compute the integral for an arbitrary third-degree polynomial $p(x) = \\sum_{i=0}^3 c_i x^i$ to determine the quadrature points $x_0, x_1$ and weights $w_0, w_1$.\n",
        "$$\\int_0^1 p(x)dx = p(x_0)w_0 + p(x_1)w_1$$\n",
        "$$\\int_0^1 \\sum_{i=0}^3 c_i x^i dx = \\sum_{i=0}^3 c_i x_0^i w_0 + \\sum_{i=0}^3 c_i x_1^i w_1$$\n",
        "$$\\frac{c_3}{4} + \\frac{c_2}{3} + \\frac{c_1}{2} + c_0 = (c_3 x_0^3 + c_2 x_0^2 + c_1 x_0 + c_0) w_0 + (c_3 x_1^3 + c_2 x_1^2 + c_1 x_1 + c_0) w_1$$\n",
        "$$c_3(x_0^3 w_0 + x_1^3 w_1 - \\frac{1}{4}) + c_2(x_0^2 w_0 + x_1^2 w_1 - \\frac{1}{3}) + c_1(x_0 w_0 + x_1 w_1 - \\frac{1}{2}) + c_0(w_0 + w_1 - 1) = 0$$\n",
        "Since the equality must hold for arbitrary choices of $c_i$ we get a system of equations as follows:\n",
        "\\begin{align}\n",
        "x_0^3 w_0 + x_1^3 w_1 - \\frac{1}{4} &= 0 \\\\\n",
        "x_0^2 w_0 + x_1^2 w_1 - \\frac{1}{3} &= 0 \\\\\n",
        "x_0 w_0 + x_1 w_1 - \\frac{1}{2} &= 0 \\\\\n",
        "w_0 + w_1 - 1 &= 0\n",
        "\\end{align}\n",
        "Solving this equation system using a numerical solver in `scipy` we get:"
      ]
    },
    {
      "cell_type": "code",
      "metadata": {
        "id": "jozY4d_E7mFQ",
        "colab_type": "code",
        "outputId": "5c8fdfd8-f5dc-4159-ef17-e66ed0fe76a7",
        "colab": {
          "base_uri": "https://localhost:8080/",
          "height": 87
        }
      },
      "source": [
        "def _get_gauss_quad_params(p = False):\n",
        "  x0, x1, w0, w1 = root(lambda x: (\n",
        "      x[0]**3 * x[2] + x[1] ** 3 * x[3] - 1/4,\n",
        "      x[0]**2 * x[2] + x[1] ** 2 * x[3] - 1/3,\n",
        "      x[0]    * x[2] + x[1]      * x[3] - 1/2,\n",
        "      x[2] + x[3] - 1\n",
        "    ), np.ones(4) * 0.5).x\n",
        "  if p:\n",
        "    print(f\"x0: {x0}\\nx1: {x1}\\nw0: {w0}\\nw1: {w1}\")\n",
        "  return np.array([x0, x1]), np.array([w0, w1])\n",
        "\n",
        "_gauss_quad_params = _get_gauss_quad_params(True)"
      ],
      "execution_count": 3,
      "outputs": [
        {
          "output_type": "stream",
          "text": [
            "x0: 0.7886751345948164\n",
            "x1: 0.21132486540527382\n",
            "w0: 0.49999999999993183\n",
            "w1: 0.5000000000000682\n"
          ],
          "name": "stdout"
        }
      ]
    },
    {
      "cell_type": "markdown",
      "metadata": {
        "id": "XWDTKw1YNtl4",
        "colab_type": "text"
      },
      "source": [
        "We define a general quadrature function to reuse and the specific 2-point Gauss quadrature using our computed parameters."
      ]
    },
    {
      "cell_type": "code",
      "metadata": {
        "id": "BVlG6ADjNjXA",
        "colab_type": "code",
        "colab": {}
      },
      "source": [
        "def quad(f, params):\n",
        "  assert hasattr(f, '__call__')\n",
        "  return sum(f(x) * w for x, w in zip(*params))\n",
        "\n",
        "def gauss_quad(f):\n",
        "  return quad(f, _gauss_quad_params)"
      ],
      "execution_count": 0,
      "outputs": []
    },
    {
      "cell_type": "markdown",
      "metadata": {
        "id": "DJPOV80ODT1E",
        "colab_type": "text"
      },
      "source": [
        "### Testing"
      ]
    },
    {
      "cell_type": "markdown",
      "metadata": {
        "id": "WuAdRvw80n9b",
        "colab_type": "text"
      },
      "source": [
        "We test our implementation by comparing the result to the exact solution $\\sum_{i=0}^3 \\frac{c_i}{i+1}$ for random third-degree polynomials."
      ]
    },
    {
      "cell_type": "code",
      "metadata": {
        "id": "n9iafBArDYOy",
        "colab_type": "code",
        "colab": {}
      },
      "source": [
        "def test_gauss():\n",
        "  c = np.random.rand(4) * 2 - 1\n",
        "  f = lambda x: P.polyval(x, c)\n",
        "  \n",
        "  assert np.isclose(gauss_quad(f), c[3] / 4 + c[2] / 3 + c[1] / 2 + c[0])"
      ],
      "execution_count": 0,
      "outputs": []
    },
    {
      "cell_type": "markdown",
      "metadata": {
        "id": "x-l2f8l0Jfbb",
        "colab_type": "text"
      },
      "source": [
        "## 3-point edge midpoint quadrature over the reference triangle"
      ]
    },
    {
      "cell_type": "markdown",
      "metadata": {
        "id": "k-kQ0FdiJ7zg",
        "colab_type": "text"
      },
      "source": [
        "By example 11.5, chapter 11.3 we have the quadrature points\n",
        "$$x_0 = (1/2, 0), x_1 = (1/2, 1/2), x_2 = (0, 1/2)$$\n",
        "with weights $w_0 = w_1 = w_2 = \\frac16$, which should yield exact results for quadratic integrands over the reference triangle $(0,0),(1,0),(0,1)$. Using the above quadrature function we get the following implementation:"
      ]
    },
    {
      "cell_type": "code",
      "metadata": {
        "id": "6lE4EcadJ8Bx",
        "colab_type": "code",
        "colab": {}
      },
      "source": [
        "_midpoint_quad_params = (np.array([[0.5, 0], [0.5, 0.5], [0, 0.5]]), np.ones(3) / 6)\n",
        "def midpoint_quad(f):\n",
        "  return quad(f, _midpoint_quad_params)"
      ],
      "execution_count": 0,
      "outputs": []
    },
    {
      "cell_type": "markdown",
      "metadata": {
        "id": "nb59ZXpxOvkE",
        "colab_type": "text"
      },
      "source": [
        "To verify that the solution is exact for quadratic integrals we need to compute the exact solution. Let $p \\in \\mathcal{P}^N([0,1] \\times [0,1])$ be an arbitrary polynomial of at most degree $N$ on the unit square defined by $$p(x,y) = \\sum_{i=0}^N \\sum_{j=0}^N c_{ij} x^i y^j.$$ The integral over the reference triangle is given by \n",
        "\\begin{align}\n",
        "\\int_0^1 \\int_0^{1-x} \\sum_{i=0}^N \\sum_{j=0}^N c_{ij} x^i y^j dy dx &= \\int_0^1 \\left[ \\sum_{i=0}^N \\sum_{j=0}^N c_{ij} x^i \\frac{y^{j+1}}{j+1} \\right]_0^{1-x} dx \\\\\n",
        "&= \\int_0^1 \\sum_{i=0}^N \\sum_{j=0}^N \\frac{c_{ij}}{j+1} x^i (1-x)^{j+1} dx \\\\\n",
        "&= \\sum_{i=0}^N \\sum_{j=0}^N \\frac{c_{ij}}{j+1} \\int_0^1 x^i (1-x)^{j+1} dx\\\\\n",
        "&= \\sum_{i=0}^N \\sum_{j=0}^N \\frac{c_{ij}}{j+1} \\frac{i!(j+1)!}{(i+j+2)!}\\\\\n",
        "&= \\sum_{i=0}^N \\sum_{j=0}^N c_{ij} \\frac{i!j!}{(i+j+2)!},\n",
        "\\end{align}\n",
        "with some help from WolframAlpha for the last integral. Using the fact that $c_{ij} = 0$ for $i + j > N$ we get, in the quadratic case, $$\\int_0^1 \\int_0^{1-x} \\sum_{i=0}^2 \\sum_{j=0}^2 c_{ij} x^i y^j dy dx = \\frac{c_{00}}{2} + \\frac{c_{10} + c_{01}}{6} + \\frac{c_{11}}{24} + \\frac{c_{20} + c_{02}}{12}.$$"
      ]
    },
    {
      "cell_type": "code",
      "metadata": {
        "id": "KTvckM13OwD0",
        "colab_type": "code",
        "colab": {}
      },
      "source": [
        "def test_midpoint():\n",
        "  c = np.array([[np.random.rand() * 2 - 1 if i + j <= 2 else 0\n",
        "                  for j in range(3)] \n",
        "                    for i in range(3)])\n",
        "  f = lambda x: P.polyval2d(x[0], x[1], c)\n",
        "  \n",
        "  exact = c[0,0] / 2 + (c[1,0] + c[0,1]) / 6 + c[1,1] / 24 + (c[2,0] + c[0,2]) / 12\n",
        "  assert np.isclose(midpoint_quad(f), exact)"
      ],
      "execution_count": 0,
      "outputs": []
    },
    {
      "cell_type": "markdown",
      "metadata": {
        "id": "brQ6z0t9XgI5",
        "colab_type": "text"
      },
      "source": [
        "## Monte Carlo quadrature over unit interval"
      ]
    },
    {
      "cell_type": "markdown",
      "metadata": {
        "id": "NzQsqDIgXnPF",
        "colab_type": "text"
      },
      "source": [
        "By the result at the end of page 224, chapter 12.4, we can approximate the integral $\\int_D f(x) dx$ of a function $f : D \\rightarrow \\mathbb{R}$ with $$\\int_D f(x) dx \\approx \\frac{|D|}{n} \\sum_{i=1}^n f(x_i),$$ where $D \\subset \\mathbb{R}^d$ and the $x_i$ are $n$ samples of random variables uniformly distributed on $D$.\n",
        "\n",
        "On the unit interval in the 1D case we have $$\\int_0^1 f(x)dx \\approx \\frac1n \\sum_{i=1}^n f(x_i),$$ which we can implement using the generic quadrature function above by randomizing the quadrature points over $[0,1]$ and setting the weights to $\\frac1n$ (or, equivalently, to setting them to 1 and then dividing by $n$ to avoid numerical errors for large $n$)."
      ]
    },
    {
      "cell_type": "code",
      "metadata": {
        "id": "UIh3Z4rHXoDI",
        "colab_type": "code",
        "colab": {}
      },
      "source": [
        "def monte_carlo(f, N):\n",
        "  return quad(f, (np.random.rand(N), np.ones(N))) / N"
      ],
      "execution_count": 0,
      "outputs": []
    },
    {
      "cell_type": "markdown",
      "metadata": {
        "id": "PNGsD8-IbgC0",
        "colab_type": "text"
      },
      "source": [
        "We test this implementation to make sure that the error compared to the exact solution decays at a rate of $\\frac{1}{\\sqrt n}$. This can be done either by computing the coefficient of determination or simply by loglog-plotting the error over $n$ and observing the slope. We no longer need to restrict ourselves to third-degree polynomials, and can take arbitrary $p(x) = \\sum_{i=0}^N c_i x^i$ with the exact solution $$\\int_0^1 p(x) dx = \\sum_{i=0}^N \\frac{c_i}{i+1}.$$"
      ]
    },
    {
      "cell_type": "code",
      "metadata": {
        "id": "Qeb0LXc8bgeo",
        "colab_type": "code",
        "colab": {}
      },
      "source": [
        "def test_mc(n_rep = 20):\n",
        "  degree = randint(1, 6)\n",
        "  c = np.random.rand(1 + degree) * 2 - 1\n",
        "  f = lambda x: P.polyval(x, c)\n",
        "  exact = sum(c[i] / (i + 1) for i in range(degree + 1))\n",
        "  \n",
        "  ns = np.round(10 ** np.linspace(1, 5, 20)).astype(int)\n",
        "\n",
        "  diff = []\n",
        "  for n in ns:\n",
        "    diff.append(sum(abs(monte_carlo(f, n) - exact) for _ in range(n_rep)) / n_rep)\n",
        "\n",
        "  plt.figure()\n",
        "  plt.loglog(ns, diff)\n",
        "  plt.loglog(ns, diff[0] * np.sqrt(ns[0]) / np.sqrt(ns))\n",
        "  plt.legend(('Mean error', '1 / sqrt(n)'))\n",
        "  plt.xlabel('n')\n",
        "  plt.ylabel('Error')\n",
        "  plt.title('Unit interval Monte Carlo')"
      ],
      "execution_count": 0,
      "outputs": []
    },
    {
      "cell_type": "markdown",
      "metadata": {
        "id": "j5cowgZynmZG",
        "colab_type": "text"
      },
      "source": [
        "## Monte Carlo quadrature over reference triangle"
      ]
    },
    {
      "cell_type": "markdown",
      "metadata": {
        "id": "VxVAVsKBnsbn",
        "colab_type": "text"
      },
      "source": [
        "Analogously to the above Monte Carlo implementation we get $$\\iint_\\text{tri} f(x)dx \\approx \\frac{|\\text{tri}|}{n} \\sum_{i=1}^n f(x_i) = \\frac{1}{2n} \\sum_{i=1}^n f(x_i).$$ The resulting 2D implementation is similar to the 1D version, except that we also need to provide the uniform sampling on the reference triangle. We can do this by simply sampling on the unit square $[0, 1] \\times [0, 1]$ and mirroring any points $x_i = (x, y)$ which land outside the triangle, given by $x + y > 1$, back inside. This is done by replacing the point $x_i$ with $\\tilde{x_i} = (1-x, 1-y)$, which is motivated by symmetry. The triangle $(0,1),(1,1),(1,0)$ forms an triangle with the same area which can be mapped to the reference triangle by $(x', y') = (1-x,1-y)$, and the boundary along the hypotenuse is given by $x + y = 1$."
      ]
    },
    {
      "cell_type": "code",
      "metadata": {
        "id": "uMXdopGEnsTM",
        "colab_type": "code",
        "colab": {}
      },
      "source": [
        "def _random_reference_triangle(N):\n",
        "  \"\"\"Get N uniformly random points on the reference triangle\"\"\"\n",
        "  res = np.random.rand(N, 2)\n",
        "  outside = res.sum(1) > 1\n",
        "  res[outside, :] = 1 - res[outside, :]\n",
        "  assert (res.sum(1) <= 1).all()\n",
        "  return res\n",
        "\n",
        "def monte_carlo_2D(f, N):\n",
        "  return (1/2) * quad(f, (_random_reference_triangle(N), np.ones(N))) / N"
      ],
      "execution_count": 0,
      "outputs": []
    },
    {
      "cell_type": "markdown",
      "metadata": {
        "id": "t1XDbV0pq26l",
        "colab_type": "text"
      },
      "source": [
        "We test the implementation with arbitrary polynomials where the degree is not restricted to three, and know the exact solution from before: for $$p(x,y) = \\sum_{i=0}^N \\sum_{j=0}^N c_{ij} x^i y^j,$$ $$\\int_0^1 \\int_0^{1-x} p(x,y) dy dx = \\sum_{i=0}^N \\sum_{j=0}^N c_{ij} \\frac{i!j!}{(i+j+2)!}.$$ We again make sure that the error converges at a rate of $\\frac{1}{\\sqrt{n}}$ by visual inspection."
      ]
    },
    {
      "cell_type": "code",
      "metadata": {
        "id": "nkP5AeoKq5Ex",
        "colab_type": "code",
        "colab": {}
      },
      "source": [
        "def test_mc_2D(n_rep = 20):\n",
        "  degree = randint(1, 6)\n",
        "  c = np.array([[np.random.rand() * 2 - 1 if i + j <= 2 else 0\n",
        "                  for j in range(degree)]\n",
        "                    for i in range(degree)])\n",
        "  f = lambda x: P.polyval2d(x[0], x[1], c)\n",
        "  exact = sum(c[i, j] * fac(i) * fac(j) / fac(i + j + 2) for i in range(degree) for j in range(degree))\n",
        "  \n",
        "  ns = np.round(10 ** np.linspace(1, 5, 20)).astype(int)\n",
        "\n",
        "  diff = []\n",
        "  for n in ns:\n",
        "    diff.append(sum(abs(monte_carlo_2D(f, n) - exact) for _ in range(n_rep)) / n_rep)\n",
        "    \n",
        "  plt.figure()\n",
        "  plt.loglog(ns, diff)\n",
        "  plt.loglog(ns, diff[0] * np.sqrt(ns[0]) / np.sqrt(ns))\n",
        "  plt.legend(('Mean error', '1 / sqrt(n)'))\n",
        "  plt.xlabel('n')\n",
        "  plt.ylabel('Error')\n",
        "  plt.title('Reference triangle Monte Carlo')"
      ],
      "execution_count": 0,
      "outputs": []
    },
    {
      "cell_type": "markdown",
      "metadata": {
        "id": "SsQLT38gVbn_",
        "colab_type": "text"
      },
      "source": [
        "# **Results**"
      ]
    },
    {
      "cell_type": "code",
      "metadata": {
        "id": "h9G-mZfmGOAv",
        "colab_type": "code",
        "colab": {
          "base_uri": "https://localhost:8080/",
          "height": 599
        },
        "outputId": "2ba6720b-93e7-43e8-ae2e-e1695befaf67"
      },
      "source": [
        "for i in range(1000):\n",
        "  test_gauss()\n",
        "  test_midpoint()\n",
        "print(\"Gauss and midpoint tests passed\")\n",
        "  \n",
        "test_mc()\n",
        "test_mc_2D()"
      ],
      "execution_count": 12,
      "outputs": [
        {
          "output_type": "stream",
          "text": [
            "Gauss and midpoint tests passed\n"
          ],
          "name": "stdout"
        },
        {
          "output_type": "display_data",
          "data": {
            "image/png": "[encoded data removed]",
            "text/plain": [
              "<Figure size 432x288 with 1 Axes>"
            ]
          },
          "metadata": {
            "tags": []
          }
        },
        {
          "output_type": "display_data",
          "data": {
            "image/png": "[encoded data removed]",
            "text/plain": [
              "<Figure size 432x288 with 1 Axes>"
            ]
          },
          "metadata": {
            "tags": []
          }
        }
      ]
    },
    {
      "cell_type": "markdown",
      "metadata": {
        "id": "RLwlnOzuV-Cd",
        "colab_type": "text"
      },
      "source": [
        "The tests for 2-point Gauss quadrature and 3-point midpoint quadrature both pass. Looking at the figures for the Monte Carlo methods we see that the mean error curves follow the $\\frac{1}{\\sqrt{n}}$-lines very well. Note that we have scaled the $\\frac{1}{\\sqrt{n}}$-lines to intersect the corresponding mean error at $n = 10^1$ to make the comparison easier."
      ]
    },
    {
      "cell_type": "markdown",
      "metadata": {
        "id": "_4GLBv0zWr7m",
        "colab_type": "text"
      },
      "source": [
        "# **Discussion**"
      ]
    },
    {
      "cell_type": "markdown",
      "metadata": {
        "id": "6bcsDSoRXHZe",
        "colab_type": "text"
      },
      "source": [
        "Since all tests pass we can reasonably assume that the implementations are correct. Otherwise both the implementation and the supposedly correct solutions are conistently erroneous in the exact same way, which (while possible) seems unlikely."
      ]
    }
  ]
}