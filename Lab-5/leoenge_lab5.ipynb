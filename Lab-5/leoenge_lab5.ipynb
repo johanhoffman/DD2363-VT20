{
  "nbformat": 4,
  "nbformat_minor": 0,
  "metadata": {
    "colab": {
      "name": "leoenge_lab5.ipynb",
      "provenance": [],
      "collapsed_sections": [],
      "include_colab_link": true
    },
    "kernelspec": {
      "name": "python3",
      "display_name": "Python 3"
    }
  },
  "cells": [
    {
      "cell_type": "markdown",
      "metadata": {
        "id": "view-in-github",
        "colab_type": "text"
      },
      "source": [
        "<a href=\"https://colab.research.google.com/github/johanhoffman/DD2363-VT20/blob/leoenge/Lab-5/leoenge_lab5.ipynb\" target=\"_parent\"><img src=\"https://colab.research.google.com/assets/colab-badge.svg\" alt=\"Open In Colab\"/></a>"
      ]
    },
    {
      "cell_type": "markdown",
      "metadata": {
        "id": "6RgtXlfYO_i7",
        "colab_type": "text"
      },
      "source": [
        "# **Lab 5: Integration**\n",
        "**Leo Enge**"
      ]
    },
    {
      "cell_type": "markdown",
      "metadata": {
        "id": "9x_J5FVuPzbm",
        "colab_type": "text"
      },
      "source": [
        "# **Abstract**"
      ]
    },
    {
      "cell_type": "markdown",
      "metadata": {
        "id": "6UFTSzW7P8kL",
        "colab_type": "text"
      },
      "source": [
        "In this report we tested some different numerical methods for integration over both the unit interval and the reference triangle. Both the Gauss quadrature and the Monte-Carlo integration was used over both domains. The methods were then tested for random polynomials. Just as the theory states the Gauss quadrature was exact for polynomials of small enough degree and the Monte-Carlo had a convergence rate of $1/\\sqrt{n}$, where $n$ is the number of quadrature points used."
      ]
    },
    {
      "cell_type": "markdown",
      "metadata": {
        "id": "OkT8J7uOWpT3",
        "colab_type": "text"
      },
      "source": [
        "#**About the code**"
      ]
    },
    {
      "cell_type": "code",
      "metadata": {
        "id": "Pdll1Xc9WP0e",
        "colab_type": "code",
        "outputId": "8dd1c11f-2100-419c-9c38-559b1e07b3e5",
        "colab": {
          "base_uri": "https://localhost:8080/",
          "height": 54
        }
      },
      "source": [
        "\"\"\"This program is a template for lab reports in the course\"\"\"\n",
        "\"\"\"DD2363 Methods in Scientific Computing, \"\"\"\n",
        "\"\"\"KTH Royal Institute of Technology, Stockholm, Sweden.\"\"\"\n",
        "\n",
        "# Copyright (C) 2019 Leo Enge (leoe@kth.se)\n",
        "\n",
        "# This file is part of the course DD2363 Methods in Scientific Computing\n",
        "# KTH Royal Institute of Technology, Stockholm, Sweden\n",
        "#\n",
        "# This is free software: you can redistribute it and/or modify\n",
        "# it under the terms of the GNU Lesser General Public License as published by\n",
        "# the Free Software Foundation, either version 3 of the License, or\n",
        "# (at your option) any later version."
      ],
      "execution_count": 1,
      "outputs": [
        {
          "output_type": "execute_result",
          "data": {
            "text/plain": [
              "'KTH Royal Institute of Technology, Stockholm, Sweden.'"
            ]
          },
          "metadata": {
            "tags": []
          },
          "execution_count": 1
        }
      ]
    },
    {
      "cell_type": "markdown",
      "metadata": {
        "id": "28xLGz8JX3Hh",
        "colab_type": "text"
      },
      "source": [
        "# **Set up environment**"
      ]
    },
    {
      "cell_type": "code",
      "metadata": {
        "id": "Xw7VlErAX7NS",
        "colab_type": "code",
        "colab": {}
      },
      "source": [
        "# Load neccessary modules.\n",
        "from google.colab import files\n",
        "\n",
        "import time\n",
        "import numpy as np\n",
        "\n",
        "from matplotlib import pyplot as plt\n",
        "from matplotlib import tri\n",
        "from matplotlib import axes\n",
        "from mpl_toolkits.mplot3d import Axes3D\n",
        "from scipy.integrate import quad, dblquad"
      ],
      "execution_count": 0,
      "outputs": []
    },
    {
      "cell_type": "markdown",
      "metadata": {
        "id": "gnO3lhAigLev",
        "colab_type": "text"
      },
      "source": [
        "# **Introduction**"
      ]
    },
    {
      "cell_type": "markdown",
      "metadata": {
        "id": "l5zMzgPlRAF6",
        "colab_type": "text"
      },
      "source": [
        "In this report we aim to test some different numerical methods for calculating an integral over both a unit interval and a reference triangle.\n",
        "\n",
        "We use the 2-point Gauss method for integration over the unit interval $[0,1]$. This method is constructed so that it will be exact for polynomials of degree 3 or less. We therefore test the method for a set of random polynomails of degree 3 or less.\n",
        "\n",
        "Then we use the 3-point Gauss method for integration over the reference triangle, i.e. the triangle enclosed by the points $(0,1), (1,0)$ and $(0,1)$. This in turn is constructed so to be exact for polynomials of two variables and of degree 2 or less. So we test the method for a random set of such polynomials.\n",
        "\n",
        "Finally we use the stochastic method of Monte-Carlo integration over both the unit interval and the reference triangle and then test both of these methods for the same kinds of polynomials as used before.\n"
      ]
    },
    {
      "cell_type": "markdown",
      "metadata": {
        "id": "WeFO9QMeUOAu",
        "colab_type": "text"
      },
      "source": [
        "# **Methods**"
      ]
    },
    {
      "cell_type": "markdown",
      "metadata": {
        "id": "QNC2BPAGMTrT",
        "colab_type": "text"
      },
      "source": [
        "## Gauss 2-point Integration\n",
        "\n",
        "The \"ordinary\" 2-point Gauss quadrature is over the interval $[-1,1]$, where the weights are $w_0 = w_1 = 1$ and the quadrature points are $x_0,1 = \\pm \\frac{1}{\\sqrt{3}}$, and the integral is calculated by \n",
        "\\begin{equation}\n",
        "\\sum_{j=0}^1 f(x_j) w_j\n",
        "\\end{equation}\n",
        "\n",
        "\n",
        " We begin by implementing this quadrature. We can then calculate the integral over the interval $[0,1]$ by a simple change of variable $x \\mapsto 2x - 1$. In other words the integral becomes\n",
        "\\begin{equation}\n",
        "\\int_0^1 f(x) dx = \\frac{1}{2} \\int_{-1}^{1} f\\left(\\frac{x+1}{2}\\right) dx\n",
        "\\end{equation} \n",
        "where the right hand side can be calculated using the ordinary 2-point Gauss quadrature.\n",
        "\n",
        "We can even generalise this to an arbitrary interval $[a,b]$, by the change of variable \n",
        "\\begin{equation}\n",
        "x \\mapsto 2 \\frac{x-a}{b-a} - 1\n",
        "\\end{equation}\n",
        "which leads to the integral\n",
        "\\begin{equation}\n",
        "\\int_a^b f(x) dx = \\frac{b-a}{2} \\int_{-1}^{1} f\\left( \\frac{(x+1)(b-a)}{2} + a\\right) dx\n",
        "\\end{equation}\n"
      ]
    },
    {
      "cell_type": "code",
      "metadata": {
        "id": "LujzDIMEHsTT",
        "colab_type": "code",
        "colab": {}
      },
      "source": [
        "def gauss_int(f, a=-1, b=1):\n",
        "  if not (a==-1 and b==1):\n",
        "    #Calling the function again, but with the variables changed.\n",
        "    return ((b-a)/2)*gauss_int(lambda x: f((x+1) * (b-a) * (1/2) + a))\n",
        "\n",
        "  s = 0\n",
        "  w = 1\n",
        "  point = 1/(np.sqrt(3))\n",
        "  for x in [point, -point]:\n",
        "    s += f(x)*w\n",
        "  return s\n"
      ],
      "execution_count": 0,
      "outputs": []
    },
    {
      "cell_type": "markdown",
      "metadata": {
        "id": "qs-1dFKML02z",
        "colab_type": "text"
      },
      "source": [
        "### Test the Gauss integration\n",
        "We test the Gauss integration agains the exact integral for a large set of random cubic polynomials.  "
      ]
    },
    {
      "cell_type": "markdown",
      "metadata": {
        "id": "aq__RnT3MLDD",
        "colab_type": "text"
      },
      "source": [
        "#### Generate random cubic polynomial\n",
        "We begi by defining a function which generates a ranom cubic polynomial\n",
        "\\begin{equation}\n",
        "p(x) = c_0 + c_1x + c_2x^2 + c_3x^3.\n",
        "\\end{equation}\n",
        "The function returns both the polynomial and an array with the coefficients which will be used to calculate the exact integral.\n"
      ]
    },
    {
      "cell_type": "code",
      "metadata": {
        "id": "h0wzpxzkFrK5",
        "colab_type": "code",
        "colab": {}
      },
      "source": [
        "def random_cubic_polynomial_1d():\n",
        "  coefficients = np.around(5*np.random.rand(4), 1)\n",
        "  def p(x):\n",
        "    y = 0\n",
        "    for i in range(4):\n",
        "      y += coefficients[i]* (x**i)\n",
        "    return y\n",
        "  return p, coefficients"
      ],
      "execution_count": 0,
      "outputs": []
    },
    {
      "cell_type": "markdown",
      "metadata": {
        "id": "-12rth3iMGU2",
        "colab_type": "text"
      },
      "source": [
        "#### Exact integral\n",
        "If we have a polynomial\n",
        "\\begin{equation}\n",
        "p(x) = c_0 + c_1x + c_2x^2 + c_3x^3.\n",
        "\\end{equation}\n",
        "we can easily calculate the exact integral over the unit interval $[0,1]$ as\n",
        "\\begin{equation}\n",
        "\\int_0^1 p(x) \\ dx = c_0 + \\frac{c_1}{2} + \\frac{c_2}{3} + \\frac{c_3}{4}\n",
        "\\end{equation}"
      ]
    },
    {
      "cell_type": "code",
      "metadata": {
        "id": "CLOQ0ZBEIDRL",
        "colab_type": "code",
        "colab": {}
      },
      "source": [
        "def exact_integral_int(coefficients):\n",
        "  integral = 0\n",
        "  for i in range(4):\n",
        "    integral += coefficients[i]/(i+1)\n",
        "  return integral"
      ],
      "execution_count": 0,
      "outputs": []
    },
    {
      "cell_type": "markdown",
      "metadata": {
        "id": "mKTza5ngMPwQ",
        "colab_type": "text"
      },
      "source": [
        "#### The test\n",
        "We now test the Gauss integration for a set of $100$ random polynomials of degree 3 or less. We then compare it to the exact integral and print this error for each polynomial. We also calculate the average of the errors and and print it."
      ]
    },
    {
      "cell_type": "code",
      "metadata": {
        "id": "pwZHqxgWJmUb",
        "colab_type": "code",
        "colab": {}
      },
      "source": [
        "def test_gauss_int():\n",
        "  decimals = 10\n",
        "  no_of_tests = 100\n",
        "  errors = np.zeros(no_of_tests)\n",
        "  for i in range(no_of_tests):\n",
        "    p, coef = random_cubic_polynomial_1d()\n",
        "    error = abs(gauss_int(p, a=0, b=1) - exact_integral_int(coef))\n",
        "    errors[i] = np.around(error, decimals)\n",
        "  print(\"Errors for each test of \" + str(no_of_tests) + \" tests:\")\n",
        "  print(str(errors))\n",
        "  print(\"The average error is: \" + str(np.around(np.mean(errors), decimals)))"
      ],
      "execution_count": 0,
      "outputs": []
    },
    {
      "cell_type": "markdown",
      "metadata": {
        "id": "BuPdK_FoMYzW",
        "colab_type": "text"
      },
      "source": [
        "## 3-point Quadrature over Triangle\n",
        "We implement the 3-point Gauss quadrature over the reference triangle, i.e. the triangle enclosed by the points $(0,0), (1,0)$ and $(0,1)$, as suggested by Example 11.5 of the lecture notes, with the quadrature points\n",
        "\\begin{align}\n",
        "x_0 = (0, 1/2) \\\\\n",
        "x_1 = (1/2, 0) \\\\\n",
        "x_2 = (1/2, 1/2)\n",
        "\\end{align}\n",
        "and the weights $w_0 = w_1 = w_2 = 1/6$. Just as in one variable, the integral is calculated by\n",
        "\\begin{equation}\n",
        "\\sum_{j=0}^2 f(x_j, y_j) w_j\n",
        "\\end{equation}"
      ]
    },
    {
      "cell_type": "code",
      "metadata": {
        "id": "Y0RHyXYP1KH1",
        "colab_type": "code",
        "colab": {}
      },
      "source": [
        "def gauss_tri(f):\n",
        "  quad_points = [(0.5, 0), (0, 0.5), (0.5, 0.5)]\n",
        "  w = 1/6\n",
        "  s = 0\n",
        "  for x in quad_points:\n",
        "    s += f(x[0], x[1])*w\n",
        "  return s"
      ],
      "execution_count": 0,
      "outputs": []
    },
    {
      "cell_type": "markdown",
      "metadata": {
        "id": "xiNZZx4ltOQK",
        "colab_type": "text"
      },
      "source": [
        "### Test the quadrature over a reference triangle\n",
        "Just as for the unit interval, we generate a large set of polynomials, now of two variables and of degree 2 or less, and compare the Gauss method against the exact integral."
      ]
    },
    {
      "cell_type": "markdown",
      "metadata": {
        "id": "yN0R4PNQtT76",
        "colab_type": "text"
      },
      "source": [
        "#### Generate a random polynomial\n",
        "We generate a random quadratic polynomial of two variables. The polynomail is of the form\n",
        "\\begin{equation}\n",
        "p(x,y) = c_0 + c_1x + c_2y + c_3xy + c_4 x^2 + c_5y^2\n",
        "\\end{equation}\n",
        "\n",
        "For calculating the exact integral, we not only return the function $p(x,y)$, but also the coefficients $c_i$.\n",
        "\n"
      ]
    },
    {
      "cell_type": "code",
      "metadata": {
        "id": "6Az6o47psV4M",
        "colab_type": "code",
        "colab": {}
      },
      "source": [
        "def random_quad_polynomial_2d():\n",
        "  c = np.around(5*np.random.rand(6), 1)\n",
        "  def p(x,y):\n",
        "    return c[0] + c[1]*x + c[2]*y + c[3]*x*y + c[4]*(x**2) + c[5]*(y**2)\n",
        "  return p, c"
      ],
      "execution_count": 0,
      "outputs": []
    },
    {
      "cell_type": "markdown",
      "metadata": {
        "id": "brGw9Ml6uGjD",
        "colab_type": "text"
      },
      "source": [
        "#### The exact integral\n",
        "One can by simple rules of integration rules derive the following formula\n",
        "\\begin{equation}\n",
        "\\int_0^1 \\int_0^{1-y} c_0 + c_1x + c_2y + c_3xy + c_4 x^2 + c_5y^2 \\ dx dy = \\frac{c_0}{2} + \\frac{c_1 + c_2}{6} + \\frac{c_3}{24} +\\frac{c_4 + c_5}{12}.\n",
        "\\end{equation}\n",
        "We use this formula to calculate the exact integral."
      ]
    },
    {
      "cell_type": "code",
      "metadata": {
        "id": "kYO6U2E8u-oX",
        "colab_type": "code",
        "colab": {}
      },
      "source": [
        "def exact_integral_tri(c):\n",
        "  return (c[0]/2) + (c[1]/6) + (c[2]/6) + (c[3]/24) + (c[4]/12) + (c[5]/12)"
      ],
      "execution_count": 0,
      "outputs": []
    },
    {
      "cell_type": "markdown",
      "metadata": {
        "id": "4MG8XeU8yHsV",
        "colab_type": "text"
      },
      "source": [
        "#### Test of exact integration formula\n",
        "Just to make sure that the formula for calculating the exact integral is correct, we compare the result to that of scipys quadrature function. If the formula is correct these two should be very close."
      ]
    },
    {
      "cell_type": "code",
      "metadata": {
        "id": "qzROXcOuwJgu",
        "colab_type": "code",
        "colab": {}
      },
      "source": [
        "def test_test():\n",
        "  no_of_tests = 10\n",
        "  errors = np.zeros(no_of_tests)\n",
        "  for i in range(no_of_tests):\n",
        "    p, c = random_quad_polynomial_2d()\n",
        "    scipy_quad = dblquad(lambda u,v: p(u,v), 0, 1, lambda x: 0, lambda x: 1-x)[0]\n",
        "    exact = exact_integral_tri(c)\n",
        "    errors[i] = abs(scipy_quad - exact)\n",
        "  print(\"Difference beetween exact integration and scipys dblquad: \")\n",
        "  print(str(errors))"
      ],
      "execution_count": 0,
      "outputs": []
    },
    {
      "cell_type": "code",
      "metadata": {
        "id": "60_1G-SXxo_o",
        "colab_type": "code",
        "outputId": "b63c000c-b39a-4788-95a5-3b38a3ff6c2a",
        "colab": {
          "base_uri": "https://localhost:8080/",
          "height": 68
        }
      },
      "source": [
        "test_test()"
      ],
      "execution_count": 11,
      "outputs": [
        {
          "output_type": "stream",
          "text": [
            "Difference beetween exact integration and scipys dblquad: \n",
            "[0.0000000e+00 0.0000000e+00 0.0000000e+00 4.4408921e-16 4.4408921e-16\n",
            " 0.0000000e+00 0.0000000e+00 0.0000000e+00 0.0000000e+00 0.0000000e+00]\n"
          ],
          "name": "stdout"
        }
      ]
    },
    {
      "cell_type": "markdown",
      "metadata": {
        "id": "yGXh-4laykRK",
        "colab_type": "text"
      },
      "source": [
        "We see that they are indeed very close. So we conclude that the exact integration formula is correct."
      ]
    },
    {
      "cell_type": "markdown",
      "metadata": {
        "id": "0xaTeek9yzSx",
        "colab_type": "text"
      },
      "source": [
        "#### The test\n",
        "The test is analogous to the one for the unit interval."
      ]
    },
    {
      "cell_type": "code",
      "metadata": {
        "id": "zRXlNIw20qAq",
        "colab_type": "code",
        "colab": {}
      },
      "source": [
        "def test_gauss_tri():\n",
        "  decimals = 10\n",
        "  no_of_tests = 100\n",
        "  errors = np.zeros(no_of_tests)\n",
        "  for i in range(no_of_tests):\n",
        "    p,c = random_quad_polynomial_2d()\n",
        "    errors[i] = np.around((abs(exact_integral_tri(c) - gauss_tri(p))), decimals)\n",
        "  print(\"Errors for each test of \" + str(no_of_tests) + \" tests:\")\n",
        "  print(str(errors))\n",
        "  print(\"The average error is: \" + str(np.around(np.mean(errors), decimals)))"
      ],
      "execution_count": 0,
      "outputs": []
    },
    {
      "cell_type": "markdown",
      "metadata": {
        "id": "wl53az3yMg57",
        "colab_type": "text"
      },
      "source": [
        "## Monte-Carlo Quadrature Over Unit Interval\n",
        "For a function $f: [0,1] \\to \\mathbb{R}$ we can approximate the integral of $f$ on $[0,1]$ by\n",
        "\\begin{equation}\n",
        "\\int_0^1 f(x) \\ dx \\approx \\frac{1-0}{n} \\sum_{i=1}^n f(x_i)\n",
        "\\end{equation}\n",
        "where $x_i$ is some random point in $[0,1]$, and $n$ is the number of points, used."
      ]
    },
    {
      "cell_type": "code",
      "metadata": {
        "id": "TvdVwAb-5-R4",
        "colab_type": "code",
        "colab": {}
      },
      "source": [
        "def mc_int(f, no_of_points):\n",
        "  s = 0\n",
        "  interval_length = 1\n",
        "  for _ in range(no_of_points):\n",
        "    quad_point = np.random.rand(1)\n",
        "    s += interval_length * f(quad_point)\n",
        "  return (s/no_of_points)"
      ],
      "execution_count": 0,
      "outputs": []
    },
    {
      "cell_type": "markdown",
      "metadata": {
        "id": "PecFY7a-6vvH",
        "colab_type": "text"
      },
      "source": [
        "#### Test Monte-Carlo integration\n",
        "We test the Monte-Carlo integration for 100 different random cubic polynomials $f(x)$ and for different numbers, $n$, of quadrature points. For each of the polynomials we calculate the error\n",
        "\\begin{equation}\n",
        "e_{f(x)}(n) = \\left| \\int_0^1 f(x) \\ dx -  \\frac{1-0}{n} \\sum_{i=1}^n f(x_i) \\right|\n",
        "\\end{equation}\n",
        "as a function of how many random quadrature points that are used. When then take the average of all the $e_{f_i}(n)$ for all the random polynomials $f_i$ used and plot it in blue against $n$.\n",
        "\n",
        "We also plot $1/\\sqrt(n)$ in red for comparison."
      ]
    },
    {
      "cell_type": "code",
      "metadata": {
        "id": "5xCQmHnc6vNF",
        "colab_type": "code",
        "colab": {}
      },
      "source": [
        "def test_mc_int():\n",
        "  no_of_tests = 100\n",
        "  n = np.array([3, 4, 5, 8, 10, 15, 20, 25, 30, 50, 100, 150])\n",
        "  x = np.linspace(n[0], n[-1], num=100)\n",
        "  average_error = np.zeros(n.size)  \n",
        "  for i in range(no_of_tests):\n",
        "    errors = np.zeros(n.size)\n",
        "    p,c = random_cubic_polynomial_1d()\n",
        "    for j in range(n.size):\n",
        "      errors[j] = abs(exact_integral_int(c) - mc_int(p, n[j]))\n",
        "    average_error += errors\n",
        "    #print(average_error)\n",
        "    #plt.plot(n, errors, color='blue')\n",
        "  average_error = average_error/no_of_tests\n",
        "  line1, = plt.plot(n, 1/np.sqrt(n), color='red', label='1/sqrt(n)')\n",
        "  line2, = plt.plot(n, average_error, color='blue', label='Average error of 1D MC')\n",
        "  plt.title(\"Plot of average error and of 1/sqrt(n) against number of random quadrature points n\")\n",
        "  first_legend = plt.legend(handles=[line1, line2], loc='upper right')\n",
        "  ax = plt.gca().add_artist(first_legend)\n"
      ],
      "execution_count": 0,
      "outputs": []
    },
    {
      "cell_type": "markdown",
      "metadata": {
        "id": "_bdxwQpukFx_",
        "colab_type": "text"
      },
      "source": [
        "## Monte-Carlo Integration over Reference Triangle\n",
        "We can generalise the approximation we just did over an interval $[0,1]$ to be over any domain $D$. Let $f: D \\to \\mathbb{R}$, we then get the approximation\n",
        "\\begin{equation}\n",
        "\\int_D f(x) \\ dx \\approx \\frac{|D|}{n} \\sum_{i=1}^n f(x_i)\n",
        "\\end{equation}\n",
        "for $n$ number of random points $x_i \\in D$."
      ]
    },
    {
      "cell_type": "code",
      "metadata": {
        "id": "p65NDxjkmuYE",
        "colab_type": "code",
        "colab": {}
      },
      "source": [
        "def mc_tri(f, no_of_points):\n",
        "  s = 0\n",
        "  area = 1/2\n",
        "  i = 0\n",
        "  while(i<no_of_points) :\n",
        "    quad_point = np.random.rand(2)\n",
        "    if (quad_point[0] + quad_point[1] > 1):\n",
        "      continue\n",
        "    i += 1\n",
        "    s += area * f(quad_point[0], quad_point[1])\n",
        "  return (s/no_of_points)"
      ],
      "execution_count": 0,
      "outputs": []
    },
    {
      "cell_type": "markdown",
      "metadata": {
        "id": "Lu4-yxrXpC3f",
        "colab_type": "text"
      },
      "source": [
        "### Test Monte-Carlo Integration over Reference Triangle\n",
        "We test it in much the same way as in the one-dimensional case over an interval. We use the previously defined functions for generating a random quadratic polynomial of two variables, and for calculating the exact integral over a reference triangle for such a function."
      ]
    },
    {
      "cell_type": "code",
      "metadata": {
        "id": "hVq6PX3zpJHP",
        "colab_type": "code",
        "colab": {}
      },
      "source": [
        "def test_mc_tri():\n",
        "  no_of_tests = 100\n",
        "  n = np.array([3, 4, 5, 8, 10, 15, 20, 25, 30, 50, 100, 150])\n",
        "  #n = np.array([10, 50, 100, 500])\n",
        "  x = np.linspace(n[0], n[-1], num=100)\n",
        "  average_error = np.zeros(n.size)  \n",
        "  for i in range(no_of_tests):\n",
        "    errors = np.zeros(n.size)\n",
        "    p,c = random_quad_polynomial_2d()\n",
        "    for j in range(n.size):\n",
        "      errors[j] = abs(exact_integral_tri(c) - mc_tri(p, n[j]))\n",
        "    average_error += errors\n",
        "    #print(average_error)\n",
        "    #plt.plot(n, errors, color='blue')\n",
        "  average_error = average_error/no_of_tests\n",
        "  line1, = plt.plot(n, 1/np.sqrt(n), color='red', label='1/sqrt(n)')\n",
        "  line2, = plt.plot(n, average_error, color='blue', label='Average error of 2D MC')\n",
        "  plt.title(\"Plot of average error and of 1/sqrt(n) against number of random quadrature points n\")\n",
        "  first_legend = plt.legend(handles=[line1, line2], loc='upper right')\n",
        "  ax = plt.gca().add_artist(first_legend)"
      ],
      "execution_count": 0,
      "outputs": []
    },
    {
      "cell_type": "markdown",
      "metadata": {
        "id": "SsQLT38gVbn_",
        "colab_type": "text"
      },
      "source": [
        "# **Results**"
      ]
    },
    {
      "cell_type": "markdown",
      "metadata": {
        "id": "RLwlnOzuV-Cd",
        "colab_type": "text"
      },
      "source": [
        "We begin by running all the tests."
      ]
    },
    {
      "cell_type": "markdown",
      "metadata": {
        "id": "sNG4YujRLMrJ",
        "colab_type": "text"
      },
      "source": [
        "### Results from 2-points Gauss on unit interval"
      ]
    },
    {
      "cell_type": "code",
      "metadata": {
        "id": "JcDW2D06HSNp",
        "colab_type": "code",
        "colab": {
          "base_uri": "https://localhost:8080/",
          "height": 170
        },
        "outputId": "5664a755-e6ef-4272-eab4-5494568c7d1d"
      },
      "source": [
        "print('===== Test results of 2-point Gauss quadrature over unit interval =====\\n')\n",
        "test_gauss_int()"
      ],
      "execution_count": 17,
      "outputs": [
        {
          "output_type": "stream",
          "text": [
            "===== Test results of 2-point Gauss quadrature over unit interval =====\n",
            "\n",
            "Errors for each test of 100 tests:\n",
            "[0. 0. 0. 0. 0. 0. 0. 0. 0. 0. 0. 0. 0. 0. 0. 0. 0. 0. 0. 0. 0. 0. 0. 0.\n",
            " 0. 0. 0. 0. 0. 0. 0. 0. 0. 0. 0. 0. 0. 0. 0. 0. 0. 0. 0. 0. 0. 0. 0. 0.\n",
            " 0. 0. 0. 0. 0. 0. 0. 0. 0. 0. 0. 0. 0. 0. 0. 0. 0. 0. 0. 0. 0. 0. 0. 0.\n",
            " 0. 0. 0. 0. 0. 0. 0. 0. 0. 0. 0. 0. 0. 0. 0. 0. 0. 0. 0. 0. 0. 0. 0. 0.\n",
            " 0. 0. 0. 0.]\n",
            "The average error is: 0.0\n"
          ],
          "name": "stdout"
        }
      ]
    },
    {
      "cell_type": "markdown",
      "metadata": {
        "id": "P5B_QAqmLVG0",
        "colab_type": "text"
      },
      "source": [
        "### Results from 3-point Gauss on reference triangle"
      ]
    },
    {
      "cell_type": "code",
      "metadata": {
        "id": "Bleh2jbGLEMJ",
        "colab_type": "code",
        "colab": {
          "base_uri": "https://localhost:8080/",
          "height": 170
        },
        "outputId": "aeb90929-ba56-432a-f866-dd4561f02d2f"
      },
      "source": [
        "print('===== Test results of 3-point Gauss quadrature over reference triangle =====\\n')\n",
        "test_gauss_tri()"
      ],
      "execution_count": 18,
      "outputs": [
        {
          "output_type": "stream",
          "text": [
            "===== Test results of 3-point Gauss quadrature over reference triangle =====\n",
            "\n",
            "Errors for each test of 100 tests:\n",
            "[0. 0. 0. 0. 0. 0. 0. 0. 0. 0. 0. 0. 0. 0. 0. 0. 0. 0. 0. 0. 0. 0. 0. 0.\n",
            " 0. 0. 0. 0. 0. 0. 0. 0. 0. 0. 0. 0. 0. 0. 0. 0. 0. 0. 0. 0. 0. 0. 0. 0.\n",
            " 0. 0. 0. 0. 0. 0. 0. 0. 0. 0. 0. 0. 0. 0. 0. 0. 0. 0. 0. 0. 0. 0. 0. 0.\n",
            " 0. 0. 0. 0. 0. 0. 0. 0. 0. 0. 0. 0. 0. 0. 0. 0. 0. 0. 0. 0. 0. 0. 0. 0.\n",
            " 0. 0. 0. 0.]\n",
            "The average error is: 0.0\n"
          ],
          "name": "stdout"
        }
      ]
    },
    {
      "cell_type": "markdown",
      "metadata": {
        "id": "nhASTY_FLZZ5",
        "colab_type": "text"
      },
      "source": [
        "### Results from Monte-Carlo integration over unit interval"
      ]
    },
    {
      "cell_type": "code",
      "metadata": {
        "id": "oloT567BLD8g",
        "colab_type": "code",
        "colab": {
          "base_uri": "https://localhost:8080/",
          "height": 281
        },
        "outputId": "7e4c3c49-81d0-4ec8-af98-a9fa6e11ec0a"
      },
      "source": [
        "test_mc_int()"
      ],
      "execution_count": 19,
      "outputs": [
        {
          "output_type": "display_data",
          "data": {
            "image/png": "[encoded data removed]",
            "text/plain": [
              "<Figure size 432x288 with 1 Axes>"
            ]
          },
          "metadata": {
            "tags": []
          }
        }
      ]
    },
    {
      "cell_type": "markdown",
      "metadata": {
        "id": "n6ZcbX15LgQe",
        "colab_type": "text"
      },
      "source": [
        "### Results from Monte-Carlo integration over reference triangle"
      ]
    },
    {
      "cell_type": "code",
      "metadata": {
        "id": "JQ54bKf6LDwh",
        "colab_type": "code",
        "colab": {
          "base_uri": "https://localhost:8080/",
          "height": 281
        },
        "outputId": "10d9dcb6-d036-448a-eaba-8d4c00055e68"
      },
      "source": [
        "test_mc_tri()"
      ],
      "execution_count": 20,
      "outputs": [
        {
          "output_type": "display_data",
          "data": {
            "image/png": "[encoded data removed]",
            "text/plain": [
              "<Figure size 432x288 with 1 Axes>"
            ]
          },
          "metadata": {
            "tags": []
          }
        }
      ]
    },
    {
      "cell_type": "markdown",
      "metadata": {
        "id": "_4GLBv0zWr7m",
        "colab_type": "text"
      },
      "source": [
        "# **Discussion**"
      ]
    },
    {
      "cell_type": "markdown",
      "metadata": {
        "id": "6bcsDSoRXHZe",
        "colab_type": "text"
      },
      "source": [
        "Just as the theory predicts the Gauss quadrature is exact for cubic and quadratic polynomials over the unit interval and the reference triangle respectively. Whereas the Monte-Carlo integration is not exact for these polynomials, but if we look at of the error we se it they apart from multiplication by a constant closely resemble the plot of $1/\\sqrt{n}$, where $n$ is the number of random quadrature points used, both in the 1D and 2D case. So, we conclude that the rate of convergece is $1/\\sqrt{n}$, just as expected."
      ]
    }
  ]
}