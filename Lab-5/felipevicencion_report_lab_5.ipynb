{
  "nbformat": 4,
  "nbformat_minor": 0,
  "metadata": {
    "colab": {
      "name": "felipevicencion-report-lab-5.ipynb",
      "provenance": [],
      "collapsed_sections": []
    },
    "kernelspec": {
      "name": "python3",
      "display_name": "Python 3"
    }
  },
  "cells": [
    {
      "cell_type": "markdown",
      "metadata": {
        "id": "Ne205wrhj1m3",
        "colab_type": "text"
      },
      "source": [
        "# **Lab 5: Quadrature**\n",
        "**Felipe Vicencio**"
      ]
    },
    {
      "cell_type": "markdown",
      "metadata": {
        "id": "HOAn9nlrkAQ3",
        "colab_type": "text"
      },
      "source": [
        "# **Abstract**\n",
        "This report contains implementations of 3 differen quadrature rules, which are methods of approximation for the definite integral of a function. \n"
      ]
    },
    {
      "cell_type": "markdown",
      "metadata": {
        "id": "hMkbEm2RkhEL",
        "colab_type": "text"
      },
      "source": [
        "# **About the code**"
      ]
    },
    {
      "cell_type": "code",
      "metadata": {
        "id": "RmtaQ4qwkwI2",
        "colab_type": "code",
        "outputId": "042a6fb7-9a0b-4ef1-c218-2783b85aed60",
        "colab": {
          "base_uri": "https://localhost:8080/",
          "height": 34
        }
      },
      "source": [
        "\"\"\"DD2363 Methods in Scientific Computing, \"\"\"\n",
        "\"\"\"KTH Royal Institute of Technology, Stockholm, Sweden.\"\"\"\n",
        "\n",
        "# Author: Felipe Vicencio Neumann\n",
        "# Date: 15-2-2020\n",
        "\n",
        "# Based on a template by Johan Hoffman:\n",
        "# Copyright (C) 2019 Johan Hoffman (jhoffman@kth.se)\n",
        "\n",
        "# This file is part of the course DD2363 Methods in Scientific Computing\n",
        "# KTH Royal Institute of Technology, Stockholm, Sweden\n",
        "#\n",
        "# This is free software: you can redistribute it and/or modify\n",
        "# it under the terms of the GNU Lesser General Public License as published by\n",
        "# the Free Software Foundation, either version 3 of the License, or\n",
        "# (at your option) any later version."
      ],
      "execution_count": 28,
      "outputs": [
        {
          "output_type": "execute_result",
          "data": {
            "text/plain": [
              "'KTH Royal Institute of Technology, Stockholm, Sweden.'"
            ]
          },
          "metadata": {
            "tags": []
          },
          "execution_count": 28
        }
      ]
    },
    {
      "cell_type": "markdown",
      "metadata": {
        "id": "gbnjTZlUlTUZ",
        "colab_type": "text"
      },
      "source": [
        "# **Set up environment**"
      ]
    },
    {
      "cell_type": "code",
      "metadata": {
        "id": "xG5BzSUnlaqT",
        "colab_type": "code",
        "colab": {}
      },
      "source": [
        "from google.colab import files\n",
        "import numpy as np\n",
        "import random\n",
        "import matplotlib.pyplot as plt\n",
        "import math"
      ],
      "execution_count": 0,
      "outputs": []
    },
    {
      "cell_type": "markdown",
      "metadata": {
        "id": "mmD2p7WAmEVx",
        "colab_type": "text"
      },
      "source": [
        "# **Introduction**\n",
        "\n",
        "In this lab 3 methods for quadratures were implemented:\n",
        "- The **Gauss quadrature**, which is exact for polynomials of certain grades depending of the number of points.\n",
        "- The **Edge midpoint quadrature**, which takes midpoints of a triangle's sides.\n",
        "- The **Monte Carlo quadrature**, which takes a large number of random points. This quadrature was implemented for both 1D and 2D functions."
      ]
    },
    {
      "cell_type": "markdown",
      "metadata": {
        "id": "1eGnlxHonPdm",
        "colab_type": "text"
      },
      "source": [
        "# **Methods**"
      ]
    },
    {
      "cell_type": "markdown",
      "metadata": {
        "id": "cRX_yuzBoKfY",
        "colab_type": "text"
      },
      "source": [
        "## 2-point Gauss quadrature:\n",
        "As stated in the lecture notes, the Gauss quadrature rules are constructed to be exact for a polynomial integral of a certain degree $q$. This means that it's accuracy is directly related to how well the function taken can be approximated to a polynomial.\n",
        "In order to construct the rule, we write:\n",
        "\n",
        "$p(x) = \\sum_{i=0}^qp(x_i)w_i$\n",
        "\n",
        "So, for the 2-point Gauss rule over a unit interval we have:\n",
        "\n",
        "$\\int_0^1p(x)dx = p(x_0)w_0 + p(x_1)w_1 \\Leftrightarrow \\int_0^1\\sum_{i=0}^3c_ix^i = \\sum_{i=0}^3c_0x_0^iw_0 + \\sum_{i=0}^3c_1x_1^iw_1$\n",
        "\n",
        "Since $c_i \\neq 0$,the correct $x_i$ and $w_i$ have to fulfill:\n",
        "\n",
        "$w_0 + w_1 = w_0\\\\\n",
        "w_0x_0 + w_1x_1 = \\frac{1}{2}\\\\\n",
        "w_0 x_0^2 + w_1 x_1^2 = \\frac{1}{3}\\\\\n",
        "w_0 x_0^3 + w_1 x_1^3 = \\frac {1}{4}$\n",
        "\n",
        "Which gives us:\n",
        "\n",
        "$w_0 = w_1 = \\frac{1}{2}\\\\\n",
        "x_0 = \\frac{3-\\sqrt{3}}{6}\\\\\n",
        "x_1 = \\frac{3+\\sqrt{3}}{6}$\n",
        "\n"
      ]
    },
    {
      "cell_type": "code",
      "metadata": {
        "id": "DHpBdJgGntrJ",
        "colab_type": "code",
        "colab": {}
      },
      "source": [
        "def gauss2p(func):\n",
        "\tx1 = (3-3**(1/2))/6\n",
        "\tx2 = (3+3**(1/2))/6\n",
        "\treturn (func(x1)/2 + func(x2)/2)"
      ],
      "execution_count": 0,
      "outputs": []
    },
    {
      "cell_type": "markdown",
      "metadata": {
        "id": "_KW3Lkz7PiTA",
        "colab_type": "text"
      },
      "source": [
        "## 3-point edge midpoint Quadrature over a reference trinagle:\n",
        "\n",
        "This quadrature rule uses the midpoint of each side of a triangle, and then averages the values of the function evaluated in those points. Then, to get the value, it only needs to multiply the average by the area of the triangle.\n",
        "Since the reference triangle is always the same, we can always use:\n",
        "\n",
        "$Areaa(T)\\frac{(f(m1)+f(m2)+f(m3))}{3} =\\frac{(f(0,0.5)+f(0.5,0)+f(0.5,0.5))}{6}\\\\ $\n",
        "\n",
        "*$m_i$ is the midpoint of the $i$-th side"
      ]
    },
    {
      "cell_type": "code",
      "metadata": {
        "id": "1im1Q-NEPvh1",
        "colab_type": "code",
        "colab": {}
      },
      "source": [
        "def midpoint3p(func):\n",
        "\tarea = 1/2\n",
        "\treturn area*(func(0.0,0.5)+func(0.5,0.0)+func(0.5,0.5))/3"
      ],
      "execution_count": 0,
      "outputs": []
    },
    {
      "cell_type": "markdown",
      "metadata": {
        "id": "lvx9O5CUo8v4",
        "colab_type": "text"
      },
      "source": [
        "## Monte Carlo Quadrature:\n",
        "\n",
        "The Monte Carlo quadrature rule evaluates the function in random points in the interval (or aream in the case of the case of a 3D function) given, then takes the average of said values, and multiplies it by the length of the interval (or by the area of the triangle, in second  case, in which we use the reference triangle).\n",
        "\n",
        "Since we will always be using the $[0,1]$ interval and the reference triangle, the length and volumes will always be $1$ and $\\frac{1}{2}$ respectively.\n",
        "\n",
        "\n"
      ]
    },
    {
      "cell_type": "code",
      "metadata": {
        "id": "emIDLoJ1tClr",
        "colab_type": "code",
        "colab": {}
      },
      "source": [
        "def monte_carlo(func, n):\n",
        "\ts = 0\n",
        "\tfor i in range(n):\n",
        "\t\tx = random.uniform(0.0, 1.0)\n",
        "\t\ts += func(x)\n",
        "\treturn s/n\n",
        "\n",
        "def monte_carlo2(func, n):\n",
        "\ts = 0\n",
        "\ti = 0\n",
        "\twhile i < n:\n",
        "\t\tx = random.uniform(0.0, 1.0)\n",
        "\t\ty = random.uniform(0.0, 1.0)\n",
        "\t\tif (x+y) <= 1:\n",
        "\t\t\ts += func(x, y)\n",
        "\t\t\ti += 1\n",
        "\treturn s/(n*2)"
      ],
      "execution_count": 0,
      "outputs": []
    },
    {
      "cell_type": "markdown",
      "metadata": {
        "id": "fErb3m4cyrSh",
        "colab_type": "text"
      },
      "source": [
        "# **Results**\n"
      ]
    },
    {
      "cell_type": "markdown",
      "metadata": {
        "id": "24zGNtVc85kY",
        "colab_type": "text"
      },
      "source": [
        "The Gauss quadrature and the edge midpoint quadrature methods were tested by randomly generating a large amount of appropiate functions, and comparing their results with the result of their respective integrals."
      ]
    },
    {
      "cell_type": "code",
      "metadata": {
        "id": "vK2NUO7s0TS9",
        "colab_type": "code",
        "outputId": "e751139a-2ee7-4bb9-c234-5bf99d6738fb",
        "colab": {
          "base_uri": "https://localhost:8080/",
          "height": 52
        }
      },
      "source": [
        "for n in range(5000):\n",
        "  a, b, c, d, e, f = np.random.rand(6)\n",
        "\n",
        "  #Gauss quadrature Tests:\n",
        "  p = lambda x : a*(x**3) + b*(x**2) + c*x + d\n",
        "  assert((gauss2p(p) - (a/4 + b/3 + c/2 + d)) < 0.000001)\n",
        "\n",
        "  #3 point edge midpoint Tests:\n",
        "  p = lambda x,y : a*(x**2) + b*(y**2) + c*x*y + d*x + e*y + f\n",
        "  assert((midpoint3p(p)) - ((a+b)/12 + c/24 + (d+e)/6 + f/2) < 0.000001)\n",
        "print(\"Gauss and Midpoint Tests successful \\n\")\n",
        "  "
      ],
      "execution_count": 33,
      "outputs": [
        {
          "output_type": "stream",
          "text": [
            "Gauss and Midpoint Tests successful \n",
            "\n"
          ],
          "name": "stdout"
        }
      ]
    },
    {
      "cell_type": "markdown",
      "metadata": {
        "id": "i0ZeFbD4eyCY",
        "colab_type": "text"
      },
      "source": [
        "The Monte Carlo quadrature was tested by comparing $n$ vs $error(n)$, in other words, the amount of points taken, versus the error given when we use $n$ points for the quadrature.\n",
        "\n",
        "The error should be close to $\\frac{1}{\\sqrt{n}}$, so we can graph $log(n)$ vs $log(error(n))$, and do a linear fit to approximate a slope. The test would be successful if the slope is close to $-\\frac{1}{2}$.\n"
      ]
    },
    {
      "cell_type": "code",
      "metadata": {
        "id": "PyawLSB0cSK-",
        "colab_type": "code",
        "colab": {
          "base_uri": "https://localhost:8080/",
          "height": 689
        },
        "outputId": "d09376a4-f584-4109-fe9e-1ede0f06a466"
      },
      "source": [
        "#Monte Carlo 1D Test:\n",
        "\n",
        "print(\"Monte Carlo 1D Tests: \\n\")\n",
        "\n",
        "#f(x) = x**2 - x + 7/6   ->  Integral_0^1(f(x)) = 1\n",
        "error1D = np.empty(5000)\n",
        "p = lambda x : x**2 - x + 7.0/6.0\n",
        "for i in range(5000):\n",
        "  error1D[i] = abs(1.0 - monte_carlo(p, i+1))\n",
        "print(\"f(x) = x^2 - x + 7/6 \\n\\nn vs error(n):\")\n",
        "plt.scatter([n + 1 for n in range(5000)], error1D) \n",
        "plt.show()\n",
        "print(\"\\nlog(n) vs log(error(n))\")\n",
        "plt.scatter([math.log(n+1) for n in range(5000)], [math.log(error1D[n]) for n in range(5000)])\n",
        "plt.show()\n",
        "print(\"\\nslope: \", np.polyfit([math.log(n + 1) for n in range(5000)], [math.log(error1D[n]) for n in range(5000)], 1)[0], \"\\n\")"
      ],
      "execution_count": 34,
      "outputs": [
        {
          "output_type": "stream",
          "text": [
            "Monte Carlo 1D Tests: \n",
            "\n",
            "f(x) = x^2 - x + 7/6 \n",
            "\n",
            "n vs error(n):\n"
          ],
          "name": "stdout"
        },
        {
          "output_type": "display_data",
          "data": {
            "image/png": "[encoded data removed]",
            "text/plain": [
              "<Figure size 432x288 with 1 Axes>"
            ]
          },
          "metadata": {
            "tags": []
          }
        },
        {
          "output_type": "stream",
          "text": [
            "\n",
            "log(n) vs log(error(n))\n"
          ],
          "name": "stdout"
        },
        {
          "output_type": "display_data",
          "data": {
            "image/png": "[encoded data removed]",
            "text/plain": [
              "<Figure size 432x288 with 1 Axes>"
            ]
          },
          "metadata": {
            "tags": []
          }
        },
        {
          "output_type": "stream",
          "text": [
            "\n",
            "slope:  -0.5079445410770398 \n",
            "\n"
          ],
          "name": "stdout"
        }
      ]
    },
    {
      "cell_type": "code",
      "metadata": {
        "id": "ShWnnF6XcMwF",
        "colab_type": "code",
        "colab": {
          "base_uri": "https://localhost:8080/",
          "height": 658
        },
        "outputId": "5846edfc-b4a8-47f8-8eab-304143536586"
      },
      "source": [
        "#f(x) = 6*x**2 + 2*x + 1   ->  Integral_0^1(f(x)) = 4\n",
        "error1D = np.empty(5000)\n",
        "p = lambda x : 6*x**2 + 2*x + 1.0\n",
        "for i in range(5000):\n",
        "  error1D[i] = abs(4.0 - monte_carlo(p, i+1))\n",
        "print(\"f(x) = 6x^2 + 2x + 1 \\n\\nn vs error(n):\")\n",
        "plt.scatter([n + 1 for n in range(5000)], error1D) \n",
        "plt.show()\n",
        "print(\"\\nlog(n) vs log(error(n))\")\n",
        "plt.scatter([math.log(n+1) for n in range(5000)], [math.log(error1D[n]) for n in range(5000)])\n",
        "plt.show()\n",
        "print(\"\\nslope: \", np.polyfit([math.log(n + 1) for n in range(5000)], [math.log(error1D[n]) for n in range(5000)], 1)[0], \"\\n\")"
      ],
      "execution_count": 35,
      "outputs": [
        {
          "output_type": "stream",
          "text": [
            "f(x) = 6x^2 + 2x + 1 \n",
            "\n",
            "n vs error(n):\n"
          ],
          "name": "stdout"
        },
        {
          "output_type": "display_data",
          "data": {
            "image/png": "[encoded data removed]",
            "text/plain": [
              "<Figure size 432x288 with 1 Axes>"
            ]
          },
          "metadata": {
            "tags": []
          }
        },
        {
          "output_type": "stream",
          "text": [
            "\n",
            "log(n) vs log(error(n))\n"
          ],
          "name": "stdout"
        },
        {
          "output_type": "display_data",
          "data": {
            "image/png": "[encoded data removed]",
            "text/plain": [
              "<Figure size 432x288 with 1 Axes>"
            ]
          },
          "metadata": {
            "tags": []
          }
        },
        {
          "output_type": "stream",
          "text": [
            "\n",
            "slope:  -0.5118804074841885 \n",
            "\n"
          ],
          "name": "stdout"
        }
      ]
    },
    {
      "cell_type": "code",
      "metadata": {
        "id": "k0NWw0MScJ4R",
        "colab_type": "code",
        "colab": {
          "base_uri": "https://localhost:8080/",
          "height": 654
        },
        "outputId": "b1fb7511-d94a-47cd-ba03-a953600ee58c"
      },
      "source": [
        "#f(x) = sin(x)   ->  Integral_0^1(f(x)) = 1 - cos(1)\n",
        "error1D = np.empty(5000)\n",
        "p = lambda x : math.sin(x)\n",
        "for i in range(5000):\n",
        "  error1D[i] = abs(1 - math.cos(1) - monte_carlo(p, i+1))\n",
        "print(\"f(x) = sin(x) \\n\\nn vs error(n):\")\n",
        "plt.scatter([n + 1 for n in range(5000)], error1D) \n",
        "plt.show()\n",
        "print(\"\\nlog(n) vs log(error(n))\")\n",
        "plt.scatter([math.log(n+1) for n in range(5000)], [math.log(error1D[n]) for n in range(5000)])\n",
        "plt.show()\n",
        "print(\"\\nslope: \", np.polyfit([math.log(n + 1) for n in range(5000)], [math.log(error1D[n]) for n in range(5000)], 1)[0], \"\\n\")\n"
      ],
      "execution_count": 36,
      "outputs": [
        {
          "output_type": "stream",
          "text": [
            "f(x) = sin(x) \n",
            "\n",
            "n vs error(n):\n"
          ],
          "name": "stdout"
        },
        {
          "output_type": "display_data",
          "data": {
            "image/png": "[encoded data removed]",
            "text/plain": [
              "<Figure size 432x288 with 1 Axes>"
            ]
          },
          "metadata": {
            "tags": []
          }
        },
        {
          "output_type": "stream",
          "text": [
            "\n",
            "log(n) vs log(error(n))\n"
          ],
          "name": "stdout"
        },
        {
          "output_type": "display_data",
          "data": {
            "image/png": "[encoded data removed]",
            "text/plain": [
              "<Figure size 432x288 with 1 Axes>"
            ]
          },
          "metadata": {
            "tags": []
          }
        },
        {
          "output_type": "stream",
          "text": [
            "\n",
            "slope:  -0.5107564916654511 \n",
            "\n"
          ],
          "name": "stdout"
        }
      ]
    },
    {
      "cell_type": "code",
      "metadata": {
        "id": "aAXYvBZGcZLv",
        "colab_type": "code",
        "colab": {
          "base_uri": "https://localhost:8080/",
          "height": 691
        },
        "outputId": "d8c76ad8-5433-437c-abe8-94b5a5a11ebb"
      },
      "source": [
        "#Monte Carlo 2D Test:\n",
        "\n",
        "print(\"Monte Carlo 2D Tests: \\n\" )\n",
        "#f(x) =  3*x**2 + 3*y**2 + 2*x - 2*y - 6   ->  Integral_refTriangle(f(x)) = -2.5\n",
        "error2D = np.empty(1000)\n",
        "p = lambda x,y : 3*x**2 + 3*y**2 + 2*x - 2*y - 6\n",
        "for i in range(1000):\n",
        "  error2D[i] = abs(-2.5 - monte_carlo2(p, i+1))\n",
        "print(\"f(x) =  3x^2 + 3y^2 + 2x - 2y - 6 \\n\\nn vs error(n):\")\n",
        "plt.scatter([n + 1 for n in range(1000)], error2D) \n",
        "plt.show()\n",
        "print(\"\\nlog(n) vs log(error(n))\")\n",
        "plt.scatter([math.log(n+1) for n in range(1000)], [math.log(error2D[n]) for n in range(1000)])\n",
        "plt.show()\n",
        "print(\"\\nslope: \", np.polyfit([math.log(n + 1) for n in range(1000)], [math.log(error2D[n]) for n in range(1000)], 1)[0], \"\\n\")"
      ],
      "execution_count": 37,
      "outputs": [
        {
          "output_type": "stream",
          "text": [
            "Monte Carlo 2D Tests: \n",
            "\n",
            "f(x) =  3x^2 + 3y^2 + 2x - 2y - 6 \n",
            "\n",
            "n vs error(n):\n"
          ],
          "name": "stdout"
        },
        {
          "output_type": "display_data",
          "data": {
            "image/png": "[encoded data removed]",
            "text/plain": [
              "<Figure size 432x288 with 1 Axes>"
            ]
          },
          "metadata": {
            "tags": []
          }
        },
        {
          "output_type": "stream",
          "text": [
            "\n",
            "log(n) vs log(error(n))\n"
          ],
          "name": "stdout"
        },
        {
          "output_type": "display_data",
          "data": {
            "image/png": "[encoded data removed]",
            "text/plain": [
              "<Figure size 432x288 with 1 Axes>"
            ]
          },
          "metadata": {
            "tags": []
          }
        },
        {
          "output_type": "stream",
          "text": [
            "\n",
            "slope:  -0.47034068862688155 \n",
            "\n"
          ],
          "name": "stdout"
        }
      ]
    },
    {
      "cell_type": "code",
      "metadata": {
        "id": "Xu9yym8kcbi-",
        "colab_type": "code",
        "colab": {
          "base_uri": "https://localhost:8080/",
          "height": 654
        },
        "outputId": "f8410fbd-fce8-4bfe-953a-e8dc5840e09c"
      },
      "source": [
        "#f(x) = math.sin(x+y)   ->  Integral_refTriangle(f(x)) = sin(1) - cos(1)\n",
        "error2D = np.empty(1000)\n",
        "p = lambda x,y : math.sin(x+y)\n",
        "for i in range(1000):\n",
        "  error2D[i] = abs(math.sin(1) - math.cos(1) - monte_carlo2(p, i+1))\n",
        "print(\"f(x) = sin(x+y) \\n\\nn vs error(n):\")\n",
        "plt.scatter([n + 1 for n in range(1000)], error2D) \n",
        "plt.show()\n",
        "print(\"\\nlog(n) vs log(error(n))\")\n",
        "plt.scatter([math.log(n+1) for n in range(1000)], [math.log(error2D[n]) for n in range(1000)])\n",
        "plt.show()\n",
        "print(\"\\nslope: \", np.polyfit([math.log(n + 1) for n in range(1000)], [math.log(error2D[n]) for n in range(1000)], 1)[0], \"\\n\")"
      ],
      "execution_count": 38,
      "outputs": [
        {
          "output_type": "stream",
          "text": [
            "f(x) = sin(x+y) \n",
            "\n",
            "n vs error(n):\n"
          ],
          "name": "stdout"
        },
        {
          "output_type": "display_data",
          "data": {
            "image/png": "[encoded data removed]",
            "text/plain": [
              "<Figure size 432x288 with 1 Axes>"
            ]
          },
          "metadata": {
            "tags": []
          }
        },
        {
          "output_type": "stream",
          "text": [
            "\n",
            "log(n) vs log(error(n))\n"
          ],
          "name": "stdout"
        },
        {
          "output_type": "display_data",
          "data": {
            "image/png": "[encoded data removed]",
            "text/plain": [
              "<Figure size 432x288 with 1 Axes>"
            ]
          },
          "metadata": {
            "tags": []
          }
        },
        {
          "output_type": "stream",
          "text": [
            "\n",
            "slope:  -0.497493211188709 \n",
            "\n"
          ],
          "name": "stdout"
        }
      ]
    },
    {
      "cell_type": "code",
      "metadata": {
        "id": "GB95T1KOce2u",
        "colab_type": "code",
        "colab": {
          "base_uri": "https://localhost:8080/",
          "height": 654
        },
        "outputId": "cc453629-97f5-4f28-c03c-6bfc243c239a"
      },
      "source": [
        "#f(x) = log(xy)   ->  Integral_refTriangle(f(x)) = -1.5\n",
        "error2D = np.empty(1000)\n",
        "p = lambda x,y : math.log(x*y)\n",
        "for i in range(1000):\n",
        "  error2D[i] = abs(-1.5 - monte_carlo2(p, i+1))\n",
        "print(\"f(x) = log(xy) \\n\\nn vs error(n):\")\n",
        "plt.scatter([n + 1 for n in range(1000)], error2D) \n",
        "plt.show()\n",
        "print(\"\\nlog(n) vs log(error(n))\")\n",
        "plt.scatter([math.log(n+1) for n in range(1000)], [math.log(error2D[n]) for n in range(1000)])\n",
        "plt.show()\n",
        "print(\"\\nslope: \", np.polyfit([math.log(n + 1) for n in range(1000)], [math.log(error2D[n]) for n in range(1000)], 1)[0], \"\\n\")"
      ],
      "execution_count": 39,
      "outputs": [
        {
          "output_type": "stream",
          "text": [
            "f(x) = log(xy) \n",
            "\n",
            "n vs error(n):\n"
          ],
          "name": "stdout"
        },
        {
          "output_type": "display_data",
          "data": {
            "image/png": "[encoded data removed]",
            "text/plain": [
              "<Figure size 432x288 with 1 Axes>"
            ]
          },
          "metadata": {
            "tags": []
          }
        },
        {
          "output_type": "stream",
          "text": [
            "\n",
            "log(n) vs log(error(n))\n"
          ],
          "name": "stdout"
        },
        {
          "output_type": "display_data",
          "data": {
            "image/png": "[encoded data removed]",
            "text/plain": [
              "<Figure size 432x288 with 1 Axes>"
            ]
          },
          "metadata": {
            "tags": []
          }
        },
        {
          "output_type": "stream",
          "text": [
            "\n",
            "slope:  -0.5005211944732525 \n",
            "\n"
          ],
          "name": "stdout"
        }
      ]
    },
    {
      "cell_type": "markdown",
      "metadata": {
        "id": "nof5gy0n2Hk_",
        "colab_type": "text"
      },
      "source": [
        "# Discussion\n",
        "Most of the information was studied from wikipedia and the lecture notes\\\n",
        "The test show that all methods work as expected, and although the slopes for the Monte Carlos tests could be much closer to $0.5$ with a bigger $n$, that would also make them take to long to complete.\\\n",
        "Some parts of this report were made in collaboration with Fabián Levican."
      ]
    }
  ]
}