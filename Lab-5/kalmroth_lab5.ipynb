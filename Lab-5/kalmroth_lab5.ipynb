{
  "nbformat": 4,
  "nbformat_minor": 0,
  "metadata": {
    "colab": {
      "name": "kalmroth_lab5.ipynb",
      "provenance": [],
      "collapsed_sections": []
    },
    "kernelspec": {
      "name": "python3",
      "display_name": "Python 3"
    }
  },
  "cells": [
    {
      "cell_type": "markdown",
      "metadata": {
        "id": "6RgtXlfYO_i7",
        "colab_type": "text"
      },
      "source": [
        "# **Lab 5: Quadrature**\n",
        "**Kristoffer Almroth**"
      ]
    },
    {
      "cell_type": "markdown",
      "metadata": {
        "id": "9x_J5FVuPzbm",
        "colab_type": "text"
      },
      "source": [
        "# **Abstract**"
      ]
    },
    {
      "cell_type": "markdown",
      "metadata": {
        "id": "6UFTSzW7P8kL",
        "colab_type": "text"
      },
      "source": [
        "Fifth lab in the course DD2363 Methods in Scientific Computing. This lab is about quadrature."
      ]
    },
    {
      "cell_type": "markdown",
      "metadata": {
        "id": "28xLGz8JX3Hh",
        "colab_type": "text"
      },
      "source": [
        "# **Set up environment**"
      ]
    },
    {
      "cell_type": "markdown",
      "metadata": {
        "id": "D2PYNusD08Wa",
        "colab_type": "text"
      },
      "source": [
        "Dependencies needed for running the code."
      ]
    },
    {
      "cell_type": "code",
      "metadata": {
        "id": "Xw7VlErAX7NS",
        "colab_type": "code",
        "colab": {}
      },
      "source": [
        "# Load neccessary modules.\n",
        "from google.colab import files\n",
        "\n",
        "import time\n",
        "import numpy as np\n",
        "import sympy as sp\n",
        "from sympy import *\n",
        "import random\n",
        "\n",
        "from matplotlib import pyplot as plt\n",
        "from matplotlib import tri\n",
        "from matplotlib import axes\n",
        "from mpl_toolkits.mplot3d import Axes3D\n",
        "\n",
        "import unittest"
      ],
      "execution_count": 0,
      "outputs": []
    },
    {
      "cell_type": "markdown",
      "metadata": {
        "id": "gnO3lhAigLev",
        "colab_type": "text"
      },
      "source": [
        "# **Introduction**"
      ]
    },
    {
      "cell_type": "markdown",
      "metadata": {
        "id": "l5zMzgPlRAF6",
        "colab_type": "text"
      },
      "source": [
        "In this lab we will perform numeric and stocastic approximations of the integrals of different functions in one and two dimensions. The numeric methods that will be used is 2-point Gauss quadrature over the unit interval and 3-point edge midpoint Gauss quadrature over the unit triangle. The stocastic methods are Monte Carlo integration over the unit interval and Monte Carlo integration over the unit triangle."
      ]
    },
    {
      "cell_type": "markdown",
      "metadata": {
        "id": "WeFO9QMeUOAu",
        "colab_type": "text"
      },
      "source": [
        "# **Methods**"
      ]
    },
    {
      "cell_type": "markdown",
      "metadata": {
        "colab_type": "text",
        "id": "bZiDf6IGjagD"
      },
      "source": [
        "### 2-point Gauss quadrature over a unit interval###\n",
        "\n",
        "2-point Gauss quadrature over the interval $I = [1-,1]$ should be exact for all cubic polynomials $p \\in P^3 ([-1,1])$\n",
        "\n",
        "$\\int_{I} p(x) dx = p(x_0)w_0 + p(x_1)w_1$\n",
        "\n",
        "Solving this equation gives us the weights $w_0 = w_1 = 1$ and the points $x_0 = \\frac{1}{\\sqrt{3}}$ and $x_1 = \\frac{-1}{\\sqrt{3}}$\n",
        "\n",
        "For the interval $I = [0,1]$ we get $w_0 = w_1 = 0.5$, $x_0 = \\frac{1}{2\\sqrt{3}}+0.5$ and $x_1 = \\frac{-1}{2\\sqrt{3}}+0.5$. [Source](https://math.stackexchange.com/questions/1544918/gaussian-quadrature-with-a-to-0-1-reference-domain-instead-of-a-1-1-ref)."
      ]
    },
    {
      "cell_type": "code",
      "metadata": {
        "colab_type": "code",
        "id": "aAsmTy8SjxOM",
        "colab": {}
      },
      "source": [
        "def twoPointGaussQuadrature(f):\n",
        "  x_0 = 0.57735026919\n",
        "  x_1 = -x_0\n",
        "  w_0 = w_1 = 1\n",
        "\n",
        "  return f(x_0) * w_0 + f(x_1) * w_1\n",
        "\n",
        "def twoPointGaussQuadrature2(f):\n",
        "  x_0 = 0.78867513459\n",
        "  x_1 = 0.2113248654\n",
        "  w_0 = w_1 = 0.5\n",
        "\n",
        "  return f(x_0) * w_0 + f(x_1) * w_1  "
      ],
      "execution_count": 0,
      "outputs": []
    },
    {
      "cell_type": "markdown",
      "metadata": {
        "id": "wjYXz0PqIHps",
        "colab_type": "text"
      },
      "source": [
        "####Test####\n",
        "\n",
        "The exact integration of the function $ax^3+bx^2+cx+d$:\n",
        "\n",
        "$\\int_{-1}^{1} ax^3+bx^2+cx+d \\space dx = \\frac{2b}{3}+2d$\n",
        "\n",
        "$\\int_{0}^{1} ax^3+bx^2+cx+d \\space dx = \\frac{a}{4}+\\frac{b}{3}+\\frac{c}{2}+d$"
      ]
    },
    {
      "cell_type": "code",
      "metadata": {
        "id": "7-IqSGTlG94y",
        "colab_type": "code",
        "outputId": "9bb71ae0-97cb-48a8-eaef-7c3699574708",
        "colab": {
          "base_uri": "https://localhost:8080/",
          "height": 104
        }
      },
      "source": [
        "class Test(unittest.TestCase):\n",
        "\n",
        "  def testRandom(self):\n",
        "    for i in range(0,10000):\n",
        "\n",
        "      a = random.randint(1,100)\n",
        "      b = random.randint(1,100)\n",
        "      c = random.randint(1,100)\n",
        "      d = random.randint(1,100)\n",
        "      f = lambda x : a*x**3+b*x**2+c*x+d\n",
        "\n",
        "      myIntegral1 = twoPointGaussQuadrature(f)\n",
        "      exactIntegral1 = 2*b/3+2*d\n",
        "      myIntegral2 = twoPointGaussQuadrature2(f)\n",
        "      exactIntegral2 = a/4 + b/3 + c/2 + d\n",
        "\n",
        "      np.testing.assert_almost_equal(myIntegral1, exactIntegral1, decimal=5)\n",
        "      np.testing.assert_almost_equal(myIntegral2, exactIntegral2, decimal=5)\n",
        "\n",
        "if __name__ == '__main__':\n",
        "    unittest.main(argv=['first-arg-is-ignored'], exit=False)"
      ],
      "execution_count": 20,
      "outputs": [
        {
          "output_type": "stream",
          "text": [
            ".\n",
            "----------------------------------------------------------------------\n",
            "Ran 1 test in 0.661s\n",
            "\n",
            "OK\n"
          ],
          "name": "stderr"
        }
      ]
    },
    {
      "cell_type": "markdown",
      "metadata": {
        "id": "X4m77RVF6tHT",
        "colab_type": "text"
      },
      "source": [
        "###3-point edge midpoint quadrature over a reference triangle###\n",
        "\n",
        "The goal is to approximate the integral $\\int_{0}^{1} \\int_{0}^{1-x} (ax^2+by^2+cxy+dx+ey+f) \\space dy dx$\n",
        "\n",
        "Gauss quadrature is given by\n",
        "$\\int_{\\Delta} p(x,y) dA = p(x_0, y_0)w_0 + p(x_1, y_1)w_1 + p(x_2, y_2)w_2$\n",
        "\n",
        "where  $w_0=w_1=w_2 = \\frac{1}{6}$ and $x = [0.5, 0.5, 0], y = [0, 0.5, 0.5]$"
      ]
    },
    {
      "cell_type": "code",
      "metadata": {
        "id": "w6WEHspiPIMR",
        "colab_type": "code",
        "colab": {}
      },
      "source": [
        "def threePointQuadrature(f):\n",
        "  w_0 = w_1 = w_2 = 1/6\n",
        "  x_0 = np.array([0.5,0])\n",
        "  x_1 = np.array([0.5,0.5])\n",
        "  x_2 = np.array([0,0.5])\n",
        "\n",
        "  return f(x_0[0], x_0[1]) * w_0 + f(x_1[0],x_1[1]) * w_1 + f(x_2[0], x_2[1]) * w_2"
      ],
      "execution_count": 0,
      "outputs": []
    },
    {
      "cell_type": "markdown",
      "metadata": {
        "id": "m8C9jizG011C",
        "colab_type": "text"
      },
      "source": [
        "####Test####\n",
        "\n",
        "The exact solution to the integral is \n",
        "\n",
        "$\\frac{1}{24}(2a+2b+c+4d+4e+12f)$. \n",
        "\n",
        "Source [WolframAlpha](https://www.wolframalpha.com/input/?i=double+integral+calculator&assumption=%7B%22F%22%2C+%22DoubleIntegral%22%2C+%22rangeend2%22%7D+-%3E%221-x%22&assumption=%7B%22F%22%2C+%22DoubleIntegral%22%2C+%22rangeend1%22%7D+-%3E%221%22&assumption=%7B%22F%22%2C+%22DoubleIntegral%22%2C+%22integrand%22%7D+-%3E%22ax%5E2+%2B+by%5E2+%2B+cxy+%2B+dx+%2B+ey+%2B+f%22&assumption=%7B%22F%22%2C+%22DoubleIntegral%22%2C+%22intvariable1%22%7D+-%3E%22x%22&assumption=%7B%22F%22%2C+%22DoubleIntegral%22%2C+%22rangestart1%22%7D+-%3E%220%22&assumption=%7B%22F%22%2C+%22DoubleIntegral%22%2C+%22intvariable2%22%7D+-%3E%22y%22&assumption=%7B%22F%22%2C+%22DoubleIntegral%22%2C+%22rangestart2%22%7D+-%3E%220%22)."
      ]
    },
    {
      "cell_type": "code",
      "metadata": {
        "id": "GbADFLxeMJYi",
        "colab_type": "code",
        "outputId": "14055264-cfb7-4b9b-e3f1-84e726832a3a",
        "colab": {
          "base_uri": "https://localhost:8080/",
          "height": 104
        }
      },
      "source": [
        "class Test(unittest.TestCase):\n",
        "\n",
        "  def testRandom(self):\n",
        "    for i in range(0,1000):\n",
        "\n",
        "      a = random.randint(1,100)\n",
        "      b = random.randint(1,100)\n",
        "      c = random.randint(1,100)\n",
        "      d = random.randint(1,100)\n",
        "      e = random.randint(1,100)\n",
        "      g = random.randint(1,100)\n",
        "      f = lambda x,y : a*x**2+b*y**2+c*x*y+d*x+e*y+g\n",
        "\n",
        "      myIntegral = threePointQuadrature(f)\n",
        "      exact = (1/24) * (2*a + 2*b + c + 4*d + 4*e + 12*g)\n",
        "      np.testing.assert_almost_equal(myIntegral, exact, decimal=5)\n",
        "\n",
        "if __name__ == '__main__':\n",
        "    unittest.main(argv=['first-arg-is-ignored'], exit=False)"
      ],
      "execution_count": 6,
      "outputs": [
        {
          "output_type": "stream",
          "text": [
            ".\n",
            "----------------------------------------------------------------------\n",
            "Ran 1 test in 0.061s\n",
            "\n",
            "OK\n"
          ],
          "name": "stderr"
        }
      ]
    },
    {
      "cell_type": "markdown",
      "metadata": {
        "id": "WwYNBh_t69iB",
        "colab_type": "text"
      },
      "source": [
        "###Monte Carlo quadrature over a unit interval###\n",
        "\n",
        "Monte Carlo quadrature is a stocastic method with the convergence rate $\\frac{1}{\\sqrt{n}}$. \n",
        "\n",
        "We get the approximation from $\\frac{|D|}{n} \\sum^{n}_{i=1} g(x_i)$ where $x_i$ is a random number over the interval\n",
        "\n",
        "For the unit interval $\\int_{0}^{1}$ we get $|D| = 1$"
      ]
    },
    {
      "cell_type": "code",
      "metadata": {
        "id": "0Dncp3u86_i5",
        "colab_type": "code",
        "colab": {}
      },
      "source": [
        "def monteCarloQuadrature(f, N):\n",
        "\n",
        "  mySum = 0\n",
        "  for n in range(N):\n",
        "    x_i = random.uniform(0, 1)\n",
        "    mySum += f(x_i)\n",
        "  \n",
        "  return mySum / N"
      ],
      "execution_count": 0,
      "outputs": []
    },
    {
      "cell_type": "markdown",
      "metadata": {
        "id": "iTzqkAosvDM4",
        "colab_type": "text"
      },
      "source": [
        "###Monte Carlo quadrature over a reference triangle###\n",
        "\n",
        "For the reference triangle we get $x_i$ as a random point in the triangle and $|D| = 0.5$. To get a uniformly random variable in the reference triangle, we calculate a point in the reference square uniformly at random, then we filter out all points not in the triangle. "
      ]
    },
    {
      "cell_type": "code",
      "metadata": {
        "id": "DQIGwXMDva2W",
        "colab_type": "code",
        "colab": {}
      },
      "source": [
        "def monteCarloQuadratureOverTriange(f, N):\n",
        "\n",
        "  mySum = 0\n",
        "  for n in range(N):\n",
        "    rand_x = 0\n",
        "    rand_y = 2\n",
        "    while rand_y > 1 - rand_x:\n",
        "      rand_x = random.uniform(0, 1)\n",
        "      rand_y = random.uniform(0, 1)\n",
        "\n",
        "    mySum += f(rand_x, rand_y) * 0.5\n",
        "  \n",
        "  return mySum / N"
      ],
      "execution_count": 0,
      "outputs": []
    },
    {
      "cell_type": "markdown",
      "metadata": {
        "id": "SsQLT38gVbn_",
        "colab_type": "text"
      },
      "source": [
        "# **Results**"
      ]
    },
    {
      "cell_type": "markdown",
      "metadata": {
        "id": "RLwlnOzuV-Cd",
        "colab_type": "text"
      },
      "source": [
        "The first two methods, Gauss quadrature over unit interval and Gauss quadrature over unit triangle, passed the tests against the exact integrations by up to 5 decimals or more.\n",
        "\n",
        "The test for the Monte Carlo quadrature over the unit interval is done with the randomly generated function $ax^3+bx^2+cx+d$ with the exact integration:\n",
        "\n",
        "$\\int_{0}^{1} ax^3+bx^2+cx+d \\space dx = \\frac{a}{4}+\\frac{b}{3}+\\frac{c}{2}+d$"
      ]
    },
    {
      "cell_type": "code",
      "metadata": {
        "id": "gYBTRFcf85xH",
        "colab_type": "code",
        "outputId": "9ebcd1da-1322-46de-9eb9-8444f99a339e",
        "colab": {
          "base_uri": "https://localhost:8080/",
          "height": 497
        }
      },
      "source": [
        "if __name__ == '__main__':\n",
        "\n",
        "    a = random.randint(1,100)\n",
        "    b = random.randint(1,100)\n",
        "    c = random.randint(1,100)\n",
        "    d = random.randint(1,100)\n",
        "    f = lambda x : a*x**3+b*x**2+c*x+d\n",
        "\n",
        "    N = 200\n",
        "    M = 200\n",
        "    approx = np.zeros(N)\n",
        "    exact = a/4 + b/3 + c/2 + d\n",
        "    theoretical_convergence = np.zeros(N)\n",
        "    startError = 0\n",
        "\n",
        "    \n",
        "    for n in range(1, N):\n",
        "      for m in range(1, M):\n",
        "        approx[n] += np.abs(monteCarloQuadrature(f, n) - exact)\n",
        "  \n",
        "      approx[n] = approx[n] / (M-1)\n",
        "      theoretical_convergence[n] = approx[1] / sqrt(n)\n",
        "\n",
        "    # Plot the error convergence\n",
        "    plt.figure(figsize=(10,8))\n",
        "    plt.plot(approx[1:], \"-b\", label=\"Error convergence\")\n",
        "    plt.plot(theoretical_convergence[1:], \"-r\", label=\"Theoretical error convergence\")\n",
        "    plt.legend(loc=\"upper right\")\n",
        "    plt.xlabel(\"N\")\n",
        "    plt.ylabel(\"Error\")\n",
        "    plt.show()"
      ],
      "execution_count": 8,
      "outputs": [
        {
          "output_type": "display_data",
          "data": {
            "image/png": "[encoded data removed]",
            "text/plain": [
              "<Figure size 720x576 with 1 Axes>"
            ]
          },
          "metadata": {
            "tags": []
          }
        }
      ]
    },
    {
      "cell_type": "markdown",
      "metadata": {
        "id": "1itnXE8f2a0G",
        "colab_type": "text"
      },
      "source": [
        "The tests for Monte Carlo quadrature over reference triangle use the same function as the tests for Gauss quadrature over the reference triangle."
      ]
    },
    {
      "cell_type": "code",
      "metadata": {
        "id": "0UvWyTOd2gas",
        "colab_type": "code",
        "outputId": "0a28117e-f122-4a26-b41b-bbb3c117f0bf",
        "colab": {
          "base_uri": "https://localhost:8080/",
          "height": 497
        }
      },
      "source": [
        "if __name__ == '__main__':\n",
        "\n",
        "  a = random.randint(1,100)\n",
        "  b = random.randint(1,100)\n",
        "  c = random.randint(1,100)\n",
        "  d = random.randint(1,100)\n",
        "  e = random.randint(1,100)\n",
        "  g = random.randint(1,100)\n",
        "  f = lambda x,y : a*x**2+b*y**2+c*x*y+d*x+e*y+g\n",
        "\n",
        "  N = 200\n",
        "  M = 200\n",
        "  approx = np.zeros(N)\n",
        "  exact = (1/24) * (2*a + 2*b + c + 4*d + 4*e + 12*g)\n",
        "  theoretical_convergence = np.zeros(N)\n",
        "  startError = 0\n",
        "\n",
        "  \n",
        "  for n in range(1, N):\n",
        "    for m in range(1, M):\n",
        "      approx[n] += np.abs(monteCarloQuadratureOverTriange(f, n) - exact)\n",
        "\n",
        "    approx[n] = approx[n] / (M-1)\n",
        "    theoretical_convergence[n] = approx[1] / sqrt(n)\n",
        "\n",
        "  # Plot the error convergence\n",
        "  plt.figure(figsize=(10,8))\n",
        "  plt.plot(approx[1:], \"-b\", label=\"Error convergence\")\n",
        "  plt.plot(theoretical_convergence[1:], \"-r\", label=\"Theoretical error convergence\")\n",
        "  plt.legend(loc=\"upper right\")\n",
        "  plt.xlabel(\"N\")\n",
        "  plt.ylabel(\"Error\")\n",
        "  plt.show()"
      ],
      "execution_count": 10,
      "outputs": [
        {
          "output_type": "display_data",
          "data": {
            "image/png": "[encoded data removed]",
            "text/plain": [
              "<Figure size 720x576 with 1 Axes>"
            ]
          },
          "metadata": {
            "tags": []
          }
        }
      ]
    },
    {
      "cell_type": "markdown",
      "metadata": {
        "id": "_4GLBv0zWr7m",
        "colab_type": "text"
      },
      "source": [
        "# **Discussion**"
      ]
    },
    {
      "cell_type": "markdown",
      "metadata": {
        "id": "6bcsDSoRXHZe",
        "colab_type": "text"
      },
      "source": [
        "Creating numerical approximations for integrals was fun. It is especially interesting trying out stocastic methods, and seeing how well they perform against the other methods. "
      ]
    }
  ]
}