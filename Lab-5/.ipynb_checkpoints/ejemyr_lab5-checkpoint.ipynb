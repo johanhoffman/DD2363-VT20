{
 "cells": [
  {
   "cell_type": "markdown",
   "metadata": {
    "colab_type": "text",
    "id": "view-in-github"
   },
   "source": [
    "<a href=\"https://colab.research.google.com/github/johanhoffman/DD2363-VT20/blob/ejemyr/Lab-1/ejemyr_lab1.ipynb\" target=\"_parent\"><img src=\"https://colab.research.google.com/assets/colab-badge.svg\" alt=\"Open In Colab\"/></a>"
   ]
  },
  {
   "cell_type": "markdown",
   "metadata": {
    "colab_type": "text",
    "id": "6RgtXlfYO_i7"
   },
   "source": [
    "# **Lab 5: Title**\n",
    "**Christoffer Ejemyr**"
   ]
  },
  {
   "cell_type": "markdown",
   "metadata": {
    "colab_type": "text",
    "id": "9x_J5FVuPzbm"
   },
   "source": [
    "# **Abstract**"
   ]
  },
  {
   "cell_type": "markdown",
   "metadata": {
    "colab_type": "text",
    "id": "OkT8J7uOWpT3"
   },
   "source": [
    "This lab describes and shows some of the integrationsmaethods that can beused to approximate integrals to a certain degree of accurasy. They are shown to meat the requirements expected."
   ]
  },
  {
   "cell_type": "code",
   "execution_count": 30,
   "metadata": {
    "colab": {
     "base_uri": "https://localhost:8080/",
     "height": 34
    },
    "colab_type": "code",
    "id": "Pdll1Xc9WP0e",
    "outputId": "ce1a945e-2dae-4530-cb4d-1236274284c0"
   },
   "outputs": [
    {
     "data": {
      "text/plain": [
       "'KTH Royal Institute of Technology, Stockholm, Sweden.'"
      ]
     },
     "execution_count": 30,
     "metadata": {},
     "output_type": "execute_result"
    }
   ],
   "source": [
    "\"\"\"This program is a template for lab reports in the course\"\"\"\n",
    "\"\"\"DD2363 Methods in Scientific Computing, \"\"\"\n",
    "\"\"\"KTH Royal Institute of Technology, Stockholm, Sweden.\"\"\"\n",
    "\n",
    "# Copyright (C) 2019 Christoffer Ejemyr (ejemyr@kth.se)\n",
    "\n",
    "# This file is part of the course DD2363 Methods in Scientific Computing\n",
    "# KTH Royal Institute of Technology, Stockholm, Sweden\n",
    "#\n",
    "# This is free software: you can redistribute it and/or modify\n",
    "# it under the terms of the GNU Lesser General Public License as published by\n",
    "# the Free Software Foundation, either version 3 of the License, or\n",
    "# (at your option) any later version."
   ]
  },
  {
   "cell_type": "markdown",
   "metadata": {
    "colab_type": "text",
    "id": "28xLGz8JX3Hh"
   },
   "source": [
    "# **Set up environment**"
   ]
  },
  {
   "cell_type": "code",
   "execution_count": 31,
   "metadata": {
    "colab": {},
    "colab_type": "code",
    "id": "Xw7VlErAX7NS"
   },
   "outputs": [],
   "source": [
    "# Load neccessary modules.\n",
    "# from google.colab import files\n",
    "\n",
    "import time\n",
    "import numpy as np\n",
    "import unittest\n",
    "from typing import Callable, Tuple\n",
    "\n",
    "%matplotlib inline\n",
    "from matplotlib import pyplot as plt\n",
    "from matplotlib import tri\n",
    "from matplotlib import axes\n",
    "from mpl_toolkits.mplot3d import Axes3D\n",
    "from scipy.integrate import quad\n",
    "from scipy.optimize import curve_fit\n",
    "\n",
    "class Tests(unittest.TestCase):\n",
    "    @staticmethod\n",
    "    def check_accuracy(est: np.ndarray, true: np.ndarray, decimal: int):\n",
    "        np.testing.assert_almost_equal(est, true, decimal=decimal)\n",
    "\n",
    "    @staticmethod\n",
    "    def check_accuracy_multiple_random(num_of_tests, generating_func, decimal):\n",
    "        for i in range(num_of_tests):\n",
    "            est, true = generating_func()\n",
    "            Tests.check_accuracy(est, true, decimal)\n"
   ]
  },
  {
   "cell_type": "markdown",
   "metadata": {
    "colab_type": "text",
    "id": "gnO3lhAigLev"
   },
   "source": [
    "# **Introduction**\n",
    "\n",
    "In this lab we will investigate some of the different methods of integration that can be ussed to approximate an integral."
   ]
  },
  {
   "cell_type": "markdown",
   "metadata": {
    "colab_type": "text",
    "id": "WeFO9QMeUOAu"
   },
   "source": [
    "# **Methods**"
   ]
  },
  {
   "cell_type": "markdown",
   "metadata": {},
   "source": [
    "### Usefull stuff"
   ]
  },
  {
   "cell_type": "code",
   "execution_count": 32,
   "metadata": {},
   "outputs": [],
   "source": [
    "Interval = Tuple[float, float]"
   ]
  },
  {
   "cell_type": "markdown",
   "metadata": {
    "colab_type": "text",
    "id": "uwVrMhGQ4viZ"
   },
   "source": [
    "### 2-point Gauss quadrature\n",
    "To understand explcitly how our very limited method should work we use equation (11.4) in the lecture notes. With example 11.3 we have that the 2-point Gauss quadrature should span $P^3([a, b])$. On the interval $(0,1)$ we have\n",
    "\n",
    "\\begin{align}\n",
    "    \\int_0^1 p(x) &= p_0(x_0) w_0 + p_1(x_1) w_1 \\\\\n",
    "    \\int_0^1 \\sum_{i=0}^3 c_i x^i &= w_0\\sum_{i=0}^3 c_i x_0^i + w_1\\sum_{i=0}^3 c_i x_1^i \\\\\n",
    "    \\sum_{i=0}^3 \\frac{c_i}{i+1} - w_0\\sum_{i=0}^3 c_i x_0^i - w_1\\sum_{i=0}^3 c_i x_1^i &= 0 \\\\\n",
    "    \\sum_{i=0}^3 c_i(\\frac{1}{i+1} - w_0 x_0^i - w_1 x_1^i) &= 0.\n",
    "\\end{align}\n",
    "Which for arbitrary $c_i$ ($i=0,1,2,3$) gives\n",
    "\n",
    "$$\\frac{1}{i+1} - w_0 x_0^i - w_1 x_1^i = 0.$$\n",
    "\n",
    "We get $w_0 = \\frac{1}{2}$, $x_0 = \\frac{3 - \\sqrt{3}}{6}$, $w_1 = \\frac{1}{2}$ and $x_1 = \\frac{3 + \\sqrt{3}}{6}$\n"
   ]
  },
  {
   "cell_type": "code",
   "execution_count": 33,
   "metadata": {},
   "outputs": [],
   "source": [
    "def two_point_gauss_quad_on_unit_ival(f: Callable[[float], float]) -> float:\n",
    "    w0 = 0.5\n",
    "    x0 = (3 - np.sqrt(3)) / 6\n",
    "    w1 = 0.5\n",
    "    x1 = (3 + np.sqrt(3)) / 6\n",
    "    \n",
    "    return w0 * f(x0) + w1 * f(x1)"
   ]
  },
  {
   "cell_type": "code",
   "execution_count": 34,
   "metadata": {
    "colab": {},
    "colab_type": "code",
    "id": "CDxXDYtrrQ-a"
   },
   "outputs": [],
   "source": [
    "class Tests(Tests):\n",
    "    def test_two_point_gauss_quad(self):\n",
    "        min_length = 1\n",
    "        max_length = 100\n",
    "        def genetator():\n",
    "            c = np.random.rand(4)\n",
    "            f: Callable[[float], float] = lambda x: c[0] * x**3 + c[1] * x**2 + c[2]* x + c[3]\n",
    "            return two_point_gauss_quad_on_unit_ival(f), c[0]/4. + c[1]/3. + c[2]/2. + c[3]\n",
    "\n",
    "        Tests.check_accuracy_multiple_random(1000, genetator, 7)"
   ]
  },
  {
   "cell_type": "markdown",
   "metadata": {
    "colab_type": "text",
    "id": "FNWnhrnD4jmh"
   },
   "source": [
    "### 3-point edge midpoint quadrature"
   ]
  },
  {
   "cell_type": "markdown",
   "metadata": {},
   "source": [
    "In example 11.5 in the lecture notes the 3-point midpoint quadrature is given by the mid-points on each side of the reference triangle with equal weights of $\\frac{1}{6}$.\n",
    "\n",
    "The eqplicit solution of a 2D-polynomial on the reference triangle is given by\n",
    "\n",
    "\\begin{equation}\n",
    "    \\int_0^1 \\int_0^{1-x} c_1x^2 + c_2y^2 + c_3xy + c_4x + c_5y + c_6 \\ dydx = \\frac{c_1}{12} + \\frac{c_2}{12} + \\frac{c_3}{24} + \\frac{c_4}{6} + \\frac{c_5}{6} + \\frac{c_6}{2}\n",
    "\\end{equation}"
   ]
  },
  {
   "cell_type": "code",
   "execution_count": 35,
   "metadata": {},
   "outputs": [],
   "source": [
    "def three_point_quad_on_ref_trig(f: Callable[[float, float], float]) -> float:\n",
    "    w = 1/6\n",
    "    p0 = (0.5, 0)\n",
    "    p1 = (0, 0.5)\n",
    "    p2 = (0.5, 0.5)\n",
    "    \n",
    "    return w * f(p0[0], p0[1]) + w * f(p1[0], p1[1]) + w * f(p2[0], p2[1])"
   ]
  },
  {
   "cell_type": "code",
   "execution_count": 36,
   "metadata": {},
   "outputs": [],
   "source": [
    "class Tests(Tests):\n",
    "    def test_three_point_quad(self):\n",
    "        min_length = 1\n",
    "        max_length = 100\n",
    "        def genetator():\n",
    "            c = np.random.rand(6)\n",
    "            f: Callable[[float, float], float] = lambda x, y: c[0] * x**2 + c[1] * y**2 + c[2]* x*y + c[3]* x + c[4] * y + c[5]\n",
    "            return three_point_quad_on_ref_trig(f), c[0]/12 + c[1]/12 + c[2]/24 + c[3]/6 + c[4]/6 + c[5]/2\n",
    "\n",
    "        Tests.check_accuracy_multiple_random(1000, genetator, 7)"
   ]
  },
  {
   "cell_type": "markdown",
   "metadata": {},
   "source": [
    "### Monte Carlo quadrature"
   ]
  },
  {
   "cell_type": "markdown",
   "metadata": {},
   "source": [
    "Skriv nått"
   ]
  },
  {
   "cell_type": "code",
   "execution_count": 50,
   "metadata": {},
   "outputs": [
    {
     "data": {
      "text/plain": [
       "1.3093473924718282"
      ]
     },
     "execution_count": 50,
     "metadata": {},
     "output_type": "execute_result"
    }
   ],
   "source": [
    "def monte_carlo_on_unit_interval(f: Callable[[np.ndarray], np.ndarray], n: int) -> float:\n",
    "    return f(np.random.rand(n)).mean()\n",
    "\n",
    "def monte_carlo_on_ref_trig(f: Callable[[np.ndarray, np.ndarray], np.ndarray], n: int) -> float:\n",
    "    x = np.random.rand(n)\n",
    "    x_temp = x.copy()\n",
    "    y = np.random.rand(n)\n",
    "    args = np.argwhere((1 - x) < y)\n",
    "    x.put(args, 1 - y[args])\n",
    "    y.put(args, 1 - x_temp[args])\n",
    "    \n",
    "    return f(x, y).mean(), x, y\n",
    "\n",
    "\n",
    "c = np.random.rand(6)\n",
    "f = lambda x, y: c[0] * (x**2) + c[1] * (y**2) + c[2]* (x*y) + c[3]* x + c[4] * y + c[5]\n",
    "true = c[0]/12 + c[1]/12 + c[2]/24 + c[3]/6 + c[4]/6 + c[5]/2\n",
    "monte_carlo_on_ref_trig(f, 1000)[0]"
   ]
  },
  {
   "cell_type": "markdown",
   "metadata": {
    "colab_type": "text",
    "id": "SsQLT38gVbn_"
   },
   "source": [
    "# **Results**"
   ]
  },
  {
   "cell_type": "markdown",
   "metadata": {},
   "source": [
    "To test the methods and to receive a result we test the accuracy of the methods. Since we have a known solution to the expresions tested we compare with this solution wether our method is exact enought. It is difficult to know where the limit of an \"accurate\" result lie. In this lab i've chosen to check that all result lie within a 7 decimal margin.\n",
    "\n",
    "Also a curvefit was done to show that the monte-carlo method had the expected behaviour."
   ]
  },
  {
   "cell_type": "code",
   "execution_count": 51,
   "metadata": {
    "colab": {
     "base_uri": "https://localhost:8080/",
     "height": 102
    },
    "colab_type": "code",
    "id": "G1hVxfti4Ib-",
    "outputId": "159525fa-e6f3-4acb-c401-f8b9d8ab9928"
   },
   "outputs": [
    {
     "name": "stderr",
     "output_type": "stream",
     "text": [
      "..\n",
      "----------------------------------------------------------------------\n",
      "Ran 2 tests in 0.171s\n",
      "\n",
      "OK\n"
     ]
    }
   ],
   "source": [
    "suite = unittest.TestSuite()\n",
    "suite.addTest(Tests('test_two_point_gauss_quad'))\n",
    "suite.addTest(Tests('test_three_point_quad'))\n",
    "\n",
    "if __name__ == '__main__':\n",
    "    runner = unittest.TextTestRunner()\n",
    "    runner.run(suite)"
   ]
  },
  {
   "cell_type": "code",
   "execution_count": 52,
   "metadata": {
    "scrolled": true
   },
   "outputs": [
    {
     "name": "stdout",
     "output_type": "stream",
     "text": [
      "0.3405800125217196\n"
     ]
    },
    {
     "data": {
      "text/plain": [
       "[<matplotlib.lines.Line2D at 0x12153f8b0>]"
      ]
     },
     "execution_count": 52,
     "metadata": {},
     "output_type": "execute_result"
    },
    {
     "data": {
      "image/png": "[encoded data removed]",
      "text/plain": [
       "<Figure size 432x288 with 1 Axes>"
      ]
     },
     "metadata": {
      "needs_background": "light"
     },
     "output_type": "display_data"
    }
   ],
   "source": [
    "num_of_polys = 100\n",
    "num_of_points = 100\n",
    "\n",
    "n = np.linspace(10, 1000, num_of_points, dtype=int)\n",
    "error = np.zeros(num_of_points)\n",
    "for j in range(num_of_polys):\n",
    "    c = np.random.rand(4)\n",
    "    f = lambda x: c[0] * x**3 + c[1] * x**2 + c[2]* x + c[3]\n",
    "    true = c[0]/4. + c[1]/3. + c[2]/2. + c[3]\n",
    "    \n",
    "    for i in range(num_of_points):\n",
    "        error[i] += abs(monte_carlo_on_unit_interval(f, n[i]) - true)/float(num_of_polys)\n",
    "\n",
    "\n",
    "inv_sqrt = lambda x, a: a / np.sqrt(x)\n",
    "a_opt = curve_fit(inv_sqrt, n, error, 1)[0][0]\n",
    "print(a_opt)\n",
    "plt.plot(n, error)\n",
    "plt.plot(n, inv_sqrt(n, a_opt), 'r--')"
   ]
  },
  {
   "cell_type": "markdown",
   "metadata": {},
   "source": [
    "All the test passes, meaning that the potential floating-point-errors is within an acceptable level for those methods. Also the monte-carlo methods accuracy was propotional to $\\frac{1}{\\sqrt{n}}$, as expected."
   ]
  },
  {
   "cell_type": "markdown",
   "metadata": {
    "colab_type": "text",
    "id": "_4GLBv0zWr7m"
   },
   "source": [
    "# **Discussion**"
   ]
  },
  {
   "cell_type": "markdown",
   "metadata": {},
   "source": [
    "The results are not too supricing since most methods are mathematically exact and should only be able to give the exact and correct answer. Intresting is though how the Monte-Carlo method follows the accuracy proportional to $\\frac{1}{\\sqrt{n}}$ strikingly well."
   ]
  },
  {
   "cell_type": "code",
   "execution_count": null,
   "metadata": {},
   "outputs": [],
   "source": []
  }
 ],
 "metadata": {
  "colab": {
   "collapsed_sections": [],
   "include_colab_link": true,
   "name": "ejemyr_lab1.ipynb",
   "provenance": [],
   "toc_visible": true
  },
  "kernelspec": {
   "display_name": "Python 3",
   "language": "python",
   "name": "python3"
  },
  "language_info": {
   "codemirror_mode": {
    "name": "ipython",
    "version": 3
   },
   "file_extension": ".py",
   "mimetype": "text/x-python",
   "name": "python",
   "nbconvert_exporter": "python",
   "pygments_lexer": "ipython3",
   "version": "3.8.1"
  }
 },
 "nbformat": 4,
 "nbformat_minor": 1
}
