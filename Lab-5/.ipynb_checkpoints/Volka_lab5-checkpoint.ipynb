{
 "cells": [
  {
   "cell_type": "markdown",
   "metadata": {
    "toc": true
   },
   "source": [
    "<h1>Table of Contents<span class=\"tocSkip\"></span></h1>\n",
    "<div class=\"toc\"><ul class=\"toc-item\"><li><span><a href=\"#Lab-5:-Quadrature\" data-toc-modified-id=\"Lab-5:-Quadrature-1\"><span class=\"toc-item-num\">1&nbsp;&nbsp;</span><strong>Lab 5: Quadrature</strong></a></span></li><li><span><a href=\"#Abstract\" data-toc-modified-id=\"Abstract-2\"><span class=\"toc-item-num\">2&nbsp;&nbsp;</span><strong>Abstract</strong></a></span></li><li><span><a href=\"#Set-up-environment\" data-toc-modified-id=\"Set-up-environment-3\"><span class=\"toc-item-num\">3&nbsp;&nbsp;</span><strong>Set up environment</strong></a></span></li><li><span><a href=\"#Introduction\" data-toc-modified-id=\"Introduction-4\"><span class=\"toc-item-num\">4&nbsp;&nbsp;</span><strong>Introduction</strong></a></span></li><li><span><a href=\"#Methods\" data-toc-modified-id=\"Methods-5\"><span class=\"toc-item-num\">5&nbsp;&nbsp;</span><strong>Methods</strong></a></span><ul class=\"toc-item\"><li><span><a href=\"#2-point-Gauss-quadrature-over-a-unit-interval\" data-toc-modified-id=\"2-point-Gauss-quadrature-over-a-unit-interval-5.1\"><span class=\"toc-item-num\">5.1&nbsp;&nbsp;</span>2-point Gauss quadrature over a unit interval</a></span></li><li><span><a href=\"#3-point-edge-midpoint-quadrature-over-a-reference-triangle\" data-toc-modified-id=\"3-point-edge-midpoint-quadrature-over-a-reference-triangle-5.2\"><span class=\"toc-item-num\">5.2&nbsp;&nbsp;</span>3-point edge midpoint quadrature over a reference triangle</a></span></li><li><span><a href=\"#Monte-Carlo-quadrature\" data-toc-modified-id=\"Monte-Carlo-quadrature-5.3\"><span class=\"toc-item-num\">5.3&nbsp;&nbsp;</span>Monte Carlo quadrature</a></span><ul class=\"toc-item\"><li><span><a href=\"#Monte-Carlo-quadrature-over-a-unit-interval\" data-toc-modified-id=\"Monte-Carlo-quadrature-over-a-unit-interval-5.3.1\"><span class=\"toc-item-num\">5.3.1&nbsp;&nbsp;</span>Monte Carlo quadrature over a unit interval</a></span></li><li><span><a href=\"#Monte-Carlo-quadrature-over-a-reference-triangle\" data-toc-modified-id=\"Monte-Carlo-quadrature-over-a-reference-triangle-5.3.2\"><span class=\"toc-item-num\">5.3.2&nbsp;&nbsp;</span>Monte Carlo quadrature over a reference triangle</a></span></li></ul></li></ul></li><li><span><a href=\"#Results\" data-toc-modified-id=\"Results-6\"><span class=\"toc-item-num\">6&nbsp;&nbsp;</span><strong>Results</strong></a></span><ul class=\"toc-item\"><li><span><a href=\"#2-point-Gauss-quadrature-over-a-unit-interval\" data-toc-modified-id=\"2-point-Gauss-quadrature-over-a-unit-interval-6.1\"><span class=\"toc-item-num\">6.1&nbsp;&nbsp;</span>2-point Gauss quadrature over a unit interval</a></span></li><li><span><a href=\"#3-point-edge-midpoint-quadrature-over-a-reference-triangle\" data-toc-modified-id=\"3-point-edge-midpoint-quadrature-over-a-reference-triangle-6.2\"><span class=\"toc-item-num\">6.2&nbsp;&nbsp;</span>3-point edge midpoint quadrature over a reference triangle</a></span></li><li><span><a href=\"#Monte-Carlo-quadrature\" data-toc-modified-id=\"Monte-Carlo-quadrature-6.3\"><span class=\"toc-item-num\">6.3&nbsp;&nbsp;</span>Monte Carlo quadrature</a></span><ul class=\"toc-item\"><li><span><a href=\"#Monte-Carlo-quadrature-over-a-unit-interval\" data-toc-modified-id=\"Monte-Carlo-quadrature-over-a-unit-interval-6.3.1\"><span class=\"toc-item-num\">6.3.1&nbsp;&nbsp;</span>Monte Carlo quadrature over a unit interval</a></span></li><li><span><a href=\"#Monte-Carlo-quadrature-over-a-reference-triangle\" data-toc-modified-id=\"Monte-Carlo-quadrature-over-a-reference-triangle-6.3.2\"><span class=\"toc-item-num\">6.3.2&nbsp;&nbsp;</span>Monte Carlo quadrature over a reference triangle</a></span></li></ul></li></ul></li><li><span><a href=\"#Discussion\" data-toc-modified-id=\"Discussion-7\"><span class=\"toc-item-num\">7&nbsp;&nbsp;</span><strong>Discussion</strong></a></span></li></ul></div>"
   ]
  },
  {
   "cell_type": "markdown",
   "metadata": {
    "colab_type": "text",
    "id": "view-in-github"
   },
   "source": [
    "<a href=\"https://colab.research.google.com/github/johanhoffman/DD2363-VT20/blob/Volkaa/Lab-5/Volkaa_lab5.ipynb\" target=\"_parent\"><img src=\"https://colab.research.google.com/assets/colab-badge.svg\" alt=\"Open In Colab\"/></a>"
   ]
  },
  {
   "cell_type": "markdown",
   "metadata": {
    "colab_type": "text",
    "id": "6RgtXlfYO_i7"
   },
   "source": [
    "# **Lab 5: Quadrature**\n",
    "**Matthis Manthe**"
   ]
  },
  {
   "cell_type": "markdown",
   "metadata": {
    "colab_type": "text",
    "id": "9x_J5FVuPzbm"
   },
   "source": [
    "# **Abstract**"
   ]
  },
  {
   "cell_type": "markdown",
   "metadata": {
    "colab_type": "text",
    "id": "yJipbXtnjrJZ"
   },
   "source": [
    "In this lab, we implement multiple quadrature functions, used to approximate the integral of any functions in 1 or 2D : The 2-point guass quadrature over a 1D domain, the 3-point midpoint quadrature over a reference triangle, and the Monte Carlo quadrature over a 1D domain, and a reference triangle. Each of these functions are tested, especially the convergence rate of the Monte Carlo methods."
   ]
  },
  {
   "cell_type": "markdown",
   "metadata": {
    "colab_type": "text",
    "id": "HmB2noTr1Oyo"
   },
   "source": [
    "A short statement on who is the author of the file, and if the code is distributed under a certain license. "
   ]
  },
  {
   "cell_type": "code",
   "execution_count": 298,
   "metadata": {
    "colab": {
     "base_uri": "https://localhost:8080/",
     "height": 34
    },
    "colab_type": "code",
    "id": "Pdll1Xc9WP0e",
    "outputId": "f74fa781-413b-41e7-a2ec-1bba2288ad4f"
   },
   "outputs": [
    {
     "data": {
      "text/plain": [
       "'KTH Royal Institute of Technology, Stockholm, Sweden.'"
      ]
     },
     "execution_count": 298,
     "metadata": {},
     "output_type": "execute_result"
    }
   ],
   "source": [
    "\"\"\"This program uses a template for lab reports in the course\"\"\"\n",
    "\"\"\"DD2363 Methods in Scientific Computing, \"\"\"\n",
    "\"\"\"KTH Royal Institute of Technology, Stockholm, Sweden.\"\"\"\n",
    "\n",
    "# Copyright (C) 2019 Johan Hoffman (jhoffman@kth.se)\n",
    "\n",
    "# This file is part of the course DD2363 Methods in Scientific Computing\n",
    "# KTH Royal Institute of Technology, Stockholm, Sweden\n",
    "#\n",
    "# This is free software: you can redistribute it and/or modify\n",
    "# it under the terms of the GNU Lesser General Public License as published by\n",
    "# the Free Software Foundation, either version 3 of the License, or\n",
    "# (at your option) any later version.\n",
    "\n",
    "# This template is maintained by Johan Hoffman\n",
    "# Please report problems to jhoffman@kth.se"
   ]
  },
  {
   "cell_type": "markdown",
   "metadata": {
    "colab_type": "text",
    "id": "28xLGz8JX3Hh"
   },
   "source": [
    "# **Set up environment**"
   ]
  },
  {
   "cell_type": "markdown",
   "metadata": {
    "colab_type": "text",
    "id": "D2PYNusD08Wa"
   },
   "source": [
    "To have access to the neccessary modules you have to run this cell. If you need additional modules, this is where you add them. "
   ]
  },
  {
   "cell_type": "code",
   "execution_count": 100,
   "metadata": {
    "colab": {},
    "colab_type": "code",
    "id": "Xw7VlErAX7NS"
   },
   "outputs": [],
   "source": [
    "# Load neccessary modules.\n",
    "# from google.colab import files\n",
    "\n",
    "import time\n",
    "import numpy as np\n",
    "\n",
    "from matplotlib import pyplot as plt\n",
    "from matplotlib import tri\n",
    "from matplotlib import axes\n",
    "from mpl_toolkits.mplot3d import Axes3D\n",
    "from scipy.integrate import quad"
   ]
  },
  {
   "cell_type": "markdown",
   "metadata": {
    "colab_type": "text",
    "id": "gnO3lhAigLev"
   },
   "source": [
    "# **Introduction**"
   ]
  },
  {
   "cell_type": "markdown",
   "metadata": {},
   "source": [
    "Like in previous labs, we implement different functions, each of them having advantages, and disadvantages when approximating integrals. All the methods and algorithms are taken from the sixth part of the course : [DD2363 course content.](https://kth.instructure.com/courses/17068/files/2608247?module_item_id=197823)"
   ]
  },
  {
   "cell_type": "markdown",
   "metadata": {
    "colab_type": "text",
    "id": "WeFO9QMeUOAu"
   },
   "source": [
    "# **Methods**"
   ]
  },
  {
   "cell_type": "markdown",
   "metadata": {},
   "source": [
    "## 2-point Gauss quadrature over a unit interval"
   ]
  },
  {
   "cell_type": "markdown",
   "metadata": {},
   "source": [
    "This is an implementation of the 2-point Gauss quadrature over an interval in $\\mathbb{R}$, exact when used to approximate the integral of degree-3 polynomials. With a variable switch, we have that $\\int_a^bf(x)dx=\\frac{(a+b)}{2}\\int_{-1}^1f(\\frac{a+b}{2}\\epsilon + \\frac{b-a}{2})d\\epsilon$. Thus we compute the integrale using the quadrature points and weights calculated in class for the interval [-1,1] : ($x_1=\\frac{-1}{\\sqrt{3}}, x_2=\\frac{1}{\\sqrt{3}}, w_1=w_2=1$), and map the desired integral to the computed one. In our case, $a=0$ and $b=1$, then the formula becomes $\\int_0^1f(x)dx=\\frac{1}{2}\\int_{-1}^1f(\\frac{\\epsilon}{2}+\\frac{1}{2})d\\epsilon$.\n",
    "\n",
    "The function requires in input the function to integrate, with signature function(float x) returning f(x), and the interval on which computing the integral. It returns the approximation of the integral."
   ]
  },
  {
   "cell_type": "code",
   "execution_count": 14,
   "metadata": {},
   "outputs": [],
   "source": [
    "def gauss(function, interval):\n",
    "    x_1 = -1/np.sqrt(3)\n",
    "    x_2 = 1/np.sqrt(3)\n",
    "    a = interval[0]\n",
    "    b = interval[1]\n",
    "    return (a+b)/2*(function((a+b)/2*x_1 + (b-a)/2) + function((a+b)/2*x_2 + (b-a)/2))"
   ]
  },
  {
   "cell_type": "markdown",
   "metadata": {},
   "source": [
    "## 3-point edge midpoint quadrature over a reference triangle"
   ]
  },
  {
   "cell_type": "markdown",
   "metadata": {},
   "source": [
    "With the same idea as the 1D interval gauss method, we map any triangle to our reference triangle ((0,0),(1,0),(0,1)), and use the quadrature points and quadrature weights calculated in class : ($x_1 = [\\frac{1}{2},0], x_2=[\\frac{1}{2},\\frac{1}{2}], x_3=[0,\\frac{1}{2}], w_1=w_2=w_3=\\frac{1}{6}$). We could have used again use a variable switch, with $\\int_{\\Omega}f(x)dx=|det(F')|\\int_{ref-triangle}f(F(\\epsilon))d\\epsilon$, but we just want to integrate the function over the reference triangle.\n",
    "\n",
    "The function only requires in input the function to integrate, with signature function([float x,float y]) returning f([x,y]). It returns the approximation of the integral over the reference triangle."
   ]
  },
  {
   "cell_type": "code",
   "execution_count": 38,
   "metadata": {},
   "outputs": [],
   "source": [
    "def gauss_triangle(function):\n",
    "    x_1 = [1/2,0]\n",
    "    x_2 = [1/2,1/2]\n",
    "    x_3 = [0,1/2]\n",
    "    w = 1/6\n",
    "    return function(x_1)*w+function(x_2)*w+function(x_3)*w"
   ]
  },
  {
   "cell_type": "markdown",
   "metadata": {},
   "source": [
    "## Monte Carlo quadrature"
   ]
  },
  {
   "cell_type": "markdown",
   "metadata": {},
   "source": [
    "We finally implement the simple Monte Carlo method. We only need a way to generate pseudo-random value over the desired domain. We use the numpy function rand for a random value over the interval [a,b], which follows a uniform rule over [0,1] and map it to the desired interval. To generate random point on the reference triangle, we could have used more efficient methods, but we have to reach a uniform generation on the triangle. Thus, we simply generate random points on the unit square [(0,0),(1,0),(1,1),(0,1)], and iterate this generation until the point is in the reference triangle [(0,0),(1,0),(0,1)]. We show later that this, obviously, gives a uniform generation of points on the reference triangle."
   ]
  },
  {
   "cell_type": "markdown",
   "metadata": {},
   "source": [
    "### Monte Carlo quadrature over a unit interval"
   ]
  },
  {
   "cell_type": "markdown",
   "metadata": {},
   "source": [
    "The function requires in input the function to integrate, with signature function(float x) returning f(x) and the interval over which the integral will be approximated. nb_quad_points is the number of random points on which evaluating the function, defining the precision of the approximation."
   ]
  },
  {
   "cell_type": "code",
   "execution_count": 110,
   "metadata": {},
   "outputs": [],
   "source": [
    "def monte_carlo(function, interval, nb_quad_points):\n",
    "    integral = 0\n",
    "    for i in range(nb_quad_points):\n",
    "        x = interval[0] + (interval[1]-interval[0])*np.random.rand()\n",
    "        integral += function(x)\n",
    "    return integral*(interval[1]-interval[0])/nb_quad_points"
   ]
  },
  {
   "cell_type": "markdown",
   "metadata": {},
   "source": [
    "### Monte Carlo quadrature over a reference triangle"
   ]
  },
  {
   "cell_type": "markdown",
   "metadata": {},
   "source": [
    "The function requires in input the function to integrate, with signature function([float x, float y]) returning f([x,y]) and the number of random points on which evaluating the function, defining the precision of the approximation."
   ]
  },
  {
   "cell_type": "code",
   "execution_count": 167,
   "metadata": {},
   "outputs": [],
   "source": [
    "def random_point_simplex():\n",
    "    x = [np.random.rand(), np.random.rand()]\n",
    "    while x[0]+x[1] > 1:\n",
    "        x = [np.random.rand(), np.random.rand()]\n",
    "    return x"
   ]
  },
  {
   "cell_type": "code",
   "execution_count": 200,
   "metadata": {},
   "outputs": [],
   "source": [
    "def monte_carlo_triangle(function, nb_quad_points):\n",
    "    integral = 0\n",
    "    for i in range(nb_quad_points):\n",
    "        x = random_point_simplex()\n",
    "        integral += function(x)\n",
    "    return integral/(2*nb_quad_points)"
   ]
  },
  {
   "cell_type": "markdown",
   "metadata": {
    "colab_type": "text",
    "id": "SsQLT38gVbn_"
   },
   "source": [
    "# **Results**"
   ]
  },
  {
   "cell_type": "markdown",
   "metadata": {},
   "source": [
    "## 2-point Gauss quadrature over a unit interval"
   ]
  },
  {
   "cell_type": "markdown",
   "metadata": {},
   "source": [
    "To test the correctness of our algorithm, we simply test that the approximation of the integral is exact on random degree-3 polynomials. The exact value in the test function is only valid for the [0,1] interval."
   ]
  },
  {
   "cell_type": "code",
   "execution_count": 6,
   "metadata": {},
   "outputs": [],
   "source": [
    "def generate_degree_3_polynomial():\n",
    "    coef = np.random.rand(4)*10\n",
    "    def random_polynomial(x):\n",
    "        evaluation = coef[0] + coef[1]*x + coef[2]*x*x + coef[3]*x*x*x\n",
    "        return evaluation\n",
    "    return random_polynomial, coef"
   ]
  },
  {
   "cell_type": "code",
   "execution_count": 24,
   "metadata": {},
   "outputs": [],
   "source": [
    "def test_gauss(interval):\n",
    "    poly, coef = generate_degree_3_polynomial()\n",
    "    print(\"Polynomial : \",coef[0],\" + \",coef[1],\"x + \",coef[2],\"x^2 + \",coef[3],\"x^3\")\n",
    "    integral = gauss(poly, interval)\n",
    "    print(\"\\nComputed integral : \", integral)\n",
    "    print(\"\\nExactt value : \", (coef[0]+coef[1]/2+coef[2]/3+coef[3]/4))"
   ]
  },
  {
   "cell_type": "code",
   "execution_count": 315,
   "metadata": {},
   "outputs": [
    {
     "name": "stdout",
     "output_type": "stream",
     "text": [
      "Polynomial :  0.5252432454691225  +  1.7665497366191008 x +  2.9476602075539526 x^2 +  9.69708109899747 x^3\n",
      "\n",
      "Computed integral :  4.815341791046024\n",
      "\n",
      "Exactt value :  4.815341791046025\n"
     ]
    }
   ],
   "source": [
    "test_gauss([0,1])"
   ]
  },
  {
   "cell_type": "markdown",
   "metadata": {},
   "source": [
    "## 3-point edge midpoint quadrature over a reference triangle"
   ]
  },
  {
   "cell_type": "markdown",
   "metadata": {},
   "source": [
    "To test the correctness of our algorithm, we simply test that the approximated integral is exact on random quadratic forms. We only compute the integral on the reference triangle."
   ]
  },
  {
   "cell_type": "code",
   "execution_count": 35,
   "metadata": {},
   "outputs": [],
   "source": [
    "def generate_quadratic():\n",
    "    coef = np.random.rand(6)*10\n",
    "    def random_quadratic(x):\n",
    "        evaluation = coef[0]*x[0]*x[0] + coef[1]*x[1]*x[1] + coef[2]*x[0]*x[1] + coef[3]*x[0] + coef[4]*x[1] + coef[5]\n",
    "        return evaluation\n",
    "    return random_quadratic, coef"
   ]
  },
  {
   "cell_type": "code",
   "execution_count": 89,
   "metadata": {},
   "outputs": [],
   "source": [
    "def test_gauss_triangle():\n",
    "    quad, coef = generate_quadratic()\n",
    "    print(\"Quadratic form : \",coef[0],\"x_1^2 + \",coef[1],\"x_2^2 + \",coef[2],\"x_1*x_2 + \",coef[3],\"x_1 + \",coef[4],\"x_2 + \",coef[5])\n",
    "    integral = gauss_triangle(quad)\n",
    "    print(\"\\nComputed integral : \", integral)\n",
    "    print(\"\\nExactt value : \", (coef[0]/12+coef[1]/12+coef[2]/24+coef[3]/6+coef[4]/6+coef[5]/2))"
   ]
  },
  {
   "cell_type": "code",
   "execution_count": 97,
   "metadata": {
    "scrolled": true
   },
   "outputs": [
    {
     "name": "stdout",
     "output_type": "stream",
     "text": [
      "Quadratic form :  8.328260236297618 x_1^2 +  1.586836759835133 x_2^2 +  8.448352462343095 x_1*x_2 +  4.396998520226854 x_1 +  2.3732748231231637 x_2 +  8.384988384233555\n",
      "\n",
      "Computed integral :  6.499145851617138\n",
      "\n",
      "Exactt value :  6.499145851617138\n"
     ]
    }
   ],
   "source": [
    "test_gauss_triangle()"
   ]
  },
  {
   "cell_type": "markdown",
   "metadata": {},
   "source": [
    "## Monte Carlo quadrature"
   ]
  },
  {
   "cell_type": "markdown",
   "metadata": {},
   "source": [
    "To test the correctness of both Monte Carlo methods, we first compare the approximation of the integral of some functions to their exact value. We also analyse the convergence rate of the algorithm, function of the number of quadrature points. To do that, for each chosen number of quadrature points, we approximate the integral 200 times, and compute the mean absolute error done on each function. We just plot these errors function of the number of quadrature points, showing the $\\frac{1}{\\sqrt{n}}$ convergence rate. We also print, at each new number of quadrature points, the ratio of the consecutive errors, in front of the expected one if the convergence rate is $\\frac{1}{\\sqrt{n}}$. This ratio should be equal to $\\sqrt{\\frac{n_{i+1}}{n_i}}$."
   ]
  },
  {
   "cell_type": "markdown",
   "metadata": {},
   "source": [
    "### Monte Carlo quadrature over a unit interval"
   ]
  },
  {
   "cell_type": "code",
   "execution_count": 177,
   "metadata": {},
   "outputs": [],
   "source": [
    "def square_function(x):\n",
    "    return x*x"
   ]
  },
  {
   "cell_type": "code",
   "execution_count": 163,
   "metadata": {},
   "outputs": [],
   "source": [
    "def complex_function(x):\n",
    "    return np.sin(x)*x*x + np.cos(x)/(x+1)"
   ]
  },
  {
   "cell_type": "code",
   "execution_count": 107,
   "metadata": {},
   "outputs": [],
   "source": [
    "def test_monte_carlo(function, interval, nb_quad_points):\n",
    "    print(\"Function : \", function.__name__)\n",
    "    print(\"\\nInterval : \", interval),\n",
    "    print(\"\\nNumber of quadrature points : \", nb_quad_points)\n",
    "    integral = monte_carlo(function, interval, nb_quad_points)\n",
    "    print(\"\\nApproximation : \", integral)\n",
    "    print(\"\\nIntegral value : \", quad(function, interval[0], interval[1])[0])"
   ]
  },
  {
   "cell_type": "code",
   "execution_count": 134,
   "metadata": {
    "scrolled": false
   },
   "outputs": [
    {
     "name": "stdout",
     "output_type": "stream",
     "text": [
      "Function :  square_function\n",
      "\n",
      "Interval :  [0, 1]\n",
      "\n",
      "Number of quadrature points :  100000\n",
      "\n",
      "Approximation :  0.3315313436508954\n",
      "\n",
      "Integral value :  0.33333333333333337\n"
     ]
    }
   ],
   "source": [
    "test_monte_carlo(square_function, [0,1], 100000)"
   ]
  },
  {
   "cell_type": "code",
   "execution_count": 164,
   "metadata": {
    "scrolled": true
   },
   "outputs": [
    {
     "name": "stdout",
     "output_type": "stream",
     "text": [
      "Function :  complex_function\n",
      "\n",
      "Interval :  [0, 1]\n",
      "\n",
      "Number of quadrature points :  100000\n",
      "\n",
      "Approximation :  0.8242538334066671\n",
      "\n",
      "Integral value :  0.8242886607382485\n"
     ]
    }
   ],
   "source": [
    "test_monte_carlo(complex_function, [0,1], 100000)"
   ]
  },
  {
   "cell_type": "code",
   "execution_count": 316,
   "metadata": {},
   "outputs": [],
   "source": [
    "def show_convergence_rate(function, interval):\n",
    "    integral_value = quad(function, interval[0], interval[1])[0]\n",
    "    nb_quads = np.array([20,50,100,200,500,1000,2000,5000,10000,20000,50000,100000])\n",
    "    errors = []\n",
    "    for i in range(len(nb_quads)):\n",
    "        error = 0\n",
    "        for iter in range(200):\n",
    "            error += np.abs(monte_carlo(function, interval, nb_quads[i]) - integral_value)\n",
    "        errors.append(error/200)\n",
    "        if len(errors) >= 2:\n",
    "            print(errors[-2]/errors[-1], np.sqrt(nb_quads[i]/nb_quads[i-1]))\n",
    "    plt.figure(figsize=[8,8])\n",
    "    plt.plot(nb_quads, errors)\n",
    "    plt.xlabel(\"Amount of quadrature points\")\n",
    "    plt.ylabel(\"Mean absolute error\")"
   ]
  },
  {
   "cell_type": "code",
   "execution_count": 320,
   "metadata": {
    "scrolled": false
   },
   "outputs": [
    {
     "name": "stdout",
     "output_type": "stream",
     "text": [
      "1.7967959587433449 1.5811388300841898\n",
      "1.3620329893895846 1.4142135623730951\n",
      "1.423680479205829 1.4142135623730951\n",
      "1.5877044062432635 1.5811388300841898\n",
      "1.4125956924595406 1.4142135623730951\n",
      "1.3217239247095618 1.4142135623730951\n",
      "1.5410189459794463 1.5811388300841898\n",
      "1.5145591965635194 1.4142135623730951\n",
      "1.4060082663784406 1.4142135623730951\n",
      "1.464733333789518 1.5811388300841898\n",
      "1.6353047648049968 1.4142135623730951\n"
     ]
    },
    {
     "data": {
      "image/png": "[encoded data removed]",
      "text/plain": [
       "<Figure size 576x576 with 1 Axes>"
      ]
     },
     "metadata": {
      "needs_background": "light"
     },
     "output_type": "display_data"
    }
   ],
   "source": [
    "show_convergence_rate(square_function, [0,1])"
   ]
  },
  {
   "cell_type": "code",
   "execution_count": 321,
   "metadata": {
    "scrolled": false
   },
   "outputs": [
    {
     "name": "stdout",
     "output_type": "stream",
     "text": [
      "1.4969619723755336 1.5811388300841898\n",
      "1.4750033025532587 1.4142135623730951\n",
      "1.4335075597061617 1.4142135623730951\n",
      "1.7596021743323267 1.5811388300841898\n",
      "1.2503187123662203 1.4142135623730951\n",
      "1.4443089510317786 1.4142135623730951\n",
      "1.5395525542745492 1.5811388300841898\n",
      "1.3599906404760795 1.4142135623730951\n",
      "1.4512176007476736 1.4142135623730951\n",
      "1.6676199403397531 1.5811388300841898\n",
      "1.3711567185373719 1.4142135623730951\n"
     ]
    },
    {
     "data": {
      "image/png": "[encoded data removed]",
      "text/plain": [
       "<Figure size 576x576 with 1 Axes>"
      ]
     },
     "metadata": {
      "needs_background": "light"
     },
     "output_type": "display_data"
    }
   ],
   "source": [
    "show_convergence_rate(complex_function, [0,1])"
   ]
  },
  {
   "cell_type": "markdown",
   "metadata": {},
   "source": [
    "### Monte Carlo quadrature over a reference triangle"
   ]
  },
  {
   "cell_type": "markdown",
   "metadata": {},
   "source": [
    "Just to be sure of the method of generation of random points on the reference triangle, we show 5000 generations of random points, \"proving\" that this generation is uniform."
   ]
  },
  {
   "cell_type": "code",
   "execution_count": 195,
   "metadata": {},
   "outputs": [],
   "source": [
    "def test_random_point_simplex():\n",
    "    x = []\n",
    "    y = []\n",
    "    for i in range(5000):\n",
    "        new_point = random_point_simplex()\n",
    "        x.append(new_point[0])\n",
    "        y.append(new_point[1])\n",
    "    plt.figure(figsize=[8,8])\n",
    "    plt.scatter(x,y,s=1)"
   ]
  },
  {
   "cell_type": "code",
   "execution_count": 198,
   "metadata": {
    "scrolled": true
   },
   "outputs": [
    {
     "data": {
      "image/png": "[encoded data removed]",
      "text/plain": [
       "<Figure size 576x576 with 1 Axes>"
      ]
     },
     "metadata": {
      "needs_background": "light"
     },
     "output_type": "display_data"
    }
   ],
   "source": [
    "test_random_point_simplex()"
   ]
  },
  {
   "cell_type": "code",
   "execution_count": 278,
   "metadata": {},
   "outputs": [],
   "source": [
    "def simple_funcion_triangle(x):\n",
    "    return x[0]*x[1]"
   ]
  },
  {
   "cell_type": "code",
   "execution_count": 269,
   "metadata": {},
   "outputs": [],
   "source": [
    "def test_monte_carlo_triangle(function, nb_quad_points, integral_value):\n",
    "    print(\"Function : \", function.__name__)\n",
    "    print(\"\\nReference triangle : [(0,0),(1,0),(0,1)]\"),\n",
    "    print(\"\\nNumber of quadrature points : \", nb_quad_points)\n",
    "    integral = monte_carlo_triangle(function, nb_quad_points)\n",
    "    print(\"\\nApproximation : \", integral)\n",
    "    print(\"\\nExact integral value : \", integral_value)"
   ]
  },
  {
   "cell_type": "code",
   "execution_count": 293,
   "metadata": {},
   "outputs": [
    {
     "name": "stdout",
     "output_type": "stream",
     "text": [
      "Function :  square_funcion_triangle\n",
      "\n",
      "Reference triangle : [(0,0),(1,0),(0,1)]\n",
      "\n",
      "Number of quadrature points :  1000\n",
      "\n",
      "Approximation :  0.041554556172590656\n",
      "\n",
      "Exact integral value :  0.041666666666666664\n"
     ]
    }
   ],
   "source": [
    "test_monte_carlo_triangle(square_funcion_triangle, 1000, 1/24)"
   ]
  },
  {
   "cell_type": "code",
   "execution_count": 318,
   "metadata": {},
   "outputs": [],
   "source": [
    "def show_convergence_rate_triangle(function, integral_value):\n",
    "    nb_quads = np.array([20,50,100,200,500,1000,2000,5000,10000,20000,50000,100000])\n",
    "    errors = []\n",
    "    for i in range(len(nb_quads)):\n",
    "        error = 0\n",
    "        for iter in range(200):\n",
    "            error += np.abs(monte_carlo_triangle(function, nb_quads[i]) - integral_value)\n",
    "        errors.append(error/200)\n",
    "        if len(errors) >= 2:\n",
    "            print(errors[-2]/errors[-1], np.sqrt(nb_quads[i]/nb_quads[i-1]))\n",
    "    plt.figure(figsize=[8,8])\n",
    "    plt.plot(nb_quads, errors)\n",
    "    plt.xlabel(\"Amount of quadrature points\")\n",
    "    plt.ylabel(\"Mean absolute error\")"
   ]
  },
  {
   "cell_type": "code",
   "execution_count": 319,
   "metadata": {},
   "outputs": [
    {
     "name": "stdout",
     "output_type": "stream",
     "text": [
      "1.6005664221040092 1.5811388300841898\n",
      "1.391299245025235 1.4142135623730951\n",
      "1.5403091771925643 1.4142135623730951\n",
      "1.4412576581132224 1.5811388300841898\n",
      "1.4316891490974584 1.4142135623730951\n",
      "1.3982886638461633 1.4142135623730951\n",
      "1.571651910814562 1.5811388300841898\n",
      "1.5974684893562865 1.4142135623730951\n",
      "1.1686379026079068 1.4142135623730951\n",
      "1.6974193789150605 1.5811388300841898\n",
      "1.364309220786709 1.4142135623730951\n"
     ]
    },
    {
     "data": {
      "image/png": "[encoded data removed]",
      "text/plain": [
       "<Figure size 576x576 with 1 Axes>"
      ]
     },
     "metadata": {
      "needs_background": "light"
     },
     "output_type": "display_data"
    }
   ],
   "source": [
    "show_convergence_rate_triangle(simple_funcion_triangle, 1/24)"
   ]
  },
  {
   "cell_type": "markdown",
   "metadata": {
    "colab_type": "text",
    "id": "_4GLBv0zWr7m"
   },
   "source": [
    "# **Discussion**"
   ]
  },
  {
   "cell_type": "markdown",
   "metadata": {
    "colab_type": "text",
    "id": "6bcsDSoRXHZe"
   },
   "source": [
    "We see that each of these quadrature methods work, even if for general function, the Monte Carlo methods seem more interesting. The test of the convergence rate for these last methods might have been more advanced than just printing the ratios, but it already gives a goof hint that the convergence rate is indeed in $\\frac{1}{\\sqrt{n}}$."
   ]
  }
 ],
 "metadata": {
  "colab": {
   "include_colab_link": true,
   "name": "template-report-lab-X.ipynb",
   "provenance": []
  },
  "kernelspec": {
   "display_name": "Python 3",
   "language": "python",
   "name": "python3"
  },
  "language_info": {
   "codemirror_mode": {
    "name": "ipython",
    "version": 3
   },
   "file_extension": ".py",
   "mimetype": "text/x-python",
   "name": "python",
   "nbconvert_exporter": "python",
   "pygments_lexer": "ipython3",
   "version": "3.6.8"
  },
  "toc": {
   "base_numbering": 1,
   "nav_menu": {},
   "number_sections": true,
   "sideBar": true,
   "skip_h1_title": false,
   "title_cell": "Table of Contents",
   "title_sidebar": "Contents",
   "toc_cell": true,
   "toc_position": {},
   "toc_section_display": true,
   "toc_window_display": false
  }
 },
 "nbformat": 4,
 "nbformat_minor": 1
}
