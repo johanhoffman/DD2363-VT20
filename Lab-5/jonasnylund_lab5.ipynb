{
  "nbformat": 4,
  "nbformat_minor": 0,
  "metadata": {
    "colab": {
      "name": "Lab 5",
      "provenance": [],
      "collapsed_sections": [],
      "include_colab_link": true
    },
    "kernelspec": {
      "name": "python3",
      "display_name": "Python 3"
    }
  },
  "cells": [
    {
      "cell_type": "markdown",
      "metadata": {
        "id": "view-in-github",
        "colab_type": "text"
      },
      "source": [
        "<a href=\"https://colab.research.google.com/github/johanhoffman/DD2363-VT20/blob/JonasNylund/Lab-5/jonasnylund_lab5.ipynb\" target=\"_parent\"><img src=\"https://colab.research.google.com/assets/colab-badge.svg\" alt=\"Open In Colab\"/></a>"
      ]
    },
    {
      "cell_type": "markdown",
      "metadata": {
        "id": "6RgtXlfYO_i7",
        "colab_type": "text"
      },
      "source": [
        "# **Lab 5: Quadrature**\n",
        "**Jonas Nylund**"
      ]
    },
    {
      "cell_type": "markdown",
      "metadata": {
        "id": "9x_J5FVuPzbm",
        "colab_type": "text"
      },
      "source": [
        "# **Abstract**"
      ]
    },
    {
      "cell_type": "markdown",
      "metadata": {
        "id": "yJipbXtnjrJZ",
        "colab_type": "text"
      },
      "source": [
        "In this lab report we implement a few different methods for numeric integration and verify their accuracy. All implementations gives the desired output."
      ]
    },
    {
      "cell_type": "markdown",
      "metadata": {
        "id": "OkT8J7uOWpT3",
        "colab_type": "text"
      },
      "source": [
        "#**About the code**"
      ]
    },
    {
      "cell_type": "markdown",
      "metadata": {
        "id": "HmB2noTr1Oyo",
        "colab_type": "text"
      },
      "source": [
        "A short statement on who is the author of the file, and if the code is distributed under a certain license. "
      ]
    },
    {
      "cell_type": "code",
      "metadata": {
        "id": "Pdll1Xc9WP0e",
        "colab_type": "code",
        "outputId": "14691c4d-a896-4627-97b8-bfca9a9b867a",
        "colab": {
          "base_uri": "https://localhost:8080/",
          "height": 35
        }
      },
      "source": [
        "\"\"\"This program is a template for lab reports in the course\"\"\"\n",
        "\"\"\"DD2363 Methods in Scientific Computing, \"\"\"\n",
        "\"\"\"KTH Royal Institute of Technology, Stockholm, Sweden.\"\"\"\n",
        "\n",
        "# Copyright (C) 2019 Jonas Nylund (jonasnyl@kth.se)\n",
        "\n",
        "# This file is part of the course DD2363 Methods in Scientific Computing\n",
        "# KTH Royal Institute of Technology, Stockholm, Sweden\n",
        "#\n",
        "# This is free software: you can redistribute it and/or modify\n",
        "# it under the terms of the GNU Lesser General Public License as published by\n",
        "# the Free Software Foundation, either version 3 of the License, or\n",
        "# (at your option) any later version."
      ],
      "execution_count": 2,
      "outputs": [
        {
          "output_type": "execute_result",
          "data": {
            "text/plain": [
              "'KTH Royal Institute of Technology, Stockholm, Sweden.'"
            ]
          },
          "metadata": {
            "tags": []
          },
          "execution_count": 2
        }
      ]
    },
    {
      "cell_type": "markdown",
      "metadata": {
        "id": "28xLGz8JX3Hh",
        "colab_type": "text"
      },
      "source": [
        "# **Set up environment**"
      ]
    },
    {
      "cell_type": "markdown",
      "metadata": {
        "id": "D2PYNusD08Wa",
        "colab_type": "text"
      },
      "source": [
        "To have access to the neccessary modules you have to run this cell. If you need additional modules, this is where you add them. "
      ]
    },
    {
      "cell_type": "code",
      "metadata": {
        "id": "Xw7VlErAX7NS",
        "colab_type": "code",
        "colab": {}
      },
      "source": [
        "# Load neccessary modules.\n",
        "from google.colab import files\n",
        "\n",
        "import time\n",
        "import numpy as np\n",
        "from scipy import optimize;\n",
        "import matplotlib.pyplot as plt;\n"
      ],
      "execution_count": 0,
      "outputs": []
    },
    {
      "cell_type": "markdown",
      "metadata": {
        "id": "gnO3lhAigLev",
        "colab_type": "text"
      },
      "source": [
        "# **Introduction**"
      ]
    },
    {
      "cell_type": "markdown",
      "metadata": {
        "id": "l5zMzgPlRAF6",
        "colab_type": "text"
      },
      "source": [
        "We include here our own implementation of Newtons method for systems, as numpys built in one did not converge for some reason. \n"
      ]
    },
    {
      "cell_type": "code",
      "metadata": {
        "id": "UQe5nSlxBCeT",
        "colab_type": "code",
        "colab": {}
      },
      "source": [
        "def grad(f, x, delta=10**(-6)):\n",
        "  d = np.zeros(len(x));\n",
        "  for i in range(len(x)):\n",
        "    dx = np.zeros(len(x));\n",
        "    dx[i] += delta/2;\n",
        "    d[i] = (f(x+dx)-f(x-dx))/delta;\n",
        "\n",
        "  return d;\n",
        "\n",
        "def jacobi(f, x, delta=10**(-6)):\n",
        "  n = len(x);\n",
        "  J = np.zeros((n,n));\n",
        "  for i in range(n):\n",
        "    J[i,:] = grad(f[i], x, delta=delta);\n",
        "\n",
        "  return J;\n",
        "\n",
        "def newtonVector(f, x0=0, tolerance=10**(-10), max_iter=100):\n",
        "  if(x0 is 0):\n",
        "    x = np.zeros(len(f)-1);\n",
        "  else:\n",
        "    assert len(f)-1 == len(x0);\n",
        "    x = x0;\n",
        "\n",
        "  i=0;\n",
        "  while (np.linalg.norm(f[0](x)) > tolerance):\n",
        "    J = jacobi(f[1:],x);  ## f[0] is vector function, f[1:] is f1,f2...\n",
        "    dx = np.linalg.solve(J, f[0](x));\n",
        "    x -= dx;\n",
        "\n",
        "    i+=1;\n",
        "    if(i> max_iter):\n",
        "      raise ArithmeticError(\"Function does not converge\");\n",
        "\n",
        "  return x;"
      ],
      "execution_count": 0,
      "outputs": []
    },
    {
      "cell_type": "markdown",
      "metadata": {
        "id": "WeFO9QMeUOAu",
        "colab_type": "text"
      },
      "source": [
        "# **Methods**"
      ]
    },
    {
      "cell_type": "markdown",
      "metadata": {
        "id": "qoJ0EB9TLq_G",
        "colab_type": "text"
      },
      "source": [
        "**Gauss Quadrature**\n",
        "\n",
        "The quad points and weights are calculated from $$ \\int_a^b p(x)dx = w_0p(x_0)+w_1p(x_1) $$ for a general cubic polynomial $p(x) = c_0 + c_1x + c_2x^2 + c_3x^3$. This gives us a system of equations;\n",
        "\\begin{align}\n",
        "c_0(b-a) =~& c_0(w_0+w_1) \\\\\n",
        "\\frac12 c_1(b^2-a^2) =~ & c_1(w_0x_0 + w_1x_1)\\\\\n",
        "\\frac23 c_2(b^3-a^3) =~ & c_2(w_0x_0^2+w_1x_1^2)\\\\\n",
        "\\frac34 c_3(b^4-a^4) =~ & c_3(w_0w_0^3+w_1x_1^3)\\\\\n",
        "\\end{align}\n",
        "\n",
        "Which we for instance can solve using Newtons method for systems of equations.\n",
        "For the case of $a=0, b=1$, we get $x_0\\approx 0.211, x_1 \\approx 0.778, w_0=w_1=0.5$.\n",
        "\n",
        "The integral can then be approximated as follows."
      ]
    },
    {
      "cell_type": "code",
      "metadata": {
        "id": "4wfNW0l10FJC",
        "colab_type": "code",
        "colab": {}
      },
      "source": [
        "def getQuadPoints(a,b):\n",
        "  fns = [\n",
        "      lambda x: x[0]+x[1]-(b-a),\n",
        "      lambda x: x[0]*x[2] + x[1]*x[3] - 1/2*(b**2-a**2),\n",
        "      lambda x: x[0]*x[2]**2 + x[1]*x[3]**2 -1/3*(b**3-a**3),\n",
        "      lambda x: x[0]*x[2]**3 + x[1]*x[3]**3 -1/4*(b**4-a**4)\n",
        "  ];\n",
        "  f = lambda x: [fns[i](x) for i in range(4)];\n",
        "\n",
        "  x0 = [1,1,a,b];\n",
        "  return newtonVector([f]+fns, x0=x0);\n",
        "\n",
        "def gaussQuad(f,a=0,b=1):\n",
        "  if(a == 0 and b == 1):\n",
        "    qp = [0.5, 0.5, 0.21132487, 0.78867513];\n",
        "  else:\n",
        "    qp = getQuadPoints(a,b);\n",
        "\n",
        "  return qp[0]*f(qp[2]) + qp[1]*f(qp[3]);"
      ],
      "execution_count": 0,
      "outputs": []
    },
    {
      "cell_type": "code",
      "metadata": {
        "id": "EU7JoP32PSJY",
        "colab_type": "code",
        "colab": {
          "base_uri": "https://localhost:8080/",
          "height": 54
        },
        "outputId": "8ed2c252-975d-494a-89da-57453b0a91dd"
      },
      "source": [
        "def oneDimCubePolynomial():\n",
        "  c = [np.random.rand()*2-1 for i in range(4)];\n",
        "  C = [0] + [c[i]/(i+1) for i in range(len(c))];\n",
        "\n",
        "  p = np.polynomial.polynomial.Polynomial(c);\n",
        "  P = np.polynomial.polynomial.Polynomial(C);\n",
        "\n",
        "  return p,P;\n",
        "\n",
        "p,P = oneDimCubePolynomial();\n",
        "\n",
        "print(getQuadPoints(0,1));\n",
        "print(\"Diff quad(p,0,1) - int_0^1(p(x)dx:\", gaussQuad(p)-(P(1)-P(0)));"
      ],
      "execution_count": 68,
      "outputs": [
        {
          "output_type": "stream",
          "text": [
            "[0.5        0.5        0.21132487 0.78867513]\n",
            "Diff quad(p,0,1) - int_0^1(p(x)dx: -4.172083567510754e-09\n"
          ],
          "name": "stdout"
        }
      ]
    },
    {
      "cell_type": "markdown",
      "metadata": {
        "id": "5ZPV2-cBLpBf",
        "colab_type": "text"
      },
      "source": [
        "**3-point edge midpoint on the unit triangle**\n",
        "\n",
        "In the three point edge midpoint quadrature, the quad points are, per definition, the points on the middle of the edges of the unit triangle $(0,1/2), (1/2,0), (1/2,1/2)$.\n",
        "\n",
        "The exact solution is given by the integral \n",
        "$$\n",
        "\\int_{x=0}^1\\int_{y=0}^{x-1} p(x,y)dydx\n",
        "$$ which for a general quadratic polyomial in $p(x,y) = c_0x^2+c_1y^2+c_2xy+c_3x+c_4y+c_5$ gives\n",
        "$$\n",
        "\\int_{x=0}^1\\int_{y=0}^{x-1} c_0x^2+c_1y^2+c_2xy+c_3x+c_4y+c_5 dydx \n",
        "$$\n",
        "$$\n",
        "= \\int_0^1 \\left[c_0x^2(x-1) + \\frac{c_1}3(1-x)^3 + \\frac{c_2}2x(1-x)^2+c_3x(1-x)+\\frac{c_4}2(1-x)^2+c_5(1-x)\\right]dx\n",
        "$$\n",
        "which is a cubic polynomial in one variable, that we can solve exactly with a gauss quadrature from problem 1."
      ]
    },
    {
      "cell_type": "code",
      "metadata": {
        "id": "RNJvmKtC-IpZ",
        "colab_type": "code",
        "colab": {}
      },
      "source": [
        "def threePointMidpointQuad(f):\n",
        "  return (f(0.5,0) + f(0,0.5) + f(0.5, 0.5))/6;"
      ],
      "execution_count": 0,
      "outputs": []
    },
    {
      "cell_type": "code",
      "metadata": {
        "id": "j8TXem0gPVcS",
        "colab_type": "code",
        "colab": {
          "base_uri": "https://localhost:8080/",
          "height": 35
        },
        "outputId": "4a7f4c2d-60f7-4ab8-9fca-037ac240e45e"
      },
      "source": [
        "def twoDimQuadPolynomial():\n",
        "  c = [np.random.rand()*2-1 for i in range(6)];\n",
        "  f1 = lambda x,y: c[0]*x**2 + c[1]*y**2 + c[2]*x*y + c[3]*x + c[4]*y + c[5];\n",
        "  f2 = lambda x: c[0]*(1-x)*x**2 + c[1]/3*(1-x)**3 + c[2]/2*(1-x)**2*x + c[3]*x*(1-x)+c[4]/2*(1-x)**2+c[5]*(1-x);\n",
        "  return f1,f2;\n",
        "\n",
        "f1,f2 = twoDimQuadPolynomial();\n",
        "print(np.abs(threePointMidpointQuad(f1)-gaussQuad(f2)));"
      ],
      "execution_count": 69,
      "outputs": [
        {
          "output_type": "stream",
          "text": [
            "9.592368011013264e-10\n"
          ],
          "name": "stdout"
        }
      ]
    },
    {
      "cell_type": "markdown",
      "metadata": {
        "id": "2v8MEZBrRao5",
        "colab_type": "text"
      },
      "source": [
        "**Monte Carlo quadrature**\n",
        "\n",
        "Sample points randomly on the unit interval, and compute the arithmetic average of the function over the interval. The integral is then computed as the interval length times the average.\n",
        "The one and two dimensional variants of the Monte Carlo integration is combined into a single function, that should also work for an number of dimensions.\n",
        "\n",
        "The volume of a n-D simplex is $\\frac1{n!}$ [(P. Stein, A Note on the Volume of a Simplex)](https://www.jstor.org/stable/2315353?origin=crossref&seq=1#metadata_info_tab_contents), and so the average value of the function is multiplied by $1/n!$ to get the integral in the unit simplex.\n",
        "\n",
        "Uniformly samling points in the volume is done by first calculating a random point on the limiting surface, given by $\\sum_{i=1}^n x_i=1$, and then picking a random point on a ray from origo to the point on the surface. The point on the surface can be uniformly picked by splitting the interval [0 1] into n sections, and calculating the length of each interval. This gives a random point on the surface. \n",
        "Since we want to pick the points unifomrly in the volume, we bias the distance from origo by a power of 1/n, since the volume of a n-simplex grows as $r^n$ with distance $r$ from origo. This ensures that we get a uniform distribution."
      ]
    },
    {
      "cell_type": "code",
      "metadata": {
        "id": "k7Js70o1RZ2K",
        "colab_type": "code",
        "colab": {}
      },
      "source": [
        "def point(dim):\n",
        "  x = np.random.rand(dim-1);\n",
        "  x = np.concatenate((x,[0,1]));\n",
        "  x = np.diff(np.sort(x));\n",
        "  return x*np.power(np.random.rand(), 1/dim);\n",
        "\n",
        "def monteCarloQuad(f, dim, n):\n",
        "  avg = 0;\n",
        "  for i in range(n):\n",
        "    x = point(dim);\n",
        "    v = f(*x);\n",
        "    avg += v;\n",
        "\n",
        "  return avg/(n * np.math.factorial(dim));"
      ],
      "execution_count": 0,
      "outputs": []
    },
    {
      "cell_type": "markdown",
      "metadata": {
        "id": "SsQLT38gVbn_",
        "colab_type": "text"
      },
      "source": [
        "# **Results**"
      ]
    },
    {
      "cell_type": "code",
      "metadata": {
        "id": "UVQEgnWLNXgT",
        "colab_type": "code",
        "colab": {
          "base_uri": "https://localhost:8080/",
          "height": 90
        },
        "outputId": "767cc2b1-5424-40bd-915d-7a3311d6f228"
      },
      "source": [
        "def test_gauss():\n",
        "  p,P = oneDimCubePolynomial();\n",
        "  return  gaussQuad(p)-(P(1)-P(0)) < 10**(-6);\n",
        "\n",
        "def test_mp():\n",
        "  f1,f2 = twoDimQuadPolynomial();\n",
        "  return np.abs(threePointMidpointQuad(f1)-gaussQuad(f2)) < 10**(-6);\n",
        "\n",
        "n_tests = 1000;\n",
        "print(\"Testing Gauss quad...\");\n",
        "for i in range(n_tests):\n",
        "  assert test_gauss();\n",
        "print(str(n_tests) + \" tests passed\");\n",
        "print(\"Testing three point midpoint quad...\");\n",
        "for i in range(n_tests):\n",
        "  assert test_mp();\n",
        "print(str(n_tests) + \" tests passed\");"
      ],
      "execution_count": 66,
      "outputs": [
        {
          "output_type": "stream",
          "text": [
            "Testing Gauss quad...\n",
            "1000 tests passed\n",
            "Testing three point midpoint quad...\n",
            "1000 tests passed\n"
          ],
          "name": "stdout"
        }
      ]
    },
    {
      "cell_type": "markdown",
      "metadata": {
        "id": "uHvviKs34ElQ",
        "colab_type": "text"
      },
      "source": [
        "**Distribution of random points**\n",
        "It is important that the points that we pick are uniformly distributed for monte carlo integration.\n",
        "We plot the one d-case with two coordinates to make it easier to see the distribution."
      ]
    },
    {
      "cell_type": "code",
      "metadata": {
        "id": "ap_iGCTyMDIU",
        "colab_type": "code",
        "colab": {
          "base_uri": "https://localhost:8080/",
          "height": 265
        },
        "outputId": "7afe0ebb-712e-4e13-a571-a8f758b4c797"
      },
      "source": [
        "x = [];\n",
        "y = [];\n",
        "for i in range(500):\n",
        "  x.append(point(1));\n",
        "  y.append(point(1));\n",
        "plt.scatter(x,y);"
      ],
      "execution_count": 61,
      "outputs": [
        {
          "output_type": "display_data",
          "data": {
            "image/png": "[encoded data removed]",
            "text/plain": [
              "<Figure size 432x288 with 1 Axes>"
            ]
          },
          "metadata": {
            "tags": []
          }
        }
      ]
    },
    {
      "cell_type": "code",
      "metadata": {
        "id": "inzeCJYaMh8r",
        "colab_type": "code",
        "colab": {
          "base_uri": "https://localhost:8080/",
          "height": 268
        },
        "outputId": "2018d6e8-e68d-4399-8ec8-e3aa9a8cdf0d"
      },
      "source": [
        "x = [];\n",
        "y = [];\n",
        "for i in range(500):\n",
        "  p = point(2);\n",
        "  x.append(p[0]);\n",
        "  y.append(p[1]);\n",
        "plt.scatter(x,y);"
      ],
      "execution_count": 62,
      "outputs": [
        {
          "output_type": "display_data",
          "data": {
            "image/png": "[encoded data removed]",
            "text/plain": [
              "<Figure size 432x288 with 1 Axes>"
            ]
          },
          "metadata": {
            "tags": []
          }
        }
      ]
    },
    {
      "cell_type": "markdown",
      "metadata": {
        "id": "vsTtdR7hM9BP",
        "colab_type": "text"
      },
      "source": [
        "Test Monte carlo in 1D. Exact integral used as reference value."
      ]
    },
    {
      "cell_type": "code",
      "metadata": {
        "id": "SHzKIakZxJeX",
        "colab_type": "code",
        "outputId": "306e1d64-b041-4e62-d3d4-196e818e214f",
        "colab": {
          "base_uri": "https://localhost:8080/",
          "height": 283
        }
      },
      "source": [
        "f,F = oneDimCubePolynomial();\n",
        "\n",
        "err = [];\n",
        "N = [];\n",
        "n = 10;\n",
        "\n",
        "for i in range(5):\n",
        "  N.append(n**i);\n",
        "  error = 0;\n",
        "  for j in range(100):\n",
        "    error += np.abs(monteCarloQuad(f, 1, n**i)-F(1))/np.abs(F(1));\n",
        "  err.append(error/100);\n",
        "  \n",
        "plt.figure();\n",
        "plt.xlabel(\"Iterations\");\n",
        "plt.ylabel(\"Relative error\");\n",
        "plt.loglog(N, 1/np.sqrt(N)*err[0]*np.sqrt(N[0]), label=\"1/sqrt(N)\");\n",
        "plt.loglog(N, err, label=\"relative error\");\n",
        "plt.legend();"
      ],
      "execution_count": 59,
      "outputs": [
        {
          "output_type": "display_data",
          "data": {
            "image/png": "[encoded data removed]",
            "text/plain": [
              "<Figure size 432x288 with 1 Axes>"
            ]
          },
          "metadata": {
            "tags": []
          }
        }
      ]
    },
    {
      "cell_type": "markdown",
      "metadata": {
        "id": "Xzb_9ArwNAc5",
        "colab_type": "text"
      },
      "source": [
        "Monte Carlo in 2D. Three point midpoint integral value used as reference value. "
      ]
    },
    {
      "cell_type": "code",
      "metadata": {
        "id": "nf_RmrQ0ger9",
        "colab_type": "code",
        "outputId": "64c4b8db-dc14-4750-c782-a36672556bac",
        "colab": {
          "base_uri": "https://localhost:8080/",
          "height": 283
        }
      },
      "source": [
        "f,_ = twoDimQuadPolynomial();\n",
        "ref = threePointMidpointQuad(f);\n",
        "\n",
        "n = 10;\n",
        "N = [];\n",
        "error = [];\n",
        "for i in range(1,6):\n",
        "  err = 0;\n",
        "  for j in range(50):\n",
        "    err += np.abs((monteCarloQuad(f, 2, n**i)-ref)/ref);\n",
        "  error.append(err/100);\n",
        "  N.append(n**i);\n",
        "\n",
        "plt.figure();\n",
        "plt.loglog(N, 1/np.sqrt(N)*error[0]*np.sqrt(N[0]), label=\"1/sqrt(N)\");\n",
        "plt.loglog(N, error, label=\"relative error\");\n",
        "plt.xlabel(\"Iterations\");\n",
        "plt.ylabel(\"Relative error\");\n",
        "plt.legend();"
      ],
      "execution_count": 60,
      "outputs": [
        {
          "output_type": "display_data",
          "data": {
            "image/png": "[encoded data removed]",
            "text/plain": [
              "<Figure size 432x288 with 1 Axes>"
            ]
          },
          "metadata": {
            "tags": []
          }
        }
      ]
    },
    {
      "cell_type": "markdown",
      "metadata": {
        "id": "_4GLBv0zWr7m",
        "colab_type": "text"
      },
      "source": [
        "# **Discussion**"
      ]
    },
    {
      "cell_type": "markdown",
      "metadata": {
        "id": "6bcsDSoRXHZe",
        "colab_type": "text"
      },
      "source": [
        "All the implementations workes as prescribed, and Monte Carlo integration implemented for any unit simplex. The convergence rate follows a $\\frac{1}{\\sqrt n}$ dependence.  "
      ]
    }
  ]
}