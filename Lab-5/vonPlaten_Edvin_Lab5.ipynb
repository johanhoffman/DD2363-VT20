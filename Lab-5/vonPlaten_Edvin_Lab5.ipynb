{
  "nbformat": 4,
  "nbformat_minor": 0,
  "metadata": {
    "colab": {
      "name": "vonPlaten_Edvin_Lab5.ipynb",
      "provenance": [],
      "collapsed_sections": []
    },
    "kernelspec": {
      "name": "python3",
      "display_name": "Python 3"
    }
  },
  "cells": [
    {
      "cell_type": "markdown",
      "metadata": {
        "id": "6RgtXlfYO_i7",
        "colab_type": "text"
      },
      "source": [
        "# **Lab 5: Quadrature**\n",
        "**Edvin von Platen**"
      ]
    },
    {
      "cell_type": "markdown",
      "metadata": {
        "id": "4zQgDZPjGk4k",
        "colab_type": "text"
      },
      "source": [
        "[**COLAB LINK**](https://colab.research.google.com/drive/1OV_0JpDL9A3d5JPUhaaXBgv6sAU_cKJ5)"
      ]
    },
    {
      "cell_type": "markdown",
      "metadata": {
        "id": "9x_J5FVuPzbm",
        "colab_type": "text"
      },
      "source": [
        "# **Abstract**"
      ]
    },
    {
      "cell_type": "markdown",
      "metadata": {
        "id": "yJipbXtnjrJZ",
        "colab_type": "text"
      },
      "source": [
        "In this lab we implement and evaluate different quadrature methods, numerical methods for integration. We implement the following methods:\n",
        "\n",
        "  1. 2-point Gauss quadrature over a unit interval - Deterministic one dimensional rule.\n",
        "  2. 3-point edge midpoint quadrature - Deterministic rule over a triangle.\n",
        "  3. Monte Carlo quadrature over unit interval - Probabilistic one dimensional rule.\n",
        "  4. Monte Carlo quadrature over reference triangle - Probablistic rule over a triangle.\n",
        "\n",
        "The implementation of the methods appear to be sound and they perform as expected."
      ]
    },
    {
      "cell_type": "markdown",
      "metadata": {
        "id": "OkT8J7uOWpT3",
        "colab_type": "text"
      },
      "source": [
        "#**About the code**"
      ]
    },
    {
      "cell_type": "code",
      "metadata": {
        "id": "Pdll1Xc9WP0e",
        "colab_type": "code",
        "outputId": "f74fa781-413b-41e7-a2ec-1bba2288ad4f",
        "colab": {
          "base_uri": "https://localhost:8080/",
          "height": 34
        }
      },
      "source": [
        "\"\"\"This program is a template for lab reports in the course\"\"\"\n",
        "\"\"\"DD2363 Methods in Scientific Computing, \"\"\"\n",
        "\"\"\"KTH Royal Institute of Technology, Stockholm, Sweden.\"\"\"\n",
        "\n",
        "# Copyright (C) 2020 Edvin von Platen (edvinvp@kth.se)\n",
        "\n",
        "# This file is part of the course DD2363 Methods in Scientific Computing\n",
        "# KTH Royal Institute of Technology, Stockholm, Sweden\n",
        "#\n",
        "# This is free software: you can redistribute it and/or modify\n",
        "# it under the terms of the GNU Lesser General Public License as published by\n",
        "# the Free Software Foundation, either version 3 of the License, or\n",
        "# (at your option) any later version."
      ],
      "execution_count": 0,
      "outputs": [
        {
          "output_type": "execute_result",
          "data": {
            "text/plain": [
              "'KTH Royal Institute of Technology, Stockholm, Sweden.'"
            ]
          },
          "metadata": {
            "tags": []
          },
          "execution_count": 1
        }
      ]
    },
    {
      "cell_type": "markdown",
      "metadata": {
        "id": "28xLGz8JX3Hh",
        "colab_type": "text"
      },
      "source": [
        "# **Set up environment**"
      ]
    },
    {
      "cell_type": "code",
      "metadata": {
        "id": "Xw7VlErAX7NS",
        "colab_type": "code",
        "colab": {}
      },
      "source": [
        "# Load neccessary modules.\n",
        "from google.colab import files\n",
        "\n",
        "import time\n",
        "import numpy as np\n",
        "\n",
        "from matplotlib import pyplot as plt\n",
        "from matplotlib import tri\n",
        "from matplotlib import axes\n",
        "from mpl_toolkits.mplot3d import Axes3D"
      ],
      "execution_count": 0,
      "outputs": []
    },
    {
      "cell_type": "markdown",
      "metadata": {
        "id": "gnO3lhAigLev",
        "colab_type": "text"
      },
      "source": [
        "# **Introduction**"
      ]
    },
    {
      "cell_type": "markdown",
      "metadata": {
        "id": "l5zMzgPlRAF6",
        "colab_type": "text"
      },
      "source": [
        "In this report we implement and evaluate different *quadrature* methods, which are numerical methods to approximate integrals. To approximate an integral using quadrature, a quatrature rule is defined (11.2),\n",
        "$$\n",
        "\\int_a^b f(x) dx \\approx \\sum_{i=0}^n f(x_i)w_i,\n",
        "$$\n",
        "the points $x_i \\in [a,b]$ are known as quadrature points and $w_i \\in R$ as the quadrature weights.\n",
        "\n",
        "All materials reference are from the course [DD2363 Methods in Scientific Computing](https://kth.instructure.com/courses/17068) lecture notes."
      ]
    },
    {
      "cell_type": "markdown",
      "metadata": {
        "id": "WeFO9QMeUOAu",
        "colab_type": "text"
      },
      "source": [
        "# **Methods**"
      ]
    },
    {
      "cell_type": "markdown",
      "metadata": {
        "id": "zF4iBj5VURZx",
        "colab_type": "text"
      },
      "source": [
        "## **Gauss Quadrature**\n",
        "Gauss quadrature rules are constructed such that it is exact for polynomial integrands of some degree, a rule of order $n$ is exact for polynomials of a certain degree $q$ or less.\n",
        "\n",
        "Let $p\\in P^q([a,b])$ and,\n",
        "$$\n",
        "p(x) = \\sum_{i=0}^q c_i \\varphi_i(x), \\ \\ x\\in [a,b],\n",
        "$$\n",
        "where $\\{\\varphi_i(x)\\}_{i=0}^q$ is a polynomial basis and $c_i$ the coordinates. As we want the rule to be exact for $p(x)$ we determine the quadrature points $x_i$ and their weights $w_i$ from,\n",
        "$$\n",
        "\\sum_{j=0}^{n-1} p(x_j)w_j = \\int_a^b p(x)dx,\n",
        "$$\n",
        "which is equivalent to solvíng (11.4),\n",
        "$$\n",
        "\\sum_{j=0}^{n-1} \\varphi_i(x_j)w_j = \\int_a^b \\varphi_i(x)dx, \\ \\ i = 0,...,q.\n",
        "$$\n"
      ]
    },
    {
      "cell_type": "markdown",
      "metadata": {
        "id": "YOAPv5DVUZ2h",
        "colab_type": "text"
      },
      "source": [
        "### **2-Point Guass Quadrature over $[0,1]$**\n",
        "\n",
        "Two point Guass quadrature rule is constructed to be exact for qubic polynomials, i.e. $p\\in P^3([0,1])$ and,\n",
        "$$\n",
        "\\int_0^1 p(x) = p(x_0)w_0 + p(x_1)w_1.\n",
        "$$\n",
        "We need to find the quadrature points $x_0$ and $x_1$, and the weights $w_0$ and $w_1$. Let $p(x) = c_3x^3 + c_2 x^2 + c_1x + c_0$, then,\n",
        "$$\n",
        "\\int_0^1 p(x) = \\frac{c_3}{4} + \\frac{c_2}{3} + \\frac{c_1}{2} +c_0.\n",
        "$$\n",
        "Expanding the first equation gives us,\n",
        "\\begin{align}\n",
        "c_3(\\frac{1}{4}-x_0^3w_0 - x_1^3w_1) + c_2(\\frac{1}{3}-x_0^2w_0 - x_1^2w_1) +c_1(\\frac{1}{2}-x_0w_0 - x_1w_1) +  c_0(1-w_0 - w_1) = 0.\n",
        "\\end{align}\n",
        "With solutions,\n",
        "\\begin{align*}\n",
        "& w_0 = \\frac{1}{2}, \\ w_1 = \\frac{1}{2}, \\ x_0 =\\frac{1}{6}(3-\\sqrt{3}),\\ x_1 = \\frac{1}{6}(3+\\sqrt{3}), \\ \\text{and} \\\\\n",
        "& w_0 = \\frac{1}{2}, \\ w_1 = \\frac{1}{2}, \\ x_0 =\\frac{1}{6}(3+\\sqrt{3}),\\ x_1 = \\frac{1}{6}(3-\\sqrt{3}).\n",
        "\\end{align*}\n",
        "We use the first in our implementation below."
      ]
    },
    {
      "cell_type": "code",
      "metadata": {
        "id": "4Ot8DJqFMDRM",
        "colab_type": "code",
        "colab": {}
      },
      "source": [
        "def two_point_gauss_quadrature(f):\n",
        "  x_0 = (1/6)*(3 - np.sqrt(3))\n",
        "  x_1 = (1/6)*(3 + np.sqrt(3))\n",
        "  return 0.5*f(x_0) + 0.5*f(x_1)"
      ],
      "execution_count": 0,
      "outputs": []
    },
    {
      "cell_type": "markdown",
      "metadata": {
        "id": "1EXyl18dda0j",
        "colab_type": "text"
      },
      "source": [
        "### **3-point edge midpoint quadrature over a reference triangle**\n",
        "The 3-point edge midpoint quadrature rule is constructed to be exact for quadratic functions. Let $T$ be the reference triangle with vertices $(0,0),(1,0)$, and $(1,0)$. From example (11.5) the quadrature points are the midpoints of the edges, $x_0 = (0,5), \\ x_1 = (0.5,0.5),\\ x_2 = (0,0.5)$, and the weights are $w_0 = \\frac{1}{6}, \\ w_1 = \\frac{1}{6}, \\ w_2 = \\frac{1}{6}$. \n",
        "\n",
        "We give an implementation of the quadrature rule below."
      ]
    },
    {
      "cell_type": "code",
      "metadata": {
        "id": "RbeG0GaAhASK",
        "colab_type": "code",
        "colab": {}
      },
      "source": [
        "def three_point_edge_mid_quadrature(f):\n",
        "  return (1/6)*(f(0,0.5) + f(0.5,0.5) + f(0.5,0))"
      ],
      "execution_count": 0,
      "outputs": []
    },
    {
      "cell_type": "markdown",
      "metadata": {
        "id": "52Gp3tDknErt",
        "colab_type": "text"
      },
      "source": [
        "Note that the analytical integral of a function over the reference triangle is given by,\n",
        "$$\n",
        "\\int_T f(x,y) = \\int_0^1 \\int_0^{1-x} f(x,y)dxdy.\n",
        "$$"
      ]
    },
    {
      "cell_type": "markdown",
      "metadata": {
        "id": "bKgpEEuLtatX",
        "colab_type": "text"
      },
      "source": [
        "### **Monte Carlo quadrature over a unit interval**\n",
        "\n",
        "In contrast to the two deterministic methods implemented above, Monte Carlo methods are probabilistic (section 12.4). Let $g: D\\to R,  \\ \\ D \\subset R^d$ be the function which integral we want to approximate, the idea is to sample $n$ independent uniformly distributed random variables $X_i : \\Omega \\to D$ and approximate the expected value of $g$ using the sample mean $\\bar{g} = \\frac{1}{n} \\sum_{i=1}^n g(x_i)$, since by the law of large numbers,\n",
        "$$\n",
        "\\lim_{n\\to\\infty} \\bar{g} = E(g).\n",
        "$$\n",
        "We can then approximate the integral,\n",
        "$$\n",
        "\\int_D g(x)dx\n",
        "$$\n",
        "since\n",
        "$$\n",
        "E(g) = \\frac{1}{|D|}\\int_D g(x)dx.\n",
        "$$\n",
        "We give an implementation of Monte Carlo quadrature over a unit interval below, where $|D| = 1$."
      ]
    },
    {
      "cell_type": "code",
      "metadata": {
        "id": "gabWXRo7uvyR",
        "colab_type": "code",
        "colab": {}
      },
      "source": [
        "def monte_carlo_quadrature(f, n):\n",
        "  return np.sum(f(np.random.uniform(size=n))) / n"
      ],
      "execution_count": 0,
      "outputs": []
    },
    {
      "cell_type": "markdown",
      "metadata": {
        "id": "gj7PIwxOyvcr",
        "colab_type": "text"
      },
      "source": [
        "### **Monte Carlo quadrature over a reference triangle**\n",
        "\n",
        "Monte Carlo quadrature over a reference triangle is very similar to the unit interval case. To sample uniformly from the reference triangle we use a uniform distribution over the unit square with the lower left corner at $(0,0)$ and accept the sample if it is located in the triangle. We also have that the area of the reference triangle is $|D| = \\frac{1}{2}$.\n"
      ]
    },
    {
      "cell_type": "code",
      "metadata": {
        "id": "L1QtHHmPzQYn",
        "colab_type": "code",
        "colab": {}
      },
      "source": [
        "def triangle_monte_carlo_quadrature(f, n):\n",
        "  # Probably exists better ways to do this\n",
        "  accepted = 0\n",
        "  s = 0\n",
        "  while accepted < n:\n",
        "    # sample from unit square and accept if within triangle.\n",
        "    x = np.random.uniform()\n",
        "    y = np.random.uniform()\n",
        "    if y < 1 - x:\n",
        "      s += f(x,y)\n",
        "      accepted += 1 \n",
        "  return s/(2*n)"
      ],
      "execution_count": 0,
      "outputs": []
    },
    {
      "cell_type": "markdown",
      "metadata": {
        "id": "SsQLT38gVbn_",
        "colab_type": "text"
      },
      "source": [
        "# **Results**"
      ]
    },
    {
      "cell_type": "markdown",
      "metadata": {
        "id": "RLwlnOzuV-Cd",
        "colab_type": "text"
      },
      "source": [
        "### **2-Point Gauss Quadrature over $[0,1]$**\n",
        "2-Point Gauss quadrature should be exact for cubic polynomials, we test the implementation using the following two polynomials,\n",
        "$$\n",
        "p(x) = \\frac{1}{2}x^3 - 4x + 3, \\ \\ q(x) = x^2 - \\frac{1}{3}.\n",
        "$$\n",
        "Which have the exact integral values,\n",
        "$$\n",
        "\\int_0^1 p(x) = 1.125, \\ \\ \\int_0^1 q(x) = 0.\n",
        "$$"
      ]
    },
    {
      "cell_type": "code",
      "metadata": {
        "id": "PlD7Kg9PTopm",
        "colab_type": "code",
        "colab": {
          "base_uri": "https://localhost:8080/",
          "height": 53
        },
        "outputId": "593fd17a-902d-4b9d-802d-72cc0131f90d"
      },
      "source": [
        "p = lambda x: (1/2)*x**3 - 4*x + 3\n",
        "q = lambda x: x**2 - 1/3\n",
        "p_exact = 1.125\n",
        "q_exact = 0\n",
        "p_apx = two_point_gauss_quadrature(p)\n",
        "q_apx = two_point_gauss_quadrature(q)\n",
        "print(p_exact - p_apx)\n",
        "print(q_exact - q_apx)"
      ],
      "execution_count": 13,
      "outputs": [
        {
          "output_type": "stream",
          "text": [
            "0.0\n",
            "8.326672684688674e-17\n"
          ],
          "name": "stdout"
        }
      ]
    },
    {
      "cell_type": "markdown",
      "metadata": {
        "id": "v8A3xVHKUsWD",
        "colab_type": "text"
      },
      "source": [
        "The method appear to be exact for both polynomials."
      ]
    },
    {
      "cell_type": "markdown",
      "metadata": {
        "id": "rv1VIeUWUXd9",
        "colab_type": "text"
      },
      "source": [
        "### **3-point edge midpoint quadrature over a reference triangle**\n",
        "3-Point edge midpoint quadrature over a reference triangle $T$ is exact for cubic polynomials, we test with the following two polynomials.\n",
        "$$\n",
        "p(x,y) = x^2 + y^2 - xy + x - y + 3, \\ \\  q(x,y) = x^2 - y^2.\n",
        "$$\n",
        "With the exact integral values,\n",
        "$$\n",
        "\\int_0^1 \\int_0^{1-x}p(x,y)dxdy = 1.625, \\ \\ \\int_0^1 \\int_0^{1-x}q(x,y)dxdy = 0.\n",
        "$$"
      ]
    },
    {
      "cell_type": "code",
      "metadata": {
        "id": "c6kcPwrSfHKq",
        "colab_type": "code",
        "colab": {
          "base_uri": "https://localhost:8080/",
          "height": 53
        },
        "outputId": "94e71c92-e902-49dd-d561-8a66497507d7"
      },
      "source": [
        "p = lambda x,y: x*x + y*y -x*y +x -y + 3\n",
        "q = lambda x,y: x*x - y*y\n",
        "p_exact = 1.625\n",
        "q_exact = 0\n",
        "p_apx = three_point_edge_mid_quadrature(p)\n",
        "q_apx = three_point_edge_mid_quadrature(q)\n",
        "print(p_exact - p_apx)\n",
        "print(q_exact - q_apx)"
      ],
      "execution_count": 30,
      "outputs": [
        {
          "output_type": "stream",
          "text": [
            "0.0\n",
            "0.0\n"
          ],
          "name": "stdout"
        }
      ]
    },
    {
      "cell_type": "markdown",
      "metadata": {
        "id": "ZaAK6MBIgZJ5",
        "colab_type": "text"
      },
      "source": [
        "The method appear to be exact for both polynomials."
      ]
    },
    {
      "cell_type": "markdown",
      "metadata": {
        "id": "Unl4xSaDgdqR",
        "colab_type": "text"
      },
      "source": [
        "### **Monte Carlo quadrature over a unit interval**\n",
        "From Section 12.4 we know that Monte Carlo quadrature converges at a rate of $\\frac{1}{\\sqrt{n}}$. We demonstatrate this by plotting the function $h(n) = \\frac{1}{\\sqrt{n}}$ along with the absolute error of the exact integral and the approximation of,\n",
        "$$\n",
        "f(x) = e^x\\sin x + x, \\ \\ \\int_0^1 f(x) \\approx 1.4093306736314.\n",
        "$$"
      ]
    },
    {
      "cell_type": "code",
      "metadata": {
        "id": "_MBw_kwu9fme",
        "colab_type": "code",
        "outputId": "00a82211-8573-4f5d-9c36-cb476280b608",
        "colab": {
          "base_uri": "https://localhost:8080/",
          "height": 283
        }
      },
      "source": [
        "f = lambda x: np.exp(x)*np.sin(x) + x\n",
        "m_f = lambda n: monte_carlo_quadrature(f, n)\n",
        "n = np.linspace(1,200,num=200)\n",
        "exact = 1.4093306736314\n",
        "m = list(map(m_f, n.astype(int)))\n",
        "err = list(map(lambda x: abs(x-exact), m))\n",
        "sqrt_n = list(map(lambda x: 1/np.sqrt(x), n))\n",
        "plt.plot(n, err, label=\"Absolute Error\")\n",
        "plt.plot(n,sqrt_n, label=\"h(n)\")\n",
        "plt.legend(loc=\"upper right\")"
      ],
      "execution_count": 33,
      "outputs": [
        {
          "output_type": "execute_result",
          "data": {
            "text/plain": [
              "<matplotlib.legend.Legend at 0x7ff6bc47bc88>"
            ]
          },
          "metadata": {
            "tags": []
          },
          "execution_count": 33
        },
        {
          "output_type": "display_data",
          "data": {
            "image/png": "[encoded data removed]",
            "text/plain": [
              "<Figure size 432x288 with 1 Axes>"
            ]
          },
          "metadata": {
            "tags": []
          }
        }
      ]
    },
    {
      "cell_type": "markdown",
      "metadata": {
        "id": "5vWje89ujI3F",
        "colab_type": "text"
      },
      "source": [
        "The absolute error appear to follow the curve quite nicely. We also test one of the polynomials from the Guass quadrature,\n",
        "$$\n",
        "p(x) = \\frac{1}{2}x^3 - 4x + 3.\n",
        "$$"
      ]
    },
    {
      "cell_type": "code",
      "metadata": {
        "id": "phTMfne_mP2-",
        "colab_type": "code",
        "colab": {
          "base_uri": "https://localhost:8080/",
          "height": 283
        },
        "outputId": "d669bb49-3532-405a-8e54-671aa88fc0d9"
      },
      "source": [
        "p = lambda x: (1/2)*x**3 - 4*x + 3\n",
        "p_exact = 1.125\n",
        "p_m =  lambda n: monte_carlo_quadrature(p, n)\n",
        "n = np.linspace(1,200,num=200)\n",
        "m = list(map(p_m, n.astype(int)))\n",
        "err = list(map(lambda x: abs(x-p_exact), m))\n",
        "sqrt_n = list(map(lambda x: 1/np.sqrt(x), n))\n",
        "plt.plot(n, err, label=\"Absolute Error\")\n",
        "plt.plot(n,sqrt_n, label=\"h(n)\")\n",
        "plt.legend(loc=\"upper right\")"
      ],
      "execution_count": 34,
      "outputs": [
        {
          "output_type": "execute_result",
          "data": {
            "text/plain": [
              "<matplotlib.legend.Legend at 0x7ff6bc3f3a90>"
            ]
          },
          "metadata": {
            "tags": []
          },
          "execution_count": 34
        },
        {
          "output_type": "display_data",
          "data": {
            "image/png": "[encoded data removed]",
            "text/plain": [
              "<Figure size 432x288 with 1 Axes>"
            ]
          },
          "metadata": {
            "tags": []
          }
        }
      ]
    },
    {
      "cell_type": "markdown",
      "metadata": {
        "id": "vhg0yMwwmwlz",
        "colab_type": "text"
      },
      "source": [
        "### **Monte Carlo quadrature over a reference triangle**\n",
        "The convergence rate of Monte Carlo quadrature is independent of the dimension of the function. We illustrate by plotting the absolute error along with the convergence rate for,\n",
        "$$\n",
        "f(x,y) = x^2 - y^2\n",
        "$$\n",
        "and\n",
        "$$\n",
        " g(x,y) = e^x - sin(x) + cos(y)x^2y^2 + 10, \\ \\ \\int_0^1\\int_0^{1-x}g(x,y) \\approx 2.2314.\n",
        "$$\n"
      ]
    },
    {
      "cell_type": "code",
      "metadata": {
        "id": "SPmJZm4rICGd",
        "colab_type": "code",
        "outputId": "314ffb44-e829-40ff-ee8f-3d27d3219f42",
        "colab": {
          "base_uri": "https://localhost:8080/",
          "height": 283
        }
      },
      "source": [
        "f = lambda x, y: x*x - y*y\n",
        "m_f = lambda n: triangle_monte_carlo_quadrature(f, n)\n",
        "n = np.linspace(1,200,num=200)\n",
        "exact = three_point_edge_mid_quadrature(f) # 0.0\n",
        "m = list(map(m_f, n.astype(int)))\n",
        "err = list(map(lambda x: abs(x-exact), m))\n",
        "sqrt_n = list(map(lambda x: 1/np.sqrt(x), n))\n",
        "plt.plot(n, err, label=\"Absolute Error\")\n",
        "plt.plot(n,sqrt_n, label=\"h(n)\")\n",
        "plt.legend(loc=\"upper right\")"
      ],
      "execution_count": 35,
      "outputs": [
        {
          "output_type": "execute_result",
          "data": {
            "text/plain": [
              "<matplotlib.legend.Legend at 0x7ff6bc3e5c18>"
            ]
          },
          "metadata": {
            "tags": []
          },
          "execution_count": 35
        },
        {
          "output_type": "display_data",
          "data": {
            "image/png": "[encoded data removed]",
            "text/plain": [
              "<Figure size 432x288 with 1 Axes>"
            ]
          },
          "metadata": {
            "tags": []
          }
        }
      ]
    },
    {
      "cell_type": "code",
      "metadata": {
        "id": "U00kisUsn26a",
        "colab_type": "code",
        "colab": {
          "base_uri": "https://localhost:8080/",
          "height": 283
        },
        "outputId": "91586f60-4806-417b-a5e9-533f7b7a1c10"
      },
      "source": [
        "g = lambda x, y: np.exp(x) - np.sin(x) + 10*np.cos(y)*x*x*y*y + 10*x\n",
        "m_f = lambda n: triangle_monte_carlo_quadrature(g, n)\n",
        "n = np.linspace(1,200,num=200)\n",
        "exact = 2.2314\n",
        "m = list(map(m_f, n.astype(int)))\n",
        "err = list(map(lambda x: abs(x-exact), m))\n",
        "sqrt_n = list(map(lambda x: 1/np.sqrt(x), n))\n",
        "plt.plot(n, err, label=\"Absolute Error\")\n",
        "plt.plot(n,sqrt_n, label=\"h(n)\")\n",
        "plt.legend(loc=\"upper right\")"
      ],
      "execution_count": 36,
      "outputs": [
        {
          "output_type": "execute_result",
          "data": {
            "text/plain": [
              "<matplotlib.legend.Legend at 0x7ff6bc356f98>"
            ]
          },
          "metadata": {
            "tags": []
          },
          "execution_count": 36
        },
        {
          "output_type": "display_data",
          "data": {
            "image/png": "[encoded data removed]",
            "text/plain": [
              "<Figure size 432x288 with 1 Axes>"
            ]
          },
          "metadata": {
            "tags": []
          }
        }
      ]
    },
    {
      "cell_type": "markdown",
      "metadata": {
        "id": "_4GLBv0zWr7m",
        "colab_type": "text"
      },
      "source": [
        "# **Discussion**"
      ]
    },
    {
      "cell_type": "markdown",
      "metadata": {
        "id": "6bcsDSoRXHZe",
        "colab_type": "text"
      },
      "source": [
        "Both deterministic quadrature methods appear to be working as expected, and their implementation was straightforward.\n",
        "\n",
        "The convergence rate of the two Monte Carlo methods appear to follow the $\\frac{1}{\\sqrt{n}}$ curve. \n",
        "\n",
        "While Monte Carlo methods converge in the limit they require $n$ function evaluations and the sampling of $n$ points, while the two deterministic methods only require $2$ or $3$ function evaluations."
      ]
    }
  ]
}