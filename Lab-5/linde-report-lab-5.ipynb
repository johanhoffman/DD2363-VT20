{
  "nbformat": 4,
  "nbformat_minor": 0,
  "metadata": {
    "colab": {
      "name": "template-report-lab-X.ipynb",
      "provenance": [],
      "include_colab_link": true
    },
    "kernelspec": {
      "name": "python3",
      "display_name": "Python 3"
    }
  },
  "cells": [
    {
      "cell_type": "markdown",
      "metadata": {
        "id": "view-in-github",
        "colab_type": "text"
      },
      "source": [
        "<a href=\"https://colab.research.google.com/github/johanhoffman/DD2363-VT20/blob/lindevanbeers/Lab-5/linde-report-lab-5.ipynb\" target=\"_parent\"><img src=\"https://colab.research.google.com/assets/colab-badge.svg\" alt=\"Open In Colab\"/></a>"
      ]
    },
    {
      "cell_type": "markdown",
      "metadata": {
        "id": "6RgtXlfYO_i7",
        "colab_type": "text"
      },
      "source": [
        "# **Lab 5: Quadrature**\n",
        "**Linde van Beers**"
      ]
    },
    {
      "cell_type": "markdown",
      "metadata": {
        "id": "9x_J5FVuPzbm",
        "colab_type": "text"
      },
      "source": [
        "# **Abstract**"
      ]
    },
    {
      "cell_type": "markdown",
      "metadata": {
        "id": "6UFTSzW7P8kL",
        "colab_type": "text"
      },
      "source": [
        "\n",
        "\n",
        "```\n",
        "# This is formatted as code\n",
        "```\n",
        "\n",
        "Short summary of the lab report. State the objectives, methods used, main results and conlusions. "
      ]
    },
    {
      "cell_type": "markdown",
      "metadata": {
        "id": "yJipbXtnjrJZ",
        "colab_type": "text"
      },
      "source": [
        ""
      ]
    },
    {
      "cell_type": "markdown",
      "metadata": {
        "id": "OkT8J7uOWpT3",
        "colab_type": "text"
      },
      "source": [
        "#**About the code**"
      ]
    },
    {
      "cell_type": "markdown",
      "metadata": {
        "id": "HmB2noTr1Oyo",
        "colab_type": "text"
      },
      "source": [
        "A short statement on who is the author of the file, and if the code is distributed under a certain license. "
      ]
    },
    {
      "cell_type": "code",
      "metadata": {
        "id": "Pdll1Xc9WP0e",
        "colab_type": "code",
        "outputId": "cb9b7dd8-0ce2-4cca-a3e6-a50cb3b852b2",
        "colab": {
          "base_uri": "https://localhost:8080/",
          "height": 34
        }
      },
      "source": [
        "\"\"\"This program is a template for lab reports in the course\"\"\"\n",
        "\"\"\"DD2363 Methods in Scientific Computing, \"\"\"\n",
        "\"\"\"KTH Royal Institute of Technology, Stockholm, Sweden.\"\"\"\n",
        "\n",
        "# Copyright (C) 2019 Johan Hoffman (jhoffman@kth.se)\n",
        "\n",
        "# This file is part of the course DD2363 Methods in Scientific Computing\n",
        "# KTH Royal Institute of Technology, Stockholm, Sweden\n",
        "#\n",
        "# This is free software: you can redistribute it and/or modify\n",
        "# it under the terms of the GNU Lesser General Public License as published by\n",
        "# the Free Software Foundation, either version 3 of the License, or\n",
        "# (at your option) any later version.\n",
        "\n",
        "# This template is maintained by Johan Hoffman\n",
        "# Please report problems to jhoffman@kth.se"
      ],
      "execution_count": 2,
      "outputs": [
        {
          "output_type": "execute_result",
          "data": {
            "text/plain": [
              "'KTH Royal Institute of Technology, Stockholm, Sweden.'"
            ]
          },
          "metadata": {
            "tags": []
          },
          "execution_count": 2
        }
      ]
    },
    {
      "cell_type": "markdown",
      "metadata": {
        "id": "28xLGz8JX3Hh",
        "colab_type": "text"
      },
      "source": [
        "# **Set up environment**"
      ]
    },
    {
      "cell_type": "markdown",
      "metadata": {
        "id": "D2PYNusD08Wa",
        "colab_type": "text"
      },
      "source": [
        "To have access to the neccessary modules you have to run this cell. If you need additional modules, this is where you add them. "
      ]
    },
    {
      "cell_type": "code",
      "metadata": {
        "id": "Xw7VlErAX7NS",
        "colab_type": "code",
        "colab": {}
      },
      "source": [
        "# Load neccessary modules.\n",
        "from google.colab import files\n",
        "\n",
        "import time\n",
        "import numpy as np\n",
        "\n",
        "from matplotlib import pyplot as plt\n",
        "from matplotlib import tri\n",
        "from matplotlib import axes\n",
        "from mpl_toolkits.mplot3d import Axes3D"
      ],
      "execution_count": 0,
      "outputs": []
    },
    {
      "cell_type": "markdown",
      "metadata": {
        "id": "gnO3lhAigLev",
        "colab_type": "text"
      },
      "source": [
        "# **Introduction**"
      ]
    },
    {
      "cell_type": "markdown",
      "metadata": {
        "id": "l5zMzgPlRAF6",
        "colab_type": "text"
      },
      "source": [
        "Give a short description of the problem investigated in the report, and provide some background information so that the reader can understand the context. \n",
        "\n",
        "Briefly describe what method you have chosen to solve the problem, and justify why you selected that method. \n",
        "\n",
        "Here you can express mathematics through Latex syntax, and use hyperlinks for references.\n",
        "\n",
        "[Hyperlink to DD2363 course website.](https://kth.instructure.com/courses/7500)\n",
        "\n",
        "$\n",
        "{\\displaystyle \\frac{\\partial u}{\\partial t}} + u\\cdot \\nabla u +\\nabla p = f, \\quad \\nabla \\cdot u=0$\n",
        "\n"
      ]
    },
    {
      "cell_type": "markdown",
      "metadata": {
        "id": "WeFO9QMeUOAu",
        "colab_type": "text"
      },
      "source": [
        "# **Methods**"
      ]
    },
    {
      "cell_type": "code",
      "metadata": {
        "id": "NBN7s93x2VNB",
        "colab_type": "code",
        "colab": {
          "base_uri": "https://localhost:8080/",
          "height": 51
        },
        "outputId": "458d9a80-da58-436d-e940-8ac0c9bb87dc"
      },
      "source": [
        "class RandomPoly:\n",
        "  def __init__(self, degree):\n",
        "    self.degree = degree\n",
        "    self.a = np.random.randint(-5,6,degree+1) # pick random numbers between -5 and 5   \n",
        "    # print the function:   \n",
        "    print(\"f(x) = \", end = '')\n",
        "    for i in (range(self.degree, 0,-1)):\n",
        "      print(self.a[i], \"* x^\",end = '')\n",
        "      print(i , \"+ \",end = '')\n",
        "    print(self.a[0])\n",
        "\n",
        "  def function(self,x):\n",
        "    c = self.a\n",
        "    y=0\n",
        "    for i in range(self.degree+1):\n",
        "      y += c[i] * pow(x,i)\n",
        "    return y\n",
        "  \n",
        "  def integral(self, low, high):\n",
        "    c = self.a\n",
        "    y = 0 \n",
        "    for i in range(self.degree+1):\n",
        "      y += (1/(i+1)) * c[i] * pow(high,i+1) - (1/(i+1)) * c[i] * pow(low,i+1)\n",
        "    return y\n",
        "\n",
        "class Random2dimPoly:\n",
        "  def __init__(self):\n",
        "    self.a = np.random.randint(-5,6,6) # pick random numbers between -5 and 5   \n",
        "    # print the function:   \n",
        "    print(\"f(x) = %sx^2 + %sy^2 + %sxy + %sx + %sy + %s\" % (self.a[0],self.a[1],self.a[2],self.a[3],self.a[4],self.a[5]))\n",
        "\n",
        "  def function(self,x):\n",
        "    # evaluates function at point x\n",
        "    y = self.a[0] * pow(x[0],2) + self.a[1] * pow(x[1],2) + self.a[2] * x[0] *x[1] + self.a[3] * x[0] + self.a[4] * x[1] + self.a[5]\n",
        "    return y\n",
        "  \n",
        "  def integral(self):\n",
        "    # calculates integral over unit triangle\n",
        "    y = (self.a[0]/3 + self.a[1]/3 + self.a[2]/4 + self.a[3]/2 + self.a[4]/2 + self.a[5])/2"
      ],
      "execution_count": 40,
      "outputs": [
        {
          "output_type": "stream",
          "text": [
            "f(x) = 3x^2 + 5y^2 + 4xy + -4x + -4y + -5\n"
          ],
          "name": "stdout"
        },
        {
          "output_type": "execute_result",
          "data": {
            "text/plain": [
              "<__main__.Random2dimPoly at 0x7f4e9df57978>"
            ]
          },
          "metadata": {
            "tags": []
          },
          "execution_count": 40
        }
      ]
    },
    {
      "cell_type": "markdown",
      "metadata": {
        "id": "NOprZ7XLCb20",
        "colab_type": "text"
      },
      "source": [
        "### 2 point Gauss Quadrature\n",
        "\n"
      ]
    },
    {
      "cell_type": "markdown",
      "metadata": {
        "id": "zF4iBj5VURZx",
        "colab_type": "text"
      },
      "source": [
        "Describe the methods you used to solve the problem. This may be a combination of text, mathematical formulas (Latex), algorithms (code), data and output.  \n",
        "\n",
        "I derived $w_0, w_1, x_0$ and $x_1$ as follows:\n",
        "\n",
        "$\\int_0^1 p(x)dx = p(x_0)w_0+p(x_1)w_1 \\Leftrightarrow $\n",
        "\n",
        "$c_3(\\frac{1}{4}-x_0^3w_0-x_1^3w_1)+c_2(\\frac{1}{3}-x_0^2w_0-x_1^2w_1)+ c_1(\\frac{1}{2}-x_0w_0-x_1w_1)+c_0(1-w_0-w_1) = 0$\n",
        "\n",
        "I then chose $w_0 = w_1 = \\frac{1}{2}$ to satify the last term and used the second to last term to find $x_0 = a, x_1 = 1-a$, which gives\n",
        "\n",
        "$\\frac{a^2}{2} + \\frac{(1-a)^2}{2} -\\frac{1}{3} = 0  \\Leftrightarrow$\n",
        "\n",
        "$a^2 - a+ \\frac{1}{6} = 0$\n",
        "\n",
        "I then used the $abc$-function to find that $a = x_0 = \\frac{1}{2} - \\frac{1}{\\sqrt{12}}$ and $x_1 = 1- (\\frac{1}{2} - \\frac{1}{\\sqrt{12}})= \\frac{1}{2} + \\frac{1}{\\sqrt{12}}$\n",
        "\n",
        "Then I used quadrature $\\int_{0}^{1} f(x)dx \\approx \\sum\\limits_{i=0}^{n}f(x_i)w_i$ using the quadrature points and weights I found to approximate the integral. "
      ]
    },
    {
      "cell_type": "code",
      "metadata": {
        "id": "5AVCA5LbCh5a",
        "colab_type": "code",
        "colab": {
          "base_uri": "https://localhost:8080/",
          "height": 85
        },
        "outputId": "381f2f50-55f6-4cda-c2cd-8862f16dee0e"
      },
      "source": [
        "def gauss_quad(f):\n",
        "  w0 = 1/2\n",
        "  w1 = 1/2\n",
        "  x0 = 1/2 - 1/pow(12,1/2)\n",
        "  x1 = 1/2 + 1/pow(12,1/2)\n",
        "\n",
        "  # test correctness of values for w's and x's\n",
        "  assert abs(1/4 - pow(x0,3)*w0 - pow(x1,3)*w1) < 1e-16\n",
        "  assert abs(1/3 - pow(x0,2)*w0 - pow(x1,2)*w1) < 1e-16\n",
        "  assert abs(1/2 - x0*w0 - x1*w1) < 1e-16\n",
        "\n",
        "  ans = f(x0)*w0 + f(x1)*w1\n",
        "  return ans\n",
        "\n",
        "fun = RandomPoly(3)\n",
        "print(\"exact solution:\", fun.integral(0,1))\n",
        "print(\"quadrature solution:\", gauss_quad(fun.function))\n",
        "print(\"error:\", abs(fun.integral(0,1)-gauss_quad(fun.function)))"
      ],
      "execution_count": 33,
      "outputs": [
        {
          "output_type": "stream",
          "text": [
            "f(x) = 4 * x^3 + -2 * x^2 + 3 * x^1 + -4\n",
            "exact solution: -2.1666666666666665\n",
            "quadrature solution: -2.166666666666667\n",
            "error: 4.440892098500626e-16\n"
          ],
          "name": "stdout"
        }
      ]
    },
    {
      "cell_type": "markdown",
      "metadata": {
        "id": "ir2ymQTI6c4D",
        "colab_type": "text"
      },
      "source": [
        "### 3-point edge midpoint quadrature\n"
      ]
    },
    {
      "cell_type": "code",
      "metadata": {
        "id": "K5lJs0Hu6mJQ",
        "colab_type": "code",
        "colab": {}
      },
      "source": [
        "def edge_midpoint_quadrature(f):\n",
        "  x0 = [0.5, 0. ]\n",
        "  x1 = [0.5, 0.5]\n",
        "  x2 = [0. , 0.5]\n",
        "  w = 1/6 # w0 = w1 = w2 = 1/6\n",
        "\n",
        "  ans = (f(x0) + f(x1) + f(x20) * w\n",
        "  return ans\n",
        "\n",
        "  "
      ],
      "execution_count": 0,
      "outputs": []
    },
    {
      "cell_type": "markdown",
      "metadata": {
        "id": "f3iQWjK69F-p",
        "colab_type": "text"
      },
      "source": [
        ""
      ]
    },
    {
      "cell_type": "markdown",
      "metadata": {
        "id": "1O-8ue-IzJzc",
        "colab_type": "text"
      },
      "source": [
        "### Monte Carlo Quadrature\n"
      ]
    },
    {
      "cell_type": "code",
      "metadata": {
        "id": "27Vt-P31zhjO",
        "colab_type": "code",
        "colab": {
          "base_uri": "https://localhost:8080/",
          "height": 316
        },
        "outputId": "3cb5866c-5b39-4604-9d2f-d7b7f353c590"
      },
      "source": [
        "def mc_quadrature(f, n):\n",
        "  '''\n",
        "  Performs Monte-Carlo Quadrature on function f \n",
        "  in the interval [0,1] with n quadrature points\n",
        "  '''\n",
        "  ans = 0\n",
        "  for i in range(n):\n",
        "    x = np.random.random()\n",
        "    ans += f(x)\n",
        "  ans = ans/n\n",
        "  return ans\n",
        "\n",
        "fun = RandomPoly(3)\n",
        "integral = fun.integral(0,1)\n",
        "print(integral)\n",
        "errors = []\n",
        "target = []\n",
        "for i in range(1,31):\n",
        "  av_error = 0\n",
        "  for j in range(100):\n",
        "    av_error += abs(integral - mc_quadrature(fun.function, i))\n",
        "  errors.append(av_error/100)\n",
        "  target.append(1*errors[0]/pow(i,0.5))\n",
        "fig = plt.figure()\n",
        "sub = fig.add_subplot(111)\n",
        "sub.plot(np.array(range(30)), errors)\n",
        "sub.plot(np.array(range(30)), target)\n",
        "\n"
      ],
      "execution_count": 29,
      "outputs": [
        {
          "output_type": "stream",
          "text": [
            "f(x) = -2 * x^3 + 0 * x^2 + 1 * x^1 + -4\n",
            "-4.0\n"
          ],
          "name": "stdout"
        },
        {
          "output_type": "execute_result",
          "data": {
            "text/plain": [
              "[<matplotlib.lines.Line2D at 0x7f4e9e1dc908>]"
            ]
          },
          "metadata": {
            "tags": []
          },
          "execution_count": 29
        },
        {
          "output_type": "display_data",
          "data": {
            "image/png": "[encoded data removed]",
            "text/plain": [
              "<Figure size 432x288 with 1 Axes>"
            ]
          },
          "metadata": {
            "tags": []
          }
        }
      ]
    },
    {
      "cell_type": "markdown",
      "metadata": {
        "id": "SsQLT38gVbn_",
        "colab_type": "text"
      },
      "source": [
        "# **Results**"
      ]
    },
    {
      "cell_type": "markdown",
      "metadata": {
        "id": "RLwlnOzuV-Cd",
        "colab_type": "text"
      },
      "source": [
        "Present the results. If the result is an algorithm that you have described under the *Methods* section, you can present the data from verification and performance tests in this section. If the result is the output from a computational experiment this is where you present a selection of that data. "
      ]
    },
    {
      "cell_type": "markdown",
      "metadata": {
        "id": "_4GLBv0zWr7m",
        "colab_type": "text"
      },
      "source": [
        "# **Discussion**"
      ]
    },
    {
      "cell_type": "markdown",
      "metadata": {
        "id": "6bcsDSoRXHZe",
        "colab_type": "text"
      },
      "source": [
        "Summarize your results and your conclusions. Were the results expected or surprising. Do your results have implications outside the particular problem investigated in this report? "
      ]
    },
    {
      "cell_type": "markdown",
      "metadata": {
        "id": "1vcIILuQYsEA",
        "colab_type": "text"
      },
      "source": [
        "# **APPENDIX**"
      ]
    },
    {
      "cell_type": "markdown",
      "metadata": {
        "id": "NlJ-Y9KAYt4Z",
        "colab_type": "text"
      },
      "source": [
        "In this appendix some examples are given to express and visualizing mathematical concepts such as vectors, matrices, meshes and functions. \n",
        "\n",
        "This is not part of the template report for the course."
      ]
    },
    {
      "cell_type": "code",
      "metadata": {
        "id": "Y-enWfBvcbRZ",
        "colab_type": "code",
        "colab": {}
      },
      "source": [
        ""
      ],
      "execution_count": 0,
      "outputs": []
    },
    {
      "cell_type": "markdown",
      "metadata": {
        "id": "I5Kf3qRyY5J5",
        "colab_type": "text"
      },
      "source": [
        "# **Vector**"
      ]
    },
    {
      "cell_type": "markdown",
      "metadata": {
        "id": "SBKa3PEj0N9D",
        "colab_type": "text"
      },
      "source": [
        "In this cell some basic commands are introduced for how to define and process a vector, where the NumPy array data type is used. "
      ]
    },
    {
      "cell_type": "code",
      "metadata": {
        "colab_type": "code",
        "id": "PbnT724f5mfQ",
        "colab": {}
      },
      "source": [
        "# Just a test\n",
        "# Create a vector as a NumPy array\n",
        "x = np.array([1,2,3,4])\n",
        "\n",
        "# Print various attributes of the vector\n",
        "print('x =',x)\n",
        "print('x[2] =',x[2])\n",
        "print('x[0:2] =',x[0:2])\n",
        "print('x.shape =',x.shape)\n",
        "print('x.ndim =',x.ndim)\n",
        "print('x.size =',x.size)\n",
        "print('x.dtype =',x.dtype)\n",
        "\n",
        "# Print the elements of vector x\n",
        "for i in range(x.size):\n",
        "  print(\"x[\",i,\"] =\",x[i])\n",
        "\n",
        "# Assign a float value to the int vector x\n",
        "x[1] = 2.1\n",
        "print('x =',x)\n",
        "\n",
        "# Copy the int vector x to a float vector xf\n",
        "xf = x.astype(float)\n",
        "xf[1] = 2.1\n",
        "print('xf =',xf)\n",
        "print('xf.dtype =',xf.dtype)\n",
        "\n",
        "# Create a complex vector \n",
        "y = np.array([2,3,4], dtype=complex)\n",
        "print('y =',y)\n",
        "print('y.dtype =',y.dtype)\n",
        "\n",
        "# Create a vector z by defining a range through an increment\n",
        "z = np.arange(12, 28, 4.5)\n",
        "print('z =',z)\n",
        "\n",
        "# Overwrite the vector z by a vector of uniformly spaced elements in a range\n",
        "pi=np.pi\n",
        "pi\n",
        "z = np.linspace(0, 2*pi, 5)\n",
        "print('z =',z)\n",
        "\n",
        "# Visualize the vector in a plot. \n",
        "plt.figure()\n",
        "plt.plot(x,2*x,'ro-')\n",
        "plt.show()"
      ],
      "execution_count": 0,
      "outputs": []
    },
    {
      "cell_type": "markdown",
      "metadata": {
        "id": "trQVmLgAZGU7",
        "colab_type": "text"
      },
      "source": [
        "# **Matrix**"
      ]
    },
    {
      "cell_type": "markdown",
      "metadata": {
        "id": "ADesgm5x01TF",
        "colab_type": "text"
      },
      "source": [
        "In this cell some basic commands for defining and processing a matrix\n",
        "is introduced, where we use the NumPy array data type. "
      ]
    },
    {
      "cell_type": "code",
      "metadata": {
        "id": "QdJvGD6NZKNc",
        "colab_type": "code",
        "colab": {}
      },
      "source": [
        "# Define a matrix as a NumPy array\n",
        "A = np.array([[2,4,6], [3,6,9], [1,2,1]])\n",
        "\n",
        "# Print various attributes of the matrix \n",
        "print('A =',A)\n",
        "print('A[1,0] =',A[1,0])\n",
        "print('A.shape =',A.shape)\n",
        "print('A.ndim =',A.ndim)\n",
        "print('A.size =',A.size)\n",
        "\n",
        "# Plot the matrix\n",
        "plt.figure()\n",
        "plt.plot(A,'o-')\n",
        "\n",
        "# Construct a simple sparse matrix class using the CRS data structure\n",
        "class spMatrix:\n",
        "  def __init__(self, val, col_idx, row_ptr):\n",
        "    self.val = val\n",
        "    self.col_idx = col_idx\n",
        "    self.row_ptr = row_ptr\n",
        "    \n",
        "# Create a sparse matrix object \n",
        "val = np.array([3, 2, 2, 2, 1, 1, 3, 2, 1, 2, 3])\n",
        "col_idx = np.array([1, 2, 4, 2, 3, 3, 3, 4, 5, 5, 6])\n",
        "row_ptr = np.array([1, 4, 6, 7, 9, 10])\n",
        "spA = spMatrix(val, col_idx, row_ptr)\n",
        "\n",
        "# Print sparse matrix object attributes\n",
        "print('Sparse matrix values: \\n',spA.val)\n",
        "print('Sparse matrix column indices: \\n',spA.col_idx)\n",
        "print('Sparse matrix row pointer: \\n',spA.row_ptr)\n",
        "    "
      ],
      "execution_count": 0,
      "outputs": []
    },
    {
      "cell_type": "markdown",
      "metadata": {
        "id": "idDHnPmv9c6H",
        "colab_type": "text"
      },
      "source": [
        "# **Function**"
      ]
    },
    {
      "cell_type": "markdown",
      "metadata": {
        "id": "PwYg0g0-EH2J",
        "colab_type": "text"
      },
      "source": [
        "In this cell we illustrate how functions are defined. "
      ]
    },
    {
      "cell_type": "code",
      "metadata": {
        "id": "eDlRKNOK9fNo",
        "colab_type": "code",
        "colab": {}
      },
      "source": [
        "# Define a function f(x,y)\n",
        "def f(x,y):\n",
        "  return x + y \n",
        "\n",
        "# Verify the function output\n",
        "print('f(3,4) =',f(3,4))\n",
        "\n",
        "# Define a function of a function\n",
        "def g1(fcn,arg1,arg2):\n",
        "  z = fcn(arg1,arg2)\n",
        "  print('z =',z)\n",
        "\n",
        "# Call the function\n",
        "g1(f,6,7)\n",
        "\n",
        "# Define a function of a function with arguments in a list or array\n",
        "def g2(fcn,arg):\n",
        "  z = fcn(*arg)\n",
        "  print('z =',z)\n",
        "  \n",
        "# Call the function with arguments as list and array\n",
        "xlist = [8,9]\n",
        "xarray = np.array([11,3])\n",
        "g2(f,xlist)\n",
        "g2(f,xarray)\n",
        "\n",
        "# Define a function to format the print out for a matrix \n",
        "def printMatrix(A):\n",
        "   rows = A.shape[0]\n",
        "   cols = A.shape[1]\n",
        "   for i in range(0,rows):\n",
        "      for j in range(0,cols):\n",
        "         print(A[i,j],\" \", end='')\n",
        "      print()\n",
        "\n",
        "# Define matrix      \n",
        "A = np.array([[1,2,3], [4,5,6], [7,8,9]])\n",
        "\n",
        "# Verify the function output\n",
        "print('A =', A)\n",
        "print('A =')\n",
        "printMatrix(A)\n",
        "print('A^T =')\n",
        "printMatrix(A.transpose())\n",
        "\n",
        "# Plot a Euclidian position vector v \n",
        "def plotEVector(vec):\n",
        "  plt.figure()\n",
        "  plt.xlim([-1.5*vec[0], 1.5*vec[0]])\n",
        "  plt.ylim([-1.5*vec[1], 1.5*vec[1]])\n",
        "  plt.quiver(0, 0, vec[0], vec[1], scale=1, scale_units='xy', angles='xy')\n",
        "  plt.show()\n",
        "\n",
        "v = np.array([3,4])\n",
        "plotEVector(v)\n",
        "\n",
        "\n"
      ],
      "execution_count": 0,
      "outputs": []
    },
    {
      "cell_type": "markdown",
      "metadata": {
        "id": "hmpw8QnuzSSD",
        "colab_type": "text"
      },
      "source": [
        "# **Plot**"
      ]
    },
    {
      "cell_type": "code",
      "metadata": {
        "id": "6zmuvOqEzWfA",
        "colab_type": "code",
        "colab": {}
      },
      "source": [
        "# Define a range for a parameter t\n",
        "t = np.arange( 0.0, 10, 0.5)\n",
        "\n",
        "# Initialize a new figure and set the size \n",
        "plt.figure(2)\n",
        "plt.figure(figsize=(12,6))\n",
        "\n",
        "# Define a subplot structure and choose the first subplot \n",
        "plt.subplot(121)\n",
        "\n",
        "# Plot a standard NumPy function against the parameter t\n",
        "plt.plot(t,np.cos(t))\n",
        "\n",
        "# Set plot labels and title for the subplot\n",
        "plt.xlabel('x')\n",
        "plt.ylabel('y')\n",
        "plt.title('My plot: $y = cos(x)$')\n",
        "\n",
        "# Choose the other subplot\n",
        "plt.subplot(122)\n",
        "\n",
        "# Plot three functions in the same subplot\n",
        "plt.plot(t, np.sin(f(t,3)), 'g*', t, 0.03*t**2, 'ro', t, 0.1*t, 'b')\n",
        "plt.axis([-1, 12, -2 ,3])\n",
        "\n",
        "# Show the figure\n",
        "plt.show()"
      ],
      "execution_count": 0,
      "outputs": []
    },
    {
      "cell_type": "markdown",
      "metadata": {
        "id": "M2LbkCoxNV8i",
        "colab_type": "text"
      },
      "source": [
        "# Triangular **mesh**"
      ]
    },
    {
      "cell_type": "markdown",
      "metadata": {
        "id": "cnwG2HPEFcyL",
        "colab_type": "text"
      },
      "source": [
        "This cell describes how to generate a triangular mesh from a point cloud by the Delaunay algorithm. It also illustrates how to access the mesh data structures. "
      ]
    },
    {
      "cell_type": "code",
      "metadata": {
        "id": "4stcLbraNZPY",
        "colab_type": "code",
        "colab": {}
      },
      "source": [
        "# Start the clock \n",
        "start = time.time()\n",
        "\n",
        "# Generate a point cloud\n",
        "Nx = 5\n",
        "Ny = 5\n",
        "hx = 1.0/(Nx-1)\n",
        "hy = 1.0/(Ny-1)\n",
        "x = np.zeros((Nx*Ny))\n",
        "y = np.zeros((Nx*Ny))\n",
        "for i in range(Nx):\n",
        "  for j in range(Ny):\n",
        "    x[i*Nx + j] = j*hx\n",
        "    y[i*Nx + j] = i*hy\n",
        "\n",
        "# Generate a mesh from the point cloud using a Delaunay algorithm\n",
        "mesh = tri.Triangulation( x, y )\n",
        "\n",
        "# Stop the clock\n",
        "end = time.time()\n",
        "\n",
        "# Print the measured time\n",
        "print (\"Mesh generation took: \", end - start, \"seconds (wall-clock time)\")\n",
        "\n",
        "# Print mesh data structure\n",
        "vertices = np.array([mesh.x, mesh.y])\n",
        "print('vertices = \\n', vertices)\n",
        "print('edges = \\n', mesh.edges)\n",
        "print('triangles = \\n', mesh.triangles)\n",
        "print('neighbor triangles = \\n', mesh.neighbors)\n",
        "\n",
        "# Plot the mesh \n",
        "plt.figure(3)\n",
        "plt.figure(figsize=(10,10))\n",
        "plt.triplot(mesh, 'bo-', lw=1)\n",
        "plt.title('Delaunay mesh')\n",
        "plt.show()\n",
        "\n",
        "# Define a function g(x,y)\n",
        "def g(x,y):\n",
        "    return np.sin(10*x)*np.cos(3*y)\n",
        "\n",
        "# Plot the function g(x,y) in a contour plot\n",
        "plt.figure(4)\n",
        "plt.tricontour(mesh, g(x,y), cmap=plt.cm.spectral)\n",
        "plt.show()\n",
        "\n",
        "# Plot the function g(x,y) in 3D as a surface plot\n",
        "fig = plt.figure(5)\n",
        "ax1 = fig.add_subplot(111, projection='3d')\n",
        "surf = ax1.plot_trisurf(mesh, g(x,y), cmap=plt.cm.coolwarm)\n",
        "fig.colorbar(surf, shrink=0.5, aspect=10)\n",
        "ax1.view_init(20,10)\n",
        "plt.show()"
      ],
      "execution_count": 0,
      "outputs": []
    },
    {
      "cell_type": "markdown",
      "metadata": {
        "id": "lmSvJV4dYVN2",
        "colab_type": "text"
      },
      "source": [
        "# Parametric **curve**"
      ]
    },
    {
      "cell_type": "markdown",
      "metadata": {
        "id": "fXevCzGfYZPj",
        "colab_type": "text"
      },
      "source": [
        "This cell illustrates how to visualize a parametric curve."
      ]
    },
    {
      "cell_type": "code",
      "metadata": {
        "id": "V9qqme4YYhrW",
        "colab_type": "code",
        "colab": {}
      },
      "source": [
        "# Define paramter range\n",
        "t = np.linspace(0, 4*np.pi, 100)\n",
        "\n",
        "# Define the curve\n",
        "x = t*np.cos(t)\n",
        "y = t*np.sin(t)\n",
        "z = t\n",
        "\n",
        "fig = plt.figure(6)\n",
        "ax = fig.gca(projection = '3d')\n",
        "ax.plot(x, y, z)\n",
        "plt.title('Parametric curve')\n",
        "plt.show()"
      ],
      "execution_count": 0,
      "outputs": []
    }
  ]
}