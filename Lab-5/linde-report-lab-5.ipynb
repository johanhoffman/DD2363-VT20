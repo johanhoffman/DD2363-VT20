{
  "nbformat": 4,
  "nbformat_minor": 0,
  "metadata": {
    "colab": {
      "name": "template-report-lab-X.ipynb",
      "provenance": [],
      "include_colab_link": true
    },
    "kernelspec": {
      "name": "python3",
      "display_name": "Python 3"
    }
  },
  "cells": [
    {
      "cell_type": "markdown",
      "metadata": {
        "id": "view-in-github",
        "colab_type": "text"
      },
      "source": [
        "<a href=\"https://colab.research.google.com/github/johanhoffman/DD2363-VT20/blob/lindevanbeers/Lab-5/linde-report-lab-5.ipynb\" target=\"_parent\"><img src=\"https://colab.research.google.com/assets/colab-badge.svg\" alt=\"Open In Colab\"/></a>"
      ]
    },
    {
      "cell_type": "markdown",
      "metadata": {
        "id": "6RgtXlfYO_i7",
        "colab_type": "text"
      },
      "source": [
        "# **Lab 5: Quadrature**\n",
        "**Linde van Beers**"
      ]
    },
    {
      "cell_type": "markdown",
      "metadata": {
        "id": "OkT8J7uOWpT3",
        "colab_type": "text"
      },
      "source": [
        "#**About the code**"
      ]
    },
    {
      "cell_type": "markdown",
      "metadata": {
        "id": "HmB2noTr1Oyo",
        "colab_type": "text"
      },
      "source": [
        "A short statement on who is the author of the file, and if the code is distributed under a certain license. "
      ]
    },
    {
      "cell_type": "code",
      "metadata": {
        "id": "Pdll1Xc9WP0e",
        "colab_type": "code",
        "outputId": "e8d4b59b-e534-4c73-ef8f-5f810721c93c",
        "colab": {
          "base_uri": "https://localhost:8080/",
          "height": 34
        }
      },
      "source": [
        "\"\"\"This program is a template for lab reports in the course\"\"\"\n",
        "\"\"\"DD2363 Methods in Scientific Computing, \"\"\"\n",
        "\"\"\"KTH Royal Institute of Technology, Stockholm, Sweden.\"\"\"\n",
        "\n",
        "# Copyright (C) 2019 Johan Hoffman (jhoffman@kth.se)\n",
        "\n",
        "# This file is part of the course DD2363 Methods in Scientific Computing\n",
        "# KTH Royal Institute of Technology, Stockholm, Sweden\n",
        "#\n",
        "# This is free software: you can redistribute it and/or modify\n",
        "# it under the terms of the GNU Lesser General Public License as published by\n",
        "# the Free Software Foundation, either version 3 of the License, or\n",
        "# (at your option) any later version.\n",
        "\n",
        "# This template is maintained by Johan Hoffman\n",
        "# Please report problems to jhoffman@kth.se"
      ],
      "execution_count": 63,
      "outputs": [
        {
          "output_type": "execute_result",
          "data": {
            "text/plain": [
              "'KTH Royal Institute of Technology, Stockholm, Sweden.'"
            ]
          },
          "metadata": {
            "tags": []
          },
          "execution_count": 63
        }
      ]
    },
    {
      "cell_type": "markdown",
      "metadata": {
        "id": "28xLGz8JX3Hh",
        "colab_type": "text"
      },
      "source": [
        "# **Set up environment**"
      ]
    },
    {
      "cell_type": "code",
      "metadata": {
        "id": "Xw7VlErAX7NS",
        "colab_type": "code",
        "colab": {}
      },
      "source": [
        "# Load neccessary modules.\n",
        "from google.colab import files\n",
        "\n",
        "import time\n",
        "import numpy as np\n",
        "\n",
        "from matplotlib import pyplot as plt\n",
        "from matplotlib import tri\n",
        "from matplotlib import axes\n",
        "from mpl_toolkits.mplot3d import Axes3D"
      ],
      "execution_count": 0,
      "outputs": []
    },
    {
      "cell_type": "markdown",
      "metadata": {
        "id": "gnO3lhAigLev",
        "colab_type": "text"
      },
      "source": [
        "# **Introduction**"
      ]
    },
    {
      "cell_type": "markdown",
      "metadata": {
        "id": "l5zMzgPlRAF6",
        "colab_type": "text"
      },
      "source": [
        "In this report I implement several quadrature algorithms, including versions of Gauss quadrature for 1D and 2D input and Monte-Carlo quadrature for 1D and 2D input. "
      ]
    },
    {
      "cell_type": "markdown",
      "metadata": {
        "id": "WeFO9QMeUOAu",
        "colab_type": "text"
      },
      "source": [
        "# **Methods**"
      ]
    },
    {
      "cell_type": "markdown",
      "metadata": {
        "id": "NOprZ7XLCb20",
        "colab_type": "text"
      },
      "source": [
        "### 2 point Gauss Quadrature\n",
        "\n"
      ]
    },
    {
      "cell_type": "markdown",
      "metadata": {
        "id": "zF4iBj5VURZx",
        "colab_type": "text"
      },
      "source": [
        " I derived $w_0, w_1, x_0$ and $x_1$ as follows:\n",
        "\n",
        "$\\int_0^1 p(x)dx = p(x_0)w_0+p(x_1)w_1 \\Leftrightarrow $\n",
        "\n",
        "$c_3(\\frac{1}{4}-x_0^3w_0-x_1^3w_1)+c_2(\\frac{1}{3}-x_0^2w_0-x_1^2w_1)+ c_1(\\frac{1}{2}-x_0w_0-x_1w_1)+c_0(1-w_0-w_1) = 0$\n",
        "\n",
        "I then chose $w_0 = w_1 = \\frac{1}{2}$ to satify the last term and used the second to last term to find $x_0 = a, x_1 = 1-a$, which gives\n",
        "\n",
        "$\\frac{a^2}{2} + \\frac{(1-a)^2}{2} -\\frac{1}{3} = 0  \\Leftrightarrow$\n",
        "\n",
        "$a^2 - a+ \\frac{1}{6} = 0$\n",
        "\n",
        "I then used the $abc$-function to find that $a = x_0 = \\frac{1}{2} - \\frac{1}{\\sqrt{12}}$ and $x_1 = 1- (\\frac{1}{2} - \\frac{1}{\\sqrt{12}})= \\frac{1}{2} + \\frac{1}{\\sqrt{12}}$\n",
        "\n",
        "Then I used quadrature $\\int_{0}^{1} f(x)dx \\approx \\sum\\limits_{i=0}^{n}f(x_i)w_i$ using the quadrature points and weights I found to approximate the integral. "
      ]
    },
    {
      "cell_type": "code",
      "metadata": {
        "id": "5AVCA5LbCh5a",
        "colab_type": "code",
        "colab": {}
      },
      "source": [
        "def gauss_quad(f):\n",
        "  w0 = 1/2\n",
        "  w1 = 1/2\n",
        "  x0 = 1/2 - 1/pow(12,1/2)\n",
        "  x1 = 1/2 + 1/pow(12,1/2)\n",
        "\n",
        "  # test correctness of values for w's and x's\n",
        "  assert abs(1/4 - pow(x0,3)*w0 - pow(x1,3)*w1) < 1e-16\n",
        "  assert abs(1/3 - pow(x0,2)*w0 - pow(x1,2)*w1) < 1e-16\n",
        "  assert abs(1/2 - x0*w0 - x1*w1) < 1e-16\n",
        "\n",
        "  # implementation of the quadrature rule\n",
        "  ans = f(x0)*w0 + f(x1)*w1\n",
        "  return ans"
      ],
      "execution_count": 0,
      "outputs": []
    },
    {
      "cell_type": "markdown",
      "metadata": {
        "id": "ir2ymQTI6c4D",
        "colab_type": "text"
      },
      "source": [
        "### 3-point edge midpoint quadrature\n",
        "For 3-point edge midpoint quadrature I implemented the quadrature rule with $x_0 = [0.5,0], x_1 = [0.5,0.5], x_2 = [0,0.5]$ the edge midpoints of the reference triangle, and $w_0 = w_1 = w_2 = \\frac{1}{6} $ as proposed in the lecture notes. "
      ]
    },
    {
      "cell_type": "code",
      "metadata": {
        "id": "K5lJs0Hu6mJQ",
        "colab_type": "code",
        "colab": {}
      },
      "source": [
        "def edge_midpoint_quadrature(f):\n",
        "  x0 = [0.5, 0. ]\n",
        "  x1 = [0.5, 0.5]\n",
        "  x2 = [0. , 0.5]\n",
        "  w = 1/6 # w0 = w1 = w2 = 1/6\n",
        "\n",
        "  # implementation of the quadrature rule\n",
        "  ans = (f(x0) + f(x1) + f(x2)) * w\n",
        "  return ans"
      ],
      "execution_count": 0,
      "outputs": []
    },
    {
      "cell_type": "markdown",
      "metadata": {
        "id": "1O-8ue-IzJzc",
        "colab_type": "text"
      },
      "source": [
        "### Monte Carlo Quadrature\n",
        "\n",
        "For Monte-Carlo quadrature the algorithm randomly picks a value between 0 and one and evaluates the function at this point. It does this n times, where n is the number of quadrature points. It then takes the average of all trials and returns this. "
      ]
    },
    {
      "cell_type": "code",
      "metadata": {
        "id": "27Vt-P31zhjO",
        "colab_type": "code",
        "colab": {}
      },
      "source": [
        "def mc_quadrature(f, n):\n",
        "  '''\n",
        "  Performs Monte-Carlo Quadrature on function f \n",
        "  in the interval [0,1] with n quadrature points\n",
        "  '''\n",
        "  ans = 0\n",
        "  for i in range(n):\n",
        "    x = np.random.random()\n",
        "    ans += f(x)\n",
        "  ans = ans/n\n",
        "  return ans"
      ],
      "execution_count": 0,
      "outputs": []
    },
    {
      "cell_type": "markdown",
      "metadata": {
        "id": "GuJ3yvKqX07u",
        "colab_type": "text"
      },
      "source": [
        "### Monte Carlo quadrature over reference triangle\n",
        "\n",
        "Monte-Carlo quadrature over the reference triangle is almost the same as regular 1D Monte-Carlo Quadrature, except, since the area of the reference triangle is $\\frac{1}{2}$ we have to divided every evaluation of the function by 2. Also, it takes a bit more effort too make sure the randomly chosen points are equally divided over the reference triangle. I did this by picking random points in the unit square, and mirrored them over the diagonal if they were ot in the reference triangle. "
      ]
    },
    {
      "cell_type": "code",
      "metadata": {
        "id": "seFsO3_EX8dk",
        "colab_type": "code",
        "colab": {}
      },
      "source": [
        "def mc_quadrature_tri(f, n):\n",
        "  '''\n",
        "  Performs Monte-Carlo Quadrature on function f \n",
        "  in the reference triangle with n quadrature points\n",
        "  '''\n",
        "  ans = 0\n",
        "  for i in range(n):\n",
        "    # choose a random point in a 1-by-1 square\n",
        "    x = np.random.random(2)\n",
        "    # if point is not in reference trangle, mirror it over diagoal \n",
        "    if x[1] > 1-x[0]: \n",
        "      a = x[0]\n",
        "      b = x[1]\n",
        "      x[0] = 1-b\n",
        "      x[1] = 1-a\n",
        "    ans += f(x)/2 #divide over 2 because area of ref triangle is 1/2\n",
        "  ans = ans/n\n",
        "  return ans"
      ],
      "execution_count": 0,
      "outputs": []
    },
    {
      "cell_type": "markdown",
      "metadata": {
        "id": "SsQLT38gVbn_",
        "colab_type": "text"
      },
      "source": [
        "# **Results**"
      ]
    },
    {
      "cell_type": "markdown",
      "metadata": {
        "id": "RLwlnOzuV-Cd",
        "colab_type": "text"
      },
      "source": [
        "We first define 2 classes, RandomPoly and Random2dimPoly that create a random n-degree polynomial or a random quadratic polynomial taking 2-dimensional input, respectively. Both classes contain a method function, which evaluates the polynomial at a certain point and a method integral, which calculates the integral. For the first class over an interval to be defined when calling the function $(\\int_a^bf(x)dx)$, in the second just over the reference triangle $(\\int_0^1\\int_0^{1-x}f(x,y)dydx)$. "
      ]
    },
    {
      "cell_type": "code",
      "metadata": {
        "id": "NBN7s93x2VNB",
        "colab_type": "code",
        "colab": {}
      },
      "source": [
        "class RandomPoly:\n",
        "  def __init__(self, degree):\n",
        "    self.degree = degree\n",
        "    self.a = np.random.randint(-5,6,degree+1) # pick random numbers between -5 and 5   \n",
        "    # print the function:   \n",
        "    print(\"f(x) = \", end = '')\n",
        "    for i in (range(self.degree, 0,-1)):\n",
        "      print(self.a[i], \"* x^\",end = '')\n",
        "      print(i , \"+ \",end = '')\n",
        "    print(self.a[0])\n",
        "\n",
        "  def function(self,x):\n",
        "    c = self.a\n",
        "    y=0\n",
        "    for i in range(self.degree+1):\n",
        "      y += c[i] * pow(x,i)\n",
        "    return y\n",
        "  \n",
        "  def integral(self, low, high):\n",
        "    c = self.a\n",
        "    y = 0 \n",
        "    for i in range(self.degree+1):\n",
        "      y += (1/(i+1)) * c[i] * pow(high,i+1) - (1/(i+1)) * c[i] * pow(low,i+1)\n",
        "    return y\n",
        "\n",
        "class Random2dimPoly:\n",
        "  def __init__(self):\n",
        "    self.a = np.random.randint(-5,6,6) # pick random numbers between -5 and 5   \n",
        "    # print the function:   \n",
        "    print(\"f(x) = %sx^2 + %sy^2 + %sxy + %sx + %sy + %s\" % (self.a[0],self.a[1],self.a[2],self.a[3],self.a[4],self.a[5]))\n",
        "\n",
        "  def function(self,x):\n",
        "    # evaluates function at point x\n",
        "    y = self.a[0] * pow(x[0],2) + self.a[1] * pow(x[1],2) + self.a[2] * x[0] *x[1] + self.a[3] * x[0] + self.a[4] * x[1] + self.a[5]\n",
        "    return y\n",
        "  \n",
        "  def integral(self):\n",
        "    # calculates integral over referece triangle\n",
        "    y = (self.a[0]/12 + self.a[1]/12 + self.a[2]/24 + self.a[3]/6 + self.a[4]/6 + self.a[5]/2)\n",
        "    return y"
      ],
      "execution_count": 0,
      "outputs": []
    },
    {
      "cell_type": "markdown",
      "metadata": {
        "id": "3zPilh_378SB",
        "colab_type": "text"
      },
      "source": [
        "### 2 point Gauss Quadrature\n",
        "\n",
        "In this test we simply compare the integral calculated by quadrature with the exact integral, and we calculate the error which should be 0, or very close to 0, since rounding errors may be introduced in the calculations."
      ]
    },
    {
      "cell_type": "code",
      "metadata": {
        "id": "MNP9W3NKV5HG",
        "colab_type": "code",
        "colab": {
          "base_uri": "https://localhost:8080/",
          "height": 85
        },
        "outputId": "fc614103-958c-409f-e8a6-5b787bb2339b"
      },
      "source": [
        "fun = RandomPoly(3)\n",
        "print(\"exact solution:\", fun.integral(0,1))\n",
        "print(\"quadrature solution:\", gauss_quad(fun.function))\n",
        "print(\"error:\", abs(fun.integral(0,1)-gauss_quad(fun.function)))"
      ],
      "execution_count": 69,
      "outputs": [
        {
          "output_type": "stream",
          "text": [
            "f(x) = -4 * x^3 + -3 * x^2 + -4 * x^1 + 5\n",
            "exact solution: 1.0\n",
            "quadrature solution: 0.9999999999999999\n",
            "error: 1.1102230246251565e-16\n"
          ],
          "name": "stdout"
        }
      ]
    },
    {
      "cell_type": "markdown",
      "metadata": {
        "id": "VwAyKva48ZFl",
        "colab_type": "text"
      },
      "source": [
        "### 3-point edge midpoint quadrature\n",
        "\n",
        "This test is the same as the previous."
      ]
    },
    {
      "cell_type": "code",
      "metadata": {
        "id": "1CU2VEtdV3v0",
        "colab_type": "code",
        "colab": {
          "base_uri": "https://localhost:8080/",
          "height": 85
        },
        "outputId": "bd2feeac-f5d2-44ec-d066-7fbc2b96f8c3"
      },
      "source": [
        "fun = Random2dimPoly()\n",
        "print(\"exact solution:\", fun.integral())\n",
        "print(\"quadrature solution:\", edge_midpoint_quadrature(fun.function))\n",
        "print(\"error:\", abs(fun.integral()-edge_midpoint_quadrature(fun.function)))"
      ],
      "execution_count": 70,
      "outputs": [
        {
          "output_type": "stream",
          "text": [
            "f(x) = -3x^2 + 5y^2 + 2xy + 4x + 5y + 2\n",
            "exact solution: 2.75\n",
            "quadrature solution: 2.75\n",
            "error: 0.0\n"
          ],
          "name": "stdout"
        }
      ]
    },
    {
      "cell_type": "markdown",
      "metadata": {
        "id": "E0NZhwPM8j72",
        "colab_type": "text"
      },
      "source": [
        "### Monte-Carlo quadrature\n",
        "\n",
        "To test the convergence of Monte-Carlo quadrature we calculated the quadrature several times for each n number of quadrature points and took the average error. We then plotted this against the expected convergence rate $\\frac{1}{\\sqrt{n}}$ scaled by the average error for just 1 quadrature point. "
      ]
    },
    {
      "cell_type": "code",
      "metadata": {
        "id": "E69E6uz0V9G9",
        "colab_type": "code",
        "colab": {
          "base_uri": "https://localhost:8080/",
          "height": 303
        },
        "outputId": "10042b8f-af98-41a9-c507-f2c26d15a79d"
      },
      "source": [
        "fun = RandomPoly(3)\n",
        "integral = fun.integral(0,1)\n",
        "errors = []\n",
        "target = []\n",
        "for i in range(1,31):\n",
        "  av_error = 0\n",
        "  for j in range(100):\n",
        "    av_error += abs(integral - mc_quadrature(fun.function, i))\n",
        "  errors.append(av_error/100)\n",
        "  target.append(1*errors[0]/pow(i,0.5))\n",
        "fig = plt.figure()\n",
        "sub = fig.add_subplot(111)\n",
        "sub.plot(np.array(range(30)), errors)\n",
        "sub.plot(np.array(range(30)), target)\n",
        "print()"
      ],
      "execution_count": 78,
      "outputs": [
        {
          "output_type": "stream",
          "text": [
            "f(x) = -1 * x^3 + -2 * x^2 + 1 * x^1 + 3\n",
            "\n"
          ],
          "name": "stdout"
        },
        {
          "output_type": "display_data",
          "data": {
            "image/png": "[encoded data removed]",
            "text/plain": [
              "<Figure size 432x288 with 1 Axes>"
            ]
          },
          "metadata": {
            "tags": []
          }
        }
      ]
    },
    {
      "cell_type": "markdown",
      "metadata": {
        "id": "rnYr8etB9a4W",
        "colab_type": "text"
      },
      "source": [
        "### Monte Carlo quadrature over reference triangle\n",
        "\n",
        "This test is the same as the previous. "
      ]
    },
    {
      "cell_type": "code",
      "metadata": {
        "id": "zsFhYzxhdKgw",
        "colab_type": "code",
        "colab": {
          "base_uri": "https://localhost:8080/",
          "height": 313
        },
        "outputId": "b8b1d02e-7c25-4ba7-de02-8c67ba9cbd07"
      },
      "source": [
        "fun = Random2dimPoly()\n",
        "integral = fun.integral()\n",
        "errors = []\n",
        "target = []\n",
        "for i in range(1,31):\n",
        "  av_error = 0\n",
        "  for j in range(100):\n",
        "    av_error += abs(integral - mc_quadrature_tri(fun.function, i))\n",
        "  errors.append(av_error/100)\n",
        "  target.append(1*errors[0]/pow(i,0.5))\n",
        "fig = plt.figure()\n",
        "sub = fig.add_subplot(111)\n",
        "sub.plot(np.array(range(30)), target, label = \"1/sqrt(n)\" )\n",
        "sub.plot(np.array(range(30)), errors, label = \"average error Monte Carlo\")\n",
        "sub.set_xlabel(\"n\")\n",
        "sub.set_ylabel(\"error\")\n",
        "sub.legend()\n",
        "print()"
      ],
      "execution_count": 105,
      "outputs": [
        {
          "output_type": "stream",
          "text": [
            "f(x) = -4x^2 + 1y^2 + 2xy + 4x + 3y + 2\n",
            "\n"
          ],
          "name": "stdout"
        },
        {
          "output_type": "display_data",
          "data": {
            "image/png": "[encoded data removed]",
            "text/plain": [
              "<Figure size 432x288 with 1 Axes>"
            ]
          },
          "metadata": {
            "tags": []
          }
        }
      ]
    },
    {
      "cell_type": "markdown",
      "metadata": {
        "id": "_4GLBv0zWr7m",
        "colab_type": "text"
      },
      "source": [
        "# **Discussion**"
      ]
    },
    {
      "cell_type": "markdown",
      "metadata": {
        "id": "6bcsDSoRXHZe",
        "colab_type": "text"
      },
      "source": [
        "All tests were successful and show that the methods as implemented work. The expected convergence rate for Monte-Carlo was reached almost exactly, and gets more accurate as the number of samples for each $n$ quadrature points is increased. "
      ]
    }
  ]
}