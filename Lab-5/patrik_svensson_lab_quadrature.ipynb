{
  "nbformat": 4,
  "nbformat_minor": 0,
  "metadata": {
    "colab": {
      "name": "patrik-svensson_lab_matrix_algorithms.ipynb",
      "provenance": [],
      "collapsed_sections": []
    },
    "kernelspec": {
      "name": "python3",
      "display_name": "Python 3"
    }
  },
  "cells": [
    {
      "cell_type": "markdown",
      "metadata": {
        "id": "6RgtXlfYO_i7",
        "colab_type": "text"
      },
      "source": [
        "https://colab.research.google.com/drive/1BF1-l9Dja192o7NYzCO_uQ1vQaVhbguP\n",
        "# **Lab 5: Quadrature**\n",
        "**Patrik Svensson**"
      ]
    },
    {
      "cell_type": "markdown",
      "metadata": {
        "id": "9x_J5FVuPzbm",
        "colab_type": "text"
      },
      "source": [
        "# **Abstract**"
      ]
    },
    {
      "cell_type": "markdown",
      "metadata": {
        "id": "AZZ3jSH2CV64",
        "colab_type": "text"
      },
      "source": [
        "In this report we are introduced to the concept of quadrature. Quadrature is a method of approximating integrals. In this report there are four different types of types of quadrature algorithms implemented:\n",
        "\n",
        "\n",
        "\n",
        "1.   Gauss Quadrature\n",
        "2.   3-point edge midpoint quadrature over a triangle\n",
        "3.   Monte Carlo quadrature over a unit interval\n",
        "4.   Monte Carlo quadrature over a unit triangle\n",
        "\n",
        "The results are complete implementations togheter with unit tests.\n",
        "\n"
      ]
    },
    {
      "cell_type": "markdown",
      "metadata": {
        "id": "28xLGz8JX3Hh",
        "colab_type": "text"
      },
      "source": [
        "# **Set up environment**"
      ]
    },
    {
      "cell_type": "markdown",
      "metadata": {
        "id": "D2PYNusD08Wa",
        "colab_type": "text"
      },
      "source": [
        "To set up the environment, run the two following lines of code."
      ]
    },
    {
      "cell_type": "code",
      "metadata": {
        "id": "Xw7VlErAX7NS",
        "colab_type": "code",
        "colab": {}
      },
      "source": [
        "import numpy as np\n",
        "import unittest\n",
        "import math\n",
        "from random import seed\n",
        "from random import randint\n",
        "import random \n",
        "from sympy import *\n",
        "import matplotlib.pyplot as plt\n",
        "import scipy.integrate as integrate"
      ],
      "execution_count": 0,
      "outputs": []
    },
    {
      "cell_type": "markdown",
      "metadata": {
        "id": "gnO3lhAigLev",
        "colab_type": "text"
      },
      "source": [
        "# **Introduction**"
      ]
    },
    {
      "cell_type": "markdown",
      "metadata": {
        "id": "l5zMzgPlRAF6",
        "colab_type": "text"
      },
      "source": [
        "Quadrature is the process of approximating an integral. In this lab I'm exploring three different methods to achive this *Gauss Quadrature*, *3-point edge midpoint quadrature over reference triangle*, *Monte Carlo quadrature over unit interval*, *Monte Carlo quadrature over reference triangle*.  \n"
      ]
    },
    {
      "cell_type": "markdown",
      "metadata": {
        "id": "WeFO9QMeUOAu",
        "colab_type": "text"
      },
      "source": [
        "# **Methods**\n",
        "In this chapter, I will present how the implementation of the functions was conducted. The study was conducted in the following way.\n",
        "\n",
        "1.   Literature research\n",
        "2.   Implementation\n",
        "3.   Testing\n",
        "\n",
        "In the sections below, I have provided a reference to where the algorithms were founded, or how it was deduced, followed with a code implementation in Python, and lastly unit test for the assurance of the accuracy of the implementations.\n"
      ]
    },
    {
      "cell_type": "markdown",
      "metadata": {
        "id": "rO0ouFDaAnMX",
        "colab_type": "text"
      },
      "source": [
        "##  Gauss Quadrature\n",
        "From (11.4) in the lecture notes, it's possible to extract the following equation. \n",
        "\n",
        "$\\sum_{j=0}^{n-1}\\varphi_i(x_j)w_j = \\int^b_a \\varphi_i(x)dx$, for $i=0,...,q$\n",
        "\n",
        "In our case where we set $b = 1$ and $a = -1$. And since it's a two point Gauss Quadrature, we set $n = 2$. $q$ is set to 3 since we accept a polynomial of the degree 3. Since we accept a polynomial of degree 3, we have the following set as our polynomial basis:\n",
        "\n",
        "$\\varphi_0 = 1$\n",
        "\n",
        "$\\varphi_1 = x$\n",
        "\n",
        "$\\varphi_2 = x^2$\n",
        "\n",
        "$\\varphi_3 = x^3$\n",
        "\n",
        "Hence we get an equation system:\n",
        "\n",
        "$w_0 + w_1 = \\int_{-1}^{1}1dx$\n",
        "\n",
        "$x_0w_0 + x_1w_1 = \\int_{-1}^{1}xdx$\n",
        "\n",
        "$x_0^2w_0 + x_1^2w_1 = \\int_{-1}^{1}x^2dx$\n",
        "\n",
        "$x_0^3w_0 + x_1^3w_1 = \\int_{-1}^{1}x^3dx$\n",
        "\n",
        "We get:\n",
        "\n",
        "$w_0 + w_1 - 2 = 0$\n",
        "\n",
        "$x_0w_0 + x_1w_1 = 0$\n",
        "\n",
        "$x^2_0w_0 + x^2_1w_1 - 2/3 = 0$\n",
        "\n",
        "$x^3_0w_0 + x^3_1w_1 = 0$\n",
        "\n",
        "If we solve the equation system we get:\n",
        "\n",
        "$w_0 = w_1 = 1$\n",
        "\n",
        "$x_0 = \\frac{1}{\\sqrt{3}}$\n",
        "\n",
        "$x_1 = \\frac{-1}{\\sqrt{3}}$\n",
        "\n",
        "This will estimate integrals that are using polynomials up to degree 3 exactly. All degrees above will be an approximation."
      ]
    },
    {
      "cell_type": "code",
      "metadata": {
        "id": "GKAKgzyjs5ZU",
        "colab_type": "code",
        "colab": {}
      },
      "source": [
        "def gauss_quadrature_two_point(function):\n",
        "  w0 = 1\n",
        "  w1 = 1\n",
        "  x0 = 1 / math.sqrt(3)\n",
        "  x1 = -1 / math.sqrt(3)\n",
        "\n",
        "  return function(x0) * w0 + function(x1) * w1"
      ],
      "execution_count": 0,
      "outputs": []
    },
    {
      "cell_type": "markdown",
      "metadata": {
        "id": "ZwJxjYsv6Dnz",
        "colab_type": "text"
      },
      "source": [
        "The code below is unit test for assurance of the quality of the gauss quadrature implementation above."
      ]
    },
    {
      "cell_type": "code",
      "metadata": {
        "id": "movXu-DT6C-k",
        "colab_type": "code",
        "colab": {}
      },
      "source": [
        "class TestGaussQuadrature(unittest.TestCase):\n",
        "  def test_third_degree_polynomial(self):\n",
        "    for i in range(100):\n",
        "      # Arrange\n",
        "      a = randint(0, 100)\n",
        "      b = randint(0, 100)\n",
        "      c = randint(0, 100)\n",
        "      d = randint(0, 100)\n",
        "      function = lambda x: a*x**3 + b*x**2 + c*x + d\n",
        "      expected_result = integrate.quad(function, -1, 1)[0]\n",
        "\n",
        "      # Act\n",
        "      result = gauss_quadrature_two_point(function)\n",
        "\n",
        "      # Assert\n",
        "      self.assertAlmostEqual(expected_result, result)\n",
        "\n",
        "if __name__ == '__main__':\n",
        "    # Help from user Pierre S. in the stack overflow thread to give the main arguments: \n",
        "    # https://stackoverflow.com/questions/49952317/python3-for-unit-test-attributeerror-module-main-has-no-attribute-kerne \n",
        "    unittest.main(argv=['first-arg-is-ignored'], exit=False)"
      ],
      "execution_count": 0,
      "outputs": []
    },
    {
      "cell_type": "markdown",
      "metadata": {
        "id": "MjL6p3C9BC80",
        "colab_type": "text"
      },
      "source": [
        "## 3-point edge midpoint quadrature over a triangle\n",
        "Since we are woking in a two dimensional space, let's represent each point in the plane with $v = (x, y)$. This method is similar to the previous assignment, except that are domain has gone from $R$ to $R^2$. Our domain is a unit triangle, in other words, the triangle made from the points (0,0), (1,0), (0,1). The equation to solve is similar to the one we used in the previous assignment:\n",
        "\n",
        "$\\sum_{j=0}^{n-1}\\varphi_i(x_j)w_j = \\int^b_a \\varphi_i(x)dx$, for $i=0,...,q$\n",
        "\n",
        "But with the only difference that we are using it in $R^2$, hence we get:\n",
        "\n",
        "$\\sum_{j=0}^{n-1}\\varphi_i(v_j)w_j = \\int_D \\varphi_i(v)dx$, for $i=0,...,q$ \n",
        "\n",
        "where $D$ is our domain to integrate over. Our basis to the problem is the following:\n",
        "\n",
        "$\\varphi_0(v) = 1$\n",
        "\n",
        "$\\varphi_1(v) = x$\n",
        "\n",
        "$\\varphi_2(v) = y$\n",
        "\n",
        "$\\varphi_3(v) = xy$\n",
        "\n",
        "$\\varphi_4(v) = x^2$\n",
        "\n",
        "$\\varphi_5(v) = y^2$\n",
        "\n",
        "Which gives us $q = 5$\n",
        "\n",
        "By solving the equation above, we get the following values.\n",
        "\n",
        "$w_0 = 1/6$\n",
        "\n",
        "$w_1 = 1/6$\n",
        "\n",
        "$w_2 = 1/6$\n",
        "\n",
        "$x_0 = 0$\n",
        "\n",
        "$y_0 = 0.5$\n",
        "\n",
        "$x_1 = 0.5$\n",
        "\n",
        "$y_1 = 0.5$\n",
        "\n",
        "$x_2 = 0.5$\n",
        "\n",
        "$y_2 = 0.5$\n",
        "\n",
        "These $w$ values are motivated the same way as example 11.5 from the lecture notes. Since the points are placed on the middle of its edge, and all edges are equally long, this symmetry give us that all $w$ values will be the same."
      ]
    },
    {
      "cell_type": "code",
      "metadata": {
        "id": "gKDia51anSJj",
        "colab_type": "code",
        "colab": {}
      },
      "source": [
        "def three_point_edge_quadrature_triangle(function):\n",
        "  w0 = 1 / 6\n",
        "  w1 = 1 / 6\n",
        "  w2 = 1 / 6\n",
        "  x0 = 0\n",
        "  y0 = 0.5\n",
        "  x1 = 0.5\n",
        "  y1 = 0 \n",
        "  x2 = 0.5\n",
        "  y2 = 0.5\n",
        "\n",
        "  return function(y0, x0) * w0 + function(y1, x1) * w1 + function(y2, x2) * w2"
      ],
      "execution_count": 0,
      "outputs": []
    },
    {
      "cell_type": "markdown",
      "metadata": {
        "id": "H2O2tDNLzQg7",
        "colab_type": "text"
      },
      "source": [
        "The code below is unit test for assurance of the quality of the 3-point edge midpoint quadrature over a triangle implementation above."
      ]
    },
    {
      "cell_type": "code",
      "metadata": {
        "id": "5JhgdrPjo9Gs",
        "colab_type": "code",
        "colab": {}
      },
      "source": [
        "class TestThreePointEdgeQuadrature(unittest.TestCase):\n",
        "  def test_third_degree_polynomial(self):\n",
        "    for i in range(100):\n",
        "      # Arrange\n",
        "      a = randint(0, 100)\n",
        "      b = randint(0, 100)\n",
        "      c = randint(0, 100)\n",
        "      d = randint(0, 100)\n",
        "      e = randint(0, 100)\n",
        "      f = randint(0, 100)\n",
        "      function = lambda y, x: a*x**2 + b*y**2 + c*x*y + d*x + e*y + f \n",
        "      lower_integrand = lambda x: 0\n",
        "      upper_integrand = lambda x: 1 - x\n",
        "      expected_result = integrate.dblquad(function, 0, 1, lower_integrand, upper_integrand)[0]\n",
        "\n",
        "      # Act\n",
        "      result = three_point_edge_quadrature_triangle(function)\n",
        "\n",
        "      # Assert\n",
        "      self.assertAlmostEqual(expected_result, result)\n",
        "\n",
        "if __name__ == '__main__':\n",
        "    # Help from user Pierre S. in the stack overflow thread to give the main arguments: \n",
        "    # https://stackoverflow.com/questions/49952317/python3-for-unit-test-attributeerror-module-main-has-no-attribute-kerne \n",
        "    unittest.main(argv=['first-arg-is-ignored'], exit=False)"
      ],
      "execution_count": 0,
      "outputs": []
    },
    {
      "cell_type": "markdown",
      "metadata": {
        "id": "R5lJf0LiCF5V",
        "colab_type": "text"
      },
      "source": [
        "## Monte Carlo quadrature \n",
        "When approximating a integral it is possible to use stochastic methods, hence we are using random variables. According to the lecture notes in section 12.4, we can use the following formula to approximate an integral. \n",
        "\n",
        "$\\int_D g(x) \\approx \\frac{1}{n}\\sum_{i=1}^ng(x_i)|D| = \\frac{|D|}{n}\\sum_{i=1}^ng(x_i)$\n",
        "\n",
        "$D$ is the domain we are integrating over, in our case the unit interval $[0,1]$. $g(x)$ is a function. $n$ is the number of datapoint samples $x_i$ we have uniformly taken from $D$. The more datapoint samples we are taking, the more accurate the approximation will be. The code below is an implementation of the formula in python."
      ]
    },
    {
      "cell_type": "code",
      "metadata": {
        "id": "UAz48QP1xZZK",
        "colab_type": "code",
        "colab": {}
      },
      "source": [
        "def monte_carlo_quadrature(g, n):\n",
        "  D = 1\n",
        "  sum = 0\n",
        "\n",
        "  for i in range(n):\n",
        "    x = random.uniform(0, 1)\n",
        "    sum += g(x)\n",
        "  \n",
        "  return sum / n"
      ],
      "execution_count": 0,
      "outputs": []
    },
    {
      "cell_type": "markdown",
      "metadata": {
        "id": "0hq4ILyhi6-A",
        "colab_type": "text"
      },
      "source": [
        "The graph presented below shows that the alorithm converges faster than $\\frac{1}{\\sqrt{n}}$."
      ]
    },
    {
      "cell_type": "code",
      "metadata": {
        "id": "4CCh8KsV-Xww",
        "colab_type": "code",
        "outputId": "e1b7265a-f088-4ae2-d08b-e40c36dad6d7",
        "colab": {
          "base_uri": "https://localhost:8080/",
          "height": 265
        }
      },
      "source": [
        "function = lambda x: x**2 \n",
        "expected_result = integrate.quad(function, 0, 1)[0]\n",
        "t = np.arange(1., 100., 1.0)\n",
        "for n in range(1, 100):\n",
        "  plt.plot(n, abs(monte_carlo_quadrature(function, n) - expected_result), 'ro')\n",
        "plt.plot(t, t**(-1/2), 'b--')\n",
        "plt.show()\n"
      ],
      "execution_count": 83,
      "outputs": [
        {
          "output_type": "display_data",
          "data": {
            "image/png": "[encoded data removed]",
            "text/plain": [
              "<Figure size 432x288 with 1 Axes>"
            ]
          },
          "metadata": {
            "tags": []
          }
        }
      ]
    },
    {
      "cell_type": "markdown",
      "metadata": {
        "id": "5yKumNG9soni",
        "colab_type": "text"
      },
      "source": [
        "## Monte Carlo quadrature over reference triangle\n",
        "Simlar to Monte Carlo quadrature over a unit interval, the only difference now is that we go from $R$ to $R^2$, and our $D$ is the unit triangle (the triangle made of (0,0), (1,0), (0,1)). We can use the same formula used in the previous assignments.\n",
        "\n",
        "$\\int_D g(x) \\approx \\frac{1}{n}\\sum_{i=1}^ng(x_i)|D| = \\frac{|D|}{n}\\sum_{i=1}^ng(x_i)$\n",
        "\n",
        "The only major difference is that $x$ is an vector with two components. We also need to pick random datapoints uniformly from the unit triangle."
      ]
    },
    {
      "cell_type": "code",
      "metadata": {
        "id": "-x7w8eYauvKy",
        "colab_type": "code",
        "colab": {}
      },
      "source": [
        "def monte_carlo_quadrature_triangle(g, n):\n",
        "  sum = 0\n",
        "  for i in range(n):\n",
        "    x = random.uniform(0, 1)\n",
        "    y = random.uniform(0, 1 - x)\n",
        "    sum += g(x, y)\n",
        "  \n",
        "  return 0.5*(sum / n)"
      ],
      "execution_count": 0,
      "outputs": []
    },
    {
      "cell_type": "markdown",
      "metadata": {
        "id": "w8Goagf6l7tN",
        "colab_type": "text"
      },
      "source": [
        "The graph presented below shows that the alorithm converges faster than $\\frac{1}{\\sqrt{n}}$."
      ]
    },
    {
      "cell_type": "code",
      "metadata": {
        "id": "U6AXyVS7zblm",
        "colab_type": "code",
        "colab": {
          "base_uri": "https://localhost:8080/",
          "height": 265
        },
        "outputId": "71d34046-064e-4ad7-ce96-cb02ecf16022"
      },
      "source": [
        "g = lambda x, y: x**2*y**2\n",
        "lower_integrand = lambda x: 0\n",
        "upper_integrand = lambda x: 1 - x\n",
        "expected_result = integrate.dblquad(g, 0, 1, lower_integrand, upper_integrand)[0]    \n",
        "\n",
        "t = np.arange(1., 100., 1.0)\n",
        "for n in range(1, 100):\n",
        "  plt.plot(n, abs(monte_carlo_quadrature_triangle(g, n) - expected_result), 'ro')\n",
        "plt.plot(t, t**(-1/2), 'b--')\n",
        "plt.show()\n"
      ],
      "execution_count": 79,
      "outputs": [
        {
          "output_type": "display_data",
          "data": {
            "image/png": "[encoded data removed]",
            "text/plain": [
              "<Figure size 432x288 with 1 Axes>"
            ]
          },
          "metadata": {
            "tags": []
          }
        }
      ]
    },
    {
      "cell_type": "markdown",
      "metadata": {
        "id": "kl5VpJcfMgTf",
        "colab_type": "text"
      },
      "source": [
        "# **Results**\n",
        "The result is the implementations above. Run the unit test below to assure the correctness. The graphs in the previous sections are used to assure if the implementations are correct."
      ]
    },
    {
      "cell_type": "code",
      "metadata": {
        "id": "a-w0F-kzcwdY",
        "colab_type": "code",
        "colab": {
          "base_uri": "https://localhost:8080/",
          "height": 352
        },
        "outputId": "91648544-35f5-4e45-e66c-1bb612e3cb9d"
      },
      "source": [
        "if __name__ == '__main__':\n",
        "    # Help from user Pierre S. in the stack overflow thread to give the main arguments: \n",
        "    # https://stackoverflow.com/questions/49952317/python3-for-unit-test-attributeerror-module-main-has-no-attribute-kerne \n",
        "    unittest.main(argv=['first-arg-is-ignored'], exit=False)"
      ],
      "execution_count": 80,
      "outputs": [
        {
          "output_type": "display_data",
          "data": {
            "image/png": "[encoded data removed]",
            "text/plain": [
              "<Figure size 432x288 with 1 Axes>"
            ]
          },
          "metadata": {
            "tags": []
          }
        },
        {
          "output_type": "stream",
          "text": [
            "..\n",
            "----------------------------------------------------------------------\n",
            "Ran 2 tests in 0.432s\n",
            "\n",
            "OK\n"
          ],
          "name": "stderr"
        }
      ]
    },
    {
      "cell_type": "markdown",
      "metadata": {
        "id": "_4GLBv0zWr7m",
        "colab_type": "text"
      },
      "source": [
        "# **Discussion**\n",
        "All tests and graphs seems to give reasonable results. The only test that seems a bit odd is the one for Monte Carlo quadrature over a reference triangle. The red dots that represents that shows the error, seems to converge to zero quite fast. "
      ]
    }
  ]
}