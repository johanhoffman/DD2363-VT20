{
  "nbformat": 4,
  "nbformat_minor": 0,
  "metadata": {
    "colab": {
      "name": "Report-lab-4.ipynb",
      "provenance": [],
      "collapsed_sections": []
    },
    "kernelspec": {
      "name": "python3",
      "display_name": "Python 3"
    }
  },
  "cells": [
    {
      "cell_type": "markdown",
      "metadata": {
        "id": "9AbwQBGyElNp",
        "colab_type": "text"
      },
      "source": [
        "[**LINK TO COLAB**](https://colab.research.google.com/drive/14QhkHTXdk6EKKyXxSRC_voUaNzJNBSMq)"
      ]
    },
    {
      "cell_type": "markdown",
      "metadata": {
        "id": "6RgtXlfYO_i7",
        "colab_type": "text"
      },
      "source": [
        "# **Lab 4: Function Approximation**\n",
        "**Edvin von Platen**"
      ]
    },
    {
      "cell_type": "markdown",
      "metadata": {
        "id": "9x_J5FVuPzbm",
        "colab_type": "text"
      },
      "source": [
        "# **Abstract**\n",
        "\n",
        "In this report we present and implement the Assemble System algorithm which is a general method for assembling a system of equations which solution is an approximation of some function. We then assemble a system for $L^2$ projection to piecewise linear polynomials over a mesh in one dimension.\n",
        "\n",
        "The implementation appears to be sound and performs well even for more complex functions."
      ]
    },
    {
      "cell_type": "markdown",
      "metadata": {
        "id": "OkT8J7uOWpT3",
        "colab_type": "text"
      },
      "source": [
        "#**About the code**"
      ]
    },
    {
      "cell_type": "markdown",
      "metadata": {
        "id": "HmB2noTr1Oyo",
        "colab_type": "text"
      },
      "source": [
        "A short statement on who is the author of the file, and if the code is distributed under a certain license. "
      ]
    },
    {
      "cell_type": "code",
      "metadata": {
        "id": "Pdll1Xc9WP0e",
        "colab_type": "code",
        "outputId": "f74fa781-413b-41e7-a2ec-1bba2288ad4f",
        "colab": {
          "base_uri": "https://localhost:8080/",
          "height": 34
        }
      },
      "source": [
        "\"\"\"This program is a template for lab reports in the course\"\"\"\n",
        "\"\"\"DD2363 Methods in Scientific Computing, \"\"\"\n",
        "\"\"\"KTH Royal Institute of Technology, Stockholm, Sweden.\"\"\"\n",
        "\n",
        "# Copyright (C) 2019 Edvin von Platen (edvinvp@kth.se)\n",
        "\n",
        "# This file is part of the course DD2363 Methods in Scientific Computing\n",
        "# KTH Royal Institute of Technology, Stockholm, Sweden\n",
        "#\n",
        "# This is free software: you can redistribute it and/or modify\n",
        "# it under the terms of the GNU Lesser General Public License as published by\n",
        "# the Free Software Foundation, either version 3 of the License, or\n",
        "# (at your option) any later version.\n",
        "\n",
        "# This template is maintained by Johan Hoffman\n",
        "# Please report problems to jhoffman@kth.se"
      ],
      "execution_count": 0,
      "outputs": [
        {
          "output_type": "execute_result",
          "data": {
            "text/plain": [
              "'KTH Royal Institute of Technology, Stockholm, Sweden.'"
            ]
          },
          "metadata": {
            "tags": []
          },
          "execution_count": 1
        }
      ]
    },
    {
      "cell_type": "markdown",
      "metadata": {
        "id": "28xLGz8JX3Hh",
        "colab_type": "text"
      },
      "source": [
        "# **Set up environment**"
      ]
    },
    {
      "cell_type": "markdown",
      "metadata": {
        "id": "D2PYNusD08Wa",
        "colab_type": "text"
      },
      "source": [
        "To have access to the neccessary modules you have to run this cell. If you need additional modules, this is where you add them. "
      ]
    },
    {
      "cell_type": "code",
      "metadata": {
        "id": "Xw7VlErAX7NS",
        "colab_type": "code",
        "colab": {}
      },
      "source": [
        "# Load neccessary modules.\n",
        "from google.colab import files\n",
        "\n",
        "import time\n",
        "import numpy as np\n",
        "\n",
        "from matplotlib import pyplot as plt\n",
        "from matplotlib import tri\n",
        "from matplotlib import axes\n",
        "from mpl_toolkits.mplot3d import Axes3D\n",
        "from scipy import integrate"
      ],
      "execution_count": 0,
      "outputs": []
    },
    {
      "cell_type": "markdown",
      "metadata": {
        "id": "gnO3lhAigLev",
        "colab_type": "text"
      },
      "source": [
        "# **Introduction**"
      ]
    },
    {
      "cell_type": "markdown",
      "metadata": {
        "id": "l5zMzgPlRAF6",
        "colab_type": "text"
      },
      "source": [
        "The Assemble System algorithm is a general method for assembling equation system which solution is an approximation of some function. The algorithm is general in the sense that by only modifying the function calls within the algorithm we can change the approximation method used.\n",
        "\n",
        "We implement functions for the assembly of a system for $L^2$ projection to piecewise linear polynomials over a mesh in one dimension.\n",
        "\n",
        "All referenced material can be found in the course [DD2363 Methods in Scientific Computing](https://kth.instructure.com/courses/17068) lecture notes.\n"
      ]
    },
    {
      "cell_type": "markdown",
      "metadata": {
        "id": "WeFO9QMeUOAu",
        "colab_type": "text"
      },
      "source": [
        "# **Methods**"
      ]
    },
    {
      "cell_type": "markdown",
      "metadata": {
        "id": "zF4iBj5VURZx",
        "colab_type": "text"
      },
      "source": [
        "### **L2 Projection to Piecewise Linear Approximation over Mesh in 1D**\n",
        "We have implemented Algorithm 9.2, Assemble system, for piecewise linear approxiamtion in one dimension according to example 9.11.\n",
        "\n",
        "The idea is to use $L^2$ projection to project a function $f\\in L^2(I)$ onto the space of continious piecewise linear polynomials $V_h^{(1)}$, the projection $P_h f(x)$ over the interval $I$, divided in $m+1$ intervals, is given by (9.13),\n",
        "$$\n",
        "P_h f(x) = \\sum_{j=0}^{m+1} \\alpha_j \\phi_j(x).\n",
        "$$\n",
        "where $\\phi_j(x)$ is the basis functions (9.7),\n",
        "$$\n",
        "\\phi_j(x) = \\begin{cases}\n",
        "\\lambda_{j,1}(x), & x \\in I_j, \\\\\n",
        "\\lambda_{j+1,0}(x), & x\\in I_{j+1}, \\\\\n",
        "0, & otherwise.\n",
        "\\end{cases}\n",
        "$$\n",
        "defined by the local linear Lagrange shape functions for subinterval $I_j$,\n",
        "$$\n",
        "\\lambda_{j,0} = \\frac{x_j - x}{h_j}, \\ \\ \\ \\lambda_{j,1} = \\frac{x - x_{k-1}}{h_k}.\n",
        "$$\n",
        "We are to determine the coordinates $\\alpha_j$ in (9.13), which can be done by solving the system,\n",
        "$$\n",
        "A\\alpha = b.\n",
        "$$\n",
        "$A$ is known as the *mass* matrix $(a_{ij}) = (\\phi_j, \\phi_i)$, $b$ as the *load* vector $b_i = (f,\\phi_i)$, and $\\alpha$ as the *solution* vector. \n",
        "\n",
        "We use the analytical integrals computed in (9.14), (9.15), and (9.16) for the mass matrix values, \n",
        "\\begin{align*}\n",
        "a_{ii} &= (\\phi_i,\\phi_i) = \\int_0^1 \\phi_i^2(x)dx) = \\int_{I_i} \\lambda_{i,1}^2 (x) dx + \\int_{ I_{i+1} } \\lambda_{i+1,0}^2(x) dx \\\\\n",
        "&= \\frac{h_i}{3} + \\frac{h_{i+1}}{3}, \\\\\n",
        "a_{ii+1} &=  \\frac{h_{i+1}}{6}, \\\\\n",
        "a_{ii-1} &= \\frac{h_i}{6}.\n",
        "\\end{align*}\n",
        "The load vector is given by (9.17),\n",
        "$$\n",
        "b_i = (f,\\phi_i) = \\int_0^1 f(x) dx = \\int_{I_i} \\lambda_{i,1}(x)f(x)dx + \\int_{I_{i+1}}\\lambda_{i+1,0}f(x)dx.\n",
        "$$\n",
        "While we could compute the integrals for each point $x_i$, it is more efficient to iterate over the subintervals and compute the integrals one subinterval at a time. For each subinterval $k$ we build a $2\\times 2$ local mass matrix and a $2 \\times 1$ local load vector, since we use linear polynomials. We then add the local matrix and vector to their global counterpart. I.e. only one term of the integral sums for $a_{ii}$ and $b_i$ are computed in a subinterval, the two terms are then added in the global matrix and vector. We use the scipy.integrate.quad function to numerically integrate $b_i$.\n",
        "\n",
        "The assembly method is implemented inside the class L2_approx, which may not be optimal for the portability of the assemble_system method, but it suits our use case well."
      ]
    },
    {
      "cell_type": "code",
      "metadata": {
        "id": "0x7v4O7YVxDL",
        "colab_type": "code",
        "colab": {}
      },
      "source": [
        "class L2_approx:\n",
        "\n",
        "  def __init__(self, points):\n",
        "    self.points = points\n",
        "    m = len(points)\n",
        "    self.global_matrix = np.zeros((m,m))\n",
        "    self.global_vector = np.zeros(m)\n",
        "  \n",
        "  def reset(self, points):\n",
        "    self.points = points\n",
        "    m = len(points)\n",
        "    self.global_matrix = np.zeros((m,m))\n",
        "    self.global_vector = np.zeros(m)\n",
        "\n",
        "  def get_no_local_shape_functions(self, k):\n",
        "    return 1\n",
        "\n",
        "  def get_local_to_global_map(self, k):\n",
        "    return (k,k+1)\n",
        "\n",
        "  def integrate_vector(self, f, k, i):\n",
        "    loc2glob = self.get_local_to_global_map(k)\n",
        "    h = abs(self.points[loc2glob[0]] - self.points[loc2glob[1]])\n",
        "    if i == 0:\n",
        "      g = lambda x: f(x) * (self.points[loc2glob[1]] - x) / h\n",
        "      return integrate.quad(g, self.points[loc2glob[0]], self.points[loc2glob[1]])[0]\n",
        "    elif i == 1:\n",
        "      g = lambda x: f(x) * (x - self.points[loc2glob[0]]) / h \n",
        "      return integrate.quad(g, self.points[loc2glob[0]], self.points[loc2glob[1]])[0]\n",
        "\n",
        "  def integrate_matrix(self,k, i, j):\n",
        "    loc2glob = self.get_local_to_global_map(k)\n",
        "    h = abs(self.points[loc2glob[0]] - self.points[loc2glob[1]])\n",
        "    if i == j:\n",
        "      return h/3\n",
        "    elif j == i + 1 or j == i - 1:\n",
        "      return h/6\n",
        "    else:\n",
        "      return 0\n",
        "\n",
        "  def add_to_global_vector(self, b, loc2glob):\n",
        "    self.global_vector[loc2glob[0]] += b[0]\n",
        "    self.global_vector[loc2glob[1]] += b[1]\n",
        "                \n",
        "  def add_to_global_matrix(self, A, loc2glob,k):\n",
        "    i,j = loc2glob\n",
        "    self.global_matrix[i,i] += A[0,0]\n",
        "    self.global_matrix[i,j] += A[0,1]\n",
        "    self.global_matrix[i+1,i] += A[1,0]\n",
        "    self.global_matrix[j,j] = +A[1,1]\n",
        "\n",
        "  def assemble_system(self, f, no_subintervals):\n",
        "    for k in range(0,no_subintervals):\n",
        "      q = self.get_no_local_shape_functions(k)\n",
        "      loc2glob = self.get_local_to_global_map(k)\n",
        "      A = np.zeros((q+1,q+1))\n",
        "      b = np.zeros((q+1))\n",
        "      for i in range(q+1):\n",
        "        b[i] = self.integrate_vector(f,k,i)\n",
        "        for j in range(q+1):\n",
        "          A[i,j] = self.integrate_matrix(k,i,j)\n",
        "      self.add_to_global_vector(b,loc2glob)\n",
        "      self.add_to_global_matrix(A,loc2glob,k)\n",
        "  \n",
        "  def solve(self):\n",
        "    return np.linalg.solve(self.global_matrix, self.global_vector)"
      ],
      "execution_count": 0,
      "outputs": []
    },
    {
      "cell_type": "markdown",
      "metadata": {
        "id": "SsQLT38gVbn_",
        "colab_type": "text"
      },
      "source": [
        "# **Results**"
      ]
    },
    {
      "cell_type": "markdown",
      "metadata": {
        "id": "OcSl9v11bGZ-",
        "colab_type": "text"
      },
      "source": [
        "In this section we test the accuracy and convergence rate of the implementation compared to the exact function.\n",
        "\n",
        "We start with a simple polynomial $p(x) = x^2 - 5$ on the interval $I = [-5,5]$, and $n=100$ points."
      ]
    },
    {
      "cell_type": "code",
      "metadata": {
        "id": "-JWEYzksbkXW",
        "colab_type": "code",
        "outputId": "53226697-fe45-4896-9c9f-bc6683accaab",
        "colab": {
          "base_uri": "https://localhost:8080/",
          "height": 282
        }
      },
      "source": [
        "test = L2_approx([])\n",
        "points = np.linspace(-5,5,100)\n",
        "test.reset(points)\n",
        "test.assemble_system(lambda x: x*x - 5, len(points) - 1)\n",
        "res = test.solve()\n",
        "plt.plot(points,res,label='L2 Approximation')\n",
        "y = list(map(lambda x: x*x - 5, points))\n",
        "plt.plot(points, y,label='Exact solution')\n",
        "plt.legend(loc='lower right')"
      ],
      "execution_count": 6,
      "outputs": [
        {
          "output_type": "execute_result",
          "data": {
            "text/plain": [
              "<matplotlib.legend.Legend at 0x7fc39a88b320>"
            ]
          },
          "metadata": {
            "tags": []
          },
          "execution_count": 6
        },
        {
          "output_type": "display_data",
          "data": {
            "image/png": "[encoded data removed]",
            "text/plain": [
              "<Figure size 432x288 with 1 Axes>"
            ]
          },
          "metadata": {
            "tags": []
          }
        }
      ]
    },
    {
      "cell_type": "markdown",
      "metadata": {
        "id": "GIp2TofadW1w",
        "colab_type": "text"
      },
      "source": [
        "We see that the two graphs appear to be completely overlapping, but to verify the accuracy we compute the absolute error between the approximation and the exact solution."
      ]
    },
    {
      "cell_type": "code",
      "metadata": {
        "id": "iW1nWXufeMua",
        "colab_type": "code",
        "outputId": "7be1bbf8-2b53-4779-ec1c-f561b88ddefc",
        "colab": {
          "base_uri": "https://localhost:8080/",
          "height": 54
        }
      },
      "source": [
        "err = list(map(lambda x,y: abs(x-y), res, y))\n",
        "print(err)"
      ],
      "execution_count": 7,
      "outputs": [
        {
          "output_type": "stream",
          "text": [
            "[0.0017005067505344584, 0.0017005067514297423, 0.001700506750825781, 0.0017005067508577554, 0.0017005067513444772, 0.0017005067506925542, 0.0017005067511526306, 0.0017005067511277616, 0.0017005067507476213, 0.0017005067512876337, 0.0017005067507991356, 0.001700506751154407, 0.001700506750935915, 0.0017005067510424965, 0.001700506750960784, 0.001700506751085129, 0.0017005067509696659, 0.0017005067510291738, 0.0017005067509865412, 0.001700506751030062, 0.0017005067510225125, 0.0017005067510025285, 0.0017005067510034166, 0.0017005067510216243, 0.0017005067510162952, 0.0017005067510078575, 0.001700506751010189, 0.001700506751013825, 0.0017005067510094118, 0.0017005067510139638, 0.0017005067510111882, 0.0017005067510114102, 0.0017005067510118543, 0.0017005067510122984, 0.001700506751010522, 0.0017005067510122984, 0.0017005067510114102, 0.0017005067510114102, 0.001700506751010078, 0.0017005067510136307, 0.0017005067510122984, 0.0017005067510114102, 0.0017005067510122984, 0.0017005067510114102, 0.0017005067510122984, 0.0017005067510122984, 0.0017005067510114102, 0.0017005067510122984, 0.001700506751010522, 0.0017005067510131866, 0.0017005067510114102, 0.001700506751010522, 0.0017005067510114102, 0.0017005067510122984, 0.0017005067510140748, 0.0017005067510096339, 0.0017005067510131866, 0.001700506751010522, 0.0017005067510131866, 0.0017005067510122984, 0.0017005067510136307, 0.0017005067510114102, 0.0017005067510122984, 0.0017005067510114102, 0.0017005067510114102, 0.0017005067510122984, 0.0017005067510114102, 0.0017005067510125205, 0.0017005067510116323, 0.0017005067510125205, 0.0017005067510110772, 0.0017005067510116323, 0.0017005067510114658, 0.0017005067510117433, 0.0017005067510111882, 0.0017005067510116323, 0.0017005067510114102, 0.0017005067510118543, 0.0017005067510118543, 0.0017005067510118543, 0.0017005067510114102, 0.0017005067510131866, 0.0017005067510131866, 0.0017005067510114102, 0.0017005067510114102, 0.0017005067510131866, 0.001700506751010522, 0.0017005067510140748, 0.001700506751005193, 0.0017005067510122984, 0.0017005067510176275, 0.001700506751010522, 0.0017005067510122984, 0.0017005067510122984, 0.0017005067510087457, 0.0017005067510176275, 0.0017005067510140748, 0.0017005067510140748, 0.0017005067510140748, 0.0017005067510140748]\n"
          ],
          "name": "stdout"
        }
      ]
    },
    {
      "cell_type": "markdown",
      "metadata": {
        "id": "WAnbeHH2fg4b",
        "colab_type": "text"
      },
      "source": [
        "The error is stationary around $0.0017$.\n",
        "\n",
        "We continue by approximating the more difficult function,\n",
        "$$\n",
        "f(x) = \\frac{e^xsin(x)}{(x+1)^6}, x \\in [0,20].\n",
        "$$\n",
        "using $n=10$ and $n=50$ points."
      ]
    },
    {
      "cell_type": "code",
      "metadata": {
        "id": "3GXEHnWggdLc",
        "colab_type": "code",
        "outputId": "dc8fc46d-a43b-4134-f466-eac3c6314d4f",
        "colab": {
          "base_uri": "https://localhost:8080/",
          "height": 282
        }
      },
      "source": [
        "f = lambda x: np.exp(x)*np.sin(x)/((x+1)**6)\n",
        "test = L2_approx([])\n",
        "points_10 = np.linspace(0,20,10)\n",
        "points_50 = np.linspace(0,20,50)\n",
        "test.reset(points_10)\n",
        "test.assemble_system(f, len(points_10) - 1)\n",
        "res_10 = test.solve()\n",
        "plt.plot(points_10,res_10,label='L2 Approximation, n=10')\n",
        "\n",
        "test.reset(points_50)\n",
        "test.assemble_system(f, len(points_50) - 1)\n",
        "res_50 = test.solve()\n",
        "plt.plot(points_50,res_50,label='L2 Approximation, n=50')\n",
        "\n",
        "y_50 = list(map(f, points_50))\n",
        "y_10 = list(map(f, points_10))\n",
        "plt.plot(points_50, y_50,label='Exact solution')\n",
        "plt.legend(loc='upper left')"
      ],
      "execution_count": 9,
      "outputs": [
        {
          "output_type": "execute_result",
          "data": {
            "text/plain": [
              "<matplotlib.legend.Legend at 0x7fc39a30d860>"
            ]
          },
          "metadata": {
            "tags": []
          },
          "execution_count": 9
        },
        {
          "output_type": "display_data",
          "data": {
            "image/png": "[encoded data removed]",
            "text/plain": [
              "<Figure size 432x288 with 1 Axes>"
            ]
          },
          "metadata": {
            "tags": []
          }
        }
      ]
    },
    {
      "cell_type": "markdown",
      "metadata": {
        "id": "kqb3EuoeiI5t",
        "colab_type": "text"
      },
      "source": [
        "Using $n=10$ points the approximation deterioates quite severly at the end point.\n",
        "\n",
        "We inspect the error for $n=10$,"
      ]
    },
    {
      "cell_type": "code",
      "metadata": {
        "id": "xNYysQNb9PD2",
        "colab_type": "code",
        "colab": {
          "base_uri": "https://localhost:8080/",
          "height": 319
        },
        "outputId": "89f557cb-de44-43a4-c19b-d0b32a94de96"
      },
      "source": [
        "err = list(map(lambda x,y: abs(x-y), res_10, y_10))\n",
        "print(err)\n",
        "plt.plot(points_10, err, label='Absolute error of exact solution and approximation, n=10')\n",
        "plt.legend(loc='upper left')"
      ],
      "execution_count": 14,
      "outputs": [
        {
          "output_type": "stream",
          "text": [
            "[0.07355078666533793, 0.0049438535846924835, 0.0005807159419306102, 0.0002946754470500468, 0.0038508469644417467, 0.005502726092008508, 0.03155112708412108, 0.23334010327642518, 0.5934990308028445, 1.6339585905136835]\n"
          ],
          "name": "stdout"
        },
        {
          "output_type": "execute_result",
          "data": {
            "text/plain": [
              "<matplotlib.legend.Legend at 0x7fc399ed0780>"
            ]
          },
          "metadata": {
            "tags": []
          },
          "execution_count": 14
        },
        {
          "output_type": "display_data",
          "data": {
            "image/png": "[encoded data removed]",
            "text/plain": [
              "<Figure size 432x288 with 1 Axes>"
            ]
          },
          "metadata": {
            "tags": []
          }
        }
      ]
    },
    {
      "cell_type": "markdown",
      "metadata": {
        "id": "esXEKzDz-hb1",
        "colab_type": "text"
      },
      "source": [
        "We see that the error increases when $f(x)$ grows."
      ]
    },
    {
      "cell_type": "markdown",
      "metadata": {
        "id": "_4GLBv0zWr7m",
        "colab_type": "text"
      },
      "source": [
        "# **Discussion**"
      ]
    },
    {
      "cell_type": "markdown",
      "metadata": {
        "id": "6bcsDSoRXHZe",
        "colab_type": "text"
      },
      "source": [
        "The implementation appear to be sound and the results appear to be quite accurate, at least when using smaller step sizes. I was quite surprised at how accurate the method is for more difficult functions, even if its in only one dimension. The part of the implementation which was the most challenging for me was definitely understanding the assembly of $b$, and that only one term was to be computed each subinterval."
      ]
    }
  ]
}