{
 "cells": [
  {
   "cell_type": "markdown",
   "source": [
    "[<img src=\"https://colab.research.google.com/assets/colab-badge.svg\">](https://colab.research.google.com/github/johanhoffman/DD2363-VT20/blob/tree/viktorme/Lab-5/lab5_integration.ipynb)\n",
    "# Lab 5: Quadrature #\n",
    "**Viktor Meyer - DD2363 Methods in Scientific Computing**"
   ],
   "metadata": {
    "collapsed": false
   }
  },
  {
   "cell_type": "markdown",
   "source": [
    "# **Abstract**\n",
    "This lab is an exercise in approximation methods of integrals. Multiple methods were implemented with different characteristics. Two of the methods provided very close approximations in a single evaluation while the third method had an iterative approach with the goal of eventually converging."
   ],
   "metadata": {
    "collapsed": false
   }
  },
  {
   "cell_type": "markdown",
   "source": [
    "# **Environment**\n",
    "To have access to the necessary modules you have to run this cell."
   ],
   "metadata": {
    "collapsed": false
   }
  },
  {
   "cell_type": "code",
   "execution_count": 201,
   "outputs": [],
   "source": [
    "# Load necessary modules.\n",
    "\n",
    "import numpy as np\n",
    "import scipy.integrate as integrate\n",
    "import math\n",
    "import random\n",
    "\n",
    "from matplotlib import pyplot as plt"
   ],
   "metadata": {
    "collapsed": false,
    "pycharm": {
     "name": "#%%\n",
     "is_executing": false
    }
   }
  },
  {
   "cell_type": "markdown",
   "source": [
    "# **Introduction**\n",
    "The methods to be implemented were covered in the during lectures and definitions are available in the lecture notes. The aim of this lab is to approach the problem of integrating functions using approximation. The mandatory part includes 2-point Gauss quadrature over a unit interval, 3-point edge midpoint quadrature over a reference triangle, Monte Carlo quadrature over a unit interval. There is also an extra assignment Monte Carlo quadrature over a reference triangle.\n",
    "> [1] LN-DD2363-part6.pdf, p. 161"
   ],
   "metadata": {
    "collapsed": false
   }
  },
  {
   "cell_type": "markdown",
   "source": [
    "# **Methods**"
   ],
   "metadata": {
    "collapsed": false
   }
  },
  {
   "cell_type": "markdown",
   "source": [
    "### 2-point Gauss quadrature over a unit interval ###\n",
    "Code is commented with references to the theoretical background.\n",
    "> [2] LN-DD2363-part6.pdf, pp. 205-206\n",
    "\n",
    "> [3] http://mathforcollege.com/nm/mws/gen/07int/mws_gen_int_txt_gaussquadrature.pdf"
   ],
   "metadata": {
    "collapsed": false
   }
  },
  {
   "cell_type": "code",
   "execution_count": 202,
   "outputs": [],
   "source": [
    "def randpoly():\n",
    "    a = random.uniform(1, 10)\n",
    "    b = random.uniform(1, 10)\n",
    "    c = random.uniform(1, 10)\n",
    "    d = random.uniform(1, 10)\n",
    "    \n",
    "    f = lambda x : a*math.pow(x,3) + b*math.pow(x,2) + c*math.pow(x,1) + d\n",
    "    F = lambda x : a*math.pow(x,4)/4 + b*math.pow(x,3)/3 + c*math.pow(x,2)/2 + d*math.pow(x,1)/1\n",
    "    \n",
    "    return [f, F(1) - F(0)]\n",
    "\n",
    "def gaussquadunit(f):\n",
    "    \n",
    "    # c1 = (b-a)/2. [3]\n",
    "    c1 = (1-0)/2\n",
    "    \n",
    "    # c2 = ((b-a)/2). [3]\n",
    "    c2 = (1-0)/2\n",
    "    \n",
    "    # x1 = ((b-a)/2)*(-1/sqrt(3))+((b-a)/2). [3]\n",
    "    x1 = (1-0)/2*(-1/math.sqrt(3))+(1-0)/2 \n",
    "    \n",
    "    # x2 = ((b-a)/2)*(-1/sqrt(3))+((b-a)/2). [3]\n",
    "    x2 = (1-0)/2*(1/math.sqrt(3))+(1-0)/2\n",
    "    \n",
    "    return f(x1)*c1 + f(x2)*c2"
   ],
   "metadata": {
    "collapsed": false,
    "pycharm": {
     "name": "#%%\n",
     "is_executing": false
    }
   }
  },
  {
   "cell_type": "markdown",
   "source": [
    "### 3-point edge midpoint quadrature over a reference triangle ###\n",
    "Code is commented with references to the theoretical background.\n",
    "> [4] LN-DD2363-part6.pdf, pp. 206\n",
    "\n",
    "> [5] http://www.cs.rpi.edu/~flaherje/pdf/fea6.pdf"
   ],
   "metadata": {
    "collapsed": false
   }
  },
  {
   "cell_type": "code",
   "execution_count": 203,
   "outputs": [],
   "source": [
    "def randtet():\n",
    "    a = random.uniform(1, 10)\n",
    "    b = random.uniform(1, 10)\n",
    "    c = random.uniform(1, 10)\n",
    "    d = random.uniform(1, 10)\n",
    "    e = random.uniform(1, 10)\n",
    "    f = random.uniform(1, 10)\n",
    "    \n",
    "    fn = lambda x,y : a*math.pow(x,2) + b*math.pow(y,2) + c*x*y + d*x + e*y + f\n",
    "    Fn = (1/24)*(2*a+2*b+c+4*d+12*f+4*e)\n",
    "    \n",
    "    return [fn, Fn]\n",
    "\n",
    "def gaussquadtriangle(f):\n",
    "    \n",
    "    # An 3-point rule which is exact for quadratic integrands is obtained by choosing\n",
    "    # the quadrature points as the midpoints of the three edges, with weights\n",
    "    # w0=w1=w2=1/6,motivated by the symmetry of the quadrature points. [4]\n",
    "    w0 = 1/6\n",
    "    w1 = 1/6\n",
    "    w2 = 1/6\n",
    "    \n",
    "    # As expected the optimal evaluation point is the centroid of the triangle. [5]\n",
    "    x0 = [0, 0.5]\n",
    "    x1 = [0.5, 0.5]\n",
    "    x2 = [0.5, 0]\n",
    "    \n",
    "    return f(x0[0],x0[1])*w0 + f(x1[0],x1[1])*w1+f(x2[0],x2[1])*w2"
   ],
   "metadata": {
    "collapsed": false,
    "pycharm": {
     "name": "#%%\n",
     "is_executing": false
    }
   }
  },
  {
   "cell_type": "markdown",
   "source": [
    "### Monte Carlo quadrature over a unit interval ###\n",
    "Monte Carlo integration samples a function at random. That is, the algorithm evaluates n samples at random positions over its interval. With a large enough samples size (law of large numbers) the result will converge to the exact solution.\n",
    "> [6] LN-DD2363-part6.pdf, pp. 224-225"
   ],
   "metadata": {
    "collapsed": false
   }
  },
  {
   "cell_type": "code",
   "execution_count": 204,
   "outputs": [],
   "source": [
    "def montecarlounit(f, n):\n",
    "    \n",
    "    result = 0\n",
    "    \n",
    "    for i in range(n):\n",
    "        result += f(random.uniform(0,1))\n",
    "    \n",
    "    result /= n\n",
    "    \n",
    "    return result"
   ],
   "metadata": {
    "collapsed": false,
    "pycharm": {
     "name": "#%%\n",
     "is_executing": false
    }
   }
  },
  {
   "cell_type": "markdown",
   "source": [
    "# **Results**"
   ],
   "metadata": {
    "collapsed": false
   }
  },
  {
   "cell_type": "markdown",
   "source": [
    "### 2-point Gauss quadrature over a unit interval  ###\n",
    "We check that the approximation is close enough to the exact solution."
   ],
   "metadata": {
    "collapsed": false,
    "pycharm": {
     "name": "#%% md\n"
    }
   }
  },
  {
   "cell_type": "code",
   "execution_count": 205,
   "outputs": [
    {
     "name": "stdout",
     "text": [
      "Test Completed Successfully!\n"
     ],
     "output_type": "stream"
    }
   ],
   "source": [
    "def test_gaussquadunit():\n",
    "    \n",
    "    for i in range(1, 1000, 1):\n",
    "      poly = randpoly()\n",
    "      apx = gaussquadunit(poly[0])\n",
    "      assert np.isclose(apx, poly[1])\n",
    "        \n",
    "    print(\"Test Completed Successfully!\")\n",
    "    \n",
    "test_gaussquadunit()"
   ],
   "metadata": {
    "collapsed": false,
    "pycharm": {
     "name": "#%%\n",
     "is_executing": false
    }
   }
  },
  {
   "cell_type": "markdown",
   "source": [
    "### 3-point edge midpoint quadrature over a reference triangle  ###\n",
    "We check that the approximation is close enough to the exact solution."
   ],
   "metadata": {
    "collapsed": false
   }
  },
  {
   "cell_type": "code",
   "execution_count": 206,
   "outputs": [
    {
     "name": "stdout",
     "text": [
      "Test Completed Successfully!\n"
     ],
     "output_type": "stream"
    }
   ],
   "source": [
    "def test_gaussquadtriangle():\n",
    "    \n",
    "    for i in range(1, 1000, 1):\n",
    "      tet = randtet()\n",
    "      apx = gaussquadtriangle(tet[0])\n",
    "      assert np.isclose(apx, tet[1])\n",
    "        \n",
    "    print(\"Test Completed Successfully!\")\n",
    "    \n",
    "test_gaussquadtriangle()"
   ],
   "metadata": {
    "collapsed": false,
    "pycharm": {
     "name": "#%%\n",
     "is_executing": false
    }
   }
  },
  {
   "cell_type": "markdown",
   "source": [
    "### Monte Carlo quadrature over a unit interval ###\n",
    "We check that the error converges towards zero as the number of samples increases. By inspection it is apparent that the convergence rate resembles 1/sqrt(samples)."
   ],
   "metadata": {
    "collapsed": false,
    "pycharm": {
     "name": "#%% md\n"
    }
   }
  },
  {
   "cell_type": "code",
   "execution_count": 207,
   "outputs": [
    {
     "data": {
      "text/plain": "<Figure size 432x288 with 1 Axes>",
      "image/png": "[encoded data removed]"
     },
     "metadata": {
      "needs_background": "light"
     },
     "output_type": "display_data"
    }
   ],
   "source": [
    "def test_montecarlo():\n",
    "    \n",
    "    samples = np.array([])\n",
    "    errs = np.array([])\n",
    "    poly = randpoly()\n",
    "    \n",
    "    for i in range(1, 1000, 1):\n",
    "      apx = montecarlounit(poly[0], i)\n",
    "      samples = np.append(samples, i)\n",
    "      err = apx-poly[1]\n",
    "      errs = np.append(errs, np.abs(err))\n",
    "\n",
    "    plt.plot(samples, errs)\n",
    "    plt.xlabel(\"Samples\")\n",
    "    plt.ylabel(\"Error\")\n",
    "    \n",
    "    plt.show()\n",
    "    \n",
    "test_montecarlo()"
   ],
   "metadata": {
    "collapsed": false,
    "pycharm": {
     "name": "#%%\n",
     "is_executing": false
    }
   }
  },
  {
   "cell_type": "markdown",
   "source": [
    "# **Discussion**\n",
    "\n",
    "This lab showed that approximation methods can yield tight solutions. Monte Carlo iteration was very interesting since it is very simple while still being able to yield accurate results. That being said, there is of course the downside of randomness and the need for large sample sizes."
   ],
   "metadata": {
    "collapsed": false
   }
  }
 ],
 "metadata": {
  "kernelspec": {
   "name": "python3",
   "language": "python",
   "display_name": "Python 3"
  },
  "language_info": {
   "codemirror_mode": {
    "name": "ipython",
    "version": 2
   },
   "file_extension": ".py",
   "mimetype": "text/x-python",
   "name": "python",
   "nbconvert_exporter": "python",
   "pygments_lexer": "ipython2",
   "version": "2.7.6"
  },
  "pycharm": {
   "stem_cell": {
    "cell_type": "raw",
    "source": [],
    "metadata": {
     "collapsed": false
    }
   }
  }
 },
 "nbformat": 4,
 "nbformat_minor": 0
}