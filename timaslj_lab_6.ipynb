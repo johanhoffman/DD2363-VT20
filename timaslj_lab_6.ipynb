{
  "nbformat": 4,
  "nbformat_minor": 0,
  "metadata": {
    "colab": {
      "name": "timaslj-lab-6.ipynb",
      "provenance": [],
      "collapsed_sections": [],
      "include_colab_link": true
    },
    "kernelspec": {
      "name": "python3",
      "display_name": "Python 3"
    }
  },
  "cells": [
    {
      "cell_type": "markdown",
      "metadata": {
        "id": "view-in-github",
        "colab_type": "text"
      },
      "source": [
        "<a href=\"https://colab.research.google.com/github/johanhoffman/DD2363-VT20/blob/timaslj_lab6/timaslj_lab_6.ipynb\" target=\"_parent\"><img src=\"https://colab.research.google.com/assets/colab-badge.svg\" alt=\"Open In Colab\"/></a>"
      ]
    },
    {
      "cell_type": "markdown",
      "metadata": {
        "id": "6RgtXlfYO_i7",
        "colab_type": "text"
      },
      "source": [
        "\n",
        "# **Lab 6: Differential equations**\n",
        "**Timas Ljungdahl**"
      ]
    },
    {
      "cell_type": "markdown",
      "metadata": {
        "id": "9x_J5FVuPzbm",
        "colab_type": "text"
      },
      "source": [
        "# **Abstract**"
      ]
    },
    {
      "cell_type": "markdown",
      "metadata": {
        "id": "6UFTSzW7P8kL",
        "colab_type": "text"
      },
      "source": [
        "In this report, 3 types of quadrature algorithms were implemented for approximation of definite integrals. The quadrature rules that were implemented were 2 point Gaussian quadrature, 3 point edge midpoint quadrature and Monte Carlo quadrature. "
      ]
    },
    {
      "cell_type": "markdown",
      "metadata": {
        "id": "OkT8J7uOWpT3",
        "colab_type": "text"
      },
      "source": [
        "#**About the code**"
      ]
    },
    {
      "cell_type": "markdown",
      "metadata": {
        "id": "HmB2noTr1Oyo",
        "colab_type": "text"
      },
      "source": [
        "A short statement on who is the author of the file, and if the code is distributed under a certain license. "
      ]
    },
    {
      "cell_type": "code",
      "metadata": {
        "id": "Pdll1Xc9WP0e",
        "colab_type": "code",
        "outputId": "f74fa781-413b-41e7-a2ec-1bba2288ad4f",
        "colab": {
          "base_uri": "https://localhost:8080/",
          "height": 34
        }
      },
      "source": [
        "\"\"\"This program is a template for lab reports in the course\"\"\"\n",
        "\"\"\"DD2363 Methods in Scientific Computing, \"\"\"\n",
        "\"\"\"KTH Royal Institute of Technology, Stockholm, Sweden.\"\"\"\n",
        "\n",
        "# Copyright (C) 2019 Johan Hoffman (jhoffman@kth.se)\n",
        "\n",
        "# This file is part of the course DD2363 Methods in Scientific Computing\n",
        "# KTH Royal Institute of Technology, Stockholm, Sweden\n",
        "#\n",
        "# This is free software: you can redistribute it and/or modify\n",
        "# it under the terms of the GNU Lesser General Public License as published by\n",
        "# the Free Software Foundation, either version 3 of the License, or\n",
        "# (at your option) any later version.\n",
        "\n",
        "# This template is maintained by Johan Hoffman\n",
        "# Please report problems to jhoffman@kth.se"
      ],
      "execution_count": 0,
      "outputs": [
        {
          "output_type": "execute_result",
          "data": {
            "text/plain": [
              "'KTH Royal Institute of Technology, Stockholm, Sweden.'"
            ]
          },
          "metadata": {
            "tags": []
          },
          "execution_count": 1
        }
      ]
    },
    {
      "cell_type": "markdown",
      "metadata": {
        "id": "28xLGz8JX3Hh",
        "colab_type": "text"
      },
      "source": [
        "# **Set up environment**"
      ]
    },
    {
      "cell_type": "markdown",
      "metadata": {
        "id": "D2PYNusD08Wa",
        "colab_type": "text"
      },
      "source": [
        "To have access to the neccessary modules you have to run this cell. If you need additional modules, this is where you add them. "
      ]
    },
    {
      "cell_type": "code",
      "metadata": {
        "id": "Xw7VlErAX7NS",
        "colab_type": "code",
        "colab": {}
      },
      "source": [
        "# Load neccessary modules.\n",
        "from google.colab import files\n",
        "\n",
        "import time\n",
        "import numpy as np\n",
        "import unittest\n",
        "import random\n",
        "import math\n",
        "\n",
        "from sympy import * \n",
        "\n",
        "from matplotlib import pyplot as plt\n",
        "from matplotlib import tri\n",
        "from matplotlib import axes\n",
        "from mpl_toolkits.mplot3d import Axes3D"
      ],
      "execution_count": 0,
      "outputs": []
    },
    {
      "cell_type": "markdown",
      "metadata": {
        "id": "gnO3lhAigLev",
        "colab_type": "text"
      },
      "source": [
        "# **Introduction**"
      ]
    },
    {
      "cell_type": "markdown",
      "metadata": {
        "id": "l5zMzgPlRAF6",
        "colab_type": "text"
      },
      "source": [
        "We want to approximate definite integrals by summing over points in the domain and multiplying by a weight in the following way:\n",
        "\n",
        "$$\n",
        "\\int_{a}^{b} f(x) dx = \\sum_{i = 0}^{n}{f(x_i)w_i}\n",
        "$$\n",
        "\n",
        "Gaussian quadrature is constructed to yield an exact result for polynomial integrands of order q with quadrature points $\\{x_i\\}$ and weights $\\{w_i\\}$. The most common domain for integration is $[-1, 1]$. For this domain, the two points chosen for two point Gaussian quadrature are $x_0 = 1/\\sqrt{3}$ and $x_1 = 1/\\sqrt{3}$ with weights $w_0 = w_1 = 1$. To approximate the integral for a general domain $[a,b]$ we have to map the domain to $[-1, 1]$ in order for the rules to apply. This was done following the following formula: \n",
        "\n",
        "$$\n",
        "\\int_{a}^{b} f(x) dx = \\int_{-1}^{1}f(\\dfrac{b-a}{2}\\hat{x}+ \\dfrac{a+b}{2})\\dfrac{dx}{d\\hat{x}}d\\hat{x} \\approx \\dfrac{b-a}{2} \\sum_{i=1}^{n}w_if(\\dfrac{b-a}{2}\\hat{x}_i + \\dfrac{a+b}{2})\n",
        "$$\n",
        "\n",
        "where $\\{\\hat{x}_i\\}$ are the quadrature points in the domain $[-1, 1]$. The 2 point Gauss rule is exact for $p \\in p^3([-1,1])$. \n",
        "\n",
        "For the 3-point edge midpoint quadrature over the unit triangle, the points $x_0 = (0.5,0)$, $x_1 = (0.5,0.5)$, $x_2 = (0,0.5)$ and weights $w_0 = w_1 = w_2 = 1/6$ yield an exact result for $p \\in p^2$\n",
        "\n",
        "Monte Carlo quadrature follows the following formula:\n",
        "\n",
        "$$\n",
        "    \\int_{D} g(x) dx \\approx \\dfrac{|D|}{n}\\sum_{i=1}^{n}g(x_i)\n",
        "$$\n",
        "where $D$ the integration domain and $\\{x_i\\}$ are randomly chosen quadrature points. This technique evolves around creating \"boxes\" on the whole domain and taking the size average of these boxes. The error of this technique converges at the rate $\\dfrac{1}{\\sqrt{n}}$. \n",
        "\n"
      ]
    },
    {
      "cell_type": "markdown",
      "metadata": {
        "id": "WeFO9QMeUOAu",
        "colab_type": "text"
      },
      "source": [
        "# **Methods**\n",
        "\n",
        "The algorithms were implemented following the lecture notes. To test the various algorithms, random polynomials were generated and tested against the sympy integration."
      ]
    },
    {
      "cell_type": "markdown",
      "metadata": {
        "id": "SsQLT38gVbn_",
        "colab_type": "text"
      },
      "source": [
        "# **Results**"
      ]
    },
    {
      "cell_type": "markdown",
      "metadata": {
        "id": "ReqA7N1zE-SC",
        "colab_type": "text"
      },
      "source": [
        "### **Time stepping for scalar initial value problem du/dt = f(u,t)**\n",
        "\n",
        "The algorithm is tested many times for different intervals and random cubic polynomials. Since two point Gaussian quadrature should yield an exact result for cubic polynomials, the result is asserted to be equal to the result from sympy integration. "
      ]
    },
    {
      "cell_type": "code",
      "metadata": {
        "colab_type": "code",
        "id": "rOoUtmOWl90v",
        "outputId": "e245f0fa-e128-4b37-e3ef-5d49f9180ff3",
        "colab": {
          "base_uri": "https://localhost:8080/",
          "height": 283
        }
      },
      "source": [
        "def explicit_euler_scalar(T, f, initVal):\n",
        "    time_steps = np.arange(0, T+1e-6, 1e-6)\n",
        "    U = np.zeros(len(time_steps))\n",
        "    U[0] = initVal\n",
        "    for i in range(1, len(time_steps-1)):\n",
        "        dif = time_steps[i] - time_steps[i-1]\n",
        "        #print(dif)\n",
        "        U[i] = U[i-1] + dif*f(U[i-1], time_steps[i-1])\n",
        "    \n",
        "    plt.plot(time_steps, U)\n",
        "    plt.show()\n",
        "\n",
        "    return U\n",
        "\n",
        "U = explicit_euler(8, lambda u,t: u ,3)"
      ],
      "execution_count": 15,
      "outputs": [
        {
          "output_type": "display_data",
          "data": {
            "image/png": "[encoded data removed]",
            "text/plain": [
              "<Figure size 432x288 with 1 Axes>"
            ]
          },
          "metadata": {
            "tags": []
          }
        },
        {
          "output_type": "stream",
          "text": [
            "8942.838189725211\n"
          ],
          "name": "stdout"
        }
      ]
    },
    {
      "cell_type": "markdown",
      "metadata": {
        "id": "dIKMGZcXmk8T",
        "colab_type": "text"
      },
      "source": [
        "### **Time stepping for a system of  initial value problems du/dt = f(u,t)**\n",
        "The algorithm is tested many times for random quadratic polynomials. Since 3 point quadrature should yield an exact result for quadratic polynomials, the result is asserted to be equal to the result from sympy integration. "
      ]
    },
    {
      "cell_type": "code",
      "metadata": {
        "id": "SlQ38ChpOZeD",
        "colab_type": "code",
        "outputId": "1705aa37-39f8-435b-c7c2-99eb8706ea18",
        "colab": {
          "base_uri": "https://localhost:8080/",
          "height": 90
        }
      },
      "source": [
        "def explicit_euler_system(T, f, initVector):\n",
        "    time_steps = np.arange(0, T+1e-6, 1e-6)\n",
        "    U = np.zeros((2, len(time_steps)))\n",
        "    U[:,0] = initVector\n",
        "    for i in range(1, len(time_steps-1)):\n",
        "        dif = time_steps[i] - time_steps[i-1]\n",
        "        U[:,i] = U[:,i-1] + dif*f(U[:,i-1], time_steps[i-1])\n",
        "    \n",
        "    return U\n",
        "\n",
        "#u is a vector of functions of t\n",
        "explicit_euler_system(8, lambda u, t: np.array([0.85*u[0], u[1]]),[19, 1])\n",
        "#print(U[1_000_000 * 8])\n"
      ],
      "execution_count": 45,
      "outputs": [
        {
          "output_type": "execute_result",
          "data": {
            "text/plain": [
              "array([[ 19.        ,  19.00001615,  19.0000323 , ..., 104.0048369 ,\n",
              "        104.0049253 , 104.0050137 ],\n",
              "       [  1.        ,   1.000001  ,   1.000002  , ...,   7.38904132,\n",
              "          7.38904871,   7.3890561 ]])"
            ]
          },
          "metadata": {
            "tags": []
          },
          "execution_count": 45
        }
      ]
    },
    {
      "cell_type": "markdown",
      "metadata": {
        "id": "_4GLBv0zWr7m",
        "colab_type": "text"
      },
      "source": [
        "# **Discussion**"
      ]
    },
    {
      "cell_type": "markdown",
      "metadata": {
        "id": "6bcsDSoRXHZe",
        "colab_type": "text"
      },
      "source": [
        "The tests generated expected results. The Gauss quadrature and mid-point rules were exact for all the randomly generated functions. Instead of using sympy, I could have calculated the integrals analytically and entered the randomly generated coefficients.\n",
        "\n",
        "The Monto Carlo quadrature error indeed seems to follow the expected convergence of $\\dfrac{1}{\\sqrt{n}}$ which can be seen in both graphs."
      ]
    }
  ]
}