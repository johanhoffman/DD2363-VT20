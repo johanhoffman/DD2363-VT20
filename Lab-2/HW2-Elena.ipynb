{
 "cells": [
  {
   "cell_type": "markdown",
   "metadata": {},
   "source": [
    "## Homework 2 \n",
    "\n",
    "### Elena Farahbakhsh Touli\n"
   ]
  },
  {
   "cell_type": "markdown",
   "metadata": {},
   "source": [
    "The environment we use in this Lab are as follows: "
   ]
  },
  {
   "cell_type": "code",
   "execution_count": 1,
   "metadata": {},
   "outputs": [],
   "source": [
    "import numpy as np\n",
    "from numpy import linalg as LA"
   ]
  },
  {
   "cell_type": "markdown",
   "metadata": {},
   "source": [
    "### Q1\n",
    "In this question for a given matrix in the format of sparse matrix, which a matrix is indicated by 3 arrays: val, col_idx, and row_ptr which is a poiter to the rows of the non-zero elements of a matrix, and a given vector x we want to calculate the product of the matrix and the vector. To do so, we use the folloing code:  "
   ]
  },
  {
   "cell_type": "code",
   "execution_count": 10,
   "metadata": {},
   "outputs": [],
   "source": [
    "def multip(x, val, col_idx, row_ptr):\n",
    "    n = len(x)\n",
    "    nn = []\n",
    "    for i in range(n):\n",
    "        nn.append(0)\n",
    "    b = np.array(nn)\n",
    "\n",
    "    for i in range(n):\n",
    "        b[i] = 0\n",
    "        for j in range(row_ptr[i], row_ptr[i + 1]):\n",
    "            b[i] = b[i] + (val[j] * x[col_idx[j]])\n",
    "    return b\n"
   ]
  },
  {
   "cell_type": "markdown",
   "metadata": {},
   "source": [
    "For the test we use the following code: "
   ]
  },
  {
   "cell_type": "code",
   "execution_count": 12,
   "metadata": {},
   "outputs": [
    {
     "name": "stdout",
     "output_type": "stream",
     "text": [
      "From the method\n",
      "[4 2 0 2 0 3]\n",
      "From the multiplication\n",
      "[4 2 0 2 0 3]\n"
     ]
    }
   ],
   "source": [
    "x = np.array([0,1,0,1,0,1])\n",
    "val = np.array([3,2,2,2,1,1,3,2,1,2,3])\n",
    "col = np.array([0,1,3,1,2,2,2,3,4,4,5])\n",
    "row = np.array([0,3,5,6,8,9,11])\n",
    "s = multip(x, val, col, row)\n",
    "print(\"From the method\")\n",
    "print(s)\n",
    "matrix = np.array([[3,2,0,2,0,0],[0,2,1,0,0,0],[0,0,1,0,0,0],[0,0,3,2,0,0],[0,0,0,0,1,0],[0,0,0,0,2,3]])\n",
    "x = np.array([0,1,0,1,0,1])\n",
    "print(\"From the multiplication\")\n",
    "print(matrix.dot(x))"
   ]
  },
  {
   "cell_type": "markdown",
   "metadata": {},
   "source": [
    "### Q2\n",
    "In this question, we need to find the QR factorization of a given matrix as input. The function is as follows: "
   ]
  },
  {
   "cell_type": "code",
   "execution_count": 5,
   "metadata": {},
   "outputs": [],
   "source": [
    "''' QR factorization '''\n",
    "def QRF(A):\n",
    "    def proj(u,v):\n",
    "        return (v.dot(u)/u.dot(u))*u\n",
    "\n",
    "    n = len(A)\n",
    "    u = np.empty([n,n])\n",
    "    u[:,0] = A[:,0]\n",
    "    for i in range(1,n):\n",
    "        j = 0\n",
    "        sum = 0\n",
    "        while j < i:\n",
    "            sum = sum + proj(u[:,j],A[:,i])\n",
    "            j = j+1\n",
    "        u[:,i] = A[:,i] - sum\n",
    "    e = np.empty([n,n])\n",
    "\n",
    "    for i in range(n):\n",
    "        e[:,i] = u[:,i]/(LA.norm(u[:,i]))\n",
    "\n",
    "\n",
    "    m = len(A[0])\n",
    "    R = np.array([n,m])\n",
    "\n",
    "    R = inverse(e).dot(A)\n",
    "\n",
    "    q, r = np.linalg.qr(A)\n",
    "    return e, R"
   ]
  },
  {
   "cell_type": "markdown",
   "metadata": {},
   "source": [
    "Here I used inverse the function that I wrote for the question 3, instead we can use the function in pyhton that we can run the following: "
   ]
  },
  {
   "cell_type": "code",
   "execution_count": 16,
   "metadata": {},
   "outputs": [],
   "source": [
    "''' QR factorization '''\n",
    "def QRF(A):\n",
    "    def proj(u,v):\n",
    "        return (v.dot(u)/u.dot(u))*u\n",
    "\n",
    "    n = len(A)\n",
    "    u = np.zeros((n,n))\n",
    "    u[:,0] = A[:,0]\n",
    "    for i in range(1,n):\n",
    "        j = 0\n",
    "        sum = 0\n",
    "        while j < i:\n",
    "            sum = sum + proj(u[:,j],A[:,i])\n",
    "            j = j+1\n",
    "        u[:,i] = A[:,i] - sum\n",
    "    e = np.zeros((n,n))\n",
    "\n",
    "    for i in range(n):\n",
    "        e[:,i] = u[:,i]/(LA.norm(u[:,i]))\n",
    "\n",
    "\n",
    "    m = len(A[0])\n",
    "    R = np.array([n,m])\n",
    "\n",
    "    R = LA.inv(e).dot(A)\n",
    "\n",
    "    return e, R"
   ]
  },
  {
   "cell_type": "markdown",
   "metadata": {},
   "source": [
    "For the test we use the following program: "
   ]
  },
  {
   "cell_type": "code",
   "execution_count": 17,
   "metadata": {},
   "outputs": [
    {
     "name": "stdout",
     "output_type": "stream",
     "text": [
      "3.1560822113208575e-16\n"
     ]
    }
   ],
   "source": [
    "A = np.array([[1,4],[1,2]])\n",
    "I = np.identity(2)\n",
    "Q, R = QRF(A)\n",
    "matrix = Q.transpose().dot(Q)-I\n",
    "l = LA.norm(matrix, 'fro')\n",
    "print(l)\n"
   ]
  },
  {
   "cell_type": "markdown",
   "metadata": {},
   "source": [
    "Here I used a matrix $A=[[1,4],[1,2]]$ and I found the $Q$ by using the function $QRF$ and then I found the multiplication of the mutix $Q$ and it's transpose. I subtracted the identity matrix from the result and found the frobinuous norm of that. The result should be $0$ which by error it is. "
   ]
  },
  {
   "cell_type": "markdown",
   "metadata": {},
   "source": [
    "### Q3\n",
    "The question is to solve the equation $Ax=b$ directly. To solve this equation directly we use the following method: \n",
    "We find the inverse of $A$ and multiply it with $x$. For finding the inverse of $A$ we use the following precedure:\n",
    "we add another matrix $B$ which at the begining is Identity matrix and then we use elimination method to change the matrix $A$ to an identity matrix and same changes to $B$. $B$ is the inverse of $A$.\n",
    "\n",
    "The code is written as follows: \n"
   ]
  },
  {
   "cell_type": "code",
   "execution_count": 33,
   "metadata": {},
   "outputs": [],
   "source": [
    "def inverse(matrix):\n",
    "    A = matrix\n",
    "    n = len(matrix)\n",
    "    B = np.identity(n)\n",
    "    for i in range(n):\n",
    "\n",
    "        max = abs(A[i, i])\n",
    "        s = i\n",
    "        j = n - 1\n",
    "        while j >= i:\n",
    "            if abs(A[j, i]) > max:\n",
    "                s = j\n",
    "            j = j - 1\n",
    "        #            change(s,i)\n",
    "        v = np.copy(A[s])\n",
    "        v1 = np.copy(B[s])\n",
    "        A[s] = np.copy(A[i])\n",
    "        B[s] = np.copy(B[i])\n",
    "        A[i] = np.copy(v)\n",
    "        B[i] = np.copy(v1)\n",
    "\n",
    "        8#            diameter = 1\n",
    "        a = A[i, i]\n",
    "        A[i] = np.divide(A[i], a)\n",
    "        B[i] = np.divide(B[i], a)\n",
    "        #            lower = 0\n",
    "        for j in range(i + 1, n):\n",
    "            ss = (-A[j, i])\n",
    "            A[j] = A[i] * ss + A[j]\n",
    "            B[j] = B[i] * ss + B[j]\n",
    "        #            upper = 0\n",
    "        for j in range(0, i):\n",
    "            kk = (-A[j, i])\n",
    "            A[j] = A[i] * kk + A[j]\n",
    "            B[j] = np.copy(B[i]) * kk + np.copy(B[j])\n",
    "    \n",
    "    return B"
   ]
  },
  {
   "cell_type": "markdown",
   "metadata": {},
   "source": [
    "The test is as follows: "
   ]
  },
  {
   "cell_type": "code",
   "execution_count": 35,
   "metadata": {},
   "outputs": [
    {
     "name": "stdout",
     "output_type": "stream",
     "text": [
      "[[ 1.00000000e+00  0.00000000e+00  2.22044605e-16]\n",
      " [-5.55111512e-17  1.00000000e+00 -2.22044605e-16]\n",
      " [ 0.00000000e+00  0.00000000e+00  1.00000000e+00]]\n"
     ]
    }
   ],
   "source": [
    "matrix = np.array([[1,2,4],[1,0,2],[4,4,0]])\n",
    "C = np.array([[1,2,4],[1,0,2],[4,4,0]])\n",
    "D = inverse(matrix)\n",
    "print(D.dot(C))"
   ]
  },
  {
   "cell_type": "markdown",
   "metadata": {},
   "source": [
    "Here, I used a matrix $matrix = [[1,2,4],[1,0,2],[4,4,0]]$ and found the inverse of that by the method that I wrote and then multiplied it with matrix the result as it shows is the identity matrix."
   ]
  },
  {
   "cell_type": "markdown",
   "metadata": {},
   "source": [
    "For the bonus it means from the last three questions I chose the last one. question no 6.\n",
    "In this question we need to find the blocked matrix-matrix production. To do so, I considered 2 matrices $A$ and $B$ and three numbers $M$, $N$ and $P$ as input. We want to divide the matrix to blockes and then find the multiplication of them. The code is as follows: "
   ]
  },
  {
   "cell_type": "code",
   "execution_count": null,
   "metadata": {},
   "outputs": [],
   "source": [
    "def mat_mat_prod(A,B, M, N, P):\n",
    "    A = np.array([[1,2,3,5],[3,4,2,6]])\n",
    "    B = np.array([[1,2],[2,1],[0,1],[1,0]])\n",
    "    M = 2\n",
    "    N = 2; P =2;\n",
    "    m = len(A)\n",
    "    p = len(B)\n",
    "    n = len(B[0])\n",
    "\n",
    "    # M is the no of the rows of a\n",
    "    bm = int(m/M)\n",
    "    # N is the no of the column of b\n",
    "    bn = int(n/N)\n",
    "    # P is the no of the column of c\n",
    "    bp = int(p/P)\n",
    "\n",
    "    a = np.zeros([bm, bp, M, P])\n",
    "    b = np.zeros([bp, bn, P, N])\n",
    "    c = np.zeros([bm, bn, M, N])\n",
    "    for i in range(bm):\n",
    "        for k in range(bp):\n",
    "            for j in range(M):\n",
    "                for t in range(P):\n",
    "                    a[i,k,j,t] = A[i*bm+j, k*bp+t]\n",
    "\n",
    "    for i in range(bp):\n",
    "        for k in range(bn):\n",
    "            for j in range(P):\n",
    "                for t in range(N):\n",
    "                    b[i,k,j,t] = B[i*bp+j,k*bn+t]\n",
    "\n",
    "    for i in range(bm):\n",
    "        for k in range(bn):\n",
    "            c[i,k] = np.zeros((M, N))\n",
    "\n",
    "    for i in range(bm):\n",
    "        for j in range(bn):\n",
    "            for k in range(bp):\n",
    "                c[i,j] = c[i,j] + a[i,k,:,:].dot(b[k,j,:,:])\n",
    "\n",
    "    C = np.zeros([m, n])\n",
    "    for i in range(bm):\n",
    "        for k in range(bn):\n",
    "            for j in range(M):\n",
    "                for t in range(N):\n",
    "                    C[i*bm+j,k*bp+t] = c[i,k,j,t]\n",
    "    return C"
   ]
  },
  {
   "cell_type": "markdown",
   "metadata": {},
   "source": [
    "First I found blocks by four for loops for both matrices. And, then found the multiplication of them. The test is as follows:\n"
   ]
  },
  {
   "cell_type": "code",
   "execution_count": null,
   "metadata": {},
   "outputs": [],
   "source": []
  }
 ],
 "metadata": {
  "kernelspec": {
   "display_name": "Python 3",
   "language": "python",
   "name": "python3"
  },
  "language_info": {
   "codemirror_mode": {
    "name": "ipython",
    "version": 3
   },
   "file_extension": ".py",
   "mimetype": "text/x-python",
   "name": "python",
   "nbconvert_exporter": "python",
   "pygments_lexer": "ipython3",
   "version": "3.7.3"
  }
 },
 "nbformat": 4,
 "nbformat_minor": 2
}
