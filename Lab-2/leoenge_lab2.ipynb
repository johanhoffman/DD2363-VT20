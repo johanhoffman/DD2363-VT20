{
  "nbformat": 4,
  "nbformat_minor": 0,
  "metadata": {
    "colab": {
      "name": "leoenge_lab2.ipynb",
      "provenance": [],
      "collapsed_sections": [],
      "include_colab_link": true
    },
    "kernelspec": {
      "name": "python3",
      "display_name": "Python 3"
    }
  },
  "cells": [
    {
      "cell_type": "markdown",
      "metadata": {
        "id": "view-in-github",
        "colab_type": "text"
      },
      "source": [
        "<a href=\"https://colab.research.google.com/github/johanhoffman/DD2363-VT20/blob/leoenge/Lab-2/leoenge_lab2.ipynb\" target=\"_parent\"><img src=\"https://colab.research.google.com/assets/colab-badge.svg\" alt=\"Open In Colab\"/></a>"
      ]
    },
    {
      "cell_type": "markdown",
      "metadata": {
        "id": "6RgtXlfYO_i7",
        "colab_type": "text"
      },
      "source": [
        "# **Lab 2: Matrix factorization**\n",
        "**Leo Enge**"
      ]
    },
    {
      "cell_type": "markdown",
      "metadata": {
        "id": "9x_J5FVuPzbm",
        "colab_type": "text"
      },
      "source": [
        "# **Abstract**"
      ]
    },
    {
      "cell_type": "markdown",
      "metadata": {
        "id": "6UFTSzW7P8kL",
        "colab_type": "text"
      },
      "source": [
        "In this lab different matrix algorithmes were implemented and tested. They were often tested against the numpy library and all the tests succeded to several digits of precision.\n",
        "\n"
      ]
    },
    {
      "cell_type": "markdown",
      "metadata": {
        "id": "OkT8J7uOWpT3",
        "colab_type": "text"
      },
      "source": [
        "#**About the code**"
      ]
    },
    {
      "cell_type": "markdown",
      "metadata": {
        "id": "HmB2noTr1Oyo",
        "colab_type": "text"
      },
      "source": [
        "A short statement on who is the author of the file, and if the code is distributed under a certain license. "
      ]
    },
    {
      "cell_type": "code",
      "metadata": {
        "id": "Pdll1Xc9WP0e",
        "colab_type": "code",
        "outputId": "4ddc9b68-dc8b-4d69-9196-16d4c66eebce",
        "colab": {
          "base_uri": "https://localhost:8080/",
          "height": 34
        }
      },
      "source": [
        "\"\"\"This program is a template for lab reports in the course\"\"\"\n",
        "\"\"\"DD2363 Methods in Scientific Computing, \"\"\"\n",
        "\"\"\"KTH Royal Institute of Technology, Stockholm, Sweden.\"\"\"\n",
        "\n",
        "# Copyright (C) 2019 Leo Enge (leoe@kth.se)\n",
        "\n",
        "# This lab was done cooperating with Christoffer Ejemyr\n",
        "\n",
        "# This file is part of the course DD2363 Methods in Scientific Computing\n",
        "# KTH Royal Institute of Technology, Stockholm, Sweden\n",
        "#\n",
        "# This is free software: you can redistribute it and/or modify\n",
        "# it under the terms of the GNU Lesser General Public License as published by\n",
        "# the Free Software Foundation, either version 3 of the License, or\n",
        "# (at your option) any later version."
      ],
      "execution_count": 1,
      "outputs": [
        {
          "output_type": "execute_result",
          "data": {
            "text/plain": [
              "'KTH Royal Institute of Technology, Stockholm, Sweden.'"
            ]
          },
          "metadata": {
            "tags": []
          },
          "execution_count": 1
        }
      ]
    },
    {
      "cell_type": "markdown",
      "metadata": {
        "id": "28xLGz8JX3Hh",
        "colab_type": "text"
      },
      "source": [
        "# **Set up environment**"
      ]
    },
    {
      "cell_type": "markdown",
      "metadata": {
        "id": "D2PYNusD08Wa",
        "colab_type": "text"
      },
      "source": [
        "To have access to the neccessary modules you have to run this cell. If you need additional modules, this is where you add them. "
      ]
    },
    {
      "cell_type": "code",
      "metadata": {
        "id": "Xw7VlErAX7NS",
        "colab_type": "code",
        "colab": {}
      },
      "source": [
        "# Load neccessary modules.\n",
        "from google.colab import files\n",
        "\n",
        "import time\n",
        "import numpy as np\n",
        "import scipy.sparse as sparse\n",
        "\n",
        "from matplotlib import pyplot as plt\n",
        "from matplotlib import tri\n",
        "from matplotlib import axes\n",
        "from mpl_toolkits.mplot3d import Axes3D\n",
        "\n",
        "import unittest"
      ],
      "execution_count": 0,
      "outputs": []
    },
    {
      "cell_type": "markdown",
      "metadata": {
        "id": "gnO3lhAigLev",
        "colab_type": "text"
      },
      "source": [
        "# **Introduction**"
      ]
    },
    {
      "cell_type": "markdown",
      "metadata": {
        "id": "l5zMzgPlRAF6",
        "colab_type": "text"
      },
      "source": [
        "In this lab different matrix algorithms are implemented, such as factorization, equation system solvning, least square solutions and blocked matrix multiplication.\n",
        "\n"
      ]
    },
    {
      "cell_type": "markdown",
      "metadata": {
        "id": "WeFO9QMeUOAu",
        "colab_type": "text"
      },
      "source": [
        "# **Methods**"
      ]
    },
    {
      "cell_type": "markdown",
      "metadata": {
        "id": "zF4iBj5VURZx",
        "colab_type": "text"
      },
      "source": [
        "## Sparse matrix multiplication\n",
        "Sparse matrix multiplication is a method to calculate the multiplication of a matrix and a vector when the matrix consists to large part of zeros. Numpy defines a class for sparse matrices which is overwritten in this lab. The method acts by saving the non-zero elemnents in the matrix and doing the operations only for those values."
      ]
    },
    {
      "cell_type": "code",
      "metadata": {
        "id": "H4U1x_Y6c_gs",
        "colab_type": "code",
        "colab": {}
      },
      "source": [
        "class SparseMatrix(sparse.csr_matrix):\n",
        "  def dot(self, vector):\n",
        "    if not (type(vector) == np.ndarray and vector.ndim == 1 and vector.size == self.shape[1]):\n",
        "      raise Exception(\"Vector must be a numpy-array of ndim 1 and compatible with the matrix\")\n",
        "    b = np.zeros(self.shape[0])\n",
        "    for j in range(b.size):\n",
        "      for i in range(self.indptr[j], self.indptr[j+1]):\n",
        "        b[j] += self.data[i] * vector[self.indices[i]]\n",
        "    return b\n",
        "  \n",
        "  def __str__(self):\n",
        "    return str(self.todense())\n"
      ],
      "execution_count": 0,
      "outputs": []
    },
    {
      "cell_type": "markdown",
      "metadata": {
        "id": "-NKwzkXiuJs2",
        "colab_type": "text"
      },
      "source": [
        "### Testing the CSR multiplication\n",
        "Even though the CSR multiplication is intended for sparse matrices, it should work for arbitrary matrices. Therefore the tests are made for 100 random matrices of random sizes."
      ]
    },
    {
      "cell_type": "code",
      "metadata": {
        "id": "TnmYxLNCqryX",
        "colab_type": "code",
        "outputId": "6fca9547-91e7-499b-daab-6f821bb034d6",
        "colab": {
          "base_uri": "https://localhost:8080/",
          "height": 102
        }
      },
      "source": [
        "class Test(unittest.TestCase):\n",
        "  def test_common_errors(self):\n",
        "    A = SparseMatrix([[1,0,0],[0,4,0],[0,1,0]])\n",
        "    B = SparseMatrix([[0,0,1],[2,0,0],[0,1,0]])\n",
        "    v1 = np.array([1,1,1,1])\n",
        "    v2 = [1,2,1]\n",
        "    with self.assertRaises(Exception):\n",
        "      A.dot(B)\n",
        "    with self.assertRaises(Exception):\n",
        "      A.dot(v1)\n",
        "    with self.assertRaises(Exception):\n",
        "      A.dot(v2)\n",
        "  \n",
        "  def test_accuray(self):\n",
        "    for _ in range(0,100):\n",
        "      dim = np.random.randint(1,10)\n",
        "      M = np.random.rand(np.random.randint(1,10), dim)\n",
        "      M_csr = SparseMatrix(M)\n",
        "      v = np.random.rand(dim)\n",
        "      #Testing for which decimal value it fails to equal. Do not however care about more than 7 decimals.\n",
        "      for i in range(3,7):\n",
        "        np.testing.assert_almost_equal(M.dot(v), M_csr.dot(v), decimal=i)\n",
        "\n",
        "if __name__ == '__main__':\n",
        "  unittest.main(argv=['first-arg-is-ignored'], exit=False)"
      ],
      "execution_count": 4,
      "outputs": [
        {
          "output_type": "stream",
          "text": [
            "..\n",
            "----------------------------------------------------------------------\n",
            "Ran 2 tests in 0.115s\n",
            "\n",
            "OK\n"
          ],
          "name": "stderr"
        }
      ]
    },
    {
      "cell_type": "markdown",
      "metadata": {
        "id": "h0IDxmD7uv_c",
        "colab_type": "text"
      },
      "source": [
        "## QR factorization\n",
        "QR factorization done with the ordinary Gram-Schmidt method. It works by succesivley creating a orthonormal basis for the range of the original matrix, using Gram-Schmidt. These base vectors then make up the orthogonal matrix Q. \n",
        "\n",
        "This method was chosen because it is very intuitive and easy to understand."
      ]
    },
    {
      "cell_type": "code",
      "metadata": {
        "id": "f0wfGukvoEDa",
        "colab_type": "code",
        "colab": {}
      },
      "source": [
        "def qr_factorization(matrix):\n",
        "  if not (type(matrix) == np.ndarray and matrix.ndim == 2):\n",
        "    raise Exception(\"The input matrix is bad...\")\n",
        "  \n",
        "  n = matrix.shape[1]\n",
        "  v = np.zeros(matrix.shape[0])\n",
        "  v[:] = matrix[:,0]\n",
        "  R = np.zeros((matrix.shape[1], matrix.shape[1]))\n",
        "  Q = np.zeros(matrix.shape)\n",
        "\n",
        "  for i in range(n):\n",
        "    R[i,i] = np.linalg.norm(v)\n",
        "    Q[:,i] = v/R[i,i]\n",
        "\n",
        "    for j in range(i+1, n):\n",
        "      R[i,j] = Q[:,i].dot(matrix[:,j])\n",
        "    \n",
        "    if i>n-2:\n",
        "      break\n",
        "\n",
        "    v[:] = matrix[:,i+1]\n",
        "    for j in range(i+1):\n",
        "      v[:] = v[:] - R[j,i+1]*Q[:,j]\n",
        "    \n",
        "  return Q,R"
      ],
      "execution_count": 0,
      "outputs": []
    },
    {
      "cell_type": "markdown",
      "metadata": {
        "id": "RWHng3D_M9SV",
        "colab_type": "text"
      },
      "source": [
        "### Testing QR factorization"
      ]
    },
    {
      "cell_type": "code",
      "metadata": {
        "id": "lcJOmKqRvu4y",
        "colab_type": "code",
        "outputId": "e34663fd-b955-438f-abcc-70b5c68dbeda",
        "colab": {
          "base_uri": "https://localhost:8080/",
          "height": 102
        }
      },
      "source": [
        "class Test(unittest.TestCase):\n",
        "  \n",
        "  def test_accuray(self):\n",
        "    count = 0\n",
        "    while count < 100:\n",
        "      dim = np.random.randint(1,10)\n",
        "      M = np.random.rand(dim, dim)\n",
        "      if np.linalg.det(M) == 0:\n",
        "        continue\n",
        "      count += 1\n",
        "      Q,R = qr_factorization(M)\n",
        "      #Testing for which decimal value it fails to equal. Do not however care about more than 7 decimals.\n",
        "      for i in range(3,7):\n",
        "        np.testing.assert_almost_equal(Q.dot(R), M, decimal=i)\n",
        "        np.testing.assert_almost_equal(np.linalg.norm(Q.transpose().dot(Q)-np.eye(dim), 'fro'),0, decimal=i)\n",
        "        np.testing.assert_almost_equal(np.linalg.norm(Q.dot(R) - M,'fro'), 0, decimal=i)\n",
        "        np.testing.assert_almost_equal(R, np.triu(R), decimal=i)\n",
        "\n",
        "if __name__ == '__main__':\n",
        "  unittest.main(argv=['first-arg-is-ignored'], exit=False)"
      ],
      "execution_count": 6,
      "outputs": [
        {
          "output_type": "stream",
          "text": [
            ".\n",
            "----------------------------------------------------------------------\n",
            "Ran 1 test in 0.194s\n",
            "\n",
            "OK\n"
          ],
          "name": "stderr"
        }
      ]
    },
    {
      "cell_type": "markdown",
      "metadata": {
        "id": "vqvIPMM_GlqI",
        "colab_type": "text"
      },
      "source": [
        "## Equation system solver\n",
        "Here an equation system solver of the system $Ax = b$ by first QR-factorize the matrix $A$. It is then easy to invert $Q$ since it is a orthogonal matrix, it will just be the transpose. So we get\n",
        "\\begin{equation}\n",
        "R x = Q^T b\n",
        "\\end{equation}\n",
        "where $R$ is upper triangular, so the system can be solved using backward substitution."
      ]
    },
    {
      "cell_type": "code",
      "metadata": {
        "id": "LYKf4XgS92qG",
        "colab_type": "code",
        "colab": {}
      },
      "source": [
        "def backward_substitution(matrix, vector):\n",
        "  if not (type(matrix) == np.ndarray and matrix.ndim == 2 and np.linalg.det(matrix) != 0):\n",
        "    raise Exception(\"The input matrix is bad...\")\n",
        "  if not (type(vector) == np.ndarray and vector.ndim == 1):\n",
        "    raise Exception(\"The input vector is bad...\")\n",
        "  if not(matrix.shape[0] == vector.size):\n",
        "    raise Exception(\"The dimensions of the vector and the matrix are not compatible.\")\n",
        "  \n",
        "  n = vector.size\n",
        "  result = np.zeros(n)\n",
        "  result[-1] = vector[-1]/matrix[-1,-1]\n",
        "  for i in range(n-2, -1, -1):\n",
        "    sum = 0\n",
        "    for j in range(i+1, n):\n",
        "      sum += matrix[i,j]*result[j]\n",
        "    result[i] = (vector[i] - sum)/matrix[i,i]\n",
        "  return result\n"
      ],
      "execution_count": 0,
      "outputs": []
    },
    {
      "cell_type": "code",
      "metadata": {
        "id": "ysXWDdylG6Lx",
        "colab_type": "code",
        "colab": {}
      },
      "source": [
        "def equation_system_solver(matrix, vector):\n",
        "  if not (type(matrix) == np.ndarray and matrix.ndim == 2 and np.linalg.det(matrix) != 0):\n",
        "    raise Exception(\"The input matrix is bad...\")\n",
        "  if not (type(vector) == np.ndarray and vector.ndim == 1):\n",
        "    raise Exception(\"The input vector is bad...\")\n",
        "  if not(matrix.shape[0] == vector.size):\n",
        "    raise Exception(\"The dimensions of the vector and the matrix are not compatible.\")\n",
        "  \n",
        "  n = vector.size\n",
        "  Q, R = qr_factorization(matrix)\n",
        "  return backward_substitution(R, Q.transpose().dot(vector))"
      ],
      "execution_count": 0,
      "outputs": []
    },
    {
      "cell_type": "markdown",
      "metadata": {
        "id": "rfchOQdmNAlI",
        "colab_type": "text"
      },
      "source": [
        "### Testing Equation System Solver\n",
        "The equation solver is tested both by calculating the residual $\\| Ax-b \\|$ and also by calculating the \"reverse\" residual, which is given by $\\| y-x\\|$ where $y$ is an arbitrary vector and $x$ is the solution to the system $Ax = Ay$. "
      ]
    },
    {
      "cell_type": "code",
      "metadata": {
        "id": "K3UqXBi1Gquh",
        "colab_type": "code",
        "outputId": "cdfbeddc-ff4c-4cca-c9ca-711fd8b20e7b",
        "colab": {
          "base_uri": "https://localhost:8080/",
          "height": 102
        }
      },
      "source": [
        "class Test(unittest.TestCase):\n",
        "  def test_singular(self):\n",
        "    A = np.array([[1,0,1],[0,1,1],[1,0,1]])\n",
        "    with self.assertRaises(Exception):\n",
        "      equation_system_solver(A)\n",
        "  \n",
        "  def test_first_residual(self):\n",
        "    count = 0\n",
        "    while count < 100:\n",
        "      dim = np.random.randint(1,10)\n",
        "      A = np.random.rand(dim, dim)\n",
        "      if np.linalg.det(A) == 0:\n",
        "        continue\n",
        "      count += 1\n",
        "      b = np.random.rand(dim)\n",
        "      x = equation_system_solver(A, b)\n",
        "      #Testing for which decimal value it fails to equal. Do not however care about more than 7 decimals.\n",
        "      for i in range(3,7):\n",
        "        np.testing.assert_almost_equal(A.dot(x), b, decimal=i)\n",
        "  \n",
        "  def test_reversed_residual(self):\n",
        "    count = 0\n",
        "    while count < 100:\n",
        "      dim = np.random.randint(1,10)\n",
        "      A = np.random.rand(dim, dim)\n",
        "      if np.linalg.det(A) == 0:\n",
        "        continue\n",
        "      count += 1\n",
        "      x = np.random.rand(dim)\n",
        "      b = A.dot(x)\n",
        "      y = equation_system_solver(A, b)\n",
        "      #Testing for which decimal value it fails to equal. Do not however care about more than 7 decimals.\n",
        "      for i in range(3,7):\n",
        "        np.testing.assert_almost_equal(x, y, decimal=i)\n",
        "\n",
        "if __name__ == '__main__':\n",
        "  unittest.main(argv=['first-arg-is-ignored'], exit=False)"
      ],
      "execution_count": 9,
      "outputs": [
        {
          "output_type": "stream",
          "text": [
            "...\n",
            "----------------------------------------------------------------------\n",
            "Ran 3 tests in 0.161s\n",
            "\n",
            "OK\n"
          ],
          "name": "stderr"
        }
      ]
    },
    {
      "cell_type": "markdown",
      "metadata": {
        "id": "e-9lEgRFMpuc",
        "colab_type": "text"
      },
      "source": [
        "## Least square\n",
        "The least square solution $y$ of $Ax = b$ is calculated using the Penrose-Moore inverse, which is given by\n",
        "\\begin{equation}\n",
        "A^T A y =  A^T b\n",
        "\\end{equation}\n",
        "this system is solved in the same manner as for the equation system solver above. The acual system solver above is not used, since it only accepts non-singular matrices."
      ]
    },
    {
      "cell_type": "code",
      "metadata": {
        "id": "zg_aCA-0H6OA",
        "colab_type": "code",
        "colab": {}
      },
      "source": [
        "def least_square(matrix, vector):\n",
        "  if not (type(matrix) == np.ndarray and matrix.ndim == 2):\n",
        "    raise Exception(\"The input matrix is bad...\")\n",
        "  if not (type(vector) == np.ndarray and vector.ndim == 1):\n",
        "    raise Exception(\"The input vector is bad...\")\n",
        "  if not(matrix.shape[0] == vector.size):\n",
        "    raise Exception(\"The dimensions of the vector and the matrix are not compatible.\")\n",
        "  Q,R = qr_factorization(matrix.transpose().dot(matrix))\n",
        "  return backward_substitution(R, Q.transpose().dot(matrix.transpose().dot(vector)))"
      ],
      "execution_count": 0,
      "outputs": []
    },
    {
      "cell_type": "markdown",
      "metadata": {
        "id": "p0v3_G1o9Cjq",
        "colab_type": "text"
      },
      "source": [
        "### Test Least Square\n",
        "The least square is tested by checking the residual $\\| Ay-b \\|$ is smaller than $\\|A(y+\\Delta) - b\\|$ for a lot of different $\\Delta$. I.e. we check that $y$ is the solution that minimizes $\\| Ay-b \\|$."
      ]
    },
    {
      "cell_type": "code",
      "metadata": {
        "id": "UTwWd6aOqRNT",
        "colab_type": "code",
        "outputId": "ffa1790e-df6e-48c1-ddbb-a15b3dcf7434",
        "colab": {
          "base_uri": "https://localhost:8080/",
          "height": 102
        }
      },
      "source": [
        "class Test(unittest.TestCase):\n",
        "  def test_accuracy(self):\n",
        "    for _ in range(100):\n",
        "      dim = np.random.randint(1,30)\n",
        "      A = np.random.rand(dim, np.random.randint(1,dim+1))\n",
        "      b = np.random.rand(dim)\n",
        "      y = least_square(A, b)\n",
        "      for _ in range(1000):\n",
        "        delta = (np.random.rand(y.size) - 0.5)*2\n",
        "        self.assertTrue(np.linalg.norm(A.dot(y)-b) <= np.linalg.norm(A.dot(y+delta)-b))\n",
        "\n",
        "\n",
        "if __name__ == '__main__':\n",
        "  unittest.main(argv=['first-arg-is-ignored'], exit=False)"
      ],
      "execution_count": 11,
      "outputs": [
        {
          "output_type": "stream",
          "text": [
            ".\n",
            "----------------------------------------------------------------------\n",
            "Ran 1 test in 2.816s\n",
            "\n",
            "OK\n"
          ],
          "name": "stderr"
        }
      ]
    },
    {
      "cell_type": "markdown",
      "metadata": {
        "id": "tNhyW9xvNN4z",
        "colab_type": "text"
      },
      "source": [
        "## QR Eigenvalue Algorithm\n",
        "An iterative algorithm for finding the eigenvalues of a square matrix is implemented much like algorithm 6.1 in the lecutre notes. "
      ]
    },
    {
      "cell_type": "code",
      "metadata": {
        "id": "W3vzz2SVMDM0",
        "colab_type": "code",
        "colab": {}
      },
      "source": [
        "def qr_eigenvalue(A, no_of_itterations):\n",
        "  if not A.shape[0] == A.shape[1]:\n",
        "    raise Exception(\"Matrix must be square.\")\n",
        "  A_result = np.array(A)\n",
        "  U = np.eye(A.shape[0])\n",
        "  for i in range(no_of_itterations):\n",
        "      Q, R = qr_factorization(A_result)\n",
        "      A_result = R.dot(Q)\n",
        "      U = U.dot(Q)\n",
        "  return A_result.diagonal(), U"
      ],
      "execution_count": 0,
      "outputs": []
    },
    {
      "cell_type": "code",
      "metadata": {
        "id": "UscavxxVURA-",
        "colab_type": "code",
        "outputId": "e269ec8f-8fc0-42a7-d929-ea4d235c421c",
        "colab": {
          "base_uri": "https://localhost:8080/",
          "height": 544
        }
      },
      "source": [
        "class Test(unittest.TestCase):\n",
        "\n",
        "  def test_determinant(self):\n",
        "    for _ in range(100):\n",
        "      dim = np.random.randint(1,10)\n",
        "      A = np.random.rand(dim, dim)\n",
        "      A = A.dot(A.transpose())\n",
        "      B, U = qr_eigenvalue(A, 100)\n",
        "      for i in range(3,7):\n",
        "        for j in range(B.size):\n",
        "          np.testing.assert_almost_equal(np.linalg.det(A - B[j]*np.eye(dim)), 0, decimal=i)\n",
        "\n",
        "\n",
        "  def test_accuracy(self):\n",
        "    for _ in range(100):\n",
        "      dim = np.random.randint(1,10)\n",
        "      A = np.random.rand(dim, dim)\n",
        "      A = A.dot(A.transpose())\n",
        "      B, U = qr_eigenvalue(A, 100)\n",
        "      for i in range(3,7):\n",
        "        for j in range(B.size):\n",
        "          np.testing.assert_almost_equal(np.linalg.norm(A.dot(U[:,j]) - B[j]*U[:,j]), 0, decimal=i)\n",
        "\n",
        "if __name__ == '__main__':\n",
        "  unittest.main(argv=['first-arg-is-ignored'], exit=False)"
      ],
      "execution_count": 13,
      "outputs": [
        {
          "output_type": "stream",
          "text": [
            "FF\n",
            "======================================================================\n",
            "FAIL: test_accuracy (__main__.Test)\n",
            "----------------------------------------------------------------------\n",
            "Traceback (most recent call last):\n",
            "  File \"<ipython-input-13-1e37d3ff9d9d>\", line 22, in test_accuracy\n",
            "    np.testing.assert_almost_equal(np.linalg.norm(A.dot(U[:,j]) - B[j]*U[:,j]), 0, decimal=i)\n",
            "  File \"/usr/local/lib/python3.6/dist-packages/numpy/testing/_private/utils.py\", line 616, in assert_almost_equal\n",
            "    raise AssertionError(_build_err_msg())\n",
            "AssertionError: \n",
            "Arrays are not almost equal to 3 decimals\n",
            " ACTUAL: 0.0017631724174979008\n",
            " DESIRED: 0\n",
            "\n",
            "======================================================================\n",
            "FAIL: test_determinant (__main__.Test)\n",
            "----------------------------------------------------------------------\n",
            "Traceback (most recent call last):\n",
            "  File \"<ipython-input-13-1e37d3ff9d9d>\", line 11, in test_determinant\n",
            "    np.testing.assert_almost_equal(np.linalg.det(A - B[j]*np.eye(dim)), 0, decimal=i)\n",
            "  File \"/usr/local/lib/python3.6/dist-packages/numpy/testing/_private/utils.py\", line 616, in assert_almost_equal\n",
            "    raise AssertionError(_build_err_msg())\n",
            "AssertionError: \n",
            "Arrays are not almost equal to 6 decimals\n",
            " ACTUAL: 3.5840392646375444e-06\n",
            " DESIRED: 0\n",
            "\n",
            "----------------------------------------------------------------------\n",
            "Ran 2 tests in 0.079s\n",
            "\n",
            "FAILED (failures=2)\n"
          ],
          "name": "stderr"
        }
      ]
    },
    {
      "cell_type": "markdown",
      "metadata": {
        "id": "EZNneIV62FYJ",
        "colab_type": "text"
      },
      "source": [
        "## Blocked Matrix Multiplication\n",
        "The blocked matrix multiplication of $C = AB$ is done by multiplying matching blocks of $A$ and $B$ successivley, where both the matrices are divided in to a given set of blocks along both the rows and the columns.\n"
      ]
    },
    {
      "cell_type": "code",
      "metadata": {
        "id": "sxetsHaOcVDc",
        "colab_type": "code",
        "colab": {}
      },
      "source": [
        "def blocked_matrix_multiplication(A, B, n: int, m:int, p:int):\n",
        "  if not (type(A) == np.ndarray and A.ndim == 2):\n",
        "    raise Exception(\"The input matrix A is bad...\")\n",
        "  if not (type(B) == np.ndarray and B.ndim == 2):\n",
        "    raise Exception(\"The input matrix B is bad...\")\n",
        "  if not (A.shape[1] == B.shape[0]):\n",
        "    raise Exception(\"Matrix dimensions are not compatible for multiplication\")\n",
        "  if not (n>0 and m>0 and p>0 and n<=A.shape[0] and m <= B.shape[1] and p<=A.shape[1]):\n",
        "    raise Exception(\"No. of blocks are too small or too large.\")\n",
        "\n",
        "  i_0, di = 0,0\n",
        "  C = np.zeros((A.shape[0], B.shape[1]))\n",
        "\n",
        "  for i in range(n):\n",
        "    i_0 = i_0 + di\n",
        "    di = int(np.ceil((A.shape[0]-di)/(n-i)))\n",
        "    j_0,dj = 0,0\n",
        "    for j in range(m):\n",
        "      j_0 = j_0 + dj\n",
        "      dj = int(np.ceil((B.shape[1]-dj)/(m-j)))\n",
        "      k_0,dk = 0,0\n",
        "      for k in range(p):\n",
        "        k_0 = k_0 + dk\n",
        "        dk = int(np.ceil(A.shape[1]-dk)/(p-k))\n",
        "        C[i_0:i_0+di, j_0:j_0+dj] += A[i_0:i_0+di, k_0:k_0+dk].dot(B[k_0:k_0+dk, j_0:j_0+dj])\n",
        "    \n",
        "  return C\n",
        "\n"
      ],
      "execution_count": 0,
      "outputs": []
    },
    {
      "cell_type": "markdown",
      "metadata": {
        "id": "Uvy5waYG28Aj",
        "colab_type": "text"
      },
      "source": [
        "### Testing the blocked matrix multiplication"
      ]
    },
    {
      "cell_type": "code",
      "metadata": {
        "id": "JY5B5KU1kzCQ",
        "colab_type": "code",
        "outputId": "69e8e886-d971-434c-80ef-12269a2881a1",
        "colab": {
          "base_uri": "https://localhost:8080/",
          "height": 102
        }
      },
      "source": [
        "class Test(unittest.TestCase):\n",
        "  def test_accuracy(self):\n",
        "    for _ in range(100):\n",
        "      dim_p = np.random.randint(1,30)\n",
        "      dim_n = np.random.randint(1,30)\n",
        "      dim_m = np.random.randint(1,30)\n",
        "      A = np.random.rand(dim_n, dim_p)\n",
        "      B = np.random.rand(dim_p, dim_m)\n",
        "      n = np.random.randint(1,dim_n+1)\n",
        "      m = np.random.randint(1,dim_m+1)\n",
        "      p = np.random.randint(1,dim_p+1)\n",
        "      x = blocked_matrix_multiplication(A,B,n,m,p)\n",
        "      y = A.dot(B)\n",
        "      for i in range(3,7):\n",
        "        np.testing.assert_almost_equal(x, y, decimal=i)\n",
        "\n",
        "\n",
        "if __name__ == '__main__':\n",
        "  unittest.main(argv=['first-arg-is-ignored'], exit=False)"
      ],
      "execution_count": 15,
      "outputs": [
        {
          "output_type": "stream",
          "text": [
            ".\n",
            "----------------------------------------------------------------------\n",
            "Ran 1 test in 0.468s\n",
            "\n",
            "OK\n"
          ],
          "name": "stderr"
        }
      ]
    },
    {
      "cell_type": "markdown",
      "metadata": {
        "id": "SsQLT38gVbn_",
        "colab_type": "text"
      },
      "source": [
        "# **Results**"
      ]
    },
    {
      "cell_type": "markdown",
      "metadata": {
        "id": "RLwlnOzuV-Cd",
        "colab_type": "text"
      },
      "source": [
        "All the tests succeded to at least the seventh decimal, except the QR eigenvalue algorithm, which succeded the fourth or fifth decimal, depending on test and on run."
      ]
    },
    {
      "cell_type": "markdown",
      "metadata": {
        "id": "_4GLBv0zWr7m",
        "colab_type": "text"
      },
      "source": [
        "# **Discussion**"
      ]
    },
    {
      "cell_type": "markdown",
      "metadata": {
        "id": "6bcsDSoRXHZe",
        "colab_type": "text"
      },
      "source": [
        "Overall the algorithms worked as expected, without any big problems. \n",
        "\n"
      ]
    }
  ]
}