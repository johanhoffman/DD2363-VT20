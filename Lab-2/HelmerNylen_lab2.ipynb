{
  "nbformat": 4,
  "nbformat_minor": 0,
  "metadata": {
    "colab": {
      "name": "DD2363 Lab 2.ipynb",
      "provenance": [],
      "collapsed_sections": []
    },
    "kernelspec": {
      "name": "python3",
      "display_name": "Python 3"
    }
  },
  "cells": [
    {
      "cell_type": "markdown",
      "metadata": {
        "id": "6RgtXlfYO_i7",
        "colab_type": "text"
      },
      "source": [
        "# **Lab 2: Matrix factorization**\n",
        "**Helmer Nylén**"
      ]
    },
    {
      "cell_type": "markdown",
      "metadata": {
        "id": "9x_J5FVuPzbm",
        "colab_type": "text"
      },
      "source": [
        "# **Abstract**"
      ]
    },
    {
      "cell_type": "markdown",
      "metadata": {
        "id": "6UFTSzW7P8kL",
        "colab_type": "text"
      },
      "source": [
        "In this report we implement four algorithms and test these against `numpy` for accuracy. All tests pass and we conclude that the implementation is likely to be correct."
      ]
    },
    {
      "cell_type": "markdown",
      "metadata": {
        "id": "OkT8J7uOWpT3",
        "colab_type": "text"
      },
      "source": [
        "#**About the code**"
      ]
    },
    {
      "cell_type": "markdown",
      "metadata": {
        "id": "HmB2noTr1Oyo",
        "colab_type": "text"
      },
      "source": [
        "A short statement on who is the author of the file, and if the code is distributed under a certain license. "
      ]
    },
    {
      "cell_type": "code",
      "metadata": {
        "id": "Pdll1Xc9WP0e",
        "colab_type": "code",
        "outputId": "f710ea14-5266-41df-e6cd-380fc01e0a84",
        "colab": {
          "base_uri": "https://localhost:8080/",
          "height": 35
        }
      },
      "source": [
        "\"\"\"This program is a template for lab reports in the course\"\"\"\n",
        "\"\"\"DD2363 Methods in Scientific Computing, \"\"\"\n",
        "\"\"\"KTH Royal Institute of Technology, Stockholm, Sweden.\"\"\"\n",
        "\n",
        "# Copyright (C) 2019 Helmer Nylén (helmern@kth.se)\n",
        "\n",
        "# This file is part of the course DD2363 Methods in Scientific Computing\n",
        "# KTH Royal Institute of Technology, Stockholm, Sweden\n",
        "#\n",
        "# This is free software: you can redistribute it and/or modify\n",
        "# it under the terms of the GNU Lesser General Public License as published by\n",
        "# the Free Software Foundation, either version 3 of the License, or\n",
        "# (at your option) any later version."
      ],
      "execution_count": 1,
      "outputs": [
        {
          "output_type": "execute_result",
          "data": {
            "text/plain": [
              "'KTH Royal Institute of Technology, Stockholm, Sweden.'"
            ]
          },
          "metadata": {
            "tags": []
          },
          "execution_count": 1
        }
      ]
    },
    {
      "cell_type": "markdown",
      "metadata": {
        "id": "28xLGz8JX3Hh",
        "colab_type": "text"
      },
      "source": [
        "# **Set up environment**"
      ]
    },
    {
      "cell_type": "code",
      "metadata": {
        "id": "Xw7VlErAX7NS",
        "colab_type": "code",
        "colab": {}
      },
      "source": [
        "# Load neccessary modules.\n",
        "from google.colab import files\n",
        "\n",
        "import time\n",
        "import numpy as np\n",
        "import scipy, scipy.sparse\n",
        "from random import randint\n",
        "\n",
        "from matplotlib import pyplot as plt\n",
        "from matplotlib import tri\n",
        "from matplotlib import axes\n",
        "from mpl_toolkits.mplot3d import Axes3D"
      ],
      "execution_count": 0,
      "outputs": []
    },
    {
      "cell_type": "markdown",
      "metadata": {
        "id": "gnO3lhAigLev",
        "colab_type": "text"
      },
      "source": [
        "# **Introduction**"
      ]
    },
    {
      "cell_type": "markdown",
      "metadata": {
        "colab_type": "text",
        "id": "7036F5SLXF4t"
      },
      "source": [
        "In this report we implement four matrix algorithms: the sparse matrix-vector product, Gram-Schmidt QR factorization, a direct solver of $Ax = b$ and the QR eigenvalue algorithm. These were implemented using structures already present in `numpy` and `scipy`.\n",
        "\n",
        "<!--Give a short description of the problem investigated in the report, and provide some background information so that the reader can understand the context. \n",
        "\n",
        "Briefly describe what method you have chosen to solve the problem, and justify why you selected that method. \n",
        "\n",
        "Here you can express mathematics through Latex syntax, and use hyperlinks for references.\n",
        "\n",
        "[Hyperlink to DD2363 course website.](https://kth.instructure.com/courses/7500)\n",
        "\n",
        "$\n",
        "{\\displaystyle \\frac{\\partial u}{\\partial t}} + u\\cdot \\nabla u +\\nabla p = f, \\quad \\nabla \\cdot u=0$\n",
        "-->\n"
      ]
    },
    {
      "cell_type": "markdown",
      "metadata": {
        "id": "WeFO9QMeUOAu",
        "colab_type": "text"
      },
      "source": [
        "# **Methods**"
      ]
    },
    {
      "cell_type": "markdown",
      "metadata": {
        "id": "zF4iBj5VURZx",
        "colab_type": "text"
      },
      "source": [
        "Assuming `mat` is a matrix in CSR (or CRS) format and `vec` is a 1D numpy vector, this function caluclates the matrix-vector product using the method described in algorithm 5.9, chapter 5.7 of the lecture notes.\n",
        "\n",
        "Since the csr representation in the specification of the assignment does not give information about the order of the second dimension of the matrix we instead infer the minimum order from the largest value of `col_idx`. We allow multiplications with any $x\\in\\mathbb{R}^{n}$ such that $n$ is greater than or equal to the inferred minimum order."
      ]
    },
    {
      "cell_type": "code",
      "metadata": {
        "id": "pg0CU-RzsRF1",
        "colab_type": "code",
        "colab": {}
      },
      "source": [
        "# Algorithm 5.9, chapter 5.7\n",
        "def csr_vector_product(mat, vec):\n",
        "  val, col_idx, row_ptr = mat.data, mat.indices, mat.indptr\n",
        "  assert len(vec.shape) == 1 and (len(col_idx) == 0 or vec.shape[0] > max(col_idx))\n",
        "  m = len(row_ptr) - 1\n",
        "  res = np.zeros(m)\n",
        "  for i in range(m):\n",
        "    res[i] = val[row_ptr[i] : row_ptr[i+1]]\\\n",
        "              .dot(vec[col_idx[row_ptr[i] : row_ptr[i+1]]])\n",
        "  return res  "
      ],
      "execution_count": 0,
      "outputs": []
    },
    {
      "cell_type": "markdown",
      "metadata": {
        "id": "oGmEmI-IbIq-",
        "colab_type": "text"
      },
      "source": [
        "We verify the implementation by comparing it to `numpy`s matrix-vector product."
      ]
    },
    {
      "cell_type": "code",
      "metadata": {
        "id": "6ZUrA42MWFhs",
        "colab_type": "code",
        "colab": {}
      },
      "source": [
        "def test_csr():\n",
        "  n = randint(1, 10)\n",
        "  m = randint(1, 10)\n",
        "  mat = scipy.sparse.random(m, n, density = 0.15, format=\"csr\")\n",
        "  vec = np.random.rand(n) * 2 - 1\n",
        "  assert np.allclose(mat.toarray() @ vec, csr_vector_product(mat, vec))"
      ],
      "execution_count": 0,
      "outputs": []
    },
    {
      "cell_type": "markdown",
      "metadata": {
        "id": "3NZIEzS9bV3e",
        "colab_type": "text"
      },
      "source": [
        "We assume that `mat` is a nonsingular square matrix and compute the QR factorization using a mixture of algorithm 5.3, chapter 5.3 in the lecture notes and the Matlab algorithm described in Wikipedia."
      ]
    },
    {
      "cell_type": "code",
      "metadata": {
        "id": "k1mkgONy28Yl",
        "colab_type": "code",
        "colab": {}
      },
      "source": [
        "# Adapted from Algorithm 5.3, chapter 5.3 and https://en.wikipedia.org/wiki/Gram%E2%80%93Schmidt_process#Algorithm\n",
        "def QR(mat):\n",
        "  assert len(mat.shape) == 2 and mat.shape[0] == mat.shape[1]\n",
        "  n = mat.shape[0]\n",
        "  Q = np.zeros((n, n))\n",
        "  R = np.zeros((n, n))\n",
        "  # assume mat nonsingular\n",
        "  for i in range(n):\n",
        "    Q[:, i] = mat[:, i]\n",
        "    for j in range(i):\n",
        "      R[j, i] = Q[:, j].dot(Q[:, i]) / Q[:, j].dot(Q[:, j])\n",
        "      Q[:, i] = Q[:, i] - Q[:, j] * R[j, i]\n",
        "    R[i, i] = np.sqrt(Q[:, i].dot(Q[:, i]))\n",
        "    Q[:, i] /= R[i, i]\n",
        "  return Q, R"
      ],
      "execution_count": 0,
      "outputs": []
    },
    {
      "cell_type": "markdown",
      "metadata": {
        "id": "zXDR7O_ibvqm",
        "colab_type": "text"
      },
      "source": [
        "We verify the implementation by asserting that $R$ is upper triangular, that $Q^T = Q^{-1}$ and that $A = QR$."
      ]
    },
    {
      "cell_type": "code",
      "metadata": {
        "id": "eNfGUFf-YpBv",
        "colab_type": "code",
        "colab": {}
      },
      "source": [
        "def test_QR():\n",
        "  n = randint(1, 10)\n",
        "  A = np.random.rand(n, n) * 2 - 1\n",
        "  while np.isclose(0, np.linalg.det(A)):\n",
        "    A = np.random.rand(n, n) * 2 - 1\n",
        "  Q, R = QR(A)\n",
        "\n",
        "  # R upper triangular\n",
        "  for i in range(n):\n",
        "    for j in range(n):\n",
        "      if i > j:\n",
        "        assert R[i, j] == 0\n",
        "        \n",
        "  assert np.isclose(0, np.linalg.norm(Q.transpose() @ Q - np.eye(n)))\n",
        "  assert np.isclose(0, np.linalg.norm(Q @ R - A))"
      ],
      "execution_count": 0,
      "outputs": []
    },
    {
      "cell_type": "markdown",
      "metadata": {
        "id": "9ijZ1fqjcOhu",
        "colab_type": "text"
      },
      "source": [
        "We need two subroutines for this implementation: the QR factorization above and the backward substitution described in algorithm 5.2, chapter 5.2 of the lecture notes.\n",
        "\n",
        "To solve $Ax = b$ we then simply substitute $A = QR$ and get $$QRx = b.$$ Using $Q^T = Q^{-1}$ we get $$Rx = Q^T b$$ and can provide this to our backward substitution to finally have $$x = R^{-1} Q^T b.$$"
      ]
    },
    {
      "cell_type": "code",
      "metadata": {
        "id": "yXj2YT5h9jG8",
        "colab_type": "code",
        "colab": {}
      },
      "source": [
        "# Algorithm 5.2, chapter 5.2\n",
        "def backward_substitution(U, b):\n",
        "  assert U.shape[0] == U.shape[1] == b.shape[0]\n",
        "  # assume U upper triangular\n",
        "  n = b.shape[0]\n",
        "  x = np.zeros(n)\n",
        "  x[-1] = b[-1] / U[-1, -1]\n",
        "  for i in range(n-2, -1, -1):\n",
        "    x[i] = (b[i] - U[i, i+1:n].dot(x[i+1:n])) / U[i, i]\n",
        "  return x\n",
        "\n",
        "def solve(A, b):\n",
        "  Q, R = QR(A)\n",
        "  return backward_substitution(R, Q.transpose() @ b)\n"
      ],
      "execution_count": 0,
      "outputs": []
    },
    {
      "cell_type": "markdown",
      "metadata": {
        "id": "Xan1V0BudeV8",
        "colab_type": "text"
      },
      "source": [
        "To verify this implementation we check that, for our computed $x$, $||Ax - b|| \\approx 0$ and for a constructed $b = Ay$, solving $Ax = b$ yields $||x-y|| \\approx 0$."
      ]
    },
    {
      "cell_type": "code",
      "metadata": {
        "id": "McPFSXEmsXUu",
        "colab_type": "code",
        "colab": {}
      },
      "source": [
        "def test_solve():\n",
        "  n = randint(1, 10)\n",
        "  A = np.random.rand(n, n) * 2 - 1\n",
        "  while np.isclose(0, np.linalg.det(A)):\n",
        "    A = np.random.rand(n, n) * 2 - 1\n",
        "  b = np.random.rand(n) * 2 - 1\n",
        "\n",
        "  x = solve(A, b)\n",
        "  assert np.isclose(0, np.linalg.norm(A @ x - b))\n",
        "\n",
        "  y = np.random.rand(n) * 2 - 1\n",
        "  x = solve(A, A @ y)\n",
        "  if not np.isclose(0, np.linalg.norm(x - y)):\n",
        "    print(\"[Solver] x and y slightly differ: \")\n",
        "    print(\"x:\", x)\n",
        "    print(\"y:\", y)\n",
        "  assert np.isclose(0, np.linalg.norm(x - y), atol = 1e-4)"
      ],
      "execution_count": 0,
      "outputs": []
    },
    {
      "cell_type": "markdown",
      "metadata": {
        "id": "7DJkX6yOkZRV",
        "colab_type": "text"
      },
      "source": [
        "We implement the QR eigenvalue algorithm using the method described in chapter 6.6 of the lecture notes (mainly algorithm 6.1). We repeat the Schur factorization approximation until the difference in $A$ becomes small enough."
      ]
    },
    {
      "cell_type": "code",
      "metadata": {
        "id": "U9rlGdgBka9Z",
        "colab_type": "code",
        "colab": {}
      },
      "source": [
        "# Algorithm 6.1, chapter 6.6\n",
        "def QR_eigenvalue_alg(mat, eps = 1e-10):\n",
        "  assert mat.shape[0] == mat.shape[1]\n",
        "  n = mat.shape[0]\n",
        "  # assume mat real and assert that it is symmetric\n",
        "  for i in range(n):\n",
        "    for j in range(i):\n",
        "      assert mat[i, j] == mat[j, i]\n",
        "\n",
        "  U = np.eye(n)\n",
        "  matlast = np.zeros((n, n))\n",
        "  while np.linalg.norm(mat - matlast) > eps:\n",
        "    matlast = mat\n",
        "    Q, R = QR(mat)\n",
        "    mat = R @ Q\n",
        "    U = U @ Q\n",
        "  return np.diag(mat), U"
      ],
      "execution_count": 0,
      "outputs": []
    },
    {
      "cell_type": "markdown",
      "metadata": {
        "id": "5nfDs4TEtlV-",
        "colab_type": "text"
      },
      "source": [
        "To verify our implementation we calculate the eigenvalues and -vectors of a random symmetric matrix $A$, and assert that $\\det(A - \\lambda_i I) \\approx 0$ for all eigenvalues $\\lambda_i$ and that $||Av_i - \\lambda_i v_i|| \\approx 0$ for all associated eigenvectors $v_i$.\n",
        "\n",
        "Since these computations are more complex than those in the other implementations we need a bigger tolerance to achieve a reasonable execution time."
      ]
    },
    {
      "cell_type": "code",
      "metadata": {
        "id": "j56vIRgwkamA",
        "colab_type": "code",
        "colab": {}
      },
      "source": [
        "def test_QR_eig_alg():\n",
        "  n = randint(1, 10)\n",
        "  A = np.random.rand(n, n) * 2 - 1\n",
        "  # make A symmetric\n",
        "  for i in range(n):\n",
        "    for j in range(i):\n",
        "      A[i, j] = A[j, i]\n",
        "  \n",
        "  vals, vecs = QR_eigenvalue_alg(A)\n",
        "  for i in range(n):\n",
        "    assert np.isclose(0, np.linalg.det(A - np.eye(n) * vals[i]), atol = 1e-5)\n",
        "    assert np.isclose(0, np.linalg.norm(A @ vecs[:, i] - vals[i] * vecs[:, i]), atol = 1e-5)"
      ],
      "execution_count": 0,
      "outputs": []
    },
    {
      "cell_type": "markdown",
      "metadata": {
        "id": "SsQLT38gVbn_",
        "colab_type": "text"
      },
      "source": [
        "# **Results**"
      ]
    },
    {
      "cell_type": "code",
      "metadata": {
        "id": "ciabKDM1hb4Z",
        "colab_type": "code",
        "colab": {
          "base_uri": "https://localhost:8080/",
          "height": 72
        },
        "outputId": "5bc33807-992f-4ee1-9c30-20f083a62a70"
      },
      "source": [
        "for i in range(500):\n",
        "  print(i, end = \" \")\n",
        "  test_csr()\n",
        "  test_QR()\n",
        "  test_solve()\n",
        "  test_QR_eig_alg()\n",
        "print()\n",
        "print(\"All tests passed\")"
      ],
      "execution_count": 12,
      "outputs": [
        {
          "output_type": "stream",
          "text": [
            "0 1 2 3 4 5 6 7 8 9 10 11 12 13 14 15 16 17 18 19 20 21 22 23 24 25 26 27 28 29 30 31 32 33 34 35 36 37 38 39 40 41 42 43 44 45 46 47 48 49 50 51 52 53 54 55 56 57 58 59 60 61 62 63 64 65 66 67 68 69 70 71 72 73 74 75 76 77 78 79 80 81 82 83 84 85 86 87 88 89 90 91 92 93 94 95 96 97 98 99 100 101 102 103 104 105 106 107 108 109 110 111 112 113 114 115 116 117 118 119 120 121 122 123 124 125 126 127 128 129 130 131 132 133 134 135 136 137 138 139 140 141 142 143 144 145 146 147 148 149 150 151 152 153 154 155 156 157 158 159 160 161 162 163 164 165 166 167 168 169 170 171 172 173 174 175 176 177 178 179 180 181 182 183 184 185 186 187 188 189 190 191 192 193 194 195 196 197 198 199 200 201 202 203 204 205 206 207 208 209 210 211 212 213 214 215 216 217 218 219 220 221 222 223 224 225 226 227 228 229 230 231 232 233 234 235 236 237 238 239 240 241 242 243 244 245 246 247 248 249 250 251 252 253 254 255 256 257 258 259 260 261 262 263 264 265 266 267 268 269 270 271 272 273 274 275 276 277 278 279 280 281 282 283 284 285 286 287 288 289 290 291 292 293 294 295 296 297 298 299 300 301 302 303 304 305 306 307 308 309 310 311 312 313 314 315 316 317 318 319 320 321 322 323 324 325 326 327 328 329 330 331 332 333 334 335 336 337 338 339 340 341 342 343 344 345 346 347 348 349 350 351 352 353 354 355 356 357 358 359 360 361 362 363 364 365 366 367 368 369 370 371 372 373 374 375 376 377 378 379 380 381 382 383 384 385 386 387 388 389 390 391 392 393 394 395 396 397 398 399 400 401 402 403 404 405 406 407 408 409 410 411 412 413 414 415 416 417 418 419 420 421 422 423 424 425 426 427 428 429 430 431 432 433 434 435 436 437 438 439 440 441 442 443 444 445 446 447 448 449 450 451 452 453 454 455 456 457 458 459 460 461 462 463 464 465 466 467 468 469 470 471 472 473 474 475 476 477 478 479 480 481 482 483 484 485 486 487 488 489 490 491 492 493 494 495 496 497 498 499 \n",
            "All tests passed\n"
          ],
          "name": "stdout"
        }
      ]
    },
    {
      "cell_type": "markdown",
      "metadata": {
        "id": "RLwlnOzuV-Cd",
        "colab_type": "text"
      },
      "source": [
        "All of our constructed tests passed when using random float data for testing. We note, however, that numeric inaccuracy in the solver sometimes causes `numpy`'s `isclose` to consider the solution incorrect. Increasing the tolerance to only consider the first four decimals causes the test to pass."
      ]
    },
    {
      "cell_type": "markdown",
      "metadata": {
        "id": "_4GLBv0zWr7m",
        "colab_type": "text"
      },
      "source": [
        "# **Discussion**"
      ]
    },
    {
      "cell_type": "markdown",
      "metadata": {
        "id": "6bcsDSoRXHZe",
        "colab_type": "text"
      },
      "source": [
        "Since the tests passed one of two things must be true: either the implementation is correct or the tests are not accurate. We assume that the `numpy` methods are correct and hope that our application of these methods are as well, suggesting that the implementation is satisfactory."
      ]
    }
  ]
}