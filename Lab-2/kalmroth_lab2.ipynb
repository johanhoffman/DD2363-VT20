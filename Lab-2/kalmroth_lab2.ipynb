{
  "nbformat": 4,
  "nbformat_minor": 0,
  "metadata": {
    "colab": {
      "name": "kalmroth_lab2.ipynb",
      "provenance": [],
      "collapsed_sections": []
    },
    "kernelspec": {
      "name": "python3",
      "display_name": "Python 3"
    }
  },
  "cells": [
    {
      "cell_type": "markdown",
      "metadata": {
        "id": "6RgtXlfYO_i7",
        "colab_type": "text"
      },
      "source": [
        "# **Lab 2: Matrix factorization**\n",
        "**Kristoffer Almroth**\n",
        "\n",
        "In collaboration with\n",
        "**Timas Ljungdahl**"
      ]
    },
    {
      "cell_type": "markdown",
      "metadata": {
        "id": "9x_J5FVuPzbm",
        "colab_type": "text"
      },
      "source": [
        "# **Abstract**"
      ]
    },
    {
      "cell_type": "markdown",
      "metadata": {
        "id": "6UFTSzW7P8kL",
        "colab_type": "text"
      },
      "source": [
        "Second lab in the course DD2363 Methods in Scientific Computing. This lab is about matrix factorization and solving the equation Ax=b."
      ]
    },
    {
      "cell_type": "markdown",
      "metadata": {
        "id": "28xLGz8JX3Hh",
        "colab_type": "text"
      },
      "source": [
        "# **Set up environment**"
      ]
    },
    {
      "cell_type": "markdown",
      "metadata": {
        "id": "D2PYNusD08Wa",
        "colab_type": "text"
      },
      "source": [
        "Dependencies needed for running the code."
      ]
    },
    {
      "cell_type": "code",
      "metadata": {
        "id": "Xw7VlErAX7NS",
        "colab_type": "code",
        "colab": {}
      },
      "source": [
        "# Load neccessary modules.\n",
        "from google.colab import files\n",
        "\n",
        "import time\n",
        "import numpy as np\n",
        "\n",
        "from matplotlib import pyplot as plt\n",
        "from matplotlib import tri\n",
        "from matplotlib import axes\n",
        "from mpl_toolkits.mplot3d import Axes3D\n",
        "from random import randrange\n",
        "\n",
        "import unittest"
      ],
      "execution_count": 0,
      "outputs": []
    },
    {
      "cell_type": "markdown",
      "metadata": {
        "id": "gnO3lhAigLev",
        "colab_type": "text"
      },
      "source": [
        "# **Introduction**"
      ]
    },
    {
      "cell_type": "markdown",
      "metadata": {
        "id": "l5zMzgPlRAF6",
        "colab_type": "text"
      },
      "source": [
        "One important function of matrices is to be able to solve the equation Ax=b. This equation can be solved by a variety of different methods, imcluding direct methods and iterative methods. In this lab a direct method will be implemented, based on QR-factorization and the methods to invert orthogonal and upper triangular matrices. QR-factorization is also used to approximate Schur factorization. In addition, a function for sparse matrix-vector product is implemented."
      ]
    },
    {
      "cell_type": "markdown",
      "metadata": {
        "id": "WeFO9QMeUOAu",
        "colab_type": "text"
      },
      "source": [
        "# **Methods**"
      ]
    },
    {
      "cell_type": "markdown",
      "metadata": {
        "id": "zF4iBj5VURZx",
        "colab_type": "text"
      },
      "source": [
        "This section is based on the theory from the third lecture and the lecture notes. Some of the algorithms are based on the pseudo code described in the lecture notes. All code is tested using various different test cases, including the test cases given in the lab requirements and some additional tests. \n",
        "\n",
        "Since floating point precision were used in the tests, there could be rounding errors.  The test methods of the library [numpy](https://docs.scipy.org/doc/numpy/reference/routines.testing.html) is used to test equality to a certain precision, here 1e-5.\n"
      ]
    },
    {
      "cell_type": "markdown",
      "metadata": {
        "id": "5OQvPD5k407N",
        "colab_type": "text"
      },
      "source": [
        "## Sparse matrix-vector product\n",
        "\n",
        "The input matrix is on the form Compressed Row Storage, which allows quick matrix multiplication for sparse matrices."
      ]
    },
    {
      "cell_type": "code",
      "metadata": {
        "colab_type": "code",
        "id": "jgpUUhqTcmnj",
        "colab": {}
      },
      "source": [
        "def SparseMatrixVectorProduct(val, col_idx, row_ptr, rows, cols, x):\n",
        "\n",
        "  # Check dimensions\n",
        "  assert cols == x.size\n",
        "\n",
        "  b = np.zeros(rows)\n",
        "  for i in range(0, rows):\n",
        "    for j in range(row_ptr[i], row_ptr[i+1]):\n",
        "      b[i] += val[j]*x[col_idx[j]]\n",
        "  return b"
      ],
      "execution_count": 0,
      "outputs": []
    },
    {
      "cell_type": "code",
      "metadata": {
        "id": "n1GbfrxXodCv",
        "colab_type": "code",
        "outputId": "1b57f2cf-8ee6-4edf-b6ee-7d7bc60f2084",
        "colab": {
          "base_uri": "https://localhost:8080/",
          "height": 104
        }
      },
      "source": [
        "class Test(unittest.TestCase):\n",
        "\n",
        "  def testRandom(self):\n",
        "    for i in range(0,1000):\n",
        "      row = randrange(100) + 10\n",
        "      col = randrange(100) + 10\n",
        "      m = np.random.rand(row,col)\n",
        "      v = np.random.rand(col)\n",
        "      \n",
        "      # Set most of the elements in the matrix to 0, making it a sparse matrix\n",
        "      for j in range(0, row):\n",
        "        for k in range(0, col-8):\n",
        "          m[j][randrange(col)] = 0\n",
        "\n",
        "      # Create a CRS matrix\n",
        "      val = []\n",
        "      col_idx = []\n",
        "      row_ptr = [0]\n",
        "      rowNum = 0\n",
        "      for j in range(0, row):\n",
        "        for k in range(0, col):\n",
        "          if m[j][k] != 0:\n",
        "            val.append(m[j][k])\n",
        "            col_idx.append(k)\n",
        "            rowNum += 1\n",
        "\n",
        "        # Valid since no row is entirely 0\n",
        "        row_ptr.append(rowNum)\n",
        "\n",
        "      # Comparing against normal matrix-vector product\n",
        "      np.testing.assert_allclose(SparseMatrixVectorProduct(val, col_idx, row_ptr, row, col, v), m.dot(v), rtol=1e-5, atol=0)\n",
        "\n",
        "if __name__ == '__main__':\n",
        "    unittest.main(argv=['first-arg-is-ignored'], exit=False)"
      ],
      "execution_count": 66,
      "outputs": [
        {
          "output_type": "stream",
          "text": [
            ".\n",
            "----------------------------------------------------------------------\n",
            "Ran 1 test in 9.317s\n",
            "\n",
            "OK\n"
          ],
          "name": "stderr"
        }
      ]
    },
    {
      "cell_type": "markdown",
      "metadata": {
        "colab_type": "text",
        "id": "bZiDf6IGjagD"
      },
      "source": [
        "## QR factorization\n",
        "\n",
        "QR-factorization is used to easily be able to invert a matrix. A matrix A is factorized into two matrices Q and R, where Q is an orthogonal matrix and R is an upper triangular matrix. Orthogonal matrices can be inverted by transposing them and upper triangular matrices can be inverted by backwards substitution.\n",
        "\n",
        "We get the orthogonal matrix by the following formula:\n",
        "\n",
        "$v_j = a_{:j} - \\sum_{i=1}^{j-1} (a_{:j}, q_i)q_i$\n",
        "\n",
        "$q_j = v_j/||v_j||$\n",
        "\n",
        "The upper triangular matrix is calculated by the formula:\n",
        "\n",
        "$r_{ij} = (a_{:j},q_i)$\n",
        "\n",
        "$r_{jj} = ||v_j||$"
      ]
    },
    {
      "cell_type": "code",
      "metadata": {
        "colab_type": "code",
        "id": "aAsmTy8SjxOM",
        "colab": {}
      },
      "source": [
        "def QRFactorization(A):\n",
        "\n",
        "  n = A.shape[0]\n",
        "  V = np.copy(A)\n",
        "  R = np.zeros(shape=(n,n))\n",
        "  Q = np.zeros(shape=(n,n))\n",
        "\n",
        "  for i in range(0, n):\n",
        "    R[i,i] = np.linalg.norm(V[:,i])\n",
        "    Q[:,i] = V[:,i]/R[i,i]\n",
        "    for j in range(i+1, n):\n",
        "      R[i,j] = np.dot(Q[:,i], V[:,j])\n",
        "      V[:,j] = V[:,j] - R[i,j]*Q[:,i]\n",
        "\n",
        "  return Q, R;"
      ],
      "execution_count": 0,
      "outputs": []
    },
    {
      "cell_type": "code",
      "metadata": {
        "id": "772osfO6vs-H",
        "colab_type": "code",
        "outputId": "00f22c2f-9748-41b0-9689-f3da3e99bff3",
        "colab": {
          "base_uri": "https://localhost:8080/",
          "height": 104
        }
      },
      "source": [
        "class Test(unittest.TestCase):\n",
        "\n",
        "  def testRandom(self):\n",
        "    for i in range(0,100):\n",
        "      row = randrange(30) + 10\n",
        "      m = np.random.rand(row,row)\n",
        "      \n",
        "      (Q,R) = QRFactorization(m)\n",
        "\n",
        "      # Test upper triangular\n",
        "      np.testing.assert_allclose(R, np.triu(R))\n",
        "\n",
        "      # || Q^TQ-I ||_F = sqrt(n)\n",
        "      np.testing.assert_almost_equal(np.linalg.norm(np.matmul(np.transpose(Q), np.linalg.inv(Q))), np.sqrt(row), decimal=5)\n",
        "\n",
        "      # || QR-A ||_F = 0\n",
        "      np.testing.assert_almost_equal(np.linalg.norm(np.subtract(np.matmul(Q, R), m)), 0, decimal=5)\n",
        "\n",
        "if __name__ == '__main__':\n",
        "    unittest.main(argv=['first-arg-is-ignored'], exit=False)"
      ],
      "execution_count": 68,
      "outputs": [
        {
          "output_type": "stream",
          "text": [
            ".\n",
            "----------------------------------------------------------------------\n",
            "Ran 1 test in 0.618s\n",
            "\n",
            "OK\n"
          ],
          "name": "stderr"
        }
      ]
    },
    {
      "cell_type": "markdown",
      "metadata": {
        "colab_type": "text",
        "id": "8MDHKJpCkq5Z"
      },
      "source": [
        "## Direct solver for equation $Ax=b$\n",
        "\n",
        "To solve the equation $Ax=b$ we first use QR-factorization to get two matrices that are easy to invert. \n",
        "\n",
        "$QRx=b \\Rightarrow x=R^{-1}Q^{-1}b $\n",
        "\n",
        "An orthogonal matrix can be inverted by transposing it:\n",
        "\n",
        "$Q^{-1} = Q^T$\n",
        "\n",
        "$Q_{ij} \\Rightarrow Q^T = Q_{ji}$\n",
        "\n",
        "An upper triangular matrix can be inverted by using backwards substitution"
      ]
    },
    {
      "cell_type": "markdown",
      "metadata": {
        "id": "3YB350jl5IXQ",
        "colab_type": "text"
      },
      "source": [
        "### Backwards substitution\n",
        "\n",
        "$x_j = b_i - \\sum_{j=i+1}^{n} (u_{ij}x_j) / u_{ii}$"
      ]
    },
    {
      "cell_type": "code",
      "metadata": {
        "colab_type": "code",
        "id": "q3mc0TbmtFlW",
        "colab": {}
      },
      "source": [
        "def BackwardsSubstitution(U, b):\n",
        "\n",
        "  n = b.size\n",
        "  x = np.zeros(n)\n",
        "\n",
        "  x[n-1] = b[n-1]/U[n-1, n-1]\n",
        "  for i in range(n-2, -1, -1):\n",
        "    sum = 0\n",
        "    for j in range(i+1, n):\n",
        "      sum += U[i,j]*x[j]\n",
        "    x[i] = (b[i] - sum) / U[i,i]\n",
        "  return x"
      ],
      "execution_count": 0,
      "outputs": []
    },
    {
      "cell_type": "code",
      "metadata": {
        "id": "DZ-USJk3wuCg",
        "colab_type": "code",
        "colab": {
          "base_uri": "https://localhost:8080/",
          "height": 104
        },
        "outputId": "9763cc1e-a8f1-4774-a166-d3d50c35401e"
      },
      "source": [
        "class Test(unittest.TestCase):\n",
        "\n",
        "  def testRandom(self):\n",
        "    for i in range(0,100):\n",
        "      row = randrange(30) + 10\n",
        "      A = np.random.rand(row,row)\n",
        "      (Q,R) = QRFactorization(A)\n",
        "      x = np.random.rand(row)\n",
        "      b = R.dot(x)\n",
        "\n",
        "      # Test x = R^(-1)b\n",
        "      np.testing.assert_allclose(BackwardsSubstitution(R,b), x, rtol=1e-5, atol=0)\n",
        "\n",
        "if __name__ == '__main__':\n",
        "    unittest.main(argv=['first-arg-is-ignored'], exit=False)"
      ],
      "execution_count": 70,
      "outputs": [
        {
          "output_type": "stream",
          "text": [
            ".\n",
            "----------------------------------------------------------------------\n",
            "Ran 1 test in 0.335s\n",
            "\n",
            "OK\n"
          ],
          "name": "stderr"
        }
      ]
    },
    {
      "cell_type": "markdown",
      "metadata": {
        "id": "0An4UzpzhXU_",
        "colab_type": "text"
      },
      "source": [
        "###$Ax=b$"
      ]
    },
    {
      "cell_type": "code",
      "metadata": {
        "id": "Gg9PaJgahads",
        "colab_type": "code",
        "colab": {}
      },
      "source": [
        "def DirectSolver(A, b):\n",
        "\n",
        "  (Q, R) = QRFactorization(A)\n",
        "  return BackwardsSubstitution(R, np.transpose(Q).dot(b))"
      ],
      "execution_count": 0,
      "outputs": []
    },
    {
      "cell_type": "code",
      "metadata": {
        "id": "4qX1X2iR1dXb",
        "colab_type": "code",
        "colab": {
          "base_uri": "https://localhost:8080/",
          "height": 104
        },
        "outputId": "8c3e16eb-dc89-4048-dd8f-e9198da0dca2"
      },
      "source": [
        "class Test(unittest.TestCase):\n",
        "\n",
        "  def testRandom(self):\n",
        "    for i in range(0,100):\n",
        "      row = randrange(30) + 10\n",
        "      A = np.random.rand(row,row)\n",
        "      x = np.random.rand(row)\n",
        "      b = A.dot(x)\n",
        "      x2 = DirectSolver(A,b)\n",
        "\n",
        "      # x = A^(-1)b\n",
        "      np.testing.assert_allclose(x2, x, rtol=1e-5, atol=0)\n",
        "\n",
        "      # ||Ax-b|| = 0\n",
        "      np.testing.assert_almost_equal(np.linalg.norm(A.dot(x2)-b), 0, decimal=5)\n",
        "\n",
        "      # ||x-x2|| = 0\n",
        "      np.testing.assert_almost_equal(np.linalg.norm(x-x2), 0, decimal=5)\n",
        "\n",
        "if __name__ == '__main__':\n",
        "    unittest.main(argv=['first-arg-is-ignored'], exit=False)"
      ],
      "execution_count": 72,
      "outputs": [
        {
          "output_type": "stream",
          "text": [
            ".\n",
            "----------------------------------------------------------------------\n",
            "Ran 1 test in 0.349s\n",
            "\n",
            "OK\n"
          ],
          "name": "stderr"
        }
      ]
    },
    {
      "cell_type": "markdown",
      "metadata": {
        "id": "uYX5u9k7xCkA",
        "colab_type": "text"
      },
      "source": [
        "## QR eigenvalue algorithm\n",
        "\n",
        "This algorithm is an iterative approximation of the Schur factorization of real symmetric matrices. \n",
        "\n",
        "$A=UTU^*$ where U has the eigenvectors as column vectors and T is a upper triangular matrix with the eigenvalues on the diagonal.\n",
        "\n",
        "The iteration algorithm is slow to run, it is thus only tested by small matrices of size 5, with 2000 iterations which gives a precision of over 5 decimals. "
      ]
    },
    {
      "cell_type": "code",
      "metadata": {
        "id": "-9Ua1OMgxNLE",
        "colab_type": "code",
        "colab": {}
      },
      "source": [
        "def QREigenvalue(A):\n",
        "\n",
        "  n = A.shape[0]\n",
        "  U = np.identity(n)\n",
        "\n",
        "  for i in range(0, 2000):\n",
        "    (Q,R) = QRFactorization(A)\n",
        "    A = np.matmul(R,Q)\n",
        "    U = np.matmul(U,Q)\n",
        "\n",
        "  return A, U;"
      ],
      "execution_count": 0,
      "outputs": []
    },
    {
      "cell_type": "code",
      "metadata": {
        "id": "ZsOFTmYZzIjw",
        "colab_type": "code",
        "colab": {
          "base_uri": "https://localhost:8080/",
          "height": 104
        },
        "outputId": "1932a45f-a97b-4452-f4be-b0f4b265d419"
      },
      "source": [
        "class Test(unittest.TestCase):\n",
        "\n",
        "  def testRandom(self):\n",
        "    for i in range(0,10):\n",
        "\n",
        "      n = 5\n",
        "      I = np.identity(n)\n",
        "\n",
        "      # A is a real symmetric matrix\n",
        "      A = np.random.rand(n,n)\n",
        "      for i in range(0, n):\n",
        "        for j in range(0, n):\n",
        "          A[i,j] = A[j,i]\n",
        "\n",
        "      (A2,U) = QREigenvalue(A)\n",
        "\n",
        "      for i in range(0, n):\n",
        "\n",
        "        # || Av_i - lambda_i v_i || = 0       \n",
        "        np.testing.assert_almost_equal(np.linalg.norm(A.dot(U[:,i]) - A2[i,i]*U[:,i]), 0, decimal=5)\n",
        "        \n",
        "        # det(A - lambda_i I) = 0\n",
        "        np.testing.assert_almost_equal(np.linalg.det(A - A2[i,i]*I), 0, decimal=5)\n",
        "\n",
        "if __name__ == '__main__':\n",
        "    unittest.main(argv=['first-arg-is-ignored'], exit=False)"
      ],
      "execution_count": 74,
      "outputs": [
        {
          "output_type": "stream",
          "text": [
            ".\n",
            "----------------------------------------------------------------------\n",
            "Ran 1 test in 2.818s\n",
            "\n",
            "OK\n"
          ],
          "name": "stderr"
        }
      ]
    },
    {
      "cell_type": "markdown",
      "metadata": {
        "id": "SsQLT38gVbn_",
        "colab_type": "text"
      },
      "source": [
        "# **Results**"
      ]
    },
    {
      "cell_type": "markdown",
      "metadata": {
        "id": "RLwlnOzuV-Cd",
        "colab_type": "text"
      },
      "source": [
        "The resulting functions as well as their test cases and explanation can be seen under Methods."
      ]
    },
    {
      "cell_type": "markdown",
      "metadata": {
        "id": "_4GLBv0zWr7m",
        "colab_type": "text"
      },
      "source": [
        "# **Discussion**"
      ]
    },
    {
      "cell_type": "markdown",
      "metadata": {
        "id": "6bcsDSoRXHZe",
        "colab_type": "text"
      },
      "source": [
        "This lab was more challenging than the last one, but also more interesting. Implementing methods to solve the equation $Ax=b$ is nothing I have done before, which was fun. Using the QR-factorization for both solving the equation $Ax=b$ and to approximate the eigenvalues and the eigenvectors shows the importance of the factorization method."
      ]
    }
  ]
}