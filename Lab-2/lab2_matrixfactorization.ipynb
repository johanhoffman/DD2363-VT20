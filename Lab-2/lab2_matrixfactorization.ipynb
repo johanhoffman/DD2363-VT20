{
  "nbformat": 4,
  "nbformat_minor": 0,
  "metadata": {
    "colab": {
      "name": "lab2_matrixfactorization.ipynb",
      "provenance": [],
      "collapsed_sections": []
    },
    "kernelspec": {
      "name": "python3",
      "display_name": "Python 3"
    },
    "accelerator": "GPU"
  },
  "cells": [
    {
      "cell_type": "markdown",
      "metadata": {
        "id": "6RgtXlfYO_i7",
        "colab_type": "text"
      },
      "source": [
        "# Lab 2: Matrix factorization #\n",
        "**Viktor Meyer - DD2363 Methods in Scientific Computing**"
      ]
    },
    {
      "cell_type": "markdown",
      "metadata": {
        "id": "9x_J5FVuPzbm",
        "colab_type": "text"
      },
      "source": [
        "# **Abstract**"
      ]
    },
    {
      "cell_type": "markdown",
      "metadata": {
        "id": "6UFTSzW7P8kL",
        "colab_type": "text"
      },
      "source": [
        "This lab is an exercise in matrix factorization. The mandatory part includes sparse matrix vector product, QR factorization and direct solver (Ax=b). There is also an extra assignment least squares problem, QR eigenvalue algorithm or blocked matrix-matrix product."
      ]
    },
    {
      "cell_type": "markdown",
      "metadata": {
        "id": "28xLGz8JX3Hh",
        "colab_type": "text"
      },
      "source": [
        "# **Environment**"
      ]
    },
    {
      "cell_type": "markdown",
      "metadata": {
        "id": "D2PYNusD08Wa",
        "colab_type": "text"
      },
      "source": [
        "To have access to the neccessary modules you have to run this cell."
      ]
    },
    {
      "cell_type": "code",
      "metadata": {
        "id": "Xw7VlErAX7NS",
        "colab_type": "code",
        "colab": {}
      },
      "source": [
        "# Load neccessary modules.\n",
        "from google.colab import files\n",
        "\n",
        "import time\n",
        "import numpy as np\n",
        "\n",
        "from matplotlib import pyplot as plt\n",
        "from matplotlib import tri\n",
        "from matplotlib import axes"
      ],
      "execution_count": 0,
      "outputs": []
    },
    {
      "cell_type": "markdown",
      "metadata": {
        "id": "gnO3lhAigLev",
        "colab_type": "text"
      },
      "source": [
        "# **Introduction**"
      ]
    },
    {
      "cell_type": "markdown",
      "metadata": {
        "id": "l5zMzgPlRAF6",
        "colab_type": "text"
      },
      "source": [
        "The methods to be implemented were covered in the during lectures and definitions are available in the lecture notes: LN-DD2363-part3.pdf. \n",
        "\n"
      ]
    },
    {
      "cell_type": "markdown",
      "metadata": {
        "id": "WeFO9QMeUOAu",
        "colab_type": "text"
      },
      "source": [
        "# **Methods**"
      ]
    },
    {
      "cell_type": "markdown",
      "metadata": {
        "id": "I5Kf3qRyY5J5",
        "colab_type": "text"
      },
      "source": [
        "### Sparse Matrix-Vector Product ###"
      ]
    },
    {
      "cell_type": "markdown",
      "metadata": {
        "id": "eRBfBO2AtXdb",
        "colab_type": "text"
      },
      "source": [
        "Sparse matrices are matrices that contain a lot of zeros and are not dense in information. This is a problem since they essentially waste space. CRS is a datastructure that can be employed to make more efficient use of computer memory. \n",
        "\n",
        "The smvp (SparseMatrixVectorProduct) method below takes a CRS structure as input and performs matrix vector product calculation:"
      ]
    },
    {
      "cell_type": "code",
      "metadata": {
        "colab_type": "code",
        "id": "PbnT724f5mfQ",
        "colab": {}
      },
      "source": [
        "# LN-DD2363-part3.pdf, pp. 7\n",
        "\n",
        "def smvp(val, col_idx, row_ptr, x):\n",
        "  b = np.matrix(np.ndarray(shape=(len(x), 1)))\n",
        "  \n",
        "  for i in range(len(x)):\n",
        "    b[i] = 0\n",
        "    for j in range(int(row_ptr[i]), int(row_ptr[i+1])):\n",
        "      b[i, 0] += val[j] * x[int(col_idx[j])]; \n",
        "      \n",
        "  return b"
      ],
      "execution_count": 0,
      "outputs": []
    },
    {
      "cell_type": "markdown",
      "metadata": {
        "id": "fjImmRK-t2xF",
        "colab_type": "text"
      },
      "source": [
        "The crs method below takes a matrix A as input and converts it to CRS form:"
      ]
    },
    {
      "cell_type": "code",
      "metadata": {
        "id": "scHcB7wBgzWh",
        "colab_type": "code",
        "colab": {}
      },
      "source": [
        "def crs(A):\n",
        "  val = np.array([])\n",
        "  col_idx = np.array([])\n",
        "  row_ptr = np.array([])\n",
        "\n",
        "  for dy in range(A.shape[1]):\n",
        "    addedRowPtr = False\n",
        "    for dx in range(A.shape[0]):\n",
        "      if(A[dy, dx] != 0):\n",
        "        col_idx = np.append(col_idx, dx)\n",
        "        if not (addedRowPtr):\n",
        "          row_ptr = np.append(row_ptr, len(val))\n",
        "          addedRowPtr = True\n",
        "        val = np.append(val, A[dy, dx])\n",
        "\n",
        "  row_ptr = np.append(row_ptr, len(val))\n",
        "\n",
        "  return np.array([val, col_idx, row_ptr])  "
      ],
      "execution_count": 0,
      "outputs": []
    },
    {
      "cell_type": "markdown",
      "metadata": {
        "id": "LLNy5emTuGrz",
        "colab_type": "text"
      },
      "source": [
        "We test the SVMP method with a simple matrix to ensure that the SVMP is equal to ordinary matrix vector product:"
      ]
    },
    {
      "cell_type": "code",
      "metadata": {
        "id": "75ulld-xuE3X",
        "colab_type": "code",
        "colab": {
          "base_uri": "https://localhost:8080/",
          "height": 172
        },
        "outputId": "5fac676e-9775-4213-bcc9-5e6e0c0c1fd6"
      },
      "source": [
        "def smvp_test():\n",
        "  A = np.matrix(\"2 2; 2 2\")\n",
        "  x = np.matrix(\"2; 2\")\n",
        "  crsform = crs(A)\n",
        "  print(\"A = \", A)\n",
        "  print(\"x = \", x)\n",
        "  print(\"b = \", smvp(crsform[0], crsform[1], crsform[2], x))\n",
        "  print(\"b(dense) = \", A*x)\n",
        "\n",
        "smvp_test()"
      ],
      "execution_count": 99,
      "outputs": [
        {
          "output_type": "stream",
          "text": [
            "A =  [[2 2]\n",
            " [2 2]]\n",
            "x =  [[2]\n",
            " [2]]\n",
            "b =  [[8.]\n",
            " [8.]]\n",
            "b(dense) =  [[8]\n",
            " [8]]\n"
          ],
          "name": "stdout"
        }
      ]
    },
    {
      "cell_type": "markdown",
      "metadata": {
        "id": "FikvZiv9uVeC",
        "colab_type": "text"
      },
      "source": [
        "We also test the SVMP method and compare it to ordinary vector product to see how it behaves for large matrices:"
      ]
    },
    {
      "cell_type": "code",
      "metadata": {
        "id": "q-R-tnP-g3ny",
        "colab_type": "code",
        "colab": {
          "base_uri": "https://localhost:8080/",
          "height": 279
        },
        "outputId": "56dd177a-4a5f-4722-cdd4-09ed3fbc7817"
      },
      "source": [
        "def smvp_plot():\n",
        "  sizes = np.array([])\n",
        "  errors = np.array([])\n",
        "\n",
        "  for n in range(128):\n",
        "    A = np.random.rand(n, n)\n",
        "    x = np.random.rand(n, 1)\n",
        "\n",
        "    crsform = crs(A)\n",
        "\n",
        "    sparseresult = smvp(crsform[0], crsform[1], crsform[2], x)\n",
        "    denseresult = A*x\n",
        "  \n",
        "    error = np.abs(np.sum(denseresult-sparseresult))\n",
        "    \n",
        "    sizes = np.append(sizes, n*n)\n",
        "    errors = np.append(errors, error)\n",
        "\n",
        "  plt.figure()\n",
        "  plt.xlabel('Matrix size')\n",
        "  plt.ylabel('Error')\n",
        "  plt.plot(sizes, errors, 'o-')\n",
        "\n",
        "smvp_plot()"
      ],
      "execution_count": 100,
      "outputs": [
        {
          "output_type": "display_data",
          "data": {
            "image/png": "[encoded data removed]",
            "text/plain": [
              "<Figure size 432x288 with 1 Axes>"
            ]
          },
          "metadata": {
            "tags": []
          }
        }
      ]
    },
    {
      "cell_type": "markdown",
      "metadata": {
        "id": "R9-BvtI_uS0Z",
        "colab_type": "text"
      },
      "source": [
        "It is apparent that there is a precision error when matrix sizes increase, this could be caused by e.g repeated floating point arithmetic error."
      ]
    },
    {
      "cell_type": "markdown",
      "metadata": {
        "colab_type": "text",
        "id": "k9b0yn9qF_Jq"
      },
      "source": [
        "### QR Factorization ###"
      ]
    },
    {
      "cell_type": "markdown",
      "metadata": {
        "id": "R9We443pu31o",
        "colab_type": "text"
      },
      "source": [
        "QR Factorization is of use when we are solving systems of equations. Triangular matrices are often important when solving equation systems, QR Factorization aims to take a matrix A and express it as triangular matrix R and matrix Q"
      ]
    },
    {
      "cell_type": "code",
      "metadata": {
        "colab_type": "code",
        "id": "401b1-yLGFaH",
        "colab": {}
      },
      "source": [
        "# LN-DD2363-part1.pdf, pp. 22\n",
        "\n",
        "def qrf(A):\n",
        "\n",
        "  assert(np.linalg.det(A) != 0)\n",
        "\n",
        "  Q = np.zeros(A.shape)\n",
        "  R = np.zeros(A.shape)\n",
        "\n",
        "  V = A[:,[0]]\n",
        "\n",
        "  for i in range(A.shape[0]):\n",
        "    R[i, i] = np.linalg.norm(V)\n",
        "    Q[:, [i]] = V / R[i, i]\n",
        "    for j in range(i+1, A.shape[0]):\n",
        "      R[i, j] = np.sum(np.dot(Q[:,[i]].T, A[:,[j]]))\n",
        "      V = A[:,[j]] - R[i, j]*Q[:,[i]]\n",
        "\n",
        "  return [Q, R]"
      ],
      "execution_count": 0,
      "outputs": []
    },
    {
      "cell_type": "markdown",
      "metadata": {
        "id": "fPft7QXJvvST",
        "colab_type": "text"
      },
      "source": [
        "We formulate a quick test to make sure that QR Factorization is working properly, an important property is that R is triangular:"
      ]
    },
    {
      "cell_type": "code",
      "metadata": {
        "id": "o9pt0xjBsIzW",
        "colab_type": "code",
        "colab": {
          "base_uri": "https://localhost:8080/",
          "height": 153
        },
        "outputId": "bd331f37-094b-4870-a3ea-76b264f53309"
      },
      "source": [
        "def is_triangular(A):\n",
        "  for i in range(A.shape[0]):\n",
        "    for j in range(0, i):\n",
        "      if (A[i, j] != 0): return False\n",
        "  return True\n",
        "\n",
        "def qrf_test():\n",
        "  A = np.matrix(\"2 -1; -1 2\")\n",
        "  Q, R = qrf(A)\n",
        "  print(\"A = \", A)\n",
        "  print(\"Q = \", Q)\n",
        "  print(\"R = \", R)\n",
        "  print(\"is_triangular(R) = \", is_triangular(R))\n",
        "\n",
        "qrf_test()\n"
      ],
      "execution_count": 102,
      "outputs": [
        {
          "output_type": "stream",
          "text": [
            "A =  [[ 2 -1]\n",
            " [-1  2]]\n",
            "Q =  [[ 0.89442719  0.4472136 ]\n",
            " [-0.4472136   0.89442719]]\n",
            "R =  [[ 2.23606798 -1.78885438]\n",
            " [ 0.          1.34164079]]\n",
            "is_triangular(R) =  True\n"
          ],
          "name": "stdout"
        }
      ]
    },
    {
      "cell_type": "markdown",
      "metadata": {
        "colab_type": "text",
        "id": "lVE-mL2SDDZu"
      },
      "source": [
        "### Direct Solver ###"
      ]
    },
    {
      "cell_type": "markdown",
      "metadata": {
        "id": "I64B1TRbwBJQ",
        "colab_type": "text"
      },
      "source": [
        "From litterature we know that if Ax=b then x=A⁻1b, this is what is refered to as a direct solver technique:"
      ]
    },
    {
      "cell_type": "code",
      "metadata": {
        "colab_type": "code",
        "id": "BBZekOW0DGxN",
        "colab": {}
      },
      "source": [
        "def ds(A, b):\n",
        "\n",
        "  A_inverse = np.linalg.inv(A)\n",
        "\n",
        "  x = A_inverse*b\n",
        "\n",
        "  return x"
      ],
      "execution_count": 0,
      "outputs": []
    },
    {
      "cell_type": "markdown",
      "metadata": {
        "id": "KOh_k1pQwQsG",
        "colab_type": "text"
      },
      "source": [
        "We formulate a quick test to make sure that the direct solver is working correctly, for example, if a solution is correct then Ax-b == 0"
      ]
    },
    {
      "cell_type": "code",
      "metadata": {
        "id": "ASb9__vvo4uR",
        "colab_type": "code",
        "colab": {
          "base_uri": "https://localhost:8080/",
          "height": 153
        },
        "outputId": "99018ee5-e1e2-465c-8b2d-191c4e5abe78"
      },
      "source": [
        "def ds_test():\n",
        "  A = np.matrix(\"1 0; 2 2\")\n",
        "  b = np.matrix(\"1; 6\")\n",
        "  x = ds(A, b)\n",
        "  print(\"A = \", A)\n",
        "  print(\"b = \", b)\n",
        "  print(\"x = \", x)\n",
        "\n",
        "  print(\"||Ax-b|| = \", np.linalg.norm(A*x-b))\n",
        "\n",
        "ds_test()"
      ],
      "execution_count": 104,
      "outputs": [
        {
          "output_type": "stream",
          "text": [
            "A =  [[1 0]\n",
            " [2 2]]\n",
            "b =  [[1]\n",
            " [6]]\n",
            "x =  [[1.]\n",
            " [2.]]\n",
            "||Ax-b|| =  0.0\n"
          ],
          "name": "stdout"
        }
      ]
    },
    {
      "cell_type": "markdown",
      "metadata": {
        "id": "SsQLT38gVbn_",
        "colab_type": "text"
      },
      "source": [
        "# **Results**"
      ]
    },
    {
      "cell_type": "markdown",
      "metadata": {
        "id": "RLwlnOzuV-Cd",
        "colab_type": "text"
      },
      "source": [
        "The results appear to be correctly implemented. This is not surprising since the various algorithms follow what is described in LN-DD2363-part3.pdf."
      ]
    },
    {
      "cell_type": "markdown",
      "metadata": {
        "id": "_4GLBv0zWr7m",
        "colab_type": "text"
      },
      "source": [
        "# **Discussion**"
      ]
    },
    {
      "cell_type": "markdown",
      "metadata": {
        "id": "6bcsDSoRXHZe",
        "colab_type": "text"
      },
      "source": [
        "Sparse Matrix Vector Product was of particular interest. The problem of large datasets is of real world importance. The comparison between dense and sparse matrix products showed that there may be accuracy loss when matrices approach larger sizes."
      ]
    }
  ]
}
