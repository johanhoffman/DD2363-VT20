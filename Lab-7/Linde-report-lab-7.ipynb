{
  "nbformat": 4,
  "nbformat_minor": 0,
  "metadata": {
    "colab": {
      "name": "template-report-lab-X.ipynb",
      "provenance": [],
      "include_colab_link": true
    },
    "kernelspec": {
      "name": "python3",
      "display_name": "Python 3"
    }
  },
  "cells": [
    {
      "cell_type": "markdown",
      "metadata": {
        "id": "view-in-github",
        "colab_type": "text"
      },
      "source": [
        "<a href=\"https://colab.research.google.com/github/johanhoffman/DD2363-VT20/blob/lindevanbeers/Lab-7/Linde-report-lab-7.ipynb\" target=\"_parent\"><img src=\"https://colab.research.google.com/assets/colab-badge.svg\" alt=\"Open In Colab\"/></a>"
      ]
    },
    {
      "cell_type": "markdown",
      "metadata": {
        "id": "6RgtXlfYO_i7",
        "colab_type": "text"
      },
      "source": [
        "# **Lab 7: Optimisation and learning**\n",
        "**Linde van Beers**"
      ]
    },
    {
      "cell_type": "markdown",
      "metadata": {
        "id": "9x_J5FVuPzbm",
        "colab_type": "text"
      },
      "source": [
        "# **Abstract**"
      ]
    },
    {
      "cell_type": "markdown",
      "metadata": {
        "id": "6UFTSzW7P8kL",
        "colab_type": "text"
      },
      "source": [
        "\n",
        "\n",
        "```\n",
        "# This is formatted as code\n",
        "```\n",
        "\n",
        "Short summary of the lab report. State the objectives, methods used, main results and conlusions. "
      ]
    },
    {
      "cell_type": "markdown",
      "metadata": {
        "id": "yJipbXtnjrJZ",
        "colab_type": "text"
      },
      "source": [
        ""
      ]
    },
    {
      "cell_type": "markdown",
      "metadata": {
        "id": "OkT8J7uOWpT3",
        "colab_type": "text"
      },
      "source": [
        "#**About the code**"
      ]
    },
    {
      "cell_type": "markdown",
      "metadata": {
        "id": "HmB2noTr1Oyo",
        "colab_type": "text"
      },
      "source": [
        "A short statement on who is the author of the file, and if the code is distributed under a certain license. "
      ]
    },
    {
      "cell_type": "code",
      "metadata": {
        "id": "Pdll1Xc9WP0e",
        "colab_type": "code",
        "outputId": "651e71a9-898e-4468-9a7e-3c0f4309c731",
        "colab": {
          "base_uri": "https://localhost:8080/",
          "height": 34
        }
      },
      "source": [
        "\"\"\"This program is a template for lab reports in the course\"\"\"\n",
        "\"\"\"DD2363 Methods in Scientific Computing, \"\"\"\n",
        "\"\"\"KTH Royal Institute of Technology, Stockholm, Sweden.\"\"\"\n",
        "\n",
        "# Copyright (C) 2019 Johan Hoffman (jhoffman@kth.se)\n",
        "\n",
        "# This file is part of the course DD2363 Methods in Scientific Computing\n",
        "# KTH Royal Institute of Technology, Stockholm, Sweden\n",
        "#\n",
        "# This is free software: you can redistribute it and/or modify\n",
        "# it under the terms of the GNU Lesser General Public License as published by\n",
        "# the Free Software Foundation, either version 3 of the License, or\n",
        "# (at your option) any later version.\n",
        "\n",
        "# This template is maintained by Johan Hoffman\n",
        "# Please report problems to jhoffman@kth.se"
      ],
      "execution_count": 5,
      "outputs": [
        {
          "output_type": "execute_result",
          "data": {
            "text/plain": [
              "'KTH Royal Institute of Technology, Stockholm, Sweden.'"
            ]
          },
          "metadata": {
            "tags": []
          },
          "execution_count": 5
        }
      ]
    },
    {
      "cell_type": "markdown",
      "metadata": {
        "id": "28xLGz8JX3Hh",
        "colab_type": "text"
      },
      "source": [
        "# **Set up environment**"
      ]
    },
    {
      "cell_type": "markdown",
      "metadata": {
        "id": "D2PYNusD08Wa",
        "colab_type": "text"
      },
      "source": [
        "To have access to the neccessary modules you have to run this cell. If you need additional modules, this is where you add them. "
      ]
    },
    {
      "cell_type": "code",
      "metadata": {
        "id": "Xw7VlErAX7NS",
        "colab_type": "code",
        "colab": {}
      },
      "source": [
        "# Load neccessary modules.\n",
        "from google.colab import files\n",
        "\n",
        "import time\n",
        "import numpy as np\n",
        "\n",
        "from matplotlib import pyplot as plt\n",
        "from matplotlib import tri\n",
        "from matplotlib import axes\n",
        "import matplotlib.cm as cm\n",
        "from mpl_toolkits.mplot3d import Axes3D"
      ],
      "execution_count": 0,
      "outputs": []
    },
    {
      "cell_type": "markdown",
      "metadata": {
        "id": "gnO3lhAigLev",
        "colab_type": "text"
      },
      "source": [
        "# **Introduction**"
      ]
    },
    {
      "cell_type": "markdown",
      "metadata": {
        "id": "l5zMzgPlRAF6",
        "colab_type": "text"
      },
      "source": [
        "Give a short description of the problem investigated in the report, and provide some background information so that the reader can understand the context. \n",
        "\n",
        "Briefly describe what method you have chosen to solve the problem, and justify why you selected that method. \n",
        "\n",
        "Here you can express mathematics through Latex syntax, and use hyperlinks for references.\n",
        "\n",
        "[Hyperlink to DD2363 course website.](https://kth.instructure.com/courses/7500)\n",
        "\n",
        "$\n",
        "{\\displaystyle \\frac{\\partial u}{\\partial t}} + u\\cdot \\nabla u +\\nabla p = f, \\quad \\nabla \\cdot u=0$\n",
        "\n"
      ]
    },
    {
      "cell_type": "markdown",
      "metadata": {
        "id": "WeFO9QMeUOAu",
        "colab_type": "text"
      },
      "source": [
        "# **Methods**"
      ]
    },
    {
      "cell_type": "markdown",
      "metadata": {
        "id": "zF4iBj5VURZx",
        "colab_type": "text"
      },
      "source": [
        "###Function: Gradient descent method in Rn \n",
        "\n",
        "\n",
        "Input: objective function f(x) \n",
        "\n",
        "Output: stationary point x* such that || grad(f)(x*) || < TOL\n",
        "\n",
        "Test: verify accuracy and convergence with respect to exact solution "
      ]
    },
    {
      "cell_type": "code",
      "metadata": {
        "id": "OE9kFhdpypaE",
        "colab_type": "code",
        "colab": {}
      },
      "source": [
        "def compute_gradient(f,x):\n",
        "  Df = x.copy()\n",
        "  eps = 1e-10\n",
        "  for i in range(x.shape[0]):\n",
        "    x1 = x.copy()\n",
        "    x2 = x.copy()\n",
        "    x1[i] = x1[i]-eps\n",
        "    x2[i] = x2[i]+eps\n",
        "    Df[i] = (f(x2)-f(x1))/(2*eps)\n",
        "  return Df\n",
        "\n",
        "def get_step_length(f,x,Df):\n",
        "  beta = 0.2\n",
        "  t = beta\n",
        "  a = f(x)\n",
        "  while a-abs(a*(t**4)) < f(x-t*Df): # beta*f(x) would not work due to negative values, but I still wanted something that goes to f(x) as Df goes to 0\n",
        "    # print(beta*f(x), f(x-t*Df))\n",
        "    t = t*beta\n",
        "  return t\n",
        "\n",
        "def gradient_descent(f, x0, tol = 0.001):\n",
        "  x = x0\n",
        "  xs = np.matrix(x0)\n",
        "  Df = compute_gradient(f,x)\n",
        "  while np.linalg.norm(Df) > tol:\n",
        "    Df = compute_gradient(f,x)\n",
        "    alpha = get_step_length(f,x,Df)\n",
        "    x = x - alpha*Df\n",
        "    xs = np.concatenate((xs,np.matrix(x)), axis = 0)\n",
        "  return x, xs"
      ],
      "execution_count": 0,
      "outputs": []
    },
    {
      "cell_type": "markdown",
      "metadata": {
        "id": "u1GQos8ayp2Y",
        "colab_type": "text"
      },
      "source": [
        "### Function: Backpropagation algorithm for neural network \n",
        "\n",
        "Input: neural network , training data \n",
        "\n",
        "Output: trained network\n",
        "\n",
        "Test: verify accuracy with respect to validation data\n"
      ]
    },
    {
      "cell_type": "code",
      "metadata": {
        "id": "p3imdBofzDIy",
        "colab_type": "code",
        "colab": {
          "base_uri": "https://localhost:8080/",
          "height": 85
        },
        "outputId": "73b35815-e81a-477b-ce22-742c0c7e5308"
      },
      "source": [
        "# model exists out of list of arrays corresponding to number of hidden layers +1\n",
        "\n",
        "in_size = 2\n",
        "h_size = 8\n",
        "out_size = 1\n",
        "\n",
        "in_to_h = np.random.normal(0,1,[h_size,in_size+1])\n",
        "dw = [np.zeros(in_to_h.shape)]\n",
        "h_to_out = np.random.normal(0,1,[out_size, h_size+1])\n",
        "dw.append(np.zeros(h_to_out.shape))\n",
        "\n",
        "model = [in_to_h,h_to_out]\n",
        "\n",
        "def sigmoid(x):\n",
        "  return (2/(1 + np.exp(-x))) - 1\n",
        "\n",
        "def predict(model, X):\n",
        "  output = X\n",
        "  for i in range(0, len(model)):\n",
        "    inputs = np.append(output,[np.ones(output.shape[1])], axis = 0)\n",
        "    output = sigmoid(np.matmul(model[i], inputs))\n",
        "  return output\n",
        "\n",
        "def backprop(model, X, T):\n",
        "\n",
        "  momentum = 0.7\n",
        "  eta = 0.1\n",
        "\n",
        "  # forward pass\n",
        "  inputs = [np.append(X,[np.ones(X.shape[1])], axis = 0)]\n",
        "  outputs =  [sigmoid(np.matmul(model[0], inputs[0]))]\n",
        "  for i in range(1, len(model)):\n",
        "    inputs.append(np.append(outputs[i-1],[np.ones(outputs[i-1].shape[1])], axis = 0))\n",
        "    outputs.append(sigmoid(np.matmul(model[i] , inputs[i])))\n",
        "\n",
        "  error = T-outputs[-1]\n",
        "\n",
        "  #  backward pass\n",
        "  for i in range(len(model)-1, -1, -1):\n",
        "    delta = np.multiply(error,np.multiply(1 + outputs[i], 1 - outputs[i])/2.)\n",
        "    error = np.matmul(model[i].T, delta)[:-1, :]\n",
        "    dw[i] = momentum * dw[i] - (1-momentum)*np.matmul(delta,inputs[i].T)\n",
        "    model[i] = model[i] - eta*dw[i]\n",
        "  \n",
        "  return model\n",
        "\n",
        "ins = np.ones([2,10])\n",
        "outs = np.ones([1,10])\n",
        "epochs = 100\n",
        "\n",
        "print(predict(model, ins))\n",
        "\n",
        "for i in range(epochs):\n",
        "  model = backprop(model, ins, outs)\n",
        "\n",
        "print(predict(model, ins))\n",
        "\n",
        "\n",
        "\n"
      ],
      "execution_count": 172,
      "outputs": [
        {
          "output_type": "stream",
          "text": [
            "[[0.20891483 0.20891483 0.20891483 0.20891483 0.20891483 0.20891483\n",
            "  0.20891483 0.20891483 0.20891483 0.20891483]]\n",
            "[[0.97879418 0.97879418 0.97879418 0.97879418 0.97879418 0.97879418\n",
            "  0.97879418 0.97879418 0.97879418 0.97879418]]\n"
          ],
          "name": "stdout"
        }
      ]
    },
    {
      "cell_type": "code",
      "metadata": {
        "id": "Rcj-s_Mlghtv",
        "colab_type": "code",
        "colab": {}
      },
      "source": [
        "  def forward_pass(layer, X):\n",
        "    x_bias = np.append(X,[np.ones(inputs.shape[1])], axis = 0)\n",
        "    return layer*X_bias\n",
        "  \n",
        "  def backward_pass(layer, Y, error, lr= 0.001):\n",
        "    delta = np.multiply(error, np.multiply(1+Y,1-Y)/2.)\n",
        "    prev_layer_err = layer.T*delta\n",
        "    dw = delta * \n",
        "\n",
        "\n",
        "class Layer:\n",
        "    def __init__(self, nodes, input_shape):\n",
        "        self.nodes = nodes\n",
        "        self.input_shape = input_shape\n",
        "        self.weights = np.matrix(np.random.normal(\n",
        "            0, 1./float(input_shape), (self.nodes, self.input_shape+1)))\n",
        "        self.dw = np.zeros(self.weights.shape)\n",
        "\n",
        "    def __phi(self, x):\n",
        "        return (2/(1 + np.exp(-x))) - 1\n",
        "\n",
        "    def forward(self, inputs):\n",
        "        # Add row of ones (biases)\n",
        "        self.inputs = np.append(inputs, [np.ones(inputs.shape[1])], axis=0)\n",
        "        self.outputs = self.__phi(self.weights*self.inputs)\n",
        "        return self.outputs\n",
        "\n",
        "    def backward(self, error, lr=0.001, momentum=0.7):\n",
        "        ''' Last layer error = O - T\n",
        "            Other layers error = next_layer_weights.T*next_\n",
        "        '''\n",
        "        delta = np.multiply(error, np.multiply(\n",
        "            1 + self.outputs, 1 - self.outputs)/2.)\n",
        "        # Compute previous layer #TODO(this here?)\n",
        "        prev_layer_err = self.weights.T*delta\n",
        "        self.dw = momentum*self.dw - (1-momentum)*delta*self.inputs.T\n",
        "        self.weights += lr*self.dw\n",
        "        return prev_layer_err\n",
        "\n",
        "class Model:\n",
        "    def __init__(self):\n",
        "        self.layers = []\n",
        "\n",
        "    def add(self, layer):\n",
        "        self.layers.append(layer)\n",
        "\n",
        "    def predict(self, X):\n",
        "        vals = X\n",
        "        for layer in self.layers:\n",
        "            vals = layer.forward(vals)\n",
        "        return vals\n",
        "\n",
        "    def fit(self, X, Y, X_val = None, Y_val = None, epochs=100, lr=0.01, momentum=0.7):\n",
        "        n_train = X.shape[1]\n",
        "        self.train_errors = []\n",
        "        self.val_errors = []\n",
        "        self.train_missclassified = []\n",
        "        self.val_missclassified = []\n",
        "        for epoch in range(epochs):\n",
        "            # Forward pass\n",
        "            vals = self.predict(X)\n",
        "\n",
        "            # Backprop\n",
        "            error = vals - Y\n",
        "            for layer in reversed(self.layers):\n",
        "                error = layer.backward(error,\n",
        "                        lr=lr, momentum=momentum)[:-1, :]  # Remove bias\n",
        "\n",
        "            # Error assesment:\n",
        "            train_error = mse(self.predict(X), Y)"
      ],
      "execution_count": 0,
      "outputs": []
    },
    {
      "cell_type": "markdown",
      "metadata": {
        "id": "SsQLT38gVbn_",
        "colab_type": "text"
      },
      "source": [
        "# **Results**"
      ]
    },
    {
      "cell_type": "markdown",
      "metadata": {
        "id": "RLwlnOzuV-Cd",
        "colab_type": "text"
      },
      "source": [
        "Present the results. If the result is an algorithm that you have described under the *Methods* section, you can present the data from verification and performance tests in this section. If the result is the output from a computational experiment this is where you present a selection of that data. "
      ]
    },
    {
      "cell_type": "code",
      "metadata": {
        "id": "dnZpyKDCVjvl",
        "colab_type": "code",
        "colab": {
          "base_uri": "https://localhost:8080/",
          "height": 320
        },
        "outputId": "9ca7f972-1551-428a-bd4f-63bb87a1ec4a"
      },
      "source": [
        "# f = lambda x : (np.exp(-x[0]**2 - x[1]**2) - np.exp(-(x[0] - 1)**2 - (x[1] - 1)**2))*2\n",
        "\n",
        "f = lambda x: (x[0]**2 + x[1]**2/2)\n",
        "\n",
        "n = 100\n",
        "X = np.array(np.linspace(-3,3,n))\n",
        "Y = np.array(np.linspace(-3,3,n))\n",
        "Z = np.zeros([n,n])\n",
        "\n",
        "x, xs = gradient_descent(f, np.array([1,2.5]), 1e-10)\n",
        "\n",
        "for i in range(n):\n",
        "  for j in range(n):\n",
        "    Z[i,j] = f([X[j],Y[i]])\n",
        "\n",
        "fig = plt.figure()\n",
        "sub = fig.add_subplot(111)\n",
        "sub.set_xlim(-3,3)\n",
        "sub.set_ylim(-3,3)\n",
        "CS = sub.contour(X,Y,Z, 15)\n",
        "sub.plot(xs[:,0],xs[:,1], 'o-')\n",
        "print('output:',x)\n",
        "print('target:', [0, 0], '+/- 1e-10')\n",
        "print(abs(x) <= np.array([1e-10,1e-10]))"
      ],
      "execution_count": 140,
      "outputs": [
        {
          "output_type": "stream",
          "text": [
            "output: [6.56230795e-25 6.83515716e-11]\n",
            "target: [0, 0] +/- 1e-10\n",
            "[ True  True]\n"
          ],
          "name": "stdout"
        },
        {
          "output_type": "display_data",
          "data": {
            "image/png": "[encoded data removed]",
            "text/plain": [
              "<Figure size 432x288 with 1 Axes>"
            ]
          },
          "metadata": {
            "tags": []
          }
        }
      ]
    },
    {
      "cell_type": "markdown",
      "metadata": {
        "id": "_4GLBv0zWr7m",
        "colab_type": "text"
      },
      "source": [
        "# **Discussion**"
      ]
    },
    {
      "cell_type": "markdown",
      "metadata": {
        "id": "6bcsDSoRXHZe",
        "colab_type": "text"
      },
      "source": [
        "Summarize your results and your conclusions. Were the results expected or surprising. Do your results have implications outside the particular problem investigated in this report? "
      ]
    },
    {
      "cell_type": "markdown",
      "metadata": {
        "id": "1vcIILuQYsEA",
        "colab_type": "text"
      },
      "source": [
        "# **APPENDIX**"
      ]
    },
    {
      "cell_type": "markdown",
      "metadata": {
        "id": "NlJ-Y9KAYt4Z",
        "colab_type": "text"
      },
      "source": [
        "In this appendix some examples are given to express and visualizing mathematical concepts such as vectors, matrices, meshes and functions. \n",
        "\n",
        "This is not part of the template report for the course."
      ]
    },
    {
      "cell_type": "code",
      "metadata": {
        "id": "Y-enWfBvcbRZ",
        "colab_type": "code",
        "colab": {}
      },
      "source": [
        ""
      ],
      "execution_count": 0,
      "outputs": []
    },
    {
      "cell_type": "markdown",
      "metadata": {
        "id": "I5Kf3qRyY5J5",
        "colab_type": "text"
      },
      "source": [
        "# **Vector**"
      ]
    },
    {
      "cell_type": "markdown",
      "metadata": {
        "id": "SBKa3PEj0N9D",
        "colab_type": "text"
      },
      "source": [
        "In this cell some basic commands are introduced for how to define and process a vector, where the NumPy array data type is used. "
      ]
    },
    {
      "cell_type": "code",
      "metadata": {
        "colab_type": "code",
        "id": "PbnT724f5mfQ",
        "colab": {}
      },
      "source": [
        "# Just a test\n",
        "# Create a vector as a NumPy array\n",
        "x = np.array([1,2,3,4])\n",
        "\n",
        "# Print various attributes of the vector\n",
        "print('x =',x)\n",
        "print('x[2] =',x[2])\n",
        "print('x[0:2] =',x[0:2])\n",
        "print('x.shape =',x.shape)\n",
        "print('x.ndim =',x.ndim)\n",
        "print('x.size =',x.size)\n",
        "print('x.dtype =',x.dtype)\n",
        "\n",
        "# Print the elements of vector x\n",
        "for i in range(x.size):\n",
        "  print(\"x[\",i,\"] =\",x[i])\n",
        "\n",
        "# Assign a float value to the int vector x\n",
        "x[1] = 2.1\n",
        "print('x =',x)\n",
        "\n",
        "# Copy the int vector x to a float vector xf\n",
        "xf = x.astype(float)\n",
        "xf[1] = 2.1\n",
        "print('xf =',xf)\n",
        "print('xf.dtype =',xf.dtype)\n",
        "\n",
        "# Create a complex vector \n",
        "y = np.array([2,3,4], dtype=complex)\n",
        "print('y =',y)\n",
        "print('y.dtype =',y.dtype)\n",
        "\n",
        "# Create a vector z by defining a range through an increment\n",
        "z = np.arange(12, 28, 4.5)\n",
        "print('z =',z)\n",
        "\n",
        "# Overwrite the vector z by a vector of uniformly spaced elements in a range\n",
        "pi=np.pi\n",
        "pi\n",
        "z = np.linspace(0, 2*pi, 5)\n",
        "print('z =',z)\n",
        "\n",
        "# Visualize the vector in a plot. \n",
        "plt.figure()\n",
        "plt.plot(x,2*x,'ro-')\n",
        "plt.show()"
      ],
      "execution_count": 0,
      "outputs": []
    },
    {
      "cell_type": "markdown",
      "metadata": {
        "id": "trQVmLgAZGU7",
        "colab_type": "text"
      },
      "source": [
        "# **Matrix**"
      ]
    },
    {
      "cell_type": "markdown",
      "metadata": {
        "id": "ADesgm5x01TF",
        "colab_type": "text"
      },
      "source": [
        "In this cell some basic commands for defining and processing a matrix\n",
        "is introduced, where we use the NumPy array data type. "
      ]
    },
    {
      "cell_type": "code",
      "metadata": {
        "id": "QdJvGD6NZKNc",
        "colab_type": "code",
        "colab": {}
      },
      "source": [
        "# Define a matrix as a NumPy array\n",
        "A = np.array([[2,4,6], [3,6,9], [1,2,1]])\n",
        "\n",
        "# Print various attributes of the matrix \n",
        "print('A =',A)\n",
        "print('A[1,0] =',A[1,0])\n",
        "print('A.shape =',A.shape)\n",
        "print('A.ndim =',A.ndim)\n",
        "print('A.size =',A.size)\n",
        "\n",
        "# Plot the matrix\n",
        "plt.figure()\n",
        "plt.plot(A,'o-')\n",
        "\n",
        "# Construct a simple sparse matrix class using the CRS data structure\n",
        "class spMatrix:\n",
        "  def __init__(self, val, col_idx, row_ptr):\n",
        "    self.val = val\n",
        "    self.col_idx = col_idx\n",
        "    self.row_ptr = row_ptr\n",
        "    \n",
        "# Create a sparse matrix object \n",
        "val = np.array([3, 2, 2, 2, 1, 1, 3, 2, 1, 2, 3])\n",
        "col_idx = np.array([1, 2, 4, 2, 3, 3, 3, 4, 5, 5, 6])\n",
        "row_ptr = np.array([1, 4, 6, 7, 9, 10])\n",
        "spA = spMatrix(val, col_idx, row_ptr)\n",
        "\n",
        "# Print sparse matrix object attributes\n",
        "print('Sparse matrix values: \\n',spA.val)\n",
        "print('Sparse matrix column indices: \\n',spA.col_idx)\n",
        "print('Sparse matrix row pointer: \\n',spA.row_ptr)\n",
        "    "
      ],
      "execution_count": 0,
      "outputs": []
    },
    {
      "cell_type": "markdown",
      "metadata": {
        "id": "idDHnPmv9c6H",
        "colab_type": "text"
      },
      "source": [
        "# **Function**"
      ]
    },
    {
      "cell_type": "markdown",
      "metadata": {
        "id": "PwYg0g0-EH2J",
        "colab_type": "text"
      },
      "source": [
        "In this cell we illustrate how functions are defined. "
      ]
    },
    {
      "cell_type": "code",
      "metadata": {
        "id": "eDlRKNOK9fNo",
        "colab_type": "code",
        "colab": {}
      },
      "source": [
        "# Define a function f(x,y)\n",
        "def f(x,y):\n",
        "  return x + y \n",
        "\n",
        "# Verify the function output\n",
        "print('f(3,4) =',f(3,4))\n",
        "\n",
        "# Define a function of a function\n",
        "def g1(fcn,arg1,arg2):\n",
        "  z = fcn(arg1,arg2)\n",
        "  print('z =',z)\n",
        "\n",
        "# Call the function\n",
        "g1(f,6,7)\n",
        "\n",
        "# Define a function of a function with arguments in a list or array\n",
        "def g2(fcn,arg):\n",
        "  z = fcn(*arg)\n",
        "  print('z =',z)\n",
        "  \n",
        "# Call the function with arguments as list and array\n",
        "xlist = [8,9]\n",
        "xarray = np.array([11,3])\n",
        "g2(f,xlist)\n",
        "g2(f,xarray)\n",
        "\n",
        "# Define a function to format the print out for a matrix \n",
        "def printMatrix(A):\n",
        "   rows = A.shape[0]\n",
        "   cols = A.shape[1]\n",
        "   for i in range(0,rows):\n",
        "      for j in range(0,cols):\n",
        "         print(A[i,j],\" \", end='')\n",
        "      print()\n",
        "\n",
        "# Define matrix      \n",
        "A = np.array([[1,2,3], [4,5,6], [7,8,9]])\n",
        "\n",
        "# Verify the function output\n",
        "print('A =', A)\n",
        "print('A =')\n",
        "printMatrix(A)\n",
        "print('A^T =')\n",
        "printMatrix(A.transpose())\n",
        "\n",
        "# Plot a Euclidian position vector v \n",
        "def plotEVector(vec):\n",
        "  plt.figure()\n",
        "  plt.xlim([-1.5*vec[0], 1.5*vec[0]])\n",
        "  plt.ylim([-1.5*vec[1], 1.5*vec[1]])\n",
        "  plt.quiver(0, 0, vec[0], vec[1], scale=1, scale_units='xy', angles='xy')\n",
        "  plt.show()\n",
        "\n",
        "v = np.array([3,4])\n",
        "plotEVector(v)\n",
        "\n",
        "\n"
      ],
      "execution_count": 0,
      "outputs": []
    },
    {
      "cell_type": "markdown",
      "metadata": {
        "id": "hmpw8QnuzSSD",
        "colab_type": "text"
      },
      "source": [
        "# **Plot**"
      ]
    },
    {
      "cell_type": "code",
      "metadata": {
        "id": "6zmuvOqEzWfA",
        "colab_type": "code",
        "colab": {}
      },
      "source": [
        "# Define a range for a parameter t\n",
        "t = np.arange( 0.0, 10, 0.5)\n",
        "\n",
        "# Initialize a new figure and set the size \n",
        "plt.figure(2)\n",
        "plt.figure(figsize=(12,6))\n",
        "\n",
        "# Define a subplot structure and choose the first subplot \n",
        "plt.subplot(121)\n",
        "\n",
        "# Plot a standard NumPy function against the parameter t\n",
        "plt.plot(t,np.cos(t))\n",
        "\n",
        "# Set plot labels and title for the subplot\n",
        "plt.xlabel('x')\n",
        "plt.ylabel('y')\n",
        "plt.title('My plot: $y = cos(x)$')\n",
        "\n",
        "# Choose the other subplot\n",
        "plt.subplot(122)\n",
        "\n",
        "# Plot three functions in the same subplot\n",
        "plt.plot(t, np.sin(f(t,3)), 'g*', t, 0.03*t**2, 'ro', t, 0.1*t, 'b')\n",
        "plt.axis([-1, 12, -2 ,3])\n",
        "\n",
        "# Show the figure\n",
        "plt.show()"
      ],
      "execution_count": 0,
      "outputs": []
    },
    {
      "cell_type": "markdown",
      "metadata": {
        "id": "M2LbkCoxNV8i",
        "colab_type": "text"
      },
      "source": [
        "# Triangular **mesh**"
      ]
    },
    {
      "cell_type": "markdown",
      "metadata": {
        "id": "cnwG2HPEFcyL",
        "colab_type": "text"
      },
      "source": [
        "This cell describes how to generate a triangular mesh from a point cloud by the Delaunay algorithm. It also illustrates how to access the mesh data structures. "
      ]
    },
    {
      "cell_type": "code",
      "metadata": {
        "id": "4stcLbraNZPY",
        "colab_type": "code",
        "colab": {}
      },
      "source": [
        "# Start the clock \n",
        "start = time.time()\n",
        "\n",
        "# Generate a point cloud\n",
        "Nx = 5\n",
        "Ny = 5\n",
        "hx = 1.0/(Nx-1)\n",
        "hy = 1.0/(Ny-1)\n",
        "x = np.zeros((Nx*Ny))\n",
        "y = np.zeros((Nx*Ny))\n",
        "for i in range(Nx):\n",
        "  for j in range(Ny):\n",
        "    x[i*Nx + j] = j*hx\n",
        "    y[i*Nx + j] = i*hy\n",
        "\n",
        "# Generate a mesh from the point cloud using a Delaunay algorithm\n",
        "mesh = tri.Triangulation( x, y )\n",
        "\n",
        "# Stop the clock\n",
        "end = time.time()\n",
        "\n",
        "# Print the measured time\n",
        "print (\"Mesh generation took: \", end - start, \"seconds (wall-clock time)\")\n",
        "\n",
        "# Print mesh data structure\n",
        "vertices = np.array([mesh.x, mesh.y])\n",
        "print('vertices = \\n', vertices)\n",
        "print('edges = \\n', mesh.edges)\n",
        "print('triangles = \\n', mesh.triangles)\n",
        "print('neighbor triangles = \\n', mesh.neighbors)\n",
        "\n",
        "# Plot the mesh \n",
        "plt.figure(3)\n",
        "plt.figure(figsize=(10,10))\n",
        "plt.triplot(mesh, 'bo-', lw=1)\n",
        "plt.title('Delaunay mesh')\n",
        "plt.show()\n",
        "\n",
        "# Define a function g(x,y)\n",
        "def g(x,y):\n",
        "    return np.sin(10*x)*np.cos(3*y)\n",
        "\n",
        "# Plot the function g(x,y) in a contour plot\n",
        "plt.figure(4)\n",
        "plt.tricontour(mesh, g(x,y), cmap=plt.cm.spectral)\n",
        "plt.show()\n",
        "\n",
        "# Plot the function g(x,y) in 3D as a surface plot\n",
        "fig = plt.figure(5)\n",
        "ax1 = fig.add_subplot(111, projection='3d')\n",
        "surf = ax1.plot_trisurf(mesh, g(x,y), cmap=plt.cm.coolwarm)\n",
        "fig.colorbar(surf, shrink=0.5, aspect=10)\n",
        "ax1.view_init(20,10)\n",
        "plt.show()"
      ],
      "execution_count": 0,
      "outputs": []
    },
    {
      "cell_type": "markdown",
      "metadata": {
        "id": "lmSvJV4dYVN2",
        "colab_type": "text"
      },
      "source": [
        "# Parametric **curve**"
      ]
    },
    {
      "cell_type": "markdown",
      "metadata": {
        "id": "fXevCzGfYZPj",
        "colab_type": "text"
      },
      "source": [
        "This cell illustrates how to visualize a parametric curve."
      ]
    },
    {
      "cell_type": "code",
      "metadata": {
        "id": "V9qqme4YYhrW",
        "colab_type": "code",
        "colab": {}
      },
      "source": [
        "# Define paramter range\n",
        "t = np.linspace(0, 4*np.pi, 100)\n",
        "\n",
        "# Define the curve\n",
        "x = t*np.cos(t)\n",
        "y = t*np.sin(t)\n",
        "z = t\n",
        "\n",
        "fig = plt.figure(6)\n",
        "ax = fig.gca(projection = '3d')\n",
        "ax.plot(x, y, z)\n",
        "plt.title('Parametric curve')\n",
        "plt.show()"
      ],
      "execution_count": 0,
      "outputs": []
    }
  ]
}