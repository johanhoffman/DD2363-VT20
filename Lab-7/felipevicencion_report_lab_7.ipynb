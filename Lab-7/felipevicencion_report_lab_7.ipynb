{
  "nbformat": 4,
  "nbformat_minor": 0,
  "metadata": {
    "colab": {
      "name": "felipevicencion_report_lab-7.ipynb",
      "provenance": []
    },
    "kernelspec": {
      "name": "python3",
      "display_name": "Python 3"
    }
  },
  "cells": [
    {
      "cell_type": "markdown",
      "metadata": {
        "id": "6RgtXlfYO_i7",
        "colab_type": "text"
      },
      "source": [
        "# **Lab 7: Optimization and learning**\n",
        "**Felipe Vicencio**"
      ]
    },
    {
      "cell_type": "markdown",
      "metadata": {
        "id": "9x_J5FVuPzbm",
        "colab_type": "text"
      },
      "source": [
        "# **Abstract**"
      ]
    },
    {
      "cell_type": "markdown",
      "metadata": {
        "id": "6UFTSzW7P8kL",
        "colab_type": "text"
      },
      "source": [
        "In this lab we implement two optimzation methods: a gradient descent method and Newton's method. Then we test for accuracy and convergence, and conclude that the implementations are successful."
      ]
    },
    {
      "cell_type": "markdown",
      "metadata": {
        "id": "OkT8J7uOWpT3",
        "colab_type": "text"
      },
      "source": [
        "#**About the code**"
      ]
    },
    {
      "cell_type": "code",
      "metadata": {
        "id": "Pdll1Xc9WP0e",
        "colab_type": "code",
        "outputId": "db867ed9-d160-40cc-e510-378f087d053b",
        "colab": {
          "base_uri": "https://localhost:8080/",
          "height": 34
        }
      },
      "source": [
        "\"\"\"This program is a template for lab reports in the course\"\"\"\n",
        "\"\"\"DD2363 Methods in Scientific Computing, \"\"\"\n",
        "\"\"\"KTH Royal Institute of Technology, Stockholm, Sweden.\"\"\"\n",
        "\n",
        "# Copyright (C) 2020 Felipe Vicencio (fivn@kth.se)\n",
        "\n",
        "# This file is part of the course DD2363 Methods in Scientific Computing\n",
        "# KTH Royal Institute of Technology, Stockholm, Sweden\n",
        "#\n",
        "# This is free software: you can redistribute it and/or modify\n",
        "# it under the terms of the GNU Lesser General Public License as published by\n",
        "# the Free Software Foundation, either version 3 of the License, or\n",
        "# (at your option) any later version."
      ],
      "execution_count": 0,
      "outputs": [
        {
          "output_type": "execute_result",
          "data": {
            "text/plain": [
              "'KTH Royal Institute of Technology, Stockholm, Sweden.'"
            ]
          },
          "metadata": {
            "tags": []
          },
          "execution_count": 1
        }
      ]
    },
    {
      "cell_type": "markdown",
      "metadata": {
        "id": "28xLGz8JX3Hh",
        "colab_type": "text"
      },
      "source": [
        "# **Set up environment**"
      ]
    },
    {
      "cell_type": "code",
      "metadata": {
        "id": "Xw7VlErAX7NS",
        "colab_type": "code",
        "colab": {}
      },
      "source": [
        "# Load neccessary modules.\n",
        "from google.colab import files\n",
        "\n",
        "import math\n",
        "import time\n",
        "import matplotlib.pyplot as plt\n",
        "import numpy as np"
      ],
      "execution_count": 0,
      "outputs": []
    },
    {
      "cell_type": "markdown",
      "metadata": {
        "id": "gnO3lhAigLev",
        "colab_type": "text"
      },
      "source": [
        "# **Introduction**"
      ]
    },
    {
      "cell_type": "markdown",
      "metadata": {
        "id": "l5zMzgPlRAF6",
        "colab_type": "text"
      },
      "source": [
        "The problem of optimization in $\\mathbb{R}^n$ has led to a lot of fruitful research throughout the centuries.\n",
        "\n",
        "To solve the problem in the unconstrained case, one of the most popular iterative algorithms is gradient descent. Taylor's formula for approximating $\\Delta f(x)$ after a change $\\Delta x$ leads to a need to maximize the dot product $-\\nabla f(x) \\cdot \\Delta x$ in order to maximize the descent. To do so $\\Delta x$ can be aligned with $-\\nabla f(x)$.\n",
        "\n",
        "There are many ways to choose the factor $\\alpha$ at step $k$, and the one we choose is satisfying the condition $f(x - \\alpha\\nabla f(x)) \\leq \\beta f(x)$, where $\\beta$ is a parameter (we choose $\\beta = 0.995$). To try to speed up the search, we choose $\\alpha$ as large as possible (but smaller than $1$, which we choose as an upper bound). We do this by doing a linear search of values for $\\alpha$ that satisfy the condition starting at $\\alpha = 1$ and ending at $\\alpha = 10^{-4}$, with step size $\\Delta \\alpha = 10^{-4}$. The method we implemented halts when one such $\\alpha$ can't be found at any one step, or when $\\|\\nabla f(x)\\| \\leq TOL$.\n",
        "\n",
        "Another popular iterative algorithm is Newton's method. Taylor's formula (although expanded one more term) also leads to the increment $-Hf(x)^{-1}\\nabla f(x)$. This assumes that $Hf(x)$ is invertible at each step. We can optionally multiply this increment with a factor $\\gamma < 1$ to be able to guarantee convergence more often.\n",
        "\n",
        "More details about all this can be found in the lecture notes and in Wikipedia."
      ]
    },
    {
      "cell_type": "markdown",
      "metadata": {
        "id": "WeFO9QMeUOAu",
        "colab_type": "text"
      },
      "source": [
        "# **Methods**"
      ]
    },
    {
      "cell_type": "markdown",
      "metadata": {
        "id": "zF4iBj5VURZx",
        "colab_type": "text"
      },
      "source": [
        "The gradientDescent method takes a function $f$ from $\\mathbb{R}^n$ into $\\mathbb{R}$, its gradient $df$ from $\\mathbb{R}^n$ into $\\mathbb{R}^n$ as input, and an initial guess $x0$, and outputs a tuple $(x, xAtStep)$ where $x$ is the approximation of a critical point found, and $xAtStep$ is a list of all the successive approximations.\n",
        "\n",
        "More details about this method can be found in the Introduction section."
      ]
    },
    {
      "cell_type": "code",
      "metadata": {
        "id": "tGenzAXaEofO",
        "colab_type": "code",
        "colab": {}
      },
      "source": [
        "def gradientDescent(f, df, x0):\n",
        "  x = x0\n",
        "  xAtStep = [x]\n",
        "  fx = f(x)\n",
        "  dfx = df(x)\n",
        "  beta = 0.995\n",
        "  linearSearch = [1 - 10**(-4)*i for i in range(10^4)]\n",
        "  while np.linalg.norm(dfx) > 10**(-4):\n",
        "    alpha = 0\n",
        "    for step in linearSearch:\n",
        "      if f(x - step*dfx) <= beta*fx:\n",
        "        alpha = step\n",
        "        break\n",
        "    if alpha == 0:\n",
        "      break\n",
        "    x = x - alpha*dfx\n",
        "    xAtStep.append(x)\n",
        "    fx = f(x)\n",
        "    dfx = df(x)\n",
        "  return (x, xAtStep)"
      ],
      "execution_count": 0,
      "outputs": []
    },
    {
      "cell_type": "markdown",
      "metadata": {
        "id": "Fg9UfV0A-prs",
        "colab_type": "text"
      },
      "source": [
        "The newtonMinimization method takes the same as the previous method as input, except for a new argument: the Hessian matrix of $f$, $hf$, from $\\mathbb{R}^n$ into $\\mathbb{R}^{n \\times n}$, and outputs the same as the previous method."
      ]
    },
    {
      "cell_type": "code",
      "metadata": {
        "id": "SeL52yf10G6W",
        "colab_type": "code",
        "colab": {}
      },
      "source": [
        "def newtonMinimization(f, df, hf, x0):\n",
        "  x = x0\n",
        "  xAtStep = [x]\n",
        "  fx = f(x)\n",
        "  dfx = df(x)\n",
        "  hfx = hf(x)\n",
        "  alpha = 1\n",
        "  while np.linalg.norm(dfx) > 10**(-4):\n",
        "    if np.linalg.det(hfx) == 0:\n",
        "      print(\"Error: Found singular hessian matrix.\")\n",
        "      break\n",
        "    dx = np.linalg.solve(hfx, dfx)\n",
        "    x = x - alpha*dx\n",
        "    xAtStep.append(x)\n",
        "    fx = f(x)\n",
        "    dfx = df(x)\n",
        "    hfx = hf(x)\n",
        "  return (x, xAtStep)"
      ],
      "execution_count": 0,
      "outputs": []
    },
    {
      "cell_type": "markdown",
      "metadata": {
        "id": "SsQLT38gVbn_",
        "colab_type": "text"
      },
      "source": [
        "# **Results**"
      ]
    },
    {
      "cell_type": "markdown",
      "metadata": {
        "id": "RLwlnOzuV-Cd",
        "colab_type": "text"
      },
      "source": [
        "These are the accuracy and convergence tests for the gradientDescent method.\n",
        "\n",
        "The functions tested are:\n",
        "\n",
        "* $f(x, y) = (x - 1)^2 + y^2, \\quad \\nabla f(x, y) = (2(x - 1), 2y), \\quad P = (1, 0)$\n",
        "* $f(x, y) = (x - 1)^4 + y^2, \\quad \\nabla f(x, y) = (4(x - 1)^3, 2y), \\quad P = (1, 0)$\n",
        "* $f(x, y) = 10sin(0.01(x + y)), \\quad \\nabla f(x, y) = (0.1cos(0.01(x + y)), 0.1cos(0.01(x + y))), \\quad P = (-25\\pi, -25\\pi)$\n",
        "\n",
        "Where in each case $P$ is the critical point of $f$ which is closest to the approximation found by the algorithm.\n",
        "\n",
        "The accuracy is verified because the error $\\|sol[0] - P\\|$ is very small for all functions tested.\n",
        "\n",
        "The convergence is verified graphically by looking at the steps taken by the algorithm in the $x$ vs. $y$ plot.\n",
        "\n",
        "Further analysis can be found in the Discussion section."
      ]
    },
    {
      "cell_type": "code",
      "metadata": {
        "id": "88N8GwZxz99H",
        "colab_type": "code",
        "outputId": "93acfa4a-5da4-4ab7-c64b-01ed3281d251",
        "colab": {
          "base_uri": "https://localhost:8080/",
          "height": 1000
        }
      },
      "source": [
        "# gradientDescent tests\n",
        "\n",
        "sol = gradientDescent(\n",
        "  lambda x: (x[0] - 1)**2 + x[1]**2,\n",
        "  lambda x: np.array([2*(x[0] - 1), 2*x[1]]),\n",
        "  np.array([10, 10])\n",
        ")\n",
        "print(\"gradientDescent test #1\")\n",
        "print(\"Point found:\")\n",
        "print(sol[0])\n",
        "print(\"Number of steps:\")\n",
        "print(len(sol[1]))\n",
        "print(\"Error:\")\n",
        "print(np.linalg.norm(sol[0] - np.array([1, 0])))\n",
        "plt.plot([sol[1][i][0] for i in range(len(sol[1]))], [sol[1][i][1] for i in range(len(sol[1]))], 'b--')\n",
        "plt.plot(sol[0][0], sol[0][1], 'r^')\n",
        "plt.title('gradientDescent test #1, f(x, y) = (x - 1)^2 + y^2')\n",
        "plt.ylabel('y (steps in blue, point found in red)')\n",
        "plt.xlabel('x')\n",
        "plt.show()\n",
        "\n",
        "sol = gradientDescent(\n",
        "  lambda x: (x[0] - 1)**4 + x[1]**2,\n",
        "  lambda x: np.array([4*(x[0] - 1)**3, 2*x[1]]),\n",
        "  np.array([1.5, 1.5])\n",
        ")\n",
        "print(\"gradientDescent test #2\")\n",
        "print(\"Point found:\")\n",
        "print(sol[0])\n",
        "print(\"Number of steps:\")\n",
        "print(len(sol[1]))\n",
        "print(\"Error:\")\n",
        "print(np.linalg.norm(sol[0] - np.array([1, 0])))\n",
        "plt.plot([sol[1][i][0] for i in range(len(sol[1]))], [sol[1][i][1] for i in range(len(sol[1]))], 'b--')\n",
        "plt.plot(sol[0][0], sol[0][1], 'r^')\n",
        "plt.title('gradientDescent test #1, f(x, y) = (x - 1)^4 + y^2')\n",
        "plt.ylabel('y (steps in blue, point found in red)')\n",
        "plt.xlabel('x')\n",
        "plt.show()\n",
        "\n",
        "sol = gradientDescent(\n",
        "  lambda x: 10*math.sin(0.01*(x[0] + x[1])),\n",
        "  lambda x: np.array([0.1*math.cos(0.01*(x[0] + x[1])), 0.1*math.cos(0.01*(x[0]+ x[1]))]),\n",
        "  np.array([10, 10])\n",
        ")\n",
        "print(\"gradientDescent test #3\")\n",
        "print(\"Point found:\")\n",
        "print(sol[0])\n",
        "print(\"Number of steps:\")\n",
        "print(len(sol[1]))\n",
        "print(\"Error:\")\n",
        "print(np.linalg.norm(sol[0] - np.array([-25*math.pi, -25*math.pi])))\n",
        "plt.plot([sol[1][i][0] for i in range(len(sol[1]))], [sol[1][i][1] for i in range(len(sol[1]))], 'b--')\n",
        "plt.plot(sol[0][0], sol[0][1], 'r^')\n",
        "plt.title('gradientDescent test #1, f(x, y) = 10sin(0.01(x + y))')\n",
        "plt.ylabel('y (steps in blue, point found in red)')\n",
        "plt.xlabel('x')\n",
        "plt.show()"
      ],
      "execution_count": 0,
      "outputs": [
        {
          "output_type": "stream",
          "text": [
            "gradientDescent test #1\n",
            "Point found:\n",
            "[ 9.99966596e-01 -3.71154497e-05]\n",
            "Number of steps:\n",
            "4804\n",
            "Error:\n",
            "4.993373065584271e-05\n"
          ],
          "name": "stdout"
        },
        {
          "output_type": "display_data",
          "data": {
            "image/png": "[encoded data removed]",
            "text/plain": [
              "<Figure size 432x288 with 1 Axes>"
            ]
          },
          "metadata": {
            "tags": []
          }
        },
        {
          "output_type": "stream",
          "text": [
            "gradientDescent test #2\n",
            "Point found:\n",
            "[ 1.00000000e+00 -4.99772359e-05]\n",
            "Number of steps:\n",
            "3962\n",
            "Error:\n",
            "4.997723593308206e-05\n"
          ],
          "name": "stdout"
        },
        {
          "output_type": "display_data",
          "data": {
            "image/png": "[encoded data removed]",
            "text/plain": [
              "<Figure size 432x288 with 1 Axes>"
            ]
          },
          "metadata": {
            "tags": []
          }
        },
        {
          "output_type": "stream",
          "text": [
            "gradientDescent test #3\n",
            "Point found:\n",
            "[-78.50447562 -78.50447562]\n",
            "Number of steps:\n",
            "4072\n",
            "Error:\n",
            "0.049979319510441905\n"
          ],
          "name": "stdout"
        },
        {
          "output_type": "display_data",
          "data": {
            "image/png": "[encoded data removed]",
            "text/plain": [
              "<Figure size 432x288 with 1 Axes>"
            ]
          },
          "metadata": {
            "tags": []
          }
        }
      ]
    },
    {
      "cell_type": "markdown",
      "metadata": {
        "id": "m5pH_CjHe2k2",
        "colab_type": "text"
      },
      "source": [
        "These are the accuracy and convergence tests for the newtonMinimization method.\n",
        "\n",
        "The functions tested are:\n",
        "\n",
        "* $f(x, y) = (x - 1)^2 + y^2, \\quad \\nabla f(x, y) = (2(x - 1), 2y), Hf(x, y) = \\left ( \\begin{array}{cc}\n",
        "2 & 0 \\\\\n",
        "0 & 2\n",
        "\\end{array} \\right ), \\quad P = (1, 0)$\n",
        "* $f(x, y) = (x - 1)^4 + y^2, \\quad \\nabla f(x, y) = (4(x - 1)^3, 2y), Hf(x, y) = \\left ( \\begin{array}{cc}\n",
        "12(x - 1)^2 & 0 \\\\\n",
        "0 & 2\n",
        "\\end{array} \\right ), \\quad P = (1, 0)$\n",
        "* $f(x, y) = x^2cos(y), \\quad \\nabla f(x, y) = (2xcos(y), -x^2sin(y)), Hf(x, y) = \\left ( \\begin{array}{cc}\n",
        "2cos(y) & -2xsin(y) \\\\\n",
        "-2xsin(y) & -x^2cos(y)\n",
        "\\end{array} \\right ), \\quad P = \\left ( 0, \\frac{\\pi}{2} \\right )$\n",
        "\n",
        "Where in each case $P$ is the critical point of $f$ which is closest to the approximation found by the algorithm.\n",
        "\n",
        "The accuracy is verified because the error $\\|sol[0] - P\\|$ is very small for all functions tested.\n",
        "\n",
        "The convergence is verified graphically by looking at the steps taken by the algorithm in the $x$ vs. $y$ plot.\n",
        "\n",
        "Further analysis can be found in the Discussion section."
      ]
    },
    {
      "cell_type": "code",
      "metadata": {
        "id": "iUUG1qzSz-ab",
        "colab_type": "code",
        "outputId": "811a93e8-c658-4f7b-ba3e-c41f276e2eaa",
        "colab": {
          "base_uri": "https://localhost:8080/",
          "height": 1000
        }
      },
      "source": [
        "# newtonMinimization tests\n",
        "\n",
        "sol = newtonMinimization(\n",
        "  lambda x: (x[0] - 1)**2 + x[1]**2,\n",
        "  lambda x: np.array([2*(x[0] - 1), 2*x[1]]),\n",
        "  lambda x: np.array(\n",
        "    [[2, 0],\n",
        "    [0, 2]]\n",
        "  ),\n",
        "  np.array([10, 10])\n",
        ")\n",
        "print(\"newtonMinimzation test #1\")\n",
        "print(\"Point found:\")\n",
        "print(sol[0])\n",
        "print(\"Number of steps:\")\n",
        "print(len(sol[1]))\n",
        "print(\"Error:\")\n",
        "print(np.linalg.norm(sol[0] - np.array([1, 0])))\n",
        "plt.plot([sol[1][i][0] for i in range(len(sol[1]))], [sol[1][i][1] for i in range(len(sol[1]))], 'b--')\n",
        "plt.plot(sol[0][0], sol[0][1], 'r^')\n",
        "plt.title('newtonMinimization test #1, f(x, y) = (x - 1)^2 + y^2')\n",
        "plt.ylabel('y (steps in blue, point found in red)')\n",
        "plt.xlabel('x')\n",
        "plt.show()\n",
        "\n",
        "sol = newtonMinimization(\n",
        "  lambda x: (x[0] - 1)**4 + x[1]**2,\n",
        "  lambda x: np.array([4*(x[0] - 1)**3, 2*x[1]]),\n",
        "  lambda x: np.array(\n",
        "    [[12*(x[0] - 1)**2, 0],\n",
        "    [0, 2]]\n",
        "  ),\n",
        "  np.array([1.5, 1.5])\n",
        ")\n",
        "print(\"newtonMinimzation test #2\")\n",
        "print(\"Point found:\")\n",
        "print(sol[0])\n",
        "print(\"Number of steps:\")\n",
        "print(len(sol[1]))\n",
        "print(\"Error:\")\n",
        "print(np.linalg.norm(sol[0] - np.array([1, 0])))\n",
        "plt.plot([sol[1][i][0] for i in range(len(sol[1]))], [sol[1][i][1] for i in range(len(sol[1]))], 'b--')\n",
        "plt.plot(sol[0][0], sol[0][1], 'r^')\n",
        "plt.title('newtonMinimization test #1, f(x, y) = (x - 1)^4 + y^2')\n",
        "plt.ylabel('y (steps in blue, point found in red)')\n",
        "plt.xlabel('x')\n",
        "plt.show()\n",
        "\n",
        "sol = newtonMinimization(\n",
        "  lambda x: x[0]**2*math.cos(x[1]),\n",
        "  lambda x: np.array([2*x[0]*math.cos(x[1]), -x[0]**2*math.sin(x[1])]),\n",
        "  lambda x: np.array(\n",
        "    [[2*math.cos(x[1]), -2*x[0]*math.sin(x[1])],\n",
        "    [-2*x[0]*math.sin(x[1]), -x[0]**2*math.cos(x[1])]]\n",
        "  ),\n",
        "  np.array([1, 1])\n",
        ")\n",
        "print(\"newtonMinimization test #3\")\n",
        "print(\"Point found:\")\n",
        "print(sol[0])\n",
        "print(\"Number of steps:\")\n",
        "print(len(sol[1]))\n",
        "print(\"Error:\")\n",
        "print(np.linalg.norm(sol[0] - np.array([0, math.pi/2])))\n",
        "plt.plot([sol[1][i][0] for i in range(len(sol[1]))], [sol[1][i][1] for i in range(len(sol[1]))], 'b--')\n",
        "plt.plot(sol[0][0], sol[0][1], 'r^')\n",
        "plt.title('newtonMinimization test #1, f(x, y) = x^2cos(y)')\n",
        "plt.ylabel('y (steps in blue, point found in red)')\n",
        "plt.xlabel('x')\n",
        "plt.show()"
      ],
      "execution_count": 0,
      "outputs": [
        {
          "output_type": "stream",
          "text": [
            "newtonMinimzation test #1\n",
            "Point found:\n",
            "[1. 0.]\n",
            "Number of steps:\n",
            "2\n",
            "Error:\n",
            "0.0\n"
          ],
          "name": "stdout"
        },
        {
          "output_type": "display_data",
          "data": {
            "image/png": "[encoded data removed]",
            "text/plain": [
              "<Figure size 432x288 with 1 Axes>"
            ]
          },
          "metadata": {
            "tags": []
          }
        },
        {
          "output_type": "stream",
          "text": [
            "newtonMinimzation test #2\n",
            "Point found:\n",
            "[1.01950922 0.        ]\n",
            "Number of steps:\n",
            "9\n",
            "Error:\n",
            "0.019509221155311618\n"
          ],
          "name": "stdout"
        },
        {
          "output_type": "display_data",
          "data": {
            "image/png": "[encoded data removed]",
            "text/plain": [
              "<Figure size 432x288 with 1 Axes>"
            ]
          },
          "metadata": {
            "tags": []
          }
        },
        {
          "output_type": "stream",
          "text": [
            "newtonMinimization test #3\n",
            "Point found:\n",
            "[0.00607346 1.56593199]\n",
            "Number of steps:\n",
            "8\n",
            "Error:\n",
            "0.007781303072183963\n"
          ],
          "name": "stdout"
        },
        {
          "output_type": "display_data",
          "data": {
            "image/png": "[encoded data removed]",
            "text/plain": [
              "<Figure size 432x288 with 1 Axes>"
            ]
          },
          "metadata": {
            "tags": []
          }
        }
      ]
    },
    {
      "cell_type": "markdown",
      "metadata": {
        "id": "_4GLBv0zWr7m",
        "colab_type": "text"
      },
      "source": [
        "# **Discussion**"
      ]
    },
    {
      "cell_type": "markdown",
      "metadata": {
        "id": "6bcsDSoRXHZe",
        "colab_type": "text"
      },
      "source": [
        "We conclude that with the gradientDescent method one has to be careful to choose $\\beta$ close enough to $1$, as otherwise satisfying the inequality with it will be impossible. We also have to be careful to use it with functions with critical points with distance between them large enough, as otherwise the method may loop. Because of this we chose the function in its third test with a factor of $10$ in its amplitude and a factor of $0.01$ in its frequency.\n",
        "\n",
        "As the gradientDescent method we implemented tries to take large steps, this leads to some erratic behavior. However, it corrects itself in the following steps and eventually converges.\n",
        "\n",
        "The newtonMinimization method we implemented takes only one extra step if the objective function is quadratic, and three (!) orders of magnitude less steps than the gradientDescent method tests in its other tests. However, it is less precise. This may be corrected with by choosing a smaller $\\gamma$.\n",
        "\n",
        "In writing this report I collaborated with Fabián Levicán, and used the lecture notes."
      ]
    }
  ]
}