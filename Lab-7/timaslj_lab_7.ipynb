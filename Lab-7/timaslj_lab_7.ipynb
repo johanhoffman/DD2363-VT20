{
  "nbformat": 4,
  "nbformat_minor": 0,
  "metadata": {
    "colab": {
      "name": "timaslj-lab-7.ipynb",
      "provenance": [],
      "collapsed_sections": [],
      "include_colab_link": true
    },
    "kernelspec": {
      "name": "python3",
      "display_name": "Python 3"
    }
  },
  "cells": [
    {
      "cell_type": "markdown",
      "metadata": {
        "id": "view-in-github",
        "colab_type": "text"
      },
      "source": [
        "<a href=\"https://colab.research.google.com/github/johanhoffman/DD2363-VT20/blob/timaslj_lab7/timaslj_lab_7.ipynb\" target=\"_parent\"><img src=\"https://colab.research.google.com/assets/colab-badge.svg\" alt=\"Open In Colab\"/></a>"
      ]
    },
    {
      "cell_type": "markdown",
      "metadata": {
        "id": "6RgtXlfYO_i7",
        "colab_type": "text"
      },
      "source": [
        "\n",
        "# **Lab 7: Optimization and learning**\n",
        "**Timas Ljungdahl**"
      ]
    },
    {
      "cell_type": "markdown",
      "metadata": {
        "id": "9x_J5FVuPzbm",
        "colab_type": "text"
      },
      "source": [
        "# **Abstract**"
      ]
    },
    {
      "cell_type": "markdown",
      "metadata": {
        "id": "6UFTSzW7P8kL",
        "colab_type": "text"
      },
      "source": [
        "In this report, two methods for finding local minimums of scalar valued functions were implemented and tested for accuracy and error convergence; gradient descent method and Newtons method. "
      ]
    },
    {
      "cell_type": "markdown",
      "metadata": {
        "id": "OkT8J7uOWpT3",
        "colab_type": "text"
      },
      "source": [
        "#**About the code**"
      ]
    },
    {
      "cell_type": "markdown",
      "metadata": {
        "id": "HmB2noTr1Oyo",
        "colab_type": "text"
      },
      "source": [
        "A short statement on who is the author of the file, and if the code is distributed under a certain license. "
      ]
    },
    {
      "cell_type": "code",
      "metadata": {
        "id": "Pdll1Xc9WP0e",
        "colab_type": "code",
        "outputId": "f74fa781-413b-41e7-a2ec-1bba2288ad4f",
        "colab": {
          "base_uri": "https://localhost:8080/",
          "height": 34
        }
      },
      "source": [
        "\"\"\"This program is a template for lab reports in the course\"\"\"\n",
        "\"\"\"DD2363 Methods in Scientific Computing, \"\"\"\n",
        "\"\"\"KTH Royal Institute of Technology, Stockholm, Sweden.\"\"\"\n",
        "\n",
        "# Copyright (C) 2019 Johan Hoffman (jhoffman@kth.se)\n",
        "\n",
        "# This file is part of the course DD2363 Methods in Scientific Computing\n",
        "# KTH Royal Institute of Technology, Stockholm, Sweden\n",
        "#\n",
        "# This is free software: you can redistribute it and/or modify\n",
        "# it under the terms of the GNU Lesser General Public License as published by\n",
        "# the Free Software Foundation, either version 3 of the License, or\n",
        "# (at your option) any later version.\n",
        "\n",
        "# This template is maintained by Johan Hoffman\n",
        "# Please report problems to jhoffman@kth.se"
      ],
      "execution_count": 0,
      "outputs": [
        {
          "output_type": "execute_result",
          "data": {
            "text/plain": [
              "'KTH Royal Institute of Technology, Stockholm, Sweden.'"
            ]
          },
          "metadata": {
            "tags": []
          },
          "execution_count": 1
        }
      ]
    },
    {
      "cell_type": "markdown",
      "metadata": {
        "id": "28xLGz8JX3Hh",
        "colab_type": "text"
      },
      "source": [
        "# **Set up environment**"
      ]
    },
    {
      "cell_type": "markdown",
      "metadata": {
        "id": "D2PYNusD08Wa",
        "colab_type": "text"
      },
      "source": [
        "To have access to the neccessary modules you have to run this cell. If you need additional modules, this is where you add them. "
      ]
    },
    {
      "cell_type": "code",
      "metadata": {
        "id": "Xw7VlErAX7NS",
        "colab_type": "code",
        "colab": {}
      },
      "source": [
        "# Load neccessary modules.\n",
        "from google.colab import files\n",
        "\n",
        "import time\n",
        "import numpy as np\n",
        "import unittest\n",
        "import random\n",
        "import math\n",
        "\n",
        "from sympy import * \n",
        "\n",
        "from matplotlib import pyplot as plt\n",
        "from matplotlib import tri\n",
        "from matplotlib import axes\n",
        "from mpl_toolkits.mplot3d import Axes3D"
      ],
      "execution_count": 0,
      "outputs": []
    },
    {
      "cell_type": "markdown",
      "metadata": {
        "id": "gnO3lhAigLev",
        "colab_type": "text"
      },
      "source": [
        "# **Introduction**"
      ]
    },
    {
      "cell_type": "markdown",
      "metadata": {
        "id": "l5zMzgPlRAF6",
        "colab_type": "text"
      },
      "source": [
        "The goal of optimization is to minimize a problem by finding $x^* \\in R^n$ such that $f(x^*) \\leq f(x), \\forall x \\in D$ where $D$ is the search space. In this lab we assume that $D = R^n$, meaning that the minimization problems are unconstrained. \n",
        "\n",
        "##### **Gradient descent method**\n",
        "\n",
        "The gradient descent method seeks to iteratively move closer to $x^*$ by steping in the gradient descent direction for a particular choice of step length and repeating the procedure for the newly aquired $x$. \n",
        "\n",
        "$$\n",
        "    x^{(k+1)} = x^{(k)} - \\alpha^{(k)} \\nabla f(x^{(k)})\n",
        "$$\n",
        "\n",
        "We continue updating $x^k$ until $||\\nabla f(x^k)|| \\leq TOL||$ for some small tolerance value. \n",
        "\n",
        "##### **Newton's method for optimization**\n",
        "\n",
        "Newton's method is a method for itereratively finding roots of a function. In optimization it is used for finding the roots of $f\\prime(x)$, meaning that it finds the solutions to $f\\prime(x) = 0$, which gives us the stationary points of $f(x)$. \n",
        "\n",
        "For Newton's method we solve the following equation for $\\Delta x^{(k)}$: \n",
        "\n",
        "$$\n",
        "    Hf(x^{(k)}) \\Delta x^{(k)} = - \\nabla f(x^{(k)})\n",
        "$$\n",
        "and update $x$ as following in each iteration:\n",
        "$$\n",
        "    x^{(k+1)} = x^{(k)} + \\Delta x^{(k)}\n",
        "$$\n",
        "\n",
        "$Hf(x^{(k)})$ is the Hessian matrix evaluated in the point $x^{(k)}$. The Hessian matrix is a square matrix of second-order partial derivatives which describe the local curvature of the function, which can be defined by the following equation using indices i and j: \n",
        "\n",
        "$$\n",
        "    H _{i,j}={\\frac {\\partial ^{2}f}{\\partial x_{i}\\partial x_{j}}}.\n",
        "$$\n",
        "\n",
        "#### **Calculating finite difference for Hessian and gradient**\n",
        "To calculate the gradient of a function in a point $x$ I used central difference in order to approximate the partial derivatives, which is given by:\n",
        "\n",
        "$$\n",
        "    \\delta_h[f](x) = f(x + 1/2h) - f(x - 1/2h)\n",
        "$$\n",
        "\n",
        "To calculate the Hessian of a function in a point $x$ I used central difference in order to approximate the second order partial derivatives in several variables which is given by: \n",
        "\n",
        "$$\n",
        "    f_{xx}(x,y) \\approx \\frac{f(x + h, y) - 2f(x,y) + f(x-h,y)}{h^2} \\\\\n",
        "    f_{xy}(x,y) \\approx \\frac{f(x + h, y+k) - f(x+h,y-k) - f(x-h,y+k) + f(x-h,y-k}{4hk}\n",
        "$$\n",
        "\n"
      ]
    },
    {
      "cell_type": "markdown",
      "metadata": {
        "id": "WeFO9QMeUOAu",
        "colab_type": "text"
      },
      "source": [
        "# **Methods**\n",
        "\n",
        "The algorithms were implemented following the lecture notes. The error convergence was plotted for both methods. For both methods $TOL$ was set to $0.0001$. Although the methods are generalized for $R^n$, I tested the methods for a function of two variables where the global minimum was known. The function in this case was $f(x,y) = x^2 + y^4 - 5y^3$ with global minimum $x^* = [0, 15/4]$.  "
      ]
    },
    {
      "cell_type": "markdown",
      "metadata": {
        "id": "SsQLT38gVbn_",
        "colab_type": "text"
      },
      "source": [
        "# **Results**"
      ]
    },
    {
      "cell_type": "markdown",
      "metadata": {
        "id": "o5kY066wBBIi",
        "colab_type": "text"
      },
      "source": [
        "### **Gradient and Hessian in $R^n$**"
      ]
    },
    {
      "cell_type": "code",
      "metadata": {
        "id": "YjZ2SaSSCkuI",
        "colab_type": "code",
        "colab": {}
      },
      "source": [
        "def gradient(f, x):\n",
        "    h = 1e-4\n",
        "    gradient = np.zeros(x.size)\n",
        "    for i in range(gradient.size):\n",
        "        x_temp1, x_temp2 = np.array(x, dtype=\"float\"), np.array(x, dtype=\"float\")\n",
        "        x_temp1[i] = x[i]+h\n",
        "        x_temp2[i] = x[i]-h\n",
        "        gradient[i] = (f(x_temp1)-f(x_temp2)) / (2*h)\n",
        "    return gradient\n",
        "\n",
        "def hessian(f, x):\n",
        "    h = 1e-4\n",
        "    hessian = np.zeros((x.size, x.size)) \n",
        "    \n",
        "    for i in range(hessian.shape[0]):\n",
        "        for j in range(hessian.shape[1]):\n",
        "            x_temp1, x_temp2, x_temp3, x_temp4 = (\n",
        "                                            np.array(x, dtype=\"float\"), \n",
        "                                            np.array(x, dtype=\"float\"), \n",
        "                                            np.array(x, dtype=\"float\"), \n",
        "                                            np.array(x, dtype=\"float\") \n",
        "                                          )\n",
        "            \n",
        "            if not i == j:\n",
        "                x_temp1[i] = x[i]+h\n",
        "                x_temp1[j] = x[j]+h\n",
        "\n",
        "                x_temp2[i] = x[i]+h\n",
        "                x_temp2[j] = x[j]-h\n",
        "\n",
        "                x_temp3[i] = x[i]-h\n",
        "                x_temp3[j] = x[j]+h\n",
        "\n",
        "                x_temp4[i] = x[i]-h\n",
        "                x_temp4[j] = x[j]-h\n",
        "\n",
        "                hessian[i,j] = (f(x_temp1) - f(x_temp2) - f(x_temp3) + f(x_temp4))/(4*h**2)\n",
        "            else:\n",
        "                x_temp1[i] = x[i]+h\n",
        "                x_temp2[i] = x[i]-h\n",
        "                hessian[i,j] = (f(x_temp1) - 2*f(x) + f(x_temp2)) / h**2\n",
        "\n",
        "    return hessian"
      ],
      "execution_count": 0,
      "outputs": []
    },
    {
      "cell_type": "markdown",
      "metadata": {
        "id": "xQI4t5QWAz-2",
        "colab_type": "text"
      },
      "source": [
        "### **Gradient descent method in $R^n$**"
      ]
    },
    {
      "cell_type": "code",
      "metadata": {
        "id": "QfoDIi0C72yA",
        "colab_type": "code",
        "outputId": "0342eebc-04d6-48c7-e257-7837da6c12bd",
        "colab": {
          "base_uri": "https://localhost:8080/",
          "height": 298
        }
      },
      "source": [
        "def gradient_descent_method(f, x_start, TOL=1e-4):\n",
        "    xs = [x_start.copy()]\n",
        "    x_k = x_start\n",
        "    alpha_k = 1e-2  # Step size multiplier\n",
        "    while np.linalg.norm(gradient(f, x_k)) > TOL:\n",
        "        x_k -= alpha_k * gradient(f, x_k)\n",
        "        xs += [x_k.copy()]\n",
        "    return xs\n",
        "\n",
        "f = lambda x: x[0]**2 + x[1]**4 - 5*x[1]**3\n",
        "x_start = np.array([-7,7], dtype=\"float\")\n",
        "exact = np.array([0, 15/4], dtype=\"float\")\n",
        "xs = gradient_descent_method(f, x_start)\n",
        "print(xs[-1])\n",
        "errors = [np.linalg.norm(exact - x) for x in xs]\n",
        "\n",
        "plt.plot(np.arange(0, len(xs), 1), errors)\n",
        "plt.ylabel(\"Error\")\n",
        "plt.xlabel(\"Iteration\")\n",
        "plt.show()"
      ],
      "execution_count": 0,
      "outputs": [
        {
          "output_type": "stream",
          "text": [
            "[-4.95227187e-05  3.75000000e+00]\n"
          ],
          "name": "stdout"
        },
        {
          "output_type": "display_data",
          "data": {
            "image/png": "[encoded data removed]",
            "text/plain": [
              "<Figure size 432x288 with 1 Axes>"
            ]
          },
          "metadata": {
            "tags": []
          }
        }
      ]
    },
    {
      "cell_type": "markdown",
      "metadata": {
        "id": "ReqA7N1zE-SC",
        "colab_type": "text"
      },
      "source": [
        "### **Newton's method in $R^n$**\n"
      ]
    },
    {
      "cell_type": "code",
      "metadata": {
        "colab_type": "code",
        "id": "rOoUtmOWl90v",
        "outputId": "f74f0576-edf5-4513-e1c9-dcb16c851d6a",
        "colab": {
          "base_uri": "https://localhost:8080/",
          "height": 296
        }
      },
      "source": [
        "def newtons_method(f, x_start, TOL=1e-4):\n",
        "    xs = [x_start.copy()]\n",
        "    x_k = x_start\n",
        "    while np.linalg.norm(gradient(f, x_k)) > TOL:\n",
        "        A = hessian(f, x_k)\n",
        "        b = -gradient(f,x_k)\n",
        "        x = np.linalg.solve(A, b)\n",
        "        \n",
        "        x_k += x\n",
        "        xs += [x_k.copy()]\n",
        "    return xs\n",
        "\n",
        "f = lambda x: x[0]**2 + x[1]**4 - 5*x[1]**3\n",
        "x_start = np.array([-100,100], dtype=\"float\")\n",
        "exact = np.array([0, 15/4], dtype=\"float\")\n",
        "xs = newtons_method(f, x_start)\n",
        "errors = [np.linalg.norm(exact - x) for x in xs]\n",
        "print(xs[-1])\n",
        "\n",
        "plt.plot(np.arange(0, len(xs), 1), errors)\n",
        "plt.ylabel(\"Error\")\n",
        "plt.xlabel(\"Iteration\")\n",
        "plt.show()"
      ],
      "execution_count": 0,
      "outputs": [
        {
          "output_type": "stream",
          "text": [
            "[-5.94463239e-12  3.75000000e+00]\n"
          ],
          "name": "stdout"
        },
        {
          "output_type": "display_data",
          "data": {
            "image/png": "[encoded data removed]",
            "text/plain": [
              "<Figure size 432x288 with 1 Axes>"
            ]
          },
          "metadata": {
            "tags": []
          }
        }
      ]
    },
    {
      "cell_type": "markdown",
      "metadata": {
        "id": "_4GLBv0zWr7m",
        "colab_type": "text"
      },
      "source": [
        "# **Discussion**"
      ]
    },
    {
      "cell_type": "markdown",
      "metadata": {
        "id": "6bcsDSoRXHZe",
        "colab_type": "text"
      },
      "source": [
        "For both methods we can see that the error follows a second order convergence and that both methods find the local minimum $x^* = [0, 15/4]$. We can also see that Newton's method converges much quicker as it takes larger steps per iteration. In the gradient case this step size is a constant\n",
        "\n",
        "$$\n",
        "    \\alpha = 0.01\n",
        "$$\n",
        "\n",
        "which is very small. To optimize the gradient descent method one could implement a line search method, such as backtracking line search, in order to approximate an optimal step length for each iteration. However, this is left for further studies."
      ]
    }
  ]
}