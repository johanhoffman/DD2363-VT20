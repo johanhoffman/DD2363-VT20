{
  "nbformat": 4,
  "nbformat_minor": 0,
  "metadata": {
    "colab": {
      "name": "iZafiro_lab7",
      "provenance": []
    },
    "kernelspec": {
      "name": "python3",
      "display_name": "Python 3"
    }
  },
  "cells": [
    {
      "cell_type": "markdown",
      "metadata": {
        "id": "6RgtXlfYO_i7",
        "colab_type": "text"
      },
      "source": [
        "# **Lab 7: Optimization and learning**\n",
        "**Fabián Levicán**"
      ]
    },
    {
      "cell_type": "markdown",
      "metadata": {
        "id": "9x_J5FVuPzbm",
        "colab_type": "text"
      },
      "source": [
        "# **Abstract**"
      ]
    },
    {
      "cell_type": "markdown",
      "metadata": {
        "id": "6UFTSzW7P8kL",
        "colab_type": "text"
      },
      "source": [
        "This is the sixth lab in the course DD2363 Methods in Scientific Computing. It is about using Jupyter to implement two minimization methods: gradient descent and Newton minimization. Some objectives may be to become familiar with numerical optimization, the differences between the various existing methods, and to understand more applications of Taylor's formula. The results of this method are then tested for accuracy and convergence, and they are favorable."
      ]
    },
    {
      "cell_type": "markdown",
      "metadata": {
        "id": "OkT8J7uOWpT3",
        "colab_type": "text"
      },
      "source": [
        "#**About the code**"
      ]
    },
    {
      "cell_type": "code",
      "metadata": {
        "id": "Pdll1Xc9WP0e",
        "colab_type": "code",
        "outputId": "864c4591-bbd4-4fb1-fce2-14f61afb290b",
        "colab": {
          "base_uri": "https://localhost:8080/",
          "height": 34
        }
      },
      "source": [
        "\"\"\"This program is a template for lab reports in the course\"\"\"\n",
        "\"\"\"DD2363 Methods in Scientific Computing, \"\"\"\n",
        "\"\"\"KTH Royal Institute of Technology, Stockholm, Sweden.\"\"\"\n",
        "\n",
        "# Copyright (C) 2020 Fabián Levicán (fils2@kth.se)\n",
        "\n",
        "# This file is part of the course DD2363 Methods in Scientific Computing\n",
        "# KTH Royal Institute of Technology, Stockholm, Sweden\n",
        "#\n",
        "# This is free software: you can redistribute it and/or modify\n",
        "# it under the terms of the GNU Lesser General Public License as published by\n",
        "# the Free Software Foundation, either version 3 of the License, or\n",
        "# (at your option) any later version."
      ],
      "execution_count": 1,
      "outputs": [
        {
          "output_type": "execute_result",
          "data": {
            "text/plain": [
              "'KTH Royal Institute of Technology, Stockholm, Sweden.'"
            ]
          },
          "metadata": {
            "tags": []
          },
          "execution_count": 1
        }
      ]
    },
    {
      "cell_type": "markdown",
      "metadata": {
        "id": "28xLGz8JX3Hh",
        "colab_type": "text"
      },
      "source": [
        "# **Set up environment**"
      ]
    },
    {
      "cell_type": "code",
      "metadata": {
        "id": "Xw7VlErAX7NS",
        "colab_type": "code",
        "colab": {}
      },
      "source": [
        "# Load neccessary modules.\n",
        "from google.colab import files\n",
        "\n",
        "import math\n",
        "import matplotlib.pyplot as plt\n",
        "import time\n",
        "import numpy as np"
      ],
      "execution_count": 0,
      "outputs": []
    },
    {
      "cell_type": "markdown",
      "metadata": {
        "id": "gnO3lhAigLev",
        "colab_type": "text"
      },
      "source": [
        "# **Introduction**"
      ]
    },
    {
      "cell_type": "markdown",
      "metadata": {
        "id": "l5zMzgPlRAF6",
        "colab_type": "text"
      },
      "source": [
        "In scientific computing we often encounter functions for which we seek their local or global optima. The two algorithms we present here are for unconstrained (open and unbounded domain) minimization of functions from $\\mathbb{R}^n$ into $\\mathbb{R}$. In both algorithms we start from an initial guess and improve it iteratively.\n",
        "\n",
        "From Taylor's formula we can obtain that the direction of greatest descent at a point is that of the negative of the gradient of the function at the point. A method that moves in this direction is a gradient descent method.\n",
        "\n",
        "In our version of the gradient descent method we choose the step factor $\\alpha$ by doing a linear search $\\alpha = 0.0001, \\alpha = 0.0002, \\ldots, \\alpha = 1$ and minimizing the function at $x - \\alpha\\nabla f(x)$. If no alpha such that $f(x - \\alpha\\nabla f(x)) < f(x)$ is found in the linear search at any step, the algorithm halts. If $\\|\\nabla f(x)\\| \\leq TOL$ at any step, the algorithm also halts.\n",
        "\n",
        "From further expansion of Taylor's formula we also obtain that, if $Hf(x)$ is non-singular, we can also use the increment $-Hf(x)^{-1}\\nabla f(x)$. A method that does this is a Newton minimization method.\n",
        "\n",
        "The aforementioned results and further information can be found in the notes from the relevant lectures."
      ]
    },
    {
      "cell_type": "markdown",
      "metadata": {
        "id": "WeFO9QMeUOAu",
        "colab_type": "text"
      },
      "source": [
        "# **Methods**"
      ]
    },
    {
      "cell_type": "markdown",
      "metadata": {
        "id": "zF4iBj5VURZx",
        "colab_type": "text"
      },
      "source": [
        "The `gradDesc` method takes as input:\n",
        "* `func`, a function from $\\mathbb{R}^n$ into $\\mathbb{R}$.\n",
        "* `grad`, the gradient of the function.\n",
        "* `x0`, an initial guess.\n",
        "The method outputs a tuple `(x, x[i])` where `x` is a list such that `x[j]` is the approximation at step `j` and `x[i]` is the approximation at the last step.\n",
        "\n",
        "Further information about this method can be found in the Introduction section."
      ]
    },
    {
      "cell_type": "code",
      "metadata": {
        "id": "vm3uGA1pE-5K",
        "colab_type": "code",
        "colab": {}
      },
      "source": [
        "def gradDesc(func, grad, x0):\n",
        "  x = [x0]\n",
        "  i = 0\n",
        "  gradx = grad(x[i])\n",
        "  while np.linalg.norm(gradx) > 0.0001:\n",
        "    alpha = 0\n",
        "    minfunc = func(x[i])\n",
        "    for j in range(10000):\n",
        "      funceval = func(x[i]-(j+1)*0.0001*gradx)\n",
        "      if funceval < minfunc:\n",
        "        alpha = (j+1)*0.0001\n",
        "        minfunc = funceval\n",
        "    if alpha == 0:\n",
        "      break\n",
        "    x.append(x[i] - alpha*gradx)\n",
        "    i += 1\n",
        "    gradx = grad(x[i])\n",
        "  return (x, x[i])"
      ],
      "execution_count": 0,
      "outputs": []
    },
    {
      "cell_type": "markdown",
      "metadata": {
        "id": "SUlWTzkminKJ",
        "colab_type": "text"
      },
      "source": [
        "The `newtonMin` method has a signature identical to the previous method's, although it also takes a third parameter as input:\n",
        "* `hessian`, the Hessian matrix of the function. "
      ]
    },
    {
      "cell_type": "code",
      "metadata": {
        "id": "bivGosWeiTrN",
        "colab_type": "code",
        "colab": {}
      },
      "source": [
        "def newtonMin(func, grad, hessian, x0):\n",
        "  x = [x0]\n",
        "  i = 0\n",
        "  gradx = grad(x[i])\n",
        "  hessianx = hessian(x[i])\n",
        "  while np.linalg.norm(gradx) > 0.0001:\n",
        "    if np.linalg.det(hessianx) == 0:\n",
        "      print(\"Error: The Hessian matrix at one step is not invertible!\")\n",
        "      break\n",
        "    x.append(x[i] - np.linalg.solve(hessianx, gradx))\n",
        "    i += 1\n",
        "    gradx = grad(x[i])\n",
        "    hessianx = hessian(x[i])\n",
        "  return(x, x[i])"
      ],
      "execution_count": 0,
      "outputs": []
    },
    {
      "cell_type": "markdown",
      "metadata": {
        "id": "SsQLT38gVbn_",
        "colab_type": "text"
      },
      "source": [
        "# **Results**"
      ]
    },
    {
      "cell_type": "markdown",
      "metadata": {
        "id": "9JEt-4MujDEO",
        "colab_type": "text"
      },
      "source": [
        "We choose the following functions for the tests:\n",
        "\n",
        "1. $f_1(x, y) = x^2+(y-5)^2$\n",
        "2. $f_2(x, y) = x^4+(y-5)^4$\n",
        "3. $f_3(x, y) = 100cos(x+y)$\n",
        "4. $f_4(x, y) = y^4sin(x)$\n",
        "\n",
        "The gradients are:\n",
        "\n",
        "1. $\\nabla f_1(x, y) = (2x, 2(y-5))$\n",
        "2. $\\nabla f_2(x, y) = (4x^3, 4(y-5)^3)$\n",
        "3. $\\nabla f_3(x, y) = (-100sin(x+y), -100sin(x+y))$\n",
        "4. $\\nabla f_4(x, y) = (y^4cos(x), 4y^3sin(x))$\n",
        "\n",
        "The Hessian matrices are:\n",
        "\n",
        "1. $Hf_1(x, y) = \\left ( \\begin{array}{cc}\n",
        "2 & 0 \\\\\n",
        "0 & 2\n",
        "\\end{array} \\right )$\n",
        "2. $Hf_2(x, y) = \\left ( \\begin{array}{cc}\n",
        "12x^2 & 0 \\\\\n",
        "0 & 12(y-5)^2\n",
        "\\end{array} \\right )$\n",
        "3. $Hf_3(x, y) = \\left ( \\begin{array}{cc}\n",
        "-100cos(x+y) & -100cos(x+y) \\\\\n",
        "-100cos(x+y) & -100cos(x+y)\n",
        "\\end{array} \\right )$\n",
        "4. $Hf_4(x, y) = \\left ( \\begin{array}{cc}\n",
        "-y^4sin(x) & 4y^3cos(x) \\\\\n",
        "4y^3cos(x) & 12y^2sin(x)\n",
        "\\end{array} \\right )$\n",
        "\n",
        "The initial guesses are all $(15, 15)$.\n",
        "\n",
        "The critical points closest to the approximations found are:\n",
        "1. $P_1 = (0, 5)$\n",
        "2. $P_2 = (0, 5)$\n",
        "3. $P_3 = (-4.5\\pi, -4.5\\pi)$\n",
        "4. $P_4 = (5\\pi, 0)$\n",
        "\n",
        "We verify the accuracy of the methods as the error is very small.\n",
        "\n",
        "We verify the convergence of the methods graphically with a $x$ vs. $y$ graph of the steps taken by them.\n",
        "\n",
        "This first code cell outputs the tests for the `gradDesc` method which use the first three functions."
      ]
    },
    {
      "cell_type": "code",
      "metadata": {
        "id": "o2R73xoKiX0F",
        "colab_type": "code",
        "colab": {
          "base_uri": "https://localhost:8080/",
          "height": 1000
        },
        "outputId": "bbcc3e62-c9e6-43fd-d2df-f7fbd5fd7a4d"
      },
      "source": [
        "# GRADDESC TESTS\n",
        "\n",
        "# FUNCTION #1\n",
        "\n",
        "res = gradDesc(\n",
        "  lambda x: (x[0])**2+(x[1]-5)**2,\n",
        "  lambda x: np.array([2*x[0], 2*(x[1]-5)]),\n",
        "  np.array([15, 15])\n",
        ")\n",
        "res0 = res[0]\n",
        "res1 = res[1]\n",
        "print(\"f(x, y) = (x)^2+(y-5)^2\")\n",
        "print(\"Exact critical point:\")\n",
        "print(np.array([0, 5]))\n",
        "print(\"Approx critical point:\")\n",
        "print(res1)\n",
        "print(\"Error:\")\n",
        "print(np.linalg.norm(np.array([0, 5])-res1))\n",
        "print(\"Steps:\")\n",
        "print(len(res0) - 1)\n",
        "xAxis = [res0[i][0] for i in range(len(res0))]\n",
        "yAxis = [res0[i][1] for i in range(len(res0))]\n",
        "plt.plot(xAxis, yAxis, 'k--')\n",
        "plt.plot(res1[0], res1[1], 'ys')\n",
        "plt.xlabel('x')\n",
        "plt.ylabel('y')\n",
        "plt.title('approx critical point in yellow, steps in black')\n",
        "plt.show()\n",
        "\n",
        "# FUNCTION #2\n",
        "\n",
        "res = gradDesc(\n",
        "  lambda x: (x[0])**4+(x[1]-5)**4,\n",
        "  lambda x: np.array([4*x[0]**3, 4*(x[1]-5)**3]),\n",
        "  np.array([15, 15])\n",
        ")\n",
        "res0 = res[0]\n",
        "res1 = res[1]\n",
        "print(\"f(x, y) = (x)^4+(y-5)^4\")\n",
        "print(\"Exact critical point:\")\n",
        "print(np.array([0, 5]))\n",
        "print(\"Approx critical point:\")\n",
        "print(res1)\n",
        "print(\"Error:\")\n",
        "print(np.linalg.norm(np.array([0, 5])-res1))\n",
        "print(\"Steps:\")\n",
        "print(len(res0) - 1)\n",
        "xAxis = [res0[i][0] for i in range(len(res0))]\n",
        "yAxis = [res0[i][1] for i in range(len(res0))]\n",
        "plt.plot(xAxis, yAxis, 'k--')\n",
        "plt.plot(res1[0], res1[1], 'ys')\n",
        "plt.xlabel('x')\n",
        "plt.ylabel('y')\n",
        "plt.title('approx critical point in yellow, steps in black')\n",
        "plt.show()\n",
        "\n",
        "# FUNCTION #3\n",
        "\n",
        "res = gradDesc(\n",
        "  lambda x: 100*math.cos(x[0]+x[1]),\n",
        "  lambda x: np.array([-100*math.sin(x[0]+x[1]), -100*math.sin(x[0]+x[1])]),\n",
        "  np.array([15, 15])\n",
        ")\n",
        "res0 = res[0]\n",
        "res1 = res[1]\n",
        "print(\"f(x, y) = 100cos(x+y)\")\n",
        "print(\"Exact critical point:\")\n",
        "print(np.array([-4.5*math.pi, -4.5*math.pi]))\n",
        "print(\"Approx critical point:\")\n",
        "print(res1)\n",
        "print(\"Error:\")\n",
        "print(np.linalg.norm(np.array([-4.5*math.pi, -4.5*math.pi])-res1))\n",
        "print(\"Steps:\")\n",
        "print(len(res0) - 1)\n",
        "xAxis = [res0[i][0] for i in range(len(res0))]\n",
        "yAxis = [res0[i][1] for i in range(len(res0))]\n",
        "plt.plot(xAxis, yAxis, 'k--')\n",
        "plt.plot(res1[0], res1[1], 'ys')\n",
        "plt.xlabel('x')\n",
        "plt.ylabel('y')\n",
        "plt.title('approx critical point in yellow, steps in black')\n",
        "plt.show()"
      ],
      "execution_count": 5,
      "outputs": [
        {
          "output_type": "stream",
          "text": [
            "f(x, y) = (x)^2+(y-5)^2\n",
            "Exact critical point:\n",
            "[0 5]\n",
            "Approx critical point:\n",
            "[0. 5.]\n",
            "Error:\n",
            "0.0\n",
            "Steps:\n",
            "1\n"
          ],
          "name": "stdout"
        },
        {
          "output_type": "display_data",
          "data": {
            "image/png": "[encoded data removed]",
            "text/plain": [
              "<Figure size 432x288 with 1 Axes>"
            ]
          },
          "metadata": {
            "tags": []
          }
        },
        {
          "output_type": "stream",
          "text": [
            "f(x, y) = (x)^4+(y-5)^4\n",
            "Exact critical point:\n",
            "[0 5]\n",
            "Approx critical point:\n",
            "[0.02620178 5.02578122]\n",
            "Error:\n",
            "0.03675873563084392\n",
            "Steps:\n",
            "180\n"
          ],
          "name": "stdout"
        },
        {
          "output_type": "display_data",
          "data": {
            "image/png": "[encoded data removed]",
            "text/plain": [
              "<Figure size 432x288 with 1 Axes>"
            ]
          },
          "metadata": {
            "tags": []
          }
        },
        {
          "output_type": "stream",
          "text": [
            "f(x, y) = 100cos(x+y)\n",
            "Exact critical point:\n",
            "[-14.13716694 -14.13716694]\n",
            "Approx critical point:\n",
            "[-14.13716694 -14.13716694]\n",
            "Error:\n",
            "1.4093149909145566e-12\n",
            "Steps:\n",
            "2\n"
          ],
          "name": "stdout"
        },
        {
          "output_type": "display_data",
          "data": {
            "image/png": "[encoded data removed]",
            "text/plain": [
              "<Figure size 432x288 with 1 Axes>"
            ]
          },
          "metadata": {
            "tags": []
          }
        }
      ]
    },
    {
      "cell_type": "markdown",
      "metadata": {
        "id": "r-3ZH3fPnNm_",
        "colab_type": "text"
      },
      "source": [
        "This first code cell outputs the tests for the `newtonMin` method which use all four functions. Note that the method doesn't converge for the third function because the Hessian matrix is singular at one step."
      ]
    },
    {
      "cell_type": "code",
      "metadata": {
        "id": "qRaJJPG0iYEF",
        "colab_type": "code",
        "colab": {
          "base_uri": "https://localhost:8080/",
          "height": 1000
        },
        "outputId": "ca679547-5892-43ed-bbc3-30d77fa05e3b"
      },
      "source": [
        "# NEWTONMIN TESTS\n",
        "\n",
        "# FUNCTION #1\n",
        "\n",
        "res = newtonMin(\n",
        "  lambda x: (x[0])**2+(x[1]-5)**2,\n",
        "  lambda x: np.array([2*x[0], 2*(x[1]-5)]),\n",
        "  lambda x: np.array([\n",
        "                      [2, 0],\n",
        "                      [0, 2],\n",
        "  ]),\n",
        "  np.array([15, 15])\n",
        ")\n",
        "res0 = res[0]\n",
        "res1 = res[1]\n",
        "print(\"f(x, y) = (x)^2+(y-5)^2\")\n",
        "print(\"Exact critical point:\")\n",
        "print(np.array([0, 5]))\n",
        "print(\"Approx critical point:\")\n",
        "print(res1)\n",
        "print(\"Error:\")\n",
        "print(np.linalg.norm(np.array([0, 5])-res1))\n",
        "print(\"Steps:\")\n",
        "print(len(res0) - 1)\n",
        "xAxis = [res0[i][0] for i in range(len(res0))]\n",
        "yAxis = [res0[i][1] for i in range(len(res0))]\n",
        "plt.plot(xAxis, yAxis, 'k--')\n",
        "plt.plot(res1[0], res1[1], 'ys')\n",
        "plt.xlabel('x')\n",
        "plt.ylabel('y')\n",
        "plt.title('approx critical point in yellow, steps in black')\n",
        "plt.show()\n",
        "\n",
        "# FUNCTION #2\n",
        "\n",
        "res = newtonMin(\n",
        "  lambda x: (x[0])**4+(x[1]-5)**4,\n",
        "  lambda x: np.array([4*x[0]**3, 4*(x[1]-5)**3]),\n",
        "  lambda x: np.array([\n",
        "                      [12*x[0]**2, 0],\n",
        "                      [0, 12*(x[1]-5)**2],\n",
        "  ]),\n",
        "  np.array([15, 15])\n",
        ")\n",
        "res0 = res[0]\n",
        "res1 = res[1]\n",
        "print(\"f(x, y) = (x)^4+(y-5)^4\")\n",
        "print(\"Exact critical point:\")\n",
        "print(np.array([0, 5]))\n",
        "print(\"Approx critical point:\")\n",
        "print(res1)\n",
        "print(\"Error:\")\n",
        "print(np.linalg.norm(np.array([0, 5])-res1))\n",
        "print(\"Steps:\")\n",
        "print(len(res0) - 1)\n",
        "xAxis = [res0[i][0] for i in range(len(res0))]\n",
        "yAxis = [res0[i][1] for i in range(len(res0))]\n",
        "plt.plot(xAxis, yAxis, 'k--')\n",
        "plt.plot(res1[0], res1[1], 'ys')\n",
        "plt.xlabel('x')\n",
        "plt.ylabel('y')\n",
        "plt.title('approx critical point in yellow, steps in black')\n",
        "plt.show()\n",
        "\n",
        "# FUNCTION #3\n",
        "\n",
        "res = newtonMin(\n",
        "  lambda x: 100*math.cos(x[0]+x[1]),\n",
        "  lambda x: np.array([-100*math.sin(x[0]+x[1]), -100*math.sin(x[0]+x[1])]),\n",
        "  lambda x: np.array([\n",
        "                      [-100*math.cos(x[0]+x[1]), -100*math.cos(x[0]+x[1])],\n",
        "                      [-100*math.cos(x[0]+x[1]), -100*math.cos(x[0]+x[1])],\n",
        "  ]),\n",
        "  np.array([15, 15])\n",
        ")\n",
        "res0 = res[0]\n",
        "res1 = res[1]\n",
        "print(\"f(x, y) = 100cos(x+y)\")\n",
        "print(\"Exact critical point:\")\n",
        "print(np.array([-4.5*math.pi, -4.5*math.pi]))\n",
        "print(\"Approx critical point:\")\n",
        "print(res1)\n",
        "print(\"Error:\")\n",
        "print(np.linalg.norm(np.array([-4.5*math.pi, -4.5*math.pi])-res1))\n",
        "print(\"Steps:\")\n",
        "print(len(res0) - 1)\n",
        "xAxis = [res0[i][0] for i in range(len(res0))]\n",
        "yAxis = [res0[i][1] for i in range(len(res0))]\n",
        "plt.plot(xAxis, yAxis, 'k--')\n",
        "plt.plot(res1[0], res1[1], 'ys')\n",
        "plt.xlabel('x')\n",
        "plt.ylabel('y')\n",
        "plt.title('approx critical point in yellow, steps in black')\n",
        "plt.show()\n",
        "\n",
        "# FUNCTION #4\n",
        "\n",
        "res = newtonMin(\n",
        "  lambda x: x[1]**4*math.sin(x[0]),\n",
        "  lambda x: np.array([x[1]**4*math.cos(x[0]), 4*x[1]**3*math.sin(x[0])]),\n",
        "  lambda x: np.array([\n",
        "                      [-x[1]**4*math.sin(x[0]), 4*x[1]**3*math.cos(x[0])],\n",
        "                      [4*x[1]**3*math.cos(x[0]), 12*x[1]**2*math.sin(x[0])],\n",
        "  ]),\n",
        "  np.array([15, 15])\n",
        ")\n",
        "res0 = res[0]\n",
        "res1 = res[1]\n",
        "print(\"f(x, y) = y^2sin(x)\")\n",
        "print(\"Exact critical point:\")\n",
        "print(np.array([5*math.pi, 0]))\n",
        "print(\"Approx critical point:\")\n",
        "print(res1)\n",
        "print(\"Error:\")\n",
        "print(np.linalg.norm(np.array([5*math.pi, 0])-res1))\n",
        "print(\"Steps:\")\n",
        "print(len(res0) - 1)\n",
        "xAxis = [res0[i][0] for i in range(len(res0))]\n",
        "yAxis = [res0[i][1] for i in range(len(res0))]\n",
        "plt.plot(xAxis, yAxis, 'k--')\n",
        "plt.plot(res1[0], res1[1], 'ys')\n",
        "plt.xlabel('x')\n",
        "plt.ylabel('y')\n",
        "plt.title('approx critical point in yellow, steps in black')\n",
        "plt.show()"
      ],
      "execution_count": 6,
      "outputs": [
        {
          "output_type": "stream",
          "text": [
            "f(x, y) = (x)^2+(y-5)^2\n",
            "Exact critical point:\n",
            "[0 5]\n",
            "Approx critical point:\n",
            "[0. 5.]\n",
            "Error:\n",
            "0.0\n",
            "Steps:\n",
            "1\n"
          ],
          "name": "stdout"
        },
        {
          "output_type": "display_data",
          "data": {
            "image/png": "[encoded data removed]",
            "text/plain": [
              "<Figure size 432x288 with 1 Axes>"
            ]
          },
          "metadata": {
            "tags": []
          }
        },
        {
          "output_type": "stream",
          "text": [
            "f(x, y) = (x)^4+(y-5)^4\n",
            "Exact critical point:\n",
            "[0 5]\n",
            "Approx critical point:\n",
            "[0.02283658 5.01522439]\n",
            "Error:\n",
            "0.02744615651315332\n",
            "Steps:\n",
            "16\n"
          ],
          "name": "stdout"
        },
        {
          "output_type": "display_data",
          "data": {
            "image/png": "[encoded data removed]",
            "text/plain": [
              "<Figure size 432x288 with 1 Axes>"
            ]
          },
          "metadata": {
            "tags": []
          }
        },
        {
          "output_type": "stream",
          "text": [
            "Error: The Hessian matrix at one step is not invertible!\n",
            "f(x, y) = 100cos(x+y)\n",
            "Exact critical point:\n",
            "[-14.13716694 -14.13716694]\n",
            "Approx critical point:\n",
            "[15 15]\n",
            "Error:\n",
            "41.20617665730908\n",
            "Steps:\n",
            "0\n"
          ],
          "name": "stdout"
        },
        {
          "output_type": "display_data",
          "data": {
            "image/png": "[encoded data removed]",
            "text/plain": [
              "<Figure size 432x288 with 1 Axes>"
            ]
          },
          "metadata": {
            "tags": []
          }
        },
        {
          "output_type": "stream",
          "text": [
            "f(x, y) = y^2sin(x)\n",
            "Exact critical point:\n",
            "[15.70796327  0.        ]\n",
            "Approx critical point:\n",
            "[15.70316811  0.07602643]\n",
            "Error:\n",
            "0.07617750035246844\n",
            "Steps:\n",
            "18\n"
          ],
          "name": "stdout"
        },
        {
          "output_type": "display_data",
          "data": {
            "image/png": "[encoded data removed]",
            "text/plain": [
              "<Figure size 432x288 with 1 Axes>"
            ]
          },
          "metadata": {
            "tags": []
          }
        }
      ]
    },
    {
      "cell_type": "markdown",
      "metadata": {
        "id": "_4GLBv0zWr7m",
        "colab_type": "text"
      },
      "source": [
        "# **Discussion**"
      ]
    },
    {
      "cell_type": "markdown",
      "metadata": {
        "id": "6bcsDSoRXHZe",
        "colab_type": "text"
      },
      "source": [
        "The gradient descent method implemented here seems to converge faster (except for the second function) and to be more reliable (since it doesn't require a non-singular Hessian matrix at all steps) than the Newton minimization method, although this may change if the Newton minimization method is damped.\n",
        "\n",
        "The gradient descent method implemented here sometimes takes large steps which lead to more steps before the convergence.\n",
        "\n",
        "The Newton minimization method takes only one step to minimize a quadratic form.\n",
        "\n",
        "The author found the simplicity and wide applicability of the Newton minimization method very interesting.\n",
        "\n",
        "While writing this report the author collaborated with Felipe Vicencio, and relied heavily on the lecture notes."
      ]
    }
  ]
}