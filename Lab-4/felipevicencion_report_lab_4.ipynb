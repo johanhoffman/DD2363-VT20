{
  "nbformat": 4,
  "nbformat_minor": 0,
  "metadata": {
    "colab": {
      "name": "felipevicencion_report_lab-4.ipynb",
      "provenance": []
    },
    "kernelspec": {
      "name": "python3",
      "display_name": "Python 3"
    }
  },
  "cells": [
    {
      "cell_type": "markdown",
      "metadata": {
        "id": "6RgtXlfYO_i7",
        "colab_type": "text"
      },
      "source": [
        "# **Lab 4: Function approximation**\n",
        "**Felipe Vicencio**"
      ]
    },
    {
      "cell_type": "markdown",
      "metadata": {
        "id": "9x_J5FVuPzbm",
        "colab_type": "text"
      },
      "source": [
        "# **Abstract**"
      ]
    },
    {
      "cell_type": "markdown",
      "metadata": {
        "id": "6UFTSzW7P8kL",
        "colab_type": "text"
      },
      "source": [
        "In this lab we implement a method for a approximating a continuous function $f: \\mathbb{R} \\to \\mathbb{R}$ using piecewise linear polynomials. The results are positive."
      ]
    },
    {
      "cell_type": "markdown",
      "metadata": {
        "id": "OkT8J7uOWpT3",
        "colab_type": "text"
      },
      "source": [
        "#**About the code**"
      ]
    },
    {
      "cell_type": "code",
      "metadata": {
        "id": "Pdll1Xc9WP0e",
        "colab_type": "code",
        "outputId": "9212f627-feb6-4c47-df6e-92fbac39d913",
        "colab": {
          "base_uri": "https://localhost:8080/",
          "height": 34
        }
      },
      "source": [
        "\"\"\"This program is a template for lab reports in the course\"\"\"\n",
        "\"\"\"DD2363 Methods in Scientific Computing, \"\"\"\n",
        "\"\"\"KTH Royal Institute of Technology, Stockholm, Sweden.\"\"\"\n",
        "\n",
        "# Copyright (C) 2020 Felipe Vicencio (fivn@kth.se)\n",
        "\n",
        "# This file is part of the course DD2363 Methods in Scientific Computing\n",
        "# KTH Royal Institute of Technology, Stockholm, Sweden\n",
        "#\n",
        "# This is free software: you can redistribute it and/or modify\n",
        "# it under the terms of the GNU Lesser General Public License as published by\n",
        "# the Free Software Foundation, either version 3 of the License, or\n",
        "# (at your option) any later version."
      ],
      "execution_count": 0,
      "outputs": [
        {
          "output_type": "execute_result",
          "data": {
            "text/plain": [
              "'KTH Royal Institute of Technology, Stockholm, Sweden.'"
            ]
          },
          "metadata": {
            "tags": []
          },
          "execution_count": 1
        }
      ]
    },
    {
      "cell_type": "markdown",
      "metadata": {
        "id": "28xLGz8JX3Hh",
        "colab_type": "text"
      },
      "source": [
        "# **Set up environment**"
      ]
    },
    {
      "cell_type": "code",
      "metadata": {
        "id": "Xw7VlErAX7NS",
        "colab_type": "code",
        "colab": {}
      },
      "source": [
        "# Load neccessary modules.\n",
        "from google.colab import files\n",
        "\n",
        "import math\n",
        "import matplotlib.pyplot as plt\n",
        "import time\n",
        "import numpy as np\n",
        "import sympy as sp"
      ],
      "execution_count": 0,
      "outputs": []
    },
    {
      "cell_type": "markdown",
      "metadata": {
        "id": "gnO3lhAigLev",
        "colab_type": "text"
      },
      "source": [
        "# **Introduction**"
      ]
    },
    {
      "cell_type": "markdown",
      "metadata": {
        "id": "l5zMzgPlRAF6",
        "colab_type": "text"
      },
      "source": [
        "The $L^2$ projection $Pf$ of a continuous function $f$ into the space $V$ of continuous linear piecewise polynomials in an interval is the best approximation of $f$ in $V$.\n",
        "\n",
        "If $\\phi = \\{\\phi_k\\}_{k \\in K}$ is a basis of $V$ the definition of the projection leads to:\n",
        "\n",
        "\\begin{align*}\n",
        "\\sum_{j \\in K} \\alpha_j(\\phi_k, \\phi_j) = (f, \\phi_k) \\quad \\forall k \\in K\n",
        "\\end{align*}\n",
        "\n",
        "Where $\\alpha = \\{\\alpha_k\\}_{k \\in K}$ are the coordinates of $Pf$ in the basis $\\phi$. Thus, this can be written as a linear system of equations $A\\alpha = b$.\n",
        "\n",
        "The basis we use are the hat functions.\n",
        "\n",
        "For more information the reader can consult the lecture notes."
      ]
    },
    {
      "cell_type": "markdown",
      "metadata": {
        "id": "WeFO9QMeUOAu",
        "colab_type": "text"
      },
      "source": [
        "# **Methods**"
      ]
    },
    {
      "cell_type": "markdown",
      "metadata": {
        "id": "zF4iBj5VURZx",
        "colab_type": "text"
      },
      "source": [
        "The proj method takes a NumPy array x which contains the nodes, and a SymPy function f.\n",
        "\n",
        "The method fills in the matrix $A$ and the vector $b$. To do so it iterates through the diagonal of $A$ and it does the following operations:\n",
        "\n",
        "* $A[n][n] += (\\lambda_0, \\lambda_0)$\n",
        "* $A[n + 1][n] += (\\lambda_1, \\lambda_0)$\n",
        "* $A[n][n + 1] += (\\lambda_0, \\lambda_1)$\n",
        "* $A[n + 1][n + 1] += (\\lambda_1, \\lambda_1)$\n",
        "* $b[n] += (f, \\lambda_0)$\n",
        "* $b[n + 1] += (f, \\lambda_1)$\n",
        "\n",
        "Where $\\lambda_0, \\lambda_1$ are the shape functions which make up the hat functions.\n",
        "\n",
        "The method uses the following exact formulas  obtained from the lecture notes:\n",
        "\n",
        "* $(\\lambda_0, \\lambda_0) = (\\lambda_1, \\lambda_1) = h/3$\n",
        "* $(\\lambda_1, \\lambda_0) = (\\lambda_0, \\lambda_1) = h/6$\n",
        "\n",
        "The method outputs the solution to the linear system of equations $A\\alpha = b$, which is also the evaluation of the projection of the function at the nodes (this is a property of the hat functions).\n",
        "\n",
        "For more information the reader can consult the lecture notes."
      ]
    },
    {
      "cell_type": "code",
      "metadata": {
        "id": "iPfEN_J-SFdN",
        "colab_type": "code",
        "colab": {}
      },
      "source": [
        "t = sp.symbols('t')"
      ],
      "execution_count": 0,
      "outputs": []
    },
    {
      "cell_type": "code",
      "metadata": {
        "id": "38-nngc2Qnaq",
        "colab_type": "code",
        "colab": {}
      },
      "source": [
        "def proj(x, f):\n",
        "  lenx = len(x)\n",
        "  A = np.zeros((lenx, lenx))\n",
        "  b = np.zeros(lenx)\n",
        "  for n in range(lenx - 1):\n",
        "    # Interval variables\n",
        "    h = x[n + 1] - x[n]\n",
        "    hThirds = h/3\n",
        "    hSixths = h/6\n",
        "\n",
        "    # Local to global map\n",
        "    A[n][n] += hThirds\n",
        "    A[n + 1][n] += hSixths\n",
        "    A[n][n + 1] += hSixths\n",
        "    A[n + 1][n + 1] += hThirds\n",
        "    b[n] += sp.integrate(f*(x[n + 1] - t)/h, (t, x[n], x[n + 1]))\n",
        "    b[n + 1] += sp.integrate(f*(t - x[n])/h, (t, x[n], x[n + 1]))\n",
        "  alpha = np.linalg.solve(A, b)\n",
        "  return alpha"
      ],
      "execution_count": 0,
      "outputs": []
    },
    {
      "cell_type": "markdown",
      "metadata": {
        "id": "SsQLT38gVbn_",
        "colab_type": "text"
      },
      "source": [
        "# **Results**"
      ]
    },
    {
      "cell_type": "markdown",
      "metadata": {
        "id": "RLwlnOzuV-Cd",
        "colab_type": "text"
      },
      "source": [
        "We test with the function $f(x) = x^3$ in the interval $[-100, 100]$. We divide it successively in $k = 2, \\ldots, k= 101$ subintervals of the same size.\n",
        "\n",
        "We calculate $error(k) = \\|f(x_k) - Pf(x_k)\\|$, where $g(x_k)$ is the vector obtained from evaluating $g$ at the $k + 1$ nodes in iteration $k$. This represents the accuracy.\n",
        "\n",
        "We calculate $derror(k) = \\|error(k + 1) - error(k)\\|$. This represents the rate of convergence.\n",
        "\n",
        "The accuracy is verified graphically with a graph because the error approaches $0$.\n",
        "\n",
        "The rate of convergence is verified graphically with a log-log graph.\n",
        "\n",
        "Finally, we also plot $f(x)$ and the best $Pf(x)$ obtained.\n",
        "\n",
        "These notions for accuracy and rate of convergence are the same Fabián Levicán used, as I collaborated with him."
      ]
    },
    {
      "cell_type": "code",
      "metadata": {
        "id": "mA26kHhOT8H1",
        "colab_type": "code",
        "outputId": "5addaee8-7c7b-4edc-8c03-b87db52341b7",
        "colab": {
          "base_uri": "https://localhost:8080/",
          "height": 803
        }
      },
      "source": [
        "def createx(n):\n",
        "  x = np.zeros(n + 1)\n",
        "  for k in range(n + 1):\n",
        "    x[k] = -100 + 200.0/n*k\n",
        "  return x\n",
        "\n",
        "nTests = 100\n",
        "err = np.zeros(nTests)\n",
        "derr = np.zeros(nTests - 1)\n",
        "\n",
        "for k in range(nTests):\n",
        "  x = createx(2 + k)\n",
        "  exact = [x[j]**3 for j in range(3 + k)]\n",
        "  approx = proj(x, t**3)\n",
        "  err[k] = np.linalg.norm(exact - approx)\n",
        "  \n",
        "for k in range(nTests - 1):\n",
        "  derr[k] = abs(err[k + 1] - err[k])\n",
        "\n",
        "plt.plot([3 + k for k in range(nTests)], err)\n",
        "plt.xlabel('k')\n",
        "plt.ylabel('error(k)')\n",
        "plt.show()\n",
        "\n",
        "plt.plot([math.log(3 + k) for k in range(nTests - 1)], [math.log(derr[k]) for k in range(nTests - 1)])\n",
        "plt.xlabel('log(k)')\n",
        "plt.ylabel('log(delta error(k))')\n",
        "plt.show()\n",
        "\n",
        "plt.plot(x, exact, 'b-')\n",
        "plt.plot(x, approx, 'r--')\n",
        "plt.xlabel('x')\n",
        "plt.ylabel('exact f(x) in blue, approx f(x) in red')\n",
        "plt.show()"
      ],
      "execution_count": 0,
      "outputs": [
        {
          "output_type": "display_data",
          "data": {
            "image/png": "[encoded data removed]",
            "text/plain": [
              "<Figure size 432x288 with 1 Axes>"
            ]
          },
          "metadata": {
            "tags": []
          }
        },
        {
          "output_type": "display_data",
          "data": {
            "image/png": "[encoded data removed]",
            "text/plain": [
              "<Figure size 432x288 with 1 Axes>"
            ]
          },
          "metadata": {
            "tags": []
          }
        },
        {
          "output_type": "display_data",
          "data": {
            "image/png": "[encoded data removed]",
            "text/plain": [
              "<Figure size 432x288 with 1 Axes>"
            ]
          },
          "metadata": {
            "tags": []
          }
        }
      ]
    },
    {
      "cell_type": "markdown",
      "metadata": {
        "id": "_4GLBv0zWr7m",
        "colab_type": "text"
      },
      "source": [
        "# **Discussion**"
      ]
    },
    {
      "cell_type": "markdown",
      "metadata": {
        "id": "6bcsDSoRXHZe",
        "colab_type": "text"
      },
      "source": [
        "All results were positive. I think it's interesting that the testing takes so long, the plots are so smooth, and the approximation seems to be so exact.\n",
        "\n",
        "I collaborated with Fabián Levicán."
      ]
    }
  ]
}