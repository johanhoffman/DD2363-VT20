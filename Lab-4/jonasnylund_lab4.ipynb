{
  "nbformat": 4,
  "nbformat_minor": 0,
  "metadata": {
    "colab": {
      "name": "Lab4",
      "provenance": [],
      "collapsed_sections": [],
      "include_colab_link": true
    },
    "kernelspec": {
      "name": "python3",
      "display_name": "Python 3"
    }
  },
  "cells": [
    {
      "cell_type": "markdown",
      "metadata": {
        "id": "view-in-github",
        "colab_type": "text"
      },
      "source": [
        "<a href=\"https://colab.research.google.com/github/johanhoffman/DD2363-VT20/blob/JonasNylund/Lab-4/jonasnylund_lab4.ipynb\" target=\"_parent\"><img src=\"https://colab.research.google.com/assets/colab-badge.svg\" alt=\"Open In Colab\"/></a>"
      ]
    },
    {
      "cell_type": "markdown",
      "metadata": {
        "id": "6RgtXlfYO_i7",
        "colab_type": "text"
      },
      "source": [
        "# **Lab 4: Function Approximations**\n",
        "**Jonas Nylund**"
      ]
    },
    {
      "cell_type": "markdown",
      "metadata": {
        "id": "OkT8J7uOWpT3",
        "colab_type": "text"
      },
      "source": [
        "#**About the code**"
      ]
    },
    {
      "cell_type": "markdown",
      "metadata": {
        "id": "HmB2noTr1Oyo",
        "colab_type": "text"
      },
      "source": [
        "A short statement on who is the author of the file, and if the code is distributed under a certain license. "
      ]
    },
    {
      "cell_type": "code",
      "metadata": {
        "id": "Pdll1Xc9WP0e",
        "colab_type": "code",
        "outputId": "85d673ee-2744-4c70-ed78-3a65e045a222",
        "colab": {
          "base_uri": "https://localhost:8080/",
          "height": 35
        }
      },
      "source": [
        "\"\"\"This program is a template for lab reports in the course\"\"\"\n",
        "\"\"\"DD2363 Methods in Scientific Computing, \"\"\"\n",
        "\"\"\"KTH Royal Institute of Technology, Stockholm, Sweden.\"\"\"\n",
        "\n",
        "# Copyright (C) 2019 Jonas Nylund (jonasnyl@kth.se)\n",
        "\n",
        "# This file is part of the course DD2363 Methods in Scientific Computing\n",
        "# KTH Royal Institute of Technology, Stockholm, Sweden\n",
        "#\n",
        "# This is free software: you can redistribute it and/or modify\n",
        "# it under the terms of the GNU Lesser General Public License as published by\n",
        "# the Free Software Foundation, either version 3 of the License, or\n",
        "# (at your option) any later version."
      ],
      "execution_count": 2,
      "outputs": [
        {
          "output_type": "execute_result",
          "data": {
            "text/plain": [
              "'KTH Royal Institute of Technology, Stockholm, Sweden.'"
            ]
          },
          "metadata": {
            "tags": []
          },
          "execution_count": 2
        }
      ]
    },
    {
      "cell_type": "markdown",
      "metadata": {
        "id": "x93Ut-HRbPHP",
        "colab_type": "text"
      },
      "source": [
        "The solution has been discussed and partly implemented in colaboration with Helmer Nylén, especially the ugliest hacks for sparse matrices."
      ]
    },
    {
      "cell_type": "markdown",
      "metadata": {
        "id": "28xLGz8JX3Hh",
        "colab_type": "text"
      },
      "source": [
        "# **Set up environment**"
      ]
    },
    {
      "cell_type": "markdown",
      "metadata": {
        "id": "D2PYNusD08Wa",
        "colab_type": "text"
      },
      "source": [
        "To have access to the neccessary modules you have to run this cell. If you need additional modules, this is where you add them. "
      ]
    },
    {
      "cell_type": "code",
      "metadata": {
        "id": "Xw7VlErAX7NS",
        "colab_type": "code",
        "colab": {}
      },
      "source": [
        "# Load neccessary modules.\n",
        "from google.colab import files\n",
        "\n",
        "import time\n",
        "import numpy as np\n",
        "import scipy.integrate as integrate\n",
        "import scipy.sparse as sparse;\n",
        "\n",
        "from matplotlib import pyplot as plt\n",
        "from matplotlib import tri\n",
        "from matplotlib import axes\n",
        "from mpl_toolkits.mplot3d import Axes3D"
      ],
      "execution_count": 0,
      "outputs": []
    },
    {
      "cell_type": "markdown",
      "metadata": {
        "id": "gnO3lhAigLev",
        "colab_type": "text"
      },
      "source": [
        "# **Introduction**"
      ]
    },
    {
      "cell_type": "markdown",
      "metadata": {
        "id": "l5zMzgPlRAF6",
        "colab_type": "text"
      },
      "source": [
        "The L2 projection of a function on a space of linear functions\n",
        "$\n",
        "\\displaystyle\n",
        "P_h f(x) = \\sum_{j=0}^{m+1} \\alpha_j\\phi_j(x)\n",
        "$\n",
        "\n",
        "as per equation 9.13 in the lecture notes.\n",
        "This gives the matrix equation \n",
        "$\n",
        "A\\alpha = b\n",
        "$, \n",
        "where $alpha$ is the solution vector, and A i a diagonal matrix with $a_{i,i} = \\frac{h_i}{3} + \\frac{h_{i+1}}{3}$, $a_{i,i+1} = \\frac{h_{i+1}}{6}$, and $a_{i,i-1} = \\frac{h_i}{6}$, where $h_i$ is the length of the i:th mesh element.\n",
        "\n",
        "$b_i$ is evaluated as the integral $\\int_I f(x)\\phi_i(x)dx$.\n",
        "Since $\\phi_i$ is non-zero only on a part of the intervall, we have that \n",
        "$b_i = \\int_{x_{i-1}}^{x_i} f(x)\\cdot \\frac{x-x_{i-1}}{x_i-x_{i-1}}dx + \\int_{x_i}^{x_{i+1}} f(x)\\cdot \\frac{x_{i+1}-x}{x_{i+1}-x_i}$, where $x_i$ is the node point of the i:th mesh node."
      ]
    },
    {
      "cell_type": "markdown",
      "metadata": {
        "id": "WeFO9QMeUOAu",
        "colab_type": "text"
      },
      "source": [
        "# **Methods**"
      ]
    },
    {
      "cell_type": "markdown",
      "metadata": {
        "id": "zF4iBj5VURZx",
        "colab_type": "text"
      },
      "source": [
        "The above equations gives us the following algorithm for calculating the system of linear equations."
      ]
    },
    {
      "cell_type": "code",
      "metadata": {
        "id": "P1V4fod2GfVW",
        "colab_type": "code",
        "colab": {}
      },
      "source": [
        "def phi1(f, x0,x1):\n",
        "  f1 = lambda x: f(x)*(x-x0)/(x1-x0);\n",
        "  return integrate.quad(f1, x0, x1)[0];\n",
        "\n",
        "def phi0(f, x1,x2):\n",
        "  f2 = lambda x: f(x)*(x2-x)/(x2-x1);\n",
        "  return integrate.quad(f2, x1, x2)[0];\n",
        "\n",
        "def assemble1DSystem(f, mesh):\n",
        "\n",
        "  k = len(mesh);\n",
        "  \n",
        "  #create a sparse matrix with right dimensions and elements\n",
        "  A = sparse.csr_matrix(sparse.diags(([1]*(k-1), [1]*k, [1]*(k-1)),(-1,0,1)))\n",
        "  b = np.zeros(k);\n",
        "\n",
        "  for i in range(1,k-1):\n",
        "\n",
        "    hi = mesh[i]-mesh[i-1];\n",
        "    hi1 = mesh[i+1]-mesh[i];\n",
        "\n",
        "    A[i,i] = hi/3 + hi1/3;\n",
        "    A[i,i-1] = hi/6;\n",
        "    A[i,i+1] = hi1/6;\n",
        "\n",
        "    b[i] += phi1(f, mesh[i-1], mesh[i]);\n",
        "    b[i] += phi0(f, mesh[i], mesh[i+1]);\n",
        "\n",
        "  ## Endpoints are taken car of manually, since we are missing some elements\n",
        "  #beginning\n",
        "  A[0,0] = (mesh[1]-mesh[0])/3;\n",
        "  A[0,1] = (mesh[1]-mesh[0])/6;    \n",
        "  b[0] = phi0(f, mesh[0], mesh[1]);\n",
        "  #end\n",
        "  A[-1,-1] = (mesh[-1]-mesh[-2])/3;\n",
        "  A[-1,-2] = (mesh[-1]-mesh[-2])/6;\n",
        "  b[-1] = phi1(f, mesh[-2], mesh[-1]);\n",
        "\n",
        "  return A,b;\n",
        "    \n",
        "    \n"
      ],
      "execution_count": 0,
      "outputs": []
    },
    {
      "cell_type": "markdown",
      "metadata": {
        "id": "umDThbSJTlMO",
        "colab_type": "text"
      },
      "source": [
        "An example of the approximated function and the exact solution"
      ]
    },
    {
      "cell_type": "code",
      "metadata": {
        "id": "wONaiBjmry0b",
        "colab_type": "code",
        "outputId": "bbf6c330-1aee-4aa4-ca99-181f29091881",
        "colab": {
          "base_uri": "https://localhost:8080/",
          "height": 513
        }
      },
      "source": [
        "n = 1000;\n",
        "\n",
        "intervall = [-10,10];\n",
        "mesh = np.sort(np.random.rand(n) * (intervall[1]-intervall[0]) +intervall[0]);\n",
        "\n",
        "f = np.polynomial.polynomial.Polynomial([(np.random.rand()*2-1)/(i**2+1) for i in range(np.random.randint(5,20))], [-1,1], [-1,1]);\n",
        "\n",
        "y = f(mesh);\n",
        "\n",
        "A,b = assemble1DSystem(f, mesh);\n",
        "alpha = sparse.linalg.spsolve(A,b);\n",
        "\n",
        "plt.plot(mesh,y)\n",
        "plt.plot(mesh,alpha, \"r--\");\n",
        "\n",
        "plt.figure();\n",
        "plt.plot(mesh, f(mesh)-alpha, 'b-');\n",
        "\n"
      ],
      "execution_count": 14,
      "outputs": [
        {
          "output_type": "display_data",
          "data": {
            "image/png": "[encoded data removed]",
            "text/plain": [
              "<Figure size 432x288 with 1 Axes>"
            ]
          },
          "metadata": {
            "tags": []
          }
        },
        {
          "output_type": "display_data",
          "data": {
            "image/png": "[encoded data removed]",
            "text/plain": [
              "<Figure size 432x288 with 1 Axes>"
            ]
          },
          "metadata": {
            "tags": []
          }
        }
      ]
    },
    {
      "cell_type": "markdown",
      "metadata": {
        "id": "SsQLT38gVbn_",
        "colab_type": "text"
      },
      "source": [
        "# **Results**"
      ]
    },
    {
      "cell_type": "markdown",
      "metadata": {
        "id": "RLwlnOzuV-Cd",
        "colab_type": "text"
      },
      "source": [
        "Calculating the residues for the approximation against the exact solution gives the folowing relationship between mesh coarsness and overall error.\n",
        "\n",
        "In a log-log plot the residue follows a linear path, meaning that the number of gridpoints is inversely proportional to the error."
      ]
    },
    {
      "cell_type": "code",
      "metadata": {
        "id": "Y0QtOXLtXsJt",
        "colab_type": "code",
        "colab": {
          "base_uri": "https://localhost:8080/",
          "height": 269
        },
        "outputId": "065f7e09-f670-4ca4-b3f7-c3a77b068e49"
      },
      "source": [
        "def interpolate(x1, x2, y1, y2, x):\n",
        "  return (y2-y1)/(x2-x1)*(x-x1)+y1;\n",
        "\n",
        "def diff(f, alpha, mesh, x):\n",
        "  i = 0;\n",
        "  while(mesh[i] < x):\n",
        "    i+= 1;\n",
        "  return np.abs(f(x) - interpolate(mesh[i-1], mesh[i], alpha[i-1], alpha[i], x));\n",
        "\n",
        "def residu(f, intervall, n, mesh):\n",
        "  A,b = assemble1DSystem(f, mesh);\n",
        "  alpha = sparse.linalg.spsolve(A,b);\n",
        "\n",
        "  m = n*10;\n",
        "  mesh2 = np.arange(m)/m * (intervall[1]-intervall[0]) +intervall[0];\n",
        "\n",
        "  s = 0;\n",
        "  for i in range(len(mesh2)):\n",
        "    s += diff(f, alpha, mesh, mesh2[i]);\n",
        "  return s/m;\n",
        "\n",
        "\n",
        "f = np.polynomial.polynomial.Polynomial([(np.random.rand()*2-1)/(i**2+1) for i in range(np.random.randint(5,20))], [-1,1], [-1,1]);\n",
        "intervall = [-1,1];\n",
        "\n",
        "n = [];\n",
        "r = [];\n",
        "for i in range(10,1010,10):\n",
        " \n",
        "  mesh = np.arange(i+1)/i * (intervall[1]-intervall[0]) +intervall[0]\n",
        "\n",
        "  n.append(i);\n",
        "  r.append(residu(f, intervall, i, mesh));\n",
        "\n",
        "plt.loglog(n,r);\n"
      ],
      "execution_count": 6,
      "outputs": [
        {
          "output_type": "display_data",
          "data": {
            "image/png": "[encoded data removed]",
            "text/plain": [
              "<Figure size 432x288 with 1 Axes>"
            ]
          },
          "metadata": {
            "tags": []
          }
        }
      ]
    },
    {
      "cell_type": "markdown",
      "metadata": {
        "id": "_4GLBv0zWr7m",
        "colab_type": "text"
      },
      "source": [
        "# **Discussion**"
      ]
    },
    {
      "cell_type": "markdown",
      "metadata": {
        "id": "6bcsDSoRXHZe",
        "colab_type": "text"
      },
      "source": [
        "The point of this kind of linear approximation of a function that we know know exactly is unclear. I don't understand why this is something we want to do. Storing the matrix A and vector b is memory inefficient compared to just using the function itself. \n",
        "\n",
        "The convergence rate of the approximaiton is as expected linear in a log-log plot, since the linear approximation gets closer the to the function the more points we evaluate it in. However, more mesh points leads to a larger system of linear equations to solve, which takes a long time.\n",
        "\n",
        "To conclude, the approximation works, and seems to converge to the exact solution as expected. The accuracy increases as the mesh gets finer, which is also as expected."
      ]
    }
  ]
}