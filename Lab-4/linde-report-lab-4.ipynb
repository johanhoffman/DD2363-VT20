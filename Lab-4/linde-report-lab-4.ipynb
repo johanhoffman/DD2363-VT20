{
  "nbformat": 4,
  "nbformat_minor": 0,
  "metadata": {
    "colab": {
      "name": "template-report-lab-X.ipynb",
      "provenance": [],
      "include_colab_link": true
    },
    "kernelspec": {
      "name": "python3",
      "display_name": "Python 3"
    }
  },
  "cells": [
    {
      "cell_type": "markdown",
      "metadata": {
        "id": "view-in-github",
        "colab_type": "text"
      },
      "source": [
        "<a href=\"https://colab.research.google.com/github/johanhoffman/DD2363-VT20/blob/lindevanbeers/Lab-4/linde-report-lab-4.ipynb\" target=\"_parent\"><img src=\"https://colab.research.google.com/assets/colab-badge.svg\" alt=\"Open In Colab\"/></a>"
      ]
    },
    {
      "cell_type": "markdown",
      "metadata": {
        "id": "6RgtXlfYO_i7",
        "colab_type": "text"
      },
      "source": [
        "# **Lab 4: Function approximation**\n",
        "**Linde van Beers**"
      ]
    },
    {
      "cell_type": "markdown",
      "metadata": {
        "id": "9x_J5FVuPzbm",
        "colab_type": "text"
      },
      "source": [
        "# **Abstract**"
      ]
    },
    {
      "cell_type": "markdown",
      "metadata": {
        "id": "6UFTSzW7P8kL",
        "colab_type": "text"
      },
      "source": [
        "\n",
        "\n",
        "```\n",
        "# This is formatted as code\n",
        "```\n",
        "\n",
        "Short summary of the lab report. State the objectives, methods used, main results and conlusions. "
      ]
    },
    {
      "cell_type": "markdown",
      "metadata": {
        "id": "yJipbXtnjrJZ",
        "colab_type": "text"
      },
      "source": [
        ""
      ]
    },
    {
      "cell_type": "markdown",
      "metadata": {
        "id": "OkT8J7uOWpT3",
        "colab_type": "text"
      },
      "source": [
        "#**About the code**"
      ]
    },
    {
      "cell_type": "markdown",
      "metadata": {
        "id": "HmB2noTr1Oyo",
        "colab_type": "text"
      },
      "source": [
        "A short statement on who is the author of the file, and if the code is distributed under a certain license. "
      ]
    },
    {
      "cell_type": "code",
      "metadata": {
        "id": "Pdll1Xc9WP0e",
        "colab_type": "code",
        "outputId": "61ef1837-3c13-4351-ec2a-9290872aedea",
        "colab": {
          "base_uri": "https://localhost:8080/",
          "height": 34
        }
      },
      "source": [
        "\"\"\"This program is a template for lab reports in the course\"\"\"\n",
        "\"\"\"DD2363 Methods in Scientific Computing, \"\"\"\n",
        "\"\"\"KTH Royal Institute of Technology, Stockholm, Sweden.\"\"\"\n",
        "\n",
        "# Author: Linde van Beers, 2020\n",
        "\n",
        "# Based on a template:\n",
        "# Copyright (C) 2019 Johan Hoffman (jhoffman@kth.se)\n",
        "\n",
        "\n",
        "# This file is part of the course DD2363 Methods in Scientific Computing\n",
        "# KTH Royal Institute of Technology, Stockholm, Sweden\n",
        "#\n",
        "# This is free software: you can redistribute it and/or modify\n",
        "# it under the terms of the GNU Lesser General Public License as published by\n",
        "# the Free Software Foundation, either version 3 of the License, or\n",
        "# (at your option) any later version.\n",
        "\n",
        "# This template is maintained by Johan Hoffman\n",
        "# Please report problems to jhoffman@kth.se"
      ],
      "execution_count": 2,
      "outputs": [
        {
          "output_type": "execute_result",
          "data": {
            "text/plain": [
              "'KTH Royal Institute of Technology, Stockholm, Sweden.'"
            ]
          },
          "metadata": {
            "tags": []
          },
          "execution_count": 2
        }
      ]
    },
    {
      "cell_type": "markdown",
      "metadata": {
        "id": "28xLGz8JX3Hh",
        "colab_type": "text"
      },
      "source": [
        "# **Set up environment**"
      ]
    },
    {
      "cell_type": "markdown",
      "metadata": {
        "id": "D2PYNusD08Wa",
        "colab_type": "text"
      },
      "source": [
        "To have access to the neccessary modules you have to run this cell. If you need additional modules, this is where you add them. "
      ]
    },
    {
      "cell_type": "code",
      "metadata": {
        "id": "Xw7VlErAX7NS",
        "colab_type": "code",
        "colab": {}
      },
      "source": [
        "# Load neccessary modules.\n",
        "from google.colab import files\n",
        "\n",
        "import time\n",
        "import numpy as np\n",
        "\n",
        "from matplotlib import pyplot as plt\n",
        "from matplotlib import tri\n",
        "from matplotlib import axes\n",
        "from mpl_toolkits.mplot3d import Axes3D"
      ],
      "execution_count": 0,
      "outputs": []
    },
    {
      "cell_type": "markdown",
      "metadata": {
        "id": "gnO3lhAigLev",
        "colab_type": "text"
      },
      "source": [
        "# **Introduction**"
      ]
    },
    {
      "cell_type": "markdown",
      "metadata": {
        "id": "l5zMzgPlRAF6",
        "colab_type": "text"
      },
      "source": [
        "Give a short description of the problem investigated in the report, and provide some background information so that the reader can understand the context. \n",
        "\n",
        "Briefly describe what method you have chosen to solve the problem, and justify why you selected that method. \n",
        "\n",
        "Here you can express mathematics through Latex syntax, and use hyperlinks for references.\n",
        "\n",
        "[Hyperlink to DD2363 course website.](https://kth.instructure.com/courses/7500)\n",
        "\n",
        "$\n",
        "{\\displaystyle \\frac{\\partial u}{\\partial t}} + u\\cdot \\nabla u +\\nabla p = f, \\quad \\nabla \\cdot u=0$\n",
        "\n"
      ]
    },
    {
      "cell_type": "markdown",
      "metadata": {
        "id": "WeFO9QMeUOAu",
        "colab_type": "text"
      },
      "source": [
        "# **Methods**"
      ]
    },
    {
      "cell_type": "markdown",
      "metadata": {
        "id": "zF4iBj5VURZx",
        "colab_type": "text"
      },
      "source": [
        "### L2 projection to pointwise linear approximation over mesh in 1D\n",
        "\n",
        "In order to find the $L^2$-projection over a mesh we first find the matrix $A$ and the vector $b$, and then solve the linear system $A\\alpha = b$ to find $\\alpha$, the solution vector. \n",
        "\n",
        "$A$ is calculated by iterating over the subintervals $I_i, i\\in 1,..,N$. For each interval we calculate $h_i$ the length of $I_i$. We then add this value (devided by 3 or 6) to the correct entrees in $A$ so that we get \n",
        "\n",
        "$a_{ii} = \\frac{h_i}{3} + \\frac{h_{i+1}}{3}$\n",
        "\n",
        "$a_{ii+1} = \\frac{h_i+1}{6}$\n",
        "\n",
        "$a_{ii-1} = \\frac{h_i}{6}$\n",
        "\n",
        "$b$ is also calculated by iterating over the intervals. For each interval we evaluate the function at the start $l$ and end $r$ of the interval, from which we derive the interpolant at that interval: \n",
        "\n",
        "$\\pi_hf(x) = f(l) + \\frac{f(r)-f(l)}{h}(x-l)$\n",
        "\n",
        "We then take the integrals:\n",
        "\n",
        "$\\int_{l}^{r}\\pi_hf(x)\\phi_{i,0}dx $\n",
        "\n",
        "$=( \\frac{f(l)}{2}+\\frac{f(r)-f(l)}{3}) * h$ and \n",
        "\n",
        "$\\int_{l}^{r}\\pi_hf(x)\\phi_{i-1,1}dx $\n",
        "\n",
        "$=(f(l) + \\frac{f(r)-f(l)}{2}-\\frac{f(l)}{2}- \\frac{f(r)-f(l)}{3}) * h$ \n",
        "\n",
        "The outcome of the first we add to $b_i$ and the outcome of the second to $b_{i-1}$ such that the entry for $b$ for every node in the end contains the integral:\n",
        "\n",
        "$\\int_{I_i + I_{i+1}}\\pi_hf(x)\\phi_{i}(x)dx $\n",
        "\n",
        "Then we solve the linear system and find our solution vector $\\alpha$, containing the evaluation of our projection in each point of the mesh. "
      ]
    },
    {
      "cell_type": "code",
      "metadata": {
        "id": "4Yi47iuqRwqp",
        "colab_type": "code",
        "colab": {}
      },
      "source": [
        "\n",
        "def l2_projection(f, mesh):\n",
        "  N = len(mesh)\n",
        "  b = np.zeros(N)\n",
        "  A = np.zeros([N,N])\n",
        "\n",
        "  for k in range(1, N):\n",
        "    h = mesh[k]-mesh[k-1]\n",
        "    A[k-1, k-1] += h/3\n",
        "    A[k-1,k] += h/6\n",
        "    A[k,k] += h/3\n",
        "    A[k,k-1]+= h/6\n",
        "\n",
        "    l = f(mesh[k-1])\n",
        "    r = f(mesh[k])\n",
        "    b[k] += (l/2 + (r-l)/3) * h\n",
        "    b[k-1] += (l + (r-l)/2 - (l/2) - (r-l)/3) * h\n",
        "  \n",
        "  sol = np.linalg.solve(A,b)\n",
        "\n",
        "  return sol\n",
        "\n",
        "def evaluate(p, x, mesh):\n",
        "  N = len(mesh)\n",
        "  if x == mesh[0]:\n",
        "    return p[0]\n",
        "  \n",
        "  for i in range(1,N):\n",
        "    if x == mesh[i]:\n",
        "      return p[i]\n",
        "    elif x > mesh[i-1] and x < mesh[i]:\n",
        "      return p[i-1] + (p[i]-p[i-1])/((mesh[i]-mesh[i-1])) * (x - mesh[i-1])\n",
        "\n"
      ],
      "execution_count": 0,
      "outputs": []
    },
    {
      "cell_type": "markdown",
      "metadata": {
        "id": "SsQLT38gVbn_",
        "colab_type": "text"
      },
      "source": [
        "# **Results**"
      ]
    },
    {
      "cell_type": "markdown",
      "metadata": {
        "id": "RLwlnOzuV-Cd",
        "colab_type": "text"
      },
      "source": [
        "Present the results. If the result is an algorithm that you have described under the *Methods* section, you can present the data from verification and performance tests in this section. If the result is the output from a computational experiment this is where you present a selection of that data. "
      ]
    },
    {
      "cell_type": "code",
      "metadata": {
        "id": "MmD-fii0KVhz",
        "colab_type": "code",
        "colab": {
          "base_uri": "https://localhost:8080/",
          "height": 1000
        },
        "outputId": "88fb720c-f6f0-40d5-c091-502a23c53db3"
      },
      "source": [
        "class RandomPoly:\n",
        "  def __init__(self):\n",
        "    self.degree = np.random.randint(1, 10)\n",
        "    self.alpha = np.zeros(self.degree)\n",
        "    for i in (range(self.degree)):\n",
        "      self.alpha[i] = int(np.random.rand() * 200/pow(i+1,2))\n",
        "       \n",
        "    print(\"f(x) = \", end = '')\n",
        "    for i in (range(self.degree-1, 0,-1)):\n",
        "      print(self.alpha[i], \"* x^\",end = '')\n",
        "      print(i , \"+ \",end = '')\n",
        "    print(self.alpha[0])\n",
        "\n",
        "  def function(self,x):\n",
        "    alph = self.alpha\n",
        "    y=0\n",
        "    for i in range(self.degree):\n",
        "      y += alph[i] * pow(x,i)\n",
        "    return y\n",
        "\n",
        "test = 1\n",
        "print(\"test %s:\"%test)\n",
        "f = RandomPoly()\n",
        "\n",
        "print(\"convergence of average residual error for different meshes:\")\n",
        "for j in range (10,100,10):\n",
        "  mesh = np.array(np.linspace(-10,10,j))\n",
        "  mesh = np.sort(mesh)\n",
        "  p = l2_projection(f.function, mesh)\n",
        "\n",
        "  \n",
        "\n",
        "  xs = np.array(np.linspace(mesh[0],mesh[-1],40))\n",
        "  fx = np.zeros(len(xs))\n",
        "  for i in range(len(xs)):\n",
        "    fx[i] = f.function(xs[i])\n",
        "  \n",
        "  if j == 10:\n",
        "    fig = plt.figure()\n",
        "    sub = fig.add_subplot(111)\n",
        "    sub.plot(xs,fx, label = \"function\")\n",
        "    sub.plot(mesh, p, 'o-', label = \"projection\")\n",
        "    sub.set_xlabel(\"x\")\n",
        "    sub.set_ylabel(\"f(x)\")\n",
        "    sub.set_xlim(mesh[0],mesh[-1])\n",
        "    plt.legend()\n",
        "    plt.title(\"function and projection test %s\" % test)\n",
        "  \n",
        "  t = np.array(np.linspace(mesh[0],mesh[-1],17))\n",
        "  fxtest = np.zeros(17)\n",
        "  ptest = np.zeros(17)\n",
        "  for i in range(17):\n",
        "    fxtest[i] = f.function(t[i])\n",
        "    ptest[i] = evaluate(p,t[i], mesh)\n",
        "  dist = np.linalg.norm(fxtest-ptest)\n",
        "  print(\"mesh of %s nodes:\"% j, dist/17)\n",
        "\n",
        "\n",
        "\n",
        "test = 2\n",
        "print(\"test %s:\"%test)\n",
        "f = RandomPoly()\n",
        "\n",
        "print(\"convergence of average residual error for different meshes:\")\n",
        "for j in range (10,100,10):\n",
        "  mesh = np.array(np.linspace(-10,10,j))\n",
        "  mesh = np.sort(mesh)\n",
        "  p = l2_projection(f.function, mesh)\n",
        "\n",
        "\n",
        "  xs = np.array(np.linspace(mesh[0],mesh[-1],40))\n",
        "  fx = np.zeros(len(xs))\n",
        "  for i in range(len(xs)):\n",
        "    fx[i] = f.function(xs[i])\n",
        "\n",
        "   \n",
        "  if j == 10:\n",
        "    fig = plt.figure()\n",
        "    sub = fig.add_subplot(111)\n",
        "    sub.plot(xs,fx, label = \"function\")\n",
        "    sub.plot(mesh, p, 'o-', label = \"projection\")\n",
        "    sub.set_xlabel(\"x\")\n",
        "    sub.set_ylabel(\"f(x)\")\n",
        "    sub.set_xlim(mesh[0],mesh[-1])\n",
        "    plt.legend()\n",
        "    plt.title(\"function and projection test %s\" % test)\n",
        "  \n",
        "  t = np.array(np.linspace(mesh[0],mesh[-1],17))\n",
        "  fxtest = np.zeros(17)\n",
        "  ptest = np.zeros(17)\n",
        "  for i in range(17):\n",
        "    fxtest[i] = f.function(t[i])\n",
        "    ptest[i] = evaluate(p,t[i], mesh)\n",
        "  dist = np.linalg.norm(fxtest-ptest)\n",
        "  print(\"mesh of %s nodes:\"% j, dist/17)\n",
        "\n",
        "\n",
        "test = 3\n",
        "print(\"test %s:\"%test)\n",
        "f = RandomPoly()\n",
        "\n",
        "print(\"convergence of average residual error for different meshes:\")\n",
        "for j in range (10,100,10):\n",
        "  mesh = np.array(np.linspace(-10,10,j))\n",
        "  mesh = np.sort(mesh)\n",
        "  p = l2_projection(f.function, mesh)\n",
        "\n",
        "  xs = np.array(np.linspace(mesh[0],mesh[-1],40))\n",
        "  fx = np.zeros(len(xs))\n",
        "  for i in range(len(xs)):\n",
        "    fx[i] = f.function(xs[i])\n",
        "\n",
        "  if j == 10:\n",
        "    fig = plt.figure()\n",
        "    sub = fig.add_subplot(111)\n",
        "    sub.plot(xs,fx, label = \"function\")\n",
        "    sub.plot(mesh, p, 'o-', label = \"projection\")\n",
        "    sub.set_xlabel(\"x\")\n",
        "    sub.set_ylabel(\"f(x)\")\n",
        "    sub.set_xlim(mesh[0],mesh[-1])\n",
        "    plt.legend()\n",
        "    plt.title(\"function and projection test %s\" % test)\n",
        "  \n",
        "  t = np.array(np.linspace(mesh[0],mesh[-1],17))\n",
        "  fxtest = np.zeros(17)\n",
        "  ptest = np.zeros(17)\n",
        "  for i in range(17):\n",
        "    fxtest[i] = f.function(t[i])\n",
        "    ptest[i] = evaluate(p,t[i], mesh)\n",
        "  dist = np.linalg.norm(fxtest-ptest)\n",
        "  print(\"mesh of %s nodes:\"% j, dist/17)\n",
        "\n",
        "\n"
      ],
      "execution_count": 269,
      "outputs": [
        {
          "output_type": "stream",
          "text": [
            "test 1:\n",
            "f(x) = 2.0 * x^3 + 0.0 * x^2 + 32.0 * x^1 + 34.0\n",
            "convergence of average residual error for different meshes:\n",
            "mesh of 10 nodes: 7.291735003412586\n",
            "mesh of 20 nodes: 1.5858190696930075\n",
            "mesh of 30 nodes: 0.6867084865592107\n",
            "mesh of 40 nodes: 0.3861303308397469\n",
            "mesh of 50 nodes: 0.16006701202619616\n",
            "mesh of 60 nodes: 0.1683866695784968\n",
            "mesh of 70 nodes: 0.12286037637764388\n",
            "mesh of 80 nodes: 0.06295622849713764\n",
            "mesh of 90 nodes: 0.07423201564307297\n",
            "test 2:\n",
            "f(x) = 2.0 * x^7 + 0.0 * x^6 + 1.0 * x^5 + 2.0 * x^4 + 7.0 * x^3 + 14.0 * x^2 + 24.0 * x^1 + 90.0\n",
            "convergence of average residual error for different meshes:\n",
            "mesh of 10 nodes: 243224.01956265804\n",
            "mesh of 20 nodes: 35318.58761527716\n",
            "mesh of 30 nodes: 17610.19896738688\n",
            "mesh of 40 nodes: 11955.738976304305\n",
            "mesh of 50 nodes: 2335.23953731069\n",
            "mesh of 60 nodes: 5066.011250658412\n",
            "mesh of 70 nodes: 3599.288852055238\n",
            "mesh of 80 nodes: 1002.2861532466818\n",
            "mesh of 90 nodes: 2322.428341707699\n",
            "test 3:\n",
            "f(x) = 4.0 * x^3 + 10.0 * x^2 + 39.0 * x^1 + 174.0\n",
            "convergence of average residual error for different meshes:\n",
            "mesh of 10 nodes: 14.736957820606632\n",
            "mesh of 20 nodes: 3.207157175406268\n",
            "mesh of 30 nodes: 1.3885319195132844\n",
            "mesh of 40 nodes: 0.7804803770908473\n",
            "mesh of 50 nodes: 0.3280360948250872\n",
            "mesh of 60 nodes: 0.34037186303438227\n",
            "mesh of 70 nodes: 0.24835722003380614\n",
            "mesh of 80 nodes: 0.12888758990565163\n",
            "mesh of 90 nodes: 0.1500405647445907\n"
          ],
          "name": "stdout"
        },
        {
          "output_type": "display_data",
          "data": {
            "image/png": "[encoded data removed]",
            "text/plain": [
              "<Figure size 432x288 with 1 Axes>"
            ]
          },
          "metadata": {
            "tags": []
          }
        },
        {
          "output_type": "display_data",
          "data": {
            "image/png": "[encoded data removed]",
            "text/plain": [
              "<Figure size 432x288 with 1 Axes>"
            ]
          },
          "metadata": {
            "tags": []
          }
        },
        {
          "output_type": "display_data",
          "data": {
            "image/png": "[encoded data removed]",
            "text/plain": [
              "<Figure size 432x288 with 1 Axes>"
            ]
          },
          "metadata": {
            "tags": []
          }
        }
      ]
    },
    {
      "cell_type": "markdown",
      "metadata": {
        "id": "_4GLBv0zWr7m",
        "colab_type": "text"
      },
      "source": [
        "# **Discussion**"
      ]
    },
    {
      "cell_type": "markdown",
      "metadata": {
        "id": "6bcsDSoRXHZe",
        "colab_type": "text"
      },
      "source": [
        "Summarize your results and your conclusions. Were the results expected or surprising. Do your results have implications outside the particular problem investigated in this report? "
      ]
    },
    {
      "cell_type": "markdown",
      "metadata": {
        "id": "1vcIILuQYsEA",
        "colab_type": "text"
      },
      "source": [
        "# **APPENDIX**"
      ]
    },
    {
      "cell_type": "markdown",
      "metadata": {
        "id": "NlJ-Y9KAYt4Z",
        "colab_type": "text"
      },
      "source": [
        "In this appendix some examples are given to express and visualizing mathematical concepts such as vectors, matrices, meshes and functions. \n",
        "\n",
        "This is not part of the template report for the course."
      ]
    },
    {
      "cell_type": "code",
      "metadata": {
        "id": "Y-enWfBvcbRZ",
        "colab_type": "code",
        "colab": {}
      },
      "source": [
        ""
      ],
      "execution_count": 0,
      "outputs": []
    },
    {
      "cell_type": "markdown",
      "metadata": {
        "id": "I5Kf3qRyY5J5",
        "colab_type": "text"
      },
      "source": [
        "# **Vector**"
      ]
    },
    {
      "cell_type": "markdown",
      "metadata": {
        "id": "SBKa3PEj0N9D",
        "colab_type": "text"
      },
      "source": [
        "In this cell some basic commands are introduced for how to define and process a vector, where the NumPy array data type is used. "
      ]
    },
    {
      "cell_type": "code",
      "metadata": {
        "colab_type": "code",
        "id": "PbnT724f5mfQ",
        "colab": {}
      },
      "source": [
        "# Just a test\n",
        "# Create a vector as a NumPy array\n",
        "x = np.array([1,2,3,4])\n",
        "\n",
        "# Print various attributes of the vector\n",
        "print('x =',x)\n",
        "print('x[2] =',x[2])\n",
        "print('x[0:2] =',x[0:2])\n",
        "print('x.shape =',x.shape)\n",
        "print('x.ndim =',x.ndim)\n",
        "print('x.size =',x.size)\n",
        "print('x.dtype =',x.dtype)\n",
        "\n",
        "# Print the elements of vector x\n",
        "for i in range(x.size):\n",
        "  print(\"x[\",i,\"] =\",x[i])\n",
        "\n",
        "# Assign a float value to the int vector x\n",
        "x[1] = 2.1\n",
        "print('x =',x)\n",
        "\n",
        "# Copy the int vector x to a float vector xf\n",
        "xf = x.astype(float)\n",
        "xf[1] = 2.1\n",
        "print('xf =',xf)\n",
        "print('xf.dtype =',xf.dtype)\n",
        "\n",
        "# Create a complex vector \n",
        "y = np.array([2,3,4], dtype=complex)\n",
        "print('y =',y)\n",
        "print('y.dtype =',y.dtype)\n",
        "\n",
        "# Create a vector z by defining a range through an increment\n",
        "z = np.arange(12, 28, 4.5)\n",
        "print('z =',z)\n",
        "\n",
        "# Overwrite the vector z by a vector of uniformly spaced elements in a range\n",
        "pi=np.pi\n",
        "pi\n",
        "z = np.linspace(0, 2*pi, 5)\n",
        "print('z =',z)\n",
        "\n",
        "# Visualize the vector in a plot. \n",
        "plt.figure()\n",
        "plt.plot(x,2*x,'ro-')\n",
        "plt.show()"
      ],
      "execution_count": 0,
      "outputs": []
    },
    {
      "cell_type": "markdown",
      "metadata": {
        "id": "trQVmLgAZGU7",
        "colab_type": "text"
      },
      "source": [
        "# **Matrix**"
      ]
    },
    {
      "cell_type": "markdown",
      "metadata": {
        "id": "ADesgm5x01TF",
        "colab_type": "text"
      },
      "source": [
        "In this cell some basic commands for defining and processing a matrix\n",
        "is introduced, where we use the NumPy array data type. "
      ]
    },
    {
      "cell_type": "code",
      "metadata": {
        "id": "QdJvGD6NZKNc",
        "colab_type": "code",
        "colab": {}
      },
      "source": [
        "# Define a matrix as a NumPy array\n",
        "A = np.array([[2,4,6], [3,6,9], [1,2,1]])\n",
        "\n",
        "# Print various attributes of the matrix \n",
        "print('A =',A)\n",
        "print('A[1,0] =',A[1,0])\n",
        "print('A.shape =',A.shape)\n",
        "print('A.ndim =',A.ndim)\n",
        "print('A.size =',A.size)\n",
        "\n",
        "# Plot the matrix\n",
        "plt.figure()\n",
        "plt.plot(A,'o-')\n",
        "\n",
        "# Construct a simple sparse matrix class using the CRS data structure\n",
        "class spMatrix:\n",
        "  def __init__(self, val, col_idx, row_ptr):\n",
        "    self.val = val\n",
        "    self.col_idx = col_idx\n",
        "    self.row_ptr = row_ptr\n",
        "    \n",
        "# Create a sparse matrix object \n",
        "val = np.array([3, 2, 2, 2, 1, 1, 3, 2, 1, 2, 3])\n",
        "col_idx = np.array([1, 2, 4, 2, 3, 3, 3, 4, 5, 5, 6])\n",
        "row_ptr = np.array([1, 4, 6, 7, 9, 10])\n",
        "spA = spMatrix(val, col_idx, row_ptr)\n",
        "\n",
        "# Print sparse matrix object attributes\n",
        "print('Sparse matrix values: \\n',spA.val)\n",
        "print('Sparse matrix column indices: \\n',spA.col_idx)\n",
        "print('Sparse matrix row pointer: \\n',spA.row_ptr)\n",
        "    "
      ],
      "execution_count": 0,
      "outputs": []
    },
    {
      "cell_type": "markdown",
      "metadata": {
        "id": "idDHnPmv9c6H",
        "colab_type": "text"
      },
      "source": [
        "# **Function**"
      ]
    },
    {
      "cell_type": "markdown",
      "metadata": {
        "id": "PwYg0g0-EH2J",
        "colab_type": "text"
      },
      "source": [
        "In this cell we illustrate how functions are defined. "
      ]
    },
    {
      "cell_type": "code",
      "metadata": {
        "id": "eDlRKNOK9fNo",
        "colab_type": "code",
        "colab": {}
      },
      "source": [
        "# Define a function f(x,y)\n",
        "def f(x,y):\n",
        "  return x + y \n",
        "\n",
        "# Verify the function output\n",
        "print('f(3,4) =',f(3,4))\n",
        "\n",
        "# Define a function of a function\n",
        "def g1(fcn,arg1,arg2):\n",
        "  z = fcn(arg1,arg2)\n",
        "  print('z =',z)\n",
        "\n",
        "# Call the function\n",
        "g1(f,6,7)\n",
        "\n",
        "# Define a function of a function with arguments in a list or array\n",
        "def g2(fcn,arg):\n",
        "  z = fcn(*arg)\n",
        "  print('z =',z)\n",
        "  \n",
        "# Call the function with arguments as list and array\n",
        "xlist = [8,9]\n",
        "xarray = np.array([11,3])\n",
        "g2(f,xlist)\n",
        "g2(f,xarray)\n",
        "\n",
        "# Define a function to format the print out for a matrix \n",
        "def printMatrix(A):\n",
        "   rows = A.shape[0]\n",
        "   cols = A.shape[1]\n",
        "   for i in range(0,rows):\n",
        "      for j in range(0,cols):\n",
        "         print(A[i,j],\" \", end='')\n",
        "      print()\n",
        "\n",
        "# Define matrix      \n",
        "A = np.array([[1,2,3], [4,5,6], [7,8,9]])\n",
        "\n",
        "# Verify the function output\n",
        "print('A =', A)\n",
        "print('A =')\n",
        "printMatrix(A)\n",
        "print('A^T =')\n",
        "printMatrix(A.transpose())\n",
        "\n",
        "# Plot a Euclidian position vector v \n",
        "def plotEVector(vec):\n",
        "  plt.figure()\n",
        "  plt.xlim([-1.5*vec[0], 1.5*vec[0]])\n",
        "  plt.ylim([-1.5*vec[1], 1.5*vec[1]])\n",
        "  plt.quiver(0, 0, vec[0], vec[1], scale=1, scale_units='xy', angles='xy')\n",
        "  plt.show()\n",
        "\n",
        "v = np.array([3,4])\n",
        "plotEVector(v)\n",
        "\n",
        "\n"
      ],
      "execution_count": 0,
      "outputs": []
    },
    {
      "cell_type": "markdown",
      "metadata": {
        "id": "hmpw8QnuzSSD",
        "colab_type": "text"
      },
      "source": [
        "# **Plot**"
      ]
    },
    {
      "cell_type": "code",
      "metadata": {
        "id": "6zmuvOqEzWfA",
        "colab_type": "code",
        "colab": {}
      },
      "source": [
        "# Define a range for a parameter t\n",
        "t = np.arange( 0.0, 10, 0.5)\n",
        "\n",
        "# Initialize a new figure and set the size \n",
        "plt.figure(2)\n",
        "plt.figure(figsize=(12,6))\n",
        "\n",
        "# Define a subplot structure and choose the first subplot \n",
        "plt.subplot(121)\n",
        "\n",
        "# Plot a standard NumPy function against the parameter t\n",
        "plt.plot(t,np.cos(t))\n",
        "\n",
        "# Set plot labels and title for the subplot\n",
        "plt.xlabel('x')\n",
        "plt.ylabel('y')\n",
        "plt.title('My plot: $y = cos(x)$')\n",
        "\n",
        "# Choose the other subplot\n",
        "plt.subplot(122)\n",
        "\n",
        "# Plot three functions in the same subplot\n",
        "plt.plot(t, np.sin(f(t,3)), 'g*', t, 0.03*t**2, 'ro', t, 0.1*t, 'b')\n",
        "plt.axis([-1, 12, -2 ,3])\n",
        "\n",
        "# Show the figure\n",
        "plt.show()"
      ],
      "execution_count": 0,
      "outputs": []
    },
    {
      "cell_type": "markdown",
      "metadata": {
        "id": "M2LbkCoxNV8i",
        "colab_type": "text"
      },
      "source": [
        "# Triangular **mesh**"
      ]
    },
    {
      "cell_type": "markdown",
      "metadata": {
        "id": "cnwG2HPEFcyL",
        "colab_type": "text"
      },
      "source": [
        "This cell describes how to generate a triangular mesh from a point cloud by the Delaunay algorithm. It also illustrates how to access the mesh data structures. "
      ]
    },
    {
      "cell_type": "code",
      "metadata": {
        "id": "4stcLbraNZPY",
        "colab_type": "code",
        "colab": {}
      },
      "source": [
        "# Start the clock \n",
        "start = time.time()\n",
        "\n",
        "# Generate a point cloud\n",
        "Nx = 5\n",
        "Ny = 5\n",
        "hx = 1.0/(Nx-1)\n",
        "hy = 1.0/(Ny-1)\n",
        "x = np.zeros((Nx*Ny))\n",
        "y = np.zeros((Nx*Ny))\n",
        "for i in range(Nx):\n",
        "  for j in range(Ny):\n",
        "    x[i*Nx + j] = j*hx\n",
        "    y[i*Nx + j] = i*hy\n",
        "\n",
        "# Generate a mesh from the point cloud using a Delaunay algorithm\n",
        "mesh = tri.Triangulation( x, y )\n",
        "\n",
        "# Stop the clock\n",
        "end = time.time()\n",
        "\n",
        "# Print the measured time\n",
        "print (\"Mesh generation took: \", end - start, \"seconds (wall-clock time)\")\n",
        "\n",
        "# Print mesh data structure\n",
        "vertices = np.array([mesh.x, mesh.y])\n",
        "print('vertices = \\n', vertices)\n",
        "print('edges = \\n', mesh.edges)\n",
        "print('triangles = \\n', mesh.triangles)\n",
        "print('neighbor triangles = \\n', mesh.neighbors)\n",
        "\n",
        "# Plot the mesh \n",
        "plt.figure(3)\n",
        "plt.figure(figsize=(10,10))\n",
        "plt.triplot(mesh, 'bo-', lw=1)\n",
        "plt.title('Delaunay mesh')\n",
        "plt.show()\n",
        "\n",
        "# Define a function g(x,y)\n",
        "def g(x,y):\n",
        "    return np.sin(10*x)*np.cos(3*y)\n",
        "\n",
        "# Plot the function g(x,y) in a contour plot\n",
        "plt.figure(4)\n",
        "plt.tricontour(mesh, g(x,y), cmap=plt.cm.spectral)\n",
        "plt.show()\n",
        "\n",
        "# Plot the function g(x,y) in 3D as a surface plot\n",
        "fig = plt.figure(5)\n",
        "ax1 = fig.add_subplot(111, projection='3d')\n",
        "surf = ax1.plot_trisurf(mesh, g(x,y), cmap=plt.cm.coolwarm)\n",
        "fig.colorbar(surf, shrink=0.5, aspect=10)\n",
        "ax1.view_init(20,10)\n",
        "plt.show()"
      ],
      "execution_count": 0,
      "outputs": []
    },
    {
      "cell_type": "markdown",
      "metadata": {
        "id": "lmSvJV4dYVN2",
        "colab_type": "text"
      },
      "source": [
        "# Parametric **curve**"
      ]
    },
    {
      "cell_type": "markdown",
      "metadata": {
        "id": "fXevCzGfYZPj",
        "colab_type": "text"
      },
      "source": [
        "This cell illustrates how to visualize a parametric curve."
      ]
    },
    {
      "cell_type": "code",
      "metadata": {
        "id": "V9qqme4YYhrW",
        "colab_type": "code",
        "colab": {}
      },
      "source": [
        "# Define paramter range\n",
        "t = np.linspace(0, 4*np.pi, 100)\n",
        "\n",
        "# Define the curve\n",
        "x = t*np.cos(t)\n",
        "y = t*np.sin(t)\n",
        "z = t\n",
        "\n",
        "fig = plt.figure(6)\n",
        "ax = fig.gca(projection = '3d')\n",
        "ax.plot(x, y, z)\n",
        "plt.title('Parametric curve')\n",
        "plt.show()"
      ],
      "execution_count": 0,
      "outputs": []
    }
  ]
}