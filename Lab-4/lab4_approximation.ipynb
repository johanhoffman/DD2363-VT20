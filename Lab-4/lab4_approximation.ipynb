{
 "cells": [
  {
   "cell_type": "markdown",
   "source": [
    "[<img src=\"https://colab.research.google.com/assets/colab-badge.svg\">](https://colab.research.google.com/github/johanhoffman/DD2363-VT20/blob/tree/viktorme/Lab-4/lab4_approximation.ipynb)\n",
    "# Lab 4: Approximation #\n",
    "**Viktor Meyer - DD2363 Methods in Scientific Computing**"
   ],
   "metadata": {
    "collapsed": false
   }
  },
  {
   "cell_type": "markdown",
   "source": [
    "# **Abstract**\n",
    "This lab is an exercise in approximation methods. The mandatory part includes L2 projection to piece-wise linear approximation over mesh in 1D. There is also an extra assignment L2 projection to piece-wise linear approximation over triangular mesh in 2D."
   ],
   "metadata": {
    "collapsed": false
   }
  },
  {
   "cell_type": "markdown",
   "source": [
    "# **Environment**\n",
    "To have access to the neccessary modules you have to run this cell."
   ],
   "metadata": {
    "collapsed": false
   }
  },
  {
   "cell_type": "code",
   "execution_count": 208,
   "outputs": [],
   "source": [
    "# Load neccessary modules.\n",
    "\n",
    "import numpy as np\n",
    "import scipy.integrate as integrate\n",
    "import math\n",
    "\n",
    "from matplotlib import pyplot as plt"
   ],
   "metadata": {
    "collapsed": false,
    "pycharm": {
     "name": "#%%\n",
     "is_executing": false
    }
   }
  },
  {
   "cell_type": "markdown",
   "source": [
    "# **Introduction**\n",
    "The methods to be implemented were covered in the during lectures and definitions are available in the lecture notes. The aim of this lab is to approach the problem of solving systems of linear equations using approximation. This may be of use when e.g solutions do not exist and we seek a best possible solution or are constrained by computational work/memory footprint.  \n",
    "> LN-DD2363-part5.pdf, p. 161"
   ],
   "metadata": {
    "collapsed": false
   }
  },
  {
   "cell_type": "markdown",
   "source": [
    "# **Methods**"
   ],
   "metadata": {
    "collapsed": false
   }
  },
  {
   "cell_type": "markdown",
   "source": [
    "### L2 projection ###\n",
    "\n",
    "> LN-DD2363-part5.pdf, pp. 167-171"
   ],
   "metadata": {
    "collapsed": false
   }
  },
  {
   "cell_type": "code",
   "execution_count": 209,
   "outputs": [],
   "source": [
    "def l2(f, x):\n",
    "    \n",
    "    n = x.size\n",
    "    a = np.zeros(shape=(n,n))\n",
    "    b = np.zeros(n)\n",
    "    \n",
    "    for i in range(1, n):\n",
    "        \n",
    "        # build mass matrix\n",
    "        \n",
    "        h = x[i] - x[i - 1]\n",
    "        \n",
    "        # a_{i, i} = h_{i}/3\n",
    "        a[i, i] += h/3\n",
    "        \n",
    "        # a_{i, i} = h_{i+1}/3 \n",
    "        a[i - 1, i - 1] += h/3\n",
    "        \n",
    "        # a_{i, i+1} = h_{i+1}/6 \n",
    "        a[i - 1, i] += h/6\n",
    "        \n",
    "        # a_{i, i-1} = h_{i}/6 \n",
    "        a[i, i - 1] += h/6\n",
    "        \n",
    "        # build load vector\n",
    "        \n",
    "        l = x[i-1]\n",
    "        c = x[i]\n",
    "        r = x[i+1 if i+1 < n else i]\n",
    "        b[i] += integrate.quad(lambda x: (f(x)*((x-l)/h)), l, c)[0]\n",
    "        b[i] += integrate.quad(lambda x: (f(x)*((r-x)/h)), c, r)[0]\n",
    "    \n",
    "    return np.linalg.solve(a,b)"
   ],
   "metadata": {
    "collapsed": false,
    "pycharm": {
     "name": "#%%\n",
     "is_executing": false
    }
   }
  },
  {
   "cell_type": "markdown",
   "source": [
    "# **Results**\n",
    "\n",
    "### Convergence and Accuracy###\n",
    "We check that the error converges towards zero as the number of nodes increases. This test also ensures that accuracy is sufficient since we evaluate the real function value at each point and compare it to the approximation"
   ],
   "metadata": {
    "collapsed": false
   }
  },
  {
   "cell_type": "code",
   "execution_count": 210,
   "outputs": [
    {
     "data": {
      "text/plain": "<Figure size 432x288 with 1 Axes>",
      "image/png": "[encoded data removed]"
     },
     "metadata": {
      "needs_background": "light"
     },
     "output_type": "display_data"
    }
   ],
   "source": [
    "    f = lambda x : math.sin(x)\n",
    "    errs = np.array([])\n",
    "    steps = np.array([1/x for x in range(1, iterations)])\n",
    "    \n",
    "    for i in range(steps.size):\n",
    "\n",
    "      points = np.arange(0, 2*math.pi, steps[i])\n",
    "      apx = l2(f, points)\n",
    "      \n",
    "      err = 0\n",
    "      for j in range(points.size): err += apx[j]-f(points[j])\n",
    "      errs = np.append(errs, np.abs(err))\n",
    "\n",
    "    plt.plot(errs)\n",
    "    plt.xlabel(\"Steps\")\n",
    "    plt.ylabel(\"Error\")\n",
    "    plt.show()\n",
    "    "
   ],
   "metadata": {
    "collapsed": false,
    "pycharm": {
     "name": "#%%\n",
     "is_executing": false
    }
   }
  },
  {
   "cell_type": "markdown",
   "source": [
    "# **Discussion**\n",
    "\n",
    "This lab showed that approximation methods can yield tight solutions. With many iteration points the approximation error quickly approaches zero when compared to the actual function value."
   ],
   "metadata": {
    "collapsed": false
   }
  }
 ],
 "metadata": {
  "kernelspec": {
   "name": "python3",
   "language": "python",
   "display_name": "Python 3"
  },
  "language_info": {
   "codemirror_mode": {
    "name": "ipython",
    "version": 2
   },
   "file_extension": ".py",
   "mimetype": "text/x-python",
   "name": "python",
   "nbconvert_exporter": "python",
   "pygments_lexer": "ipython2",
   "version": "2.7.6"
  },
  "pycharm": {
   "stem_cell": {
    "cell_type": "raw",
    "source": [],
    "metadata": {
     "collapsed": false
    }
   }
  }
 },
 "nbformat": 4,
 "nbformat_minor": 0
}