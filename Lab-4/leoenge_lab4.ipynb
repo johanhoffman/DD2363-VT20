{
  "nbformat": 4,
  "nbformat_minor": 0,
  "metadata": {
    "colab": {
      "name": "leoenge_lab4.ipynb",
      "provenance": [],
      "collapsed_sections": [],
      "toc_visible": true,
      "include_colab_link": true
    },
    "kernelspec": {
      "name": "python3",
      "display_name": "Python 3"
    }
  },
  "cells": [
    {
      "cell_type": "markdown",
      "metadata": {
        "id": "view-in-github",
        "colab_type": "text"
      },
      "source": [
        "<a href=\"https://colab.research.google.com/github/johanhoffman/DD2363-VT20/blob/leoenge/Lab-4/leoenge_lab4.ipynb\" target=\"_parent\"><img src=\"https://colab.research.google.com/assets/colab-badge.svg\" alt=\"Open In Colab\"/></a>"
      ]
    },
    {
      "cell_type": "markdown",
      "metadata": {
        "id": "6RgtXlfYO_i7",
        "colab_type": "text"
      },
      "source": [
        "# **Lab 4: Function Approximation**\n",
        "**Leo Enge**"
      ]
    },
    {
      "cell_type": "markdown",
      "metadata": {
        "id": "9x_J5FVuPzbm",
        "colab_type": "text"
      },
      "source": [
        "# **Abstract**"
      ]
    },
    {
      "cell_type": "markdown",
      "metadata": {
        "id": "c2pbwgO9Apho",
        "colab_type": "text"
      },
      "source": [
        "The purpose of this lab is to do function approximations by linear lagrange functions in both one dimension and two dimensions over finite space meshes. The algoritms worked well and the error of the approximations decresed as the number of mesh points was increased."
      ]
    },
    {
      "cell_type": "markdown",
      "metadata": {
        "id": "OkT8J7uOWpT3",
        "colab_type": "text"
      },
      "source": [
        "#**About the code**"
      ]
    },
    {
      "cell_type": "markdown",
      "metadata": {
        "id": "HmB2noTr1Oyo",
        "colab_type": "text"
      },
      "source": [
        "A short statement on who is the author of the file, and if the code is distributed under a certain license. "
      ]
    },
    {
      "cell_type": "code",
      "metadata": {
        "id": "Pdll1Xc9WP0e",
        "colab_type": "code",
        "outputId": "d34b5416-98db-4268-ce64-66cda812fe7f",
        "colab": {
          "base_uri": "https://localhost:8080/",
          "height": 34
        }
      },
      "source": [
        "\"\"\"This program is a template for lab reports in the course\"\"\"\n",
        "\"\"\"DD2363 Methods in Scientific Computing, \"\"\"\n",
        "\"\"\"KTH Royal Institute of Technology, Stockholm, Sweden.\"\"\"\n",
        "\n",
        "# Copyright (C) 2019 Leo Enge (leoe@kth.se)\n",
        "\n",
        "# This file is part of the course DD2363 Methods in Scientific Computing\n",
        "# KTH Royal Institute of Technology, Stockholm, Sweden\n",
        "#\n",
        "# This is free software: you can redistribute it and/or modify\n",
        "# it under the terms of the GNU Lesser General Public License as published by\n",
        "# the Free Software Foundation, either version 3 of the License, or\n",
        "# (at your option) any later version.\n"
      ],
      "execution_count": 1,
      "outputs": [
        {
          "output_type": "execute_result",
          "data": {
            "text/plain": [
              "'KTH Royal Institute of Technology, Stockholm, Sweden.'"
            ]
          },
          "metadata": {
            "tags": []
          },
          "execution_count": 1
        }
      ]
    },
    {
      "cell_type": "markdown",
      "metadata": {
        "id": "28xLGz8JX3Hh",
        "colab_type": "text"
      },
      "source": [
        "# **Set up environment**"
      ]
    },
    {
      "cell_type": "code",
      "metadata": {
        "id": "Xw7VlErAX7NS",
        "colab_type": "code",
        "colab": {}
      },
      "source": [
        "# Load neccessary modules.\n",
        "from google.colab import files\n",
        "\n",
        "import time\n",
        "import numpy as np\n",
        "\n",
        "from matplotlib import pyplot as plt\n",
        "from matplotlib import tri\n",
        "from matplotlib import axes\n",
        "from mpl_toolkits.mplot3d import Axes3D\n",
        "from scipy.integrate import quad, dblquad"
      ],
      "execution_count": 0,
      "outputs": []
    },
    {
      "cell_type": "markdown",
      "metadata": {
        "id": "gnO3lhAigLev",
        "colab_type": "text"
      },
      "source": [
        "# **Introduction**"
      ]
    },
    {
      "cell_type": "markdown",
      "metadata": {
        "id": "l5zMzgPlRAF6",
        "colab_type": "text"
      },
      "source": [
        "In this lab we calculate function approximations by linear lagrange functions on finite space meshes.\n"
      ]
    },
    {
      "cell_type": "markdown",
      "metadata": {
        "id": "WeFO9QMeUOAu",
        "colab_type": "text"
      },
      "source": [
        "# **Methods**"
      ]
    },
    {
      "cell_type": "markdown",
      "metadata": {
        "id": "wr3dkMtNdMm8",
        "colab_type": "text"
      },
      "source": [
        "## L2 projection in 1D\n",
        "We will do the L2 projection on the global basis of hat functions to enforce continouity. \n",
        "\n",
        "For every node $x_i$ in the mesh, there will be exactly one such global basis function $\\phi_i$ which is $1$ in that node. This function will also be zero in all other nodes. We therefore index the functions in such a way that\n",
        "\\begin{equation}\n",
        "\\phi_i(x_i) = 1\n",
        "\\end{equation}\n",
        "We do not use any local basis function since there is only \"one basis function per node\". We iterate over theses basis functions and calculate the appropriate inner products to populate the matrix $A = (a_{ij})$, where $a_{ij} = (\\phi_j,\\phi_i)$ and the vector $b$, where $b_i = (f, \\phi_i)$\n",
        "\n",
        "The inner products $(\\phi_i, \\phi_j)$ is calculated by the rules\n",
        "\\begin{align}\n",
        "(\\phi_i, \\phi_i) &= \\frac{x_i - x_{i-1}}{3} + \\frac{x_{i+1} - x_{i}}{3}\\\\\n",
        "(\\phi_i, \\phi_{i+1}) &= \\frac{x_{i+1} - x_{i}}{3}\n",
        "\\end{align}\n",
        "and $(\\phi_i, \\phi_j) = 0$ if $|i-j|>1$.\n",
        "\n",
        "After we have iterated over all the basis functions and have populated the matrix $A$ and the vector $b$, we then solve the system $A\\alpha = b$ and return $\\alpha$.\n",
        "\n",
        "Note that $\\alpha$ will be the values of the function approximation in each of the mesh nodes."
      ]
    },
    {
      "cell_type": "code",
      "metadata": {
        "id": "wOkwnObJT0o7",
        "colab_type": "code",
        "colab": {}
      },
      "source": [
        "def l2_projection_1d(f, mesh):\n",
        "  n = mesh.size\n",
        "  A = np.zeros((n, n))\n",
        "  b = np.zeros(n)\n",
        "\n",
        "  intervals = mesh[1:]-mesh[:-1]\n",
        "  A[0,0] = intervals[0]/3\n",
        "  A[0,1] = intervals[0]/6\n",
        "  A[n-1,n-1] = intervals[n-2]/3\n",
        "  A[n-1,n-2] = intervals[n-2]/6\n",
        "  b[0] = quad(lambda x: f(x)*(mesh[1]-x)/intervals[0], mesh[0], mesh[1])[0]\n",
        "  b[n-1] = quad(lambda x: f(x)*(x-mesh[n-2])/intervals[n-2], mesh[n-2], mesh[n-1])[0]\n",
        "  for i in range(1, n-1):\n",
        "    A[i,i] = (intervals[i-1] + intervals[i])/3\n",
        "    A[i,i+1] = intervals[i]/6\n",
        "    A[i,i-1] = intervals[i-1]/6\n",
        "    b[i] += quad(lambda x: f(x)*(x-mesh[i-1])/intervals[i-1], mesh[i-1], mesh[i])[0]\n",
        "    b[i] += quad(lambda x: f(x)*(mesh[i+1]-x)/intervals[i], mesh[i], mesh[i+1])[0]\n",
        "  return np.linalg.solve(A,b)"
      ],
      "execution_count": 0,
      "outputs": []
    },
    {
      "cell_type": "markdown",
      "metadata": {
        "id": "qGS2xQRTdQzu",
        "colab_type": "text"
      },
      "source": [
        "### Test 1D\n",
        "We test the L2 approximation for a set of different functions and mesh sizes. We then calculate a vector of the error of the function approximation compare to the real function in each of the mesh nodes. This is calculated as \n",
        "\\begin{equation}\n",
        "error = alpha - f(mesh).\n",
        "\\end{equation}\n",
        "\n",
        "We would now like a measure on how large this error is, but using the norm of the error vector will not be very good as we increase the mesh size since the length of the error vector will also increase, even thoug the general error hopefully decreases. \n",
        "\n",
        "We instead use the measure \"norm per element\" which is just $\\|v\\|/n$, where $n$ is the length of the vector."
      ]
    },
    {
      "cell_type": "code",
      "metadata": {
        "id": "0aAJtiXyMxZ7",
        "colab_type": "code",
        "colab": {}
      },
      "source": [
        "def test_1d():\n",
        "  print('==== Test of the \\\"norm per element\\\" for some functions ====')\n",
        "  functions = [[\"f(x) = x^2\",lambda x: x**2], [\"f(x) = x^3\", lambda x: x**3], [\"f(x) = sin(x)\", lambda x: np.sin(2*np.pi*x)]]\n",
        "  for f_name,f in functions:\n",
        "    print('\\n======= NEW FUNCTION =======\\n')\n",
        "    print(f_name)\n",
        "    for mesh_size in [10, 20, 50, 100, 1000]:\n",
        "      print('====')\n",
        "      print('mesh_size = ' + str(mesh_size))\n",
        "      mesh = np.linspace(0,5, num=mesh_size)\n",
        "      alpha = l2_projection_1d(f, mesh)\n",
        "      error = alpha-f(mesh)\n",
        "      print('error norm per element = ' + str(norm_per_element(error)))\n",
        "\n",
        "  print('\\n\\n==== Example for the function f(x) = sin(x) and the mesh size 20\\n')\n",
        "  mesh = np.linspace(0,5, num=20)\n",
        "  alpha = l2_projection_1d(lambda x: np.sin(x), mesh) \n",
        "  error = alpha - np.sin(mesh)\n",
        "  print(\"The error P_Nf(x)-f(x) in the mesh-points:\")\n",
        "  print(error)\n",
        "  print('\\n\\n')\n",
        "  x = np.linspace(0,5, num=1000)\n",
        "  plt.plot(x, np.sin(x))\n",
        "  plt.plot(mesh, alpha, '*')\n",
        "  plt.title('Plot of projected function in mesh points against the real function.')\n",
        "\n",
        "def norm_per_element(vector):\n",
        "  return np.linalg.norm(vector)/vector.size"
      ],
      "execution_count": 0,
      "outputs": []
    },
    {
      "cell_type": "markdown",
      "metadata": {
        "id": "_cVFQPwOdTG0",
        "colab_type": "text"
      },
      "source": [
        "## L2 projection in 2D\n",
        "For the L2 projection we need a couple of subroutines."
      ]
    },
    {
      "cell_type": "markdown",
      "metadata": {
        "id": "2h0hZDpadUz2",
        "colab_type": "text"
      },
      "source": [
        "### Lagrange polynomials\n",
        "We define a function which is the $i$-th linear Lagrange polynomial on the mesh-triangle defined by the three points $p_0, p_1$ and $ p_2$. This function returns the value of the lagrange function evaluated at the point $p$ in the mesh-triangle."
      ]
    },
    {
      "cell_type": "code",
      "metadata": {
        "id": "4TSyTBOgdKcv",
        "colab_type": "code",
        "colab": {}
      },
      "source": [
        "def lagrange_2d(i, p, p0, p1, p2):\n",
        "  if i == 0:\n",
        "    return ((p1[1]-p2[1])*(p[0]-p2[0]) + (p2[0]-p1[0])*(p[1]-p2[1]))/((p1[1]-p2[1])*(p0[0]-p2[0]) + (p2[0]-p1[0])*(p0[1]-p2[1]))\n",
        "  elif i == 1:\n",
        "    return ((p2[1]-p0[1])*(p[0]-p2[0]) + (p0[0]-p2[0])*(p[1]-p2[1]))/((p1[1]-p2[1])*(p0[0]-p2[0]) + (p2[0]-p1[0])*(p0[1]-p2[1]))\n",
        "  elif i == 2:\n",
        "    return 1 - lagrange_2d(0, p, p0, p1, p2) - lagrange_2d(1, p, p0, p1, p2)"
      ],
      "execution_count": 0,
      "outputs": []
    },
    {
      "cell_type": "markdown",
      "metadata": {
        "id": "F4yi2nUrz1ww",
        "colab_type": "text"
      },
      "source": [
        "### Integrate over an arbitrary triangle\n",
        "We define a function which integrates a function $f(x,y)$ over the integral defined by the points $p_0, p_1$ and $ p_2$. This is done by making a change of variables suggested by the user _Christian Blatter_ on StackOverflow (url: https://math.stackexchange.com/questions/954409/double-integral-over-an-arbitrary-triangle)"
      ]
    },
    {
      "cell_type": "code",
      "metadata": {
        "id": "X_UeEcK1bKzG",
        "colab_type": "code",
        "colab": {}
      },
      "source": [
        "def integrate_triangle(f, p0, p1, p2):\n",
        "  g1 = lambda u,v: p0[0] + u*(p1[0] - p0[0]) + v*(p2[0] - p0[0])\n",
        "  g2 = lambda u,v: p0[1] + u*(p1[1] - p0[1]) + v*(p2[1] - p0[1]) \n",
        "  detJ = (p1[0] - p0[0])*(p2[1] - p0[1]) - (p2[0] - p0[0])*(p1[1] - p0[1])\n",
        "  return dblquad(lambda u,v: f(g1(u,v), g2(u,v)), 0, 1, lambda x: 0, lambda x: 1-x)[0]"
      ],
      "execution_count": 0,
      "outputs": []
    },
    {
      "cell_type": "markdown",
      "metadata": {
        "id": "sCF8cCIjypUj",
        "colab_type": "text"
      },
      "source": [
        "### The L2 projection algorithm\n",
        "Just as in the 1D-case, there will be one basis function $\\phi_i$ which is $1$ in each of the vertices $x_i$ of the mesh. So we can index the basis functions by which node it is $1$ in. I.e. we set the indicies of the basis functions such that\n",
        "\\begin{equation}\n",
        "\\phi_i(x_i) = 1.\n",
        "\\end{equation}\n",
        "We will then also have that $\\phi_i(x_j) = 0$ for all $j \\neq i$. This index $i$ is the global index of the basis functions.\n",
        "\n",
        "On each mesh there is three linear lagrange-functions $\\lambda_0, \\lambda_1$ and $\\lambda_2$, which each is a part of some global basis function $\\phi_i$.\n",
        "\n",
        "In the algorithm we iterate over all the triangles in the mesh and calculate all the inner products $(\\lambda_i, \\lambda_j)$ for the local $i,j = 0,1,2$ and then add it to the entry of the corresponding inner product in the matrix $A = (a_{lk})$, where $a_{lk} = (\\phi_k, \\phi_l)$, where $l$ and $k$ here are the global indicies. \n",
        "\n",
        "In the same way the inner product $(f,\\lambda_i)$ is also calculate on each mesh triangle and added to the right entry of the vector $b$, where $b_k = (f,\\phi_k)$.\n",
        "\n",
        "When we have iterated over all the triangles in the mesh, we solve the system $A\\alpha = b$, where we return the vector $\\alpha$, which is also the value of the approximation in every vertex in the mesh. "
      ]
    },
    {
      "cell_type": "code",
      "metadata": {
        "id": "M209tEE2fiTY",
        "colab_type": "code",
        "colab": {}
      },
      "source": [
        "def l2_projection_2d(f, mesh):\n",
        "  n = mesh.x.size\n",
        "  b = np.zeros(n)\n",
        "  A = np.zeros((n,n))\n",
        "\n",
        "  for triangle in mesh.triangles:\n",
        "    global_indicies = triangle\n",
        "    p0 = np.array([mesh.x[triangle[0]],mesh.y[triangle[0]]])\n",
        "    p1 = np.array([mesh.x[triangle[1]],mesh.y[triangle[1]]])\n",
        "    p2 = np.array([mesh.x[triangle[2]],mesh.y[triangle[2]]])\n",
        "    for i in range(3):\n",
        "      b[global_indicies[i]] += integrate_triangle(lambda x,y: f(x,y)*lagrange_2d(i, [x,y], p0, p1, p2), p0, p1, p2)   \n",
        "      for j in range(i,3):\n",
        "        inner_product = integrate_triangle(lambda x,y: lagrange_2d(i, [x,y], p0, p1, p2)*lagrange_2d(j, [x,y], p0, p1, p2), p0, p1, p2)\n",
        "        A[global_indicies[i],global_indicies[j]] += inner_product\n",
        "        if i==j: \n",
        "          continue\n",
        "        A[global_indicies[j],global_indicies[i]] += inner_product\n",
        "  return np.linalg.solve(A,b)"
      ],
      "execution_count": 0,
      "outputs": []
    },
    {
      "cell_type": "markdown",
      "metadata": {
        "id": "boZ9LvktVU5Y",
        "colab_type": "text"
      },
      "source": [
        "### Test 2D\n",
        "We begin by defining a function which returns a mesh of the given size.\n",
        "\n",
        "The approximation is then tested for a set of different functions and sizes of meshes, and just in the 1D-case the \"norm per element\" of the error $\\alpha-f(mesh)$ is calculated."
      ]
    },
    {
      "cell_type": "code",
      "metadata": {
        "id": "ligN60QqviT6",
        "colab_type": "code",
        "colab": {}
      },
      "source": [
        "def get_mesh(size, x_length = 5, y_length = 5):\n",
        "  Nx = size\n",
        "  Ny = size\n",
        "  hx = x_length/(Nx-1)\n",
        "  hy = y_length/(Ny-1)\n",
        "  x = np.zeros((Nx*Ny))\n",
        "  y = np.zeros((Nx*Ny))\n",
        "  for i in range(Nx):\n",
        "    for j in range(Ny):\n",
        "      x[i*Ny + j] = i*hx\n",
        "      y[i*Ny + j] = j*hy\n",
        "  return tri.Triangulation( x, y )"
      ],
      "execution_count": 0,
      "outputs": []
    },
    {
      "cell_type": "code",
      "metadata": {
        "id": "ibx8nto8VX8t",
        "colab_type": "code",
        "colab": {}
      },
      "source": [
        "def test_2d():\n",
        "  print('==== Test of the \\\"norm per element\\\" for some functions ====')\n",
        "\n",
        "  functions = [['f(x,y) = x^2 + y', lambda x,y: x**2 + y],\n",
        "               ['f(x,y) = x^3 + xy + y^2', lambda x,y: x**3 + x*y + y**2],\n",
        "               ['f(x,y) = sin(x + y)', lambda x,y: np.sin(x+y)]]\n",
        "  \n",
        "  for f_name,f in functions:\n",
        "    print('\\n======= NEW FUNCTION =======\\n')\n",
        "    print(f_name)\n",
        "    for mesh_side_size in [5, 7, 10]:\n",
        "      print('====')\n",
        "      print('mesh_size is approximately ' + str(mesh_side_size) + 'x' + str(mesh_side_size))\n",
        "      mesh = get_mesh(mesh_side_size, x_length=2, y_length=2)\n",
        "      alpha = l2_projection_2d(f, mesh)\n",
        "      error = alpha - f(mesh.x, mesh.y)\n",
        "      print('error norm per element = ' + str(norm_per_element(error)))\n",
        "\n",
        "  print('\\n\\n==== Example for the function f(x,y) = sin(x+y) and the mesh size 10x10\\n')\n",
        "  f = lambda x,y: np.sin(x+y)\n",
        "  size = 10\n",
        "  mesh = get_mesh(size, x_length=5, y_length=5)\n",
        "  alpha = l2_projection_2d(f, mesh)\n",
        "  z = f(mesh.x, mesh.y)\n",
        "  error = alpha - z\n",
        "  print(\"The error P_Nf(x,y)-f(x,y) in the mesh-points:\")\n",
        "  print(error)\n",
        "  print('\\n\\n')\n",
        "  fig = plt.figure()\n",
        "  ax = plt.axes(projection='3d')\n",
        "  ax.plot_surface(mesh.x.reshape((size,size)), mesh.y.reshape((size,size)), alpha.reshape((size,size)))\n"
      ],
      "execution_count": 0,
      "outputs": []
    },
    {
      "cell_type": "markdown",
      "metadata": {
        "id": "SsQLT38gVbn_",
        "colab_type": "text"
      },
      "source": [
        "# **Results**"
      ]
    },
    {
      "cell_type": "markdown",
      "metadata": {
        "id": "cKZVgSa0ySrA",
        "colab_type": "text"
      },
      "source": [
        "### Results of tests in 1D"
      ]
    },
    {
      "cell_type": "code",
      "metadata": {
        "id": "gdpz7OjOyXTe",
        "colab_type": "code",
        "colab": {
          "base_uri": "https://localhost:8080/",
          "height": 1000
        },
        "outputId": "51f13845-b6a5-4182-97cf-259378b49373"
      },
      "source": [
        "test_1d()"
      ],
      "execution_count": 10,
      "outputs": [
        {
          "output_type": "stream",
          "text": [
            "==== Test of the \"norm per element\" for some functions ====\n",
            "\n",
            "======= NEW FUNCTION =======\n",
            "\n",
            "f(x) = x^2\n",
            "====\n",
            "mesh_size = 10\n",
            "error norm per element = 0.01626686039181261\n",
            "====\n",
            "mesh_size = 20\n",
            "error norm per element = 0.0025808725502074656\n",
            "====\n",
            "mesh_size = 50\n",
            "error norm per element = 0.0002454209291914602\n",
            "====\n",
            "mesh_size = 100\n",
            "error norm per element = 4.2512668775188375e-05\n",
            "====\n",
            "mesh_size = 1000\n",
            "error norm per element = 1.320254881449968e-07\n",
            "\n",
            "======= NEW FUNCTION =======\n",
            "\n",
            "f(x) = x^3\n",
            "====\n",
            "mesh_size = 10\n",
            "error norm per element = 0.1438905928910207\n",
            "====\n",
            "mesh_size = 20\n",
            "error norm per element = 0.0226112686650983\n",
            "====\n",
            "mesh_size = 50\n",
            "error norm per element = 0.002135751284619734\n",
            "====\n",
            "mesh_size = 100\n",
            "error norm per element = 0.0003690787721989608\n",
            "====\n",
            "mesh_size = 1000\n",
            "error norm per element = 1.1436597353622757e-06\n",
            "\n",
            "======= NEW FUNCTION =======\n",
            "\n",
            "f(x) = sin(x)\n",
            "====\n",
            "mesh_size = 10\n",
            "error norm per element = 0.18507125036445352\n",
            "====\n",
            "mesh_size = 20\n",
            "error norm per element = 0.03688058948179424\n",
            "====\n",
            "mesh_size = 50\n",
            "error norm per element = 0.003434426681500272\n",
            "====\n",
            "mesh_size = 100\n",
            "error norm per element = 0.000592344014858396\n",
            "====\n",
            "mesh_size = 1000\n",
            "error norm per element = 1.8419149253004736e-06\n",
            "\n",
            "\n",
            "==== Example for the function f(x) = sin(x) and the mesh size 20\n",
            "\n",
            "The error P_Nf(x)-f(x) in the mesh-points:\n",
            "[ 3.53628647e-04  1.40990411e-03  2.93110585e-03  4.09990293e-03\n",
            "  5.02675797e-03  5.59669216e-03  5.78417238e-03  5.57261672e-03\n",
            "  4.97757583e-03  4.03975616e-03  2.82380184e-03  1.41341108e-03\n",
            " -9.42808860e-05 -1.59554058e-03 -2.98672170e-03 -4.17307883e-03\n",
            " -5.06903864e-03 -5.62742395e-03 -5.75562611e-03 -5.64695314e-03]\n",
            "\n",
            "\n",
            "\n"
          ],
          "name": "stdout"
        },
        {
          "output_type": "display_data",
          "data": {
            "image/png": "[encoded data removed]",
            "text/plain": [
              "<Figure size 432x288 with 1 Axes>"
            ]
          },
          "metadata": {
            "tags": []
          }
        }
      ]
    },
    {
      "cell_type": "markdown",
      "metadata": {
        "id": "eQnswMTt-kyq",
        "colab_type": "text"
      },
      "source": [
        "We get a rather small error for all the functions and we see that it decreses as the mesh size is increased.\n",
        "\n",
        "We also get a plot which look much like the expected function."
      ]
    },
    {
      "cell_type": "markdown",
      "metadata": {
        "id": "xFz-5SaZyZfI",
        "colab_type": "text"
      },
      "source": [
        "### Results of tests in 2D"
      ]
    },
    {
      "cell_type": "code",
      "metadata": {
        "id": "03Hz_LZ6ycM4",
        "colab_type": "code",
        "colab": {
          "base_uri": "https://localhost:8080/",
          "height": 1000
        },
        "outputId": "90e28917-46ef-475e-d3ec-772f0a2b05ec"
      },
      "source": [
        "test_2d()"
      ],
      "execution_count": 11,
      "outputs": [
        {
          "output_type": "stream",
          "text": [
            "==== Test of the \"norm per element\" for some functions ====\n",
            "\n",
            "======= NEW FUNCTION =======\n",
            "\n",
            "f(x,y) = x^2 + y\n",
            "====\n",
            "mesh_size is approximately 5x5\n",
            "error norm per element = 0.007810249675906673\n",
            "====\n",
            "mesh_size is approximately 7x7\n",
            "error norm per element = 0.002563980182686478\n",
            "====\n",
            "mesh_size is approximately 10x10\n",
            "error norm per element = 0.0007916120274019351\n",
            "\n",
            "======= NEW FUNCTION =======\n",
            "\n",
            "f(x,y) = x^3 + xy + y^2\n",
            "====\n",
            "mesh_size is approximately 5x5\n",
            "error norm per element = 0.03479454886181854\n",
            "====\n",
            "mesh_size is approximately 7x7\n",
            "error norm per element = 0.011630927724760818\n",
            "====\n",
            "mesh_size is approximately 10x10\n",
            "error norm per element = 0.0034658783104276076\n",
            "\n",
            "======= NEW FUNCTION =======\n",
            "\n",
            "f(x,y) = sin(x + y)\n",
            "====\n",
            "mesh_size is approximately 5x5\n",
            "error norm per element = 0.0063549060710927615\n",
            "====\n",
            "mesh_size is approximately 7x7\n",
            "error norm per element = 0.002096186140137837\n",
            "====\n",
            "mesh_size is approximately 10x10\n",
            "error norm per element = 0.000587314446397491\n",
            "\n",
            "\n",
            "==== Example for the function f(x,y) = sin(x+y) and the mesh size 10x10\n",
            "\n",
            "The error P_Nf(x,y)-f(x,y) in the mesh-points:\n",
            "[-3.31846251e-02  4.83989374e-02  4.15839004e-02  5.28337804e-03\n",
            "  3.39039568e-02  1.63165970e-02 -3.85000766e-02 -2.01227740e-02\n",
            " -6.26863240e-02 -5.21177160e-02  5.15764298e-02  2.75087811e-02\n",
            "  5.75786753e-02  3.45818254e-02  5.12651422e-03  1.75439025e-02\n",
            " -4.70262063e-02 -4.29288770e-02 -1.37160466e-02 -6.27484313e-02\n",
            "  3.23238798e-02  5.26762084e-02  3.96680977e-02  4.13246218e-02\n",
            "  5.23886914e-03 -4.12178563e-02 -3.62592397e-02 -5.90481042e-02\n",
            " -1.73116238e-02  1.41056108e-03  4.89509019e-02  4.05474014e-02\n",
            "  3.20913185e-02 -1.70010853e-03 -3.56818679e-02 -4.01427472e-02\n",
            " -5.22815315e-02 -1.91782856e-02 -2.30188509e-02 -2.57020860e-03\n",
            "  3.37585940e-02  3.85120374e-02  5.34373119e-03 -3.85740446e-02\n",
            " -4.07165101e-02 -5.48584130e-02 -2.85279679e-02 -2.66206292e-02\n",
            "  2.72233612e-02  3.24685557e-02  2.79628537e-03 -3.13810844e-02\n",
            " -3.93916718e-02 -7.19473998e-02 -5.26302914e-02 -7.83079322e-03\n",
            " -2.74264824e-02  1.98884543e-02  5.12850123e-02  8.67904113e-02\n",
            " -5.05767124e-02 -2.44116843e-02 -4.04325516e-02 -6.92261088e-02\n",
            " -4.41015938e-02  8.66106419e-04 -5.97088170e-04  4.02132374e-02\n",
            "  8.78730127e-02  7.95499819e-02 -1.33932332e-02 -5.27129698e-02\n",
            " -3.89539648e-02 -2.30987737e-02 -1.09766431e-02  3.50383158e-02\n",
            "  4.57837120e-02  7.18460458e-02  6.69518824e-02  2.89034991e-02\n",
            " -5.79596658e-02 -3.30923714e-02 -4.76538110e-02 -2.61304468e-02\n",
            "  4.10550054e-02  4.41137881e-02  5.08298827e-02  6.09927776e-02\n",
            "  2.28528465e-02 -6.65656995e-03 -5.98614978e-02 -5.19875260e-02\n",
            "  1.30508081e-02  7.92272428e-04  3.31727383e-02  5.29479112e-02\n",
            " -7.45116549e-05  2.06817777e-03  5.22603902e-05 -2.14109024e-02]\n",
            "\n",
            "\n",
            "\n"
          ],
          "name": "stdout"
        },
        {
          "output_type": "display_data",
          "data": {
            "image/png": "[encoded data removed]",
            "text/plain": [
              "<Figure size 432x288 with 1 Axes>"
            ]
          },
          "metadata": {
            "tags": []
          }
        }
      ]
    },
    {
      "cell_type": "markdown",
      "metadata": {
        "id": "WlnB_X7b-2V8",
        "colab_type": "text"
      },
      "source": [
        "The errors behave just as in 1D and the so does the plot."
      ]
    },
    {
      "cell_type": "markdown",
      "metadata": {
        "id": "_4GLBv0zWr7m",
        "colab_type": "text"
      },
      "source": [
        "# **Discussion**"
      ]
    },
    {
      "cell_type": "markdown",
      "metadata": {
        "id": "6bcsDSoRXHZe",
        "colab_type": "text"
      },
      "source": [
        "Just as expected the errors of the function approximations in both 1D and 2D decreased when the mesh size increased. This is intuitive since it will be easier to fit linear \"bits\" to a non-linear function if we have more of these bits to use.\n",
        "\n",
        "The algorithms implemented use was not always the quickest and best. In cases it could be possible to calculate some values ahead analytically, insted of calculating them numerically. The implementations used gave good and realiable results, in comparison to some alternative methods tried and where therfore favored."
      ]
    }
  ]
}