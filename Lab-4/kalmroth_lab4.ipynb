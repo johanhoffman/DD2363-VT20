{
  "nbformat": 4,
  "nbformat_minor": 0,
  "metadata": {
    "colab": {
      "name": "kalmroth_lab4.ipynb",
      "provenance": [],
      "collapsed_sections": []
    },
    "kernelspec": {
      "name": "python3",
      "display_name": "Python 3"
    }
  },
  "cells": [
    {
      "cell_type": "markdown",
      "metadata": {
        "id": "6RgtXlfYO_i7",
        "colab_type": "text"
      },
      "source": [
        "# **Lab 4: Function approximation**\n",
        "**Kristoffer Almroth**"
      ]
    },
    {
      "cell_type": "markdown",
      "metadata": {
        "id": "9x_J5FVuPzbm",
        "colab_type": "text"
      },
      "source": [
        "# **Abstract**"
      ]
    },
    {
      "cell_type": "markdown",
      "metadata": {
        "id": "6UFTSzW7P8kL",
        "colab_type": "text"
      },
      "source": [
        "Fourth lab in the course DD2363 Methods in Scientific Computing. This lab is about function approximations."
      ]
    },
    {
      "cell_type": "markdown",
      "metadata": {
        "id": "28xLGz8JX3Hh",
        "colab_type": "text"
      },
      "source": [
        "# **Set up environment**"
      ]
    },
    {
      "cell_type": "markdown",
      "metadata": {
        "id": "D2PYNusD08Wa",
        "colab_type": "text"
      },
      "source": [
        "Dependencies needed for running the code."
      ]
    },
    {
      "cell_type": "code",
      "metadata": {
        "id": "Xw7VlErAX7NS",
        "colab_type": "code",
        "colab": {}
      },
      "source": [
        "# Load neccessary modules.\n",
        "from google.colab import files\n",
        "\n",
        "import time\n",
        "import numpy as np\n",
        "import sympy as sp\n",
        "from sympy import *\n",
        "import random\n",
        "\n",
        "from matplotlib import pyplot as plt\n",
        "from matplotlib import tri\n",
        "from matplotlib import axes\n",
        "from mpl_toolkits.mplot3d import Axes3D\n",
        "\n",
        "import unittest"
      ],
      "execution_count": 0,
      "outputs": []
    },
    {
      "cell_type": "markdown",
      "metadata": {
        "id": "gnO3lhAigLev",
        "colab_type": "text"
      },
      "source": [
        "# **Introduction**"
      ]
    },
    {
      "cell_type": "markdown",
      "metadata": {
        "id": "l5zMzgPlRAF6",
        "colab_type": "text"
      },
      "source": [
        "Function approximations is an important tool. Here we make an $L_2$ projection onto the the function space $V_{h}^{1}$ where $V_{h}^{1}$ is an continuous piecewise polynomial space given by \n",
        "\n",
        "$P_hf(x) = \\sum_{j=0}^{m+1} \\alpha_j \\phi_j (x)$\n",
        "\n",
        "We want to solve the equation $Ax=b$ where \n",
        "\n",
        "$a_{ij} = (\\phi_j, \\phi_i)$\n",
        "\n",
        "$b_i=(f, \\phi_i)$"
      ]
    },
    {
      "cell_type": "markdown",
      "metadata": {
        "id": "WeFO9QMeUOAu",
        "colab_type": "text"
      },
      "source": [
        "# **Methods**"
      ]
    },
    {
      "cell_type": "markdown",
      "metadata": {
        "colab_type": "text",
        "id": "bZiDf6IGjagD"
      },
      "source": [
        "### L2 projection to pw linear approximation over mesh in 1D\n",
        "\n",
        "The A matrix is sparse and can be calculated through the following formulas:\n",
        "\n",
        "$a_{i \\space i} = \\frac{h_i}{3}+\\frac{h_{i+1}}{3}$\n",
        "\n",
        "$a_{i \\space i+1} = \\frac{h_{i+1}}{6}$\n",
        "\n",
        "$a_{i \\space i-1} = \\frac{h_i}{6}$\n",
        "\n",
        "The b vector:\n",
        "\n",
        "$b_i = f(x_i)(\\frac{h_i}{2} + \\frac{h_{i+1}}{2})$\n"
      ]
    },
    {
      "cell_type": "code",
      "metadata": {
        "colab_type": "code",
        "id": "aAsmTy8SjxOM",
        "colab": {}
      },
      "source": [
        "def L2projection(f, x):\n",
        "\n",
        "  n = x.size\n",
        "  A = np.zeros(shape=(n,n))\n",
        "  b = np.zeros(n)\n",
        "\n",
        "  # A matrix\n",
        "  for i in range(0, n):\n",
        "\n",
        "    if i > 0:\n",
        "      h_i = x[i]-x[i-1]\n",
        "      A[i,i] += h_i/3\n",
        "      A[i,i-1] = h_i/6\n",
        "\n",
        "    if i < n-1: \n",
        "      h_i1 = x[i+1]-x[i]\n",
        "      A[i,i] += h_i1/3\n",
        "      A[i,i+1] = h_i1/6\n",
        "\n",
        "  # b vector\n",
        "  for i in range(0, n):\n",
        "    if i > 0:\n",
        "      h_i = x[i] - x[i-1]\n",
        "      b[i] += f(x[i])*h_i/2\n",
        "    if i < n-1:\n",
        "      h_i1 = x[i+1] - x[i]\n",
        "      b[i] += f(x[i])*h_i1/2\n",
        "  \n",
        "  # Solve the equation\n",
        "  return np.linalg.solve(A,b)"
      ],
      "execution_count": 0,
      "outputs": []
    },
    {
      "cell_type": "markdown",
      "metadata": {
        "id": "SsQLT38gVbn_",
        "colab_type": "text"
      },
      "source": [
        "# **Results**"
      ]
    },
    {
      "cell_type": "markdown",
      "metadata": {
        "id": "RLwlnOzuV-Cd",
        "colab_type": "text"
      },
      "source": [
        "The function is tested by inputting a sequence of points with decreasing interval length and checking that the error converges towards 0."
      ]
    },
    {
      "cell_type": "code",
      "metadata": {
        "id": "gYBTRFcf85xH",
        "colab_type": "code",
        "colab": {
          "base_uri": "https://localhost:8080/",
          "height": 497
        },
        "outputId": "bb2d09c5-61f2-46c3-c541-8119ca1b1f4b"
      },
      "source": [
        "if __name__ == '__main__':\n",
        "    f1 = lambda x : sin(x) + x**3\n",
        "    intervals = np.array([4, 2, 1, 0.5, 0.25, 0.125, 0.0625, 0.03125, 0.015625, 0.0078125])\n",
        "    dif = np.zeros(intervals.size)\n",
        "\n",
        "    for i in range(intervals.size):\n",
        "      x_points = np.arange(0,10,intervals[i])\n",
        "      c = L2projection(f1, x_points)\n",
        "\n",
        "      for j in range(x_points.size):\n",
        "        dif[i] += np.abs(f1(x_points[j])-c[j])\n",
        "\n",
        "    # Plot the error convergence\n",
        "    plt.figure(figsize=(10,8))\n",
        "    plt.plot(dif, \"-r\", label=\"Error convergence\")\n",
        "    plt.legend(loc=\"upper right\")\n",
        "    plt.xlabel(\"Interval\")\n",
        "    plt.ylabel(\"Error\")\n",
        "    plt.xticks(np.arange(intervals.size), intervals)\n",
        "    plt.show()"
      ],
      "execution_count": 50,
      "outputs": [
        {
          "output_type": "display_data",
          "data": {
            "image/png": "[encoded data removed]",
            "text/plain": [
              "<Figure size 720x576 with 1 Axes>"
            ]
          },
          "metadata": {
            "tags": []
          }
        }
      ]
    },
    {
      "cell_type": "markdown",
      "metadata": {
        "id": "_4GLBv0zWr7m",
        "colab_type": "text"
      },
      "source": [
        "# **Discussion**"
      ]
    },
    {
      "cell_type": "markdown",
      "metadata": {
        "id": "6bcsDSoRXHZe",
        "colab_type": "text"
      },
      "source": [
        "The theory required for this lab was harder than the previous three, but the code in the end is rather simple. "
      ]
    }
  ]
}