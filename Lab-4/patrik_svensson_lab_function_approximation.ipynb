{
  "nbformat": 4,
  "nbformat_minor": 0,
  "metadata": {
    "colab": {
      "name": "Copy of Copy of patrik-svensson_lab_matrix_algorithms.ipynb",
      "provenance": [],
      "collapsed_sections": []
    },
    "kernelspec": {
      "name": "python3",
      "display_name": "Python 3"
    }
  },
  "cells": [
    {
      "cell_type": "markdown",
      "metadata": {
        "id": "6RgtXlfYO_i7",
        "colab_type": "text"
      },
      "source": [
        "https://colab.research.google.com/drive/1ZYeebj9e1Gs3BaJzR82LqclLKls5-mTx\n",
        "# **Lab4 : Function Approximation**\n",
        "**Patrik Svensson**"
      ]
    },
    {
      "cell_type": "markdown",
      "metadata": {
        "id": "9x_J5FVuPzbm",
        "colab_type": "text"
      },
      "source": [
        "# **Abstract**"
      ]
    },
    {
      "cell_type": "markdown",
      "metadata": {
        "id": "ixOh5-9HXB0N",
        "colab_type": "text"
      },
      "source": [
        "This lab will explore the area of function approximations. There are many different methods to accomplish this, but in this report we will mainly focus on $L_2$ projections. The result was an implementation in Python together with a visual test that shows the graph of an approximated function."
      ]
    },
    {
      "cell_type": "markdown",
      "metadata": {
        "id": "28xLGz8JX3Hh",
        "colab_type": "text"
      },
      "source": [
        "# **Set up environment**"
      ]
    },
    {
      "cell_type": "markdown",
      "metadata": {
        "id": "D2PYNusD08Wa",
        "colab_type": "text"
      },
      "source": [
        "To set up the environment, run the two following lines of code."
      ]
    },
    {
      "cell_type": "code",
      "metadata": {
        "id": "Xw7VlErAX7NS",
        "colab_type": "code",
        "colab": {}
      },
      "source": [
        "import numpy as np\n",
        "import unittest\n",
        "import math\n",
        "import matplotlib as mpl\n",
        "import matplotlib.pyplot as plt\n",
        "plt.style.use('classic')"
      ],
      "execution_count": 0,
      "outputs": []
    },
    {
      "cell_type": "markdown",
      "metadata": {
        "id": "gnO3lhAigLev",
        "colab_type": "text"
      },
      "source": [
        "# **Introduction**"
      ]
    },
    {
      "cell_type": "markdown",
      "metadata": {
        "id": "l5zMzgPlRAF6",
        "colab_type": "text"
      },
      "source": [
        "Sometimes it is not feasible to use a function, one reason to this could be that it is too slow to compute the function. To mitigate this, it is possible to do an approximation of the function instead.\n"
      ]
    },
    {
      "cell_type": "markdown",
      "metadata": {
        "id": "WeFO9QMeUOAu",
        "colab_type": "text"
      },
      "source": [
        "# **Methods**\n"
      ]
    },
    {
      "cell_type": "markdown",
      "metadata": {
        "id": "rO0ouFDaAnMX",
        "colab_type": "text"
      },
      "source": [
        "##  L2 Projection in 1D\n",
        "According to (9.13) in the lecture notes, the formula:\n",
        "\n",
        "$P_hf(x) = \\sum_{j=0}^{m+1}\\alpha_j\\phi_j(x)$\n",
        "\n",
        "This formula is used for $L^2$ projection of a function $f$ belonging to $L^2(I)$ onto a space of continuous piecewise linear polynomials $V_h^{(1)}$, in which $I$ is an interval with $m$ nodes. $\\phi(x)$ (by 9.7 in lecture notes) and $f(x)$ are known, the only thing we need to compute is the $a$. We can compute the $\\alpha$ from the following linear equation:\n",
        "\n",
        "$A\\alpha = b$\n",
        "\n",
        "Where $A$ is the mass matrix, and each element are given by $a_{ij} = (\\phi_j, \\phi_i)$. $b$ is the load vector, and each element is given by $b_i = (f,\\phi_i)$. $\\alpha$ is called the solution vector. \n",
        "\n",
        "According to the lecture notes (9.14):\n",
        "\n",
        "$a_{ii} = \\frac{h_i}{3} + \\frac{h_{i + 1}}{3}$\n",
        "\n",
        "According to lecture notes (9.15):\n",
        "\n",
        "$a_{ii+1} = \\frac{h_{i+1}}{6}$\n",
        "\n",
        "Accoding to lecture notes (9.16):\n",
        "\n",
        "$a_{ii-1} = \\frac{h_i}{6}$\n",
        "\n",
        "Accoding to lecture notes (9.17):\n",
        "\n",
        "$b_i = (f,\\phi_i) = \\int_{0}^{1} f(x)\\phi_i(x)dx$ which can be further expanded to:\n",
        "$b_i = f(x_i)(\\frac{h_i}{2} + \\frac{h_{i+1}}{2})$ according to (1.74) in *The Finite Element Method: Theory, Implementation, and Practice* by Mats G. Larsson, Fredrik Bengzon.\n",
        "\n",
        "To calculate the approximation of the function that we approximated with $L_2$ projection:\n",
        "\n",
        "$P_hf(x) = \\sum_{j=0}^{m+1}\\alpha_j\\phi_j(x)$\n",
        "\n",
        "We can plug in the $\\alpha$ values that we have obtained. The $\\phi(x)$ values can be obtained from (9.7) in the lecture notes.\n",
        "\n",
        "$\\phi_i(x) = \\lambda_{k,1}(x)$ if $x \\in I_k$\n",
        "\n",
        "$\\phi_i(x) = \\lambda_{k+1,1}(x)$ if $x \\in I_{k + 1}$\n",
        "\n",
        "$\\phi_i(x) = 0$ if $x \\neq I_k \\cup I_{k + 1}$"
      ]
    },
    {
      "cell_type": "code",
      "metadata": {
        "id": "GKAKgzyjs5ZU",
        "colab_type": "code",
        "colab": {}
      },
      "source": [
        "def L2Projection1D(function, mesh):\n",
        "  A = np.zeros((mesh.shape[0], mesh.shape[0]))\n",
        "  b = np.zeros(mesh.shape[0])\n",
        "\n",
        "  for i in range(A.shape[0]):\n",
        "    if(i == (A.shape[0] - 1)):\n",
        "      interval_size = abs(mesh[i] - mesh[i - 1])\n",
        "      A[i][i] = interval_size / 3\n",
        "      A[i][i-1] = interval_size / 6\n",
        "    elif (i == 0):\n",
        "      next_interval_size = abs(mesh[i] - mesh[i + 1])\n",
        "      A[i][i] = next_interval_size / 3\n",
        "      A[i][i + 1] = next_interval_size / 6\n",
        "\n",
        "    else:\n",
        "      interval_size = abs(mesh[i] - mesh[i - 1]) \n",
        "      next_interval_size = abs(mesh[i] - mesh[i + 1])\n",
        "      A[i][i] = interval_size / 3 + next_interval_size / 3\n",
        "      A[i][i + 1] = next_interval_size / 6\n",
        "      A[i][i - 1] = interval_size / 6\n",
        "\n",
        "\n",
        "  for i in range(A.shape[0] - 1):\n",
        "    interval_size = 0\n",
        "    function_val = function(mesh[i])\n",
        "    if(i == (A.shape[0] - 1)):\n",
        "      interval_size = abs(mesh[i] - mesh[i-1])\n",
        "    elif (i == 0):\n",
        "      interval_size = abs(mesh[i] - mesh[i + 1])\n",
        "    else:\n",
        "      interval_size = abs(mesh[i] - mesh[i-1]) + abs(mesh[i] - mesh[i + 1])\n",
        "\n",
        "    b[i] = interval_size * function_val\n",
        "\n",
        "  # Compute alphas\n",
        "  x = np.linalg.solve(A, b)\n",
        "\n",
        "  return x\n"
      ],
      "execution_count": 0,
      "outputs": []
    },
    {
      "cell_type": "code",
      "metadata": {
        "id": "sFp4duPQxY_B",
        "colab_type": "code",
        "outputId": "a4638509-9ef3-4fbc-8bcb-4d11fbd54d22",
        "colab": {
          "base_uri": "https://localhost:8080/",
          "height": 440
        }
      },
      "source": [
        "x = np.array([1,2,3,4,5,6,7,8,9,10])\n",
        "function = lambda x:x**2 \n",
        "alphas = L2Projection1D(function, x)\n",
        "y = np.array([0.5,1.5,2.5,3.5,4.5,5.5,6.5,7.5,8.5,9.5])\n",
        "\n",
        "for i in range(len(x)):\n",
        "  phi = 0\n",
        "  if(i > 0):\n",
        "    phi += (y[i] - x[i - 1]) / abs(x[i - 1] - x[i])\n",
        "\n",
        "  if(i < len(x) - 1):\n",
        "    phi += (x[i + 1] - y[i]) / abs(x[i + 1] - x[i])\n",
        "\n",
        "  # Phi * alpha\n",
        "  v = alphas[i] * phi\n",
        "  plt.plot(y[i], v, 'ro')\n",
        "\n",
        "plt.plot(x, function(x))\n",
        " \n",
        "plt.show()\n"
      ],
      "execution_count": 0,
      "outputs": [
        {
          "output_type": "display_data",
          "data": {
            "image/png": "[encoded data removed]",
            "text/plain": [
              "<Figure size 640x480 with 1 Axes>"
            ]
          },
          "metadata": {
            "tags": []
          }
        }
      ]
    },
    {
      "cell_type": "markdown",
      "metadata": {
        "id": "kl5VpJcfMgTf",
        "colab_type": "text"
      },
      "source": [
        "# **Results**\n",
        "The results of the implemetation can be seen in the graph in the previous section."
      ]
    },
    {
      "cell_type": "markdown",
      "metadata": {
        "id": "_4GLBv0zWr7m",
        "colab_type": "text"
      },
      "source": [
        "# **Discussion**\n",
        "The implementation of the algorithm is only quality assured by a visual comparison. It would be better if there was an quantitative method for assuring the correctness. Furthermore, I'm not sure if the implementation is right since the graphs diverge from each other."
      ]
    }
  ]
}