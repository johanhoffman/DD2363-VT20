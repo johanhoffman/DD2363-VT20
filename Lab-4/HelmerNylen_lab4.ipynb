{
  "nbformat": 4,
  "nbformat_minor": 0,
  "metadata": {
    "colab": {
      "name": "DD2363 Lab 4.ipynb",
      "provenance": [],
      "collapsed_sections": [],
      "include_colab_link": true
    },
    "kernelspec": {
      "name": "python3",
      "display_name": "Python 3"
    }
  },
  "cells": [
    {
      "cell_type": "markdown",
      "metadata": {
        "id": "view-in-github",
        "colab_type": "text"
      },
      "source": [
        "<a href=\"https://colab.research.google.com/github/johanhoffman/DD2363-VT20/blob/HelmerNylen/Lab-4/HelmerNylen_lab4.ipynb\" target=\"_parent\"><img src=\"https://colab.research.google.com/assets/colab-badge.svg\" alt=\"Open In Colab\"/></a>"
      ]
    },
    {
      "cell_type": "markdown",
      "metadata": {
        "id": "6RgtXlfYO_i7",
        "colab_type": "text"
      },
      "source": [
        "# **Lab 4: Function Approximation**\n",
        "**Helmer Nylén**"
      ]
    },
    {
      "cell_type": "markdown",
      "metadata": {
        "id": "9x_J5FVuPzbm",
        "colab_type": "text"
      },
      "source": [
        "# **Abstract**"
      ]
    },
    {
      "cell_type": "markdown",
      "metadata": {
        "id": "yJipbXtnjrJZ",
        "colab_type": "text"
      },
      "source": [
        "In this lab we implement a projection of a scalar function onto the space of pointwise linear functions, and test the accuracy and convergence of the implementation."
      ]
    },
    {
      "cell_type": "markdown",
      "metadata": {
        "id": "OkT8J7uOWpT3",
        "colab_type": "text"
      },
      "source": [
        "#**About the code**"
      ]
    },
    {
      "cell_type": "code",
      "metadata": {
        "id": "Pdll1Xc9WP0e",
        "colab_type": "code",
        "outputId": "4dd0063c-4abf-4b1a-8fe2-9ed12725ff79",
        "colab": {
          "base_uri": "https://localhost:8080/",
          "height": 35
        }
      },
      "source": [
        "\"\"\"This program is a template for lab reports in the course\"\"\"\n",
        "\"\"\"DD2363 Methods in Scientific Computing, \"\"\"\n",
        "\"\"\"KTH Royal Institute of Technology, Stockholm, Sweden.\"\"\"\n",
        "\n",
        "# Copyright (C) 2019 Helmer Nylén (helmern@kth.se)\n",
        "# Concepts of this lab were discussed with Jonas Nylund\n",
        "\n",
        "# This file is part of the course DD2363 Methods in Scientific Computing\n",
        "# KTH Royal Institute of Technology, Stockholm, Sweden\n",
        "#\n",
        "# This is free software: you can redistribute it and/or modify\n",
        "# it under the terms of the GNU Lesser General Public License as published by\n",
        "# the Free Software Foundation, either version 3 of the License, or\n",
        "# (at your option) any later version."
      ],
      "execution_count": 68,
      "outputs": [
        {
          "output_type": "execute_result",
          "data": {
            "text/plain": [
              "'KTH Royal Institute of Technology, Stockholm, Sweden.'"
            ]
          },
          "metadata": {
            "tags": []
          },
          "execution_count": 68
        }
      ]
    },
    {
      "cell_type": "markdown",
      "metadata": {
        "id": "28xLGz8JX3Hh",
        "colab_type": "text"
      },
      "source": [
        "# **Set up environment**"
      ]
    },
    {
      "cell_type": "code",
      "metadata": {
        "id": "Xw7VlErAX7NS",
        "colab_type": "code",
        "colab": {}
      },
      "source": [
        "# Load neccessary modules.\n",
        "import numpy as np\n",
        "import numpy.polynomial.polynomial as P\n",
        "import matplotlib.pyplot as plt\n",
        "from scipy import sparse\n",
        "from scipy.sparse.linalg import spsolve\n",
        "from random import randint\n",
        "from functools import reduce"
      ],
      "execution_count": 0,
      "outputs": []
    },
    {
      "cell_type": "markdown",
      "metadata": {
        "id": "gnO3lhAigLev",
        "colab_type": "text"
      },
      "source": [
        "# **Introduction**"
      ]
    },
    {
      "cell_type": "markdown",
      "metadata": {
        "id": "l5zMzgPlRAF6",
        "colab_type": "text"
      },
      "source": [
        "In this lab we implement $L^2$-projection of a scalar function $f$ onto a continuous pointwise linear approximation over a 1D mesh."
      ]
    },
    {
      "cell_type": "markdown",
      "metadata": {
        "id": "WeFO9QMeUOAu",
        "colab_type": "text"
      },
      "source": [
        "# **Methods**"
      ]
    },
    {
      "cell_type": "markdown",
      "metadata": {
        "id": "zF4iBj5VURZx",
        "colab_type": "text"
      },
      "source": [
        "We largely follow example 9.11, chapter 9.3 in the lecture notes for the theory behind our implementation, and the goal is to find the solution vector $\\alpha = (\\alpha_j)$ in equation 9.13. We can do this by solving $A\\alpha = b$ for $\\alpha$ after constructing $A$ and $b$.\n",
        "\n",
        "Let the mesh consist of points $x_0 < x_1 < \\ldots < x_{m+1}$. If we let $h_i = x_i - x_{i-1}$ for $i = 1, \\ldots, m+1$ be the width of interval $i$, equations 9.14-16 yield the following definition of $A$:\n",
        "$$a_{ij} = \\begin{cases}\n",
        "    \\frac{h_i + h_{i+1}}{3}, &\\text{if }j = i \\\\\n",
        "    \\frac{h_{i+1}}{6}, &\\text{if }j = i+1 \\\\\n",
        "    \\frac{h_i}{6}, &\\text{if }j = i-1 \\\\\n",
        "    0, &\\text{otherwise}\n",
        "\\end{cases},\\text{ for } i = 1, \\ldots, m$$\n",
        "\n",
        "At the edge cases we have\n",
        "\\begin{align}\n",
        "a_{00} &= \\int_0^1 \\phi_0^2(x)dx = \\int_{I_1} \\lambda_{1, 0}^2(x)dx = \\ldots = \\frac{h_1}{3} \\\\\n",
        "a_{01} &= \\frac{h_1}{6} \\\\\n",
        "a_{m+1,m+1} &= \\int_0^1 \\phi_{m+1}^2(x)dx = \\int_{I_{m+1}} \\lambda_{m+1, 1}^2(x)dx = \\ldots = \\frac{h_{m+1}}{3} \\\\\n",
        "a_{m+1, m} &= \\frac{h_{m+1}}{6}\n",
        "\\end{align}\n",
        "where we have used the definition of $\\phi_i$ in example 9.6.\n",
        "\n",
        "Now we need to compute $b$. Equation 9.17 states that\n",
        "$$b_i = (f, \\phi_i) = \\int_0^1 f(x) \\phi_i(x)dx,$$\n",
        "and the lecture notes suggest we use the approximation $$f \\approx \\pi_h f$$ in our computations. From page 167 in the lecture notes we have that\n",
        "$$\\pi_h f(x) = \\sum_{i=0}^{m+1} f(x_i) \\phi_i(x).$$\n",
        "It follows that\n",
        "\\begin{align}\n",
        "b_i = (f, \\phi_i) &= \\int_0^1 f(x)\\phi_i(x)dx \\approx \\int_0^1 \\left(\\sum_{j=0}^{m+1} f(x_j)\\phi_j(x)\\right) \\phi_i(x)dx\\\\\n",
        "&=\\sum_{j=0}^{m+1} f(x_j)\\underbrace{\\int_0^1\\phi_j(x)\\phi_i(x)dx}_{a_{ji}\\ (=\\ a_{ij})}=\\sum_{j=0}^{m+1} f(x_j) a_{ij}.\n",
        "\\end{align}\n",
        "Using $x = \\{x_i\\}_{i=0}^n$ and $f(x) = \\{f(x_i)\\}_{i=0}^n$ we can write this result as $$b = A f(x).$$\n",
        "\n",
        "Considering $A$ is sparse and only has elements along the main, sub- and superdiagonal we can simplify this as $$b_i = \\sum_{j=\\max(i-1, 0)}^{\\min(i+1, m+1)} f(x_j) a_{ij}$$ to lessen the number of computations. If we use a sparse data structure for $A$ we can reasonably assume that this optimisation is already done for us and keep $b = Af(x)$ for brevity."
      ]
    },
    {
      "cell_type": "code",
      "metadata": {
        "id": "CFP6rA1W1CuC",
        "colab_type": "code",
        "colab": {}
      },
      "source": [
        "def _assemble_system(f, mesh):\n",
        "  assert hasattr(f, \"__call__\")\n",
        "  assert type(mesh) is np.ndarray and len(mesh.shape) == 1 and len(mesh) >= 3 and (np.diff(mesh) > 0).all()\n",
        "  m = len(mesh) - 2                     # Number of internal modes\n",
        "  h = lambda i: mesh[i] - mesh[i - 1]   # Size of interval i\n",
        "\n",
        "  # Initialize A as a sparse CSR matrix with ones along the super-, sub- and main diagonal\n",
        "  # These are overwritten by the loop\n",
        "  A = sparse.diags(([1] * (m + 1), [1] * (m + 2), [1] * (m + 1)), [-1, 0, 1]).tocsr()\n",
        "\n",
        "  for i in range(1, m + 1):\n",
        "    for j in range(i - 1, i + 2):\n",
        "      if j == i + 1:\n",
        "        A[i, j] = h(i+1) / 6\n",
        "      elif j == i:\n",
        "        A[i, j] = (h(i) + h(i+1)) / 3\n",
        "      elif j == i - 1:\n",
        "        A[i, j] = h(i) / 6\n",
        "\n",
        "  # Edge cases\n",
        "  A[0, 0] =     h(1) / 3\n",
        "  A[0, 1] =     h(1) / 6\n",
        "  A[m+1, m+1] = h(m+1) / 3\n",
        "  A[m+1, m] =   h(m+1) / 6\n",
        "\n",
        "  fvals = np.array([f(x) for x in mesh])\n",
        "  b = A @ fvals\n",
        "  return A, b\n",
        "\n",
        "def L2_proj_1D(f, mesh):\n",
        "  A, b = _assemble_system(f, mesh)\n",
        "  return spsolve(A, b)"
      ],
      "execution_count": 0,
      "outputs": []
    },
    {
      "cell_type": "markdown",
      "metadata": {
        "id": "57yqZadzZI4V",
        "colab_type": "text"
      },
      "source": [
        "We now want to verify the accuracy and convergence rate of our implementation. For accuracy we test that $$\\alpha_i \\approx f(x_i)$$ for every point on the mesh, for convergence we test that the total error $$err = \\int_{x_0}^{x_{m+1}}|f(x) - \\pi_h f(x)|dx$$ decreases as $m$ increases."
      ]
    },
    {
      "cell_type": "code",
      "metadata": {
        "id": "A9A-Sr0dHHgO",
        "colab_type": "code",
        "colab": {}
      },
      "source": [
        "# Represents a continuous pointwise linear approximation\n",
        "class Approx:\n",
        "  def __init__(self, alpha, mesh):\n",
        "    self.alpha = alpha\n",
        "    self.mesh = mesh\n",
        "  \n",
        "  def __call__(self, x):\n",
        "    assert self.mesh[0] <= x <= self.mesh[-1]\n",
        "    if x == self.mesh[-1]:\n",
        "      return self.alpha[-1]\n",
        "    \n",
        "    i = (self.mesh <= x).nonzero()[0][-1]\n",
        "    t = (x - self.mesh[i]) / (self.mesh[i+1] - self.mesh[i])\n",
        "    return self.alpha[i] + (self.alpha[i+1] - self.alpha[i]) * t"
      ],
      "execution_count": 0,
      "outputs": []
    },
    {
      "cell_type": "code",
      "metadata": {
        "id": "N-fAUVwBZJYO",
        "colab_type": "code",
        "colab": {}
      },
      "source": [
        "def _repeated(xs, reps):\n",
        "  for x, rep in zip(xs, reps):\n",
        "    for _ in range(rep):\n",
        "      yield x\n",
        "\n",
        "def test_1D(verbose = False):\n",
        "  # Produce a random polynomial on [-10, 10] and use as f\n",
        "  n_zeros = randint(2, 4)\n",
        "  zeros = np.random.rand(n_zeros) * 20 - 10\n",
        "  multiplicities = [randint(1, 2) for i in range(n_zeros)]\n",
        "  polynomials = [(-zeros[i], 1) for i in range(n_zeros)]\n",
        "  pol = reduce(P.polymul, _repeated(polynomials, multiplicities))\n",
        "  pol = pol / np.sqrt(max(pol))\n",
        "  f = lambda x: P.polyval(x, pol)\n",
        "\n",
        "  errors = []\n",
        "  fine_mesh = np.linspace(-10, 10, 1500)\n",
        "  n_meshes = range(10, 1100, 100)\n",
        "\n",
        "  # Test a number of different meshes\n",
        "  for n_mesh in n_meshes:\n",
        "    mesh = np.unique(np.concatenate(([-10, 10], np.random.rand(n_mesh) * 20 - 10)))\n",
        "\n",
        "    alpha = L2_proj_1D(f, mesh)\n",
        "    f_approx = Approx(alpha, mesh)\n",
        "    # Assert that the approximation is valid for each mesh point (accuracy)\n",
        "    assert np.allclose(0, alpha - [f(x) for x in mesh])\n",
        "    \n",
        "    errors.append(sum(abs(f(x) - f_approx(x)) for x in fine_mesh))\n",
        "    \n",
        "    # Example graph\n",
        "    if verbose and n_mesh == n_meshes[0]:\n",
        "      plt.plot(fine_mesh, [f(x) for x in fine_mesh])\n",
        "      plt.plot(fine_mesh, [f_approx(x) for x in fine_mesh])\n",
        "      plt.plot(mesh, [f_approx(x) for x in mesh], 'o')\n",
        "      plt.xlabel(\"x\")\n",
        "      plt.ylabel(\"f(x)\")\n",
        "      plt.legend((\"Function\", \"Approximation\", \"Mesh points\"))\n",
        "      plt.title(\"Example function approximation\")\n",
        "\n",
        "  # Assert that the error decreases with a finer mesh (convergence)\n",
        "  k, m = np.polyfit(n_meshes, np.log(errors), 1)\n",
        "  assert k < 0\n",
        "\n",
        "  # Error convergence\n",
        "  if verbose:\n",
        "    plt.figure()\n",
        "    plt.semilogy(n_meshes, errors, 'o')\n",
        "    plt.semilogy(n_meshes, np.exp(n_meshes * k + m))\n",
        "    plt.xlabel(\"Mesh points\")\n",
        "    plt.ylabel(\"Error\")\n",
        "    plt.legend((\"Measured error\", \"Best fit\"))\n",
        "    plt.title(\"Convergence of error\")\n",
        "    plt.show()"
      ],
      "execution_count": 0,
      "outputs": []
    },
    {
      "cell_type": "markdown",
      "metadata": {
        "id": "SsQLT38gVbn_",
        "colab_type": "text"
      },
      "source": [
        "# **Results**"
      ]
    },
    {
      "cell_type": "code",
      "metadata": {
        "id": "-M_NQECHRRqM",
        "colab_type": "code",
        "outputId": "88da97b9-7131-4453-ba78-4d7314c835e4",
        "colab": {
          "base_uri": "https://localhost:8080/",
          "height": 764
        }
      },
      "source": [
        "n_tests = 500\n",
        "for i in range(n_tests):\n",
        "  if i % (n_tests // 10) == 0:\n",
        "    print(f\"{100 * (i / n_tests)} %\")\n",
        "  test_1D(i == 0)\n",
        "print(\"All tests passed\")"
      ],
      "execution_count": 73,
      "outputs": [
        {
          "output_type": "stream",
          "text": [
            "0.0 %\n"
          ],
          "name": "stdout"
        },
        {
          "output_type": "display_data",
          "data": {
            "image/png": "[encoded data removed]",
            "text/plain": [
              "<Figure size 432x288 with 1 Axes>"
            ]
          },
          "metadata": {
            "tags": []
          }
        },
        {
          "output_type": "display_data",
          "data": {
            "image/png": "[encoded data removed]",
            "text/plain": [
              "<Figure size 432x288 with 1 Axes>"
            ]
          },
          "metadata": {
            "tags": []
          }
        },
        {
          "output_type": "stream",
          "text": [
            "10.0 %\n",
            "20.0 %\n",
            "30.0 %\n",
            "40.0 %\n",
            "50.0 %\n",
            "60.0 %\n",
            "70.0 %\n",
            "80.0 %\n",
            "90.0 %\n",
            "All tests passed\n"
          ],
          "name": "stdout"
        }
      ]
    },
    {
      "cell_type": "markdown",
      "metadata": {
        "id": "RLwlnOzuV-Cd",
        "colab_type": "text"
      },
      "source": [
        "All the tests pass, the approximation looks reasonable given the function and the error decreases as we increase the number of mesh points implying convergence."
      ]
    },
    {
      "cell_type": "markdown",
      "metadata": {
        "id": "_4GLBv0zWr7m",
        "colab_type": "text"
      },
      "source": [
        "# **Discussion**"
      ]
    },
    {
      "cell_type": "markdown",
      "metadata": {
        "id": "6bcsDSoRXHZe",
        "colab_type": "text"
      },
      "source": [
        "We conclude that the implementation works, but it is not written in a way that generalizes well for nonlinear $\\phi$ or multidimensional meshes (for which we instead could have followed algorithm 9.2)."
      ]
    }
  ]
}