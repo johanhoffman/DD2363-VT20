{
  "nbformat": 4,
  "nbformat_minor": 0,
  "metadata": {
    "colab": {
      "name": "timaslj-lab-4.ipynb",
      "provenance": [],
      "collapsed_sections": [],
      "include_colab_link": true
    },
    "kernelspec": {
      "name": "python3",
      "display_name": "Python 3"
    }
  },
  "cells": [
    {
      "cell_type": "markdown",
      "metadata": {
        "id": "view-in-github",
        "colab_type": "text"
      },
      "source": [
        "<a href=\"https://colab.research.google.com/github/johanhoffman/DD2363-VT20/blob/timaslj_lab4/Lab-4/timaslj_lab_4.ipynb\" target=\"_parent\"><img src=\"https://colab.research.google.com/assets/colab-badge.svg\" alt=\"Open In Colab\"/></a>"
      ]
    },
    {
      "cell_type": "markdown",
      "metadata": {
        "id": "6RgtXlfYO_i7",
        "colab_type": "text"
      },
      "source": [
        "# **Lab 4: Function approximation**\n",
        "**Timas Ljungdahl**"
      ]
    },
    {
      "cell_type": "markdown",
      "metadata": {
        "id": "9x_J5FVuPzbm",
        "colab_type": "text"
      },
      "source": [
        "# **Abstract**"
      ]
    },
    {
      "cell_type": "markdown",
      "metadata": {
        "id": "6UFTSzW7P8kL",
        "colab_type": "text"
      },
      "source": [
        "In this report, the L2 projection of a known function $f(x)$ onto an approximation subspace $V$ that is spanned by a set of basis functions is calculated. The projection onto $V$ is the best possible approximation of $f(x)$ in $V$."
      ]
    },
    {
      "cell_type": "markdown",
      "metadata": {
        "id": "OkT8J7uOWpT3",
        "colab_type": "text"
      },
      "source": [
        "#**About the code**"
      ]
    },
    {
      "cell_type": "markdown",
      "metadata": {
        "id": "HmB2noTr1Oyo",
        "colab_type": "text"
      },
      "source": [
        "A short statement on who is the author of the file, and if the code is distributed under a certain license. "
      ]
    },
    {
      "cell_type": "code",
      "metadata": {
        "id": "Pdll1Xc9WP0e",
        "colab_type": "code",
        "outputId": "f74fa781-413b-41e7-a2ec-1bba2288ad4f",
        "colab": {
          "base_uri": "https://localhost:8080/",
          "height": 34
        }
      },
      "source": [
        "\"\"\"This program is a template for lab reports in the course\"\"\"\n",
        "\"\"\"DD2363 Methods in Scientific Computing, \"\"\"\n",
        "\"\"\"KTH Royal Institute of Technology, Stockholm, Sweden.\"\"\"\n",
        "\n",
        "# Copyright (C) 2019 Johan Hoffman (jhoffman@kth.se)\n",
        "\n",
        "# This file is part of the course DD2363 Methods in Scientific Computing\n",
        "# KTH Royal Institute of Technology, Stockholm, Sweden\n",
        "#\n",
        "# This is free software: you can redistribute it and/or modify\n",
        "# it under the terms of the GNU Lesser General Public License as published by\n",
        "# the Free Software Foundation, either version 3 of the License, or\n",
        "# (at your option) any later version.\n",
        "\n",
        "# This template is maintained by Johan Hoffman\n",
        "# Please report problems to jhoffman@kth.se"
      ],
      "execution_count": 0,
      "outputs": [
        {
          "output_type": "execute_result",
          "data": {
            "text/plain": [
              "'KTH Royal Institute of Technology, Stockholm, Sweden.'"
            ]
          },
          "metadata": {
            "tags": []
          },
          "execution_count": 1
        }
      ]
    },
    {
      "cell_type": "markdown",
      "metadata": {
        "id": "28xLGz8JX3Hh",
        "colab_type": "text"
      },
      "source": [
        "# **Set up environment**"
      ]
    },
    {
      "cell_type": "markdown",
      "metadata": {
        "id": "D2PYNusD08Wa",
        "colab_type": "text"
      },
      "source": [
        "To have access to the neccessary modules you have to run this cell. If you need additional modules, this is where you add them. "
      ]
    },
    {
      "cell_type": "code",
      "metadata": {
        "id": "Xw7VlErAX7NS",
        "colab_type": "code",
        "colab": {}
      },
      "source": [
        "# Load neccessary modules.\n",
        "from google.colab import files\n",
        "\n",
        "import time\n",
        "import numpy as np\n",
        "import unittest\n",
        "import random\n",
        "import math\n",
        "\n",
        "from sympy import * \n",
        "\n",
        "from matplotlib import pyplot as plt\n",
        "from matplotlib import tri\n",
        "from matplotlib import axes\n",
        "from mpl_toolkits.mplot3d import Axes3D"
      ],
      "execution_count": 0,
      "outputs": []
    },
    {
      "cell_type": "markdown",
      "metadata": {
        "id": "gnO3lhAigLev",
        "colab_type": "text"
      },
      "source": [
        "# **Introduction**"
      ]
    },
    {
      "cell_type": "markdown",
      "metadata": {
        "id": "l5zMzgPlRAF6",
        "colab_type": "text"
      },
      "source": [
        "We begin to define a function space $V$ that is spanned by a set of basis functions $\\phi_0, ..., \\phi_N$, $V = span\\{\\phi_0, ..., \\phi_N\\}$, such that any function $u \\in V$ can be written as a linear combination of these basis functions:\n",
        "\n",
        "$$\n",
        "u = \\sum_{j \\in I_s}{c_j\\phi_j}\n",
        "$$\n",
        "\n",
        "We want to minimize the distance $e$ between an approximation $u$ and function $f$, i.e find the best approximation $u(x)\\in V$. In $V$ the inner product is defined as $(f,g) = \\int_{a}^{b}{f(x)g(x)}$ on an interval $[a,b]$. $e$ is then defined as $(f(x)- \\sum_{j \\in I_s}{c_j\\phi_j}, f(x)- \\sum_{j \\in I_s}{c_j\\phi_j})^{1/2}$. Minimizing the norm is equivalent to $(e,v_i) = 0, i \\in I_s$ which is the projection of $f$ onto the subspace $V$. \n",
        "\n",
        "We approximate $u$ by spliting up the domain into subdomains (elements) where each basis function is a locally defined pieacewise polynomial over a subdomain. For a linear approximation each basis function $\\phi_i(x)$  is choosen to be a Lagrange polynomial of degree 1 that is 1 for $x_i$ and $0$ for all other elements.   \n",
        "\n",
        "We end up with a linear system of a coefficient matrix $A_{i,j} = (\\phi_i, \\phi_j$) and a right-hand side vector $b_i = (f, \\phi_i)$ where we want to solve for $c$ such that $Ac = b$.\n",
        "\n",
        "In the linear case we can calculate $A$ with the following rules:\n",
        "$A_{i,i-1}=A_{i,i+1}=h/6$ and $A_{i,i} = 2h/3$ where $h$ is the distance between the points which is constant. $b$ can be calculated as $b_i = f(x_i)*h/2$. In the code this is done by adding local matrix $A$ and vector $b$ to the global ones. The value $c_i$ in vector $c$ is intepreted as the approximate of $f(x_i)$ given by the following formula:\n",
        "\n",
        "$$\n",
        "u(x_{i}) = \\sum_{j\\in I_s} c_j \\psi_j (x_{i}) =\n",
        "\\sum_{j\\in I_s} c_j \\phi_j (x_{i}) = c_i \\phi_i (x_{i}) = c_i\n",
        "$$\n",
        "\n",
        "since $\\phi_j = 0$ when $j$ != $i$ and $\\phi_i = 1$.  "
      ]
    },
    {
      "cell_type": "markdown",
      "metadata": {
        "id": "WeFO9QMeUOAu",
        "colab_type": "text"
      },
      "source": [
        "# **Methods**\n",
        "\n",
        "The algorithm was implemented following the pseudo-code of **algorithm 9.2** provided in the lecture notes on page 171. To test the algorithm, the same function was approximated with a 1d mesh with decreasing intervals. The error was then calculated by taking the norm of the difference vector between the result vector consisting of ${f(x_i), x_i \\in x}$ and $c$. For each iteration of approximation with a mesh with decreasing intervals, the norm of the difference vector was added to a list. When the iterations were finished, the list was plotted against the interval of that approximation. "
      ]
    },
    {
      "cell_type": "markdown",
      "metadata": {
        "id": "SsQLT38gVbn_",
        "colab_type": "text"
      },
      "source": [
        "# **Results**"
      ]
    },
    {
      "cell_type": "markdown",
      "metadata": {
        "id": "ReqA7N1zE-SC",
        "colab_type": "text"
      },
      "source": [
        "### **L2 Projection to pointwise linear approximation over mesh in 1D**"
      ]
    },
    {
      "cell_type": "code",
      "metadata": {
        "colab_type": "code",
        "id": "rOoUtmOWl90v",
        "outputId": "6258ca39-312e-4552-c245-4600ed061455",
        "colab": {
          "base_uri": "https://localhost:8080/",
          "height": 497
        }
      },
      "source": [
        "def l2_projection_linear_approx(f, x_mesh):\n",
        "    elements = [[i,i+1] for i in range(len(x_mesh)-1)]\n",
        "    b_glob = np.zeros(len(x_mesh))\n",
        "    a_glob = np.zeros((len(x_mesh),len(x_mesh)))\n",
        "\n",
        "    for k in range(len(elements)):\n",
        "        h = x_mesh[elements[k][1]]-x_mesh[elements[k][0]]\n",
        "        for i in range(len(elements[k])):\n",
        "            b_glob[elements[k][i]] += f(x_mesh[elements[k][i]])*h/2\n",
        "            for j in range(len(elements[k])):\n",
        "                a_glob[elements[k][i],elements[k][j]] += h/3 if i==j else h/6\n",
        "    \n",
        "    return a_glob, b_glob\n",
        "\n",
        "def f(x):\n",
        "    return 3*math.cos(x**2) + x**4\n",
        "    \n",
        "intervals = [1/(2**x) for x in range(10)]\n",
        "dif_vector = np.zeros(len(intervals))\n",
        "\n",
        "for i in range(len(intervals)):\n",
        "    x_mesh = np.arange(0,10,intervals[i])\n",
        "    A,b = l2_projection_linear_approx(f, x_mesh)\n",
        "    c = np.linalg.solve(A,b)\n",
        "    res_vector = np.array([f(x) for x in x_mesh])\n",
        "\n",
        "    dif_vector[i] = np.linalg.norm(res_vector-c)\n",
        "\n",
        "# Plot the error convergence\n",
        "plt.figure(figsize=(16,8))\n",
        "plt.plot(dif_vector, \"-b+\", label=\"Error convergence\")\n",
        "plt.legend(loc=\"upper right\")\n",
        "plt.xlabel(\"Interval\")\n",
        "plt.ylabel(\"Error\")\n",
        "plt.xticks(np.arange(len(intervals)), intervals)\n",
        "plt.show()"
      ],
      "execution_count": 63,
      "outputs": [
        {
          "output_type": "display_data",
          "data": {
            "image/png": "[encoded data removed]",
            "text/plain": [
              "<Figure size 1152x576 with 1 Axes>"
            ]
          },
          "metadata": {
            "tags": []
          }
        }
      ]
    },
    {
      "cell_type": "markdown",
      "metadata": {
        "id": "_4GLBv0zWr7m",
        "colab_type": "text"
      },
      "source": [
        "# **Discussion**"
      ]
    },
    {
      "cell_type": "markdown",
      "metadata": {
        "id": "6bcsDSoRXHZe",
        "colab_type": "text"
      },
      "source": [
        "We can clearly see that the error quickly converges to 0 when decreasing the interval quadratically. This shows that the approximate function $u(x)$ performs well in approximating $f(x)$ when using a mesh with suffiently small intervals. It could be interesting to test the algorithm for several functions. "
      ]
    }
  ]
}