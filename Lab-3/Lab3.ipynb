{
  "nbformat": 4,
  "nbformat_minor": 0,
  "metadata": {
    "colab": {
      "name": "Lab3",
      "provenance": [],
      "collapsed_sections": []
    },
    "kernelspec": {
      "name": "python3",
      "display_name": "Python 3"
    }
  },
  "cells": [
    {
      "cell_type": "markdown",
      "metadata": {
        "id": "6RgtXlfYO_i7",
        "colab_type": "text"
      },
      "source": [
        "# **Lab 3: Iterative Methods**\n",
        "**Jonas Nylund**"
      ]
    },
    {
      "cell_type": "markdown",
      "metadata": {
        "id": "9x_J5FVuPzbm",
        "colab_type": "text"
      },
      "source": [
        "# **Abstract**"
      ]
    },
    {
      "cell_type": "markdown",
      "metadata": {
        "id": "yJipbXtnjrJZ",
        "colab_type": "text"
      },
      "source": [
        ""
      ]
    },
    {
      "cell_type": "markdown",
      "metadata": {
        "id": "OkT8J7uOWpT3",
        "colab_type": "text"
      },
      "source": [
        "#**About the code**"
      ]
    },
    {
      "cell_type": "markdown",
      "metadata": {
        "id": "HmB2noTr1Oyo",
        "colab_type": "text"
      },
      "source": [
        "A short statement on who is the author of the file, and if the code is distributed under a certain license. "
      ]
    },
    {
      "cell_type": "code",
      "metadata": {
        "id": "Pdll1Xc9WP0e",
        "colab_type": "code",
        "outputId": "fc52da5f-56ca-4ebd-bff3-e054d440dfd7",
        "colab": {
          "base_uri": "https://localhost:8080/",
          "height": 34
        }
      },
      "source": [
        "\"\"\"This program is a template for lab reports in the course\"\"\"\n",
        "\"\"\"DD2363 Methods in Scientific Computing, \"\"\"\n",
        "\"\"\"KTH Royal Institute of Technology, Stockholm, Sweden.\"\"\"\n",
        "\n",
        "# Copyright (C) 2019 Jonas Nylund (jonasnyl@kth.se)\n",
        "\n",
        "# This file is part of the course DD2363 Methods in Scientific Computing\n",
        "# KTH Royal Institute of Technology, Stockholm, Sweden\n",
        "#\n",
        "# This is free software: you can redistribute it and/or modify\n",
        "# it under the terms of the GNU Lesser General Public License as published by\n",
        "# the Free Software Foundation, either version 3 of the License, or\n",
        "# (at your option) any later version."
      ],
      "execution_count": 1,
      "outputs": [
        {
          "output_type": "execute_result",
          "data": {
            "text/plain": [
              "'KTH Royal Institute of Technology, Stockholm, Sweden.'"
            ]
          },
          "metadata": {
            "tags": []
          },
          "execution_count": 1
        }
      ]
    },
    {
      "cell_type": "markdown",
      "metadata": {
        "id": "28xLGz8JX3Hh",
        "colab_type": "text"
      },
      "source": [
        "# **Set up environment**"
      ]
    },
    {
      "cell_type": "markdown",
      "metadata": {
        "id": "D2PYNusD08Wa",
        "colab_type": "text"
      },
      "source": [
        "To have access to the neccessary modules you have to run this cell. If you need additional modules, this is where you add them. "
      ]
    },
    {
      "cell_type": "code",
      "metadata": {
        "id": "Xw7VlErAX7NS",
        "colab_type": "code",
        "colab": {}
      },
      "source": [
        "# Load neccessary modules.\n",
        "from google.colab import files\n",
        "\n",
        "import time\n",
        "import numpy as np\n",
        "\n",
        "from matplotlib import pyplot as plt\n",
        "from matplotlib import tri\n",
        "from matplotlib import axes\n",
        "from mpl_toolkits.mplot3d import Axes3D\n",
        "\n",
        "import unittest"
      ],
      "execution_count": 0,
      "outputs": []
    },
    {
      "cell_type": "markdown",
      "metadata": {
        "id": "gnO3lhAigLev",
        "colab_type": "text"
      },
      "source": [
        "# **Introduction**"
      ]
    },
    {
      "cell_type": "markdown",
      "metadata": {
        "id": "l5zMzgPlRAF6",
        "colab_type": "text"
      },
      "source": [
        "Iterative methods are useful for solving systems where exact solutions cannot be calculated directly, or when doing so might be too expensive. In this lab, we implement a few iterative methods for solving certain problems.\n"
      ]
    },
    {
      "cell_type": "markdown",
      "metadata": {
        "id": "WeFO9QMeUOAu",
        "colab_type": "text"
      },
      "source": [
        "# **Methods**"
      ]
    },
    {
      "cell_type": "markdown",
      "metadata": {
        "id": "UmfZT17IgP-v",
        "colab_type": "text"
      },
      "source": [
        "**Richardson iteration**\n",
        "We start by implementing Richardson iteration, which is the foundation for other, more refined iterative methods for solving systems of linear equations."
      ]
    },
    {
      "cell_type": "code",
      "metadata": {
        "id": "Qthtesw3gtN1",
        "colab_type": "code",
        "colab": {}
      },
      "source": [
        "def richardsonIter(A,b,alpha, TOL = 10**(-8), max_iter=1000):\n",
        "  r = np.random.rand(len(b));\n",
        "  x = np.random.rand(len(b));\n",
        "  i=0;\n",
        "  while np.linalg.norm(r) > TOL:\n",
        "    r = b-A@x;\n",
        "    x += alpha*r;\n",
        "    i+=1;\n",
        "    if(i> max_iter):\n",
        "      raise ArithmeticError(\"Solution does not converge\");\n",
        "\n",
        "  return x;"
      ],
      "execution_count": 0,
      "outputs": []
    },
    {
      "cell_type": "markdown",
      "metadata": {
        "id": "T1XhTqE6kH8C",
        "colab_type": "text"
      },
      "source": [
        "**Jacobi**\n",
        "Jacobi iteration are a preconditioned version of Richardsson, where we multiply both the system matrix and solution vector with the elements of the diagnomal of A inverted."
      ]
    },
    {
      "cell_type": "code",
      "metadata": {
        "id": "lfTeYlRRkJ9-",
        "colab_type": "code",
        "colab": {}
      },
      "source": [
        "def jacobiIter(A,b):\n",
        "  D = np.diag(1/np.diag(A));\n",
        "  \n",
        "  return richardsonIter(D@A, D@b, 1);"
      ],
      "execution_count": 0,
      "outputs": []
    },
    {
      "cell_type": "markdown",
      "metadata": {
        "id": "487aB791-I7h",
        "colab_type": "text"
      },
      "source": [
        "**Gauss-Seidel**\n",
        "Gauss Seidel iterations is also a preconditioned version of Richardsson, this time preconditioned with the inverse of the lower half of A."
      ]
    },
    {
      "cell_type": "code",
      "metadata": {
        "id": "QyE-ujBD-LO_",
        "colab_type": "code",
        "colab": {}
      },
      "source": [
        "def forwardSubst(mat):\n",
        "  ## A must be square\n",
        "  A = np.array(mat);\n",
        "  assert A.shape[0] == A.shape[1];\n",
        "  \n",
        "  I = np.eye(A.shape[0]);\n",
        "  n = A.shape[0];\n",
        "  \n",
        "  ## Gaussian elimination, forward \n",
        "  for i in range(n-1):\n",
        "    I[i,:] /= A[i,i];\n",
        "    A[i,:] = A[i,:]/A[i,i];\n",
        "\n",
        "    for j in range(i+1, n):\n",
        "      f = A[j,i];\n",
        "      I[j,:] -= I[i,:]*f;\n",
        "      A[j,:] -= A[i,:]*f;\n",
        "\n",
        "  return I;\n",
        "\n",
        "def gaussSeidel(A,b):\n",
        "  L = np.tril(A);\n",
        "  li = forwardSubst(L);\n",
        "\n",
        "  return richardsonIter(li@A, li@b, 1);"
      ],
      "execution_count": 0,
      "outputs": []
    },
    {
      "cell_type": "code",
      "metadata": {
        "id": "_gVgmeiK7Nu4",
        "colab_type": "code",
        "outputId": "39f6e8bf-ee64-4146-ad15-39e5878a9b5b",
        "colab": {
          "base_uri": "https://localhost:8080/",
          "height": 156
        }
      },
      "source": [
        "n = np.random.randint(2,10);\n",
        "A = np.random.rand(n,n);\n",
        "A = (A.transpose()+A)/2;\n",
        "A += np.diag(np.diag(np.random.rand(n,n)+1)*20);\n",
        "A /= (np.max(np.linalg.eig(A)[0]) +1);\n",
        "\n",
        "x = np.random.rand(n);\n",
        "b = A@x;\n",
        "\n",
        "print(\"Jacobi:\");\n",
        "print(np.linalg.norm(jacobiIter(A,b)-x) < 10**(-8));\n",
        "print(np.linalg.norm(A@jacobiIter(A,b)-b) < 10**(-8));\n",
        "print(np.allclose(x,jacobiIter(A,b)));\n",
        "\n",
        "print(\"Gauss Seidel:\");\n",
        "print(np.linalg.norm(gaussSeidel(A,b)-x) < 10**(-8));\n",
        "print(np.linalg.norm(A@gaussSeidel(A,b)-b) < 10**(-8));\n",
        "print(np.allclose(x,gaussSeidel(A,b)));"
      ],
      "execution_count": 6,
      "outputs": [
        {
          "output_type": "stream",
          "text": [
            "Jacobi:\n",
            "True\n",
            "True\n",
            "True\n",
            "Gauss Seidel:\n",
            "True\n",
            "True\n",
            "True\n"
          ],
          "name": "stdout"
        }
      ]
    },
    {
      "cell_type": "markdown",
      "metadata": {
        "id": "c7ZrBhnPp0k9",
        "colab_type": "text"
      },
      "source": [
        "**Newtons Method**\n",
        "Newton Raphsons method can be used for finding the roots of non-linear functions,and is very efficient. "
      ]
    },
    {
      "cell_type": "code",
      "metadata": {
        "id": "92aNBrp4qSQ9",
        "colab_type": "code",
        "colab": {}
      },
      "source": [
        "def derivative(func, x, delta=10**(-6)):\n",
        "  f1 = func(x-delta/2);\n",
        "  f2 = func(x+delta/2);\n",
        "  return (f2-f1)/delta;\n",
        "\n",
        "def newtonRaphson(f, x0=0, tolerance=10**(-8), max_iter=100):\n",
        "  x = x0;\n",
        "  i=0;\n",
        "  while(np.abs(f(x)) > tolerance):\n",
        "    df = derivative(f, x);\n",
        "    x -= f(x)/df;\n",
        "    i+=1;\n",
        "    if(i> max_iter):\n",
        "      raise ArithmeticError(\"Solution does not converge\");\n",
        "\n",
        "  return x;"
      ],
      "execution_count": 0,
      "outputs": []
    },
    {
      "cell_type": "code",
      "metadata": {
        "id": "Yy8MOoe8uaZR",
        "colab_type": "code",
        "outputId": "0f5ddbb7-9bc4-43ea-ad27-15bcb51ca9e6",
        "colab": {
          "base_uri": "https://localhost:8080/",
          "height": 303
        }
      },
      "source": [
        "def polynomial(x0=0):\n",
        "  ## Random polynomial\n",
        "  c = [np.random.rand()*2-1 for i in range(np.random.randint(2,7))];\n",
        "  p1 = np.polynomial.polynomial.Polynomial(c);\n",
        "\n",
        "  #Force a zero at x0:\n",
        "  p2 = np.polynomial.polynomial.Polynomial([-x0, 1]);\n",
        "  return np.polymul(p1,p2)[0];\n",
        "\n",
        "p = polynomial(x0=2);\n",
        "x = np.arange(-5,5,0.001);\n",
        "y = p(x);\n",
        "plt.plot(x,y);\n",
        "\n",
        "try:\n",
        "  x0 = newtonRaphson(p,x0=-5);\n",
        "  x1 = newtonRaphson(p,x0=5);\n",
        "  print(\"x0:\", x0, \"p(x0):\", p(x0));\n",
        "  print(\"x1:\", x1, \"p(x1):\", p(x1));\n",
        "  plt.plot([x0,x1],[0,0], \"x\", linewidth=2.0);\n",
        "except ArithmeticError:\n",
        "  print(\"No convergence\");\n",
        "plt.grid(True);\n",
        "plt.show();"
      ],
      "execution_count": 8,
      "outputs": [
        {
          "output_type": "stream",
          "text": [
            "x0: 2.0000000001856946 p(x0): 8.279966712265718e-10\n",
            "x1: 2.000000000000109 p(x1): 4.856115509710435e-13\n"
          ],
          "name": "stdout"
        },
        {
          "output_type": "display_data",
          "data": {
            "image/png": "[encoded data removed]",
            "text/plain": [
              "<Figure size 432x288 with 1 Axes>"
            ]
          },
          "metadata": {
            "tags": []
          }
        }
      ]
    },
    {
      "cell_type": "markdown",
      "metadata": {
        "id": "W24aa1mc3sPu",
        "colab_type": "text"
      },
      "source": [
        "**GMRES**\n",
        "Generalized minimum residual method is an iterative method for finding the solution to systems of equations, more general than other methods. It works in ths rylov subspace that grows for each iteration, which means that it is more efficient in the beginning of the iterations than the end. This can be remedied by restarting the iterations with the current solution as the initial guess. This is not implemented here."
      ]
    },
    {
      "cell_type": "code",
      "metadata": {
        "id": "CtAPqyh03wr7",
        "colab_type": "code",
        "colab": {}
      },
      "source": [
        "def arnoldi(A,b,k):\n",
        "\n",
        "  m = A.shape[0];\n",
        "  n = A.shape[1];\n",
        "  Q = np.zeros((m,k+1));\n",
        "  H = np.zeros((k+1,k));\n",
        "\n",
        "  Q[:,0] = b/np.linalg.norm(b);\n",
        "  for i in range(k):\n",
        "    v = A @ Q[:,i];\n",
        "\n",
        "    for j in range(i+1):\n",
        "      H[j,i] = np.dot(Q[:,j], v);\n",
        "      v -= H[j,i]*Q[:,j];\n",
        "\n",
        "    H[i+1,i] = np.linalg.norm(v);\n",
        "    Q[:,i+1] = v / H[i+1,i];\n",
        "\n",
        "  return Q,H;\n",
        "\n",
        "def stdBasis(k):\n",
        "  b = np.zeros(k);\n",
        "  b[0]=1;\n",
        "  return b;\n",
        "\n",
        "def gmres(A,b, tolerance=10**(-8)):\n",
        "  b_norm = np.linalg.norm(b);\n",
        "  r = b;\n",
        "\n",
        "  k=1;\n",
        "  while(np.linalg.norm(r)/b_norm > tolerance):\n",
        "    Q,H = arnoldi(A,b,k);\n",
        "\n",
        "    y = np.linalg.lstsq(H, b_norm*stdBasis(k+1), rcond=None)[0];\n",
        "    r = H@y;\n",
        "    r = b_norm*stdBasis(k+1)-r;\n",
        "    k += 1;\n",
        "\n",
        "\n",
        "  return Q[:,0:k-1] @ y, k;\n"
      ],
      "execution_count": 0,
      "outputs": []
    },
    {
      "cell_type": "code",
      "metadata": {
        "id": "TKXkmq0eAkOs",
        "colab_type": "code",
        "outputId": "4e5477cb-8453-4d72-a66e-01ab00992917",
        "colab": {
          "base_uri": "https://localhost:8080/",
          "height": 86
        }
      },
      "source": [
        "n = np.random.randint(2,10);\n",
        "A = np.random.rand(n,n);\n",
        "x = np.random.rand(n);\n",
        "b = A@x;\n",
        "\n",
        "y,k = gmres(A,b);\n",
        "print(\"#iterations:\", k);\n",
        "print(np.linalg.norm(A@y - b) < 10**(-8));\n",
        "print(np.linalg.norm(y-x) < 10**(-8));\n",
        "print(np.allclose(x,y));"
      ],
      "execution_count": 10,
      "outputs": [
        {
          "output_type": "stream",
          "text": [
            "#iterations: 6\n",
            "True\n",
            "True\n",
            "True\n"
          ],
          "name": "stdout"
        }
      ]
    },
    {
      "cell_type": "markdown",
      "metadata": {
        "id": "ZWKLpP8NxSFM",
        "colab_type": "text"
      },
      "source": [
        "**Newtons method for systems**\n",
        "Like Newtons method for scalar functions, Newtons method for systems solves the vector valued function $\\vec{f}(\\mathbf{x})=\\mathbf{0}$. The method reduces to the scalar version for vectors of length 1. It works by calculating the Jacobi matrix and then solving the equation $J\\times \\mathbf{dx} = \\vec{f}(\\mathbf{x})$, then updating its current guess by $\\mathbf{x}_{n+1}=\\mathbf{x}_{n}-\\mathbf{dx}$.\n",
        "\n"
      ]
    },
    {
      "cell_type": "code",
      "metadata": {
        "id": "fjLhPGiFJdEr",
        "colab_type": "code",
        "colab": {}
      },
      "source": [
        "def grad(f, x, delta=10**(-6)):\n",
        "  d = np.zeros(len(x));\n",
        "  for i in range(len(x)):\n",
        "    dx = np.zeros(len(x));\n",
        "    dx[i] += delta/2;\n",
        "    d[i] = (f(x+dx)-f(x-dx))/delta;\n",
        "\n",
        "  return d;\n",
        "\n",
        "def jacobi(f, x, delta=10**(-6)):\n",
        "  n = len(x);\n",
        "  J = np.zeros((n,n));\n",
        "  for i in range(n):\n",
        "    J[i,:] = grad(f[i], x, delta=delta);\n",
        "\n",
        "  return J;\n",
        "\n",
        "def newtonVector(f, x0=0, tolerance=10**(-10), max_iter=100):\n",
        "  if(x0 is 0):\n",
        "    x = np.zeros(len(f)-1);\n",
        "  else:\n",
        "    assert len(f)-1 == len(x0);\n",
        "    x = x0;\n",
        "\n",
        "  i=0;\n",
        "  while (np.linalg.norm(f[0](x)) > tolerance):\n",
        "    J = jacobi(f[1:],x);  ## f[0] is vector function, f[1:] is f1,f2...\n",
        "    dx,k = gmres(J, f[0](x));\n",
        "    x -= dx;\n",
        "\n",
        "    i+=1;\n",
        "    if(i> max_iter):\n",
        "      raise ArithmeticError(\"Function does not converge\");\n",
        "\n",
        "  return x;"
      ],
      "execution_count": 0,
      "outputs": []
    },
    {
      "cell_type": "code",
      "metadata": {
        "id": "Vjp2a0OqS5im",
        "colab_type": "code",
        "outputId": "88627962-55ff-4c5c-8cab-d1c7b6a184e5",
        "colab": {
          "base_uri": "https://localhost:8080/",
          "height": 86
        }
      },
      "source": [
        "def nDimPolynomial(n):\n",
        "  p = [];\n",
        "  for i in range(n):\n",
        "    z = np.random.rand()*2-1;\n",
        "    p.append(polynomial(z));\n",
        "  ## Create a polynomial in n variables. Multiply together the products\n",
        "  ## of f1(x1)*f2(x2)*...*fn(xn).  \n",
        "  f = lambda x: np.prod([p[i](x[i]) for i in range(n)]);\n",
        "  return f;\n",
        "\n",
        "def vectorPolynomial(n):\n",
        "  f = [nDimPolynomial(n) for i in range(n)];\n",
        "  ## Create\n",
        "  f0 = lambda x: [fn(x) for fn in f];\n",
        "  funct = [f0] + f;\n",
        "  return f0, funct;\n",
        "\n",
        "\n",
        "n = np.random.randint(2,8);\n",
        "f, f_list = vectorPolynomial(n);\n",
        "\n",
        "x0 = newtonVector(f_list);\n",
        "print(f(np.zeros(n)));\n",
        "print(x0);\n",
        "print(f(x0));\n",
        "print(\"Norm f(x0):\", np.linalg.norm(f(x0)));"
      ],
      "execution_count": 23,
      "outputs": [
        {
          "output_type": "stream",
          "text": [
            "[-0.006245578337021911, -0.0008222412850098468, 0.00029035695969628953, -2.3201791409695495e-06]\n",
            "[ 0.38328453 -0.08447933  0.33257923 -0.36069208]\n",
            "[-9.889148870930338e-14, -1.0497406480196706e-13, 1.3565467305508291e-15, 7.278068811190934e-14]\n",
            "Norm f(x0): 1.6154859826462453e-13\n"
          ],
          "name": "stdout"
        }
      ]
    },
    {
      "cell_type": "code",
      "metadata": {
        "id": "MM2iEbZZZQoH",
        "colab_type": "code",
        "colab": {}
      },
      "source": [
        ""
      ],
      "execution_count": 0,
      "outputs": []
    },
    {
      "cell_type": "markdown",
      "metadata": {
        "id": "SsQLT38gVbn_",
        "colab_type": "text"
      },
      "source": [
        "# **Results**"
      ]
    },
    {
      "cell_type": "code",
      "metadata": {
        "id": "DeKYyHes3v-n",
        "colab_type": "code",
        "colab": {
          "base_uri": "https://localhost:8080/",
          "height": 211
        },
        "outputId": "bccdc38f-591c-4201-d05b-3c2371791529"
      },
      "source": [
        "class TestMatrixMethods(unittest.TestCase):\n",
        "\n",
        "  def test_jacobiGauss(self):\n",
        "    for i in range(1000):\n",
        "      n = np.random.randint(2,10);\n",
        "      A = np.random.rand(n,n);\n",
        "      A = (A.transpose()+A)/2;\n",
        "      ## Make sure A has spectral radius < 1 (otherwise methods don't converge)\n",
        "      A += np.diag(np.diag(np.random.rand(n,n)+1)*20);\n",
        "      A /= (np.max(np.abs(np.linalg.eig(A)[0])) +1);\n",
        "\n",
        "      x = np.random.rand(n);\n",
        "      b = A@x;\n",
        "\n",
        "      self.assertTrue(np.linalg.norm(jacobiIter(A,b)-x) < 10**(-8));\n",
        "      self.assertTrue(np.linalg.norm(A@jacobiIter(A,b)-b) < 10**(-8));\n",
        "\n",
        "      self.assertTrue(np.linalg.norm(gaussSeidel(A,b)-x) < 10**(-8));\n",
        "      self.assertTrue(np.linalg.norm(A@gaussSeidel(A,b)-b) < 10**(-8));\n",
        "\n",
        "      self.assertTrue(np.allclose(x,jacobiIter(A,b)));\n",
        "      self.assertTrue(np.allclose(x,gaussSeidel(A,b)));\n",
        "\n",
        "  def test_gmres(self):\n",
        "    for i in range(1000):\n",
        "      n = np.random.randint(2,10);\n",
        "      A = np.random.rand(n,n);\n",
        "      x = np.random.rand(n);\n",
        "      b = A@x;\n",
        "\n",
        "      y,k = gmres(A,b);\n",
        "      self.assertTrue(np.linalg.norm(x-y) < 10**(-8));\n",
        "      self.assertTrue(np.linalg.norm(A@y - b) < 10**(-8));\n",
        "\n",
        "  def test_newtonsmethod(self):\n",
        "    for i in range(1000):\n",
        "      zero = np.random.rand()*5-2.5;\n",
        "      p = polynomial(zero);\n",
        "\n",
        "      try:\n",
        "        x0 = newtonRaphson(p,x0=zero+np.random.rand()*2-1);\n",
        "        self.assertTrue(p(x0) < 10**(-8));\n",
        "      except ArithmeticError:\n",
        "        ## If solution does not converge first time, try again with new initial guess\n",
        "        x0 = newtonRaphson(p,x0=zero+np.random.rand()-1/2);\n",
        "        self.assertTrue(p(x0) < 10**(-8));\n",
        "\n",
        "  def test_newtonsystem(self):\n",
        "    for i in range(100):\n",
        "      n = np.random.randint(2,8);\n",
        "      f, f_list = vectorPolynomial(n);\n",
        "\n",
        "      try:\n",
        "        x0 = np.random.rand(n);\n",
        "        x0 = newtonVector(f_list, x0=x0);\n",
        "      except ArithmeticError:\n",
        "        x0 = np.random.rand(n);\n",
        "        x0 = newtonVector(f_list, x0=x0);\n",
        "\n",
        "      self.assertTrue(np.linalg.norm(f(x0))< 10**(-8));\n",
        "\n",
        "unittest.main(argv=[''], verbosity=2, exit=False);"
      ],
      "execution_count": 26,
      "outputs": [
        {
          "output_type": "stream",
          "text": [
            "test_gmres (__main__.TestMatrixMethods) ... /usr/local/lib/python3.6/dist-packages/ipykernel_launcher.py:17: RuntimeWarning: invalid value encountered in true_divide\n",
            "ok\n",
            "test_jacobiGauss (__main__.TestMatrixMethods) ... ok\n",
            "test_newtonsmethod (__main__.TestMatrixMethods) ... ok\n",
            "test_newtonsystem (__main__.TestMatrixMethods) ... ok\n",
            "\n",
            "----------------------------------------------------------------------\n",
            "Ran 4 tests in 14.458s\n",
            "\n",
            "OK\n"
          ],
          "name": "stderr"
        }
      ]
    },
    {
      "cell_type": "markdown",
      "metadata": {
        "id": "RLwlnOzuV-Cd",
        "colab_type": "text"
      },
      "source": [
        "All the tests passed, and the methods seems to work. It is slightly random if Newtons method for system converges, since the polynomials are very difficult to control. "
      ]
    },
    {
      "cell_type": "markdown",
      "metadata": {
        "id": "_4GLBv0zWr7m",
        "colab_type": "text"
      },
      "source": [
        "# **Discussion**\n",
        "\n",
        "The implementations of the Jacobi and Gauss-Seidel iterations works as intended for matrices that have a spectral radius < 1. The generation of these are somewhat arbitrary, and there might be other ways of doing this that is not tested in this report. For the inputs as they are generated, the methods work as intended.\n",
        "\n",
        "The implementations of GMRes works for any input, as long as a solution actually exists.\n",
        "\n",
        "The implementations of Newtons method also seems to work, but they are more involved to write tests for. Testing these functions proved to be more of a difficult task than before, due to the need to generate random functions that is guarranteed to have roots, and that are also vector valued. Some ugly code was needed for this, but in the end it seems to work."
      ]
    }
  ]
}