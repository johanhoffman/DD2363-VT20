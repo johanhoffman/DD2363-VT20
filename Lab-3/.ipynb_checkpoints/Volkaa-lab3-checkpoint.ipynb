{
 "cells": [
  {
   "cell_type": "markdown",
   "metadata": {
    "toc": true
   },
   "source": [
    "<h1>Table of Contents<span class=\"tocSkip\"></span></h1>\n",
    "<div class=\"toc\"><ul class=\"toc-item\"><li><span><a href=\"#Lab-3:-Iterative-methods\" data-toc-modified-id=\"Lab-3:-Iterative-methods-1\"><span class=\"toc-item-num\">1&nbsp;&nbsp;</span><strong>Lab 3: Iterative methods</strong></a></span></li><li><span><a href=\"#Abstract\" data-toc-modified-id=\"Abstract-2\"><span class=\"toc-item-num\">2&nbsp;&nbsp;</span><strong>Abstract</strong></a></span></li><li><span><a href=\"#Set-up-environment\" data-toc-modified-id=\"Set-up-environment-3\"><span class=\"toc-item-num\">3&nbsp;&nbsp;</span><strong>Set up environment</strong></a></span></li><li><span><a href=\"#Introduction\" data-toc-modified-id=\"Introduction-4\"><span class=\"toc-item-num\">4&nbsp;&nbsp;</span><strong>Introduction</strong></a></span></li><li><span><a href=\"#Methods\" data-toc-modified-id=\"Methods-5\"><span class=\"toc-item-num\">5&nbsp;&nbsp;</span><strong>Methods</strong></a></span><ul class=\"toc-item\"><li><span><a href=\"#Iterative-methods-on-systems-of-linear-equation\" data-toc-modified-id=\"Iterative-methods-on-systems-of-linear-equation-5.1\"><span class=\"toc-item-num\">5.1&nbsp;&nbsp;</span>Iterative methods on systems of linear equation</a></span><ul class=\"toc-item\"><li><span><a href=\"#Jacobi-iterative-method\" data-toc-modified-id=\"Jacobi-iterative-method-5.1.1\"><span class=\"toc-item-num\">5.1.1&nbsp;&nbsp;</span>Jacobi iterative method</a></span></li><li><span><a href=\"#Gauss-Seidel-iterative-method\" data-toc-modified-id=\"Gauss-Seidel-iterative-method-5.1.2\"><span class=\"toc-item-num\">5.1.2&nbsp;&nbsp;</span>Gauss-Seidel iterative method</a></span></li></ul></li><li><span><a href=\"#Newton's-method-for-nonlinear-equation-f(x)=[0]\" data-toc-modified-id=\"Newton's-method-for-nonlinear-equation-f(x)=[0]-5.2\"><span class=\"toc-item-num\">5.2&nbsp;&nbsp;</span>Newton's method for nonlinear equation f(x)=[0]</a></span><ul class=\"toc-item\"><li><span><a href=\"#Newton's-method-for-scalar-nonlinear-equation-f(x)=0\" data-toc-modified-id=\"Newton's-method-for-scalar-nonlinear-equation-f(x)=0-5.2.1\"><span class=\"toc-item-num\">5.2.1&nbsp;&nbsp;</span>Newton's method for scalar nonlinear equation f(x)=0</a></span></li><li><span><a href=\"#Newton's-method-for-vector-nonlinear-equation-f(x)=[0]\" data-toc-modified-id=\"Newton's-method-for-vector-nonlinear-equation-f(x)=[0]-5.2.2\"><span class=\"toc-item-num\">5.2.2&nbsp;&nbsp;</span>Newton's method for vector nonlinear equation f(x)=[0]</a></span></li></ul></li></ul></li><li><span><a href=\"#Results\" data-toc-modified-id=\"Results-6\"><span class=\"toc-item-num\">6&nbsp;&nbsp;</span><strong>Results</strong></a></span><ul class=\"toc-item\"><li><span><a href=\"#Iterative-methods-on-systems-of-linear-equation\" data-toc-modified-id=\"Iterative-methods-on-systems-of-linear-equation-6.1\"><span class=\"toc-item-num\">6.1&nbsp;&nbsp;</span>Iterative methods on systems of linear equation</a></span><ul class=\"toc-item\"><li><span><a href=\"#Jacobi-iterative-method\" data-toc-modified-id=\"Jacobi-iterative-method-6.1.1\"><span class=\"toc-item-num\">6.1.1&nbsp;&nbsp;</span>Jacobi iterative method</a></span></li><li><span><a href=\"#Gauss-Seidel-iterative-method\" data-toc-modified-id=\"Gauss-Seidel-iterative-method-6.1.2\"><span class=\"toc-item-num\">6.1.2&nbsp;&nbsp;</span>Gauss-Seidel iterative method</a></span></li></ul></li><li><span><a href=\"#Newton's-method-for-nonlinear-equation-f(x)=[0]\" data-toc-modified-id=\"Newton's-method-for-nonlinear-equation-f(x)=[0]-6.2\"><span class=\"toc-item-num\">6.2&nbsp;&nbsp;</span>Newton's method for nonlinear equation f(x)=[0]</a></span><ul class=\"toc-item\"><li><span><a href=\"#Newton's-method-for-scalar-nonlinear-equation-f(x)=0\" data-toc-modified-id=\"Newton's-method-for-scalar-nonlinear-equation-f(x)=0-6.2.1\"><span class=\"toc-item-num\">6.2.1&nbsp;&nbsp;</span>Newton's method for scalar nonlinear equation f(x)=0</a></span></li><li><span><a href=\"#Newton's-method-for-vector-nonlinear-equation-f(x)=0\" data-toc-modified-id=\"Newton's-method-for-vector-nonlinear-equation-f(x)=0-6.2.2\"><span class=\"toc-item-num\">6.2.2&nbsp;&nbsp;</span>Newton's method for vector nonlinear equation f(x)=0</a></span></li></ul></li></ul></li><li><span><a href=\"#Discussion\" data-toc-modified-id=\"Discussion-7\"><span class=\"toc-item-num\">7&nbsp;&nbsp;</span><strong>Discussion</strong></a></span></li></ul></div>"
   ]
  },
  {
   "cell_type": "markdown",
   "metadata": {
    "colab_type": "text",
    "id": "view-in-github"
   },
   "source": [
    "<a href=\"https://colab.research.google.com/github/johanhoffman/DD2363-VT20/blob/Volkaa/Lab-3/Volkaa_lab3.ipynb\" target=\"_parent\"><img src=\"https://colab.research.google.com/assets/colab-badge.svg\" alt=\"Open In Colab\"/></a>"
   ]
  },
  {
   "cell_type": "markdown",
   "metadata": {
    "colab_type": "text",
    "id": "6RgtXlfYO_i7"
   },
   "source": [
    "# **Lab 3: Iterative methods**\n",
    "**Matthis Manthe**"
   ]
  },
  {
   "cell_type": "markdown",
   "metadata": {
    "colab_type": "text",
    "id": "9x_J5FVuPzbm"
   },
   "source": [
    "# **Abstract**"
   ]
  },
  {
   "cell_type": "markdown",
   "metadata": {},
   "source": [
    "In contrast with the last lab, where direct method to solve systems of linear equation, we, in this report, explore and implement multiple iterative methods to approximation the solution for such systems. We also implement the newton's method, used to solve systems of noninear equation of the time f(x)=[0]. All the presented algorithms are implemented, and validated on different test cases."
   ]
  },
  {
   "cell_type": "markdown",
   "metadata": {
    "colab_type": "text",
    "id": "HmB2noTr1Oyo"
   },
   "source": [
    "A short statement on who is the author of the file, and if the code is distributed under a certain license. "
   ]
  },
  {
   "cell_type": "code",
   "execution_count": 47,
   "metadata": {
    "colab": {
     "base_uri": "https://localhost:8080/",
     "height": 34
    },
    "colab_type": "code",
    "id": "Pdll1Xc9WP0e",
    "outputId": "f74fa781-413b-41e7-a2ec-1bba2288ad4f"
   },
   "outputs": [
    {
     "data": {
      "text/plain": [
       "'KTH Royal Institute of Technology, Stockholm, Sweden.'"
      ]
     },
     "execution_count": 47,
     "metadata": {},
     "output_type": "execute_result"
    }
   ],
   "source": [
    "\"\"\"This program uses a template for lab reports in the course\"\"\"\n",
    "\"\"\"DD2363 Methods in Scientific Computing, \"\"\"\n",
    "\"\"\"KTH Royal Institute of Technology, Stockholm, Sweden.\"\"\"\n",
    "\n",
    "# Copyright (C) 2019 Johan Hoffman (jhoffman@kth.se)\n",
    "\n",
    "# This file is part of the course DD2363 Methods in Scientific Computing\n",
    "# KTH Royal Institute of Technology, Stockholm, Sweden\n",
    "#\n",
    "# This is free software: you can redistribute it and/or modify\n",
    "# it under the terms of the GNU Lesser General Public License as published by\n",
    "# the Free Software Foundation, either version 3 of the License, or\n",
    "# (at your option) any later version.\n",
    "\n",
    "# This template is maintained by Johan Hoffman\n",
    "# Please report problems to jhoffman@kth.se"
   ]
  },
  {
   "cell_type": "markdown",
   "metadata": {
    "colab_type": "text",
    "id": "28xLGz8JX3Hh"
   },
   "source": [
    "# **Set up environment**"
   ]
  },
  {
   "cell_type": "markdown",
   "metadata": {
    "colab_type": "text",
    "id": "D2PYNusD08Wa"
   },
   "source": [
    "To have access to the neccessary modules you have to run this cell. If you need additional modules, this is where you add them. "
   ]
  },
  {
   "cell_type": "code",
   "execution_count": 1,
   "metadata": {
    "colab": {},
    "colab_type": "code",
    "id": "Xw7VlErAX7NS"
   },
   "outputs": [],
   "source": [
    "# Load neccessary modules.\n",
    "# from google.colab import files\n",
    "\n",
    "import time\n",
    "import numpy as np\n",
    "\n",
    "from matplotlib import pyplot as plt\n",
    "from matplotlib import tri\n",
    "from matplotlib import axes\n",
    "from mpl_toolkits.mplot3d import Axes3D"
   ]
  },
  {
   "cell_type": "markdown",
   "metadata": {
    "colab_type": "text",
    "id": "gnO3lhAigLev"
   },
   "source": [
    "# **Introduction**"
   ]
  },
  {
   "cell_type": "markdown",
   "metadata": {},
   "source": [
    "We implement in this third lab multiple functions, direct implementation of known iterative methods to solve different types of systems of equation. The first two methods are Jacobi's and Gauss Seidel's method to approximate the solution to a system of linear equation. The two last are implementation of Newton's method for scalar nonlinear equation of the type f(x)=0, and its associated vector version. All the methods and algorithms are taken from the fourth part of the course : [DD2363 course content.](https://kth.instructure.com/courses/17068/files/2484979?module_item_id=189858)"
   ]
  },
  {
   "cell_type": "markdown",
   "metadata": {
    "colab_type": "text",
    "id": "WeFO9QMeUOAu"
   },
   "source": [
    "# **Methods**"
   ]
  },
  {
   "cell_type": "markdown",
   "metadata": {},
   "source": [
    "## Iterative methods on systems of linear equation"
   ]
  },
  {
   "cell_type": "markdown",
   "metadata": {},
   "source": [
    "These are implementations of the Jacobi iterative method, and the Gauss Seidel iterative method (see the course content for more detail). Given an equation of the form $Ax=b, A\\in \\mathbb{R}^{n*n}, b,x\\in \\mathbb{R}^n$, with A and b fixed, this function outputs a numpy array of all the approximations of x at each iteration in order, with x[-1] being the last and most precise approximation of x.\n",
    "\n",
    "A must be a $n*n$ matrix as a numpy array. b must be a numpy array of size n, and TOL is the precision required for the approximated solution such that $||Ax-b||\\leq TOL$ for the approximated x. A must be nonsingular, and for the algorithms to converge, it must also be diagonally dominant."
   ]
  },
  {
   "cell_type": "markdown",
   "metadata": {},
   "source": [
    "### Jacobi iterative method"
   ]
  },
  {
   "cell_type": "code",
   "execution_count": 7,
   "metadata": {},
   "outputs": [],
   "source": [
    "def jacobi(A,b,TOL):\n",
    "    n = A.shape[1]\n",
    "    x = [np.zeros(n)]\n",
    "    while (np.linalg.norm(np.matmul(A,x[-1])-b) > TOL):\n",
    "        new_x = np.array([(1/A[i,i])*(b[i]-np.sum([A[i,j]*x[-1][j] if j!=i else 0 for j in range(n)])) for i in range(n)])\n",
    "        x.append(new_x)\n",
    "        if np.linalg.norm(np.matmul(A,x[-1])-b) > np.linalg.norm(np.matmul(A,x[-2])-b): break\n",
    "    return x"
   ]
  },
  {
   "cell_type": "markdown",
   "metadata": {},
   "source": [
    "### Gauss-Seidel iterative method"
   ]
  },
  {
   "cell_type": "code",
   "execution_count": 8,
   "metadata": {},
   "outputs": [],
   "source": [
    "def gauss_seidel(A,b,TOL):\n",
    "    n = A.shape[1]\n",
    "    x = [np.zeros(n)]\n",
    "    while (np.linalg.norm(np.matmul(A,x[-1])-b) > TOL):\n",
    "        new_x = np.zeros(n)\n",
    "        for i in range(n):\n",
    "            new_x[i] = (1/A[i,i])*(b[i]-np.sum([A[i,j]*new_x[j] for j in range(i)]) - np.sum([A[i,j]*x[-1][j] for j in range(i+1,n)]))\n",
    "        x.append(new_x)\n",
    "        if np.linalg.norm(np.matmul(A,x[-1])-b) > np.linalg.norm(np.matmul(A,x[-2])-b): break\n",
    "    return x"
   ]
  },
  {
   "cell_type": "markdown",
   "metadata": {},
   "source": [
    "## Newton's method for nonlinear equation f(x)=[0]"
   ]
  },
  {
   "cell_type": "markdown",
   "metadata": {},
   "source": [
    "These are implementations of Newton's method for nonlinear equation of the form f(x)=[0], for a fixed nonlinear function f. The first one conserns only function $f : \\mathbb{R}\\rightarrow \\mathbb{R}$, the second one generalizing the method to functions $f : \\mathbb{R}^n \\rightarrow \\mathbb{R}^n$. \n",
    "\n",
    "In both of these implementations, function is a function with signature $function(x)$, with x being a scalar for the first implementation, a numpy array for the second, returning the value of the function as a scalar or a numpy array. start is the starting vector for the iterative method, as a numpy array. TOL is the same as the previous implementations : the required precision such that $||function(x)||\\leq TOL$. Finally, h is a parameter used in the apprixmation of the derivative for the scalar version, and of the jacobian for the vector version. For both, discrete difference is used to approximate those, h being the size of the interval including the scalar/vector x for which computing the derivative/jacobian. These functions outputs a numpy array of all the approximations of x at each iteration in order, with x[-1] being the last and most precise approximation of x.\n"
   ]
  },
  {
   "cell_type": "markdown",
   "metadata": {},
   "source": [
    "### Newton's method for scalar nonlinear equation f(x)=0"
   ]
  },
  {
   "cell_type": "code",
   "execution_count": 21,
   "metadata": {},
   "outputs": [],
   "source": [
    "def derivative(function, x, h):\n",
    "    f_a = function(x-h/2)\n",
    "    f_b = function(x+h/2)\n",
    "    return (f_b-f_a)/h\n",
    "\n",
    "def newton_scalar(function, start, h, TOL):\n",
    "    x = [start]\n",
    "    while (np.abs(function(x[-1])) > TOL):\n",
    "        df = derivative(function, x[-1], h)\n",
    "        new_x = x[-1] - function(x[-1])/df\n",
    "        x.append(new_x)\n",
    "    return x"
   ]
  },
  {
   "cell_type": "markdown",
   "metadata": {},
   "source": [
    "### Newton's method for vector nonlinear equation f(x)=[0]"
   ]
  },
  {
   "cell_type": "code",
   "execution_count": 26,
   "metadata": {},
   "outputs": [],
   "source": [
    "def jacobian(function, vec_x, h):\n",
    "    jac = np.zeros((len(vec_x), len(vec_x)))\n",
    "    for i in range(len(vec_x)):\n",
    "        for j in range(len(vec_x)):\n",
    "            implement = np.array([h/2 if k==j else 0 for k in range(len(vec_x))])\n",
    "            jac[i,j] = (function(vec_x+implement)[i] - function(vec_x-implement)[i])/h\n",
    "    return jac\n",
    "\n",
    "def newton_vector(function, start, h, TOL):\n",
    "    x = [start]\n",
    "    while (np.linalg.norm(function(x[-1])) > TOL):\n",
    "        Df = jacobian(function, x[-1], h)\n",
    "        dx = np.linalg.solve(Df,-function(x[-1]))\n",
    "        new_x = x[-1]+dx\n",
    "        x.append(new_x)\n",
    "    return x"
   ]
  },
  {
   "cell_type": "markdown",
   "metadata": {
    "colab_type": "text",
    "id": "SsQLT38gVbn_"
   },
   "source": [
    "# **Results**"
   ]
  },
  {
   "cell_type": "markdown",
   "metadata": {},
   "source": [
    "## Iterative methods on systems of linear equation"
   ]
  },
  {
   "cell_type": "markdown",
   "metadata": {},
   "source": [
    "To test the correctness of our algorithms, we generate random test cases of the form $Ax=b$, with known A,x and b, and A nonsingular. We test that the methods converge for diagonally dominant matrices A, and not necessarly for non diagonally dominant ones. We also verifies that the approximated solutions are correct solutions, and are close to the manufactured one."
   ]
  },
  {
   "cell_type": "markdown",
   "metadata": {},
   "source": [
    "### Jacobi iterative method"
   ]
  },
  {
   "cell_type": "code",
   "execution_count": 9,
   "metadata": {},
   "outputs": [],
   "source": [
    "def random_non_singular_square_diagonaly_dominant_matrix(n):\n",
    "    while True: \n",
    "        A = np.random.rand(n,n)*10\n",
    "        for i in range(n):\n",
    "            if np.sum(A[i])-A[i,i] >= 0:\n",
    "                A[i,i] = np.sum(A[i])\n",
    "        if np.linalg.matrix_rank(A)==n: break\n",
    "    return A\n",
    "\n",
    "def random_non_singular_square_non_diagonaly_dominant_matrix(n):\n",
    "    while True: \n",
    "        A = np.random.rand(n,n)*10\n",
    "        for i in range(n):\n",
    "            if np.sum(A[i])-A[i,i] <= 0:\n",
    "                A[i,i] = (np.sum(A[i])-A[i,i])/2\n",
    "        if np.linalg.matrix_rank(A)==n: break\n",
    "    return A"
   ]
  },
  {
   "cell_type": "code",
   "execution_count": 10,
   "metadata": {},
   "outputs": [],
   "source": [
    "def random_equation_jacobi_solvable():\n",
    "    n = np.random.randint(2,5)\n",
    "    A = random_non_singular_square_diagonaly_dominant_matrix(n)\n",
    "    x = np.random.rand(n)*10\n",
    "    b = np.matmul(A,x)\n",
    "    return A,x,b\n",
    "\n",
    "def random_equation_jacobi_non_solvable():\n",
    "    n = np.random.randint(2,5)\n",
    "    A = random_non_singular_square_non_diagonaly_dominant_matrix(n)\n",
    "    x = np.random.rand(n)*10\n",
    "    b = np.matmul(A,x)\n",
    "    return A,x,b"
   ]
  },
  {
   "cell_type": "code",
   "execution_count": 11,
   "metadata": {},
   "outputs": [],
   "source": [
    "def test_jacobi_iterative_method(random_equation):\n",
    "    A,x,b = random_equation()\n",
    "    TOL = 1e-4\n",
    "    print(\"A : \", A)\n",
    "    print(\"\\nb : \", b)\n",
    "    print(\"\\nManufactured solution : \", x)\n",
    "    print(\"\\nTOL : \", TOL)\n",
    "    sol = np.array(jacobi(A,b,TOL))\n",
    "    print(\"\\nFound solution : \", sol[-1])\n",
    "    norms = np.array([np.linalg.norm(np.matmul(A,sol[i])-b) for i in range(sol.shape[0])])\n",
    "    print(\"\\n||Ax-b|| at each iteration : \", norms)\n",
    "    diff = np.diff(norms)\n",
    "    print(\"\\nConvergence : \", np.all(diff<=0))\n",
    "    print(\"\\n||x-y|| = \", np.linalg.norm(x-sol[-1]))"
   ]
  },
  {
   "cell_type": "code",
   "execution_count": 12,
   "metadata": {
    "collapsed": true
   },
   "outputs": [
    {
     "name": "stdout",
     "output_type": "stream",
     "text": [
      "A :  [[12.66161952  2.02864545  4.44356851  3.71593484]\n",
      " [ 7.84078537 25.47726319  6.56942163  5.0464592 ]\n",
      " [ 7.84714385  4.45004428 30.78352528  8.63660854]\n",
      " [ 7.32211915  2.73959611  0.24458301 20.24010081]]\n",
      "\n",
      "b :  [174.45644113 237.8769048  265.55321553 214.81627315]\n",
      "\n",
      "Manufactured solution :  [9.94468511 4.04893147 3.7040974  6.42297728]\n",
      "\n",
      "TOL :  0.0001\n",
      "\n",
      "Found solution :  [9.94468652 4.04893287 3.70409865 6.42297832]\n",
      "\n",
      "||Ax-b|| at each iteration :  [4.51314761e+02 3.62996324e+02 2.37329539e+02 1.65441235e+02\n",
      " 1.12812498e+02 7.75829424e+01 5.31725411e+01 3.64942955e+01\n",
      " 2.50329923e+01 1.71751203e+01 1.17828078e+01 8.08373049e+00\n",
      " 5.54587294e+00 3.80478091e+00 2.61029073e+00 1.79080480e+00\n",
      " 1.22859173e+00 8.42882289e-01 5.78264154e-01 3.96721385e-01\n",
      " 2.72172946e-01 1.86725786e-01 1.28104279e-01 8.78866637e-02\n",
      " 6.02951417e-02 4.13658223e-02 2.83792558e-02 1.94697486e-02\n",
      " 1.33573309e-02 9.16387228e-03 6.28692630e-03 4.31318127e-03\n",
      " 2.95908236e-03 2.03009515e-03 1.39275824e-03 9.55509649e-04\n",
      " 6.55532788e-04 4.49731969e-04 3.08541155e-04 2.11676401e-04\n",
      " 1.45221790e-04 9.96302285e-05]\n",
      "\n",
      "Convergence :  True\n",
      "\n",
      "||x-y|| =  2.5609171152340706e-06\n"
     ]
    }
   ],
   "source": [
    "test_jacobi_iterative_method(random_equation_jacobi_solvable)"
   ]
  },
  {
   "cell_type": "code",
   "execution_count": 13,
   "metadata": {
    "collapsed": true
   },
   "outputs": [
    {
     "name": "stdout",
     "output_type": "stream",
     "text": [
      "A :  [[8.20946572 2.44579234 5.25836483]\n",
      " [3.06369398 5.13789825 0.97915002]\n",
      " [6.83931284 0.55712823 6.12311617]]\n",
      "\n",
      "b :  [56.12369364 49.6118163  44.386734  ]\n",
      "\n",
      "Manufactured solution :  [0.91773336 8.06249085 5.49037878]\n",
      "\n",
      "TOL :  0.0001\n",
      "\n",
      "Found solution :  [-0.68349395  4.1980377  -1.26563371]\n",
      "\n",
      "||Ax-b|| at each iteration :  [87.07114023 85.53234095 85.61475166]\n",
      "\n",
      "Convergence :  False\n",
      "\n",
      "||x-y|| =  7.946170898788422\n"
     ]
    }
   ],
   "source": [
    "test_jacobi_iterative_method(random_equation_jacobi_non_solvable)"
   ]
  },
  {
   "cell_type": "markdown",
   "metadata": {},
   "source": [
    "### Gauss-Seidel iterative method"
   ]
  },
  {
   "cell_type": "code",
   "execution_count": 24,
   "metadata": {},
   "outputs": [],
   "source": [
    "def test_gauss_seidel_iterative_method(random_equation):\n",
    "    A,x,b = random_equation()\n",
    "    TOL = 1e-4\n",
    "    print(\"A : \", A)\n",
    "    print(\"\\nb : \", b)\n",
    "    print(\"\\nManufactured solution : \", x)\n",
    "    print(\"\\nTOL : \", TOL)\n",
    "    sol = np.array(gauss_seidel(A,b,TOL))\n",
    "    print(\"\\nFound solution : \", sol[-1])\n",
    "    norms = np.array([np.linalg.norm(np.matmul(A,sol[i])-b) for i in range(sol.shape[0])])\n",
    "    print(\"\\n||Ax-b|| at each iteration : \", norms)\n",
    "    diff = np.diff(norms)\n",
    "    print(\"\\nConvergence : \", np.all(diff<=0))\n",
    "    print(\"\\n||x-y|| = \", np.linalg.norm(x-sol[-1]))"
   ]
  },
  {
   "cell_type": "code",
   "execution_count": 16,
   "metadata": {
    "collapsed": true
   },
   "outputs": [
    {
     "name": "stdout",
     "output_type": "stream",
     "text": [
      "A :  [[21.10997289  4.71261816  8.86436398  7.11868083]\n",
      " [ 0.25977855 12.48974547  5.10108421  6.55472627]\n",
      " [ 3.62008551  0.41946136 16.9459447   7.62304925]\n",
      " [ 7.38273942  8.86014507  7.27745052 31.64276462]]\n",
      "\n",
      "b :  [285.88370823  74.32675057 204.11652075 205.55492324]\n",
      "\n",
      "Manufactured solution :  [8.76863879 0.91599955 9.21623065 2.07414862]\n",
      "\n",
      "TOL :  0.0001\n",
      "\n",
      "Found solution :  [8.76863773 0.91600187 9.21623307 2.07414766]\n",
      "\n",
      "||Ax-b|| at each iteration :  [4.13727375e+02 1.13166771e+02 2.44546200e+01 9.80278406e+00\n",
      " 4.04897017e+00 9.02087851e-01 3.80067495e-01 1.52210038e-01\n",
      " 3.35191371e-02 1.46653772e-02 5.71018637e-03 1.24805408e-03\n",
      " 5.65418372e-04 2.13955681e-04 4.65853678e-05]\n",
      "\n",
      "Convergence :  True\n",
      "\n",
      "||x-y|| =  3.6460773220767025e-06\n"
     ]
    }
   ],
   "source": [
    "test_gauss_seidel_iterative_method(random_equation_jacobi_solvable)"
   ]
  },
  {
   "cell_type": "code",
   "execution_count": 17,
   "metadata": {
    "collapsed": true
   },
   "outputs": [
    {
     "name": "stdout",
     "output_type": "stream",
     "text": [
      "A :  [[7.45739478 1.03294631 6.1190821 ]\n",
      " [6.04407629 4.72480316 5.433105  ]\n",
      " [9.94685814 4.09300683 4.67958898]]\n",
      "\n",
      "b :  [ 81.53699846 108.20415113 105.47560258]\n",
      "\n",
      "Manufactured solution :  [2.54129166 9.78947379 8.57540096]\n",
      "\n",
      "TOL :  0.0001\n",
      "\n",
      "Found solution :  [ 16.67203827  11.34625494 -22.822324  ]\n",
      "\n",
      "||Ax-b|| at each iteration :  [171.70184384  62.95290458 115.34823069]\n",
      "\n",
      "Convergence :  False\n",
      "\n",
      "||x-y|| =  34.46619647353888\n"
     ]
    }
   ],
   "source": [
    "test_gauss_seidel_iterative_method(random_equation_jacobi_non_solvable)"
   ]
  },
  {
   "cell_type": "markdown",
   "metadata": {},
   "source": [
    "## Newton's method for nonlinear equation f(x)=[0]"
   ]
  },
  {
   "cell_type": "markdown",
   "metadata": {},
   "source": [
    "To test the correctness of our algorithms, we don't generate random nonlinear functions, which could be difficult, but instead test on two simple test cases, for which there is a known solution. We could generate more of these nonlinear functions, and still use the test functions. \n",
    "\n",
    "definition_interval is the list of definition interval as a list of size 2 for each component. man_sol is the manufactured solution, and h is exactly the same as for the previous method, used to compute the jacobian matrix of the conidered function."
   ]
  },
  {
   "cell_type": "markdown",
   "metadata": {},
   "source": [
    "### Newton's method for scalar nonlinear equation f(x)=0"
   ]
  },
  {
   "cell_type": "code",
   "execution_count": 28,
   "metadata": {},
   "outputs": [],
   "source": [
    "def square(x):\n",
    "    return x*x"
   ]
  },
  {
   "cell_type": "code",
   "execution_count": 43,
   "metadata": {},
   "outputs": [],
   "source": [
    "def x_cube_plus_8(x):\n",
    "    return x*x*x + 8"
   ]
  },
  {
   "cell_type": "code",
   "execution_count": 16,
   "metadata": {},
   "outputs": [],
   "source": [
    "def test_newton_scalar_method(function, definition_interval, man_sol, h):\n",
    "    start = np.random.rand()*(definition_interval[1]-definition_interval[0])+definition_interval[0]\n",
    "    TOL = 1e-4\n",
    "    print(\"Function : \", function.__name__)\n",
    "    print(\"\\nStarting scalar : \", start)\n",
    "    print(\"\\nManufactured solution : \", man_sol)\n",
    "    print(\"\\nTOL : \", TOL)\n",
    "    sol = np.array(newton_scalar(function, start, h, TOL))\n",
    "    print(\"\\nFound solution : \", sol[-1])\n",
    "    norms = np.array([np.abs(function(sol[i])) for i in range(sol.shape[0])])\n",
    "    print(\"\\n|f(x)| at each iteration : \", norms)\n",
    "    diff = np.diff(norms)\n",
    "    print(\"\\nConvergence : \", np.all(diff<=0))\n",
    "    print(\"\\n|x-y| = \", np.abs(man_sol-sol[-1]))"
   ]
  },
  {
   "cell_type": "code",
   "execution_count": 30,
   "metadata": {
    "collapsed": true
   },
   "outputs": [
    {
     "name": "stdout",
     "output_type": "stream",
     "text": [
      "Function :  square\n",
      "\n",
      "Starting scalar :  -2.3870157103039187\n",
      "\n",
      "Manufactured solution :  0\n",
      "\n",
      "TOL :  0.0001\n",
      "\n",
      "Found solution :  -0.009324280118374653\n",
      "\n",
      "|f(x)| at each iteration :  [5.69784400e+00 1.42446100e+00 3.56115250e-01 8.90288125e-02\n",
      " 2.22572031e-02 5.56430078e-03 1.39107520e-03 3.47768799e-04\n",
      " 8.69421997e-05]\n",
      "\n",
      "Convergence :  True\n",
      "\n",
      "|x-y| =  0.009324280118374653\n"
     ]
    }
   ],
   "source": [
    "test_newton_scalar_method(square, [-10,10], 0, 0.1)"
   ]
  },
  {
   "cell_type": "code",
   "execution_count": 46,
   "metadata": {
    "collapsed": true
   },
   "outputs": [
    {
     "name": "stdout",
     "output_type": "stream",
     "text": [
      "Function :  x_cube_plus_8\n",
      "\n",
      "Starting scalar :  -0.4838416350900334\n",
      "\n",
      "Manufactured solution :  -2\n",
      "\n",
      "TOL :  0.0001\n",
      "\n",
      "Found solution :  -2.00000000686512\n",
      "\n",
      "|f(x)| at each iteration :  [7.88673135e+00 1.58285265e+03 4.66932575e+02 1.36309237e+02\n",
      " 3.84152506e+01 9.62473679e+00 1.64648526e+00 9.21680888e-02\n",
      " 3.68389486e-04 8.23814403e-08]\n",
      "\n",
      "Convergence :  False\n",
      "\n",
      "|x-y| =  6.8651200280100966e-09\n"
     ]
    }
   ],
   "source": [
    "test_newton_scalar_method(x_cube_plus_8, [-4,0], -2, 0.1)"
   ]
  },
  {
   "cell_type": "markdown",
   "metadata": {},
   "source": [
    "### Newton's method for vector nonlinear equation f(x)=0"
   ]
  },
  {
   "cell_type": "code",
   "execution_count": 10,
   "metadata": {},
   "outputs": [],
   "source": [
    "def square_vector(x):\n",
    "    return np.multiply(x,x)"
   ]
  },
  {
   "cell_type": "code",
   "execution_count": 44,
   "metadata": {},
   "outputs": [],
   "source": [
    "def exp_minus_2(x):\n",
    "    return np.array([np.exp(x[i]) - 2 for i in range(len(x))])"
   ]
  },
  {
   "cell_type": "code",
   "execution_count": 29,
   "metadata": {},
   "outputs": [],
   "source": [
    "def test_newton_vector_method(function, def_int, man_sol, h):\n",
    "    start = np.array([np.random.rand()*(def_int[i][1]-def_int[i][0])+def_int[i][0] for i in range(def_int.shape[0])])\n",
    "    TOL = 1e-8\n",
    "    print(\"Function : \", function.__name__)\n",
    "    print(\"\\nStarting scalar : \", start)\n",
    "    print(\"\\nManufactured solution : \", man_sol)\n",
    "    print(\"\\nTOL : \", TOL)\n",
    "    sol = np.array(newton_vector(function, start, h, TOL))\n",
    "    print(\"\\nFound solution : \", sol[-1])\n",
    "    norms = np.array([np.linalg.norm(function(sol[i])) for i in range(sol.shape[0])])\n",
    "    print(\"\\n|f(x)| at each iteration : \", norms)\n",
    "    diff = np.diff(norms)\n",
    "    print(\"\\nConvergence : \", np.all(diff<=0))\n",
    "    print(\"\\n|x-y| = \", np.linalg.norm(man_sol-sol[-1]))"
   ]
  },
  {
   "cell_type": "code",
   "execution_count": 30,
   "metadata": {
    "collapsed": true
   },
   "outputs": [
    {
     "name": "stdout",
     "output_type": "stream",
     "text": [
      "Function :  square_vector\n",
      "\n",
      "Starting scalar :  [ 0.77576251 -0.09619001]\n",
      "\n",
      "Manufactured solution :  [0 0]\n",
      "\n",
      "TOL :  1e-08\n",
      "\n",
      "Found solution :  [ 9.46975720e-05 -1.17419444e-05]\n",
      "\n",
      "|f(x)| at each iteration :  [6.01878595e-01 1.50469649e-01 3.76174122e-02 9.40435304e-03\n",
      " 2.35108826e-03 5.87772065e-04 1.46943016e-04 3.67357541e-05\n",
      " 9.18393852e-06 2.29598463e-06 5.73996157e-07 1.43499039e-07\n",
      " 3.58747598e-08 8.96868996e-09]\n",
      "\n",
      "Convergence :  True\n",
      "\n",
      "|x-y| =  9.54227614876945e-05\n"
     ]
    }
   ],
   "source": [
    "test_newton_vector_method(square_vector, np.array([[-1,1], [-1,1]]), np.array([0,0]), 0.1)"
   ]
  },
  {
   "cell_type": "code",
   "execution_count": 46,
   "metadata": {
    "collapsed": true
   },
   "outputs": [
    {
     "name": "stdout",
     "output_type": "stream",
     "text": [
      "Function :  exp_minus_2\n",
      "\n",
      "Starting scalar :  [-0.92421959 -0.54540405]\n",
      "\n",
      "Manufactured solution :  [0.69314718 0.69314718]\n",
      "\n",
      "TOL :  1e-08\n",
      "\n",
      "Found solution :  [0.69314718 0.69314718]\n",
      "\n",
      "|f(x)| at each iteration :  [2.14187617e+00 2.10434267e+01 7.17726601e+00 2.16783880e+00\n",
      " 4.74322797e-01 4.28319577e-02 4.63376862e-04 2.46635650e-07\n",
      " 1.02750253e-10]\n",
      "\n",
      "Convergence :  False\n",
      "\n",
      "|x-y| =  5.137512639883149e-11\n"
     ]
    }
   ],
   "source": [
    "test_newton_vector_method(exp_minus_2, np.array([[-1,1], [-1,1]]), np.array([np.log(2), np.log(2)]), 0.1)"
   ]
  },
  {
   "cell_type": "markdown",
   "metadata": {
    "colab_type": "text",
    "id": "_4GLBv0zWr7m"
   },
   "source": [
    "# **Discussion**"
   ]
  },
  {
   "cell_type": "markdown",
   "metadata": {
    "colab_type": "text",
    "id": "6bcsDSoRXHZe"
   },
   "source": [
    "We see that all of these algorithms converge for the required cases. We indeed see that the Jacobi and Gauss Seidel methods don't converge for non diagonally dominant matrices, which is what was found in theory. But we see that even for non Lypschitz continuous with $L_f <1$, we sometimes find the desired solution."
   ]
  }
 ],
 "metadata": {
  "colab": {
   "include_colab_link": true,
   "name": "template-report-lab-X.ipynb",
   "provenance": []
  },
  "kernelspec": {
   "display_name": "Python 3",
   "language": "python",
   "name": "python3"
  },
  "language_info": {
   "codemirror_mode": {
    "name": "ipython",
    "version": 3
   },
   "file_extension": ".py",
   "mimetype": "text/x-python",
   "name": "python",
   "nbconvert_exporter": "python",
   "pygments_lexer": "ipython3",
   "version": "3.6.8"
  },
  "toc": {
   "base_numbering": 1,
   "nav_menu": {},
   "number_sections": true,
   "sideBar": true,
   "skip_h1_title": false,
   "title_cell": "Table of Contents",
   "title_sidebar": "Contents",
   "toc_cell": true,
   "toc_position": {},
   "toc_section_display": true,
   "toc_window_display": false
  }
 },
 "nbformat": 4,
 "nbformat_minor": 1
}
