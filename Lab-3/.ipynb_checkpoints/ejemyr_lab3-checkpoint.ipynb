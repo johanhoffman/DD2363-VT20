{
 "cells": [
  {
   "cell_type": "markdown",
   "metadata": {
    "colab_type": "text",
    "id": "view-in-github"
   },
   "source": [
    "<a href=\"https://colab.research.google.com/github/johanhoffman/DD2363-VT20/blob/ejemyr/Lab-3/ejemyr_lab3.ipynb\" target=\"_parent\"><img src=\"https://colab.research.google.com/assets/colab-badge.svg\" alt=\"Open In Colab\"/></a>"
   ]
  },
  {
   "cell_type": "markdown",
   "metadata": {
    "colab_type": "text",
    "id": "6RgtXlfYO_i7"
   },
   "source": [
    "# **Lab 3: Iterative methods**\n",
    "**Christoffer Ejemyr**"
   ]
  },
  {
   "cell_type": "markdown",
   "metadata": {
    "colab_type": "text",
    "id": "9x_J5FVuPzbm"
   },
   "source": [
    "# **Abstract**"
   ]
  },
  {
   "cell_type": "markdown",
   "metadata": {
    "colab_type": "text",
    "id": "OkT8J7uOWpT3"
   },
   "source": [
    "**About the code**"
   ]
  },
  {
   "cell_type": "markdown",
   "metadata": {
    "colab_type": "text",
    "id": "HmB2noTr1Oyo"
   },
   "source": [
    "A short statement on who is the author of the file, and if the code is distributed under a certain license. "
   ]
  },
  {
   "cell_type": "code",
   "execution_count": 11,
   "metadata": {
    "colab": {
     "base_uri": "https://localhost:8080/",
     "height": 34
    },
    "colab_type": "code",
    "id": "Pdll1Xc9WP0e",
    "outputId": "f74fa781-413b-41e7-a2ec-1bba2288ad4f"
   },
   "outputs": [
    {
     "data": {
      "text/plain": [
       "'KTH Royal Institute of Technology, Stockholm, Sweden.'"
      ]
     },
     "execution_count": 11,
     "metadata": {},
     "output_type": "execute_result"
    }
   ],
   "source": [
    "\"\"\"This program is a template for lab reports in the course\"\"\"\n",
    "\"\"\"DD2363 Methods in Scientific Computing, \"\"\"\n",
    "\"\"\"KTH Royal Institute of Technology, Stockholm, Sweden.\"\"\"\n",
    "\n",
    "# Copyright (C) 2019 Christoffer Ejemyr (ejemyr@kth.se)\n",
    "\n",
    "# This file is part of the course DD2363 Methods in Scientific Computing\n",
    "# KTH Royal Institute of Technology, Stockholm, Sweden\n",
    "#\n",
    "# This is free software: you can redistribute it and/or modify\n",
    "# it under the terms of the GNU Lesser General Public License as published by\n",
    "# the Free Software Foundation, either version 3 of the License, or\n",
    "# (at your option) any later version."
   ]
  },
  {
   "cell_type": "markdown",
   "metadata": {
    "colab_type": "text",
    "id": "28xLGz8JX3Hh"
   },
   "source": [
    "# **Set up environment**"
   ]
  },
  {
   "cell_type": "markdown",
   "metadata": {
    "colab_type": "text",
    "id": "D2PYNusD08Wa"
   },
   "source": [
    "To have access to the neccessary modules you have to run this cell. If you need additional modules, this is where you add them. "
   ]
  },
  {
   "cell_type": "code",
   "execution_count": 12,
   "metadata": {
    "colab": {},
    "colab_type": "code",
    "id": "Xw7VlErAX7NS"
   },
   "outputs": [],
   "source": [
    "# Load neccessary modules.\n",
    "\n",
    "import time\n",
    "import numpy as np\n",
    "import unittest\n",
    "\n",
    "from matplotlib import pyplot as plt\n",
    "from matplotlib import tri\n",
    "from matplotlib import axes\n",
    "from mpl_toolkits.mplot3d import Axes3D"
   ]
  },
  {
   "cell_type": "markdown",
   "metadata": {
    "colab_type": "text",
    "id": "gnO3lhAigLev"
   },
   "source": [
    "# **Introduction**"
   ]
  },
  {
   "cell_type": "markdown",
   "metadata": {
    "colab_type": "text",
    "id": "WeFO9QMeUOAu"
   },
   "source": [
    "# Methods"
   ]
  },
  {
   "cell_type": "markdown",
   "metadata": {},
   "source": [
    "### Spectral radius\n",
    "\n",
    "We define the spectral radius of a matrix $M$ as \n",
    "\n",
    "$$\\rho(M) = |\\text{max}(\\lambda_1, \\lambda_2, \\ldots, \\lambda_n)|$$\n",
    "\n",
    "where $\\lambda_1, \\lambda_2, \\ldots, \\lambda_n$ are the eigenvalues of $M$.\n",
    "\n",
    "### Richardson iteration\n",
    "\n",
    "Below I defined the left preconditioned Richardson iteration. Using $B = I$ (letting parameter `B=None`\n",
    ") you get the non preconitioned Richardson iteration.\n",
    "\n",
    "In my implementation I have the method raising an Exception when $\\rho(I - \\alpha BA) \\geq1$. This is beceause we can not guarantee convergence. But having $\\rho(I - \\alpha BA) \\geq 1$ does not necessarily make it divergent.\n"
   ]
  },
  {
   "cell_type": "code",
   "execution_count": 30,
   "metadata": {},
   "outputs": [],
   "source": [
    "def spectral_radius(M):\n",
    "    if type(M) != np.ndarray or M.ndim != 2:\n",
    "        raise Exception(\"M matrix format not recogniced.\")\n",
    "    return abs(np.max(np.linalg.eig(M)[0]))\n",
    "\n",
    "def richardson_iteration(A, b, alpha, tol=10e-6, x0=None, B=None):\n",
    "    \"\"\"The left preconditioned Richardson iteration.\"\"\"\n",
    "    \n",
    "    if type(A) != np.ndarray or A.ndim != 2:\n",
    "        raise Exception(\"A matrix format not recogniced.\")\n",
    "    if B is None:\n",
    "        B = np.eye(A.shape[0])\n",
    "    if type(B) != np.ndarray or B.ndim != 2:\n",
    "        raise Exception(\"B matrix format not recogniced.\")\n",
    "    if A.shape[0] != A.shape[1]:\n",
    "        raise Exception(\"Matrix not square.\")\n",
    "    if (x0 is not None) and x0.size != A.shape[1]:\n",
    "        raise Exception(\"Shapes of x0 and A does not agree.\")\n",
    "    if A.shape[0] != B.shape[1]:\n",
    "        raise Exception(\"Shapes of A and B does not agree.\")\n",
    "    if B.shape[0] != b.size:\n",
    "        raise Exception(\"Shapes of B and b does not agree.\")\n",
    "    \n",
    "    x = None\n",
    "    if x0 is None:\n",
    "        x = np.zeros(A.shape[1])\n",
    "    else:\n",
    "        x = x0.copy()\n",
    "        \n",
    "    if spectral_radius(np.eye(B.shape[0]) - alpha * B.dot(A)) >= 1:\n",
    "        raise Exception(\"Not converging.\")\n",
    "    \n",
    "    \n",
    "    r = np.zeros(B.shape[0])\n",
    "    r[:] = b - A.dot(x)\n",
    "    i = 0\n",
    "    while np.linalg.norm(r) >= tol:\n",
    "        r[:] = b - A.dot(x)\n",
    "        x[:] = x[:] + alpha * B.dot(r)\n",
    "        i += 1\n",
    "\n",
    "    return x, i"
   ]
  },
  {
   "cell_type": "markdown",
   "metadata": {},
   "source": [
    "### Jacobi iteration\n",
    "\n",
    "As the lecture notes pointed out the Jacobi iteration is only the left preconditioned richardson itteration with $B = (\\alpha D)^{-1}$, where $D$ is the diagonal matrix with $\\text{diag}(D) = \\text{diag}(A)$."
   ]
  },
  {
   "cell_type": "code",
   "execution_count": 31,
   "metadata": {},
   "outputs": [],
   "source": [
    "def jacobi_iteration(A, b, alpha, tol=10e-6, x0=None):\n",
    "    B = (1. / alpha) * np.diag(1. / np.diag(A))\n",
    "    return richardson_iteration(A, b, alpha, tol=tol, x0=x0, B=B)\n",
    "\n",
    "def check_jacobi_convergence(A, alpha):\n",
    "    B = (1. / alpha) * np.diag(1. / np.diag(A))\n",
    "    return spectral_radius(np.eye(B.shape[0]) - alpha * B.dot(A)) < 1"
   ]
  },
  {
   "cell_type": "markdown",
   "metadata": {},
   "source": [
    "### Gauss-Seidel iteration\n",
    "\n",
    "As the lecture notes pointed out the Gauss-Seidel iteration is only the left preconditioned richardson itteration with $B = (\\alpha L)^{-1}$, where $L$ is the lower triangonal matrix created by zeroing out the over-diagonal elements in $A$."
   ]
  },
  {
   "cell_type": "code",
   "execution_count": 32,
   "metadata": {},
   "outputs": [],
   "source": [
    "def gauss_seidel_iteration(A, b, alpha, tol=10e-6, x0=None):\n",
    "    try:\n",
    "        B = (1. / alpha) * np.linalg.inv(np.tril(A))\n",
    "        return richardson_iteration(A, b, alpha, tol=tol, x0=x0, B=B)\n",
    "    except:\n",
    "        return False\n",
    "\n",
    "def check_gauss_seidel_convergence(A, b, alpha):\n",
    "    try:\n",
    "        B = (1. / alpha) * np.linalg.inv(np.tril(A))\n",
    "        return spectral_radius(np.eye(B.shape[0]) - alpha * B.dot(A)) < 1\n",
    "    except:\n",
    "        return False"
   ]
  },
  {
   "cell_type": "markdown",
   "metadata": {},
   "source": [
    "### Arnoldi iteration\n",
    "\n",
    "I used the algorithm in the lecturenotes with slight modifications. Having problems with the algorithm dividing by zero I (with slight inpiration from Wikipedia, heh.) added a test `H[j + 1, j] > 1e-12` to ensure that no `nan` values occur."
   ]
  },
  {
   "cell_type": "code",
   "execution_count": 33,
   "metadata": {},
   "outputs": [],
   "source": [
    "def arnoldi_iteration(A, b, k: int):\n",
    "    if type(A) != np.ndarray or A.ndim != 2:\n",
    "        raise Exception(\"A matrix format not recogniced.\")\n",
    "    if type(b) != np.ndarray or b.ndim != 1:\n",
    "        raise Exception(\"b vector format not recogniced.\")\n",
    "    if A.shape[0] != b.size:\n",
    "        raise Exception(\"Shapes of A and b does not agree.\")\n",
    "    \n",
    "    H = np.zeros((k + 1, k))\n",
    "    Q = np.zeros((A.shape[0], k + 1))\n",
    "    Q[:, 0] = b / np.linalg.norm(b)\n",
    "    \n",
    "    for j in range(k):\n",
    "        v = A.dot(Q[:, j])\n",
    "        for i in range(j + 1):\n",
    "            H[i, j] = np.dot(Q[:, i].conj(), v)\n",
    "            v = v - H[i, j] * Q[:, i]\n",
    "\n",
    "        H[j + 1, j] = np.linalg.norm(v)\n",
    "        if H[j + 1, j] > 1e-12:\n",
    "            Q[:, j + 1] = v / H[j + 1, j]\n",
    "        else:\n",
    "            return Q, H\n",
    "    return Q, H"
   ]
  },
  {
   "cell_type": "markdown",
   "metadata": {},
   "source": [
    "### Standard basis\n",
    "Super simple vector generator. Replace element $i$ with $1$."
   ]
  },
  {
   "cell_type": "code",
   "execution_count": 34,
   "metadata": {},
   "outputs": [],
   "source": [
    "def standard_basis(n: int, i: int):\n",
    "    e_i = np.zeros(n)\n",
    "    e_i[i] = 1.\n",
    "    return e_i"
   ]
  },
  {
   "cell_type": "markdown",
   "metadata": {},
   "source": [
    "### GMRES algorithm\n",
    "\n",
    "Since we already written a least squares solver in a previous lab I use Numpy's `numpy.linalg.lstsq` method. To the algorithm in the lecture notes I've also added a maximum number of itterations."
   ]
  },
  {
   "cell_type": "code",
   "execution_count": 35,
   "metadata": {},
   "outputs": [],
   "source": [
    "def gmres(A, b, max_itr=None, tol=10e-6):\n",
    "    if type(A) != np.ndarray or A.ndim != 2:\n",
    "        raise Exception(\"A matrix format not recogniced.\")\n",
    "    if type(b) != np.ndarray or b.ndim != 1:\n",
    "        raise Exception(\"b vector format not recogniced.\")\n",
    "    if A.shape[0] != b.size:\n",
    "        raise Exception(\"Shapes of A and b does not agree.\")\n",
    "    \n",
    "    norm_b = np.linalg.norm(b)\n",
    "    \n",
    "    Q = np.zeros((b.size, 1))\n",
    "    Q[:, 0] = b[:]/norm_b\n",
    "    \n",
    "    y = None\n",
    "    r = tol * norm_b\n",
    "    \n",
    "    k = 0\n",
    "    while np.linalg.norm(r) >= tol * norm_b:\n",
    "        Q, H = arnoldi_iteration(A, b, k)\n",
    "        y = np.linalg.lstsq(H, norm_b * standard_basis(k+1, 0), rcond=None)[0]\n",
    "        r = H.dot(y)\n",
    "        r[:] = norm_b * standard_basis(k+1, 0) - r[:]\n",
    "        k += 1\n",
    "        if not(max_itr is None) and k >= max_itr:\n",
    "            break\n",
    "    \n",
    "    x = Q[:, 0:k-1].dot(y)\n",
    "    return x, k"
   ]
  },
  {
   "cell_type": "markdown",
   "metadata": {},
   "source": [
    "# Testing iteration algorithms\n",
    "\n",
    "The testing of accuracy of the iteration solvers are very alike. Therefore I defined a `test_iteration_solver` method. It generates random matrix $A$ of size $\\text{max_size} \\times \\text{max_size}$ and a random vector $x$ of size $\\text{max_size}$ and then creates $b = Ax$. It then checks $||x_{est} - x|| \\approx 0$ and $||Ax - b|| \\approx 0$ down to `decimal` decimals. The process is repeated `num_of_tests` times."
   ]
  },
  {
   "cell_type": "code",
   "execution_count": 36,
   "metadata": {},
   "outputs": [
    {
     "name": "stderr",
     "output_type": "stream",
     "text": [
      "F.F\n",
      "======================================================================\n",
      "FAIL: test_gauss_seidel (__main__.TestIterationSolvers)\n",
      "----------------------------------------------------------------------\n",
      "Traceback (most recent call last):\n",
      "  File \"<ipython-input-36-852dcce486a5>\", line 41, in test_gauss_seidel\n",
      "    test_iteration_solver(gauss_seidel_iteration,\n",
      "  File \"<ipython-input-36-852dcce486a5>\", line 23, in test_iteration_solver\n",
      "    np.testing.assert_almost_equal(\n",
      "  File \"/Library/Frameworks/Python.framework/Versions/3.8/lib/python3.8/site-packages/numpy/testing/_private/utils.py\", line 593, in assert_almost_equal\n",
      "    raise AssertionError(_build_err_msg())\n",
      "AssertionError: \n",
      "Arrays are not almost equal to 0 decimals\n",
      " ACTUAL: nan\n",
      " DESIRED: 0\n",
      "\n",
      "======================================================================\n",
      "FAIL: test_jacobi (__main__.TestIterationSolvers)\n",
      "----------------------------------------------------------------------\n",
      "Traceback (most recent call last):\n",
      "  File \"<ipython-input-36-852dcce486a5>\", line 34, in test_jacobi\n",
      "    test_iteration_solver(jacobi_iteration,\n",
      "  File \"<ipython-input-36-852dcce486a5>\", line 23, in test_iteration_solver\n",
      "    np.testing.assert_almost_equal(\n",
      "  File \"/Library/Frameworks/Python.framework/Versions/3.8/lib/python3.8/site-packages/numpy/testing/_private/utils.py\", line 593, in assert_almost_equal\n",
      "    raise AssertionError(_build_err_msg())\n",
      "AssertionError: \n",
      "Arrays are not almost equal to 0 decimals\n",
      " ACTUAL: nan\n",
      " DESIRED: 0\n",
      "\n",
      "----------------------------------------------------------------------\n",
      "Ran 3 tests in 0.107s\n",
      "\n",
      "FAILED (failures=2)\n"
     ]
    }
   ],
   "source": [
    "def test_iteration_solver(solver, alpha=None, decimal=6, num_of_tests=1000, max_size=100):\n",
    "    i = 0\n",
    "    while i < num_of_tests:\n",
    "        n = np.random.randint(1, max_size)\n",
    "        A = np.random.rand(n, n)\n",
    "        x_true = np.random.rand(n)\n",
    "        b = A.dot(x_true)\n",
    "        x = np.zeros(n)\n",
    "\n",
    "        if solver == jacobi_iteration and (not check_jacobi_convergence(A, b, alpha)):\n",
    "            continue\n",
    "        elif solver == gauss_seidel_iteration and (not check_gauss_seidel_convergence(A, b, alpha)):\n",
    "            continue\n",
    "            \n",
    "        if alpha is None:\n",
    "            x[:] = solver(A, b, tol=10**(-decimal))[0]\n",
    "        else:\n",
    "            x[:] = solver(A, b, alpha, tol=10**(-decimal))[0]\n",
    "\n",
    "        i += 1\n",
    "\n",
    "        for j in range(decimal):\n",
    "            np.testing.assert_almost_equal(\n",
    "                np.linalg.norm(x - x_true),\n",
    "                0,\n",
    "                decimal=j)\n",
    "            np.testing.assert_almost_equal(\n",
    "                np.linalg.norm(A.dot(x) - b),\n",
    "                0,\n",
    "                decimal=j)\n",
    "\n",
    "class TestIterationSolvers(unittest.TestCase):\n",
    "    def test_jacobi(self):\n",
    "        test_iteration_solver(jacobi_iteration,\n",
    "                              alpha=0.1,\n",
    "                              decimal=6,\n",
    "                              num_of_tests=10,\n",
    "                              max_size=10)\n",
    "                \n",
    "    def test_gauss_seidel(self):\n",
    "        test_iteration_solver(gauss_seidel_iteration,\n",
    "                              alpha=0.1,\n",
    "                              decimal=6,\n",
    "                              num_of_tests=10,\n",
    "                              max_size=10)\n",
    "\n",
    "    def test_gmres(self):\n",
    "        test_iteration_solver(gmres,\n",
    "                              decimal=6,\n",
    "                              num_of_tests=10,\n",
    "                              max_size=10)\n",
    "\n",
    "if __name__ == '__main__':\n",
    "    unittest.main(argv=['first-arg-is-ignored'], exit=False)"
   ]
  },
  {
   "cell_type": "markdown",
   "metadata": {
    "colab_type": "text",
    "id": "SsQLT38gVbn_"
   },
   "source": [
    "# **Results**"
   ]
  },
  {
   "cell_type": "markdown",
   "metadata": {},
   "source": [
    "#### Convergence rate of different iterators.\n"
   ]
  },
  {
   "cell_type": "code",
   "execution_count": 10,
   "metadata": {},
   "outputs": [
    {
     "ename": "KeyboardInterrupt",
     "evalue": "",
     "output_type": "error",
     "traceback": [
      "\u001b[0;31m---------------------------------------------------------------------------\u001b[0m",
      "\u001b[0;31mKeyboardInterrupt\u001b[0m                         Traceback (most recent call last)",
      "\u001b[0;32m<ipython-input-10-bba3c0338683>\u001b[0m in \u001b[0;36m<module>\u001b[0;34m\u001b[0m\n\u001b[1;32m     15\u001b[0m \u001b[0;32mwhile\u001b[0m \u001b[0;32mnot\u001b[0m \u001b[0mis_ok\u001b[0m\u001b[0;34m:\u001b[0m\u001b[0;34m\u001b[0m\u001b[0;34m\u001b[0m\u001b[0m\n\u001b[1;32m     16\u001b[0m     \u001b[0mA\u001b[0m \u001b[0;34m=\u001b[0m \u001b[0mnp\u001b[0m\u001b[0;34m.\u001b[0m\u001b[0mrandom\u001b[0m\u001b[0;34m.\u001b[0m\u001b[0mrand\u001b[0m\u001b[0;34m(\u001b[0m\u001b[0mn\u001b[0m\u001b[0;34m,\u001b[0m \u001b[0mn\u001b[0m\u001b[0;34m)\u001b[0m\u001b[0;34m\u001b[0m\u001b[0;34m\u001b[0m\u001b[0m\n\u001b[0;32m---> 17\u001b[0;31m     \u001b[0;32mif\u001b[0m \u001b[0;34m(\u001b[0m\u001b[0;32mnot\u001b[0m \u001b[0mnp\u001b[0m\u001b[0;34m.\u001b[0m\u001b[0misclose\u001b[0m\u001b[0;34m(\u001b[0m\u001b[0mnp\u001b[0m\u001b[0;34m.\u001b[0m\u001b[0mdiag\u001b[0m\u001b[0;34m(\u001b[0m\u001b[0mA\u001b[0m\u001b[0;34m)\u001b[0m\u001b[0;34m,\u001b[0m \u001b[0;36m0\u001b[0m\u001b[0;34m)\u001b[0m\u001b[0;34m.\u001b[0m\u001b[0many\u001b[0m\u001b[0;34m(\u001b[0m\u001b[0;34m)\u001b[0m\u001b[0;34m)\u001b[0m \u001b[0;32mand\u001b[0m \u001b[0mis_invertible\u001b[0m\u001b[0;34m(\u001b[0m\u001b[0mnp\u001b[0m\u001b[0;34m.\u001b[0m\u001b[0mtril\u001b[0m\u001b[0;34m(\u001b[0m\u001b[0mA\u001b[0m\u001b[0;34m)\u001b[0m\u001b[0;34m)\u001b[0m\u001b[0;34m:\u001b[0m\u001b[0;34m\u001b[0m\u001b[0;34m\u001b[0m\u001b[0m\n\u001b[0m\u001b[1;32m     18\u001b[0m         \u001b[0;32mif\u001b[0m \u001b[0mspectral_radius\u001b[0m\u001b[0;34m(\u001b[0m\u001b[0mnp\u001b[0m\u001b[0;34m.\u001b[0m\u001b[0meye\u001b[0m\u001b[0;34m(\u001b[0m\u001b[0mn\u001b[0m\u001b[0;34m)\u001b[0m \u001b[0;34m-\u001b[0m \u001b[0mnp\u001b[0m\u001b[0;34m.\u001b[0m\u001b[0mlinalg\u001b[0m\u001b[0;34m.\u001b[0m\u001b[0minv\u001b[0m\u001b[0;34m(\u001b[0m\u001b[0mnp\u001b[0m\u001b[0;34m.\u001b[0m\u001b[0mtril\u001b[0m\u001b[0;34m(\u001b[0m\u001b[0mA\u001b[0m\u001b[0;34m)\u001b[0m\u001b[0;34m)\u001b[0m\u001b[0;34m.\u001b[0m\u001b[0mdot\u001b[0m\u001b[0;34m(\u001b[0m\u001b[0mA\u001b[0m\u001b[0;34m)\u001b[0m\u001b[0;34m)\u001b[0m \u001b[0;34m<\u001b[0m \u001b[0;36m1\u001b[0m \u001b[0;32mand\u001b[0m \u001b[0mspectral_radius\u001b[0m\u001b[0;34m(\u001b[0m\u001b[0mnp\u001b[0m\u001b[0;34m.\u001b[0m\u001b[0meye\u001b[0m\u001b[0;34m(\u001b[0m\u001b[0mn\u001b[0m\u001b[0;34m)\u001b[0m \u001b[0;34m-\u001b[0m \u001b[0mnp\u001b[0m\u001b[0;34m.\u001b[0m\u001b[0mdiag\u001b[0m\u001b[0;34m(\u001b[0m\u001b[0;36m1.\u001b[0m \u001b[0;34m/\u001b[0m \u001b[0mnp\u001b[0m\u001b[0;34m.\u001b[0m\u001b[0mdiag\u001b[0m\u001b[0;34m(\u001b[0m\u001b[0mA\u001b[0m\u001b[0;34m)\u001b[0m\u001b[0;34m)\u001b[0m\u001b[0;34m.\u001b[0m\u001b[0mdot\u001b[0m\u001b[0;34m(\u001b[0m\u001b[0mA\u001b[0m\u001b[0;34m)\u001b[0m\u001b[0;34m)\u001b[0m \u001b[0;34m<\u001b[0m \u001b[0;36m1\u001b[0m\u001b[0;34m:\u001b[0m\u001b[0;34m\u001b[0m\u001b[0;34m\u001b[0m\u001b[0m\n\u001b[1;32m     19\u001b[0m             \u001b[0mprint\u001b[0m\u001b[0;34m(\u001b[0m\u001b[0mA\u001b[0m\u001b[0;34m)\u001b[0m\u001b[0;34m\u001b[0m\u001b[0;34m\u001b[0m\u001b[0m\n",
      "\u001b[0;32m<__array_function__ internals>\u001b[0m in \u001b[0;36mtril\u001b[0;34m(*args, **kwargs)\u001b[0m\n",
      "\u001b[0;32m/Library/Frameworks/Python.framework/Versions/3.8/lib/python3.8/site-packages/numpy/lib/twodim_base.py\u001b[0m in \u001b[0;36mtril\u001b[0;34m(m, k)\u001b[0m\n\u001b[1;32m    436\u001b[0m     \u001b[0mmask\u001b[0m \u001b[0;34m=\u001b[0m \u001b[0mtri\u001b[0m\u001b[0;34m(\u001b[0m\u001b[0;34m*\u001b[0m\u001b[0mm\u001b[0m\u001b[0;34m.\u001b[0m\u001b[0mshape\u001b[0m\u001b[0;34m[\u001b[0m\u001b[0;34m-\u001b[0m\u001b[0;36m2\u001b[0m\u001b[0;34m:\u001b[0m\u001b[0;34m]\u001b[0m\u001b[0;34m,\u001b[0m \u001b[0mk\u001b[0m\u001b[0;34m=\u001b[0m\u001b[0mk\u001b[0m\u001b[0;34m,\u001b[0m \u001b[0mdtype\u001b[0m\u001b[0;34m=\u001b[0m\u001b[0mbool\u001b[0m\u001b[0;34m)\u001b[0m\u001b[0;34m\u001b[0m\u001b[0;34m\u001b[0m\u001b[0m\n\u001b[1;32m    437\u001b[0m \u001b[0;34m\u001b[0m\u001b[0m\n\u001b[0;32m--> 438\u001b[0;31m     \u001b[0;32mreturn\u001b[0m \u001b[0mwhere\u001b[0m\u001b[0;34m(\u001b[0m\u001b[0mmask\u001b[0m\u001b[0;34m,\u001b[0m \u001b[0mm\u001b[0m\u001b[0;34m,\u001b[0m \u001b[0mzeros\u001b[0m\u001b[0;34m(\u001b[0m\u001b[0;36m1\u001b[0m\u001b[0;34m,\u001b[0m \u001b[0mm\u001b[0m\u001b[0;34m.\u001b[0m\u001b[0mdtype\u001b[0m\u001b[0;34m)\u001b[0m\u001b[0;34m)\u001b[0m\u001b[0;34m\u001b[0m\u001b[0;34m\u001b[0m\u001b[0m\n\u001b[0m\u001b[1;32m    439\u001b[0m \u001b[0;34m\u001b[0m\u001b[0m\n\u001b[1;32m    440\u001b[0m \u001b[0;34m\u001b[0m\u001b[0m\n",
      "\u001b[0;32m<__array_function__ internals>\u001b[0m in \u001b[0;36mwhere\u001b[0;34m(*args, **kwargs)\u001b[0m\n",
      "\u001b[0;31mKeyboardInterrupt\u001b[0m: "
     ]
    }
   ],
   "source": [
    "iterators = [jacobi_iteration, gauss_seidel_iteration]\n",
    "alphas = np.linspace(0.001, 0.1, 10)\n",
    "rates = [[], []]\n",
    "\n",
    "n = 10\n",
    "num_of_tests = 10\n",
    "\n",
    "alpha = max(alphas)\n",
    "\n",
    "def is_invertible(a):\n",
    "    return a.shape[0] == a.shape[1] and np.linalg.matrix_rank(a) == a.shape[0]\n",
    "\n",
    "is_ok = False\n",
    "A = np.zeros((n, n))\n",
    "while not is_ok:\n",
    "    A = np.random.rand(n, n)\n",
    "    if (not np.isclose(np.diag(A), 0).any()) and is_invertible(np.tril(A)):\n",
    "        if spectral_radius(np.eye(n) - np.linalg.inv(np.tril(A)).dot(A)) < 1 and spectral_radius(np.eye(n) - np.diag(1. / np.diag(A)).dot(A)) < 1:\n",
    "            print(A)\n",
    "            is_ok = True\n",
    "    \n",
    "b = A.dot(np.random.rand(n))\n",
    "for i, iterator in enumerate(iterators):\n",
    "    for alpha in alphas:\n",
    "        t0 = time.time()\n",
    "        for j in range(num_of_tests):\n",
    "            iterator(A, b, alpha, tol=10e-6)\n",
    "            \n",
    "        rates[i].append(time.time() - t0)\n",
    "    \n",
    "    plt.plot(alphas, rates[i], label=iterator)\n",
    "    \n",
    "plt.show()"
   ]
  },
  {
   "cell_type": "code",
   "execution_count": null,
   "metadata": {},
   "outputs": [],
   "source": []
  },
  {
   "cell_type": "markdown",
   "metadata": {
    "colab_type": "text",
    "id": "_4GLBv0zWr7m"
   },
   "source": [
    "\n",
    "# **Discussion**"
   ]
  },
  {
   "cell_type": "code",
   "execution_count": null,
   "metadata": {},
   "outputs": [],
   "source": []
  }
 ],
 "metadata": {
  "colab": {
   "include_colab_link": true,
   "name": "template-report-lab-X.ipynb",
   "provenance": []
  },
  "kernelspec": {
   "display_name": "Python 3",
   "language": "python",
   "name": "python3"
  },
  "language_info": {
   "codemirror_mode": {
    "name": "ipython",
    "version": 3
   },
   "file_extension": ".py",
   "mimetype": "text/x-python",
   "name": "python",
   "nbconvert_exporter": "python",
   "pygments_lexer": "ipython3",
   "version": "3.8.1"
  }
 },
 "nbformat": 4,
 "nbformat_minor": 1
}
