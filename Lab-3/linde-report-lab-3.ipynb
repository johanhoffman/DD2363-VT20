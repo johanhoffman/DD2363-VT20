{
  "nbformat": 4,
  "nbformat_minor": 0,
  "metadata": {
    "colab": {
      "name": "template-report-lab-X.ipynb",
      "provenance": [],
      "include_colab_link": true
    },
    "kernelspec": {
      "name": "python3",
      "display_name": "Python 3"
    }
  },
  "cells": [
    {
      "cell_type": "markdown",
      "metadata": {
        "id": "view-in-github",
        "colab_type": "text"
      },
      "source": [
        "<a href=\"https://colab.research.google.com/github/johanhoffman/DD2363-VT20/blob/lindevanbeers/Lab-3/linde-report-lab-3.ipynb\" target=\"_parent\"><img src=\"https://colab.research.google.com/assets/colab-badge.svg\" alt=\"Open In Colab\"/></a>"
      ]
    },
    {
      "cell_type": "markdown",
      "metadata": {
        "id": "6RgtXlfYO_i7",
        "colab_type": "text"
      },
      "source": [
        "# **Lab 3: Iterative Methods**\n",
        "**Linde van Beers**"
      ]
    },
    {
      "cell_type": "markdown",
      "metadata": {
        "id": "9x_J5FVuPzbm",
        "colab_type": "text"
      },
      "source": [
        "# **Abstract**"
      ]
    },
    {
      "cell_type": "markdown",
      "metadata": {
        "id": "6UFTSzW7P8kL",
        "colab_type": "text"
      },
      "source": [
        "This report contains implementations of Jacobi iteration, Gauss-Seidel Iteration and Newton's method for both scalar and vector nonlinear equations. All methods work for the tests they were submitted to. "
      ]
    },
    {
      "cell_type": "markdown",
      "metadata": {
        "id": "OkT8J7uOWpT3",
        "colab_type": "text"
      },
      "source": [
        "#**About the code**"
      ]
    },
    {
      "cell_type": "code",
      "metadata": {
        "id": "Pdll1Xc9WP0e",
        "colab_type": "code",
        "outputId": "de1e9edf-bb79-4588-9437-56d89c1fa0cf",
        "colab": {
          "base_uri": "https://localhost:8080/",
          "height": 34
        }
      },
      "source": [
        "\"\"\"This program is a template for lab reports in the course\"\"\"\n",
        "\"\"\"DD2363 Methods in Scientific Computing, \"\"\"\n",
        "\"\"\"KTH Royal Institute of Technology, Stockholm, Sweden.\"\"\"\n",
        "\n",
        "# Author: Linde van Beers, 2020\n",
        "\n",
        "# Based on a template:\n",
        "# Copyright (C) 2019 Johan Hoffman (jhoffman@kth.se)\n",
        "\n",
        "\n",
        "# This file is part of the course DD2363 Methods in Scientific Computing\n",
        "# KTH Royal Institute of Technology, Stockholm, Sweden\n",
        "#\n",
        "# This is free software: you can redistribute it and/or modify\n",
        "# it under the terms of the GNU Lesser General Public License as published by\n",
        "# the Free Software Foundation, either version 3 of the License, or\n",
        "# (at your option) any later version.\n",
        "\n",
        "# This template is maintained by Johan Hoffman\n",
        "# Please report problems to jhoffman@kth.se"
      ],
      "execution_count": 55,
      "outputs": [
        {
          "output_type": "execute_result",
          "data": {
            "text/plain": [
              "'KTH Royal Institute of Technology, Stockholm, Sweden.'"
            ]
          },
          "metadata": {
            "tags": []
          },
          "execution_count": 55
        }
      ]
    },
    {
      "cell_type": "markdown",
      "metadata": {
        "id": "28xLGz8JX3Hh",
        "colab_type": "text"
      },
      "source": [
        "# **Set up environment**"
      ]
    },
    {
      "cell_type": "markdown",
      "metadata": {
        "id": "D2PYNusD08Wa",
        "colab_type": "text"
      },
      "source": [
        "To have access to the neccessary modules you have to run this cell. If you need additional modules, this is where you add them. "
      ]
    },
    {
      "cell_type": "code",
      "metadata": {
        "id": "Xw7VlErAX7NS",
        "colab_type": "code",
        "colab": {}
      },
      "source": [
        "# Load neccessary modules.\n",
        "from google.colab import files\n",
        "\n",
        "import time\n",
        "import numpy as np\n",
        "import math\n",
        "import scipy as sp\n",
        "\n",
        "from matplotlib import pyplot as plt\n",
        "from matplotlib import tri\n",
        "from matplotlib import axes\n",
        "from mpl_toolkits.mplot3d import Axes3D\n",
        "from scipy import misc\n",
        "\n",
        "# method needed later\n",
        "def direct_solve(A,b):\n",
        "  n = A.shape[1]\n",
        "  m = A.shape[0]\n",
        "  x = np.zeros(n)\n",
        "\n",
        "  # Put A and b in such a format that A is upper triangular\n",
        "  if A[0,0]==0:\n",
        "    for i in range(m):\n",
        "      if A[i,0] != 0:\n",
        "        A[0,:] = A[0,:] + A[i,:]/A[i,0]\n",
        "        b[0] = b[0] + b[i]/A[i,0]\n",
        "        break\n",
        "  for i in range(m-1):\n",
        "    for j in range(i+1,n):\n",
        "      c = A[j,i]/A[i,i]\n",
        "      A[j,:] = A[j,:] - c*A[i,:]\n",
        "      b[j] = b[j] - c*b[i]\n",
        "\n",
        "  # Use backward substitution to solve\n",
        "  x[n-1] = b[n-1]/A[n-1,n-1]\n",
        "  for i in range(n-2,-1,-1):\n",
        "    sum = 0\n",
        "    for j in range(i+1, n):\n",
        "      sum = sum +A[i,j]*x[j]\n",
        "    x[i] = (b[i]-sum)/A[i,i]\n",
        "  \n",
        "  return x"
      ],
      "execution_count": 0,
      "outputs": []
    },
    {
      "cell_type": "markdown",
      "metadata": {
        "id": "gnO3lhAigLev",
        "colab_type": "text"
      },
      "source": [
        "# **Introduction**"
      ]
    },
    {
      "cell_type": "markdown",
      "metadata": {
        "id": "l5zMzgPlRAF6",
        "colab_type": "text"
      },
      "source": [
        "In this report I have tested and implemented four methods as described in part four of the lecture notes. These methods are Jacobi iteration, Gauss-Seidel Iteration and Newton's method for both scalar and vector nonlinear equations. \n",
        "\n",
        "\n"
      ]
    },
    {
      "cell_type": "markdown",
      "metadata": {
        "id": "WeFO9QMeUOAu",
        "colab_type": "text"
      },
      "source": [
        "# **Methods**"
      ]
    },
    {
      "cell_type": "markdown",
      "metadata": {
        "id": "Gt6k8FbATgL_",
        "colab_type": "text"
      },
      "source": [
        "### Jacobi Iteration for Ax=b\n",
        "\n",
        "This algorithm takes as input nxn matrix A, and vector b of length n, and a floating number tol.\n",
        "\n",
        "The output is an approximation of vector x such that Ax = b. The accuracy is such that $||b-Ax|| \\leq tol$. \n",
        "\n",
        "This algorithm uses the formula \n",
        "\n",
        "$x_i^{(k+1)} = a_{ii}^{-1} \\left(b_i - \\sum\\limits_{j≠i} a_{ij}x_j^{(k)}\\right)$\n",
        "\n",
        "to calculate the iterations of $x$."
      ]
    },
    {
      "cell_type": "code",
      "metadata": {
        "id": "sjZDPsxvlibS",
        "colab_type": "code",
        "colab": {}
      },
      "source": [
        "def jacobi_iter(A, b, tol, test):\n",
        "  # Initialization\n",
        "  n = A.shape[0]\n",
        "  D = np.multiply(A,np.eye(n))\n",
        "  A2 = A - D\n",
        "  Dinvm = np.multiply(1/A,np.eye(n))\n",
        "  Dinv = np.zeros([n,]) # Put values of D inverse in array for faster computation\n",
        "  for i in range(n):\n",
        "    Dinv[i] = Dinvm[i,i]\n",
        "  x = np.zeros([n,])\n",
        "  k = 0\n",
        "  xnew = x.copy()\n",
        "  # Jacobi iteration algorithm\n",
        "  r = b - np.matmul(A,x)\n",
        "  rs = np.array([np.linalg.norm(r)])\n",
        "  while np.linalg.norm(r) > tol:\n",
        "    xnew = np.array(np.multiply(Dinv, b-np.matmul(A2,x)))[0] # implementation of the function\n",
        "    x = xnew.copy()\n",
        "    r = b - np.matmul(A,x)\n",
        "    rs = np.append(rs, np.linalg.norm(r))\n",
        "    k += 1  \n",
        "  # Covergence visualisation\n",
        "  fig = plt.figure()\n",
        "  rPlt = fig.add_subplot(111)\n",
        "  rPlt.plot(rs, np.array(range(k+1)))\n",
        "  rPlt.set_xlabel(\"iterations\")\n",
        "  rPlt.set_ylabel(\"||r||\")\n",
        "  plt.title(\"Convergence of ||r||, where r = b-Ax, over iterations\\n for test %i\" % test)\n",
        "  return x\n",
        "\n",
        "def converge_criterion_J(A):\n",
        "  n = A.shape[0]\n",
        "  I = np.eye(n)\n",
        "  Dinv = np.multiply(1/A,I)\n",
        "  M = I - np.matmul(Dinv,A)\n",
        "  eigvals = np.linalg.eigvals(M)\n",
        "  max = 0\n",
        "  for i in range(len(eigvals)):\n",
        "    if eigvals[i] > max:\n",
        "      max = eigvals[i]\n",
        "  if max < 1:\n",
        "    return True\n",
        "  else:\n",
        "    return False"
      ],
      "execution_count": 0,
      "outputs": []
    },
    {
      "cell_type": "markdown",
      "metadata": {
        "id": "fKZzkHXATlvp",
        "colab_type": "text"
      },
      "source": [
        "### Gauss-Seidel Iteration for Ax=b\n",
        "\n",
        "This algorithm takes as input nxn matrix A, and vector b of length n, and a floating number tol.\n",
        "\n",
        "The output is an approximation of vector x such that Ax = b. The accuracy is such that $||b-Ax|| \\leq tol$. \n",
        "\n",
        "This algorithm uses the formula \n",
        "\n",
        "$x_i^{(k+1)} = a_{ii}^{-1} \\left(b_i - \\sum\\limits_{j<i} a_{ij}x_j^{(k)}- \\sum\\limits_{j>i} a_{ij}x_j^{(k)}\\right)$\n",
        "\n",
        "to calculate the iterations of $x$."
      ]
    },
    {
      "cell_type": "code",
      "metadata": {
        "id": "7NG2H1pMprHF",
        "colab_type": "code",
        "colab": {}
      },
      "source": [
        "def forward_sub(L,b):\n",
        "  n = L.shape[1]\n",
        "  x = np.zeros(n)\n",
        "  # Use backward substitution to solve\n",
        "  x[0] = b[0]/L[0,0]\n",
        "  for i in range(1,n):\n",
        "    sum = 0\n",
        "    for j in range(0, i):\n",
        "      sum = sum +L[i,j]*x[j]\n",
        "    x[i] = (b[i]-sum)/L[i,i]  \n",
        "  return x\n",
        "\n",
        "def GS_iter(A, b, tol, test):\n",
        "  # Initialization\n",
        "  n = A.shape[0]\n",
        "  x = np.zeros([n,])\n",
        "  xnew = x.copy()\n",
        "  k = 0\n",
        "\n",
        "  # Calculate iteration matrix\n",
        "  L = A.copy()\n",
        "  for i in range(n):\n",
        "    for j in range(i,n):\n",
        "      L[i,j] = 0\n",
        "  U = A.copy()\n",
        "  for i in range(n):\n",
        "    for j in range(0,i+1):\n",
        "      U[i,j] = 0\n",
        "  Dinvm = np.multiply(1/A,np.eye(n))\n",
        "  Dinv = np.zeros([n,]) # Put values of D inverse in array for faster computation\n",
        "  for i in range(n):\n",
        "    Dinv[i] = Dinvm[i,i]\n",
        "\n",
        "  # Gauss-Seidel iteration algorithm\n",
        "  r = b - np.matmul(A,x)\n",
        "  rs = np.array([np.linalg.norm(r)])\n",
        "  while np.linalg.norm(r) > tol:\n",
        "    xnew = np.array(np.multiply(Dinv, b-np.matmul(L,x)-np.matmul(U,x)))[0] # implementation of the function\n",
        "    x = xnew.copy()\n",
        "    r = b - np.matmul(A,x)\n",
        "    rs = np.append(rs, np.linalg.norm(r))\n",
        "    k += 1\n",
        "  # Covergence visualisation\n",
        "  fig = plt.figure()\n",
        "  rPlt = fig.add_subplot(111)\n",
        "  rPlt.plot(rs, np.array(range(k+1)))\n",
        "  rPlt.set_xlabel(\"iterations\")\n",
        "  rPlt.set_ylabel(\"||r||\")\n",
        "  plt.title(\"Convergence of ||r||, where r = b-Ax, over iterations\\n for test %i\" % test)\n",
        "  return x\n",
        "\n",
        "def converge_criterion_GS(A):\n",
        "  n = A.shape[0]\n",
        "  I = np.eye(n)\n",
        "  Dinv = np.multiply(1/A,I)\n",
        "  L = A.copy()\n",
        "  for i in range(n):\n",
        "    for j in range(i+1,n):\n",
        "      L[i,j] = 0\n",
        "  Linv = np.matrix(forward_sub(L, np.array(I[:,0]))).T\n",
        "  for i in range(1,n):\n",
        "    Linv = np.append(Linv, np.matrix(forward_sub(L, np.array(I[:,i]))).T, axis = 1) \n",
        "  M = I - np.matmul(Linv,A)\n",
        "  eigvals = np.linalg.eigvals(M)\n",
        "  max = 0\n",
        "  for i in range(len(eigvals)):\n",
        "    if eigvals[i] > max:\n",
        "      max = eigvals[i]\n",
        "  if max < 1:\n",
        "    return True\n",
        "  else:\n",
        "    return False"
      ],
      "execution_count": 0,
      "outputs": []
    },
    {
      "cell_type": "markdown",
      "metadata": {
        "id": "8d3UDeyCTwfH",
        "colab_type": "text"
      },
      "source": [
        "### Newton's method for scalar nonlinear equation f(x)=*0*\n",
        "\n",
        "This algorithm takes as input a function, an interval, and the tolerance for the solution. The interval serves as limits for the initial guess, but mainly are used for the visualisation of the function. \n",
        "\n",
        "The algorithm implements newton's methd for solving nonlinear scalar equations $f(x) = 0$. The iteration formula is: \n",
        "\n",
        "$x^{(k+1)} = x^{(k)}-\\frac{f\\left(x^{(k)}\\right)}{f'\\left(x^{(k)}\\right)}$"
      ]
    },
    {
      "cell_type": "code",
      "metadata": {
        "id": "kFPxUxymLCV2",
        "colab_type": "code",
        "colab": {}
      },
      "source": [
        "# return x such that f(x) = 0\n",
        "def newton(f, x, interval, tol, test):\n",
        "  k = 0\n",
        "  x = np.random.random()*(interval[1]-interval[0])+interval[0]\n",
        "  xs = np.array(x)\n",
        "  e = np.array(abs(f(x)))\n",
        "  # fixed point function\n",
        "  def g(xk):\n",
        "    df = sp.misc.derivative(f,xk)   \n",
        "    if df == 0: # to prevent dividing by 0 we take default value -1 if df = 0 (corresponds to alpha = 1)\n",
        "      df = -1\n",
        "    return xk-f(xk)/df\n",
        "\n",
        "  while abs(f(x)) > tol:\n",
        "    x = g(x)\n",
        "    xs = np.append(xs, x)\n",
        "    e = np.append(e, abs(f(x)))\n",
        "    k+=1\n",
        "\n",
        "  # Plot the process\n",
        "  fig = plt.figure()\n",
        "  fun = fig.add_subplot(133)\n",
        "  con = fig.add_subplot(221)\n",
        "  err = fig.add_subplot(223)\n",
        "  inp=np.array(np.linspace(interval[0], interval[1], 20))\n",
        "  y = np.zeros([20,])\n",
        "  for i in range(20):\n",
        "    y[i] = f(inp[i])\n",
        "  con.plot(np.array(range(k+1)), xs)\n",
        "  err.plot(np.array(range(k+1)), e)\n",
        "  fun.plot(inp,y)\n",
        "  err.set_xlabel(\"iterations\")\n",
        "  con.set_xlabel(\"iterations\")\n",
        "  err.set_ylabel(\"|f(x)|\")\n",
        "  con.set_ylabel(\"x\")\n",
        "  fun.set_xlabel(\"x\")\n",
        "  fun.set_ylabel(\"f(x)\")\n",
        "  fun.set_xlim(interval[0], interval[1])\n",
        "  con.title.set_text(\"convergence of x and |f(x)|\\n for test %i\" % test)\n",
        "  fun.title.set_text(\"f(x)\")\n",
        "  return x"
      ],
      "execution_count": 0,
      "outputs": []
    },
    {
      "cell_type": "markdown",
      "metadata": {
        "id": "3Q2kTA4DzCCs",
        "colab_type": "text"
      },
      "source": [
        "### Newtons method for vector nonlinear equation *f(x) = 0*\n",
        "\n",
        "The following algorithm uses newtons method to solve nonlinear equation systems. I have choses to implement a function that calculates the Jacobian matrix using finite differences. \n",
        "\n",
        "To solve the linear system in each iteration I used my direct solve method from the previous lab, which can be found at the top of the report in the [environment setup](https://colab.research.google.com/github/johanhoffman/DD2363-VT20/blob/lindevanbeers/Lab-3/linde-report-lab-3.ipynb#scrollTo=Xw7VlErAX7NS)."
      ]
    },
    {
      "cell_type": "code",
      "metadata": {
        "id": "kPNrCWDQzShP",
        "colab_type": "code",
        "colab": {}
      },
      "source": [
        "def newton_sys(f, x0, input_shape, output_shape, tol, test):\n",
        "  x = x0\n",
        "  k = 0\n",
        "  xnorms = np.array(np.linalg.norm(f(x)))\n",
        "\n",
        "  def jacobian(fun, xk):\n",
        "    eps = 1e-10\n",
        "    jac = np.zeros([output_shape, input_shape])\n",
        "    for i in range(input_shape):\n",
        "      x1 = xk.copy()\n",
        "      x2 = xk.copy()\n",
        "      x1[i] += eps\n",
        "      x2[i] -= eps\n",
        "      f1 = fun(x1)\n",
        "      f2 = fun(x2)\n",
        "      jac[:,i] = (f1-f2) / (2*eps)\n",
        "    return jac\n",
        "\n",
        "  while np.linalg.norm(f(x)) > tol:\n",
        "    Df = jacobian(f,x)\n",
        "    dx = direct_solve(Df, -f(x))\n",
        "    x = x + dx\n",
        "    k+=1\n",
        "    xnorms = np.append(xnorms, np.linalg.norm(f(x)))\n",
        "\n",
        "  fig = plt.figure()\n",
        "  rPlt = fig.add_subplot(111)\n",
        "  rPlt.plot(np.array(range(k+1)), xnorms)\n",
        "  rPlt.set_xlabel(\"iterations\")\n",
        "  rPlt.set_ylabel(\"||f(x)||\")\n",
        "  plt.title(\"Convergence of ||f(x)|| over iterations\\nfor test %i\" % test)\n",
        "\n",
        "  return x\n"
      ],
      "execution_count": 0,
      "outputs": []
    },
    {
      "cell_type": "markdown",
      "metadata": {
        "id": "SsQLT38gVbn_",
        "colab_type": "text"
      },
      "source": [
        "# **Results**"
      ]
    },
    {
      "cell_type": "markdown",
      "metadata": {
        "id": "I1KydGZRUC7f",
        "colab_type": "text"
      },
      "source": [
        "### Jacobi Iteration for *Ax=b*\n",
        "\n",
        "I have done 3 tests: 1 and 2 both show the covergence of the residual, the second also has an exact solution, for which I calculated the distance between the solution of my algorithm and the exact solution. \n",
        "\n",
        "The 3rd test is one that does not meet the covergence criterion, which the written method detects, and therefore it will not attempt to calculate an answer. "
      ]
    },
    {
      "cell_type": "code",
      "metadata": {
        "id": "DCzxLyBj7xJd",
        "colab_type": "code",
        "outputId": "241d396c-a4dd-4f0f-89ed-9d3ef062f9ee",
        "colab": {
          "base_uri": "https://localhost:8080/",
          "height": 1000
        }
      },
      "source": [
        "tol = 0.001\n",
        "\n",
        "print(\"Test 1\")\n",
        "A = np.matrix([[20,1,-2],[3,20,-1],[2,-3,20]])\n",
        "b = np.array([17,-18,25])\n",
        "print(\"A:\", A)\n",
        "print(\"b:\", b)\n",
        "if converge_criterion_J(A):\n",
        "  x = jacobi_iter(A,b,tol,1)\n",
        "  print(\"x:\", x)\n",
        "  print(\"Ax:\",np.matmul(A,x))\n",
        "  print(\"||b-Ax|| =\", np.linalg.norm(b-np.matmul(A,x)))\n",
        "else:\n",
        "  print(\"Convergence criterion was not met\")\n",
        "\n",
        "print(\"\\nTest 2\")\n",
        "A = np.matrix([[20,1,-2],[3,20,-1],[2,-3,20]])\n",
        "y = np.array([17,-18,25])\n",
        "b = np.array(np.matmul(A,y))[0]\n",
        "print(\"A:\", A)\n",
        "print(\"y:\", y)\n",
        "print(\"b:\", b)\n",
        "if converge_criterion_J(A):\n",
        "  x = jacobi_iter(A,b,tol,2)\n",
        "  print(\"x:\", x)\n",
        "  print(\"Ax:\",np.matmul(A,x))\n",
        "  print(\"||b-Ax|| =\", np.linalg.norm(b-np.matmul(A,x)))\n",
        "  print(\"||y-x|| =\", np.linalg.norm(y-x))\n",
        "else:\n",
        "  print(\"Convergence criterion was not met\")\n",
        "\n",
        "print(\"\\nTest 3\")\n",
        "A = np.matrix([[1,2,3],[4,5,6],[7,8,9]])\n",
        "b = np.array([1,2,3])\n",
        "#b = np.array(np.matmul(A,y))[0]\n",
        "print(\"A:\", A)\n",
        "print(\"b:\", b)\n",
        "if converge_criterion_J(A):\n",
        "  x = jacobi_iter(A,b,tol,3)\n",
        "  print(\"x:\", x)\n",
        "  print(\"Ax:\",np.matmul(A,x))\n",
        "else:\n",
        "  print(\"Convergence criterion was not met\")\n",
        "print(\"\\n\")"
      ],
      "execution_count": 60,
      "outputs": [
        {
          "output_type": "stream",
          "text": [
            "Test 1\n",
            "A: [[20  1 -2]\n",
            " [ 3 20 -1]\n",
            " [ 2 -3 20]]\n",
            "b: [ 17 -18  25]\n",
            "x: [ 0.9999995  -0.99999713  0.99999175]\n",
            "Ax: [[ 17.00000938 -17.99993575  24.99982537]]\n",
            "||b-Ax|| = 0.0001863057802412386\n",
            "\n",
            "Test 2\n",
            "A: [[20  1 -2]\n",
            " [ 3 20 -1]\n",
            " [ 2 -3 20]]\n",
            "y: [ 17 -18  25]\n",
            "b: [ 272 -334  588]\n",
            "x: [ 16.99997933 -18.00001014  25.0000087 ]\n",
            "Ax: [[ 271.99955896 -334.00027347  588.00016306]]\n",
            "||b-Ax|| = 0.00054395958570255\n",
            "||y-x|| = 2.4615331222363075e-05\n",
            "\n",
            "Test 3\n",
            "A: [[1 2 3]\n",
            " [4 5 6]\n",
            " [7 8 9]]\n",
            "b: [1 2 3]\n",
            "Convergence criterion was not met\n",
            "\n",
            "\n"
          ],
          "name": "stdout"
        },
        {
          "output_type": "display_data",
          "data": {
            "image/png": "[encoded data removed]",
            "text/plain": [
              "<Figure size 432x288 with 1 Axes>"
            ]
          },
          "metadata": {
            "tags": []
          }
        },
        {
          "output_type": "display_data",
          "data": {
            "image/png": "[encoded data removed]",
            "text/plain": [
              "<Figure size 432x288 with 1 Axes>"
            ]
          },
          "metadata": {
            "tags": []
          }
        }
      ]
    },
    {
      "cell_type": "markdown",
      "metadata": {
        "id": "POZyNJZWUGjB",
        "colab_type": "text"
      },
      "source": [
        "### Gauss-Seidel Iteration for *Ax=b*\n",
        "\n",
        "I carried out the same 3 test as for the Jacobi iteration:\n",
        "\n",
        "1 and 2 both show the covergence of the residual, the second also has an exact solution, for which I calculated the distance between the solution of my algorithm and the exact solution.\n",
        "\n",
        "The 3rd test is one that does not meet the covergence criterion, which the written method detects, and therefore it will not attempt to calculate an answer."
      ]
    },
    {
      "cell_type": "code",
      "metadata": {
        "id": "mTsLpHXGiIrR",
        "colab_type": "code",
        "outputId": "aed2b5e6-9d89-4baa-aa0e-97cdedb416dc",
        "colab": {
          "base_uri": "https://localhost:8080/",
          "height": 1000
        }
      },
      "source": [
        "tol = 0.001\n",
        "\n",
        "print(\"Test 1\")\n",
        "A = np.matrix([[12,3,-5],[1,5,3],[3,7,13]])\n",
        "b = np.array([1,28,76])\n",
        "# A = np.matrix([[20,1,-2],[3,20,-1],[2,-3,20]])\n",
        "# b = np.array([17,-18,25])\n",
        "print(\"A:\", A)\n",
        "print(\"b:\", b)\n",
        "if converge_criterion_GS(A):\n",
        "  x = GS_iter(A,b,tol,1)\n",
        "  print(\"x:\", x)\n",
        "  print(\"Ax:\",np.matmul(A,x))\n",
        "  print(\"||b-Ax|| =\", np.linalg.norm(b-np.matmul(A,x)))\n",
        "else:\n",
        "  print(\"Convergence criterion was not met\")\n",
        "\n",
        "print(\"\\nTest 2\")\n",
        "A = np.matrix([[20,1,-2],[3,20,-1],[2,-3,20]])\n",
        "y = np.array([17,-18,25])\n",
        "b = np.array(np.matmul(A,y))[0]\n",
        "print(\"A:\", A)\n",
        "print(\"y:\", y)\n",
        "print(\"b:\", b)\n",
        "if converge_criterion_GS(A):\n",
        "  x = GS_iter(A,b,tol,2)\n",
        "  print(\"x:\", x)\n",
        "  print(\"Ax:\",np.matmul(A,x))\n",
        "  print(\"||b-Ax|| =\", np.linalg.norm(b-np.matmul(A,x)))\n",
        "  print(\"||y-x|| =\", np.linalg.norm(y-x))\n",
        "else:\n",
        "  print(\"Convergence criterion was not met\")\n",
        "\n",
        "print(\"\\nTest 3\")\n",
        "A = np.matrix([[1,2,3],[4,5,6],[7,8,9]])\n",
        "b = np.array([1,2,3])\n",
        "#b = np.array(np.matmul(A,y))[0]\n",
        "print(\"A:\", A)\n",
        "print(\"b:\", b)\n",
        "if converge_criterion_GS(A):\n",
        "  x = GS_iter(A,b,tol,3)\n",
        "  print(\"x:\", x)\n",
        "  print(\"Ax:\",np.matmul(A,x))\n",
        "else:\n",
        "  print(\"Convergence criterion was not met\")\n",
        "print(\"\\n\")"
      ],
      "execution_count": 61,
      "outputs": [
        {
          "output_type": "stream",
          "text": [
            "Test 1\n",
            "A: [[12  3 -5]\n",
            " [ 1  5  3]\n",
            " [ 3  7 13]]\n",
            "b: [ 1 28 76]\n",
            "x: [0.99996753 3.00006482 4.00002598]\n",
            "Ax: [[ 0.99967489 28.00036959 76.00069412]]\n",
            "||b-Ax|| = 0.0008509435401714811\n",
            "\n",
            "Test 2\n",
            "A: [[20  1 -2]\n",
            " [ 3 20 -1]\n",
            " [ 2 -3 20]]\n",
            "y: [ 17 -18  25]\n",
            "b: [ 272 -334  588]\n",
            "x: [ 16.99997933 -18.00001014  25.0000087 ]\n",
            "Ax: [[ 271.99955896 -334.00027347  588.00016306]]\n",
            "||b-Ax|| = 0.00054395958570255\n",
            "||y-x|| = 2.4615331222363075e-05\n",
            "\n",
            "Test 3\n",
            "A: [[1 2 3]\n",
            " [4 5 6]\n",
            " [7 8 9]]\n",
            "b: [1 2 3]\n",
            "Convergence criterion was not met\n",
            "\n",
            "\n"
          ],
          "name": "stdout"
        },
        {
          "output_type": "display_data",
          "data": {
            "image/png": "[encoded data removed]",
            "text/plain": [
              "<Figure size 432x288 with 1 Axes>"
            ]
          },
          "metadata": {
            "tags": []
          }
        },
        {
          "output_type": "display_data",
          "data": {
            "image/png": "[encoded data removed]",
            "text/plain": [
              "<Figure size 432x288 with 1 Axes>"
            ]
          },
          "metadata": {
            "tags": []
          }
        }
      ]
    },
    {
      "cell_type": "markdown",
      "metadata": {
        "id": "LFeuTh30UKHf",
        "colab_type": "text"
      },
      "source": [
        "### Newton's method for scalar nonlinear equation *f(x)=0*\n"
      ]
    },
    {
      "cell_type": "code",
      "metadata": {
        "id": "Cy67z2PZHD9p",
        "colab_type": "code",
        "colab": {
          "base_uri": "https://localhost:8080/",
          "height": 1000
        },
        "outputId": "5449a762-2fb2-4de6-8152-6ffb4486abd7"
      },
      "source": [
        "def function1(x):\n",
        "  return math.cos(x)\n",
        "\n",
        "x = newton(function1 ,[0, math.pi], 0.001,1)\n",
        "print(\"Test 1\")\n",
        "print(\"f(x) = cos(x)\")\n",
        "print(\"Find x such that f(x) = 0:\")\n",
        "print(x)\n",
        "\n",
        "def function2(x):\n",
        "  return pow(x, 3)-2\n",
        "\n",
        "x = newton(function2 ,[-2, 2], 0.001, 2)\n",
        "print(\"\\nTest 2\")\n",
        "print(\"f(x) = x^3 - 2\")\n",
        "print(\"Find x such that f(x) = 0:\")\n",
        "print(x)\n",
        "print(\"known solution y =\", pow(2,1/3))\n",
        "print(\"|y-x| =\", abs(pow(2,1/3) - x))\n",
        "\n",
        "def function3(x):\n",
        "  return pow(x,2) - pow(2*x,2)*math.sin(x)\n",
        "\n",
        "x = newton(function3 ,[-2, 3], 0.001, 3)\n",
        "print(\"\\nTest 3\")\n",
        "print(\"f(x) = x^2 - (2x)^2 * sin(x)\")\n",
        "print(\"Find x such that f(x) = 0:\")\n",
        "print(x)\n"
      ],
      "execution_count": 62,
      "outputs": [
        {
          "output_type": "stream",
          "text": [
            "Test 1\n",
            "f(x) = cos(x)\n",
            "Find x such that f(x) = 0:\n",
            "1.5713982548199683\n",
            "\n",
            "Test 2\n",
            "f(x) = x^3 - 2\n",
            "Find x such that f(x) = 0:\n",
            "1.2598702331502585\n",
            "known solution y = 1.2599210498948732\n",
            "|y-x| = 5.0816744614712306e-05\n",
            "\n",
            "Test 3\n",
            "f(x) = x^2 - (2x)^2 * sin(x)\n",
            "Find x such that f(x) = 0:\n",
            "-3.3942778317801783\n"
          ],
          "name": "stdout"
        },
        {
          "output_type": "display_data",
          "data": {
            "image/png": "[encoded data removed]",
            "text/plain": [
              "<Figure size 432x288 with 3 Axes>"
            ]
          },
          "metadata": {
            "tags": []
          }
        },
        {
          "output_type": "display_data",
          "data": {
            "image/png": "[encoded data removed]",
            "text/plain": [
              "<Figure size 432x288 with 3 Axes>"
            ]
          },
          "metadata": {
            "tags": []
          }
        },
        {
          "output_type": "display_data",
          "data": {
            "image/png": "[encoded data removed]",
            "text/plain": [
              "<Figure size 432x288 with 3 Axes>"
            ]
          },
          "metadata": {
            "tags": []
          }
        }
      ]
    },
    {
      "cell_type": "markdown",
      "metadata": {
        "id": "qeaRiOCmCxR2",
        "colab_type": "text"
      },
      "source": [
        "### Newtons method for vector nonlinear equations *f(x) = 0*"
      ]
    },
    {
      "cell_type": "code",
      "metadata": {
        "id": "wSfw-CvFCwcO",
        "colab_type": "code",
        "colab": {
          "base_uri": "https://localhost:8080/",
          "height": 790
        },
        "outputId": "7839343d-3223-4f3c-92ec-d02973b8ef09"
      },
      "source": [
        "def function(x):\n",
        "  fx = np.array(np.zeros(3))\n",
        "  fx[0] = math.cos(x[0]) + math.sin(x[1])\n",
        "  fx[1] = pow(math.cos(x[0]), 2) + x[1]\n",
        "  fx[2] = math.sin(x[0]) + math.cos(x[1])\n",
        "  return fx\n",
        "\n",
        "print(\"Test 1\")\n",
        "x = newton_sys(function, np.array([0.,0.]), 2, 3, 0.001, 1)\n",
        "print(\"x:\", x)\n",
        "print(\"f(x):\",function(x))\n",
        "print(\"||f(x)||:\", np.linalg.norm(function(x)))\n",
        "\n",
        "\n",
        "\n",
        "def function2(x):\n",
        "  fx = np.array(np.zeros(2))\n",
        "  fx[0] = 3 * pow(x[0],3) + 4 * pow(x[1],2) - 145\n",
        "  fx[1] = 4 * pow(x[0],2) - pow(x[1],3) + 28\n",
        "  return fx\n",
        "\n",
        "print(\"\\nTest2\")\n",
        "x = newton_sys(function2, np.array([1.,1.]),2,2,0.001,1)\n",
        "print(\"known solution: y =\", np.array([3,4]))\n",
        "print(\"x:\", x)\n",
        "print(\"||y-x||:\", np.linalg.norm(np.array([3,4])-x))\n",
        "print(\"f(x):\",function2(x))\n",
        "print(\"||f(x)||:\", np.linalg.norm(function2(x)))"
      ],
      "execution_count": 156,
      "outputs": [
        {
          "output_type": "stream",
          "text": [
            "Test 1\n",
            "x: [-1.57081068e+00  1.43495274e-05]\n",
            "f(x): [-1.23545265e-10  1.43497333e-05  1.77635684e-15]\n",
            "||f(x)||: 1.4349733333605245e-05\n",
            "\n",
            "Test2\n",
            "known solution: y = [3 4]\n",
            "x: [3. 4.]\n",
            "||y-x||: 4.018316186266379e-09\n",
            "f(x): [ 8.94249865e-08 -2.02880365e-07]\n",
            "||f(x)||: 2.2171438992205993e-07\n"
          ],
          "name": "stdout"
        },
        {
          "output_type": "display_data",
          "data": {
            "image/png": "[encoded data removed]",
            "text/plain": [
              "<Figure size 432x288 with 1 Axes>"
            ]
          },
          "metadata": {
            "tags": []
          }
        },
        {
          "output_type": "display_data",
          "data": {
            "image/png": "[encoded data removed]",
            "text/plain": [
              "<Figure size 432x288 with 1 Axes>"
            ]
          },
          "metadata": {
            "tags": []
          }
        }
      ]
    },
    {
      "cell_type": "markdown",
      "metadata": {
        "id": "_4GLBv0zWr7m",
        "colab_type": "text"
      },
      "source": [
        "# **Discussion**"
      ]
    },
    {
      "cell_type": "markdown",
      "metadata": {
        "id": "6bcsDSoRXHZe",
        "colab_type": "text"
      },
      "source": [
        "All algorithms worked as they are supposed to in the end, provided they are given input they can actually manage. For example, I thought I had problems getting my newton's method for systems to work, purely because I was testing on a system where f(x) = 0 was not true for any x. \n",
        "\n",
        "If I had some more time I would work on simplifying my first two functions, because they could have been written much more efficiently using the iteration matrix that I already calculate when I check the convergence criterion anyway. However, my current solution is already working and I decided I'd rather spend my time working on the extra assignment. "
      ]
    }
  ]
}