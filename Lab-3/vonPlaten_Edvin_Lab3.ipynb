{
  "nbformat": 4,
  "nbformat_minor": 0,
  "metadata": {
    "colab": {
      "name": "vonPlaten_Edvin_Lab3.ipynb",
      "provenance": [],
      "collapsed_sections": []
    },
    "kernelspec": {
      "name": "python3",
      "display_name": "Python 3"
    }
  },
  "cells": [
    {
      "cell_type": "markdown",
      "metadata": {
        "id": "bdRK7BBoBUA0",
        "colab_type": "text"
      },
      "source": [
        "[**OPEN IN COLABS**](https://colab.research.google.com/drive/1aFnUQGTI-9jCLNeMbcaJVM0L3E-NmI1R)"
      ]
    },
    {
      "cell_type": "markdown",
      "metadata": {
        "id": "6RgtXlfYO_i7",
        "colab_type": "text"
      },
      "source": [
        "# **Lab 3: Iterative Methods**\n",
        "**Edvin von Platen**"
      ]
    },
    {
      "cell_type": "markdown",
      "metadata": {
        "id": "9x_J5FVuPzbm",
        "colab_type": "text"
      },
      "source": [
        "# **Abstract**"
      ]
    },
    {
      "cell_type": "markdown",
      "metadata": {
        "id": "PZjpW56wQN2W",
        "colab_type": "text"
      },
      "source": [
        "In this lab we implement, test, and evaluate the following fixed point iteration algorithms:\n",
        "\n",
        "1. Jacobi Iteration,\n",
        "2. Gauss-Seidel Iteration,\n",
        "3. Newton's Method for Non-Linear Scalar Functions,\n",
        "4. Newton's Method for System of Non-Linear Functions.\n",
        "\n",
        "All implemented algorithms appear to be working as expected and performs quite well."
      ]
    },
    {
      "cell_type": "markdown",
      "metadata": {
        "id": "OkT8J7uOWpT3",
        "colab_type": "text"
      },
      "source": [
        "#**About the code**"
      ]
    },
    {
      "cell_type": "code",
      "metadata": {
        "id": "Pdll1Xc9WP0e",
        "colab_type": "code",
        "outputId": "f74fa781-413b-41e7-a2ec-1bba2288ad4f",
        "colab": {
          "base_uri": "https://localhost:8080/",
          "height": 34
        }
      },
      "source": [
        "\"\"\"This program is a template for lab reports in the course\"\"\"\n",
        "\"\"\"DD2363 Methods in Scientific Computing, \"\"\"\n",
        "\"\"\"KTH Royal Institute of Technology, Stockholm, Sweden.\"\"\"\n",
        "\n",
        "# Copyright (C) 2020 Edvin von Platen (edvinvp@kth.se)\n",
        "\n",
        "# This file is part of the course DD2363 Methods in Scientific Computing\n",
        "# KTH Royal Institute of Technology, Stockholm, Sweden\n",
        "#\n",
        "# This is free software: you can redistribute it and/or modify\n",
        "# it under the terms of the GNU Lesser General Public License as published by\n",
        "# the Free Software Foundation, either version 3 of the License, or\n",
        "# (at your option) any later version.\n",
        "\n",
        "# This template is maintained by Johan Hoffman\n",
        "# Please report problems to jhoffman@kth.se"
      ],
      "execution_count": 0,
      "outputs": [
        {
          "output_type": "execute_result",
          "data": {
            "text/plain": [
              "'KTH Royal Institute of Technology, Stockholm, Sweden.'"
            ]
          },
          "metadata": {
            "tags": []
          },
          "execution_count": 1
        }
      ]
    },
    {
      "cell_type": "markdown",
      "metadata": {
        "id": "28xLGz8JX3Hh",
        "colab_type": "text"
      },
      "source": [
        "# **Set up environment**"
      ]
    },
    {
      "cell_type": "markdown",
      "metadata": {
        "id": "D2PYNusD08Wa",
        "colab_type": "text"
      },
      "source": [
        "To have access to the neccessary modules you have to run this cell. If you need additional modules, this is where you add them. "
      ]
    },
    {
      "cell_type": "code",
      "metadata": {
        "id": "Xw7VlErAX7NS",
        "colab_type": "code",
        "colab": {}
      },
      "source": [
        "# Load neccessary modules.\n",
        "from google.colab import files\n",
        "\n",
        "import time\n",
        "import numpy as np\n",
        "import unittest\n",
        "import random\n",
        "\n",
        "from matplotlib import pyplot as plt\n",
        "from matplotlib import tri\n",
        "from matplotlib import axes\n",
        "from mpl_toolkits.mplot3d import Axes3D\n",
        "\n",
        "np.random.seed(seed=1994)\n",
        "random.seed(1994)"
      ],
      "execution_count": 0,
      "outputs": []
    },
    {
      "cell_type": "markdown",
      "metadata": {
        "id": "gnO3lhAigLev",
        "colab_type": "text"
      },
      "source": [
        "# **Introduction**"
      ]
    },
    {
      "cell_type": "markdown",
      "metadata": {
        "id": "m0nZocru7lT0",
        "colab_type": "text"
      },
      "source": [
        "We implement, test, and evaluate the following fixed point iteration algorithms:\n",
        "\n",
        "1. Jacobi Iteration,\n",
        "2. Gauss-Seidel Iteration,\n",
        "3. Newton's Method for Non-Linear Scalar Functions,\n",
        "4. Newton's Method for System of Non-Linear Functions.\n",
        "\n",
        "All implementations and mathematical conccepts presented in this report are based on the lecture notes from the course [DD2363 Methods in Scientific Computing](https://kth.instructure.com/courses/17068). \n",
        "\n",
        "In the Methods section we present some general fixed point iteration, and background and implementation for each algrithm, including some unittest implementation. Followed by tests and evaluation in the Results section and a brief discussion of the results in the Discussion section"
      ]
    },
    {
      "cell_type": "markdown",
      "metadata": {
        "id": "WeFO9QMeUOAu",
        "colab_type": "text"
      },
      "source": [
        "# **Methods**\n",
        "\n",
        "## **Fixed Point Iteration**\n",
        "\n",
        "In a fixed point iteration problem we want to solve, $x=g(x)$, by the iteration,\n",
        "$$\n",
        "x^{(k+1)} = g(x^{(k)}), \\ \\ \\ \\  (eq.\\ \\ 7.5).\n",
        "$$\n",
        "Where $g: X \\to X$ is a nonlinear function or a linear transformation. If $X$ is a Banach space, i.e. complete normed vector space, and $x \\mapsto g(x)$ satisfies some stability condition, the Banach fixed point theorem states that (7.5) will converge to the solution $x\\in X$. We note that $R^n$ is a Banach space.\n",
        "\n",
        "*Stationary* iterative methods are linear fixed point iteration of the form\n",
        "$$\n",
        "x^{(k+1)} = Mx^{(k)} + c, \\ \\ M \\in R^{n\\times n}, \\ c \\in R^{n},  \\ x \\in R^{n}, \\ \\ (eq. \\ 7.6). \n",
        "$$\n",
        "To solve a system of linear equations $Ax = b$ we can formulate it as a stationary fixed iteration by splitting $A$ into a sum $A = A_1 + A_2$, A_1 is easy to invert. Jacobi iteration and Gauss-Seidel are two stationary iterative methods based on splitting $A$ which we give an overview of and implement in the Methods section.\n",
        "\n",
        "Stationary iteration methods does not always converge to the solution $x$, however it can be shown that Jacobi, and Gauss-Seidel iteration conveges if $A$ is diagonally dominant (section 7.3), i.e.\n",
        "$$\n",
        "|a_{ii}|  \\geq \\sum_{j\\neq i} |a_{ij}|,\n",
        "$$\n",
        "and there exists at least one index $k$ such that,\n",
        "$$\n",
        "|a_{kk}| > \\sum_{j\\neq k} |a_{kj}|.\n",
        "$$\n",
        "\n",
        "We also need to decide when to stop the iteration, preferably when it has converged to the solution $x$. By Theorem 7.1 we know that the relative error for a sequence of approximate solutions of linear equations $Ax = b$ can be approximated by,\n",
        "\n",
        "$$\n",
        "\\frac{\\Vert e^{(k)} \\Vert}{\\Vert e^{(0)} \\Vert} \\leq \\kappa(A) \\frac{\\Vert r^{(k)}\\Vert}{\\Vert r^{(0)}\\Vert}.\n",
        "$$\n",
        "Where $\\kappa(A) = \\Vert A^{-1}\\Vert \\Vert A \\Vert$ is the condition number of $A$, i.e. the maximum sensitivity in the solution with respect to a perturbed vector $\\tilde{b} = b + \\delta b$ (Section 7.3), and $e^{k} = x - x^{k}$ is the error for iteration $k$.\n",
        "\n",
        "While we often cannot compute the exact error, and we don't want to compute the matix inverse (costly, and then we could just use it to solve the system!), we can compute the residual, which acts as a bound for the relative error. This bound can then be used as a stopping criterion for the iteration. We use the criterion given in section 7.3,\n",
        "$$\n",
        "\\frac{\\Vert r^{(k)} \\Vert}{\\Vert b \\Vert}\n",
        "$$\n",
        "in the Jacobi- and Gauss-Seidel iteration implementations.\n"
      ]
    },
    {
      "cell_type": "markdown",
      "metadata": {
        "id": "zQh_7mj4k53_",
        "colab_type": "text"
      },
      "source": [
        "## **Jacobi Iteration**\n",
        "\n",
        "The idea behind Jacobi iteration for solving the system of linear equations $Ax = b$ is to split the matrix $A$ by,\n",
        "$$\n",
        "A_1 = D, \\ \\  A_2 = A - D, \\ \\ \\ (section\\ 7.3),\n",
        "$$\n",
        "Where $D$ is the diagonal matrix which elements are the main diagonal of $A$. This gives us that,\n",
        "\\begin{align*}\n",
        "Dx + Ax - Dx = b \\iff Dx = -(A - D)x  + b \\\\\n",
        "\\iff x = -D^{-1}(A - D)x + D^{-1}b.\n",
        "\\end{align*}\n",
        "I.e. the stationary fixed point iteration formula with $M = -D^{-1}(A - D)$, and $c = D^{-1}b$. \n",
        "\n",
        "\n",
        "\n",
        "Section 7.3 gives us the Jacobi iteration update formula, \n",
        "$$\n",
        "x_i^{k+1} = a_{ii}^{-1}\\left( b_i - \\sum_{j\\neq i}^n a_{ij}x_j^{(k)}\\right),\n",
        "$$\n",
        "which we implement below.\n",
        "\n"
      ]
    },
    {
      "cell_type": "code",
      "metadata": {
        "id": "4TwNA-Og0WOj",
        "colab_type": "code",
        "colab": {}
      },
      "source": [
        "def jacobi_iteration(A, b, x_start, TOL):\n",
        "  # Store each iteration in a n x iters matrix so we can look at the residuals\n",
        "  n,m = A.shape\n",
        "  x = np.zeros((n,1))\n",
        "  x[:,0] = x_start\n",
        "  k = 1\n",
        "  # While both x and b are column vectors A.dot(x) results in a row vector\n",
        "  # So need to take transpose of b\n",
        "  while np.linalg.norm(A.dot(x[:,k-1]) - b.T) / np.linalg.norm(b) > TOL:\n",
        "    x = np.append(x, np.zeros((n,1)), axis=1)\n",
        "    for i in range(n):\n",
        "      s = 0\n",
        "      for j in range(n):\n",
        "        if j == i:\n",
        "          continue\n",
        "        s += A[i,j]*x[j,k-1]\n",
        "      x[i,k] = 1/A[i,i]*b[i,0] - s*1/A[i,i]\n",
        "    k += 1\n",
        "  return x, k-1\n",
        "\n",
        "class jacobi_iteration_test(unittest.TestCase):\n",
        "  # We can test by comparing with np.linalg.solve.\n",
        "  # We use only diagonally dominant matrices\n",
        "  def test_random(self):\n",
        "    # run 100 test with different dimensions\n",
        "    for i in range(20):\n",
        "      m = random.randint(50,100)\n",
        "      A = np.random.randint(0,10, m * m)\n",
        "      # make around 10% of the array non-zero\n",
        "      A[A > 1] = 0\n",
        "      A = np.reshape(A, (m,m))\n",
        "      b = np.reshape(np.random.randint(0,10,m), (m,1))\n",
        "      # Make sure Diagonally dominant\n",
        "      for j in range(m):\n",
        "        A[j,j] += 10 * np.random.randint(1,5)\n",
        "      x,k = jacobi_iteration(A,b,np.zeros(m), 0.00001)\n",
        "      x_j = np.reshape(x[:,k], (m,1))\n",
        "      x_np = np.linalg.solve(A,b)\n",
        "      self.assertIs(np.allclose(x_np,x_j,atol=1e-03), True)"
      ],
      "execution_count": 0,
      "outputs": []
    },
    {
      "cell_type": "markdown",
      "metadata": {
        "id": "M1KNyEJBk9k7",
        "colab_type": "text"
      },
      "source": [
        "## **Gauss-Seidel Iteration**\n",
        "The difference between Gauss-Seidel iteration and Jacobi iteration is that in Gauss-Seidel we split $A = A_1 + A_2$ by $A_1 = L, \\ A_2 = A - L$ (Section 7.3). Here, L is the lower triangular matrix obtained by zeroing all entries in $A$ above the main diagonal. This gives us that,\n",
        "$$\n",
        "(L + A - L)x = b \\iff x = - L^{-1}(A - L)x + L^{-1}b.\n",
        "$$\n",
        "I.e. the stationary point iteration with $M = -L^{-1}(A-L)$ and $x = L^{-1}b$.\n",
        "Which can be written as the following update formula given in section 7.3,\n",
        "$$\n",
        "x_i^{(k+1)} = a_{ii}^{-1} \\left( b_i - \\sum_{j<i} a_{ij}x_j^{(k+1)} - \\sum_{j>i}a_{ij}x_j^{(k)} \\right ),\n",
        "$$\n",
        "which we implement below."
      ]
    },
    {
      "cell_type": "code",
      "metadata": {
        "id": "fzeEF8hONqbZ",
        "colab_type": "code",
        "colab": {}
      },
      "source": [
        "def gauss_seidel_iteration(A, b, x_start, TOL):\n",
        "  n,m = A.shape\n",
        "  x = np.zeros((n,1))\n",
        "  x[:,0] = x_start\n",
        "  k = 1\n",
        "  # While both x and b are column vectors A.dot(x) results in a row vector\n",
        "  # So need to take transpose of b\n",
        "  while np.linalg.norm(A.dot(x[:,k-1]) - b.T) / np.linalg.norm(b) > TOL:\n",
        "    x = np.append(x, np.zeros((n,1)), axis=1)\n",
        "    for i in range(n):\n",
        "      s = 0\n",
        "      for j in range(i):\n",
        "        s += A[i,j]*x[j,k]\n",
        "      for j in range(i+1,n):\n",
        "        s += A[i,j]*x[j,k-1]\n",
        "      x[i,k] = 1/A[i,i]*b[i,0] - s*1/A[i,i]\n",
        "    k += 1\n",
        "  return x, k-1\n",
        "\n",
        "class gauss_seidel_iteration_test(unittest.TestCase):\n",
        "  # We can test by comparing with np.linalg.solve.\n",
        "  # We use only diagonally dominant matrices\n",
        "  def test_random(self):\n",
        "    # run 100 test with different dimensions\n",
        "    for i in range(20):\n",
        "      m = random.randint(50,100)\n",
        "      A = np.random.randint(0,10, m * m)\n",
        "      # make around 10% of the array non-zero\n",
        "      A[A > 1] = 0\n",
        "      A = np.reshape(A, (m,m))\n",
        "      b = np.reshape(np.random.randint(0,10,m), (m,1))\n",
        "      # Make sure Diagonally dominant\n",
        "      for j in range(m):\n",
        "        A[j,j] += 10 * np.random.randint(1,5)\n",
        "      x,k = gauss_seidel_iteration(A,b,np.zeros(m), 0.00001)\n",
        "      x_j = np.reshape(x[:,k], (m,1))\n",
        "      x_np = np.linalg.solve(A,b)\n",
        "      self.assertIs(np.allclose(x_np,x_j,atol=1e-03), True)"
      ],
      "execution_count": 0,
      "outputs": []
    },
    {
      "cell_type": "markdown",
      "metadata": {
        "id": "vbyvLz09lB-l",
        "colab_type": "text"
      },
      "source": [
        "## **Newton's Method for Scalar Non-Linear Functions**\n",
        "\n",
        "Newton's method for scalar non-linear functions is a fixed point iteration for solving,\n",
        "$$\n",
        "f(x) = 0, \\ \\ f : I \\to R, \\ \\text{where } I \\text{ is the interval for which we seek the solution } x\\in R.\n",
        "$$\n",
        "Which can be formulated as the fixed point iteration,\n",
        "$$\n",
        "x^{(k+1)} = g(x^{(k)}) = x^{(k)} + \\alpha f(x^{(k)}), \\ \\alpha \\in R \\ \\ \\ (eq. 8.2).\n",
        "$$\n",
        "It can be shown that (8.2) converges to a unique fixed point $x = g(x)$ if $g\\in Lip(I)$, and $L_g < 1$, where $g \\in Lip(I)$ means that $g$ is Lipschitz continous on $I$, i.e.\n",
        "$$\n",
        "|g(x) - g(y)|\\leq L|x-y|, \\ \\forall x,y \\in I, \\ L > 0, \\ L \\in R,\n",
        "$$\n",
        "and $L_g$ is the Lipschitz constant $L$.\n",
        "\n",
        "If we take $\\alpha = f'(x^{(k)})^{-1}$ we get Newton's method. We implement algorithm 8.2 below with stopping criterion $|f(x^{(k)})| < TOL$. "
      ]
    },
    {
      "cell_type": "code",
      "metadata": {
        "id": "krUZEY1DPZpr",
        "colab_type": "code",
        "colab": {}
      },
      "source": [
        "def newton_scalar(f,f_prim,start, TOL):\n",
        "  x = np.zeros(1)\n",
        "  x[0] = start\n",
        "  k = 1\n",
        "  while abs(f(x[k-1])) > TOL:\n",
        "    x = np.append(x, x[k-1] - f(x[k-1])/f_prim(x[k-1]))\n",
        "    k += 1\n",
        "  return x, k-1"
      ],
      "execution_count": 0,
      "outputs": []
    },
    {
      "cell_type": "markdown",
      "metadata": {
        "id": "KrRa6J_Yel7K",
        "colab_type": "text"
      },
      "source": [
        "## **Newton's Method for Non-Linear Systems**\n",
        "\n",
        "In the previous section we solved scalar non-linear functions using Newton's method. We will now give an overview and implement Newton's method for non-linear systems.\n",
        "\n",
        "The problem statement is almost identical to the scalar scenario, we want to find $x\\in R^n$ such that $f(x) = 0, \\ \\ f : R^n \\to R^n$. For which the fixed point iteration becomes,\n",
        "$$\n",
        "x^{(k+1)} = g(x^{(k)}) = x^{(k)} + A f(x^{(k)}), \\ A \\in R^{n\\times n}, \\ g: R^n \\to R^n\\ \\ (eq. 8.5).\n",
        "$$\n",
        "Similarly to the scalar case, by Theorem 8.13 the fixed point iteration (8.5) converges to an unique solution if $g$ is Lipschitz continous with Lipshitz constant $L_g < 1$.\n",
        "\n",
        "We now get Newron's method by selecting $A = -D^{-1}$, where $D$ is the Jacobian matrix of $f$ defined by,\n",
        "$$\n",
        "D = \\begin{pmatrix} \\frac{\\partial f_1}{\\partial x_1} & \\frac{\\partial f_1}{\\partial x_2}& \\dots & \\frac{\\partial f_1}{\\partial x_n} \\\\\n",
        "\\frac{\\partial f_2}{\\partial x_1} & \\frac{\\partial f_2}{\\partial x_2} & \\dots & \\frac{\\partial f_2}{\\partial x_n} \\\\\n",
        "\\vdots & \\vdots & \\vdots & \\vdots \\\\\n",
        "\\frac{\\partial f_n}{\\partial x_1} & \\frac{\\partial f_n}{\\partial x_2} & \\dots & \\frac{\\partial f_n}{\\partial x_n} \n",
        "\\end{pmatrix} .\n",
        "$$\n",
        "We now give an implementation of algorithm 8.4 with stopping critera $\\Vert f(x^{(k)})\\Vert  < TOL$. Note that we could use one of the iterative methods above to solve the intermediate step, however as they both require that the matrix is diagonally dominant we choose to use the more reliable direct solver $np.linalg.solve$ instead."
      ]
    },
    {
      "cell_type": "code",
      "metadata": {
        "id": "_IX2ZtoFek6C",
        "colab_type": "code",
        "colab": {}
      },
      "source": [
        "# y = f(x) array of f evaluated in the point x\n",
        "# D(x) return jacobian of f evaluated in x\n",
        "def newton_system(f, D,  x_start, TOL):\n",
        "  n = x_start.shape[0]\n",
        "  x = np.zeros((n, 1))\n",
        "  x[:,0] = x_start\n",
        "  k = 1\n",
        "  while np.linalg.norm(f(x[:,k-1])) > TOL:\n",
        "    x = np.append(x, np.zeros((n,1)), axis=1)\n",
        "    ## First solve dx =- D^-1 f(x)\n",
        "    dx = np.linalg.solve(D(x[:,k-1]), (-1)*f(x[:,k-1]))\n",
        "    x[:,k] = x[:,k-1] + dx.T\n",
        "    k += 1\n",
        "  return x, k - 1"
      ],
      "execution_count": 0,
      "outputs": []
    },
    {
      "cell_type": "markdown",
      "metadata": {
        "id": "SsQLT38gVbn_",
        "colab_type": "text"
      },
      "source": [
        "# **Results**"
      ]
    },
    {
      "cell_type": "markdown",
      "metadata": {
        "id": "RLwlnOzuV-Cd",
        "colab_type": "text"
      },
      "source": [
        "In this section we will present the results of the implemented unittests for the Jacobi- and Gauss-Seidel iteration and test both Newton's methods using systems with known solutions. The reason for not automating the Newton's methods test is that it would require the scipy package. Also, many solvers such as np.roots for polynomials give and the scipy fsolve returns a list of the roots, while our methods only return one.\n",
        "\n",
        "We will also evaluate the implemented algorithms by inspecting the residual $\\Vert Ax - b\\Vert$ or $|f(x)|$, and ||x-y|| or |x-y|, for a manufactured solution $y$.\n",
        "\n",
        "First, we run the two tests."
      ]
    },
    {
      "cell_type": "code",
      "metadata": {
        "id": "TZrdS3ZrcNtA",
        "colab_type": "code",
        "outputId": "529c3cde-12b6-4d56-a28b-c0410f7cba20",
        "colab": {
          "base_uri": "https://localhost:8080/",
          "height": 119
        }
      },
      "source": [
        "unittest.main(argv=['first-arg-is-ignored'], exit=False)"
      ],
      "execution_count": 0,
      "outputs": [
        {
          "output_type": "stream",
          "text": [
            "..\n",
            "----------------------------------------------------------------------\n",
            "Ran 2 tests in 11.340s\n",
            "\n",
            "OK\n"
          ],
          "name": "stderr"
        },
        {
          "output_type": "execute_result",
          "data": {
            "text/plain": [
              "<unittest.main.TestProgram at 0x7f89e1daa898>"
            ]
          },
          "metadata": {
            "tags": []
          },
          "execution_count": 111
        }
      ]
    },
    {
      "cell_type": "markdown",
      "metadata": {
        "id": "08vmOdsScQ2C",
        "colab_type": "text"
      },
      "source": [
        "Both Jacobi- and Gauss Seidel iteration implementations seem to be working.\n",
        "\n",
        "The tests for Newton's methods will be performed in conjunction with the evaluation. We continue with the evaluation."
      ]
    },
    {
      "cell_type": "markdown",
      "metadata": {
        "id": "M08ynYHkcnbN",
        "colab_type": "text"
      },
      "source": [
        "## **Jacobi Iteration**\n",
        "\n"
      ]
    },
    {
      "cell_type": "markdown",
      "metadata": {
        "id": "R8p2ZHFbbZYZ",
        "colab_type": "text"
      },
      "source": [
        "The system,\n",
        "$$\n",
        "\\begin{cases}\n",
        "8x +& & z & = 1 \\\\\n",
        "4x +& 8y+ & 2z & = 2 \\\\\n",
        "2x+ & 5y+ &9z & = 3\n",
        "\\end{cases}\n",
        "$$\n",
        "has the solution,\n",
        "$$\n",
        "x = \\frac{12}{125}, \\ y = \\frac{18}{125} \\ z = \\frac{29}{125}.\n",
        "$$\n",
        "We solve the system using Jacobi iteration with a tolerance on $0.0001$ and plot the residual for each iteration and the norm of the difference $\\Vert x-y\\Vert$ where $y$ is the exakt solution."
      ]
    },
    {
      "cell_type": "code",
      "metadata": {
        "id": "ynGgnlCsUz2F",
        "colab_type": "code",
        "outputId": "0b7d305c-1a28-42ca-8ce2-de4248080edb",
        "colab": {
          "base_uri": "https://localhost:8080/",
          "height": 297
        }
      },
      "source": [
        "## jacobi\n",
        "\n",
        "A = np.array([[8,0,1], [4, 8, 2],[2,5,9]])\n",
        "b = np.array([[1],[2],[3]])\n",
        "x_start = np.array([-10,-10,-10])\n",
        "\n",
        "# Exact solution\n",
        "y = np.array([12/125,18/125,29/125])\n",
        "\n",
        "x,i = jacobi_iteration(A,b, x_start,0.0001)\n",
        "iters = np.linspace(1,i+1, num =i+1)\n",
        "\n",
        "#residual ||Ax - b||\n",
        "residual = list(map(lambda x_i : np.linalg.norm(A.dot(x_i) - b.T), x.T))\n",
        "fig, (ax1, ax2) = plt.subplots(1, 2)\n",
        "ax1.set(xlabel='Iteration', ylabel='Residual ||Ax-b||')\n",
        "ax1.plot(iters, residual, '-bo')\n",
        "ax1.set_ylim(ymin=-2)\n",
        "# norm diff ||x-y||\n",
        "norm_diff  = list(map(lambda x_i : np.linalg.norm(x_i - y), x.T))\n",
        "ax2.plot(iters, norm_diff, '-ro')\n",
        "ax2.set(xlabel='Iteration', ylabel='Norm of Difference ||x-y||')\n",
        "ax2.set_ylim(ymin=-2)\n",
        "fig.tight_layout()\n",
        "fig.show()"
      ],
      "execution_count": 0,
      "outputs": [
        {
          "output_type": "display_data",
          "data": {
            "image/png": "[encoded data removed]",
            "text/plain": [
              "<Figure size 432x288 with 2 Axes>"
            ]
          },
          "metadata": {
            "tags": []
          }
        }
      ]
    },
    {
      "cell_type": "markdown",
      "metadata": {
        "id": "W9bCobOjh6dw",
        "colab_type": "text"
      },
      "source": [
        "We repreat the test using a larger sparse random system of $100$ variables and np.linalg.solve as reference."
      ]
    },
    {
      "cell_type": "code",
      "metadata": {
        "id": "BmUhbRzoh5Tk",
        "colab_type": "code",
        "outputId": "a7436765-ffc8-4ffb-d216-fd55c9e8420b",
        "colab": {
          "base_uri": "https://localhost:8080/",
          "height": 297
        }
      },
      "source": [
        "m = 100\n",
        "A = np.random.randint(0,10, m * m)\n",
        "# make around 10% of the array non-zero\n",
        "A[A > 1] = 0\n",
        "A = np.reshape(A, (m,m))\n",
        "b = np.reshape(np.random.randint(0,10,m), (m,1))\n",
        "# Make sure Diagonally dominant\n",
        "for j in range(m):\n",
        "  A[j,j] += 7 * np.random.randint(1,5)\n",
        "x,i = jacobi_iteration(A,b,np.zeros(m), 0.0001)\n",
        "# reference\n",
        "x_np = np.linalg.solve(A,b)\n",
        "\n",
        "iters = np.linspace(1,i+1, num =i+1)\n",
        "\n",
        "#residual ||Ax - b||\n",
        "residual = list(map(lambda x_i : np.linalg.norm(A.dot(x_i) - b.T), x.T))\n",
        "fig, (ax1, ax2) = plt.subplots(1, 2)\n",
        "ax1.set(xlabel='Iteration', ylabel='Residual ||Ax-b||')\n",
        "ax1.plot(iters, residual, '-bo')\n",
        "ax1.set_ylim(ymin=-2)\n",
        "# norm diff ||x-y||\n",
        "norm_diff  = list(map(lambda x_i : np.linalg.norm(x_i - x_np), x.T))\n",
        "ax2.plot(iters, norm_diff, '-ro')\n",
        "ax2.set(xlabel='Iteration', ylabel='Norm of Difference ||x-y||')\n",
        "ax2.set_ylim(ymin=-2)\n",
        "fig.tight_layout()\n",
        "fig.show()"
      ],
      "execution_count": 0,
      "outputs": [
        {
          "output_type": "display_data",
          "data": {
            "image/png": "[encoded data removed]",
            "text/plain": [
              "<Figure size 432x288 with 2 Axes>"
            ]
          },
          "metadata": {
            "tags": []
          }
        }
      ]
    },
    {
      "cell_type": "markdown",
      "metadata": {
        "id": "nAGobl1RjiLv",
        "colab_type": "text"
      },
      "source": [
        "## **Gauss-Seidel Iteration**\n",
        "\n",
        "We perform the same evaluation as for the Jacobi iteration, with the same reference solutions."
      ]
    },
    {
      "cell_type": "code",
      "metadata": {
        "id": "-aFqVvDej6ll",
        "colab_type": "code",
        "outputId": "58d89b59-cfed-4e80-9c66-6575e9978f34",
        "colab": {
          "base_uri": "https://localhost:8080/",
          "height": 297
        }
      },
      "source": [
        "A = np.array([[8,0,1], [4, 8, 2],[2,5,9]])\n",
        "b = np.array([[1],[2],[3]])\n",
        "x_start = np.array([-10,-10,-10])\n",
        "\n",
        "# Exact solution\n",
        "y = np.array([12/125,18/125,29/125])\n",
        "\n",
        "x,i = gauss_seidel_iteration(A,b, x_start,0.0001)\n",
        "iters = np.linspace(1,i+1, num =i+1)\n",
        "\n",
        "#residual ||Ax - b||\n",
        "residual = list(map(lambda x_i : np.linalg.norm(A.dot(x_i) - b.T), x.T))\n",
        "\n",
        "fig, (ax1, ax2) = plt.subplots(1, 2)\n",
        "ax1.set(xlabel='Iteration', ylabel='Residual ||Ax-b||')\n",
        "ax1.plot(iters, residual, '-bo')\n",
        "ax1.set_ylim(ymin=-2)\n",
        "# norm diff ||x-y||\n",
        "norm_diff  = list(map(lambda x_i : np.linalg.norm(x_i - y), x.T))\n",
        "ax2.plot(iters, norm_diff, '-ro')\n",
        "ax2.set(xlabel='Iteration', ylabel='Norm of Difference ||x-y||')\n",
        "ax2.set_ylim(ymin=-2)\n",
        "fig.tight_layout()\n",
        "fig.show()"
      ],
      "execution_count": 0,
      "outputs": [
        {
          "output_type": "display_data",
          "data": {
            "image/png": "[encoded data removed]",
            "text/plain": [
              "<Figure size 432x288 with 2 Axes>"
            ]
          },
          "metadata": {
            "tags": []
          }
        }
      ]
    },
    {
      "cell_type": "code",
      "metadata": {
        "id": "8aG4nAoRkWF9",
        "colab_type": "code",
        "outputId": "90f73349-689a-4c7f-fe50-4637349e588c",
        "colab": {
          "base_uri": "https://localhost:8080/",
          "height": 297
        }
      },
      "source": [
        "m = 100\n",
        "A = np.random.randint(0,10, m * m)\n",
        "# make around 10% of the array non-zero\n",
        "A[A > 1] = 0\n",
        "A = np.reshape(A, (m,m))\n",
        "b = np.reshape(np.random.randint(0,10,m), (m,1))\n",
        "# Make sure Diagonally dominant\n",
        "for j in range(m):\n",
        "  A[j,j] += 7 * np.random.randint(1,5)\n",
        "x,i = gauss_seidel_iteration(A,b,np.zeros(m), 0.0001)\n",
        "# reference\n",
        "x_np = np.linalg.solve(A,b)\n",
        "\n",
        "iters = np.linspace(1,i+1, num =i+1)\n",
        "\n",
        "#residual ||Ax - b||\n",
        "residual = list(map(lambda x_i : np.linalg.norm(A.dot(x_i) - b.T), x.T))\n",
        "fig, (ax1, ax2) = plt.subplots(1, 2)\n",
        "ax1.set(xlabel='Iteration', ylabel='Residual ||Ax-b||')\n",
        "ax1.plot(iters, residual, '-bo')\n",
        "ax1.set_ylim(ymin=-2)\n",
        "# norm diff ||x-y||\n",
        "norm_diff  = list(map(lambda x_i : np.linalg.norm(x_i - b.T), x.T))\n",
        "ax2.plot(iters, norm_diff, '-ro')\n",
        "ax2.set(xlabel='Iteration', ylabel='Norm of Difference ||x-y||')\n",
        "ax2.set_ylim(ymin=-2)\n",
        "fig.tight_layout()\n",
        "fig.show()"
      ],
      "execution_count": 0,
      "outputs": [
        {
          "output_type": "display_data",
          "data": {
            "image/png": "[encoded data removed]",
            "text/plain": [
              "<Figure size 432x288 with 2 Axes>"
            ]
          },
          "metadata": {
            "tags": []
          }
        }
      ]
    },
    {
      "cell_type": "markdown",
      "metadata": {
        "id": "dEDqeTwEnVPt",
        "colab_type": "text"
      },
      "source": [
        "## **Newton's Method for Scalar Non-Linear Functions**\n",
        "\n",
        "To test and evaluate Newton's method for scalar non-linear functions we use the following two functions,\n",
        "\n",
        "\\begin{align*}\n",
        "f(x) &= e^x - x^2 + x - 3, \\ \\ & f'(x)  =\\ & e^x -2x + 1, \\\\\n",
        "g(x) &= sin(x) + \\sqrt{x} + x^2 -3x-10, \\ \\ & g'(x) =\\ & cos(x) + \\frac{1}{2\\sqrt{x}} + 2x - 3.\n",
        "\\end{align*}\n",
        "Which according to Mathematica has approximate roots,\n",
        "\\begin{align*}\n",
        "f(1.15768094975809) & \\approx 0, \\\\\n",
        "g(4.82377690848214) & \\approx 0.\n",
        "\\end{align*}\n",
        "We solve using our implementation, starting with $f(x)$ and then $g(x)$, below and plot the residual $|f(x)|$ and the difference $|x-y|$ where y is the Mathematica approximated root."
      ]
    },
    {
      "cell_type": "code",
      "metadata": {
        "id": "MDgdkv8BQfEY",
        "colab_type": "code",
        "outputId": "00832b5b-c017-423f-965e-c8a5f5da55bc",
        "colab": {
          "base_uri": "https://localhost:8080/",
          "height": 331
        }
      },
      "source": [
        "def f(x):\n",
        "  # Has root around at 1.1576809497580918379\n",
        "  return np.exp(x) - x*x + x - 3\n",
        "def f_prim(x):\n",
        "  return np.exp(x) - 2*x + 1\n",
        "\n",
        "f_x,k  =newton_scalar(f,f_prim,10, 0.0001)\n",
        "f_root = 1.15768094975809\n",
        "\n",
        "print(\"NEWTONS SCALAR ROOT f(x): \" + str(f_x[k]))\n",
        "print(\"REFERENCE ROOT      f(x): \" + str(f_root))\n",
        "\n",
        "iters = np.linspace(1, k+1, num=k+1)\n",
        "\n",
        "## test |x-y|\n",
        "absdiff = list(map(lambda x_i: abs(x_i - f_root), f_x))\n",
        "\n",
        "## |f(x)| residual\n",
        "residual = list(map(lambda x_i: abs(f(x_i)), f_x))\n",
        "\n",
        "# |f(x)|\n",
        "fig, (ax1, ax2) = plt.subplots(1, 2)\n",
        "ax1.set(xlabel='Iteration', ylabel='Residual |f(x)|')\n",
        "ax1.plot(iters, residual, '-ro')\n",
        "ax1.set_ylim(ymin=-2)\n",
        "# |x-y|\n",
        "ax2.plot(iters, absdiff, '-bo')\n",
        "ax2.set(xlabel='Iteration', ylabel='Absolute Difference |x-y|')\n",
        "ax2.set_ylim(ymin=-2)\n",
        "fig.tight_layout()\n",
        "fig.show()"
      ],
      "execution_count": 0,
      "outputs": [
        {
          "output_type": "stream",
          "text": [
            "NEWTONS SCALAR ROOT f(x): 1.1576809569589128\n",
            "REFERENCE ROOT      f(x): 1.15768094975809\n"
          ],
          "name": "stdout"
        },
        {
          "output_type": "display_data",
          "data": {
            "image/png": "[encoded data removed]",
            "text/plain": [
              "<Figure size 432x288 with 2 Axes>"
            ]
          },
          "metadata": {
            "tags": []
          }
        }
      ]
    },
    {
      "cell_type": "code",
      "metadata": {
        "id": "nEDeiA0vs_ix",
        "colab_type": "code",
        "outputId": "08f67566-ee7e-452c-fa53-0647ef148498",
        "colab": {
          "base_uri": "https://localhost:8080/",
          "height": 331
        }
      },
      "source": [
        "def g(x):\n",
        "  return np.sin(x) + np.sqrt(x) + x*x - 3*x - 10\n",
        "def g_prim(x):\n",
        "  return np.cos(x) + 1 /(2*np.sqrt(x)) + 2*x - 3\n",
        "  \n",
        "g_x,k  =newton_scalar(g,g_prim,10, 0.0001)\n",
        "g_root = 4.82377690848214\n",
        "\n",
        "print(\"NEWTONS SCALAR ROOT g(x): \" + str(g_x[k]))\n",
        "print(\"REFERENCE ROOT      g(x): \" + str(g_root))\n",
        "\n",
        "iters = np.linspace(1, k+1, num=k+1)\n",
        "\n",
        "## test |x-y|\n",
        "absdiff = list(map(lambda x_i: abs(x_i - g_root), g_x))\n",
        "\n",
        "## |f(x)| residual\n",
        "residual = list(map(lambda x_i: abs(g(x_i)), g_x))\n",
        "\n",
        "# |f(x)|\n",
        "fig, (ax1, ax2) = plt.subplots(1, 2)\n",
        "ax1.set(xlabel='Iteration', ylabel='Residual |g(x)|')\n",
        "ax1.plot(iters, residual, '-ro')\n",
        "ax1.set_ylim(ymin=-2)\n",
        "# |x-y|\n",
        "ax2.plot(iters, absdiff, '-bo')\n",
        "ax2.set(xlabel='Iteration', ylabel='Absolute Difference |x-y|')\n",
        "ax2.set_ylim(ymin=-2)\n",
        "fig.tight_layout()\n",
        "fig.show()"
      ],
      "execution_count": 0,
      "outputs": [
        {
          "output_type": "stream",
          "text": [
            "NEWTONS SCALAR ROOT g(x): 4.8237769085369395\n",
            "REFERENCE ROOT      g(x): 4.82377690848214\n"
          ],
          "name": "stdout"
        },
        {
          "output_type": "display_data",
          "data": {
            "image/png": "[encoded data removed]",
            "text/plain": [
              "<Figure size 432x288 with 2 Axes>"
            ]
          },
          "metadata": {
            "tags": []
          }
        }
      ]
    },
    {
      "cell_type": "markdown",
      "metadata": {
        "id": "Gum5oi5Dt0mJ",
        "colab_type": "text"
      },
      "source": [
        "The implementation seem to be correct in both cases."
      ]
    },
    {
      "cell_type": "markdown",
      "metadata": {
        "id": "PQdz5KaitpI1",
        "colab_type": "text"
      },
      "source": [
        "## **Newton's Method for Non-Linear Systems**\n",
        "\n",
        "To test and evaluate Newton's Method for non-linear systems we use the following two systems,\n",
        "$$\n",
        "f(x,y,z,w) = \\begin{cases}\n",
        "-x + xy - 1& =  0, \\\\\n",
        "y + zw  + 1 &= 0, \\\\\n",
        "z + 2& = 0, \\\\\n",
        "w*w - w - 2 &= 0.\n",
        "\\end{cases}\n",
        "$$\n",
        "And,\n",
        "$$\n",
        "g(x,y) = \\begin{cases}\n",
        "x + y + 1 &= 0, \\\\\n",
        "x^2 + y^2 + y &= 0.\n",
        "\\end{cases}\n",
        "$$\n",
        "As our implementation use the analytical Jacobian we derive and get,\n",
        "$$\n",
        "D_f = \\begin{pmatrix}\n",
        "-1 + y & x & 0 & 0 \\\\\n",
        "0 & 1 & w & z \\\\\n",
        "0 &0 & 1& 0 \\\\\n",
        "0 & 0 & 0 & 2w - 1\n",
        "\\end{pmatrix}, \\ D_g = \\begin{pmatrix}\n",
        "1 & 1 \\\\\n",
        "2x & 2y + 1\n",
        "\\end{pmatrix}.\n",
        "$$\n",
        "\n",
        "We start our evaluation with $f$, solving the system using Mathematica gives the two solutions,\n",
        "\\begin{align*}\n",
        "&w = -1, \\ x = -1/4, \\ y = -3, \\ z = -2, \\text{ and} \\\\\n",
        "&w = 2, \\ x = 1/2,\\ y = 3,\\ z = -2.\n",
        "\\end{align*}\n",
        "We solve and plot the residual $\\Vert f(x)\\Vert$ and the norm of the difference $\\Vert x-y\\Vert$ for the solution $y$, however as there are two solutions we must first check which one our implementation finds."
      ]
    },
    {
      "cell_type": "code",
      "metadata": {
        "id": "ILj2tlx2v_Cj",
        "colab_type": "code",
        "outputId": "46e4bc1c-7627-4490-89cb-3d0fff5ba914",
        "colab": {
          "base_uri": "https://localhost:8080/",
          "height": 34
        }
      },
      "source": [
        "\n",
        "def f(x):\n",
        "  res = np.zeros((4,1))\n",
        "  res[0,0] = -x[0] + x[0]*x[1] - 1\n",
        "  res[1,0] = x[1] + x[2]*x[3] + 1\n",
        "  res[2,0] = x[2] + 2\n",
        "  res[3,0] = x[3]*x[3] - x[3] - 2 \n",
        "  return res\n",
        "\n",
        "def D_f(x):\n",
        "  res = np.zeros((4,4))\n",
        "  res[0,0] = x[1] - 1\n",
        "  res[0,1] = x[0]\n",
        "  res[0,2] = 0\n",
        "  res[0,3] = 0\n",
        "  res[1,0] = 0\n",
        "  res[1,1] = 1\n",
        "  res[1,2] = x[3]\n",
        "  res[1,3] = x[2]\n",
        "  res[2,0] = 0\n",
        "  res[2,1] = 0\n",
        "  res[2,2] = 1\n",
        "  res[2,3] = 0\n",
        "  res[3,0] = 0\n",
        "  res[3,1] = 0\n",
        "  res[3,2] = 0\n",
        "  res[3,3] = 2*x[3] - 1\n",
        "  return res\n",
        "\n",
        "x,i = newton_system(f,D_f, np.zeros(4), 0.0001)\n",
        "print(\"Solution f(x) found: \" + str(x[:,i]))"
      ],
      "execution_count": 0,
      "outputs": [
        {
          "output_type": "stream",
          "text": [
            "Solution f(x) found: [-0.24999999 -3.         -2.         -1.        ]\n"
          ],
          "name": "stdout"
        }
      ]
    },
    {
      "cell_type": "markdown",
      "metadata": {
        "id": "DmmXPiC_0wbr",
        "colab_type": "text"
      },
      "source": [
        "The first root stated above is found."
      ]
    },
    {
      "cell_type": "code",
      "metadata": {
        "id": "abK1yWGT02uS",
        "colab_type": "code",
        "outputId": "79684e8e-bf00-463d-c8ec-b32822a71ba7",
        "colab": {
          "base_uri": "https://localhost:8080/",
          "height": 297
        }
      },
      "source": [
        "f_root = np.array([-1/4, -3, -2, -1])\n",
        "f_x, i = newton_system(f,D_f, np.zeros(4), 0.0001)\n",
        "iters = np.linspace(1,i+1, num =i+1)\n",
        "\n",
        "#residual ||f(x)||\n",
        "residual = list(map(lambda x_i : np.linalg.norm(f(x_i)), x.T))\n",
        "fig, (ax1, ax2) = plt.subplots(1, 2)\n",
        "ax1.set(xlabel='Iteration', ylabel='Residual ||f(x)||')\n",
        "ax1.plot(iters, residual, '-bo')\n",
        "ax1.set_ylim(ymin=-2)\n",
        "# norm diff ||x-y||\n",
        "norm_diff  = list(map(lambda x_i : np.linalg.norm(x_i - f_root), x.T))\n",
        "ax2.plot(iters, norm_diff, '-ro')\n",
        "ax2.set(xlabel='Iteration', ylabel='Norm of Difference ||x-y||')\n",
        "ax2.set_ylim(ymin=-2)\n",
        "fig.tight_layout()\n",
        "fig.show()\n"
      ],
      "execution_count": 0,
      "outputs": [
        {
          "output_type": "display_data",
          "data": {
            "image/png": "[encoded data removed]",
            "text/plain": [
              "<Figure size 432x288 with 2 Axes>"
            ]
          },
          "metadata": {
            "tags": []
          }
        }
      ]
    },
    {
      "cell_type": "markdown",
      "metadata": {
        "id": "DCVc6xZ_1xi0",
        "colab_type": "text"
      },
      "source": [
        "We continue with the second system $g$, solving using Mathematica gives two solutions,\n",
        "$$\n",
        "x =-\\frac{1}{2},\\ y = -\\frac{1}{2}, \\text{ and }, x = 0, y = -1.\n",
        "$$\n",
        "Solving with our implementation gives us,"
      ]
    },
    {
      "cell_type": "code",
      "metadata": {
        "id": "a9ObmESF1xs0",
        "colab_type": "code",
        "outputId": "032b573d-9ec9-47a7-a6c1-e7f7bc070d1c",
        "colab": {
          "base_uri": "https://localhost:8080/",
          "height": 34
        }
      },
      "source": [
        "def g(x):\n",
        "  res = np.zeros((2,1))\n",
        "  res[0,0] = x[0]+ x[1] + 1\n",
        "  res[1,0] = x[0]*x[0] + x[1]*x[1] + x[1]\n",
        "  return res\n",
        "\n",
        "def D_g(x):\n",
        "  res = np.zeros((2,2))\n",
        "  res[0,0] = 1\n",
        "  res[0,1] = 1\n",
        "  res[1,0] = 2*x[0]\n",
        "  res[1,1] = 2*x[1] + 1\n",
        "  return res\n",
        "\n",
        "x,i = newton_system(g,D_g, np.zeros(2), 0.0001)\n",
        "print(\"Solution g(x) found: \" + str(x[:,i]))"
      ],
      "execution_count": 0,
      "outputs": [
        {
          "output_type": "stream",
          "text": [
            "Solution g(x) found: [-0.50000763 -0.49999237]\n"
          ],
          "name": "stdout"
        }
      ]
    },
    {
      "cell_type": "markdown",
      "metadata": {
        "id": "5XgmU_KE2lSf",
        "colab_type": "text"
      },
      "source": [
        "I.e. the first solution give above."
      ]
    },
    {
      "cell_type": "code",
      "metadata": {
        "id": "A8SRSBwD2s5o",
        "colab_type": "code",
        "outputId": "59bf3cfe-3823-4b8b-fbd3-e9edb36d1575",
        "colab": {
          "base_uri": "https://localhost:8080/",
          "height": 297
        }
      },
      "source": [
        "g_root = np.array([-1/2, -1/2])\n",
        "g_x, i = newton_system(g,D_g, np.zeros(2), 0.0001)\n",
        "iters = np.linspace(1,i+1, num =i+1)\n",
        "\n",
        "#residual ||g(x)||\n",
        "residual = list(map(lambda x_i : np.linalg.norm(g(x_i)), x.T))\n",
        "fig, (ax1, ax2) = plt.subplots(1, 2)\n",
        "ax1.set(xlabel='Iteration', ylabel='Residual ||g(x)||')\n",
        "ax1.plot(iters, residual, '-bo')\n",
        "ax1.set_ylim(ymin=-2)\n",
        "# norm diff ||x-y||\n",
        "norm_diff  = list(map(lambda x_i : np.linalg.norm(x_i - g_root), x.T))\n",
        "ax2.plot(iters, norm_diff, '-ro')\n",
        "ax2.set(xlabel='Iteration', ylabel='Norm of Difference ||x-y||')\n",
        "ax2.set_ylim(ymin=-2)\n",
        "fig.tight_layout()\n",
        "fig.show()"
      ],
      "execution_count": 0,
      "outputs": [
        {
          "output_type": "display_data",
          "data": {
            "image/png": "[encoded data removed]",
            "text/plain": [
              "<Figure size 432x288 with 2 Axes>"
            ]
          },
          "metadata": {
            "tags": []
          }
        }
      ]
    },
    {
      "cell_type": "markdown",
      "metadata": {
        "id": "q3anR2Px28Pc",
        "colab_type": "text"
      },
      "source": [
        "Our implementation appear to be working well for both systems."
      ]
    },
    {
      "cell_type": "markdown",
      "metadata": {
        "id": "_4GLBv0zWr7m",
        "colab_type": "text"
      },
      "source": [
        "# **Discussion**"
      ]
    },
    {
      "cell_type": "markdown",
      "metadata": {
        "id": "6bcsDSoRXHZe",
        "colab_type": "text"
      },
      "source": [
        "All implemented algortihms appear to be working as expected.\n",
        "\n",
        "### Jacobi Iteration and Gauss-Seidel Iteration\n",
        "From the given system both the implementations appear to be working very well, both the residual and norm of the error decreases each iteration, and very quickly at that. However the system is very small.\n",
        "\n",
        "For the randomized system of $100$ variables the residual quickly approaches 0, while the norm of the iteration error does not decrease. This is likely due to using np.linalg.solve as the \"exact\" solution, since it may not be any more precise than our.\n",
        "\n",
        "The biggest difference between the two methods is the convergence speed with Gauss-Seidel requiring less then half the iterations of the Jacobi method for both systems, however the two $100$ variable systems was different for the two tests.\n",
        "\n",
        "### Newton's Method for Scalar Non-Linear Functions\n",
        "For both evaluated functions Newton's method the normed difference and the residual converges to zero very fast. Likely due to the quadratic convergence rate of Newton's method.\n",
        "\n",
        "### Newton's Method for Non-Linear Systems\n",
        "We see that Newton's method converges to zero fast for both systems. However the systems are quite simple as we encountered some problems when constructing example systems. The method requires the evaluated Jacobian to be non-singular each iteration, and as the system complexity grows the easier it appears to be to encounter an iteration where the Jacobian is singular.\n"
      ]
    }
  ]
}