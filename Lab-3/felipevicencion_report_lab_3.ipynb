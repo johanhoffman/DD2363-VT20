{
  "nbformat": 4,
  "nbformat_minor": 0,
  "metadata": {
    "colab": {
      "name": "felipevicencion-report-lab-3.ipynb",
      "provenance": [],
      "collapsed_sections": []
    },
    "kernelspec": {
      "name": "python3",
      "display_name": "Python 3"
    }
  },
  "cells": [
    {
      "cell_type": "markdown",
      "metadata": {
        "id": "Ne205wrhj1m3",
        "colab_type": "text"
      },
      "source": [
        "# **Lab 3: Iterative Methods**\n",
        "**Felipe Vicencio**"
      ]
    },
    {
      "cell_type": "markdown",
      "metadata": {
        "id": "HOAn9nlrkAQ3",
        "colab_type": "text"
      },
      "source": [
        "# **Abstract**\n",
        "This report contains functions for linear equations and a root finding method."
      ]
    },
    {
      "cell_type": "markdown",
      "metadata": {
        "id": "hMkbEm2RkhEL",
        "colab_type": "text"
      },
      "source": [
        "# **About the code**"
      ]
    },
    {
      "cell_type": "code",
      "metadata": {
        "id": "RmtaQ4qwkwI2",
        "colab_type": "code",
        "outputId": "06d6c5a3-8f46-4fe3-b342-30b94638dc24",
        "colab": {
          "base_uri": "https://localhost:8080/",
          "height": 34
        }
      },
      "source": [
        "\"\"\"DD2363 Methods in Scientific Computing, \"\"\"\n",
        "\"\"\"KTH Royal Institute of Technology, Stockholm, Sweden.\"\"\"\n",
        "\n",
        "# Author: Felipe Vicencio Neumann\n",
        "# Date: 19-1-2020\n",
        "\n",
        "# Based on a template by Johan Hoffman:\n",
        "# Copyright (C) 2019 Johan Hoffman (jhoffman@kth.se)\n",
        "\n",
        "# This file is part of the course DD2363 Methods in Scientific Computing\n",
        "# KTH Royal Institute of Technology, Stockholm, Sweden\n",
        "#\n",
        "# This is free software: you can redistribute it and/or modify\n",
        "# it under the terms of the GNU Lesser General Public License as published by\n",
        "# the Free Software Foundation, either version 3 of the License, or\n",
        "# (at your option) any later version."
      ],
      "execution_count": 222,
      "outputs": [
        {
          "output_type": "execute_result",
          "data": {
            "text/plain": [
              "'KTH Royal Institute of Technology, Stockholm, Sweden.'"
            ]
          },
          "metadata": {
            "tags": []
          },
          "execution_count": 222
        }
      ]
    },
    {
      "cell_type": "markdown",
      "metadata": {
        "id": "gbnjTZlUlTUZ",
        "colab_type": "text"
      },
      "source": [
        "# **Set up environment**"
      ]
    },
    {
      "cell_type": "code",
      "metadata": {
        "id": "xG5BzSUnlaqT",
        "colab_type": "code",
        "colab": {}
      },
      "source": [
        "from google.colab import files\n",
        "import numpy as np\n",
        "import math"
      ],
      "execution_count": 0,
      "outputs": []
    },
    {
      "cell_type": "markdown",
      "metadata": {
        "id": "mmD2p7WAmEVx",
        "colab_type": "text"
      },
      "source": [
        "# **Introduction**\n",
        "\n",
        "In this lab 3 methods were implemented in python: the Jacobi method, the Gauss-Seidel method, and the Newton method."
      ]
    },
    {
      "cell_type": "markdown",
      "metadata": {
        "id": "1eGnlxHonPdm",
        "colab_type": "text"
      },
      "source": [
        "# **Methods**"
      ]
    },
    {
      "cell_type": "markdown",
      "metadata": {
        "id": "cRX_yuzBoKfY",
        "colab_type": "text"
      },
      "source": [
        "## Jacobi Method:\n",
        "The Jacobi method is a method of solving a matrix equation on a matrix that has no zeros along its main diagonal. Each diagonal element is solved for, and an approximate value plugged in. The process is then iterated until it converges (1).\\\n",
        "Each value for the next iteration is calculated the following way:\\\n",
        "$x_i^{k+1} = \\frac{b_i - \\sum_{j \\neq i} a_{ij}x_j^k}{a_{ii}}$\\\n",
        "$\\forall  0 \\leq i \\leq n$\n"
      ]
    },
    {
      "cell_type": "code",
      "metadata": {
        "id": "DHpBdJgGntrJ",
        "colab_type": "code",
        "colab": {}
      },
      "source": [
        "def prep_x(m, b):\n",
        "\tif m.shape[0] != b.shape[0]:\n",
        "\t\tprint(\"Invalid equation\")\n",
        "\t\treturn\n",
        "\telse:\n",
        "\t\tx = np.zeros(m.shape[1])\n",
        "\t\treturn x\n",
        "\n",
        "def jacobi(m, b, x):\n",
        "\tnew_x = x.copy()\n",
        "\tfor i in range(x.size):\n",
        "\t\ts = m[i]@x - m[i, i]*x[i]\n",
        "\t\tnew_x[i] = (b[i] - s)/m[i, i]\n",
        "\treturn new_x\n",
        "\n",
        "def getJacobi(m, b):\n",
        "\tx = prep_x(m, b)\n",
        "\tfor i in range(15000):\t\n",
        "\t\tx = jacobi(m, b, x)\n",
        "\treturn x\n",
        "\n"
      ],
      "execution_count": 0,
      "outputs": []
    },
    {
      "cell_type": "markdown",
      "metadata": {
        "id": "lvx9O5CUo8v4",
        "colab_type": "text"
      },
      "source": [
        "## Gauss-Seidel Method:\n",
        "The Gauss–Seidel method is very similar to teh Jacobi method, with the only real difference being that the Gauss sidel method uses elements of $x^{k+1}$ while is computing $x^{k+1}$.\\\n",
        "The values for each iteration ar calculated in the following way:\\\n",
        "$x_i^{k+1} = \\frac{b_i - \\sum_{j=i}^{i-1} a_{ij}x_j^{k+1} - \\sum_{j=i+1}^n a_{ij}x_j^k}{a_{ii}}$\\\n",
        "$\\forall  0 \\leq i \\leq n$\n",
        "\n"
      ]
    },
    {
      "cell_type": "code",
      "metadata": {
        "id": "emIDLoJ1tClr",
        "colab_type": "code",
        "colab": {}
      },
      "source": [
        "def gauss(m, b, x):\n",
        "\tnew_x = x.copy()\n",
        "\tfor i in range(x.size):\n",
        "\t\ts1 = np.dot(m[i, :i], x[:i])\n",
        "\t\ts2 = np.dot(m[i, i + 1:], x[i + 1:])\n",
        "\t\tnew_x[i] = (b[i] - s1 - s2)/m[i, i]\n",
        "\treturn new_x\n",
        "\n",
        "def getGauss(m, b):\n",
        "\tx = prep_x(m, b)\n",
        "\tfor i in range(15000):\t\n",
        "\t\tx = gauss(m, b, x)\n",
        "\treturn x"
      ],
      "execution_count": 0,
      "outputs": []
    },
    {
      "cell_type": "markdown",
      "metadata": {
        "id": "LfmLD9LYtj1I",
        "colab_type": "text"
      },
      "source": [
        "## Newton Method:\n",
        "  The Newton method is an root finding iterative method defined as:\\\n",
        "  $x_{n+1} = x_n - \\frac{f(x_n)}{f'(x_n)}$\\\n",
        "  df is the derivative of function f in this code.\n"
      ]
    },
    {
      "cell_type": "code",
      "metadata": {
        "id": "a-2JE3r-xDFL",
        "colab_type": "code",
        "colab": {}
      },
      "source": [
        "def newton(f, df):\n",
        "\tx = 2.0\n",
        "\tfor i in range(15000):\n",
        "\t\tx = x - f(x)/df(x)\n",
        "\treturn x"
      ],
      "execution_count": 0,
      "outputs": []
    },
    {
      "cell_type": "markdown",
      "metadata": {
        "id": "fErb3m4cyrSh",
        "colab_type": "text"
      },
      "source": [
        "# **Results**\n"
      ]
    },
    {
      "cell_type": "markdown",
      "metadata": {
        "id": "24zGNtVc85kY",
        "colab_type": "text"
      },
      "source": [
        "### Jacobi Method and Gauss-Seidel Method\n",
        "Testing if ||x-y|| is close to 0.\\\n",
        "Y is the exact value, which we get by using np.solve() thanks to numpy.\n"
      ]
    },
    {
      "cell_type": "code",
      "metadata": {
        "id": "vK2NUO7s0TS9",
        "colab_type": "code",
        "colab": {}
      },
      "source": [
        "b = np.array([11,13])\n",
        "m = np.array([[2,1], [5,7]])\n",
        "x1, x2, y = getJacobi(m, b), getGauss(m, b), np.linalg.solve(m, b)\n",
        "assert(abs(np.linalg.norm(x1-y)) < 10**(-6))\n",
        "assert(abs(np.linalg.norm(x2-y)) < 10**(-6))\n",
        "\n",
        "b = np.array([1,2,3])\n",
        "m = np.array([[5,1,2],[1,4,1],[2,2,5]])\n",
        "x1, x2, y = getJacobi(m, b), getGauss(m, b), np.linalg.solve(m, b)\n",
        "assert(abs(np.linalg.norm(x1-y)) < 10**(-6))\n",
        "assert(abs(np.linalg.norm(x2-y)) < 10**(-6))\n",
        "\n",
        "b = np.array([3,9,-6])\n",
        "m = np.array([[4,-1,-1],[-2,6,1],[-1,1,7]])\n",
        "x1, x2, y = getJacobi(m, b), getGauss(m, b), np.linalg.solve(m, b)\n",
        "assert(abs(np.linalg.norm(x1-y)) < 10**(-6))\n",
        "assert(abs(np.linalg.norm(x2-y)) < 10**(-6))\n",
        "\n",
        "b = np.array([-1,2,3])\n",
        "m = np.array([[5,-2,3],[-3,9,1],[2,-1,-7]])\n",
        "x1, x2, y = getJacobi(m, b), getGauss(m, b), np.linalg.solve(m, b)\n",
        "assert(abs(np.linalg.norm(x1-y)) < 10**(-6))\n",
        "assert(abs(np.linalg.norm(x2-y)) < 10**(-6))\n",
        "\n",
        "b = np.array([29,31,26,19])\n",
        "m = np.array([[5,2,1,1],[2,6,2,1],[1,2,7,1],[1,1,2,8]])\n",
        "x1, x2, y = getJacobi(m, b), getGauss(m, b), np.linalg.solve(m, b)\n",
        "assert(abs(np.linalg.norm(x1-y)) < 10**(-6))\n",
        "assert(abs(np.linalg.norm(x2-y)) < 10**(-6))\n",
        "\n",
        "\n",
        "  "
      ],
      "execution_count": 0,
      "outputs": []
    },
    {
      "cell_type": "markdown",
      "metadata": {
        "id": "L5K-v8cnEqYX",
        "colab_type": "text"
      },
      "source": [
        "### Newton Method\n",
        "Testing if |x-y| is close to 0.\\\n",
        "Y is the exact value.\n"
      ]
    },
    {
      "cell_type": "code",
      "metadata": {
        "id": "l_CmmgRuEvpf",
        "colab_type": "code",
        "colab": {}
      },
      "source": [
        "def f(x):\n",
        "  return x**2 - 9.0\n",
        "\n",
        "def df(x):\n",
        "  return 2*x\n",
        "\n",
        "assert(abs(3.0 - newton(f, df)) < 10**(-6))\n",
        "\n",
        "\n",
        "def f(x):\n",
        "  return math.sin(x)\n",
        "\n",
        "def df(x):\n",
        "  return math.cos(x)\n",
        "\n",
        "assert(abs(math.pi - newton(f, df)) < 10**(-6))\n",
        "\n",
        "\n",
        "def f(x):\n",
        "  return math.cos(x) - x\n",
        "\n",
        "def df(x):\n",
        "  return -math.sin(x) - 1\n",
        "\n",
        "assert(abs(0.739085 - newton(f, df)) < 10**(-6))"
      ],
      "execution_count": 0,
      "outputs": []
    },
    {
      "cell_type": "markdown",
      "metadata": {
        "id": "nof5gy0n2Hk_",
        "colab_type": "text"
      },
      "source": [
        "# Discussion\n",
        "Most of the information was studied from wikipedia and mathworld.wolfram.com\\\n",
        "The test show that all methods work as expected, getting results very close to the exact value.\\\n",
        "Some parts of this report were made in collaboration with Fabián Levican and Pablo Aravena."
      ]
    }
  ]
}