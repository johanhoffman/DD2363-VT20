{
 "cells": [
  {
   "cell_type": "markdown",
   "source": [
    "[<img src=\"https://colab.research.google.com/assets/colab-badge.svg\">](https://colab.research.google.com/github/johanhoffman/DD2363-VT20/blob/tree/viktorme/Lab-3/lab3_iterativemethods.ipynb)\n",
    "# Lab 3: Iterative methods #\n",
    "**Viktor Meyer - DD2363 Methods in Scientific Computing**"
   ],
   "metadata": {
    "collapsed": false
   }
  },
  {
   "cell_type": "markdown",
   "source": [
    "# **Abstract**\n",
    "This lab is an exercise in iterative methods. The mandatory part includes Jacobi iteration, Gauss-Seidel iteration, Newton's method for scalar nonlinear equation f(x)=0. There is also an extra assignment GMRES method or Newton's method for vector nonlinear equation f(x)=0."
   ],
   "metadata": {
    "collapsed": false
   }
  },
  {
   "cell_type": "markdown",
   "source": [
    "# **Environment**\n",
    "To have access to the neccessary modules you have to run this cell."
   ],
   "metadata": {
    "collapsed": false
   }
  },
  {
   "cell_type": "code",
   "execution_count": 1,
   "outputs": [],
   "source": [
    "# Load neccessary modules.\n",
    "#from google.colab import files\n",
    "\n",
    "import time\n",
    "import numpy as np\n",
    "from scipy import optimize\n",
    "from scipy.misc import derivative\n",
    "\n",
    "from matplotlib import pyplot as plt\n",
    "from matplotlib import tri\n",
    "from matplotlib import axes"
   ],
   "metadata": {
    "collapsed": false,
    "pycharm": {
     "name": "#%%\n",
     "is_executing": false
    }
   }
  },
  {
   "cell_type": "markdown",
   "source": [
    "# **Introduction**\n",
    "The methods to be implemented were covered in the during lectures and definitions are available in the lecture notes. The aim of this lab is to approach the problem of solving systems of linear equations using iterative methods. The iterative methods are generally fast with a low memory footprint while generally yielding acceptable approximate solutions to large systems.  \n",
    "> LN-DD2363-part4.pdf, p. 127"
   ],
   "metadata": {
    "collapsed": false
   }
  },
  {
   "cell_type": "markdown",
   "source": [
    "# **Methods**"
   ],
   "metadata": {
    "collapsed": false
   }
  },
  {
   "cell_type": "markdown",
   "source": [
    "### Jacobi iteration, Ax=b ###\n",
    "\n",
    "Jacobi iteration is a fixed point iteration method using matrix splitting. The method typically starts with an initial guess where all components of x are zero. In each iteration, the method updates x with new changes that aim to closer approximate a correct solution.\n",
    "> LN-DD2363-part4.pdf, pp. 130-133\n",
    "> https://www.maa.org/press/periodicals/loci/joma/iterative-methods-for-solving-iaxi-ibi-jacobis-method"
   ],
   "metadata": {
    "collapsed": false
   }
  },
  {
   "cell_type": "code",
   "execution_count": 2,
   "outputs": [],
   "source": [
    "def jacobi(A, b, iterations = 1000):\n",
    "    \n",
    "    #Diagonal from A, apply reciprocal, this is equal to (D-1)\n",
    "    di = np.diag(np.array(np.reciprocal(A.diagonal().copy().astype(float))).ravel())\n",
    "    \n",
    "    #Clear the diagonal we extracted from A, this is equal to (L+U)\n",
    "    np.fill_diagonal(A, 0)\n",
    "    \n",
    "    #Invert each element in A\n",
    "    A *= -1\n",
    "    \n",
    "    solution = np.matrix(np.zeros(b.shape))\n",
    "    for i in range(iterations):\n",
    "        solution = di*(A*solution+b)\n",
    "    \n",
    "    return solution"
   ],
   "metadata": {
    "collapsed": false,
    "pycharm": {
     "name": "#%%\n",
     "is_executing": false
    }
   }
  },
  {
   "cell_type": "markdown",
   "source": [
    "### Gauss-Seidel iteration, Ax=b ###\n",
    "Gauss-Seidel iteration shares a lot in common with Jacobi iteration, the main difference is in how changes to x are made. Recall that Jacobi iteration only applies updates to all components of x AFTER each iteration. Gauss-Sediel improves upon this by updating each component of x AS SOON AS POSSIBLE, likely leading to faster convergence rates.\n",
    "> LN-DD2363-part4.pdf, pp. 130-133\n",
    "> https://www.maa.org/press/periodicals/loci/joma/iterative-methods-for-solving-iaxi-ibi-gauss-seidel-method"
   ],
   "metadata": {
    "collapsed": false
   }
  },
  {
   "cell_type": "code",
   "execution_count": 3,
   "outputs": [],
   "source": [
    "def gaussseidel(A, b, iterations = 1000):\n",
    "    \n",
    "    LD = np.tril(A) \n",
    "    \n",
    "    U = A-LD\n",
    "\n",
    "    x = np.matrix(np.zeros(b.shape))\n",
    "    for i in range(iterations):\n",
    "        x = np.linalg.inv(LD)*(-1*U*x+b)\n",
    "    \n",
    "    return x"
   ],
   "metadata": {
    "collapsed": false,
    "pycharm": {
     "name": "#%%\n",
     "is_executing": false
    }
   }
  },
  {
   "cell_type": "markdown",
   "source": [
    "### Newton's method for scalar nonlinear equations, f(x)=0###\n",
    "\n",
    "Newton's method is an approach to solving nonlinear scalar equations. The general idea is to use an initial guess and progressively improve over time. Improvements are made by using the derivative as guide in each iteration.\n",
    "\n",
    "> LN-DD2363-part4.pdf, pp. 147-149"
   ],
   "metadata": {
    "collapsed": false,
    "pycharm": {
     "name": "#%% md\n"
    }
   }
  },
  {
   "cell_type": "code",
   "execution_count": 4,
   "outputs": [],
   "source": [
    "def newtonsmethod(f, x0, iterations):\n",
    "    x = x0\n",
    "    for i in range(iterations):\n",
    "        df = derivative(f, x)\n",
    "        x -= (f(x)/df) \n",
    "    return x"
   ],
   "metadata": {
    "collapsed": false,
    "pycharm": {
     "name": "#%%\n",
     "is_executing": false
    }
   }
  },
  {
   "cell_type": "markdown",
   "source": [
    "# **Results**"
   ],
   "metadata": {
    "collapsed": false
   }
  },
  {
   "cell_type": "markdown",
   "source": [
    "### Jacobi iteration, Ax=b ###\n",
    "\n",
    "Below are tests for Jacobi iteration. Input A and b are given such that there exists an exact solution y for x under the condition of Ax=b. This means that the test explores convergence ||Ax-b|| and the approximation error ||x-y|| at the same time."
   ],
   "metadata": {
    "collapsed": false
   }
  },
  {
   "cell_type": "code",
   "execution_count": 5,
   "outputs": [
    {
     "name": "stdout",
     "text": [
      "Using:\n",
      "A=\n",
      "[[ 4 -1 -1]\n",
      " [-2  6  1]\n",
      " [-1  1  7]]\n",
      "b=\n",
      "[[ 3]\n",
      " [ 9]\n",
      " [-6]]\n",
      "Converged in 18:\n",
      "x=\n",
      "[[ 0.99999999]\n",
      " [ 2.00000001]\n",
      " [-0.99999999]]\n",
      "|error|=\n",
      "9.877244466771629e-09\n"
     ],
     "output_type": "stream"
    },
    {
     "data": {
      "text/plain": "<Figure size 432x288 with 1 Axes>",
      "image/png": "[encoded data removed]"
     },
     "metadata": {
      "needs_background": "light"
     },
     "output_type": "display_data"
    }
   ],
   "source": [
    "def jacobi_plot():\n",
    "    \n",
    "  iterations = np.array([])\n",
    "  errors = np.array([])\n",
    "  \n",
    "  A = np.matrix(\"4 -1 -1; -2 6 1; -1 1 7\")\n",
    "  b = np.matrix(\"3; 9; -6\")\n",
    "  trueresult = np.linalg.solve(A, b)\n",
    "\n",
    "  for n in range(32):\n",
    "      \n",
    "    result = jacobi(A.copy(), b, n)\n",
    "    \n",
    "    error = np.abs(np.sum(result-trueresult))\n",
    "    \n",
    "    iterations = np.append(iterations, n)\n",
    "    errors = np.append(errors, error)\n",
    "      \n",
    "    if np.isclose(error, 0):\n",
    "        print(\"Using:\")\n",
    "        print(f\"A=\\n{A}\")\n",
    "        print(f\"b=\\n{b}\")\n",
    "        print(f\"Converged in {n}:\")\n",
    "        print(f\"x=\\n{result}\")\n",
    "        print(f\"|error|=\\n{error}\")\n",
    "        break\n",
    "\n",
    "  plt.figure()\n",
    "  plt.xlabel('Iterations')\n",
    "  plt.ylabel('Error')\n",
    "  plt.plot(iterations, errors, 'o-')\n",
    "\n",
    "jacobi_plot()"
   ],
   "metadata": {
    "collapsed": false,
    "pycharm": {
     "name": "#%%\n",
     "is_executing": false
    }
   }
  },
  {
   "cell_type": "markdown",
   "source": [
    "We find that Jacobi iteration yields an approximate solution in 18 iterations where the solution is very close to zero."
   ],
   "metadata": {
    "collapsed": false,
    "pycharm": {
     "name": "#%% md\n"
    }
   }
  },
  {
   "cell_type": "markdown",
   "source": [
    "### Gauss-Seidel iteration, Ax=b ###\n",
    "\n",
    "Below are tests for Gauss-Seidel iteration. Input A and b are given such that there exists an exact solution y for x under the condition of Ax=b. This means that the test explores convergence ||Ax-b|| and the approximation error ||x-y|| at the same time."
   ],
   "metadata": {
    "collapsed": false
   }
  },
  {
   "cell_type": "code",
   "execution_count": 6,
   "outputs": [
    {
     "name": "stdout",
     "text": [
      "Using:\n",
      "A=\n",
      "[[ 4 -1 -1]\n",
      " [-2  6  1]\n",
      " [-1  1  7]]\n",
      "b=\n",
      "[[ 3]\n",
      " [ 9]\n",
      " [-6]]\n",
      "Converged in 9:\n",
      "x=\n",
      "[[ 1.]\n",
      " [ 2.]\n",
      " [-1.]]\n",
      "|error|=\n",
      "1.8414112457065812e-09\n"
     ],
     "output_type": "stream"
    },
    {
     "data": {
      "text/plain": "<Figure size 432x288 with 1 Axes>",
      "image/png": "[encoded data removed]"
     },
     "metadata": {
      "needs_background": "light"
     },
     "output_type": "display_data"
    }
   ],
   "source": [
    "def gaussseidel_plot():\n",
    "    \n",
    "  iterations = np.array([])\n",
    "  errors = np.array([])\n",
    "  \n",
    "  A = np.matrix(\"4 -1 -1; -2 6 1; -1 1 7\")\n",
    "  b = np.matrix(\"3; 9; -6\")\n",
    "  trueresult = np.linalg.solve(A, b)\n",
    "\n",
    "  for n in range(32):\n",
    "      \n",
    "    result = gaussseidel(A.copy(), b, n)\n",
    "    \n",
    "    error = np.abs(np.sum(result-trueresult))\n",
    "    \n",
    "    iterations = np.append(iterations, n)\n",
    "    errors = np.append(errors, error)\n",
    "      \n",
    "    if np.isclose(error, 0):\n",
    "        print(\"Using:\")\n",
    "        print(f\"A=\\n{A}\")\n",
    "        print(f\"b=\\n{b}\")\n",
    "        print(f\"Converged in {n}:\")\n",
    "        print(f\"x=\\n{result}\")\n",
    "        print(f\"|error|=\\n{error}\")\n",
    "        break\n",
    "\n",
    "  plt.figure()\n",
    "  plt.xlabel('Iterations')\n",
    "  plt.ylabel('Error')\n",
    "  plt.plot(iterations, errors, 'o-')\n",
    "\n",
    "gaussseidel_plot()"
   ],
   "metadata": {
    "collapsed": false,
    "pycharm": {
     "name": "#%%\n",
     "is_executing": false
    }
   }
  },
  {
   "cell_type": "markdown",
   "source": [
    "We find that Gauss-Seidel iteration yields an approximate solution in 18 iterations where the solution is very close to zero. It is important to note the improvement in convergence speed, compared to the Jacobi iteration method, Gauss-Seidel is twice as fast!"
   ],
   "metadata": {
    "collapsed": false,
    "pycharm": {
     "name": "#%% md\n"
    }
   }
  },
  {
   "cell_type": "markdown",
   "source": [
    "### Newton's method, f(x)=0 ###\n",
    "\n",
    "Below are tests for Newton's method. Input function f(x) is specified such that there exists an exact solution y for f(x)=0. This means that the test explores convergence ||f(x)|| and the approximation error ||x-y|| at the same time."
   ],
   "metadata": {
    "collapsed": false
   }
  },
  {
   "cell_type": "code",
   "execution_count": 7,
   "outputs": [
    {
     "name": "stdout",
     "text": [
      "Using:\n",
      "fn=\n",
      "lambda\n",
      "Converged in 12:\n",
      "x=\n",
      "-2.0000000062094836\n",
      "|error|=\n",
      "6.2094835939774384e-09\n"
     ],
     "output_type": "stream"
    },
    {
     "data": {
      "text/plain": "<Figure size 432x288 with 1 Axes>",
      "image/png": "[encoded data removed]"
     },
     "metadata": {
      "needs_background": "light"
     },
     "output_type": "display_data"
    }
   ],
   "source": [
    "def newtonsmethod_plot():\n",
    "    \n",
    "  iterations = np.array([])\n",
    "  errors = np.array([])\n",
    "\n",
    "  x0 = 0.0\n",
    "  fn = lambda x : x**3+8\n",
    "  trueresult = optimize.root_scalar(fn, bracket=[-10, 10]).root\n",
    "\n",
    "  for n in range(128):\n",
    "      \n",
    "    result = newtonsmethod(fn, x0, n)\n",
    "    \n",
    "    error = np.abs(result-trueresult)\n",
    "    \n",
    "    iterations = np.append(iterations, n)\n",
    "    errors = np.append(errors, error)\n",
    "      \n",
    "    if np.isclose(error, 0):\n",
    "        print(\"Using:\")\n",
    "        print(f\"fn=\\nlambda\")\n",
    "        print(f\"Converged in {n}:\")\n",
    "        print(f\"x=\\n{result}\")\n",
    "        print(f\"|error|=\\n{error}\")\n",
    "        break\n",
    "\n",
    "  plt.figure()\n",
    "  plt.xlabel('Iterations')\n",
    "  plt.ylabel('Error')\n",
    "  plt.plot(iterations, errors, 'o-')\n",
    "\n",
    "newtonsmethod_plot()"
   ],
   "metadata": {
    "collapsed": false,
    "pycharm": {
     "name": "#%%\n",
     "is_executing": false
    }
   }
  },
  {
   "cell_type": "markdown",
   "source": [
    "We find that Newton's method yields an approximate solution in 12 iterations where the solution is very close to zero. It is interesting to see that the approximation error actually increases in the beginning and then rapidly decreases."
   ],
   "metadata": {
    "collapsed": false
   }
  },
  {
   "cell_type": "markdown",
   "source": [
    "# **Discussion**\n",
    "\n",
    "This lab showed that iterative methods can be highly effective in solving equations. They are definitely an alternative to consider in comparison with the direct methods previously explored."
   ],
   "metadata": {
    "collapsed": false
   }
  }
 ],
 "metadata": {
  "kernelspec": {
   "name": "python3",
   "language": "python",
   "display_name": "Python 3"
  },
  "language_info": {
   "codemirror_mode": {
    "name": "ipython",
    "version": 2
   },
   "file_extension": ".py",
   "mimetype": "text/x-python",
   "name": "python",
   "nbconvert_exporter": "python",
   "pygments_lexer": "ipython2",
   "version": "2.7.6"
  },
  "pycharm": {
   "stem_cell": {
    "cell_type": "raw",
    "source": [],
    "metadata": {
     "collapsed": false
    }
   }
  }
 },
 "nbformat": 4,
 "nbformat_minor": 0
}