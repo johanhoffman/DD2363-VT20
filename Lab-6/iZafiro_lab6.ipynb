{
  "nbformat": 4,
  "nbformat_minor": 0,
  "metadata": {
    "colab": {
      "name": "iZafiro_lab6",
      "provenance": []
    },
    "kernelspec": {
      "name": "python3",
      "display_name": "Python 3"
    }
  },
  "cells": [
    {
      "cell_type": "markdown",
      "metadata": {
        "id": "6RgtXlfYO_i7",
        "colab_type": "text"
      },
      "source": [
        "# **Lab 6: Differential equations**\n",
        "**Fabián Levicán**"
      ]
    },
    {
      "cell_type": "markdown",
      "metadata": {
        "id": "9x_J5FVuPzbm",
        "colab_type": "text"
      },
      "source": [
        "# **Abstract**"
      ]
    },
    {
      "cell_type": "markdown",
      "metadata": {
        "id": "6UFTSzW7P8kL",
        "colab_type": "text"
      },
      "source": [
        "This is the sixth lab in the course DD2363 Methods in Scientific Computing. It is about using Jupyter to implement one method to approximate the solution to scalar IVPs and vector IVPs (systems of IVPs). The one we implement here is the explicit Euler method, a simple and well-known time-stepping method. Some objectives may be to become familiar with at least one numerical algorithm for solving simple ODEs, and to understand how this may be used in a variety of contexts and even solving more complicated ODEs or PDEs. The results of this method are then tested in various ways, and they are favorable."
      ]
    },
    {
      "cell_type": "markdown",
      "metadata": {
        "id": "OkT8J7uOWpT3",
        "colab_type": "text"
      },
      "source": [
        "#**About the code**"
      ]
    },
    {
      "cell_type": "code",
      "metadata": {
        "id": "Pdll1Xc9WP0e",
        "colab_type": "code",
        "outputId": "3fdb1a31-d7a9-461c-b85f-ca7cec84e243",
        "colab": {
          "base_uri": "https://localhost:8080/",
          "height": 34
        }
      },
      "source": [
        "\"\"\"This program is a template for lab reports in the course\"\"\"\n",
        "\"\"\"DD2363 Methods in Scientific Computing, \"\"\"\n",
        "\"\"\"KTH Royal Institute of Technology, Stockholm, Sweden.\"\"\"\n",
        "\n",
        "# Copyright (C) 2020 Fabián Levicán (fils2@kth.se)\n",
        "\n",
        "# This file is part of the course DD2363 Methods in Scientific Computing\n",
        "# KTH Royal Institute of Technology, Stockholm, Sweden\n",
        "#\n",
        "# This is free software: you can redistribute it and/or modify\n",
        "# it under the terms of the GNU Lesser General Public License as published by\n",
        "# the Free Software Foundation, either version 3 of the License, or\n",
        "# (at your option) any later version."
      ],
      "execution_count": 1,
      "outputs": [
        {
          "output_type": "execute_result",
          "data": {
            "text/plain": [
              "'KTH Royal Institute of Technology, Stockholm, Sweden.'"
            ]
          },
          "metadata": {
            "tags": []
          },
          "execution_count": 1
        }
      ]
    },
    {
      "cell_type": "markdown",
      "metadata": {
        "id": "28xLGz8JX3Hh",
        "colab_type": "text"
      },
      "source": [
        "# **Set up environment**"
      ]
    },
    {
      "cell_type": "code",
      "metadata": {
        "id": "Xw7VlErAX7NS",
        "colab_type": "code",
        "colab": {}
      },
      "source": [
        "# Load neccessary modules.\n",
        "from google.colab import files\n",
        "\n",
        "import math\n",
        "import matplotlib.pyplot as plt\n",
        "import time\n",
        "import numpy as np"
      ],
      "execution_count": 0,
      "outputs": []
    },
    {
      "cell_type": "markdown",
      "metadata": {
        "id": "gnO3lhAigLev",
        "colab_type": "text"
      },
      "source": [
        "# **Introduction**"
      ]
    },
    {
      "cell_type": "markdown",
      "metadata": {
        "id": "l5zMzgPlRAF6",
        "colab_type": "text"
      },
      "source": [
        "In scientific computing and various other contexts we often encounter IVPs or systems of IVPs. These are problems of the form $\\frac{du}{dt}(t) = f(u(t), t), u(0) = u_0, 0 \\leq t \\leq T$. Here $u$ and $f$ can be maps into $\\mathbb{R}$ (scalar case) or $\\mathbb{R^n}$ (vector case).\n",
        "\n",
        "To approximate the solution to these problems, the explicit Euler method is a time-stepping method that, given a partition $0 = t_0 < \\ldots < t_n < \\ldots < t_N = T$, calculates successive approximations $U_n \\sim u(t_n)$, starting with $U_0 = u(0)$, and then setting $U_n = U_{n - 1} + k_nf(U_{n - 1}, t_{n - 1})$. Here $k_n = t_n - t_{n - 1}$.\n",
        "\n",
        "To understand how perturbations (usually small) to the initial value affect the behavior of the solution for large values of $t$ we can calculate the equilibrium points of the model, which are the points $x^*$ where $f(x^*, t) = 0, \\forall 0 \\leq t \\leq T$.\n",
        "\n",
        "We can derive that in the scalar case the linear model $f = \\lambda u$ displays stability around $x^* = 0$ when the real part of $\\lambda$ is negative, instability when it's positive, and that the solution is constant or oscillatory when $\\lambda$ is purely imaginary.\n",
        "\n",
        "We can also derive that in the vector case the linear model $f = Au$ displays stability around $x^* = 0$ when $A$ is negative definite, instability when there exists an eigenvalue $\\lambda$ of $A$ such that its real part is positive, and that the solution is oscillatory when all the eigenvalues of $A$ are purely imaginary.\n",
        "\n",
        "Non-linear models can be linearized locally in both cases to yield an analogous stability analysis with the derivative or the Jacobian, but there are some caveats in the vector case.\n",
        "\n",
        "The aforementioned derivations and further information can be found in the notes from the relevant lectures."
      ]
    },
    {
      "cell_type": "markdown",
      "metadata": {
        "id": "WeFO9QMeUOAu",
        "colab_type": "text"
      },
      "source": [
        "# **Methods**"
      ]
    },
    {
      "cell_type": "markdown",
      "metadata": {
        "id": "zF4iBj5VURZx",
        "colab_type": "text"
      },
      "source": [
        "The `EETimeStep` method takes as input:\n",
        "\n",
        "* `func`, a function $f(u(t), t)$.\n",
        "* `u0`, an initial value $u_0$.\n",
        "* `N`, a number of sub-intervals such that $T = t_N$.\n",
        "* `T`, a final time.\n",
        "\n",
        "The method outputs a tuple `(U, U[N])` where `U` is a list such that `U[n]` is the approximate solution $U(t)$ evaluated at $t_n$ and `U[N]` is the approximate solution $U(t)$ evaluated at $t_N$.\n",
        "\n",
        "This implementation suffices for the both the scalar and vector cases, as NumPy multiplication allows for `u0` to be a scalar or a vector, and for `func` to be a map that returns a scalar or a vector.\n",
        "\n",
        "Here we also print examples of `U[N]` for both the scalar and vector cases, the correctness of which was verified with *Wolfram Alpha*."
      ]
    },
    {
      "cell_type": "code",
      "metadata": {
        "id": "YMRSB_h6y0_K",
        "colab_type": "code",
        "outputId": "190569d4-4537-4655-de7b-31774a8c0930",
        "colab": {
          "base_uri": "https://localhost:8080/",
          "height": 50
        }
      },
      "source": [
        "def EETimeStep(func, u0, N, T):\n",
        "  k = T/N\n",
        "  U = [u0]\n",
        "  for n in range(N):\n",
        "    U.append(\n",
        "      U[n] + k*func(U[n], n*k)\n",
        "    )\n",
        "  return (U, U[N])\n",
        "\n",
        "# Scalar example\n",
        "# f(u(t), t) = -2u(t) + 3t + 5, f(0) = 1, N = 2500, T = 25\n",
        "print(EETimeStep(lambda u, t: -2*u+3*t+5, 1, 2500, 25)[1])\n",
        "\n",
        "# Vector example\n",
        "# f(u(t), t) = (-2u_1 + 3t + 5, -2u_1, -2u_3 + 15)^T, N = 2500, T = 25\n",
        "print(EETimeStep(lambda u, t: np.array([-2*u[0]+3*t+5, -2*u[0], -2*u[2]+15]), np.array([1, 1, 1]), 2500, 25)[1])\n"
      ],
      "execution_count": 3,
      "outputs": [
        {
          "output_type": "stream",
          "text": [
            "39.25000000000014\n",
            "[   39.25  -1022.875     7.5  ]\n"
          ],
          "name": "stdout"
        }
      ]
    },
    {
      "cell_type": "markdown",
      "metadata": {
        "id": "SsQLT38gVbn_",
        "colab_type": "text"
      },
      "source": [
        "# **Results**"
      ]
    },
    {
      "cell_type": "markdown",
      "metadata": {
        "id": "RLwlnOzuV-Cd",
        "colab_type": "text"
      },
      "source": [
        "For the scalar case I chose the model $\\frac{du}{dt}(t) = -3u(t), u(0) = u_0, 0 \\leq t \\leq 25$. Here $N = 2500$ and $u_0$ is one of $-25, 0, 1, 100$.\n",
        "\n",
        "The exact solutions for these IVPs are $u(t) = u_0e^{-3t}$. The accuracy of my `EETimeStep` method is verified graphically in the four plots, and the stability with respect to this linear model is verified as the approximations $U(t)$ clearly approach $0$ in the four plots (and, thus, for the four distinct initial values $u_0$).\n",
        "\n",
        "The reader may want to remember that this linear model has an unique equilibrium point at $x^* = 0$ that is stable since $-3 = \\lambda < 0$."
      ]
    },
    {
      "cell_type": "code",
      "metadata": {
        "id": "Kd5xlaSsfoAP",
        "colab_type": "code",
        "outputId": "3da89c7e-7f6a-40cb-d598-e9a9885ac3d2",
        "colab": {
          "base_uri": "https://localhost:8080/",
          "height": 1000
        }
      },
      "source": [
        "# Tests for the scalar case\n",
        "\n",
        "# u0 = -25\n",
        "xAxis = [0.01*n for n in range(2501)]\n",
        "yAxisExact = [-25*math.exp(-3*0.01*n) for n in range(2501)]\n",
        "yAxisApprox = EETimeStep(lambda u, t: -3*u, -25, 2500, 25)[0]\n",
        "plt.plot(xAxis, yAxisExact, 'k-')\n",
        "plt.plot(xAxis, yAxisApprox, 'y--')\n",
        "plt.xlabel('t')\n",
        "plt.ylabel('U(t) yellow    u(t) black')\n",
        "plt.title('Scalar IVP du/dt(t) = -3t, u(0) = -25')\n",
        "plt.show()\n",
        "\n",
        "# u0 = 0\n",
        "yAxisExact = [0*math.exp(-3*0.01*n) for n in range(2501)]\n",
        "yAxisApprox = EETimeStep(lambda u, t: -3*u, 0, 2500, 25)[0]\n",
        "plt.plot(xAxis, yAxisExact, 'k-')\n",
        "plt.plot(xAxis, yAxisApprox, 'y--')\n",
        "plt.xlabel('t')\n",
        "plt.ylabel('U(t) yellow    u(t) black')\n",
        "plt.title('Scalar IVP du/dt(t) = -3t, u(0) = 0')\n",
        "plt.show()\n",
        "\n",
        "# u0 = 1\n",
        "yAxisExact = [1*math.exp(-3*0.01*n) for n in range(2501)]\n",
        "yAxisApprox = EETimeStep(lambda u, t: -3*u, 1, 2500, 25)[0]\n",
        "plt.plot(xAxis, yAxisExact, 'k-')\n",
        "plt.plot(xAxis, yAxisApprox, 'y--')\n",
        "plt.xlabel('t')\n",
        "plt.ylabel('U(t) yellow    u(t) black')\n",
        "plt.title('Scalar IVP du/dt(t) = -3t, u(0) = 1')\n",
        "plt.show()\n",
        "\n",
        "# u0 = 100\n",
        "yAxisExact = [100*math.exp(-3*0.01*n) for n in range(2501)]\n",
        "yAxisApprox = EETimeStep(lambda u, t: -3*u, 100, 2500, 25)[0]\n",
        "plt.plot(xAxis, yAxisExact, 'k-')\n",
        "plt.plot(xAxis, yAxisApprox, 'y--')\n",
        "plt.xlabel('t')\n",
        "plt.ylabel('U(t) yellow    u(t) black')\n",
        "plt.title('Scalar IVP du/dt(t) = -3t, u(0) = 100')\n",
        "plt.show()"
      ],
      "execution_count": 4,
      "outputs": [
        {
          "output_type": "display_data",
          "data": {
            "image/png": "[encoded data removed]",
            "text/plain": [
              "<Figure size 432x288 with 1 Axes>"
            ]
          },
          "metadata": {
            "tags": []
          }
        },
        {
          "output_type": "display_data",
          "data": {
            "image/png": "[encoded data removed]",
            "text/plain": [
              "<Figure size 432x288 with 1 Axes>"
            ]
          },
          "metadata": {
            "tags": []
          }
        },
        {
          "output_type": "display_data",
          "data": {
            "image/png": "[encoded data removed]",
            "text/plain": [
              "<Figure size 432x288 with 1 Axes>"
            ]
          },
          "metadata": {
            "tags": []
          }
        },
        {
          "output_type": "display_data",
          "data": {
            "image/png": "[encoded data removed]",
            "text/plain": [
              "<Figure size 432x288 with 1 Axes>"
            ]
          },
          "metadata": {
            "tags": []
          }
        }
      ]
    },
    {
      "cell_type": "markdown",
      "metadata": {
        "id": "_QSt-tHvlAm6",
        "colab_type": "text"
      },
      "source": [
        "For the vector case (the system case) I chose the model $\\frac{du}{dt}(t) = Au := \\left ( \\begin{array}{ccc}\n",
        "-2 & 0 & 1 \\\\\n",
        "0 & -1 & 0 \\\\\n",
        "1 & 0 & -2\n",
        "\\end{array} \\right )u, u(0) = u_0, 0 \\leq t \\leq T$. Here $N = 2500$.\n",
        "\n",
        "For the accuracy tests I chose $u_0 = (2, 2, 2)^T$ and $T = 25$. The exact solution for this value of $u_0$ is $u(t) = \\left ( \\begin{array}{c}\n",
        "e^{-3t}(e^{2t}+1)+e^{-3t}(e^{2t} - 1) \\\\\n",
        "2e^{-t} \\\\\n",
        "e^{-3t}(e^{2t}+1)+e^{-3t}(e^{2t} - 1)\n",
        "\\end{array} \\right )$. The correctness of this exact solution was verified with *Wolfram Alpha*.\n",
        "\n",
        "The accuracy of my `EETimeStep` method is verified by defining `error(t)` at the points $t = t_n$ as $\\|u(t_n) - U(t_n)\\|$, and plotting the graph `error(t) vs. t`. The largest error, which is around $0.0065$, is found at around $t = 2$, and the error is usually very, very small. Thus, the method is accurate."
      ]
    },
    {
      "cell_type": "code",
      "metadata": {
        "id": "gc_C9dS_foWT",
        "colab_type": "code",
        "outputId": "b22875eb-c3bb-4156-ca73-2a309d9a5a0e",
        "colab": {
          "base_uri": "https://localhost:8080/",
          "height": 295
        }
      },
      "source": [
        "# Tests for the vector case\n",
        "\n",
        "# Accuracy\n",
        "\n",
        "exactEval = np.array([[\n",
        "  math.exp(-3*xAxis[n])*(math.exp(2*xAxis[n])+1)+math.exp(-3*xAxis[n])*(math.exp(2*xAxis[n])-1),\n",
        "  2*math.exp(-xAxis[n]),\n",
        "  math.exp(-3*xAxis[n])*(math.exp(2*xAxis[n])+1)+math.exp(-3*xAxis[n])*(math.exp(2*xAxis[n])-1)\n",
        "] for n in range (2501)])\n",
        "approxEval = np.array(EETimeStep(lambda u, t: np.array([-2*u[0]+u[2], -u[1], u[0]-2*u[2]]), np.array([2, 2, 2]), 2500, 25)[0])\n",
        "error = [np.linalg.norm(exactEval[n] - approxEval[n]) for n in range(2501)]\n",
        "plt.plot(xAxis, error)\n",
        "plt.xlabel('t')\n",
        "plt.ylabel('error(t)')\n",
        "plt.title('Vector IVP du/dt(t) = At, u(0) = (2, 2, 2)^T, A def. above')\n",
        "plt.show()"
      ],
      "execution_count": 5,
      "outputs": [
        {
          "output_type": "display_data",
          "data": {
            "image/png": "[encoded data removed]",
            "text/plain": [
              "<Figure size 432x288 with 1 Axes>"
            ]
          },
          "metadata": {
            "tags": []
          }
        }
      ]
    },
    {
      "cell_type": "markdown",
      "metadata": {
        "id": "yIVtc03HnQjY",
        "colab_type": "text"
      },
      "source": [
        "For the stability tests I chose the model above, $u_0$ as one of $(-25, -25, -25)^T, (0, 0, 0)^T, (2, 2, 2)^T, (100, 100, 100)^T$, and $T = 50$ (the latter to better display the behavior of the approximation at larger values of $t$).\n",
        "\n",
        "The stability of my `EETimeStep` method with respect to the model above is verified by asserting that $U(t_N)$ is close to the zero vector for any choice of the initial value $u_0$.\n",
        "\n",
        "The reader may want to remember that this linear model has an unique equilibrium point at $x^* = 0$ that is stable since $A$ is negative definite. Indeed, the eigenvalues of $A$ are $-3, -1$ and $-1$. The correctness of this statement was verified with *Wolfram Alpha*."
      ]
    },
    {
      "cell_type": "code",
      "metadata": {
        "id": "0LUCHihRfong",
        "colab_type": "code",
        "outputId": "e67c816e-1024-4887-95bb-000473905e1f",
        "colab": {
          "base_uri": "https://localhost:8080/",
          "height": 34
        }
      },
      "source": [
        "# Tests for the vector case\n",
        "\n",
        "# Stability\n",
        "\n",
        "assert(\n",
        "  np.linalg.norm(EETimeStep(lambda u, t: np.array([-2*u[0]+u[2], -u[1], u[0]-2*u[2]]), np.array([-25, -25, -25]), 2500, 50)[1]) < 0.0001\n",
        ")\n",
        "assert(\n",
        "  np.linalg.norm(EETimeStep(lambda u, t: np.array([-2*u[0]+u[2], -u[1], u[0]-2*u[2]]), np.array([0, 0, 0]), 2500, 50)[1]) < 0.0001\n",
        ")\n",
        "assert(\n",
        "  np.linalg.norm(EETimeStep(lambda u, t: np.array([-2*u[0]+u[2], -u[1], u[0]-2*u[2]]), np.array([2, 2, 2]), 2500, 50)[1]) < 0.0001\n",
        ")\n",
        "assert(\n",
        "  np.linalg.norm(EETimeStep(lambda u, t: np.array([-2*u[0]+u[2], -u[1], u[0]-2*u[2]]), np.array([100, 100, 100]), 2500, 50)[1]) < 0.0001\n",
        ")\n",
        "print(\"All stability tests pass successfully!\")"
      ],
      "execution_count": 6,
      "outputs": [
        {
          "output_type": "stream",
          "text": [
            "All stability tests pass successfully!\n"
          ],
          "name": "stdout"
        }
      ]
    },
    {
      "cell_type": "markdown",
      "metadata": {
        "id": "_4GLBv0zWr7m",
        "colab_type": "text"
      },
      "source": [
        "# **Discussion**"
      ]
    },
    {
      "cell_type": "markdown",
      "metadata": {
        "id": "6bcsDSoRXHZe",
        "colab_type": "text"
      },
      "source": [
        "All the results were favorable.\n",
        "\n",
        "The author doesn't know why the error at around $t = 2$ is maximal (although it continues to be very small), but he would like to investigate the matter further. He also believes that the `error(t) vs. t` graph resembles that of the density function of some probabilistic distribution.\n",
        "\n",
        "The author found the simplicity and wide applicability of the explicit Euler method very interesting.\n",
        "\n",
        "While writing this report the author collaborated with Felipe Vicencio, and relied heavily on the lecture notes."
      ]
    }
  ]
}