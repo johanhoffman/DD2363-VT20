{
  "nbformat": 4,
  "nbformat_minor": 0,
  "metadata": {
    "colab": {
      "name": "Patrik_Svensson_lab_6_Differentials.ipynb",
      "provenance": [],
      "collapsed_sections": []
    },
    "kernelspec": {
      "name": "python3",
      "display_name": "Python 3"
    }
  },
  "cells": [
    {
      "cell_type": "markdown",
      "metadata": {
        "id": "SzXqQuR0rkSZ",
        "colab_type": "text"
      },
      "source": [
        "https://colab.research.google.com/drive/1fckC4Su4Cqx0rtnOiZgE5yY4SnWsN8DY\n",
        "\n",
        "# **Lab 6 : Differential Equations**\n",
        "**Patrik Svensson**"
      ]
    },
    {
      "cell_type": "markdown",
      "metadata": {
        "id": "3ZYEoltJtjGY",
        "colab_type": "text"
      },
      "source": [
        "# **Abstract**\n",
        "In this lab we have explored the area of differential equations. The result of the lab are implementations of two approximate algorithms that can inital value problems on the form $du/dt = f(u,t)$. The first implementation solves scalar inital value problems, and the second solves system of inital value problems."
      ]
    },
    {
      "cell_type": "markdown",
      "metadata": {
        "id": "4cs_Tl5CtntJ",
        "colab_type": "text"
      },
      "source": [
        "# **Set up environment**\n",
        "To set up the environment, run the two following lines of code."
      ]
    },
    {
      "cell_type": "code",
      "metadata": {
        "id": "9snxAtSVfb1b",
        "colab_type": "code",
        "colab": {}
      },
      "source": [
        "import numpy as np\n",
        "import unittest\n",
        "import scipy.integrate as integrate\n",
        "from scipy.integrate import solve_ivp\n",
        "import random\n",
        "from scipy.misc import derivative\n",
        "import matplotlib.pyplot as plt\n",
        "import math"
      ],
      "execution_count": 0,
      "outputs": []
    },
    {
      "cell_type": "markdown",
      "metadata": {
        "id": "QqLm9OORtrkY",
        "colab_type": "text"
      },
      "source": [
        "# **Introduction**\n",
        "Differential equations has been eversince Newton and Leibniz formalized integration and differentiation been an important role in many fields. Phenomenon in nature science can be modeled with differential equations, like Newton's law of nature, and fluidmechanics. Compared to a regular \"equation\" that we are used to, where we need to find an x that has a value that satisfies the equation. In a differential equation, the x that we are looking for is exchanged with an unknown function that satisfies an equation that commonly contains differentials of the unknown function."
      ]
    },
    {
      "cell_type": "markdown",
      "metadata": {
        "id": "1q0xsxBntx6M",
        "colab_type": "text"
      },
      "source": [
        "# **Methods**\n",
        "In this chapter, I will present how the implementation of the functions was conducted. The study was conducted in the following way.\n",
        "\n",
        "1.   Literature research\n",
        "2.   Implementation\n",
        "3.   Testing\n",
        "\n",
        "In the sections below, I have provided a reference to where the algorithms were founded, or how it was deduced, followed with a code implementation in Python, and lastly unit test for the assurance of the accuracy of the implementations."
      ]
    },
    {
      "cell_type": "markdown",
      "metadata": {
        "id": "JbZShRHWt2QN",
        "colab_type": "text"
      },
      "source": [
        "## Time stepping for scalar initial value problem du/dt = f(u,t)\n",
        "We define an initial value problem as:\n",
        "\n",
        "$u(t) = f(u(t), t)$ where $0 < t \\leq T$\n",
        "\n",
        "$u(0) = u_0$\n",
        "\n",
        "The function $u$ maps the domain $[0,T] \\rightarrow R$. To approximate the initial value problem we use the concept of time steppin, which means that we only calculate $u(t)$ for some points in the interval $[0,T]$, hence we get:\n",
        "\n",
        "$0 = t_0 < t_1 < ... < t_n = T$\n",
        "\n",
        "We can construct an approximation $U(t)$ for any value in the above interval. This can be achived by interpolation on all the subintervals $I_n = [t_{n-1}, t_n]$ of length $k_n = t_n - t_{n-1}$. If we want to calculate the solution at $t_n$ we can use the forward difference approximation of the derivative at datapoint $t_{n-1}$ from which we can derive *Euler method* for succesive approximations of $U_n = U(t_n)$, which is given by the following formula that is given in section 13.2 in the lecture notes.\n",
        "\n",
        "$U_n = U_{n-1} + k_nf(U_{n-1},t_{n-1})$\n",
        "\n",
        "There are two different approaches for solving this problem:\n",
        "\n",
        "1.   Explicit Euler Method\n",
        "2.   Implicit Euler Method\n",
        "3.   Theta method\n",
        "\n",
        "The code is inspired by the pseudo-code 13.1 from the lecture notes. \n",
        "\n"
      ]
    },
    {
      "cell_type": "code",
      "metadata": {
        "id": "kYKu3_7SgYEa",
        "colab_type": "code",
        "colab": {}
      },
      "source": [
        "def explicit_euler_method(T, function, u_init):\n",
        "  number_intervals = 1000000\n",
        "  interval_size = T / number_intervals\n",
        "  t = 0\n",
        "  u = 0\n",
        "  for i in range(number_intervals):\n",
        "    u = u_init + interval_size*function(t, u_init)\n",
        "    u_init = u\n",
        "    t += interval_size\n",
        "  \n",
        "  return u"
      ],
      "execution_count": 0,
      "outputs": []
    },
    {
      "cell_type": "markdown",
      "metadata": {
        "id": "2h_ydMka3I7s",
        "colab_type": "text"
      },
      "source": [
        "I have provided unit test below to verify the accuracy and the stability of the implemented algorithm. The stability can be defined as how small pertubations propagate in time. To decide the stability we have to find the equilibrium points denoted by $u^*$. We can find the equilibrium point by the following formula:\n",
        "\n",
        "$f(u^*, t) = 0$, for $\\forall t \\ge 0$\n",
        "\n",
        "Since our differential equation that we are testing will be on the following template $\\frac{du}{dt} = a*u$, where $a < 0$. Our $f(u^*, t)$ is equal to $a*u$. The only $u$ when $f$ will be equal to zero is when $u=0$, hence $u^*=0$.  \n",
        "\n",
        "Our instance of the problem can be described the following way:\n",
        "\n",
        "$u'(t) = \\lambda u(t)$, $u(0)=u^*$\n",
        "\n",
        "At the same time we introduce a pertubed problem.\n",
        "\n",
        "$v'(t) = \\lambda v(t)$, $v(0) = u^* + \\epsilon$\n",
        "\n",
        "To study the propagation of the perturbation, we create a new equation from the two previous. \n",
        "\n",
        "$\\varphi(t) = v(t) - u(t)$\n",
        "\n",
        "Which gives us the a new differential equation:\n",
        "\n",
        "$\\varphi'(t) = \\lambda\\varphi(t)$, $\\varphi(0) = \\epsilon$\n",
        "\n",
        "Which has $\\varphi(t) = e^{t\\lambda}\\epsilon$ as solution.\n",
        "\n",
        "If $\\lambda$ is less than zero, the solution will converge towards 0 as $\\lim_{t \\to \\infty}\\varphi(t)$.\n",
        "\n",
        "According to the constraints of the assignment, the $\\lambda < 0$ therefore an equilibrium point together with an error will converge towards the equilibrium. In our case with $\\varphi(t)$ solution, as $t$ increases the solution will close in on 0. This is shown in the graph belonging to the test below.\n"
      ]
    },
    {
      "cell_type": "code",
      "metadata": {
        "id": "yU0a9lEA3UN8",
        "colab_type": "code",
        "outputId": "0db0f248-46a7-4b65-92ed-219702466640",
        "colab": {
          "base_uri": "https://localhost:8080/",
          "height": 369
        }
      },
      "source": [
        "class TestEulerMethod(unittest.TestCase):\n",
        "  def test_accuracy(self):\n",
        "    for i in range(100):\n",
        "      # Arrange\n",
        "      coefficient = random.randint(-5,0)\n",
        "      function = lambda t, u: coefficient*u\n",
        "      expected_result = integrate.solve_ivp(function, [0, 1], [19]).y[0][-1]\n",
        "\n",
        "      # Act\n",
        "      result = explicit_euler_method(1, function, 19)\n",
        "\n",
        "      # Assert\n",
        "      self.assertAlmostEqual(result, expected_result, 0)\n",
        "\n",
        "  def test_stability(self):\n",
        "      coefficient = random.randint(-5,0)\n",
        "      t = np.arange(0., 10., 0.2)\n",
        "      error = 3\n",
        "      plt.plot(t, math.e ** (t*coefficient)*error, 'r--')\n",
        "      plt.show()\n",
        "\n",
        "\n",
        "if __name__ == '__main__':\n",
        "    # Help from user Pierre S. in the stack overflow thread to give the main arguments: \n",
        "    # https://stackoverflow.com/questions/49952317/python3-for-unit-test-attributeerror-module-main-has-no-attribute-kerne \n",
        "    unittest.main(argv=['first-arg-is-ignored'], exit=False)"
      ],
      "execution_count": 0,
      "outputs": [
        {
          "output_type": "stream",
          "text": [
            "."
          ],
          "name": "stderr"
        },
        {
          "output_type": "display_data",
          "data": {
            "image/png": "[encoded data removed]",
            "text/plain": [
              "<Figure size 432x288 with 1 Axes>"
            ]
          },
          "metadata": {
            "tags": []
          }
        },
        {
          "output_type": "stream",
          "text": [
            ".\n",
            "----------------------------------------------------------------------\n",
            "Ran 2 tests in 20.210s\n",
            "\n",
            "OK\n"
          ],
          "name": "stderr"
        }
      ]
    },
    {
      "cell_type": "markdown",
      "metadata": {
        "id": "tPWFqWIhuMbV",
        "colab_type": "text"
      },
      "source": [
        "##Time stepping for a system of initial value problems du/dt = f(u,t)\n",
        "When working with systems of inital value problems, instead of $u$ mapping to a scalar, we map it ta a vector.\n",
        "\n",
        "$u:[0,T] \\rightarrow R^N$\n",
        "\n",
        "When approximating $u(t)$, it is the same as when we approxing for scalar in the previous assignment, except that we are working with vectors. Hence the code implementation below is the same a the implementation for time stepping for scalar initial value problem $du/dt = f(u,t)$.\n"
      ]
    },
    {
      "cell_type": "code",
      "metadata": {
        "id": "pjdVSkyymctL",
        "colab_type": "code",
        "colab": {}
      },
      "source": [
        "def explicit_euler_method_system(T, function, u_init):\n",
        "  number_intervals = 1000000\n",
        "  interval_size = T / number_intervals\n",
        "  t = 0\n",
        "  u = 0\n",
        "  for i in range(number_intervals):\n",
        "    u = u_init + interval_size*function(t, u_init)\n",
        "    u_init = u\n",
        "    t += interval_size\n",
        "  \n",
        "  return u"
      ],
      "execution_count": 0,
      "outputs": []
    },
    {
      "cell_type": "markdown",
      "metadata": {
        "id": "Kll2Jx4Ho3IK",
        "colab_type": "text"
      },
      "source": [
        "I have provided unit test below to verify the accuracy and the stability of the implemented algorithm. To test the stability, it's similar as for time stepping for scalars. As for scalar time stepping we need to find an equilibrium point:\n",
        "\n",
        "$f(u^*, t) = 0$, $\\forall \\in [0,T]$\n",
        "\n",
        "To be able to analyze the stability to the equilibrium point we add a perturbation $\\epsilon \\in R^N$ to the eqation.\n",
        "\n",
        "$v'(t) = f(v(t),t)$, $0 < t \\le T$\n",
        "\n",
        "$v(0) = u^* + \\epsilon$\n",
        "\n",
        "Similar to the scalar time stepping stability analysis, we compose a new differential equation with $\\varphi(t) = v(t) - u(t)$, which yields:\n",
        "\n",
        "$\\varphi'(t) = f(v(t),t)-f(u(t), t)$, $0 < t\\le T$\n",
        "\n",
        "$\\varphi(0) = \\epsilon$\n",
        "\n",
        "If we assume that our model takes the following shape $\\varphi'(t) = A\\varphi(t)$, therefore we get the solution $\\varphi(t) = e^{At}\\epsilon$.\n",
        "\n",
        "According to the lecture notes, if A has a eigenvalue where the real part is positive the $\\epsilon$ will grow exponentialy. If all the real parts are negative, the pertubation will decay at an exponential rate. \n",
        "\n"
      ]
    },
    {
      "cell_type": "code",
      "metadata": {
        "id": "REY5kju1yegu",
        "colab_type": "code",
        "colab": {}
      },
      "source": [
        "class TestEulerMethod(unittest.TestCase):\n",
        "  def test_accuracy(self):\n",
        "    for i in range(10):\n",
        "      # Arrange\n",
        "      coefficient = random.randint(-5,0)\n",
        "      function = lambda t, u: coefficient*u\n",
        "      expected_result_per_timestep = solve_ivp(function, np.array([0, 1]), np.array([1, 2])).y\n",
        "      expected_result = np.array([expected_result_per_timestep[0][-1], expected_result_per_timestep[1][-1]])\n",
        "      # Act\n",
        "      result = explicit_euler_method_system(1, function, np.array([1, 2]))\n",
        "\n",
        "      # Assert\n",
        "      np.testing.assert_almost_equal(result, expected_result, 1)\n",
        "      \n",
        "if __name__ == '__main__':\n",
        "    # Help from user Pierre S. in the stack overflow thread to give the main arguments: \n",
        "    # https://stackoverflow.com/questions/49952317/python3-for-unit-test-attributeerror-module-main-has-no-attribute-kerne \n",
        "    unittest.main(argv=['first-arg-is-ignored'], exit=False)"
      ],
      "execution_count": 0,
      "outputs": []
    },
    {
      "cell_type": "markdown",
      "metadata": {
        "id": "zHiUumWD6xT7",
        "colab_type": "text"
      },
      "source": [
        "Below is a test that shows that if we choose a matrix that has atleast one positive eigenvalue, the function will diverge exponentially from the equilibrium point. The y-axis respresent the error residual from the equilibrium point, and x-axis represents time."
      ]
    },
    {
      "cell_type": "code",
      "metadata": {
        "id": "cg-z37eP3YmT",
        "colab_type": "code",
        "outputId": "aa855a2e-045d-47bd-f8b5-b32aca049ebc",
        "colab": {
          "base_uri": "https://localhost:8080/",
          "height": 283
        }
      },
      "source": [
        "\n",
        "A = np.array([[3,2],[1,3]])\n",
        "print(\"Eigenvalues: \" + str(np.linalg.eig(A)[0]))\n",
        "t = np.arange(0., .5, 0.05)\n",
        "error = np.array([2,2])\n",
        "for i in range(len(t)):\n",
        "  plt.plot(t[i], np.linalg.norm(np.dot(math.e ** (A*t[i]), error)) , 'ro')\n",
        "plt.show()"
      ],
      "execution_count": 0,
      "outputs": [
        {
          "output_type": "stream",
          "text": [
            "Eigenvalues: [4.41421356 1.58578644]\n"
          ],
          "name": "stdout"
        },
        {
          "output_type": "display_data",
          "data": {
            "image/png": "[encoded data removed]",
            "text/plain": [
              "<Figure size 432x288 with 1 Axes>"
            ]
          },
          "metadata": {
            "tags": []
          }
        }
      ]
    },
    {
      "cell_type": "markdown",
      "metadata": {
        "id": "-BKN0Ryl7RxN",
        "colab_type": "text"
      },
      "source": [
        "Below is a test that shows that if we choose a matrix that has only negative eigenvalue, the function will diverge exponentially from the equilibrium point. The y-axis respresent the error residual from the equilibrium point, and x-axis represents time."
      ]
    },
    {
      "cell_type": "code",
      "metadata": {
        "id": "koq-Qe6Q3qco",
        "colab_type": "code",
        "outputId": "cf677f0f-de5e-4691-923f-c387300fd000",
        "colab": {
          "base_uri": "https://localhost:8080/",
          "height": 283
        }
      },
      "source": [
        "\n",
        "A = np.array([[-2,-1],[-1,-2]])\n",
        "print(\"Eigenvalues: \" + str(np.linalg.eig(A)[0]))\n",
        "t = np.arange(0., 2., 0.1)\n",
        "error = np.array([2,2])\n",
        "for i in range(len(t)):\n",
        "  plt.plot(t[i], np.linalg.norm(np.dot(math.e ** (A*t[i]), error)) , 'ro')\n",
        "plt.show()"
      ],
      "execution_count": 0,
      "outputs": [
        {
          "output_type": "stream",
          "text": [
            "Eigenvalues: [-1. -3.]\n"
          ],
          "name": "stdout"
        },
        {
          "output_type": "display_data",
          "data": {
            "image/png": "[encoded data removed]",
            "text/plain": [
              "<Figure size 432x288 with 1 Axes>"
            ]
          },
          "metadata": {
            "tags": []
          }
        }
      ]
    },
    {
      "cell_type": "markdown",
      "metadata": {
        "id": "OIJVVR2ht8vX",
        "colab_type": "text"
      },
      "source": [
        "# **Results**\n",
        "The result is refelected in the implementations above."
      ]
    },
    {
      "cell_type": "markdown",
      "metadata": {
        "id": "YC8f7T82uAno",
        "colab_type": "text"
      },
      "source": [
        "# **Discussion**\n",
        "In the time-stepping methods, it would have been intresting to implement implicit Euler method and theta method as well to compare the performance in different situations.  "
      ]
    }
  ]
}