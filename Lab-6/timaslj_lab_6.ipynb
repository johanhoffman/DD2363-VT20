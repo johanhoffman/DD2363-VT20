{
  "nbformat": 4,
  "nbformat_minor": 0,
  "metadata": {
    "colab": {
      "name": "timaslj-lab-6.ipynb",
      "provenance": [],
      "collapsed_sections": [],
      "include_colab_link": true
    },
    "kernelspec": {
      "name": "python3",
      "display_name": "Python 3"
    }
  },
  "cells": [
    {
      "cell_type": "markdown",
      "metadata": {
        "id": "view-in-github",
        "colab_type": "text"
      },
      "source": [
        "<a href=\"https://colab.research.google.com/github/johanhoffman/DD2363-VT20/blob/kalmroth-lab6/Lab-6/timaslj_lab_6.ipynb\" target=\"_parent\"><img src=\"https://colab.research.google.com/assets/colab-badge.svg\" alt=\"Open In Colab\"/></a>"
      ]
    },
    {
      "cell_type": "markdown",
      "metadata": {
        "id": "6RgtXlfYO_i7",
        "colab_type": "text"
      },
      "source": [
        "\n",
        "# **Lab 6: Differential equations**\n",
        "**Timas Ljungdahl**"
      ]
    },
    {
      "cell_type": "markdown",
      "metadata": {
        "id": "9x_J5FVuPzbm",
        "colab_type": "text"
      },
      "source": [
        "# **Abstract**"
      ]
    },
    {
      "cell_type": "markdown",
      "metadata": {
        "id": "6UFTSzW7P8kL",
        "colab_type": "text"
      },
      "source": [
        "In this report, Explicit Euler was implemented for solving initial value problems. "
      ]
    },
    {
      "cell_type": "markdown",
      "metadata": {
        "id": "OkT8J7uOWpT3",
        "colab_type": "text"
      },
      "source": [
        "#**About the code**"
      ]
    },
    {
      "cell_type": "markdown",
      "metadata": {
        "id": "HmB2noTr1Oyo",
        "colab_type": "text"
      },
      "source": [
        "A short statement on who is the author of the file, and if the code is distributed under a certain license. "
      ]
    },
    {
      "cell_type": "code",
      "metadata": {
        "id": "Pdll1Xc9WP0e",
        "colab_type": "code",
        "outputId": "f74fa781-413b-41e7-a2ec-1bba2288ad4f",
        "colab": {
          "base_uri": "https://localhost:8080/",
          "height": 34
        }
      },
      "source": [
        "\"\"\"This program is a template for lab reports in the course\"\"\"\n",
        "\"\"\"DD2363 Methods in Scientific Computing, \"\"\"\n",
        "\"\"\"KTH Royal Institute of Technology, Stockholm, Sweden.\"\"\"\n",
        "\n",
        "# Copyright (C) 2019 Johan Hoffman (jhoffman@kth.se)\n",
        "\n",
        "# This file is part of the course DD2363 Methods in Scientific Computing\n",
        "# KTH Royal Institute of Technology, Stockholm, Sweden\n",
        "#\n",
        "# This is free software: you can redistribute it and/or modify\n",
        "# it under the terms of the GNU Lesser General Public License as published by\n",
        "# the Free Software Foundation, either version 3 of the License, or\n",
        "# (at your option) any later version.\n",
        "\n",
        "# This template is maintained by Johan Hoffman\n",
        "# Please report problems to jhoffman@kth.se"
      ],
      "execution_count": 0,
      "outputs": [
        {
          "output_type": "execute_result",
          "data": {
            "text/plain": [
              "'KTH Royal Institute of Technology, Stockholm, Sweden.'"
            ]
          },
          "metadata": {
            "tags": []
          },
          "execution_count": 1
        }
      ]
    },
    {
      "cell_type": "markdown",
      "metadata": {
        "id": "28xLGz8JX3Hh",
        "colab_type": "text"
      },
      "source": [
        "# **Set up environment**"
      ]
    },
    {
      "cell_type": "markdown",
      "metadata": {
        "id": "D2PYNusD08Wa",
        "colab_type": "text"
      },
      "source": [
        "To have access to the neccessary modules you have to run this cell. If you need additional modules, this is where you add them. "
      ]
    },
    {
      "cell_type": "code",
      "metadata": {
        "id": "Xw7VlErAX7NS",
        "colab_type": "code",
        "colab": {}
      },
      "source": [
        "# Load neccessary modules.\n",
        "from google.colab import files\n",
        "\n",
        "import time\n",
        "import numpy as np\n",
        "import unittest\n",
        "import random\n",
        "import math\n",
        "\n",
        "from sympy import * \n",
        "\n",
        "from matplotlib import pyplot as plt\n",
        "from matplotlib import tri\n",
        "from matplotlib import axes\n",
        "from mpl_toolkits.mplot3d import Axes3D"
      ],
      "execution_count": 0,
      "outputs": []
    },
    {
      "cell_type": "markdown",
      "metadata": {
        "id": "gnO3lhAigLev",
        "colab_type": "text"
      },
      "source": [
        "# **Introduction**"
      ]
    },
    {
      "cell_type": "markdown",
      "metadata": {
        "id": "l5zMzgPlRAF6",
        "colab_type": "text"
      },
      "source": [
        "Initial value problems are differential equations where the function for a specified value, called the initial condition, is known. Intial value problems are problems of the following kind:\n",
        "$$\\dot{u}(t) = f(u(t), t), 0 < t \\leq T$$\n",
        "$$u(t) = u_0$$\n",
        "where we seek $u(t)$. \n",
        "\n",
        "Explicit Euler, which is a time stepping method for solving this kind of problem, constructs an approximation $U(t) \\approx u(t)$ by starting at the initial condition and iteratively taking a step in the direction  of the derivative at the previous time step. This can be formulated as following:\n",
        "\n",
        "$$U_n = U_{n-1} + k_nf(U_{n-1}, t_{n-1})$$  \n",
        "\n",
        "In the linear scalar case where $\\dot{u}(t) = \\lambda u(t)$, Explicit Euler is stable if $|1+k\\lambda| < 1$, where $k$ is the step length and $\\lambda$ is the linear coefficient. \n",
        "\n",
        "In the linear system case where the function is a matrix $A$, Explicit Euler is stable if all its eigenvalues are less than 0. "
      ]
    },
    {
      "cell_type": "markdown",
      "metadata": {
        "id": "WeFO9QMeUOAu",
        "colab_type": "text"
      },
      "source": [
        "# **Methods**\n",
        "\n",
        "The algorithms were implemented following the lecture notes. The stability and accuracy were tested for the scalar case and the system case. "
      ]
    },
    {
      "cell_type": "markdown",
      "metadata": {
        "id": "SsQLT38gVbn_",
        "colab_type": "text"
      },
      "source": [
        "# **Results**"
      ]
    },
    {
      "cell_type": "code",
      "metadata": {
        "id": "QfoDIi0C72yA",
        "colab_type": "code",
        "colab": {}
      },
      "source": [
        "def explicit_euler(T, f, initVal, step_length):\n",
        "    time_steps = np.arange(0, T+step_length, step_length)\n",
        "    U = np.zeros((initVal.size, len(time_steps)))\n",
        "    U[:,0] = initVal\n",
        "    for i in range(1, len(time_steps-1)):\n",
        "        dif = time_steps[i] - time_steps[i-1]\n",
        "        #print(dif)\n",
        "        U[:,i] = U[:,i-1] + dif*f(U[:,i-1], time_steps[i-1])\n",
        "\n",
        "    return time_steps, U"
      ],
      "execution_count": 0,
      "outputs": []
    },
    {
      "cell_type": "markdown",
      "metadata": {
        "id": "ReqA7N1zE-SC",
        "colab_type": "text"
      },
      "source": [
        "### **Time stepping for scalar initial value problem du/dt = f(u,t)**\n",
        "\n",
        "The algorithm was tested for a initial value problem where the solution $u$ is known. The output $U$ was then compared with the known solution to verify accuracy. In the scalar case, with $\\lambda = a = -1$, the linear model is stable. We also know that the IVP is stable for $k < 2$. To test this we can test the algorithm for different $k$'s and plot the solutions to see if the solutions approaches the equilibirum point $u^* = 0$. $u_0$ is chosen as -5. The $k$'s that were chosen were 0.1, 1 and 2."
      ]
    },
    {
      "cell_type": "code",
      "metadata": {
        "colab_type": "code",
        "id": "rOoUtmOWl90v",
        "outputId": "83cb86ac-4908-4c46-f5b9-08d329d3db3a",
        "colab": {
          "base_uri": "https://localhost:8080/",
          "height": 570
        }
      },
      "source": [
        "class Test(unittest.TestCase):\n",
        "\n",
        "    def test_scalar_accuracy_stability(self):\n",
        "        a = -1\n",
        "        u0 = -5\n",
        "        u_dot = lambda u, t: a*u \n",
        "        time_steps = np.arange(0, 20, 1e-1)\n",
        "        exact_sol = [u0*exp(a*t) for t in time_steps]\n",
        "        k_s = [1e-1, 1, 2]\n",
        "\n",
        "        U_s = [explicit_euler(20, u_dot, np.array([u0]), k) for k in k_s]\n",
        "\n",
        "        fig, axs = plt.subplots(3, figsize=(8,8))\n",
        "        for i,U in enumerate(U_s):\n",
        "            axs[i].plot(U[0], U[1][0], '-b', label=f\"k = {k_s[i]}\")\n",
        "            axs[i].plot(time_steps, exact_sol, '-r', label=\"exact solution\")\n",
        "            axs[i].axis('equal')\n",
        "            leg = axs[i].legend()\n",
        "\n",
        "if __name__ == '__main__':\n",
        "    unittest.main(argv=['first-arg-is-ignored'], exit=False)"
      ],
      "execution_count": 102,
      "outputs": [
        {
          "output_type": "stream",
          "text": [
            ".\n",
            "----------------------------------------------------------------------\n",
            "Ran 1 test in 0.061s\n",
            "\n",
            "OK\n"
          ],
          "name": "stderr"
        },
        {
          "output_type": "display_data",
          "data": {
            "image/png": "[encoded data removed]",
            "text/plain": [
              "<Figure size 576x576 with 3 Axes>"
            ]
          },
          "metadata": {
            "tags": []
          }
        }
      ]
    },
    {
      "cell_type": "markdown",
      "metadata": {
        "id": "SoCP1SF1-L5K",
        "colab_type": "text"
      },
      "source": [
        "### **Time stepping for a system of  initial value problems du/dt = f(u,t)**\n",
        "\n",
        "The algorithm was tested analogously to the scalar case. "
      ]
    },
    {
      "cell_type": "code",
      "metadata": {
        "id": "XEDv3xjF8cDN",
        "colab_type": "code",
        "colab": {
          "base_uri": "https://localhost:8080/",
          "height": 605
        },
        "outputId": "abd645e2-596c-4103-b526-07fb1afdc4c9"
      },
      "source": [
        "class Test(unittest.TestCase):\n",
        "\n",
        "    def test_system_accuracy(self):\n",
        "        A = np.array([\n",
        "                [-0.3, 0],\n",
        "                [0, -0.5]\n",
        "            ])\n",
        "        time_steps = np.arange(0, 20, 1e-1)\n",
        "        u0 = np.array([-5,-5])\n",
        "        exact_sol = [[u0[0]*exp(A[0,0]*t) for t in time_steps], [u0[1]*exp(A[1,1]*t) for t in time_steps]]\n",
        "        u_dot = lambda u, t: A @ u\n",
        "        k_s = [1e-1, 1, 2]\n",
        "\n",
        "        U_s = [explicit_euler(20, u_dot, u0, k) for k in k_s]\n",
        "\n",
        "        fig, axs = plt.subplots(4, figsize=(8,8))\n",
        "\n",
        "        axs[0].plot(time_steps, exact_sol[0], '-b', label=f\"exact solution, a = {A[0,0]}\")\n",
        "        axs[0].plot(time_steps, exact_sol[1], '-r', label=f\"exact solution, a = {A[1,1]}\")\n",
        "        axs[0].axis('equal')\n",
        "        leg = axs[0].legend()\n",
        "\n",
        "        for i,U in enumerate(U_s):\n",
        "            axs[i+1].plot(U[0], U[1][0], '-b', label=f\"k = {k_s[i]}, a = {A[0,0]}\")\n",
        "            axs[i+1].plot(U[0], U[1][1], '-r', label=f\"k = {k_s[i]}, a = {A[1,1]}\")\n",
        "            axs[i+1].axis('equal')\n",
        "            leg = axs[i+1].legend()\n",
        "\n",
        "if __name__ == '__main__':\n",
        "    unittest.main(argv=['first-arg-is-ignored'], exit=False)"
      ],
      "execution_count": 103,
      "outputs": [
        {
          "output_type": "stream",
          "text": [
            "."
          ],
          "name": "stderr"
        },
        {
          "output_type": "stream",
          "text": [
            "(array([-0.3, -0.5]), array([[1., 0.],\n",
            "       [0., 1.]]))\n"
          ],
          "name": "stdout"
        },
        {
          "output_type": "stream",
          "text": [
            "\n",
            "----------------------------------------------------------------------\n",
            "Ran 1 test in 0.082s\n",
            "\n",
            "OK\n"
          ],
          "name": "stderr"
        },
        {
          "output_type": "display_data",
          "data": {
            "image/png": "[encoded data removed]",
            "text/plain": [
              "<Figure size 576x576 with 4 Axes>"
            ]
          },
          "metadata": {
            "tags": []
          }
        }
      ]
    },
    {
      "cell_type": "markdown",
      "metadata": {
        "id": "_4GLBv0zWr7m",
        "colab_type": "text"
      },
      "source": [
        "# **Discussion**"
      ]
    },
    {
      "cell_type": "markdown",
      "metadata": {
        "id": "6bcsDSoRXHZe",
        "colab_type": "text"
      },
      "source": [
        "For the scalar case, the plots indeed show that the IVP is stable for $a = -1$ for $k$ values $= \\{k | 0 < k < 2\\}$ since Explicit Euler is stable if $|1+ka| < 1$. We can see that the IVP is stable since the solution approaches the equilibrium point $u^* = 0$ as the time traverses.\n",
        "\n",
        "For the linear system case, the IVP's are stable if for a matrix $A$, $Re(\\lambda_i) < 0$ $\\forall i=1,...,N$ where $\\lambda_i$ are the eigenvalues of $A$. A diagonal matrix with all negative values has this property which can be seen in the plots. The IVP's are stable since the solutions approach the equilibrium point $u^* = 0$ as the time traverses.\n",
        "\n",
        "In both cases, the accuracy increases with shorter timesteps which can be seen as the plots of the approximation and the exact solution begin to overlap for lower k values. \n",
        "\n"
      ]
    }
  ]
}