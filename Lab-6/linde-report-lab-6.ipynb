{
  "nbformat": 4,
  "nbformat_minor": 0,
  "metadata": {
    "colab": {
      "name": "template-report-lab-X.ipynb",
      "provenance": [],
      "include_colab_link": true
    },
    "kernelspec": {
      "name": "python3",
      "display_name": "Python 3"
    }
  },
  "cells": [
    {
      "cell_type": "markdown",
      "metadata": {
        "id": "view-in-github",
        "colab_type": "text"
      },
      "source": [
        "<a href=\"https://colab.research.google.com/github/johanhoffman/DD2363-VT20/blob/lindevanbeers/Lab-6/linde-report-lab-6.ipynb\" target=\"_parent\"><img src=\"https://colab.research.google.com/assets/colab-badge.svg\" alt=\"Open In Colab\"/></a>"
      ]
    },
    {
      "cell_type": "markdown",
      "metadata": {
        "id": "6RgtXlfYO_i7",
        "colab_type": "text"
      },
      "source": [
        "# **Lab 6: Differential Equations**\n",
        "**Linde van Beers**"
      ]
    },
    {
      "cell_type": "markdown",
      "metadata": {
        "id": "9x_J5FVuPzbm",
        "colab_type": "text"
      },
      "source": [
        "# **Abstract**"
      ]
    },
    {
      "cell_type": "markdown",
      "metadata": {
        "id": "6UFTSzW7P8kL",
        "colab_type": "text"
      },
      "source": [
        "\n",
        "\n",
        "```\n",
        "# This is formatted as code\n",
        "```\n",
        "\n",
        "Short summary of the lab report. State the objectives, methods used, main results and conlusions. "
      ]
    },
    {
      "cell_type": "markdown",
      "metadata": {
        "id": "yJipbXtnjrJZ",
        "colab_type": "text"
      },
      "source": [
        ""
      ]
    },
    {
      "cell_type": "markdown",
      "metadata": {
        "id": "OkT8J7uOWpT3",
        "colab_type": "text"
      },
      "source": [
        "#**About the code**"
      ]
    },
    {
      "cell_type": "markdown",
      "metadata": {
        "id": "HmB2noTr1Oyo",
        "colab_type": "text"
      },
      "source": [
        "A short statement on who is the author of the file, and if the code is distributed under a certain license. "
      ]
    },
    {
      "cell_type": "code",
      "metadata": {
        "id": "Pdll1Xc9WP0e",
        "colab_type": "code",
        "outputId": "a4ddd33d-7cc2-4113-e6b3-88cc2c80d695",
        "colab": {
          "base_uri": "https://localhost:8080/",
          "height": 34
        }
      },
      "source": [
        "\"\"\"This program is a template for lab reports in the course\"\"\"\n",
        "\"\"\"DD2363 Methods in Scientific Computing, \"\"\"\n",
        "\"\"\"KTH Royal Institute of Technology, Stockholm, Sweden.\"\"\"\n",
        "\n",
        "# Linde van Beers, 2020\n",
        "\n",
        "# Template: Copyright (C) 2019 Johan Hoffman (jhoffman@kth.se)\n",
        "\n",
        "# This file is part of the course DD2363 Methods in Scientific Computing\n",
        "# KTH Royal Institute of Technology, Stockholm, Sweden\n",
        "#\n",
        "# This is free software: you can redistribute it and/or modify\n",
        "# it under the terms of the GNU Lesser General Public License as published by\n",
        "# the Free Software Foundation, either version 3 of the License, or\n",
        "# (at your option) any later version.\n",
        "\n",
        "# This template is maintained by Johan Hoffman\n",
        "# Please report problems to jhoffman@kth.se"
      ],
      "execution_count": 2,
      "outputs": [
        {
          "output_type": "execute_result",
          "data": {
            "text/plain": [
              "'KTH Royal Institute of Technology, Stockholm, Sweden.'"
            ]
          },
          "metadata": {
            "tags": []
          },
          "execution_count": 2
        }
      ]
    },
    {
      "cell_type": "markdown",
      "metadata": {
        "id": "28xLGz8JX3Hh",
        "colab_type": "text"
      },
      "source": [
        "# **Set up environment**"
      ]
    },
    {
      "cell_type": "markdown",
      "metadata": {
        "id": "D2PYNusD08Wa",
        "colab_type": "text"
      },
      "source": [
        "To have access to the neccessary modules you have to run this cell. If you need additional modules, this is where you add them. "
      ]
    },
    {
      "cell_type": "code",
      "metadata": {
        "id": "Xw7VlErAX7NS",
        "colab_type": "code",
        "colab": {}
      },
      "source": [
        "# Load neccessary modules.\n",
        "from google.colab import files\n",
        "\n",
        "import time\n",
        "import numpy as np\n",
        "\n",
        "from matplotlib import pyplot as plt\n",
        "from matplotlib import tri\n",
        "from matplotlib import axes\n",
        "from mpl_toolkits.mplot3d import Axes3D\n",
        "\n",
        "# Newton's method for scalar functions\n",
        "def newton(f, x, tol = 0.00001):\n",
        "  \n",
        "  def g(xk):\n",
        "    eps = 1e-10\n",
        "    df = (f(x+eps)-f(x-eps))/(2*eps)  \n",
        "    if df == 0: # to prevent dividing by 0 we take default value -1 if df = 0 (corresponds to alpha = 1)\n",
        "      df = -1\n",
        "    return xk-f(xk)/df\n",
        "  \n",
        "  while abs(f(x)) > tol:\n",
        "    x = g(x)\n",
        "\n",
        "  return x\n",
        "\n",
        "# Newton's method for systems\n",
        "def newton_sys(f, x0, input_shape, output_shape, tol=0.00000001):\n",
        "  x = x0\n",
        "\n",
        "  def jacobian(fun, xk):\n",
        "    eps = 1e-10\n",
        "    jac = np.zeros([output_shape, input_shape])\n",
        "    for i in range(input_shape):\n",
        "      x1 = xk.copy()\n",
        "      x2 = xk.copy()\n",
        "      x1[i] += eps\n",
        "      x2[i] -= eps\n",
        "      f1 = fun(x1)\n",
        "      f2 = fun(x2)\n",
        "      jac[:,i] = (f1-f2) / (2*eps)\n",
        "    return jac\n",
        "\n",
        "  while np.linalg.norm(f(x)) > tol:\n",
        "    Df = jacobian(f,x)\n",
        "    dx = np.linalg.solve(Df, -f(x))\n",
        "    x = x + dx\n",
        "\n",
        "  return x"
      ],
      "execution_count": 0,
      "outputs": []
    },
    {
      "cell_type": "markdown",
      "metadata": {
        "id": "gnO3lhAigLev",
        "colab_type": "text"
      },
      "source": [
        "# **Introduction**"
      ]
    },
    {
      "cell_type": "markdown",
      "metadata": {
        "id": "l5zMzgPlRAF6",
        "colab_type": "text"
      },
      "source": [
        "Give a short description of the problem investigated in the report, and provide some background information so that the reader can understand the context. \n",
        "\n",
        "Briefly describe what method you have chosen to solve the problem, and justify why you selected that method. \n",
        "\n",
        "Here you can express mathematics through Latex syntax, and use hyperlinks for references.\n",
        "\n",
        "[Hyperlink to DD2363 course website.](https://kth.instructure.com/courses/7500)\n",
        "\n",
        "$\n",
        "{\\displaystyle \\frac{\\partial u}{\\partial t}} + u\\cdot \\nabla u +\\nabla p = f, \\quad \\nabla \\cdot u=0$\n",
        "\n"
      ]
    },
    {
      "cell_type": "markdown",
      "metadata": {
        "id": "WeFO9QMeUOAu",
        "colab_type": "text"
      },
      "source": [
        "# **Methods**"
      ]
    },
    {
      "cell_type": "markdown",
      "metadata": {
        "id": "zF4iBj5VURZx",
        "colab_type": "text"
      },
      "source": [
        "Describe the methods you used to solve the problem. This may be a combination of text, mathematical formulas (Latex), algorithms (code), data and output.  "
      ]
    },
    {
      "cell_type": "code",
      "metadata": {
        "id": "lGltaMB8Dspn",
        "colab_type": "code",
        "colab": {}
      },
      "source": [
        "def theta_method(f, T, u0, theta, k = 0.1):\n",
        "  us = [u0]\n",
        "  t = 0\n",
        "  while t < T:\n",
        "    fNewt = lambda u : u - u0 - k*((1-theta)*f(u,t)+theta*f(u0,t))\n",
        "    u = newton(fNewt, u0)\n",
        "    u0 = u\n",
        "    t = t+k\n",
        "    us.append(u)\n",
        "  return us, t\n",
        "\n",
        "f = lambda u, t : -u\n",
        "F = lambda x : np.exp(-x)"
      ],
      "execution_count": 0,
      "outputs": []
    },
    {
      "cell_type": "code",
      "metadata": {
        "id": "EKHIesrIoOb8",
        "colab_type": "code",
        "colab": {}
      },
      "source": [
        "# def expl_euler(f, T, u0, k = 0.1):\n",
        "#   us= [u0]\n",
        "#   t = 0\n",
        "#   while t < T:\n",
        "#     u = u0 + k*f(u0,t)\n",
        "#     u0 = u\n",
        "#     t = t+k\n",
        "#     us.append(u)\n",
        "  \n",
        "#   return us, t\n",
        "\n",
        "# us, t = expl_euler(f, 10, 1, 0.1)\n",
        "\n",
        "# x = np.array(np.linspace(0,t,len(us)))\n",
        "# plt.plot(x, us, c = 'red', label = \"approximation\")\n",
        "# x = np.array(np.linspace(0,t,100))\n",
        "# plt.plot(x, F(x), '--', c = 'purple', label = \"target\")\n",
        "# plt.legend()\n"
      ],
      "execution_count": 0,
      "outputs": []
    },
    {
      "cell_type": "code",
      "metadata": {
        "id": "6Rc_90fBl3JG",
        "colab_type": "code",
        "colab": {
          "base_uri": "https://localhost:8080/",
          "height": 577
        },
        "outputId": "de8d4b6b-b061-43b6-f620-99a8677e7d00"
      },
      "source": [
        "def theta_system(f, T, u0, theta, k = 0.1):\n",
        "  us = np.matrix(u0)\n",
        "  t = 0\n",
        "  while t < T:\n",
        "    fNewt = lambda u : u - u0 - k*((1-theta)*f(u,t)+theta*f(u0,t))\n",
        "    u = newton_sys(fNewt, u0, 2, 2)\n",
        "    u0 = u\n",
        "    t = t+k\n",
        "    us = np.concatenate((us, np.matrix(u)))\n",
        "  return us, t\n",
        "\n",
        "# f = lambda u, t : np.array([ u[0] * (1.5-2.*u[1]), u[1] * (1.*(u[0])-1.)])\n",
        "\n"
      ],
      "execution_count": 13,
      "outputs": [
        {
          "output_type": "execute_result",
          "data": {
            "text/plain": [
              "Text(0.5, 1.0, 'Initialised with stable equilibrium point \\nwith small error u* ≈ [0+e,0+e]')"
            ]
          },
          "metadata": {
            "tags": []
          },
          "execution_count": 13
        },
        {
          "output_type": "display_data",
          "data": {
            "image/png": "[encoded data removed]",
            "text/plain": [
              "<Figure size 432x288 with 1 Axes>"
            ]
          },
          "metadata": {
            "tags": []
          }
        },
        {
          "output_type": "display_data",
          "data": {
            "image/png": "[encoded data removed]",
            "text/plain": [
              "<Figure size 432x288 with 1 Axes>"
            ]
          },
          "metadata": {
            "tags": []
          }
        }
      ]
    },
    {
      "cell_type": "markdown",
      "metadata": {
        "id": "SsQLT38gVbn_",
        "colab_type": "text"
      },
      "source": [
        "# **Results**"
      ]
    },
    {
      "cell_type": "markdown",
      "metadata": {
        "id": "RLwlnOzuV-Cd",
        "colab_type": "text"
      },
      "source": [
        "Present the results. If the result is an algorithm that you have described under the *Methods* section, you can present the data from verification and performance tests in this section. If the result is the output from a computational experiment this is where you present a selection of that data. "
      ]
    },
    {
      "cell_type": "code",
      "metadata": {
        "id": "08Pd7KjIoKZw",
        "colab_type": "code",
        "colab": {}
      },
      "source": [
        "#plot Explicit Euler\n",
        "us, t = theta_method(f, T=10, u0=1, theta=1, k=0.5)\n",
        "x = np.array(np.linspace(0,t,len(us)))\n",
        "plt.plot(x, us, c = 'lightblue', label = \"explicit Euler\")\n",
        "\n",
        "# plot implicit Euler\n",
        "us, t = theta_method(f, T=10, u0=1, theta=0, k=0.5)\n",
        "x = np.array(np.linspace(0,t,len(us)))\n",
        "plt.plot(x, us, c = 'steelblue', label = \"implicit Euler\")\n",
        "\n",
        "# plot trapezoidal\n",
        "us, t = theta_method(f, T=10, u0=1, theta=0.5, k=0.5)\n",
        "x = np.array(np.linspace(0,t,len(us)))\n",
        "plt.plot(x, us, c = 'darkblue', label = \"trapezoidal\")\n",
        "\n",
        "# plot target\n",
        "x = np.array(np.linspace(0,t,100))\n",
        "plt.plot(x, F(x), '--', c = 'orange', label = \"target\")\n",
        "\n",
        "plt.legend()\n",
        "plt.title(\"results of different IVP approximation methods\")\n",
        "print()"
      ],
      "execution_count": 0,
      "outputs": []
    },
    {
      "cell_type": "code",
      "metadata": {
        "id": "-G1zdu04m2TR",
        "colab_type": "code",
        "colab": {}
      },
      "source": [
        "f = lambda u, t : np.array([-u[0], -2*u[1]])\n",
        "\n",
        "F1 = lambda x : np.exp(-x)\n",
        "F2 = lambda x : np.exp(-2*x)\n",
        "\n",
        "#test for accuracy of approximation\n",
        "us, t = theta_system(f, 13, np.array([1, 1]), theta = 0.5, k = 0.01)\n",
        "\n",
        "fig = plt.figure()\n",
        "sub = fig.add_subplot(111)\n",
        "x = np.array(np.linspace(0,t,len(us)))\n",
        "sub.plot(x, us[:,0], c = 'steelblue', label = \"u[0]\")\n",
        "sub.plot(x, us[:,1], c = 'lightblue', label = \"u[1]\")\n",
        "x = np.array(np.linspace(0,t,100))\n",
        "sub.plot(x, F1(x), '--', c = 'orange', label = \"target\")\n",
        "sub.plot(x, F2(x), '--', c = 'orange', label = \"target\")\n",
        "sub.legend()\n",
        "plt.title(\"Initialised with u0 = [1,1]\")\n",
        "\n",
        "# test for stability in equilibrium point\n",
        "us, t = theta_system(f, 13, np.array([0+1e-10, 0+1e-10]), theta = 0.5, k = 0.01)\n",
        "\n",
        "fig = plt.figure()\n",
        "sub = fig.add_subplot(111)\n",
        "x = np.array(np.linspace(0,t,len(us)))\n",
        "sub.plot(x, us[:,0], c = 'steelblue', label = \"u[0]\")\n",
        "sub.plot(x, us[:,1], c = 'lightblue', label = \"u[1]\")\n",
        "sub.legend()\n",
        "plt.title(\"Initialised with stable equilibrium point \\nwith small error u* \\u2248 [0+e,0+e]\")"
      ],
      "execution_count": 0,
      "outputs": []
    },
    {
      "cell_type": "markdown",
      "metadata": {
        "id": "_4GLBv0zWr7m",
        "colab_type": "text"
      },
      "source": [
        "# **Discussion**"
      ]
    },
    {
      "cell_type": "markdown",
      "metadata": {
        "id": "6bcsDSoRXHZe",
        "colab_type": "text"
      },
      "source": [
        "Summarize your results and your conclusions. Were the results expected or surprising. Do your results have implications outside the particular problem investigated in this report? "
      ]
    },
    {
      "cell_type": "markdown",
      "metadata": {
        "id": "1vcIILuQYsEA",
        "colab_type": "text"
      },
      "source": [
        "# **APPENDIX**"
      ]
    },
    {
      "cell_type": "markdown",
      "metadata": {
        "id": "NlJ-Y9KAYt4Z",
        "colab_type": "text"
      },
      "source": [
        "In this appendix some examples are given to express and visualizing mathematical concepts such as vectors, matrices, meshes and functions. \n",
        "\n",
        "This is not part of the template report for the course."
      ]
    },
    {
      "cell_type": "code",
      "metadata": {
        "id": "Y-enWfBvcbRZ",
        "colab_type": "code",
        "colab": {}
      },
      "source": [
        ""
      ],
      "execution_count": 0,
      "outputs": []
    },
    {
      "cell_type": "markdown",
      "metadata": {
        "id": "I5Kf3qRyY5J5",
        "colab_type": "text"
      },
      "source": [
        "# **Vector**"
      ]
    },
    {
      "cell_type": "markdown",
      "metadata": {
        "id": "SBKa3PEj0N9D",
        "colab_type": "text"
      },
      "source": [
        "In this cell some basic commands are introduced for how to define and process a vector, where the NumPy array data type is used. "
      ]
    },
    {
      "cell_type": "code",
      "metadata": {
        "colab_type": "code",
        "id": "PbnT724f5mfQ",
        "colab": {}
      },
      "source": [
        "# Just a test\n",
        "# Create a vector as a NumPy array\n",
        "x = np.array([1,2,3,4])\n",
        "\n",
        "# Print various attributes of the vector\n",
        "print('x =',x)\n",
        "print('x[2] =',x[2])\n",
        "print('x[0:2] =',x[0:2])\n",
        "print('x.shape =',x.shape)\n",
        "print('x.ndim =',x.ndim)\n",
        "print('x.size =',x.size)\n",
        "print('x.dtype =',x.dtype)\n",
        "\n",
        "# Print the elements of vector x\n",
        "for i in range(x.size):\n",
        "  print(\"x[\",i,\"] =\",x[i])\n",
        "\n",
        "# Assign a float value to the int vector x\n",
        "x[1] = 2.1\n",
        "print('x =',x)\n",
        "\n",
        "# Copy the int vector x to a float vector xf\n",
        "xf = x.astype(float)\n",
        "xf[1] = 2.1\n",
        "print('xf =',xf)\n",
        "print('xf.dtype =',xf.dtype)\n",
        "\n",
        "# Create a complex vector \n",
        "y = np.array([2,3,4], dtype=complex)\n",
        "print('y =',y)\n",
        "print('y.dtype =',y.dtype)\n",
        "\n",
        "# Create a vector z by defining a range through an increment\n",
        "z = np.arange(12, 28, 4.5)\n",
        "print('z =',z)\n",
        "\n",
        "# Overwrite the vector z by a vector of uniformly spaced elements in a range\n",
        "pi=np.pi\n",
        "pi\n",
        "z = np.linspace(0, 2*pi, 5)\n",
        "print('z =',z)\n",
        "\n",
        "# Visualize the vector in a plot. \n",
        "plt.figure()\n",
        "plt.plot(x,2*x,'ro-')\n",
        "plt.show()"
      ],
      "execution_count": 0,
      "outputs": []
    },
    {
      "cell_type": "markdown",
      "metadata": {
        "id": "trQVmLgAZGU7",
        "colab_type": "text"
      },
      "source": [
        "# **Matrix**"
      ]
    },
    {
      "cell_type": "markdown",
      "metadata": {
        "id": "ADesgm5x01TF",
        "colab_type": "text"
      },
      "source": [
        "In this cell some basic commands for defining and processing a matrix\n",
        "is introduced, where we use the NumPy array data type. "
      ]
    },
    {
      "cell_type": "code",
      "metadata": {
        "id": "QdJvGD6NZKNc",
        "colab_type": "code",
        "colab": {}
      },
      "source": [
        "# Define a matrix as a NumPy array\n",
        "A = np.array([[2,4,6], [3,6,9], [1,2,1]])\n",
        "\n",
        "# Print various attributes of the matrix \n",
        "print('A =',A)\n",
        "print('A[1,0] =',A[1,0])\n",
        "print('A.shape =',A.shape)\n",
        "print('A.ndim =',A.ndim)\n",
        "print('A.size =',A.size)\n",
        "\n",
        "# Plot the matrix\n",
        "plt.figure()\n",
        "plt.plot(A,'o-')\n",
        "\n",
        "# Construct a simple sparse matrix class using the CRS data structure\n",
        "class spMatrix:\n",
        "  def __init__(self, val, col_idx, row_ptr):\n",
        "    self.val = val\n",
        "    self.col_idx = col_idx\n",
        "    self.row_ptr = row_ptr\n",
        "    \n",
        "# Create a sparse matrix object \n",
        "val = np.array([3, 2, 2, 2, 1, 1, 3, 2, 1, 2, 3])\n",
        "col_idx = np.array([1, 2, 4, 2, 3, 3, 3, 4, 5, 5, 6])\n",
        "row_ptr = np.array([1, 4, 6, 7, 9, 10])\n",
        "spA = spMatrix(val, col_idx, row_ptr)\n",
        "\n",
        "# Print sparse matrix object attributes\n",
        "print('Sparse matrix values: \\n',spA.val)\n",
        "print('Sparse matrix column indices: \\n',spA.col_idx)\n",
        "print('Sparse matrix row pointer: \\n',spA.row_ptr)\n",
        "    "
      ],
      "execution_count": 0,
      "outputs": []
    },
    {
      "cell_type": "markdown",
      "metadata": {
        "id": "idDHnPmv9c6H",
        "colab_type": "text"
      },
      "source": [
        "# **Function**"
      ]
    },
    {
      "cell_type": "markdown",
      "metadata": {
        "id": "PwYg0g0-EH2J",
        "colab_type": "text"
      },
      "source": [
        "In this cell we illustrate how functions are defined. "
      ]
    },
    {
      "cell_type": "code",
      "metadata": {
        "id": "eDlRKNOK9fNo",
        "colab_type": "code",
        "colab": {}
      },
      "source": [
        "# Define a function f(x,y)\n",
        "def f(x,y):\n",
        "  return x + y \n",
        "\n",
        "# Verify the function output\n",
        "print('f(3,4) =',f(3,4))\n",
        "\n",
        "# Define a function of a function\n",
        "def g1(fcn,arg1,arg2):\n",
        "  z = fcn(arg1,arg2)\n",
        "  print('z =',z)\n",
        "\n",
        "# Call the function\n",
        "g1(f,6,7)\n",
        "\n",
        "# Define a function of a function with arguments in a list or array\n",
        "def g2(fcn,arg):\n",
        "  z = fcn(*arg)\n",
        "  print('z =',z)\n",
        "  \n",
        "# Call the function with arguments as list and array\n",
        "xlist = [8,9]\n",
        "xarray = np.array([11,3])\n",
        "g2(f,xlist)\n",
        "g2(f,xarray)\n",
        "\n",
        "# Define a function to format the print out for a matrix \n",
        "def printMatrix(A):\n",
        "   rows = A.shape[0]\n",
        "   cols = A.shape[1]\n",
        "   for i in range(0,rows):\n",
        "      for j in range(0,cols):\n",
        "         print(A[i,j],\" \", end='')\n",
        "      print()\n",
        "\n",
        "# Define matrix      \n",
        "A = np.array([[1,2,3], [4,5,6], [7,8,9]])\n",
        "\n",
        "# Verify the function output\n",
        "print('A =', A)\n",
        "print('A =')\n",
        "printMatrix(A)\n",
        "print('A^T =')\n",
        "printMatrix(A.transpose())\n",
        "\n",
        "# Plot a Euclidian position vector v \n",
        "def plotEVector(vec):\n",
        "  plt.figure()\n",
        "  plt.xlim([-1.5*vec[0], 1.5*vec[0]])\n",
        "  plt.ylim([-1.5*vec[1], 1.5*vec[1]])\n",
        "  plt.quiver(0, 0, vec[0], vec[1], scale=1, scale_units='xy', angles='xy')\n",
        "  plt.show()\n",
        "\n",
        "v = np.array([3,4])\n",
        "plotEVector(v)\n",
        "\n",
        "\n"
      ],
      "execution_count": 0,
      "outputs": []
    },
    {
      "cell_type": "markdown",
      "metadata": {
        "id": "hmpw8QnuzSSD",
        "colab_type": "text"
      },
      "source": [
        "# **Plot**"
      ]
    },
    {
      "cell_type": "code",
      "metadata": {
        "id": "6zmuvOqEzWfA",
        "colab_type": "code",
        "colab": {}
      },
      "source": [
        "# Define a range for a parameter t\n",
        "t = np.arange( 0.0, 10, 0.5)\n",
        "\n",
        "# Initialize a new figure and set the size \n",
        "plt.figure(2)\n",
        "plt.figure(figsize=(12,6))\n",
        "\n",
        "# Define a subplot structure and choose the first subplot \n",
        "plt.subplot(121)\n",
        "\n",
        "# Plot a standard NumPy function against the parameter t\n",
        "plt.plot(t,np.cos(t))\n",
        "\n",
        "# Set plot labels and title for the subplot\n",
        "plt.xlabel('x')\n",
        "plt.ylabel('y')\n",
        "plt.title('My plot: $y = cos(x)$')\n",
        "\n",
        "# Choose the other subplot\n",
        "plt.subplot(122)\n",
        "\n",
        "# Plot three functions in the same subplot\n",
        "plt.plot(t, np.sin(f(t,3)), 'g*', t, 0.03*t**2, 'ro', t, 0.1*t, 'b')\n",
        "plt.axis([-1, 12, -2 ,3])\n",
        "\n",
        "# Show the figure\n",
        "plt.show()"
      ],
      "execution_count": 0,
      "outputs": []
    },
    {
      "cell_type": "markdown",
      "metadata": {
        "id": "M2LbkCoxNV8i",
        "colab_type": "text"
      },
      "source": [
        "# Triangular **mesh**"
      ]
    },
    {
      "cell_type": "markdown",
      "metadata": {
        "id": "cnwG2HPEFcyL",
        "colab_type": "text"
      },
      "source": [
        "This cell describes how to generate a triangular mesh from a point cloud by the Delaunay algorithm. It also illustrates how to access the mesh data structures. "
      ]
    },
    {
      "cell_type": "code",
      "metadata": {
        "id": "4stcLbraNZPY",
        "colab_type": "code",
        "colab": {}
      },
      "source": [
        "# Start the clock \n",
        "start = time.time()\n",
        "\n",
        "# Generate a point cloud\n",
        "Nx = 5\n",
        "Ny = 5\n",
        "hx = 1.0/(Nx-1)\n",
        "hy = 1.0/(Ny-1)\n",
        "x = np.zeros((Nx*Ny))\n",
        "y = np.zeros((Nx*Ny))\n",
        "for i in range(Nx):\n",
        "  for j in range(Ny):\n",
        "    x[i*Nx + j] = j*hx\n",
        "    y[i*Nx + j] = i*hy\n",
        "\n",
        "# Generate a mesh from the point cloud using a Delaunay algorithm\n",
        "mesh = tri.Triangulation( x, y )\n",
        "\n",
        "# Stop the clock\n",
        "end = time.time()\n",
        "\n",
        "# Print the measured time\n",
        "print (\"Mesh generation took: \", end - start, \"seconds (wall-clock time)\")\n",
        "\n",
        "# Print mesh data structure\n",
        "vertices = np.array([mesh.x, mesh.y])\n",
        "print('vertices = \\n', vertices)\n",
        "print('edges = \\n', mesh.edges)\n",
        "print('triangles = \\n', mesh.triangles)\n",
        "print('neighbor triangles = \\n', mesh.neighbors)\n",
        "\n",
        "# Plot the mesh \n",
        "plt.figure(3)\n",
        "plt.figure(figsize=(10,10))\n",
        "plt.triplot(mesh, 'bo-', lw=1)\n",
        "plt.title('Delaunay mesh')\n",
        "plt.show()\n",
        "\n",
        "# Define a function g(x,y)\n",
        "def g(x,y):\n",
        "    return np.sin(10*x)*np.cos(3*y)\n",
        "\n",
        "# Plot the function g(x,y) in a contour plot\n",
        "plt.figure(4)\n",
        "plt.tricontour(mesh, g(x,y), cmap=plt.cm.spectral)\n",
        "plt.show()\n",
        "\n",
        "# Plot the function g(x,y) in 3D as a surface plot\n",
        "fig = plt.figure(5)\n",
        "ax1 = fig.add_subplot(111, projection='3d')\n",
        "surf = ax1.plot_trisurf(mesh, g(x,y), cmap=plt.cm.coolwarm)\n",
        "fig.colorbar(surf, shrink=0.5, aspect=10)\n",
        "ax1.view_init(20,10)\n",
        "plt.show()"
      ],
      "execution_count": 0,
      "outputs": []
    },
    {
      "cell_type": "markdown",
      "metadata": {
        "id": "lmSvJV4dYVN2",
        "colab_type": "text"
      },
      "source": [
        "# Parametric **curve**"
      ]
    },
    {
      "cell_type": "markdown",
      "metadata": {
        "id": "fXevCzGfYZPj",
        "colab_type": "text"
      },
      "source": [
        "This cell illustrates how to visualize a parametric curve."
      ]
    },
    {
      "cell_type": "code",
      "metadata": {
        "id": "V9qqme4YYhrW",
        "colab_type": "code",
        "colab": {}
      },
      "source": [
        "# Define paramter range\n",
        "t = np.linspace(0, 4*np.pi, 100)\n",
        "\n",
        "# Define the curve\n",
        "x = t*np.cos(t)\n",
        "y = t*np.sin(t)\n",
        "z = t\n",
        "\n",
        "fig = plt.figure(6)\n",
        "ax = fig.gca(projection = '3d')\n",
        "ax.plot(x, y, z)\n",
        "plt.title('Parametric curve')\n",
        "plt.show()"
      ],
      "execution_count": 0,
      "outputs": []
    }
  ]
}