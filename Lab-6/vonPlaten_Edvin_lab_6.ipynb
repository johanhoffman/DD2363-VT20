{
  "nbformat": 4,
  "nbformat_minor": 0,
  "metadata": {
    "colab": {
      "name": "vonPlaten_Edvin_lab-6.ipynb",
      "provenance": [],
      "collapsed_sections": []
    },
    "kernelspec": {
      "name": "python3",
      "display_name": "Python 3"
    }
  },
  "cells": [
    {
      "cell_type": "markdown",
      "metadata": {
        "id": "CA8pr782Uyuh",
        "colab_type": "text"
      },
      "source": [
        "[**COLAB LINK**](https://colab.research.google.com/drive/1_5Yem4IRId-2HuSDSFMrgW2Drb91FwJh)"
      ]
    },
    {
      "cell_type": "markdown",
      "metadata": {
        "id": "6RgtXlfYO_i7",
        "colab_type": "text"
      },
      "source": [
        "# **Lab 6: Differential Equations**\n",
        "**Edvin von Platen**"
      ]
    },
    {
      "cell_type": "markdown",
      "metadata": {
        "id": "9x_J5FVuPzbm",
        "colab_type": "text"
      },
      "source": [
        "# **Abstract**\n",
        "\n",
        "In this lab we implement and evaluate different time stepping methods for solving some differential equations. Implemented methods are:\n",
        "\n",
        "- Implicit Euler for scalar initial value problems (IVP).\n",
        "- Heuns method for system of IVPs.\n",
        "- Euler-Maruyama mnethod for scalar stochastic differential equations.\n",
        "\n",
        "The implementation of the methods appear to be sound and they perform as expected."
      ]
    },
    {
      "cell_type": "markdown",
      "metadata": {
        "id": "OkT8J7uOWpT3",
        "colab_type": "text"
      },
      "source": [
        "#**About the code**"
      ]
    },
    {
      "cell_type": "code",
      "metadata": {
        "id": "Pdll1Xc9WP0e",
        "colab_type": "code",
        "outputId": "f74fa781-413b-41e7-a2ec-1bba2288ad4f",
        "colab": {
          "base_uri": "https://localhost:8080/",
          "height": 34
        }
      },
      "source": [
        "\"\"\"This program is a template for lab reports in the course\"\"\"\n",
        "\"\"\"DD2363 Methods in Scientific Computing, \"\"\"\n",
        "\"\"\"KTH Royal Institute of Technology, Stockholm, Sweden.\"\"\"\n",
        "\n",
        "# Copyright (C) 2020 Edvin von Platen (edvinvp@kth.se)\n",
        "\n",
        "# This file is part of the course DD2363 Methods in Scientific Computing\n",
        "# KTH Royal Institute of Technology, Stockholm, Sweden\n",
        "#\n",
        "# This is free software: you can redistribute it and/or modify\n",
        "# it under the terms of the GNU Lesser General Public License as published by\n",
        "# the Free Software Foundation, either version 3 of the License, or\n",
        "# (at your option) any later version."
      ],
      "execution_count": 0,
      "outputs": [
        {
          "output_type": "execute_result",
          "data": {
            "text/plain": [
              "'KTH Royal Institute of Technology, Stockholm, Sweden.'"
            ]
          },
          "metadata": {
            "tags": []
          },
          "execution_count": 1
        }
      ]
    },
    {
      "cell_type": "markdown",
      "metadata": {
        "id": "28xLGz8JX3Hh",
        "colab_type": "text"
      },
      "source": [
        "# **Set up environment**"
      ]
    },
    {
      "cell_type": "code",
      "metadata": {
        "id": "Xw7VlErAX7NS",
        "colab_type": "code",
        "colab": {}
      },
      "source": [
        "# Load neccessary modules.\n",
        "from google.colab import files\n",
        "\n",
        "import time\n",
        "import numpy as np\n",
        "\n",
        "from matplotlib import pyplot as plt\n",
        "from matplotlib import tri\n",
        "from matplotlib import axes\n",
        "from mpl_toolkits.mplot3d import Axes3D"
      ],
      "execution_count": 0,
      "outputs": []
    },
    {
      "cell_type": "markdown",
      "metadata": {
        "id": "gnO3lhAigLev",
        "colab_type": "text"
      },
      "source": [
        "# **Introduction**\n",
        "In this lab we implement and evaluate different time stepping methods for the approximation of the initial value differential equation,\n",
        "\\begin{align}\n",
        "\\dot{u}(t) &= f(u(t),t), \\ \\ 0 < t \\leq T \\\\\n",
        "u(0) &= u_0.\n",
        "\\end{align}\n",
        "We implement methods for both scalar and systems of IVPs, and for stochastic IVPs where $f(u(t), t)$ is stochastic.\n",
        "\n",
        "All material referenced are from the course [DD2363 Methods in Scientific Computing](https://kth.instructure.com/courses/17068) lecture notes."
      ]
    },
    {
      "cell_type": "markdown",
      "metadata": {
        "id": "WeFO9QMeUOAu",
        "colab_type": "text"
      },
      "source": [
        "# **Methods**"
      ]
    },
    {
      "cell_type": "markdown",
      "metadata": {
        "id": "mTF-uDB3DeYD",
        "colab_type": "text"
      },
      "source": [
        "### **Time Stepping for Scalar IvP: Implicit Euler**\n",
        "The implicit Euler method is the Theta method,\n",
        "$$\n",
        "U_n = U_{n-1} + k_n\\left( (1-\\Theta)f(U_n, t_n) + \\Theta f(U_{n-1}, t_{n-1})\\right),\n",
        "$$\n",
        "with $\\Theta = 0$. This means that for any non-linear function $f$ we have to solve the equation,\n",
        "$$\n",
        "x = U_{n-1} + k_nf(x, t_n).\n",
        "$$\n",
        "We use Newton's method, let\n",
        "$$\n",
        "h(x) = U_{n-1} + k_nf(x, t_n) - x, \\ h'(x) = k_n f'(x,t_n) - 1,\n",
        "$$\n",
        "$h$ and $h'$ is then used as input to Newton's method each iteration."
      ]
    },
    {
      "cell_type": "code",
      "metadata": {
        "id": "AxM45GQLZyCu",
        "colab_type": "code",
        "colab": {}
      },
      "source": [
        "def newton_scalar(f,f_prim,start, TOL):\n",
        "  x = start\n",
        "  while abs(f(x)) > TOL:\n",
        "    x = x - f(x)/f_prim(x)\n",
        "  return x\n",
        "\n",
        "def implicit_euler(f, f_prim, u_0, T, N):\n",
        "  k = T/N\n",
        "  steps = np.zeros(N)\n",
        "  u = np.zeros(N)\n",
        "  u[0] = u_0\n",
        "  for i in range(1,N):\n",
        "    u_prim = lambda x: k*f_prim(x,k*i) - 1\n",
        "    u_func = lambda x: u[i-1] + k*f(x, k*i) - x\n",
        "    u[i] = newton_scalar(u_func, u_prim, u[i-1], 0.00001)\n",
        "    steps[i] = k*i\n",
        "  return u, steps"
      ],
      "execution_count": 0,
      "outputs": []
    },
    {
      "cell_type": "markdown",
      "metadata": {
        "id": "7beVeabiGHSx",
        "colab_type": "text"
      },
      "source": [
        "### **Time Stepping for a a System of IvP's: Heuns Method**\n",
        "\n",
        "Time stepping methods for a system of IvP's are almost identical to the scalar case. We want to find a vector function $u: [0,T]\\to R^N$ such that for $f:R^N \\times [0,T]  \\to R^N$ and by (14.1),\n",
        "\\begin{align}\n",
        "\\dot{u}(t) &= f(u(t),t), \\ \\ 0 < t \\leq T \\\\\n",
        "u(0) &= u_0.\n",
        "\\end{align}\n",
        "Where $u_0$ is the initial value  of the IvP.\n",
        "\n",
        "We implement Heuns method which is a predictor corrector method that uses explicit Euler for the prediction step and the trapezoidal rule for the correction step. The trapezoidal rule is the $\\Theta$-method with $\\Theta = 0.5$.\n",
        "\n",
        "\n"
      ]
    },
    {
      "cell_type": "code",
      "metadata": {
        "id": "7XZ2W9Hk9LH2",
        "colab_type": "code",
        "colab": {}
      },
      "source": [
        "def Heuns_Method(f, var_count, u_0, T, N):\n",
        "  k = T/N\n",
        "  steps = np.zeros(N)\n",
        "  u = np.zeros((var_count, N))\n",
        "  u[:,0] = u_0\n",
        "  for i in range(1,N):\n",
        "    # Prediction: Explicit Euler Step\n",
        "    EE = u[:,i-1] + k*f(u[:,i-1], k*(i-1))\n",
        "    # Correction: Trapezoidal step\n",
        "    u[:,i] = u[:,i-1] + k*( (1/2)*f(u[:,i-1], k*(i-1)) + (1/2)*f(EE, k*i))\n",
        "    steps[i] = k*i\n",
        "  return u, steps"
      ],
      "execution_count": 0,
      "outputs": []
    },
    {
      "cell_type": "markdown",
      "metadata": {
        "id": "m3nyCzMa8VWI",
        "colab_type": "text"
      },
      "source": [
        "### **Simulation of a Trajectory of a Stochastic Differential Equation: $d X_t =  \\mu X_t dt + \\sigma X_t dW$**\n",
        "\n",
        "\n",
        "\n",
        "We can express an IvP in differential form as,\n",
        "$$\n",
        "du(t) = f(u(t), t)dt, \\ \\ u(0) = u_0.\n",
        "$$\n",
        "For a stochastic differential equation (SDE) (Section 13.6) there is a stochastic part of $f(u(t), t)$,\n",
        "$$\n",
        "f(u(t), t) = \\mu(u(t), t)  + \\sigma(u(t),t) \\xi_t,\n",
        "$$\n",
        "where $\\{\\xi\\}$ is known as a white noise stochastic process, defined by $d W_t = \\xi_t dt$ where $d W_t \\sim N(0,dt)$, $W_t$ is known as the Wiener process.\n",
        "\n",
        "This means that we want to find a stochastic process $X_t$ such that,\n",
        "$$\n",
        "d X_t = \\mu(X_t, t)dt  + \\sigma(X_t,t) d W_t, \\ \\ P(X_0 = u(0)) = 1,\n",
        "$$\n",
        "whcih we can write in integral form as,\n",
        "$$\n",
        "X_t = X_0 + \\int_0^t \\mu (X_s, s) ds + \\int_0^t \\sigma(X_s, s) dW_s.\n",
        "$$\n",
        "\n",
        "To approximate a solution of one observation (path), of $X_t$ we can use the Euler-Maruyama method,\n",
        "\\begin{align*}\n",
        "x_0 &= u(0), \\\\\n",
        "x_n &= x_{n-1} + \\mu (x_{n-1}, t_{n-1}) \\Delta t_n + \\sigma (x_{n-1}, t_{n-1}) \\Delta W_n, \\\\\n",
        "\\Delta t_n &= t_n - t_{n-1}, \\\\\n",
        " \\Delta W &= W_{t_n} - W_{t_{n-1}} = Z \\sqrt{\\Delta t_n}, \\ Z \\sim N(0,1).\n",
        "\\end{align*}\n",
        "Since this only approximates one path we can approximate the expected value by the mean of several paths due to the law of large numbers."
      ]
    },
    {
      "cell_type": "code",
      "metadata": {
        "id": "TL0m5xF9Bo8G",
        "colab_type": "code",
        "colab": {}
      },
      "source": [
        "def Euler_Maruyama(mu, sigma, u_0, T, N):\n",
        "  dt = T/N\n",
        "  steps = np.zeros(N)\n",
        "  u = np.zeros(N)\n",
        "  u[0] = u_0\n",
        "  Z = np.random.normal(0, 1, N)\n",
        "  for i in range(1,N):\n",
        "    u[i] = u[i-1] + dt*mu(u[i-1], dt*(i-1)) + sigma(u[i-1], dt*(i-1))* Z[i-1]*np.sqrt(dt)\n",
        "    steps[i] = i*dt\n",
        "  return steps, u"
      ],
      "execution_count": 0,
      "outputs": []
    },
    {
      "cell_type": "markdown",
      "metadata": {
        "id": "SsQLT38gVbn_",
        "colab_type": "text"
      },
      "source": [
        "# **Results**"
      ]
    },
    {
      "cell_type": "markdown",
      "metadata": {
        "id": "RLwlnOzuV-Cd",
        "colab_type": "text"
      },
      "source": [
        "### **Time Stepping for Scalar IvP: Implicit Euler**\n",
        "We test our implementation by (1) accuracy, and (ii) stability with respcet to linear model problem $\\frac{du}{dt} = au, \\ \\ a \\in R, \\ a < 0$.\n",
        "\n",
        "We use the linear problem,\n",
        "$$\n",
        "\\frac{du}{dt} = -2u, \\ \\ u_0 = 1.\n",
        "$$\n",
        "which has one equilibrium point $u^*= 0$ and solution,\n",
        "$$\n",
        "u(t) = e^{-2t}.\n",
        "$$\n",
        "From Section 13.3 we know that the equilibrium point is stable since $\\lambda = -2 < 0$, and that the solver should converge to $u(t)=0$."
      ]
    },
    {
      "cell_type": "code",
      "metadata": {
        "id": "o12cUJwzujqO",
        "colab_type": "code",
        "outputId": "a6b3a3f4-4eee-4361-de3a-c3e9fb93f38c",
        "colab": {
          "base_uri": "https://localhost:8080/",
          "height": 279
        }
      },
      "source": [
        " f = lambda u, t: -2*u\n",
        "f_prim = lambda u, t: -2\n",
        "r_real = lambda t: np.exp(-2*t)\n",
        "\n",
        "u, steps = implicit_euler(f, f_prim, 1, 10, 100)\n",
        "plt.plot(steps, u, label=\"implicit\")\n",
        "\n",
        "vals = list(map(r_real, steps))\n",
        "plt.plot(steps, vals, label=\"real\")\n",
        "plt.legend(loc=\"upper left\")\n",
        "plt.xlabel(\"t\")\n",
        "plt.ylabel(\"u (t)\")\n",
        "plt.show()"
      ],
      "execution_count": 0,
      "outputs": [
        {
          "output_type": "display_data",
          "data": {
            "image/png": "[encoded data removed]",
            "text/plain": [
              "<Figure size 432x288 with 1 Axes>"
            ]
          },
          "metadata": {
            "tags": []
          }
        }
      ]
    },
    {
      "cell_type": "markdown",
      "metadata": {
        "id": "t01xkXwDxOZh",
        "colab_type": "text"
      },
      "source": [
        "The implicit Euler implementation appear to be accurate and the solution converges to the equilibrium point."
      ]
    },
    {
      "cell_type": "markdown",
      "metadata": {
        "id": "6stZZqVcxafN",
        "colab_type": "text"
      },
      "source": [
        "### **Time Stepping for a a System of IvP's: Heuns Method**\n",
        "We test the Heuns method implementation with the Volterra-Lotka (Example 14.11) equation. The equation model a predator-prey system of two species (14.10):\n",
        "$$\n",
        "\\begin{pmatrix}\n",
        "\\dot{u}_1(t) \\\\\n",
        "\\dot{u}_2(t) \\\\\n",
        "\\end{pmatrix} = \n",
        "\\begin{pmatrix}\n",
        "u_1(t)(\\alpha - \\beta u_2(t)) \\\\\n",
        "u_2(t)(\\delta u_1 - \\gamma)\\\\\n",
        "\\end{pmatrix}\n",
        "$$\n",
        "where $u_1$ is the prey and $u_2$ the predator, with $\\alpha, \\beta, \\delta, \\gamma > 0$. It is shown in Example (14.11) that there exists two equilibrium points, $u_1^* = (0,0)$ and $u_2^* = \\left( \\frac{\\gamma}{\\delta}, \\frac{\\alpha}{\\beta}\\right)$. Where, $u_1^*$ is unstable (both species vanish) and the solution will oscilate around $u_2^*$.\n",
        "\n",
        "We replicate Figure 14.4 for $(\\alpha, \\beta, \\gamma, \\delta) = (1,1,2,1.5)$ and $u_0 = (1.1,0.5)$. Using a time evolution Figure and a corresponding phase diagram, the equilibrium point is $(2/1.5, 1)$,"
      ]
    },
    {
      "cell_type": "code",
      "metadata": {
        "id": "JdxJB4Tjxw_x",
        "colab_type": "code",
        "outputId": "0605a4b3-9c33-419e-f82b-3dadf243038a",
        "colab": {
          "base_uri": "https://localhost:8080/",
          "height": 513
        }
      },
      "source": [
        "tst = lambda u, t: np.array([u[0] * (1-1*u[1]), u[1] * (1.5*u[0] - 2)])\n",
        "\n",
        "u, steps = Heuns_Method(tst, 2, np.array([1.1,0.5]), 10, 1000)\n",
        "plt.plot(u[0,:], u[1,:], label = \"Phase\")\n",
        "plt.scatter(2/1.5, 1, label = \"Equilibrium Point\")\n",
        "plt.legend(loc=\"upper left\")\n",
        "plt.show();\n",
        "\n",
        "plt.plot(steps, u[0,:], label=\"u_1(t)\")\n",
        "plt.plot(steps, u[1,:], label=\"u_2(t)\")\n",
        "plt.legend(loc=\"upper left\")\n",
        "plt.show();"
      ],
      "execution_count": 0,
      "outputs": [
        {
          "output_type": "display_data",
          "data": {
            "image/png": "[encoded data removed]",
            "text/plain": [
              "<Figure size 432x288 with 1 Axes>"
            ]
          },
          "metadata": {
            "tags": []
          }
        },
        {
          "output_type": "display_data",
          "data": {
            "image/png": "[encoded data removed]",
            "text/plain": [
              "<Figure size 432x288 with 1 Axes>"
            ]
          },
          "metadata": {
            "tags": []
          }
        }
      ]
    },
    {
      "cell_type": "markdown",
      "metadata": {
        "id": "dOHbUvG52R5P",
        "colab_type": "text"
      },
      "source": [
        "The two Figures apear to be identical to Figure 14.4."
      ]
    },
    {
      "cell_type": "markdown",
      "metadata": {
        "id": "q7USnxkYBm_o",
        "colab_type": "text"
      },
      "source": [
        "### **Simulation of a Trajectory of a Stochastic Differential Equation: $d X_t =  \\mu X_t dt + \\sigma X_t dW$**\n",
        "\n",
        "To test our Euler-Maruyama implementation we use the Ornstein-Uhlenbeck process (Example 13.9) which models Brownian motion with friction by,\n",
        "$$\n",
        "dX_t = -\\mu X_t dt + \\sigma dW_t, \\ \\ \\mu > 0, \\sigma > 0.\n",
        "$$\n",
        "Which has an expected value of,\n",
        "$$\n",
        "E(X_t) = X_0 e^{-\\mu t}.\n",
        "$$\n",
        "We use the values,\n",
        "$$\n",
        "\\mu = 0.5, \\ \\sigma = 0.3, \\ \\ X_0 = 10, \\ t = 10.\n",
        "$$\n",
        "Which gives us the expected value at $t=10$,\n",
        "$$\n",
        "E(X_{10}) = 10e^{-5} \\approx 0.06737947.\n",
        "$$\n",
        "The expected value is approximated from the law of large numbers by simulating $10000$ trajectories, every $500th$ trajectory is plotted."
      ]
    },
    {
      "cell_type": "code",
      "metadata": {
        "id": "dluhAltEGyb3",
        "colab_type": "code",
        "outputId": "c33d65a6-858b-4123-9e55-0b6d31c7126c",
        "colab": {
          "base_uri": "https://localhost:8080/",
          "height": 296
        }
      },
      "source": [
        "ou_mu = lambda u, t: -0.5*u\n",
        "ou_sigma = lambda u, t: 0.3\n",
        "mean = 0\n",
        "for i in range(10000):\n",
        "  steps, u = Euler_Maruyama(ou_mu, ou_sigma, 10, 10, 1000)\n",
        "  if (i % 500 == 0):\n",
        "    plt.plot(steps, u)\n",
        "  mean += u[999]\n",
        "plt.xlabel(\"t\")\n",
        "plt.ylabel(\"X_t\")\n",
        "plt.show()\n",
        "print(\"E(X_{10}) approx \" + str(mean / 1000))"
      ],
      "execution_count": 0,
      "outputs": [
        {
          "output_type": "display_data",
          "data": {
            "image/png": "[encoded data removed]",
            "text/plain": [
              "<Figure size 432x288 with 1 Axes>"
            ]
          },
          "metadata": {
            "tags": []
          }
        },
        {
          "output_type": "stream",
          "text": [
            "E(X_{10}) approx 0.6804010006409491\n"
          ],
          "name": "stdout"
        }
      ]
    },
    {
      "cell_type": "markdown",
      "metadata": {
        "id": "udTB7RBLKOVk",
        "colab_type": "text"
      },
      "source": [
        "The approximation appears to be quite close."
      ]
    },
    {
      "cell_type": "markdown",
      "metadata": {
        "id": "_4GLBv0zWr7m",
        "colab_type": "text"
      },
      "source": [
        "# **Discussion**"
      ]
    },
    {
      "cell_type": "markdown",
      "metadata": {
        "id": "9I8h3M0DxN0X",
        "colab_type": "text"
      },
      "source": [
        "The three implementations appear to be correct and we could replicate some results from the lecture notes. \n",
        "\n",
        "It is quite surprising how simple the time stepping algorithms are, given how difficult the problems are to solve analytically. However, the diffucult part is most likely analyzing the stability of the equation and the error of the solution. "
      ]
    }
  ]
}