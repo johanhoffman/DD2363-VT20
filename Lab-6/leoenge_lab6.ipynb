{
  "nbformat": 4,
  "nbformat_minor": 0,
  "metadata": {
    "colab": {
      "name": "leoenge_lab6.ipynb",
      "provenance": [],
      "collapsed_sections": [],
      "include_colab_link": true
    },
    "kernelspec": {
      "name": "python3",
      "display_name": "Python 3"
    }
  },
  "cells": [
    {
      "cell_type": "markdown",
      "metadata": {
        "id": "view-in-github",
        "colab_type": "text"
      },
      "source": [
        "<a href=\"https://colab.research.google.com/github/johanhoffman/DD2363-VT20/blob/leoenge/Lab-6/leoenge_lab6.ipynb\" target=\"_parent\"><img src=\"https://colab.research.google.com/assets/colab-badge.svg\" alt=\"Open In Colab\"/></a>"
      ]
    },
    {
      "cell_type": "markdown",
      "metadata": {
        "id": "6RgtXlfYO_i7",
        "colab_type": "text"
      },
      "source": [
        "# **Lab 6: Differential Equations**\n",
        "**Leo Enge**"
      ]
    },
    {
      "cell_type": "markdown",
      "metadata": {
        "id": "9x_J5FVuPzbm",
        "colab_type": "text"
      },
      "source": [
        "# **Abstract**"
      ]
    },
    {
      "cell_type": "markdown",
      "metadata": {
        "id": "6UFTSzW7P8kL",
        "colab_type": "text"
      },
      "source": [
        "In this report we implement the implicit Euler method for solving scalar differential equations aswell as systems of differential equations. We then test the accuracy and stability of the methods for a quite simple model. For the tested models both the methods proved to be both accurate and stable."
      ]
    },
    {
      "cell_type": "markdown",
      "metadata": {
        "id": "OkT8J7uOWpT3",
        "colab_type": "text"
      },
      "source": [
        "#**About the code**"
      ]
    },
    {
      "cell_type": "markdown",
      "metadata": {
        "id": "HmB2noTr1Oyo",
        "colab_type": "text"
      },
      "source": [
        "A short statement on who is the author of the file, and if the code is distributed under a certain license. "
      ]
    },
    {
      "cell_type": "code",
      "metadata": {
        "id": "Pdll1Xc9WP0e",
        "colab_type": "code",
        "outputId": "7b495305-c068-4a9b-8bbd-cbc21bf50eaf",
        "colab": {
          "base_uri": "https://localhost:8080/",
          "height": 34
        }
      },
      "source": [
        "\"\"\"This program is a template for lab reports in the course\"\"\"\n",
        "\"\"\"DD2363 Methods in Scientific Computing, \"\"\"\n",
        "\"\"\"KTH Royal Institute of Technology, Stockholm, Sweden.\"\"\"\n",
        "\n",
        "# Copyright (C) 2020 Leo Enge (leoe@kth.se)\n",
        "# Discussed problems with Christoffer Ejemyr\n",
        "\n",
        "# This file is part of the course DD2363 Methods in Scientific Computing\n",
        "# KTH Royal Institute of Technology, Stockholm, Sweden\n",
        "#\n",
        "# This is free software: you can redistribute it and/or modify\n",
        "# it under the terms of the GNU Lesser General Public License as published by\n",
        "# the Free Software Foundation, either version 3 of the License, or\n",
        "# (at your option) any later version."
      ],
      "execution_count": 0,
      "outputs": [
        {
          "output_type": "execute_result",
          "data": {
            "text/plain": [
              "'KTH Royal Institute of Technology, Stockholm, Sweden.'"
            ]
          },
          "metadata": {
            "tags": []
          },
          "execution_count": 1
        }
      ]
    },
    {
      "cell_type": "markdown",
      "metadata": {
        "id": "28xLGz8JX3Hh",
        "colab_type": "text"
      },
      "source": [
        "# **Set up environment**"
      ]
    },
    {
      "cell_type": "markdown",
      "metadata": {
        "id": "D2PYNusD08Wa",
        "colab_type": "text"
      },
      "source": [
        "To have access to the neccessary modules you have to run this cell. If you need additional modules, this is where you add them. "
      ]
    },
    {
      "cell_type": "code",
      "metadata": {
        "id": "Xw7VlErAX7NS",
        "colab_type": "code",
        "colab": {}
      },
      "source": [
        "# Load neccessary modules.\n",
        "from google.colab import files\n",
        "\n",
        "import time\n",
        "import numpy as np\n",
        "\n",
        "from matplotlib import pyplot as plt\n",
        "from matplotlib import tri\n",
        "from matplotlib import axes\n",
        "from mpl_toolkits.mplot3d import Axes3D\n",
        "from scipy.optimize import newton"
      ],
      "execution_count": 0,
      "outputs": []
    },
    {
      "cell_type": "markdown",
      "metadata": {
        "id": "WeFO9QMeUOAu",
        "colab_type": "text"
      },
      "source": [
        "# **Methods**"
      ]
    },
    {
      "cell_type": "markdown",
      "metadata": {
        "id": "eD6V_AZXBRaF",
        "colab_type": "text"
      },
      "source": [
        "## Implicit Euler for scalar D.E.\n",
        "We wish to solve the differential equation\n",
        "\\begin{align}\n",
        "&\\frac{du}{dt} = f(u,t) \\\\ \n",
        "&u(0) = u_0\n",
        "\\end{align}\n",
        "using a numerical method. We choose to use the implicit Euler, implementing it much the same way as algorithm 13.2 in the lecture notes."
      ]
    },
    {
      "cell_type": "code",
      "metadata": {
        "id": "8C1t6EY4F-mB",
        "colab_type": "code",
        "colab": {}
      },
      "source": [
        "def scalar_implicit_euler(func, u0, T):\n",
        "  timestep = 1e-3\n",
        "  no_of_steps = int(np.around(T/timestep) + 1)\n",
        "  t_vector, timestep = np.linspace(0, T, num=no_of_steps, retstep=True)\n",
        "  u = np.zeros(no_of_steps)\n",
        "  u[0] = u0\n",
        "  for i,t in enumerate(t_vector[1:]):\n",
        "    u[i+1] = newton(lambda x: x - u[i] - timestep*func(x,t), u[i])\n",
        "  return t_vector, u"
      ],
      "execution_count": 0,
      "outputs": []
    },
    {
      "cell_type": "markdown",
      "metadata": {
        "id": "lpZ2U_FRF_gm",
        "colab_type": "text"
      },
      "source": [
        "### Test scalar solver\n",
        "We are supposed to varify the accuracy and stability of the method for some system. We choose to test it for the system given by\n",
        "\\begin{equation}\n",
        "\\frac{du}{dt} = f(u,t) = \\lambda \\cdot u(t)\n",
        "\\end{equation}\n",
        "where we set $\\lambda = -1$. This system has the exact solution \n",
        "\\begin{equation}\n",
        "u_{exact}(t) = u_0 \\cdot \\text{e}^{\\lambda t}\n",
        "\\end{equation}\n",
        "For some different values for $u_0$ we calculate the approximate solution $u_{approx}$ and plot it toghether with the exact solution for each value of $u_0$.\n",
        "\n",
        "We also calculate the error $u_{approx} - u_{exact}$ and plot it.\n",
        "\n"
      ]
    },
    {
      "cell_type": "code",
      "metadata": {
        "id": "D9selxBMtIne",
        "colab_type": "code",
        "colab": {}
      },
      "source": [
        "def get_func(c):\n",
        "  def f(u, t):\n",
        "    return c*u\n",
        "  return f"
      ],
      "execution_count": 0,
      "outputs": []
    },
    {
      "cell_type": "code",
      "metadata": {
        "id": "apLaADoowcXV",
        "colab_type": "code",
        "colab": {}
      },
      "source": [
        "def test_scalar():\n",
        "  u0s = np.array([-10, -1, -0.1, 0, 0.1, 1, 10])\n",
        "  T = 10\n",
        "  some_constant_lambda = -1\n",
        "  f = get_func(some_constant_lambda)\n",
        "  fig,a = plt.subplots(2,1)\n",
        "\n",
        "  for u0 in u0s:\n",
        "    t_vector, u_approx = scalar_implicit_euler(f, u0, T)\n",
        "    u_exact = u0*np.exp(some_constant_lambda*t_vector)\n",
        "    rel_error = (u_approx-u_exact)\n",
        "    if not u0==0:\n",
        "      rel_error = rel_error/u0\n",
        "\n",
        "    a[0].set_title(\"Plot of approximate solution and exact solution\")\n",
        "    a[0].plot(t_vector, u_exact, color='blue')\n",
        "    a[0].plot(t_vector, u_approx, color='red')\n",
        "\n",
        "    a[1].set_title('Error of approximate solution')\n",
        "    a[1].plot(t_vector, rel_error)\n"
      ],
      "execution_count": 0,
      "outputs": []
    },
    {
      "cell_type": "markdown",
      "metadata": {
        "id": "8Fv78S_-BVxf",
        "colab_type": "text"
      },
      "source": [
        "## Implicit Euler for system of D.E.\n",
        "We now instead have a system of differential equations\n",
        "\\begin{align}\n",
        "&\\frac{du}{dt} = \\left( \\frac{du_1}{dt}, \\dots \\frac{du_n}{dt} \\right) \\\\\n",
        "&u(0) = u_0\n",
        "\\end{align}\n",
        "We find an approximate solution of this system by the same stepping alorithm as before, with the difference that the Newton method now takes a vector function."
      ]
    },
    {
      "cell_type": "code",
      "metadata": {
        "id": "q5ul2HixBcFf",
        "colab_type": "code",
        "colab": {}
      },
      "source": [
        "def system_implicit_euler(func, u0, T):\n",
        "  n = u0.size\n",
        "  timestep = 1e-3\n",
        "  no_of_steps = int(np.around(T/timestep)) + 1\n",
        "  t_vector,timestep = np.linspace(0, T, num=no_of_steps, retstep=True)\n",
        "  u = np.zeros((n,t_vector.size))\n",
        "  u[:,0] = u0\n",
        "  for i,t in enumerate(t_vector[1:]):\n",
        "    u[:,i+1] = newton(lambda x: x - u[:, i] - timestep*func(x, t), u[:,i])\n",
        "  return u, t_vector"
      ],
      "execution_count": 0,
      "outputs": []
    },
    {
      "cell_type": "markdown",
      "metadata": {
        "id": "gkmhhXr2TUHK",
        "colab_type": "text"
      },
      "source": [
        "### Test system solver\n",
        "As before we should test the system solver for some model. We choose to test the solver for the system \n",
        "\\begin{equation}\n",
        "\\frac{du}{dt} = Au\n",
        "\\end{equation}\n",
        "with $A = XDX^{-1}$, where\n",
        "\\begin{equation}\n",
        "D = \\begin{bmatrix}\n",
        "-1 & 0 & 0\\\\\n",
        "0 & -2 & 0 \\\\\n",
        "0 & 0 & -3\n",
        "\\end{bmatrix}\n",
        "\\end{equation}\n",
        "and\n",
        "\\begin{equation}\n",
        "X = \\begin{bmatrix}\n",
        "1/\\sqrt{2} & 0 & -1/\\sqrt{2}\\\\\n",
        "1/\\sqrt{2} & 0 & 1/\\sqrt{2} \\\\\n",
        "0 & 1 & 0\n",
        "\\end{bmatrix}\n",
        "\\end{equation}\n",
        "which is an orthogonal matrix. Hence we get the exact solution\n",
        "\\begin{equation}\n",
        "u_{exact}(t) = X \\text{e}^{Dt} X^{-1}u_0 = X \\begin{bmatrix}\n",
        "\\text{e}^{-1t} & 0 & 0\\\\\n",
        "0 & \\text{e}^{-2t} & 0 \\\\\n",
        "0 & 0 & \\text{e}^{-3t}\n",
        "\\end{bmatrix} X^{-1}u_0\n",
        "\\end{equation}.\n",
        "We then calculate the error $e(t) = u_{approx}(t) - u_{exact}(t)$. For each $t$ this will be a vector of length $3$, so we take the norm of this vector and plot it against the time. We do this for a set of different random initial value vectors $u_0$."
      ]
    },
    {
      "cell_type": "code",
      "metadata": {
        "id": "cX_0Hj4wA89h",
        "colab_type": "code",
        "colab": {}
      },
      "source": [
        "def exact_solution(X,D,u0,t_vector):\n",
        "  u = np.zeros((u0.size, t_vector.size))\n",
        "  d = np.diag(D)\n",
        "  for i,t in enumerate(t_vector):\n",
        "    u[:,i] = X.dot(np.diag(np.exp(t*d))).dot(np.linalg.inv(X)).dot(u0)\n",
        "  return u"
      ],
      "execution_count": 0,
      "outputs": []
    },
    {
      "cell_type": "code",
      "metadata": {
        "id": "JyGRSq_cMkCI",
        "colab_type": "code",
        "colab": {}
      },
      "source": [
        "def test_system():\n",
        "  D = np.diag(np.array([-1,-2,-3]))\n",
        "  X = np.array([[1/np.sqrt(2), 0, -1/np.sqrt(2)],[1/np.sqrt(2), 0, 1/np.sqrt(2)],[0, 1, 0]])\n",
        "  A = X.dot(D).dot(np.linalg.inv(X))\n",
        "  T = 10\n",
        "  fig,a = plt.subplots(2,1)\n",
        "\n",
        "  for _ in range(5):\n",
        "    u0 = 10 * (np.random.rand(D.shape[0])-0.5)\n",
        "    u_approx, t_vector = system_implicit_euler(lambda x,t: A.dot(x), u0, T)\n",
        "    u_exact = exact_solution(X, D, u0, t_vector)\n",
        "    error = np.zeros(t_vector.size)\n",
        "    u_approx_norm = np.zeros(t_vector.size)\n",
        "    error = np.linalg.norm(u_approx-u_exact, axis=0)\n",
        "    for i in range(t_vector.size):\n",
        "      \n",
        "      u_approx_norm[i] = np.linalg.norm(u_approx[:,i])\n",
        "\n",
        "    a[0].set_title(\"Plot of the norm of the approximate solution\")\n",
        "    a[0].plot(t_vector, u_approx_norm, color='blue')\n",
        "\n",
        "    a[1].set_title(\"Plot of the error u_approx-u_norm\")\n",
        "    a[1].plot(t_vector,error)"
      ],
      "execution_count": 0,
      "outputs": []
    },
    {
      "cell_type": "markdown",
      "metadata": {
        "id": "SsQLT38gVbn_",
        "colab_type": "text"
      },
      "source": [
        "# **Results**"
      ]
    },
    {
      "cell_type": "markdown",
      "metadata": {
        "id": "RLwlnOzuV-Cd",
        "colab_type": "text"
      },
      "source": [
        "## Test of scalar solver"
      ]
    },
    {
      "cell_type": "code",
      "metadata": {
        "id": "_VxZUHjQeefF",
        "colab_type": "code",
        "outputId": "3bacfc94-4e7b-477d-ac48-6e1e811e707a",
        "colab": {
          "base_uri": "https://localhost:8080/",
          "height": 281
        }
      },
      "source": [
        "test_scalar()"
      ],
      "execution_count": 0,
      "outputs": [
        {
          "output_type": "display_data",
          "data": {
            "image/png": "[encoded data removed]",
            "text/plain": [
              "<Figure size 432x288 with 2 Axes>"
            ]
          },
          "metadata": {
            "tags": []
          }
        }
      ]
    },
    {
      "cell_type": "markdown",
      "metadata": {
        "id": "8bKAcVYXfjiQ",
        "colab_type": "text"
      },
      "source": [
        "##Test of system solver"
      ]
    },
    {
      "cell_type": "code",
      "metadata": {
        "id": "qb2UxTBVegc8",
        "colab_type": "code",
        "outputId": "7509b2cd-648d-4205-a0ca-c4324d686d10",
        "colab": {
          "base_uri": "https://localhost:8080/",
          "height": 281
        }
      },
      "source": [
        "test_system()"
      ],
      "execution_count": 0,
      "outputs": [
        {
          "output_type": "display_data",
          "data": {
            "image/png": "[encoded data removed]",
            "text/plain": [
              "<Figure size 432x288 with 2 Axes>"
            ]
          },
          "metadata": {
            "tags": []
          }
        }
      ]
    },
    {
      "cell_type": "markdown",
      "metadata": {
        "id": "_4GLBv0zWr7m",
        "colab_type": "text"
      },
      "source": [
        "# **Discussion**"
      ]
    },
    {
      "cell_type": "markdown",
      "metadata": {
        "id": "6bcsDSoRXHZe",
        "colab_type": "text"
      },
      "source": [
        "## Scalar solver\n",
        "We see that the approximate solution follow the exact solution so well that we cannot even see the plot of the exact solution. Looking at the plot of the error we see that this is indees very small all through. We have tested for both a small and a large positive and negative initial value and in all cases the approximate solution follows the exact solution and approaches the stationary point. So we conclude that the implicit euler implemented is stable for the given differential equation.\n",
        "\n",
        "## System solver\n",
        "In the same way as for the scalar solver, we see that the error apporaches zero and that the norm of the approximate solution goes to zero for all the initial values, so we conclude that the method is accurate and stable for this system of differential equations."
      ]
    }
  ]
}