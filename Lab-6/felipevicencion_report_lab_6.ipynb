{
  "nbformat": 4,
  "nbformat_minor": 0,
  "metadata": {
    "colab": {
      "name": "felipevicencion-report-lab-6.ipynb",
      "provenance": []
    },
    "kernelspec": {
      "name": "python3",
      "display_name": "Python 3"
    }
  },
  "cells": [
    {
      "cell_type": "markdown",
      "metadata": {
        "id": "6RgtXlfYO_i7",
        "colab_type": "text"
      },
      "source": [
        "# **Lab 6: Differential equations**\n",
        "**Felipe Vicencio**"
      ]
    },
    {
      "cell_type": "markdown",
      "metadata": {
        "id": "9x_J5FVuPzbm",
        "colab_type": "text"
      },
      "source": [
        "# **Abstract**"
      ]
    },
    {
      "cell_type": "markdown",
      "metadata": {
        "id": "6UFTSzW7P8kL",
        "colab_type": "text"
      },
      "source": [
        "This is the sixth lab of the course. Here we implement one time stepping method, specifically the explicit Euler method, for solving scalar IVPs and systems of IVPs. Then we test for accuracy and stability, and conclude that the implementation is successful."
      ]
    },
    {
      "cell_type": "markdown",
      "metadata": {
        "id": "OkT8J7uOWpT3",
        "colab_type": "text"
      },
      "source": [
        "#**About the code**"
      ]
    },
    {
      "cell_type": "code",
      "metadata": {
        "id": "Pdll1Xc9WP0e",
        "colab_type": "code",
        "outputId": "7d029548-d3cb-42d3-948b-467ffa9c3ed8",
        "colab": {
          "base_uri": "https://localhost:8080/",
          "height": 34
        }
      },
      "source": [
        "\"\"\"This program is a template for lab reports in the course\"\"\"\n",
        "\"\"\"DD2363 Methods in Scientific Computing, \"\"\"\n",
        "\"\"\"KTH Royal Institute of Technology, Stockholm, Sweden.\"\"\"\n",
        "\n",
        "# Copyright (C) 2020 Felipe Vicencio (fivn@kth.se)\n",
        "\n",
        "# This file is part of the course DD2363 Methods in Scientific Computing\n",
        "# KTH Royal Institute of Technology, Stockholm, Sweden\n",
        "#\n",
        "# This is free software: you can redistribute it and/or modify\n",
        "# it under the terms of the GNU Lesser General Public License as published by\n",
        "# the Free Software Foundation, either version 3 of the License, or\n",
        "# (at your option) any later version.\n"
      ],
      "execution_count": 0,
      "outputs": [
        {
          "output_type": "execute_result",
          "data": {
            "text/plain": [
              "'KTH Royal Institute of Technology, Stockholm, Sweden.'"
            ]
          },
          "metadata": {
            "tags": []
          },
          "execution_count": 1
        }
      ]
    },
    {
      "cell_type": "markdown",
      "metadata": {
        "id": "28xLGz8JX3Hh",
        "colab_type": "text"
      },
      "source": [
        "# **Set up environment**"
      ]
    },
    {
      "cell_type": "code",
      "metadata": {
        "id": "Xw7VlErAX7NS",
        "colab_type": "code",
        "colab": {}
      },
      "source": [
        "# Load neccessary modules.\n",
        "from google.colab import files\n",
        "\n",
        "import math\n",
        "import time\n",
        "import matplotlib.pyplot as plt\n",
        "import numpy as np"
      ],
      "execution_count": 0,
      "outputs": []
    },
    {
      "cell_type": "markdown",
      "metadata": {
        "id": "gnO3lhAigLev",
        "colab_type": "text"
      },
      "source": [
        "# **Introduction**"
      ]
    },
    {
      "cell_type": "markdown",
      "metadata": {
        "id": "l5zMzgPlRAF6",
        "colab_type": "text"
      },
      "source": [
        "The problem of approximating the solution to an IVP (a problem of the form $u'(t) = f(u(t), t), u(0) = u_0, t \\in [0, T]$, where $u(t)$ is either a scalar or a vector function) is very old.\n",
        "\n",
        "To solve this problem, the explicit Euler method is one of the easiest to implement. Its update formula is $U_n = U_{n - 1} + k_nf(U_{n - 1}, t_{n - 1})$, where $U_n \\sim u(t_n)$ and $U_0 = u(0)$.\n",
        "\n",
        "We can also analyze the stability of an IVP by looking at its equilibrium points $u^*$ where $f(u^*, t) = 0, \\forall t \\in [0, T]$. \n",
        "\n",
        "In the scalar case we have that the linear model $f = \\lambda u$ is stable around $u^* = 0$ if $Re(\\lambda) < 0$, is unstable if $Re(\\lambda) > 0$, and is constant or oscillates if $Re(\\lambda) = 0$.\n",
        "\n",
        "In the vector case we have that the linear model $f = Au$ is stable around $u^* = 0$ if all the eigenvalues of $A$ have negative real parts, is unstable if at least one has positive real part, and oscillates if all have zero real part.\n",
        "\n",
        "More details about all this can be found in the lecture notes."
      ]
    },
    {
      "cell_type": "markdown",
      "metadata": {
        "id": "WeFO9QMeUOAu",
        "colab_type": "text"
      },
      "source": [
        "# **Methods**"
      ]
    },
    {
      "cell_type": "markdown",
      "metadata": {
        "id": "zF4iBj5VURZx",
        "colab_type": "text"
      },
      "source": [
        "The explicitEuler method takes a final time $T$, a function $f = f(u(t), t)$, an initial value $u0 = u(0)$, and a number of sub-intervals $n$ as input, and outputs a tuple $(u, uAtStep)$ where $u = U(t_n)$ and $uAtStep$ is a list of the $U_i$s for $i \\in \\{0 \\ldots n\\}$.\n",
        "\n",
        "This implements the scalar and the vector case, as $f$ can be a function that outputs either a scalar or a vector, and $u0$ can be either a scalar or a vector. Examples of $U(t_n)$ for both the scalar and vector cases are printed in this code cell, although the implementation will become clearer in the *Results* section."
      ]
    },
    {
      "cell_type": "code",
      "metadata": {
        "id": "mdbpPK4f9--X",
        "colab_type": "code",
        "outputId": "fdbdfde4-6360-4676-ff44-039cab512d15",
        "colab": {
          "base_uri": "https://localhost:8080/",
          "height": 50
        }
      },
      "source": [
        "def explicitEuler(T, f, u0, n):\n",
        "  k = float(T/n)\n",
        "  u = u0\n",
        "  uAtStep = [u]\n",
        "  t = 0\n",
        "  for i in range(n):\n",
        "    u = u + k*f(u, t)\n",
        "    uAtStep.append(u)\n",
        "    t += k\n",
        "  return (u, uAtStep)\n",
        "\n",
        "# This output is correct according to Wolfram Alpha\n",
        "# T = 20, f = -u(t) + 20 + 5, u0 = 10, n = 1000\n",
        "print(explicitEuler(20, lambda x, y: -x + y + 5, 10, 1000)[0])\n",
        "\n",
        "# T = 20, f = (-u_1 + t + 5, -2u_1, -2u_3 + 10), u0 = (10, 20, 40), n = 1000\n",
        "print(explicitEuler(20, lambda x, y: np.array([-x[0] + y + 5, -2*x[0], -2*x[2]+ 10]), np.array([10, 20, 40]), 1000)[0])\n"
      ],
      "execution_count": 0,
      "outputs": [
        {
          "output_type": "stream",
          "text": [
            "24.000000010097494\n",
            "[  24.00000001 -551.59999998    5.        ]\n"
          ],
          "name": "stdout"
        }
      ]
    },
    {
      "cell_type": "markdown",
      "metadata": {
        "id": "SsQLT38gVbn_",
        "colab_type": "text"
      },
      "source": [
        "# **Results**"
      ]
    },
    {
      "cell_type": "markdown",
      "metadata": {
        "id": "RLwlnOzuV-Cd",
        "colab_type": "text"
      },
      "source": [
        "These are the accuracy and stability tests for the scalar case.\n",
        "\n",
        "The model we use is $u'(t) = -5u(t), u(0) = u_0, t \\in [0, 10]$ for $u_0 \\in \\{1, -10, 0, 10\\}$ and $n = 10000$.\n",
        "\n",
        "The exact solutions are:\n",
        "* $u(t) = e^{-5t}$ if $u_0 = 1$,\n",
        "* $u(t) = -10e^{-5t}$ if $u_0 = -10$,\n",
        "* $u(t) = 0$ if $u_0 = 0$ and\n",
        "* $u(t) = 10e^{-5t}$ if $u_0 = 10$.\n",
        "\n",
        "The accuracy is verified graphically in the plots.\n",
        "\n",
        "The stability is verified as the approximation approaches zero for all values of $u_0$ we used. Recall that this model has an unique equilibrium point at $u^* = 0$ which is stable because $-5 = \\lambda < 0$."
      ]
    },
    {
      "cell_type": "code",
      "metadata": {
        "id": "Vds2AVfh9lIi",
        "colab_type": "code",
        "outputId": "3d25ef78-4c4b-4aec-97c3-eca28ca12fc2",
        "colab": {
          "base_uri": "https://localhost:8080/",
          "height": 1000
        }
      },
      "source": [
        "sol = explicitEuler(10, lambda x, y: -5*x, 1, 10000)\n",
        "plot = plt.plot([0.001*i for i in range(10001)], [math.exp(-5*0.001*i) for i in range(10001)], 'b-')\n",
        "plot = plt.plot([0.001*i for i in range(10001)], [sol[1][i] for i in range(10001)], 'r--')\n",
        "plt.title('Accuracy test, u\\'(t) = -5t, u(0) = 1')\n",
        "plt.ylabel('u(t) blue, U(t) red')\n",
        "plt.xlabel('t')\n",
        "plt.show()\n",
        "print(\"U(10) = \" + str(sol[0]))\n",
        "\n",
        "sol = explicitEuler(10, lambda x, y: -5*x, -10, 10000)\n",
        "plot = plt.plot([0.001*i for i in range(10001)], [-10*math.exp(-5*0.001*i) for i in range(10001)], 'b-')\n",
        "plot = plt.plot([0.001*i for i in range(10001)], [sol[1][i] for i in range(10001)], 'r--')\n",
        "plt.title('Accuracy test, u\\'(t) = -5t, u(0) = -10')\n",
        "plt.ylabel('u(t) blue, U(t) red')\n",
        "plt.xlabel('t')\n",
        "plt.show()\n",
        "print(\"U(10) = \" + str(sol[0]))\n",
        "\n",
        "sol = explicitEuler(10, lambda x, y: -5*x, 0, 10000)\n",
        "plot = plt.plot([0.001*i for i in range(10001)], [0 for i in range(10001)], 'b-')\n",
        "plot = plt.plot([0.001*i for i in range(10001)], [sol[1][i] for i in range(10001)], 'r--')\n",
        "plt.title('Accuracy test, u\\'(t) = -5t, u(0) = 0')\n",
        "plt.ylabel('u(t) blue, U(t) red')\n",
        "plt.xlabel('t')\n",
        "plt.show()\n",
        "print(\"U(10) = \" + str(sol[0]))\n",
        "\n",
        "sol = explicitEuler(10, lambda x, y: -5*x, 10, 10000)\n",
        "plot = plt.plot([0.001*i for i in range(10001)], [10*math.exp(-5*0.001*i) for i in range(10001)], 'b-')\n",
        "plot = plt.plot([0.001*i for i in range(10001)], [sol[1][i] for i in range(10001)], 'r--')\n",
        "plt.title('Accuracy test, u\\'(t) = -5t, u(0) = 10')\n",
        "plt.ylabel('u(t) blue, U(t) red')\n",
        "plt.xlabel('t')\n",
        "plt.show()\n",
        "print(\"U(10) = \" + str(sol[0]))"
      ],
      "execution_count": 0,
      "outputs": [
        {
          "output_type": "display_data",
          "data": {
            "image/png": "[encoded data removed]",
            "text/plain": [
              "<Figure size 432x288 with 1 Axes>"
            ]
          },
          "metadata": {
            "tags": []
          }
        },
        {
          "output_type": "stream",
          "text": [
            "U(10) = 1.7014040303942932e-22\n"
          ],
          "name": "stdout"
        },
        {
          "output_type": "display_data",
          "data": {
            "image/png": "[encoded data removed]",
            "text/plain": [
              "<Figure size 432x288 with 1 Axes>"
            ]
          },
          "metadata": {
            "tags": []
          }
        },
        {
          "output_type": "stream",
          "text": [
            "U(10) = -1.7014040303943015e-21\n"
          ],
          "name": "stdout"
        },
        {
          "output_type": "display_data",
          "data": {
            "image/png": "[encoded data removed]",
            "text/plain": [
              "<Figure size 432x288 with 1 Axes>"
            ]
          },
          "metadata": {
            "tags": []
          }
        },
        {
          "output_type": "stream",
          "text": [
            "U(10) = 0.0\n"
          ],
          "name": "stdout"
        },
        {
          "output_type": "display_data",
          "data": {
            "image/png": "[encoded data removed]",
            "text/plain": [
              "<Figure size 432x288 with 1 Axes>"
            ]
          },
          "metadata": {
            "tags": []
          }
        },
        {
          "output_type": "stream",
          "text": [
            "U(10) = 1.7014040303943015e-21\n"
          ],
          "name": "stdout"
        }
      ]
    },
    {
      "cell_type": "markdown",
      "metadata": {
        "id": "W3OyZrEHBYdv",
        "colab_type": "text"
      },
      "source": [
        "These are the accuracy tests for the vector case.\n",
        "\n",
        "The model we use for the accuracy and stability tests is $u'(t) = \n",
        "\\left ( \\begin{array}{ccc} \n",
        "-1 & 2 & 1 \\\\\n",
        "0 & -1 & 2 \\\\\n",
        "0 & 0 & -1\n",
        "\\end{array} \\right )\n",
        "u, u(0) = u_0, t \\in [0, 10]$ for $u_0 \\in \\{(1, 1, 1)^T, (-10, -10, -10)^T, (0, 0, 0)^T, (10, 10, 10)^T\\}$ and $n = 10000$.\n",
        "\n",
        "For the accuracy tests we only use $u_0 = (1, 1, 1)^T$. The exact solution for this initial value is (according to Wolfram Alpha) $u(t) = (e^{-t} + 2e^{-t}t + e^{-t}t(2t+1), e^{-t} + 2e^{-t}t, e^{-t})^T$.\n",
        "\n",
        "The accuracy is verified by counting the number of errors $\\|u(t_n) - U(t_n)\\|$ smaller than $10^{-3}$ only, smaller than $10^{-3}$ and $10^{-4}$ only, and $10^{-3}$, $10^{-4}$ and $10^{-5}$, and then asserting that $n = 10001$ errors were counted in total.\n",
        "\n",
        "We conclude that our approximation is quite accurate."
      ]
    },
    {
      "cell_type": "code",
      "metadata": {
        "id": "XDEpHXfi9oQf",
        "colab_type": "code",
        "outputId": "a47e1565-4b67-4ed7-8542-557c4c30ce9c",
        "colab": {
          "base_uri": "https://localhost:8080/",
          "height": 118
        }
      },
      "source": [
        "# Accuracy tests\n",
        "sol = explicitEuler(10, lambda x, y: np.array([-x[0] + 2*x[1] + x[2], -x[1] + 2*x[2], -x[2]]), np.array([1, 1, 1]), 10000)\n",
        "errLessThanENeg3 = 0\n",
        "errLessThanENeg4 = 0\n",
        "errLessThanENeg5 = 0\n",
        "for i in range(10001):\n",
        "  err = np.linalg.norm(\n",
        "          np.array([math.exp(-0.001*i) + 2*math.exp(-0.001*i)*0.001*i + math.exp(-0.001*i)*0.001*i*(2*0.001*i + 1),\n",
        "                    math.exp(-0.001*i) + 2*math.exp(-0.001*i)*0.001*i,\n",
        "                    math.exp(-0.001*i)])\n",
        "          - sol[1][i]\n",
        "        )\n",
        "  if err < 10**(-5):\n",
        "    errLessThanENeg5 += 1\n",
        "  elif err < 10**(-4):\n",
        "    errLessThanENeg4 += 1\n",
        "  elif err < 10**(-3):\n",
        "    errLessThanENeg3 += 1\n",
        "print(\"The number of errors smaller than E-3 only is:\")\n",
        "print(errLessThanENeg3)\n",
        "print(\"The number of errors smaller than E-3 and E-4 only is:\")\n",
        "print(errLessThanENeg4)\n",
        "print(\"The number of errors smaller than E-3 and E-4 and E-5 is:\")\n",
        "print(errLessThanENeg5)\n",
        "assert(errLessThanENeg3 + errLessThanENeg4 + errLessThanENeg5 == 10001)"
      ],
      "execution_count": 0,
      "outputs": [
        {
          "output_type": "stream",
          "text": [
            "The number of errors smaller than E-3 only is:\n",
            "8222\n",
            "The number of errors smaller than E-3 and E-4 only is:\n",
            "1772\n",
            "The number of errors smaller than E-3 and E-4 and E-5 is:\n",
            "7\n"
          ],
          "name": "stdout"
        }
      ]
    },
    {
      "cell_type": "markdown",
      "metadata": {
        "id": "o7RbuYOMBW-Q",
        "colab_type": "text"
      },
      "source": [
        "These are the stability tests for the vector case. We assert that the approximation approaches the zero vector for all values of $u_0$ we used in the model above. Recall that this model has an unique equilibrium point at $u^* = 0$ which is stable because all the eigenvalues of $A$ are negative real numbers ($A$ is upper triangular so its eigenvalues are in its diagonal, i. e., $\\{-1, -1, -1\\}$).\n",
        "\n",
        "Here we use $T = 100$ instead of $T = 10$ to better show the convergence to the zero vector."
      ]
    },
    {
      "cell_type": "code",
      "metadata": {
        "id": "Pcx43fRH9oja",
        "colab_type": "code",
        "outputId": "8dc99caf-5c57-4970-d484-a8990327d94d",
        "colab": {
          "base_uri": "https://localhost:8080/",
          "height": 34
        }
      },
      "source": [
        "# Stability tests\n",
        "assert(\n",
        "  np.linalg.norm(\n",
        "    explicitEuler(100, lambda x, y: np.array([-x[0] + 2*x[1] + x[2], -x[1] - 2*x[2], -x[2]]), np.array([1, 1, 1]), 10000)[0]\n",
        "  ) < 10**(-6)\n",
        ")\n",
        "assert(\n",
        "  np.linalg.norm(\n",
        "    explicitEuler(100, lambda x, y: np.array([-x[0] + 2*x[1] + x[2], -x[1] - 2*x[2], -x[2]]), np.array([-10, -10, -10]), 10000)[0]\n",
        "  ) < 10**(-6)\n",
        ")\n",
        "assert(\n",
        "  np.linalg.norm(\n",
        "    explicitEuler(100, lambda x, y: np.array([-x[0] + 2*x[1] + x[2], -x[1] - 2*x[2], -x[2]]), np.array([0, 0, 0]), 10000)[0]\n",
        "  ) < 10**(-6)\n",
        ")\n",
        "assert(\n",
        "  np.linalg.norm(\n",
        "    explicitEuler(100, lambda x, y: np.array([-x[0] + 2*x[1] + x[2], -x[1] - 2*x[2], -x[2]]), np.array([10, 10, 10]), 10000)[0]\n",
        "  ) < 10**(-6)\n",
        ")\n",
        "\n",
        "print(\"All tests pass!\")"
      ],
      "execution_count": 0,
      "outputs": [
        {
          "output_type": "stream",
          "text": [
            "All tests pass!\n"
          ],
          "name": "stdout"
        }
      ]
    },
    {
      "cell_type": "markdown",
      "metadata": {
        "id": "_4GLBv0zWr7m",
        "colab_type": "text"
      },
      "source": [
        "# **Discussion**"
      ]
    },
    {
      "cell_type": "markdown",
      "metadata": {
        "id": "6bcsDSoRXHZe",
        "colab_type": "text"
      },
      "source": [
        "The results were positive. I think it is very interesting to learn how to implement and test methods that solve problems as ubiquitious as IVPs.\n",
        "\n",
        "In writing all sections of this report I collaborated with Fabián Levicán, and used the lecture notes."
      ]
    }
  ]
}