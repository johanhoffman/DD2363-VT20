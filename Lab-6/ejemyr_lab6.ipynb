{
 "cells": [
  {
   "cell_type": "markdown",
   "metadata": {
    "colab_type": "text",
    "id": "6RgtXlfYO_i7"
   },
   "source": [
    "# **Lab 6: Differential Equations**\n",
    "**Christoffer Ejemyr**"
   ]
  },
  {
   "cell_type": "markdown",
   "metadata": {
    "colab_type": "text",
    "id": "9x_J5FVuPzbm"
   },
   "source": [
    "# **Abstract**"
   ]
  },
  {
   "cell_type": "code",
   "execution_count": 1,
   "metadata": {
    "colab": {
     "base_uri": "https://localhost:8080/",
     "height": 35
    },
    "colab_type": "code",
    "id": "Pdll1Xc9WP0e",
    "outputId": "af578c46-6747-4d24-f123-5ec3d5b4e02e",
    "pycharm": {
     "is_executing": false
    }
   },
   "outputs": [
    {
     "data": {
      "text/plain": [
       "'KTH Royal Institute of Technology, Stockholm, Sweden.'"
      ]
     },
     "execution_count": 1,
     "metadata": {},
     "output_type": "execute_result"
    }
   ],
   "source": [
    "\"\"\"This program is a lab report in the course\"\"\"\n",
    "\"\"\"DD2363 Methods in Scientific Computing, \"\"\"\n",
    "\"\"\"KTH Royal Institute of Technology, Stockholm, Sweden.\"\"\"\n",
    "\n",
    "# Copyright (C) 2020 Christoffer Ejemyr (ejemyr@kth.se)\n",
    "\n",
    "# This file is part of the course DD2363 Methods in Scientific Computing\n",
    "# KTH Royal Institute of Technology, Stockholm, Sweden\n",
    "#\n",
    "# This is free software: you can redistribute it and/or modify\n",
    "# it under the terms of the GNU Lesser General Public License as published by\n",
    "# the Free Software Foundation, either version 3 of the License, or\n",
    "# (at your option) any later version."
   ]
  },
  {
   "cell_type": "markdown",
   "metadata": {},
   "source": [
    "In this lab the accuracy and stability of solvers of ordinary differential equations were investigated. It was found that the implicit euler method was stabile and accurate in both scalar and vector situations."
   ]
  },
  {
   "cell_type": "markdown",
   "metadata": {
    "colab_type": "text",
    "id": "28xLGz8JX3Hh"
   },
   "source": [
    "# **Set up environment**"
   ]
  },
  {
   "cell_type": "markdown",
   "metadata": {
    "colab_type": "text",
    "id": "D2PYNusD08Wa"
   },
   "source": [
    "To have access to the neccessary modules you have to run this cell. If you need additional modules, this is where you add them. "
   ]
  },
  {
   "cell_type": "code",
   "execution_count": 2,
   "metadata": {
    "colab": {},
    "colab_type": "code",
    "id": "Xw7VlErAX7NS",
    "pycharm": {
     "is_executing": false
    }
   },
   "outputs": [],
   "source": [
    "# Load neccessary modules.\n",
    "\n",
    "import time\n",
    "import numpy as np\n",
    "\n",
    "from matplotlib import pyplot as plt\n",
    "from matplotlib import tri\n",
    "from matplotlib import axes\n",
    "from mpl_toolkits.mplot3d import Axes3D\n",
    "from scipy.optimize import newton\n",
    "from scipy.linalg import expm\n",
    "\n",
    "from typing import Callable, Union"
   ]
  },
  {
   "cell_type": "markdown",
   "metadata": {
    "colab_type": "text",
    "id": "gnO3lhAigLev"
   },
   "source": [
    "# **Introduction**\n",
    "\n",
    "In this lab we will investigate the accuracy of solvers of ordinary differential methods (ODE). We will focus on the equation\n",
    "\n",
    "$$\\frac{du}{dt} = Au(t), $$\n",
    "\n",
    "both in the case of scalar as well as vecor functions $u$."
   ]
  },
  {
   "cell_type": "markdown",
   "metadata": {
    "colab_type": "text",
    "id": "WeFO9QMeUOAu"
   },
   "source": [
    "# **Methods**"
   ]
  },
  {
   "cell_type": "markdown",
   "metadata": {
    "colab_type": "text",
    "id": "eD6V_AZXBRaF"
   },
   "source": [
    "## Scalar implicit Euler method\n",
    "\n",
    "We choose to implement the numeric solver with th implicit euler method using the algorithm given in the lecturenote and the newton solver of the scipy package."
   ]
  },
  {
   "cell_type": "code",
   "execution_count": 3,
   "metadata": {
    "colab": {},
    "colab_type": "code",
    "id": "8C1t6EY4F-mB",
    "pycharm": {
     "is_executing": false
    }
   },
   "outputs": [],
   "source": [
    "def scalar_implicit_euler(func: Callable[[float, float], float], u0: float, t_max: float = 100):\n",
    "    dt = 1e-1\n",
    "    \n",
    "    steps = int(t_max / dt) + 1\n",
    "    t, dt = np.linspace(0, t_max, num=steps, retstep=True)\n",
    "    u = np.r_[u0, np.zeros(steps - 1)]\n",
    "    \n",
    "    for i in range(1, len(t)):\n",
    "        u[i] = newton(lambda x: x - u[i - 1] - dt * func(x, t[i]), u[i - 1])\n",
    "        \n",
    "    return u, t"
   ]
  },
  {
   "cell_type": "markdown",
   "metadata": {
    "colab_type": "text",
    "id": "lpZ2U_FRF_gm",
    "pycharm": {
     "name": "#%% md\n"
    }
   },
   "source": [
    "## Test scalar solver\n",
    "To test the solver we compare the itterated solution with a true solution. We test for the differential equation\n",
    "\n",
    "$$\\frac{du}{dt} = \\lambda u(t),$$\n",
    "\n",
    "where $\\lambda < 0$. This ODE has the exact solution $u(t) = u_0 e^{\\lambda t}$ for some initial value $u_0$. We plot both the exact solution and the estimated solution as well as the absolute relative error of the solution. The relative error is defined by\n",
    "\n",
    "$$\\frac{|u_{est} - u_{true}|}{|u_0|}.$$\n",
    "\n",
    "If the estimated solution stabilises over time the solver is stable and if the error approches zero the solution is said to be accurate."
   ]
  },
  {
   "cell_type": "code",
   "execution_count": 4,
   "metadata": {
    "colab": {},
    "colab_type": "code",
    "id": "D9selxBMtIne",
    "pycharm": {
     "is_executing": false,
     "name": "#%%\n"
    }
   },
   "outputs": [],
   "source": [
    "def get_f(A: Union[int, float, np.ndarray]) -> Callable[[float, float], float]:\n",
    "    if isinstance(A, int) or isinstance(A, float):\n",
    "        def f(u: float, t: float) -> float:\n",
    "            return A * u\n",
    "        return f\n",
    "    elif isinstance(A, np.ndarray):\n",
    "        if A.ndim == 2:\n",
    "            def f(u: np.ndarray, t: np.ndarray) -> np.ndarray:\n",
    "                return A.dot(u)\n",
    "            return f\n",
    "        else:\n",
    "            raise TypeError(get_f.__name__ + \" can't take non-matrix array\")\n",
    "    else:\n",
    "        raise TypeError(get_f.__name__ + \" can't take input of type \" + str(type(A)))"
   ]
  },
  {
   "cell_type": "code",
   "execution_count": 5,
   "metadata": {
    "colab": {
     "base_uri": "https://localhost:8080/",
     "height": 265
    },
    "colab_type": "code",
    "id": "apLaADoowcXV",
    "outputId": "98a575c2-bde4-4a1e-8640-a4723aab693c",
    "pycharm": {
     "is_executing": false
    }
   },
   "outputs": [],
   "source": [
    "def test_scalar():\n",
    "    u0_list = [-10, -1, 0, 1, 10]\n",
    "    T = 10\n",
    "    \n",
    "    const = -1\n",
    "    f = get_f(const)\n",
    "    \n",
    "    true_sols, est_sols = [], []\n",
    "    \n",
    "    fig, ax = plt.subplots(2, 1)\n",
    "    \n",
    "    for u0 in u0_list:\n",
    "        est, t = scalar_implicit_euler(f, u0, T)\n",
    "        est_sols.append(est)\n",
    "        true_sols.append(u0 * np.exp(const * t))\n",
    "    \n",
    "    ax[0].set_title(r\"Solutions with estimate\")\n",
    "    for true, est in zip(true_sols, est_sols):\n",
    "        ax[0].plot(t, true, 'k')\n",
    "        ax[0].plot(t, est, 'r--')\n",
    "\n",
    "\n",
    "    ax[1].set_title(r\"Relative error $\\left(\\frac{|est - true|}{u_0}\\right)$\")\n",
    "    for true, est, u0 in zip(true_sols, est_sols, u0_list):\n",
    "        error = abs(est - true)\n",
    "        rel_error = error\n",
    "        if u0 != 0:\n",
    "            rel_error /= abs(u0)\n",
    "        ax[1].plot(t, rel_error, label=r\"$u_0=$\" + str(u0))\n",
    "    ax[1].legend()\n",
    "    plt.show()"
   ]
  },
  {
   "cell_type": "markdown",
   "metadata": {
    "colab_type": "text",
    "id": "8Fv78S_-BVxf"
   },
   "source": [
    "## Implicit Euler for system of equations\n",
    "\n",
    "As with the scalar solution we use the implicit euler method."
   ]
  },
  {
   "cell_type": "code",
   "execution_count": 6,
   "metadata": {
    "colab": {},
    "colab_type": "code",
    "id": "q5ul2HixBcFf",
    "pycharm": {
     "is_executing": false
    }
   },
   "outputs": [],
   "source": [
    "def system_implicit_euler(func: Callable[[np.ndarray, np.ndarray], np.ndarray], u0: np.ndarray, t_max: float):\n",
    "    dt = 1e-1\n",
    "    \n",
    "    steps = int(round(t_max / dt)) + 1\n",
    "    t, dt = np.linspace(0, t_max, num=steps, retstep=True)\n",
    "    u = np.zeros((u0.size, steps))\n",
    "    u[:, 0] = u0\n",
    "    \n",
    "    for i in range(0, len(t) - 1):\n",
    "        u[:, i+1] = newton(lambda x: x - u[:, i] - dt * func(x, t[i]), u[:, i])\n",
    "        \n",
    "    return u, t\n",
    "\n"
   ]
  },
  {
   "cell_type": "markdown",
   "metadata": {},
   "source": [
    "## Test system solver\n",
    "\n",
    "Similar to the scalar case we study the equation\n",
    "\n",
    "$$\\frac{du}{dt} = Au(t).$$\n",
    "\n",
    "To easily be able to have an explicit solution we constrain the matrix $A$ to being diagonalizable ($A = XDX^{-1}$). We also impose the condition that $diag(D) < 0$. Therefor we find the folowing solution:\n",
    "\n",
    "$$\\frac{du}{dt} = Au(t) \\Rightarrow \\frac{du}{dt} = XDX^{-1}u(t) \\Rightarrow u(t) = Xe^{Dt}X^{-1}u_0,$$\n",
    "\n",
    "for some initial vector $u_0$.\n",
    "\n",
    "In the same manner as before we plot the true solution, the estimation and the error. This time we plot the norm of the estimate/solution and the norm of the error. This is done for solutions of random initial vectors $u_0$."
   ]
  },
  {
   "cell_type": "code",
   "execution_count": 7,
   "metadata": {
    "colab": {},
    "colab_type": "code",
    "id": "JyGRSq_cMkCI",
    "pycharm": {
     "is_executing": false
    }
   },
   "outputs": [],
   "source": [
    "def get_true_sol(X: np.ndarray, D: np.ndarray, u0: np.ndarray, t_list: np.ndarray):\n",
    "    return np.array([X.dot(np.diag(np.exp(np.diag(D) * t))).dot(np.linalg.inv(X)).dot(u0) for t in t_list]).T\n",
    "\n",
    "def test_system():\n",
    "    D = np.diag(np.array([-1,-2,-3]))\n",
    "    X = np.array([[1/np.sqrt(2), 0, -1/np.sqrt(2)],[1/np.sqrt(2), 0, 1/np.sqrt(2)],[0, 1, 0]])\n",
    "    A = X.dot(D).dot(np.linalg.inv(X))\n",
    "\n",
    "    u0_list = 10 * (np.random.rand(5, D.shape[0]) - 0.5)\n",
    "    T = 10\n",
    "    \n",
    "    f = lambda u, t: A.dot(u)\n",
    "    \n",
    "    fig, ax = plt.subplots(2, 1)\n",
    "    \n",
    "    for u0 in u0_list:\n",
    "        est, t = system_implicit_euler(f, u0, T)\n",
    "        true = get_true_sol(X, D, u0, t)\n",
    "        \n",
    "        ax[0].set_title(\"Solution\")\n",
    "        ax[0].plot(t, np.linalg.norm(est, axis=0))\n",
    "        ax[1].set_title(\"Error\")\n",
    "        ax[1].plot(t, np.linalg.norm(est - true, axis=0))\n",
    "    \n",
    "    plt.show()"
   ]
  },
  {
   "cell_type": "markdown",
   "metadata": {},
   "source": [
    "## Random stuff"
   ]
  },
  {
   "cell_type": "code",
   "execution_count": 12,
   "metadata": {},
   "outputs": [],
   "source": [
    "def stochastic_trajectory(mu, sigma, t_max:float, dt: float = 1e-1):\n",
    "    steps = int(round(t_max / dt)) + 1\n",
    "    t, dt = np.linspace(0, t_max, num=steps, retstep=True)\n",
    "    x = np.zeros(steps)\n",
    "    for i in range(1, steps):\n",
    "        x[i] = x[i - 1] + mu * dt + sigma * np.random.normal() * np.sqrt(dt)\n",
    "        \n",
    "    return x"
   ]
  },
  {
   "cell_type": "code",
   "execution_count": 13,
   "metadata": {},
   "outputs": [
    {
     "data": {
      "text/plain": [
       "[<matplotlib.lines.Line2D at 0x11c97cb50>]"
      ]
     },
     "execution_count": 13,
     "metadata": {},
     "output_type": "execute_result"
    },
    {
     "data": {
      "image/png": "[encoded data removed]",
      "text/plain": [
       "<Figure size 432x288 with 1 Axes>"
      ]
     },
     "metadata": {
      "needs_background": "light"
     },
     "output_type": "display_data"
    }
   ],
   "source": [
    "mu = 1\n",
    "sigma = 1\n",
    "t_max = 200\n",
    "num_of_traj = 100\n",
    "trajectories = np.array([stochastic_trajectory(mu, sigma, t_max) for _ in range(num_of_traj)])\n",
    "plt.figure()\n",
    "plt.plot(np.mean(trajectories, axis=0))"
   ]
  },
  {
   "cell_type": "markdown",
   "metadata": {},
   "source": [
    "# Result"
   ]
  },
  {
   "cell_type": "code",
   "execution_count": 10,
   "metadata": {},
   "outputs": [
    {
     "data": {
      "image/png": "[encoded data removed]",
      "text/plain": [
       "<Figure size 432x288 with 2 Axes>"
      ]
     },
     "metadata": {
      "needs_background": "light"
     },
     "output_type": "display_data"
    }
   ],
   "source": [
    "test_scalar()"
   ]
  },
  {
   "cell_type": "code",
   "execution_count": 11,
   "metadata": {},
   "outputs": [
    {
     "data": {
      "image/png": "[encoded data removed]",
      "text/plain": [
       "<Figure size 432x288 with 2 Axes>"
      ]
     },
     "metadata": {
      "needs_background": "light"
     },
     "output_type": "display_data"
    }
   ],
   "source": [
    "test_system()"
   ]
  },
  {
   "cell_type": "markdown",
   "metadata": {},
   "source": [
    "# Discussion\n",
    "\n",
    "Looking at the resulting graphs above it is clear that in both the scalar and the systems case the solutions are both accurate (small errors approching zero) and stable (approching constant value)."
   ]
  }
 ],
 "metadata": {
  "colab": {
   "collapsed_sections": [],
   "name": "leoenge_lab6.ipynb",
   "provenance": []
  },
  "kernelspec": {
   "display_name": "Python 3",
   "language": "python",
   "name": "python3"
  },
  "language_info": {
   "codemirror_mode": {
    "name": "ipython",
    "version": 3
   },
   "file_extension": ".py",
   "mimetype": "text/x-python",
   "name": "python",
   "nbconvert_exporter": "python",
   "pygments_lexer": "ipython3",
   "version": "3.8.1"
  },
  "pycharm": {
   "stem_cell": {
    "cell_type": "raw",
    "metadata": {
     "collapsed": false
    },
    "source": []
   }
  }
 },
 "nbformat": 4,
 "nbformat_minor": 1
}
